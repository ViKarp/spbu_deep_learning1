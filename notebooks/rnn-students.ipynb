{
 "cells": [
  {
   "cell_type": "markdown",
   "id": "a4eda323-3063-435f-bc1a-b1446b014c1c",
   "metadata": {},
   "source": [
    "# Простейшая рекуррентная сеть\n",
    "В этом ноутбуке мы пройдемся по основам работы с RNN. Сегодня займемся задачей генерации текста. "
   ]
  },
  {
   "cell_type": "code",
   "id": "70d8b089-5f9c-4dcb-8b14-3f565c24e438",
   "metadata": {
    "ExecuteTime": {
     "end_time": "2024-12-01T12:37:33.677689Z",
     "start_time": "2024-12-01T12:37:32.327974Z"
    }
   },
   "source": [
    "import warnings\n",
    "from typing import Iterable, Tuple\n",
    "import torch\n",
    "from tqdm.notebook import tqdm\n",
    "import matplotlib.pyplot as plt\n",
    "import seaborn as sns\n",
    "from tqdm.notebook import tqdm\n",
    "from IPython.display import clear_output\n",
    "from torch.utils.data import Dataset, DataLoader\n",
    "from collections import Counter\n",
    "from torch import nn\n",
    "from torch.nn.utils.rnn import pack_padded_sequence, pad_packed_sequence\n",
    "from torch.distributions.categorical import Categorical\n",
    "\n",
    "warnings.filterwarnings(\"ignore\")"
   ],
   "outputs": [],
   "execution_count": 1
  },
  {
   "cell_type": "markdown",
   "id": "198424b3-07c0-4b46-83f0-8bbb53acacd4",
   "metadata": {},
   "source": [
    "В качестве обучающего датасета возьмем набор из 120 тысяч анекдотов на русском языке. \n",
    "[Ссылка на данные](https://archive.org/download/120_tysyach_anekdotov) и [пост на хабре про тематическое моделирование](https://habr.com/ru/companies/otus/articles/723306/)"
   ]
  },
  {
   "cell_type": "code",
   "id": "b5fda8b3-2e4b-4385-aad5-b10ad73a5d35",
   "metadata": {
    "ExecuteTime": {
     "end_time": "2024-12-01T12:37:33.770881Z",
     "start_time": "2024-12-01T12:37:33.684203Z"
    }
   },
   "source": [
    "with open(r\"../additional_materials/anek_djvu.txt\", \"r\", encoding=\"utf-8\") as f:\n",
    "    text = f.read()\n",
    "text[118:500]"
   ],
   "outputs": [
    {
     "data": {
      "text/plain": [
       "'|startoftext|>Друзья мои, чтобы соответствовать вам, я готов сделать над собой усилие и стать лучше. Но тогда и вы станьте немного хуже!\\n\\n<|startoftext|>- Люся, ты все еще хранишь мой подарок?- Да.- Я думал, ты выкинула все, что со мной связано.- Плюшевый мишка не виноват, что ты ебл@н...\\n\\n<|startoftext|>- А вот скажи честно, ты во сне храпишь?- Понятие не имею, вроде, нет. От со'"
      ]
     },
     "execution_count": 2,
     "metadata": {},
     "output_type": "execute_result"
    }
   ],
   "execution_count": 2
  },
  {
   "cell_type": "markdown",
   "id": "007f21a5-c7e3-445f-b902-24e18242bd7b",
   "metadata": {},
   "source": [
    "Мы не хотим моделировать все подряд, поэтому разобьем датасет на отдельные анекдоты.  "
   ]
  },
  {
   "cell_type": "code",
   "id": "fddd3f65-a156-4bbd-8c56-078652d38ac2",
   "metadata": {
    "ExecuteTime": {
     "end_time": "2024-12-01T12:37:34.205721Z",
     "start_time": "2024-12-01T12:37:34.190687Z"
    }
   },
   "source": [
    "def cut_data(text):\n",
    "    return text.replace(\"\\n\\n\", \"\").split(\"<|startoftext|>\")[1:]"
   ],
   "outputs": [],
   "execution_count": 3
  },
  {
   "cell_type": "code",
   "id": "3ae42013-ef71-485c-805e-8cc4c61fe6f7",
   "metadata": {
    "ExecuteTime": {
     "end_time": "2024-12-01T12:37:34.268416Z",
     "start_time": "2024-12-01T12:37:34.222236Z"
    }
   },
   "source": [
    "cut_text = cut_data(text)"
   ],
   "outputs": [],
   "execution_count": 4
  },
  {
   "cell_type": "code",
   "id": "67e8e214-e40c-4705-beb4-f51a6a284137",
   "metadata": {
    "ExecuteTime": {
     "end_time": "2024-12-01T12:37:34.299962Z",
     "start_time": "2024-12-01T12:37:34.285447Z"
    }
   },
   "source": [
    "cut_text[1:6]"
   ],
   "outputs": [
    {
     "data": {
      "text/plain": [
       "['Друзья мои, чтобы соответствовать вам, я готов сделать над собой усилие и стать лучше. Но тогда и вы станьте немного хуже!',\n",
       " '- Люся, ты все еще хранишь мой подарок?- Да.- Я думал, ты выкинула все, что со мной связано.- Плюшевый мишка не виноват, что ты ебл@н...',\n",
       " '- А вот скажи честно, ты во сне храпишь?- Понятие не имею, вроде, нет. От собственного храпа по крайней мере еще ни разу не просыпался.- Ну, так у жены спроси.- А жена и подавно не знает. У нее странная привычка после замужества возникла: как спать ложится - беруши вставляет.',\n",
       " 'Поссорилась с мужем. Пока он спал, я мысленно развелась с ним, поделила имущество, переехала, поняла, что жить без него не могу, дала последний шанс, вернулась. В итоге, ложусь спать уже счастливой женщиной.',\n",
       " 'Если тебя посещают мысли о смерти - это еще полбеды. Беда - это когда смерть посещают мысли о тебе...']"
      ]
     },
     "execution_count": 5,
     "metadata": {},
     "output_type": "execute_result"
    }
   ],
   "execution_count": 5
  },
  {
   "cell_type": "markdown",
   "id": "282f6226-74c6-4488-a7bc-9360437e1b1f",
   "metadata": {},
   "source": [
    "Сделаем для начала самую простую модель с токенами на уровне символов. Это значит, что каждому символу в тексте ставится в соответствие некоторое число. Некоторые способы токенизации используют части слов или, наоборот, части бинарного представления текста."
   ]
  },
  {
   "cell_type": "code",
   "id": "3e923efb-a3d5-4e22-b8e0-8bf6260d1e71",
   "metadata": {
    "ExecuteTime": {
     "end_time": "2024-12-01T12:37:34.687441Z",
     "start_time": "2024-12-01T12:37:34.316991Z"
    }
   },
   "source": [
    "unique_chars = tuple(set(text))\n",
    "int2char = dict(enumerate(unique_chars))\n",
    "char2int = {ch: ii for ii, ch in int2char.items()}\n"
   ],
   "outputs": [],
   "execution_count": 6
  },
  {
   "cell_type": "markdown",
   "id": "f99fa447-208d-4285-bb76-0870e985ce58",
   "metadata": {},
   "source": [
    "Напишем функции для энкодинга и декодинга нашего текста. Они будут преобразовывать список символов в список чисел и обратно."
   ]
  },
  {
   "cell_type": "code",
   "id": "97704441-98c6-4c16-b0c2-10b88f941c7e",
   "metadata": {
    "ExecuteTime": {
     "end_time": "2024-12-01T12:37:34.718971Z",
     "start_time": "2024-12-01T12:37:34.704462Z"
    }
   },
   "source": [
    "def encode(sentence, vocab):\n",
    "    return [vocab[sys] for sys in sentence] # List of ints \n",
    "\n",
    "def decode(tokens, vocab):\n",
    "    return [vocab[toc] for toc in tokens]# list of strings"
   ],
   "outputs": [],
   "execution_count": 7
  },
  {
   "cell_type": "code",
   "id": "9d0b4340-44bb-45ab-8cfe-972c9cfd410e",
   "metadata": {
    "ExecuteTime": {
     "end_time": "2024-12-01T12:37:34.749597Z",
     "start_time": "2024-12-01T12:37:34.735004Z"
    }
   },
   "source": "encode(cut_text[0], char2int)",
   "outputs": [
    {
     "data": {
      "text/plain": [
       "[208,\n",
       " 78,\n",
       " 106,\n",
       " 123,\n",
       " 80,\n",
       " 78,\n",
       " 122,\n",
       " 111,\n",
       " 149,\n",
       " 71,\n",
       " 142,\n",
       " 144,\n",
       " 197,\n",
       " 106,\n",
       " 27,\n",
       " 122,\n",
       " 12,\n",
       " 144,\n",
       " 78,\n",
       " 122,\n",
       " 14,\n",
       " 106,\n",
       " 78,\n",
       " 16,\n",
       " 78,\n",
       " 122,\n",
       " 82,\n",
       " 105,\n",
       " 69,\n",
       " 191,\n",
       " 143,\n",
       " 78,\n",
       " 82,\n",
       " 122,\n",
       " 143,\n",
       " 149,\n",
       " 94,\n",
       " 197,\n",
       " 191,\n",
       " 149,\n",
       " 142,\n",
       " 144,\n",
       " 14,\n",
       " 98,\n",
       " 122,\n",
       " 14,\n",
       " 149,\n",
       " 71,\n",
       " 197,\n",
       " 71,\n",
       " 197,\n",
       " 122,\n",
       " 9,\n",
       " 142,\n",
       " 143,\n",
       " 144,\n",
       " 191,\n",
       " 149,\n",
       " 106,\n",
       " 123,\n",
       " 143,\n",
       " 207,\n",
       " 71,\n",
       " 197,\n",
       " 122,\n",
       " 80,\n",
       " 106,\n",
       " 149,\n",
       " 16,\n",
       " 197,\n",
       " 140,\n",
       " 149,\n",
       " 71,\n",
       " 197,\n",
       " 35,\n",
       " 122,\n",
       " 91,\n",
       " 149,\n",
       " 80,\n",
       " 122,\n",
       " 16,\n",
       " 14,\n",
       " 142,\n",
       " 122,\n",
       " 105,\n",
       " 191,\n",
       " 78,\n",
       " 65,\n",
       " 204,\n",
       " 71,\n",
       " 149,\n",
       " 143,\n",
       " 78,\n",
       " 27,\n",
       " 122,\n",
       " 94,\n",
       " 106,\n",
       " 197,\n",
       " 143,\n",
       " 3]"
      ]
     },
     "execution_count": 8,
     "metadata": {},
     "output_type": "execute_result"
    }
   ],
   "execution_count": 8
  },
  {
   "cell_type": "markdown",
   "id": "017baeba-1197-4d21-8cc8-28ccf43262c5",
   "metadata": {},
   "source": [
    "Просто представления символов в виде числа не подходят для обучения моделей. На выходе должны быть вероятности всех возможных токенов из словаря. Поэтому модели удобно учить с помощью энтропии. К тому же, токены часто преобразуют из исходного представления в эмбеддинги, которые также позволяют получить более удобное представление в высокоразмерном пространстве. \n",
    "\n",
    "В итоге векторы в модели выглядят следующим образом:\n",
    "![alt_text](../additional_materials/images/char_rnn.jfif)\n",
    "\n",
    "Задание: реализуйте метод, который преобразует батч в бинарное представление."
   ]
  },
  {
   "cell_type": "code",
   "id": "e692112f-edea-4e18-b48b-5aec75f935d4",
   "metadata": {
    "ExecuteTime": {
     "end_time": "2024-12-01T12:37:34.827813Z",
     "start_time": "2024-12-01T12:37:34.817237Z"
    }
   },
   "source": [
    "def one_hot_encode(int_words: torch.Tensor, vocab_size: int) -> torch.Tensor:\n",
    "    \"\"\"\n",
    "    Encodes a batch of sentences (integer indices) into binary one-hot representation.\n",
    "    \n",
    "    Args:\n",
    "        int_words (torch.Tensor): Tensor of size (batch_size, seq_len) containing word indices.\n",
    "        vocab_size (int): Size of the vocabulary.\n",
    "\n",
    "    Returns:\n",
    "        torch.Tensor: One-hot encoded tensor of size (batch_size, seq_len, vocab_size).\n",
    "    \"\"\"\n",
    "    words_one_hot = torch.zeros(\n",
    "        (int_words.numel(), vocab_size), dtype=torch.float32, device=int_words.device\n",
    "    )\n",
    "    words_one_hot[torch.arange(words_one_hot.shape[0]), int_words.flatten().long()] = 1.0\n",
    "    words_one_hot = words_one_hot.reshape((*int_words.shape, vocab_size))\n",
    "    return words_one_hot\n"
   ],
   "outputs": [],
   "execution_count": 9
  },
  {
   "cell_type": "markdown",
   "id": "88488683-6df3-430e-b942-9c10548a1802",
   "metadata": {},
   "source": [
    "Проверьте ваш код."
   ]
  },
  {
   "cell_type": "code",
   "id": "af941c64-cc6d-41b4-92e3-a8f37b861545",
   "metadata": {
    "ExecuteTime": {
     "end_time": "2024-12-01T12:37:35.248811Z",
     "start_time": "2024-12-01T12:37:35.235298Z"
    }
   },
   "source": [
    "test_seq = torch.tensor([[2, 6, 4, 1], [0,3, 2, 4]])\n",
    "test_one_hot = one_hot_encode(test_seq, 8)\n",
    "\n",
    "print(test_one_hot)"
   ],
   "outputs": [
    {
     "name": "stdout",
     "output_type": "stream",
     "text": [
      "tensor([[[0., 0., 1., 0., 0., 0., 0., 0.],\n",
      "         [0., 0., 0., 0., 0., 0., 1., 0.],\n",
      "         [0., 0., 0., 0., 1., 0., 0., 0.],\n",
      "         [0., 1., 0., 0., 0., 0., 0., 0.]],\n",
      "\n",
      "        [[1., 0., 0., 0., 0., 0., 0., 0.],\n",
      "         [0., 0., 0., 1., 0., 0., 0., 0.],\n",
      "         [0., 0., 1., 0., 0., 0., 0., 0.],\n",
      "         [0., 0., 0., 0., 1., 0., 0., 0.]]])\n"
     ]
    }
   ],
   "execution_count": 10
  },
  {
   "cell_type": "markdown",
   "id": "8da82134-e59d-4806-be2c-839c2f850ee6",
   "metadata": {},
   "source": [
    "Однако, наши последовательности на самом деле разной длины. Как же объединить их в батч?"
   ]
  },
  {
   "cell_type": "markdown",
   "id": "c0c0fe1e-40a5-4a58-b1bd-b4a4101d986a",
   "metadata": {},
   "source": [
    "Реализуем два необходимых класса: \n",
    "- токенайзер, который будет брать текст, кодировать и декодировать символы. Еще одно, что будет реализовано там - добавлено несколько специальных символов (паддинг, конец последовательности, начало последовательности).\n",
    "- Датасет, который будет брать набор шуток, используя токенайзер, строить эмбеддинги и дополнять последовательность до максимальной длины."
   ]
  },
  {
   "cell_type": "code",
   "id": "69d266c8-b4d0-42fd-9c6c-02b7f3b9a4bb",
   "metadata": {
    "ExecuteTime": {
     "end_time": "2024-12-01T12:37:36.167853Z",
     "start_time": "2024-12-01T12:37:36.153288Z"
    }
   },
   "source": [
    "class Tokenizer:\n",
    "    def __init__(self, cut_text, max_len: int = 512):\n",
    "        self.text = text\n",
    "        self.max_len = max_len\n",
    "        self.specials = ['<pad>', '<bos>', '<eos>']\n",
    "        unique_chars = tuple(set(text))\n",
    "        self.int2char = dict(enumerate(tuple(set(text))))\n",
    "        self.char2int = {ch: ii for ii, ch in int2char.items()}\n",
    "        self._add_special(\"<pad>\")\n",
    "        self._add_special('<bos>')\n",
    "        self._add_special('<eos>')\n",
    "    \n",
    "    def _add_special(self, symbol) -> None:\n",
    "        # add special characters to yuor dicts\n",
    "        sym_num = len(self.char2int)\n",
    "        self.char2int[symbol] = sym_num\n",
    "        self.int2char[sym_num] = symbol\n",
    "\n",
    "    @property\n",
    "    def vocab_size(self):\n",
    "        return len(self.int2char) # your code\n",
    "        \n",
    "    def decode_symbol(self, el):\n",
    "        return self.int2char[el]\n",
    "        \n",
    "    def encode_symbol(self, el):\n",
    "        return self.char2int[el]\n",
    "        \n",
    "    def str_to_idx(self, chars):\n",
    "        return [self.char2int[sym] for sym in chars] # str -> list[int]\n",
    "\n",
    "    def idx_to_str(self, idx):\n",
    "        return [self.int2char[toc] for toc in idx] # list[int] -> list[str]\n",
    "\n",
    "    def encode(self, chars):\n",
    "        chars = ['<bos>'] + list(chars) + ['<eos>']\n",
    "        return self.str_to_idx(chars)\n",
    "\n",
    "    def decode(self, idx):\n",
    "        chars = self.idx_to_str(idx)\n",
    "        return \"\".join(chars) # make string from list"
   ],
   "outputs": [],
   "execution_count": 11
  },
  {
   "cell_type": "code",
   "id": "b8a76399-0ae4-4d4f-9d95-56d695eb7f0c",
   "metadata": {
    "ExecuteTime": {
     "end_time": "2024-12-01T16:43:21.159350Z",
     "start_time": "2024-12-01T16:43:21.131409Z"
    }
   },
   "source": [
    "class JokesDataset(Dataset):\n",
    "    def __init__(self, tokenizer, cut_text, max_len: int = 512):\n",
    "        self.max_len = max_len\n",
    "        self.tokenizer = tokenizer\n",
    "        self.cut_text = cut_text\n",
    "        self.pad_index = self.tokenizer.encode(\"<pad>\")\n",
    "    \n",
    "    def __len__(self):\n",
    "        return len(self.cut_text)\n",
    "    \n",
    "    def __getitem__(self, idx):\n",
    "        text = self.cut_text[idx]\n",
    "        encoded = self.tokenizer.encode(text)\n",
    "        encoded = encoded[:self.max_len]  # Ограничиваем длину\n",
    "        input_sequence = torch.full((self.max_len,), self.pad_index, dtype=torch.long)\n",
    "        target_sequence = torch.full((self.max_len,), self.pad_index, dtype=torch.long)\n",
    "        \n",
    "        # Заполняем входную и целевую последовательность\n",
    "        input_sequence[:len(encoded) - 1] = torch.tensor(encoded[:-1])\n",
    "        target_sequence[1:len(encoded)] = torch.tensor(encoded[1:])\n",
    "        \n",
    "        return input_sequence, target_sequence"
   ],
   "outputs": [],
   "execution_count": 60
  },
  {
   "cell_type": "code",
   "id": "af9e66a2-d196-459f-a88a-94bc119873e0",
   "metadata": {
    "ExecuteTime": {
     "end_time": "2024-12-01T12:37:38.338781Z",
     "start_time": "2024-12-01T12:37:37.623283Z"
    }
   },
   "source": [
    "tokenizer = Tokenizer(text)\n",
    "dataset = JokesDataset(tokenizer, cut_text, 512)\n",
    "dataloader = DataLoader(dataset, batch_size=16, shuffle=True)"
   ],
   "outputs": [],
   "execution_count": 13
  },
  {
   "cell_type": "markdown",
   "id": "2c72173d-d38b-4d4c-a98e-878267c0fd87",
   "metadata": {},
   "source": [
    "Вопрос: А как бы мы должны были разделять данные на последовательности и батчи в случае, если бы использовался сплошной текст?"
   ]
  },
  {
   "cell_type": "code",
   "id": "182387e9-9768-42b2-b428-16d73b24b07f",
   "metadata": {
    "ExecuteTime": {
     "end_time": "2024-12-01T12:37:38.415316Z",
     "start_time": "2024-12-01T12:37:38.402792Z"
    }
   },
   "source": [
    "for batch in dataloader:\n",
    "    break\n",
    "batch[1].shape"
   ],
   "outputs": [
    {
     "data": {
      "text/plain": [
       "torch.Size([16, 512])"
      ]
     },
     "execution_count": 14,
     "metadata": {},
     "output_type": "execute_result"
    }
   ],
   "execution_count": 14
  },
  {
   "cell_type": "markdown",
   "id": "a9bf1f16-53d0-45a6-abd5-1a4c5b17285f",
   "metadata": {},
   "source": [
    "Теперь реализуем нашу модель. \n",
    "Необходимо следующее:\n",
    " - Используя токенайзер, задать размер словаря\n",
    " - Задать слой RNN с помощью torch.RNN. Доп.задание: создайте модель, используя слой LSTM.\n",
    " - Задать полносвязный слой с набором параметров: размерность ввода — n_hidden; размерность выхода — размер словаря. Этот слой преобразует состояние модели в логиты токенов.\n",
    " - Определить шаг forward, который будет использоваться при обучении\n",
    " - Определить метод init_hidden, который будет задавать начальное внутреннее состояние. Инициализировать будем нулями.\n",
    " - Определить метод inference, в котором будет происходить генерация последовательности из префикса. Здесь мы уже не используем явные логиты, а семплируем токены на их основе.\n"
   ]
  },
  {
   "cell_type": "code",
   "id": "8cc03daf-9a78-4d34-a8da-c1aed594b60a",
   "metadata": {
    "ExecuteTime": {
     "end_time": "2024-12-01T12:37:39.036729Z",
     "start_time": "2024-12-01T12:37:39.018699Z"
    }
   },
   "source": [
    "import torch\n",
    "from torch import nn\n",
    "from torch.nn.utils.rnn import pack_padded_sequence, pad_packed_sequence\n",
    "from typing import Tuple\n",
    "\n",
    "class CharRNN(nn.Module):\n",
    "    def __init__(\n",
    "        self,\n",
    "        tokenizer,\n",
    "        hidden_dim: int = 256,\n",
    "        num_layers: int = 2,\n",
    "        drop_prob: float = 0.5,\n",
    "        max_len: int = 512,\n",
    "    ) -> None:\n",
    "        super().__init__()\n",
    "        self.hidden_dim = hidden_dim\n",
    "        self.num_layers = num_layers\n",
    "        self.drop_prob = drop_prob\n",
    "        self.max_len = max_len\n",
    "        \n",
    "        # Токенизатор для кодирования и декодирования\n",
    "        self.tokenizer = tokenizer\n",
    "        self.vocab_size = tokenizer.vocab_size # размер словаря\n",
    "        \n",
    "        # RNN (или LSTM) слой\n",
    "        self.rnn = nn.LSTM(\n",
    "            input_size=self.vocab_size,\n",
    "            hidden_size=self.hidden_dim,\n",
    "            num_layers=self.num_layers,\n",
    "            dropout=self.drop_prob,\n",
    "            batch_first=True,\n",
    "        )\n",
    "        \n",
    "        # Dropout для регуляризации\n",
    "        self.dropout = nn.Dropout(self.drop_prob)\n",
    "        \n",
    "        # Полносвязный слой: преобразует состояние RNN в логиты\n",
    "        self.fc = nn.Linear(self.hidden_dim, self.vocab_size)\n",
    "\n",
    "    def forward(self, x: torch.Tensor, lengths: torch.Tensor) -> Tuple[torch.Tensor, Tuple[torch.Tensor, torch.Tensor]]:\n",
    "        # One-hot кодирование входной последовательности\n",
    "        x = one_hot_encode(x, vocab_size=self.vocab_size)\n",
    "        \n",
    "        # Упаковка последовательностей для эффективности\n",
    "        packed_embeds = pack_padded_sequence(x, lengths.cpu(), batch_first=True, enforce_sorted=False)\n",
    "        \n",
    "        # Прогон через LSTM\n",
    "        packed_outputs, hidden = self.rnn(packed_embeds)\n",
    "        \n",
    "        # Распаковка выхода обратно в тензор\n",
    "        outputs, _ = pad_packed_sequence(packed_outputs, batch_first=True)\n",
    "        \n",
    "        # Dropout для регуляризации\n",
    "        outputs = self.dropout(outputs)\n",
    "        \n",
    "        # Преобразование выхода RNN в логиты\n",
    "        logits = self.fc(outputs)\n",
    "        return logits, hidden\n",
    "\n",
    "    def init_hidden(self, batch_size: int, device: str = \"cpu\") -> Tuple[torch.Tensor, torch.Tensor]:\n",
    "        # Инициализация начального скрытого состояния нулями\n",
    "        h0 = torch.zeros(self.num_layers, batch_size, self.hidden_dim, device=device)\n",
    "        c0 = torch.zeros(self.num_layers, batch_size, self.hidden_dim, device=device)\n",
    "        return h0, c0\n",
    "\n",
    "    def inference(self, prefix=\"<bos> \", device=\"cpu\"):\n",
    "        # Кодирование начального префикса\n",
    "        tokens = torch.tensor(self.tokenizer.encode(prefix), dtype=torch.long, device=device).unsqueeze(0)\n",
    "        \n",
    "        # Создание one-hot представления\n",
    "        inputs = one_hot_encode(tokens, vocab_size=self.vocab_size)\n",
    "        \n",
    "        # Инициализация скрытого состояния\n",
    "        hidden = self.init_hidden(batch_size=1, device=device)\n",
    "        \n",
    "        # Генерация префикса\n",
    "        outputs, hidden = self.rnn(inputs, hidden)\n",
    "        logits = self.fc(outputs)\n",
    "        \n",
    "        # Семплирование токена\n",
    "        probs = torch.softmax(logits[:, -1, :], dim=-1)\n",
    "        new_token = torch.multinomial(probs, num_samples=1)\n",
    "        tokens = torch.cat([tokens, new_token], dim=1)\n",
    "        \n",
    "        # Остановка: достижение максимальной длины или EOS-токена\n",
    "        while tokens.size(1) < self.max_len and new_token.item() != self.tokenizer.encode('<eos>'):\n",
    "            inputs = one_hot_encode(new_token, vocab_size=self.vocab_size)\n",
    "            outputs, hidden = self.rnn(inputs, hidden)\n",
    "            logits = self.fc(outputs)\n",
    "            probs = torch.softmax(logits[:, -1, :], dim=-1)\n",
    "            new_token = torch.multinomial(probs, num_samples=1)\n",
    "            tokens = torch.cat([tokens, new_token], dim=1)\n",
    "        \n",
    "        # Декодирование в строку\n",
    "        return self.tokenizer.decode(tokens.squeeze().tolist())"
   ],
   "outputs": [],
   "execution_count": 15
  },
  {
   "cell_type": "markdown",
   "id": "1202bfda-3653-4644-8fcc-eda9e92e434f",
   "metadata": {},
   "source": [
    "Зададим параметры для обучения. Можете варьировать их, чтобы вам хватило ресурсов."
   ]
  },
  {
   "cell_type": "code",
   "id": "173284d2-1d28-4235-a3ac-e25494039e08",
   "metadata": {
    "ExecuteTime": {
     "end_time": "2024-12-01T12:37:40.568082Z",
     "start_time": "2024-12-01T12:37:40.554521Z"
    }
   },
   "source": [
    "batch_size = 16\n",
    "seq_length = 512\n",
    "n_hidden = 128\n",
    "n_layers = 6\n",
    "drop_prob = 0.1\n",
    "lr = 0.1"
   ],
   "outputs": [],
   "execution_count": 16
  },
  {
   "cell_type": "markdown",
   "id": "8329823d-abd8-4044-8206-470f07b6da62",
   "metadata": {},
   "source": [
    "Напишите функцию для одного тренировочного шага. В этом ноутбуке сам процесс обучения модели достаточно тривиален, поэтому мы не будем использовать сложные функции для обучающего цикла. Вы же, однако, можете дописать их."
   ]
  },
  {
   "cell_type": "code",
   "id": "737cb10c-1da8-43fc-b332-1b53f4fb6e09",
   "metadata": {
    "ExecuteTime": {
     "end_time": "2024-12-01T12:37:41.606475Z",
     "start_time": "2024-12-01T12:37:41.600157Z"
    }
   },
   "source": [
    "def training_step(\n",
    "    model: CharRNN,\n",
    "    train_batch: Tuple[torch.Tensor, torch.Tensor],\n",
    "    vocab_size: int,\n",
    "    criterion: nn.Module,\n",
    "    optimizer,\n",
    "    device=\"cpu\"\n",
    ") -> torch.Tensor:\n",
    "    # Обнуляем градиенты\n",
    "    optimizer.zero_grad()\n",
    "\n",
    "    # Извлекаем данные из пакета\n",
    "    inputs, targets = train_batch\n",
    "    batch_size, seq_len = inputs.shape\n",
    "\n",
    "    # Переносим данные на нужное устройство (например, GPU)\n",
    "    inputs, targets = inputs.to(device), targets.to(device)\n",
    "\n",
    "    # Прямой проход через модель\n",
    "    lengths = (inputs != 0).sum(dim=1)  # или другая логика для определения длин\n",
    "    logits, _ = model(inputs, lengths)  # Получаем логиты от модели\n",
    "\n",
    "    # Переходим от логитов к потере\n",
    "    # targets нужно сдвигать на 1, чтобы правильно сравнить предсказания и настоящие метки\n",
    "    loss = criterion(logits.view(-1, vocab_size), targets.view(-1))\n",
    "\n",
    "    # Обратный проход\n",
    "    loss.backward()\n",
    "\n",
    "    # Обновление весов\n",
    "    optimizer.step()\n",
    "\n",
    "    return loss\n"
   ],
   "outputs": [],
   "execution_count": 17
  },
  {
   "cell_type": "markdown",
   "id": "d1055e6e-6374-4af3-b1ab-8ad8b4125664",
   "metadata": {},
   "source": [
    "Инициализируйте модель, функцию потерь и оптимизатор."
   ]
  },
  {
   "cell_type": "code",
   "id": "f85fc024-7cec-4833-ac15-cafe05724003",
   "metadata": {
    "ExecuteTime": {
     "end_time": "2024-12-01T12:43:46.584239Z",
     "start_time": "2024-12-01T12:43:46.560356Z"
    }
   },
   "source": [
    "model = CharRNN(tokenizer, n_hidden, n_layers, drop_prob).to('cuda')\n",
    "hidden = None\n",
    "criterion = nn.CrossEntropyLoss()\n",
    "optimizer = torch.optim.Adam(model.parameters(), lr=1e-2)\n"
   ],
   "outputs": [],
   "execution_count": 24
  },
  {
   "cell_type": "markdown",
   "id": "a140de0c-e648-4d9f-babf-659486dbae92",
   "metadata": {},
   "source": [
    "Проверьте необученную модель: она должна выдавать бессмысленные последовательности"
   ]
  },
  {
   "cell_type": "code",
   "id": "80d26fdb-5292-41c4-83df-e8feb3a22561",
   "metadata": {
    "ExecuteTime": {
     "end_time": "2024-12-01T12:43:47.876113Z",
     "start_time": "2024-12-01T12:43:47.779976Z"
    }
   },
   "source": [
    "model.eval()  # Переключаем модель в режим оценки (inference)\n",
    "\n",
    "# Шаг 3: Генерация текста\n",
    "prefix = \"<bos> \"  # Начальный токен последовательности\n",
    "generated_sequence = model.inference(prefix=prefix, device=\"cuda\")\n",
    "\n",
    "# Шаг 4: Вывод результата\n",
    "print(\"Сгенерированная последовательность необученной моделью:\")\n",
    "print(generated_sequence)\n"
   ],
   "outputs": [
    {
     "name": "stdout",
     "output_type": "stream",
     "text": [
      "Сгенерированная последовательность необученной моделью:\n",
      "<bos><bos> <eos>СЖ事☺老人新AπМhаЦ́的fj<eos>\n"
     ]
    }
   ],
   "execution_count": 25
  },
  {
   "cell_type": "code",
   "id": "37263cdf-5a6c-4612-8cf9-57105c169943",
   "metadata": {
    "ExecuteTime": {
     "end_time": "2024-12-01T12:43:48.062270Z",
     "start_time": "2024-12-01T12:43:48.044879Z"
    }
   },
   "source": [
    "def plot_losses(losses):\n",
    "    clear_output()\n",
    "    plt.plot(range(1, len(losses) + 1), losses)\n",
    "    plt.xlabel('epoch')\n",
    "    plt.ylabel('loss')\n",
    "    plt.show()"
   ],
   "outputs": [],
   "execution_count": 26
  },
  {
   "cell_type": "markdown",
   "id": "44f70324-c88a-4d98-bae6-e6c5356f2025",
   "metadata": {},
   "source": [
    "Проведите обучение на протяжении нескольких эпох и выведите график лоссов."
   ]
  },
  {
   "metadata": {
    "ExecuteTime": {
     "end_time": "2024-12-01T12:43:48.542026Z",
     "start_time": "2024-12-01T12:43:48.523247Z"
    }
   },
   "cell_type": "code",
   "source": [
    "for train_batch in dataloader:\n",
    "    inputs, targets = train_batch\n",
    "    print(f\"Inputs shape: {inputs.shape}\")\n",
    "    print(f\"Targets shape: {targets.shape}\")\n",
    "    print(targets)\n",
    "    break"
   ],
   "id": "6ebeea1a4cdb8e75",
   "outputs": [
    {
     "name": "stdout",
     "output_type": "stream",
     "text": [
      "Inputs shape: torch.Size([16, 512])\n",
      "Targets shape: torch.Size([16, 512])\n",
      "tensor([[214,  91, 191,  ..., 214, 214, 214],\n",
      "        [214,  20, 149,  ..., 214, 214, 214],\n",
      "        [214,  20, 149,  ..., 214, 214, 214],\n",
      "        ...,\n",
      "        [214, 187, 149,  ..., 214, 214, 214],\n",
      "        [214,  20, 142,  ..., 214, 214, 214],\n",
      "        [214, 151,  14,  ..., 214, 214, 214]])\n"
     ]
    }
   ],
   "execution_count": 27
  },
  {
   "metadata": {
    "ExecuteTime": {
     "end_time": "2024-12-01T12:43:48.823543Z",
     "start_time": "2024-12-01T12:43:48.809985Z"
    }
   },
   "cell_type": "code",
   "source": [
    "for batch_idx, train_batch in enumerate(dataloader):\n",
    "    inputs, targets = train_batch\n",
    "    print(f\"Batch {batch_idx}: Inputs shape = {inputs.shape}, Targets shape = {targets.shape}\")\n",
    "    break"
   ],
   "id": "eb2084ae344e7020",
   "outputs": [
    {
     "name": "stdout",
     "output_type": "stream",
     "text": [
      "Batch 0: Inputs shape = torch.Size([16, 512]), Targets shape = torch.Size([16, 512])\n"
     ]
    }
   ],
   "execution_count": 28
  },
  {
   "cell_type": "code",
   "id": "57059744-44ac-4aad-86f6-f67dc2ea7600",
   "metadata": {},
   "source": [
    "losses = []\n",
    "num_epochs = 5\n",
    "\n",
    "# Основной цикл обучения\n",
    "for epoch in range(1, num_epochs + 1):\n",
    "    epoch_loss = 0.0  # Суммарные потери за эпоху\n",
    "    model.train()  # Переключение в режим тренировки\n",
    "\n",
    "    for batch_idx, train_batch in enumerate(dataloader):  # train_loader — DataLoader с батчами\n",
    "        loss = training_step(model, train_batch, tokenizer.vocab_size, criterion, optimizer, device='cuda')\n",
    "        losses.append(loss.item())  # Запись потерь\n",
    "        epoch_loss += loss.item()\n",
    "\n",
    "        # Логгирование каждые 100 батчей\n",
    "        if (batch_idx + 1) % 100 == 0:\n",
    "            print(f\"Epoch [{epoch}/{num_epochs}], Step [{batch_idx + 1}], Loss: {loss.item():.4f}\")\n",
    "\n",
    "    # Сохранение весов после каждой эпохи\n",
    "    torch.save(model.state_dict(), f\"rnn_epoch_{epoch}.pt\")\n",
    "    print(f\"Epoch {epoch} completed. Average Loss: {epoch_loss / len(dataloader):.4f}\")\n",
    "\n",
    "    # Визуализация потерь\n",
    "    plot_losses(losses)\n",
    "\n",
    "# Финальное сохранение модели\n",
    "torch.save(model.state_dict(), \"rnn_final.pt\")\n",
    "print(\"Training completed and model saved.\")"
   ],
   "execution_count": 29,
   "outputs": [
    {
     "data": {
      "text/plain": [
       "<Figure size 640x480 with 1 Axes>"
      ],
      "image/png": "[encoded data removed]"
     },
     "metadata": {},
     "output_type": "display_data"
    },
    {
     "name": "stdout",
     "output_type": "stream",
     "text": [
      "Epoch [2/5], Step [100], Loss: 0.8150\n",
      "Epoch [2/5], Step [200], Loss: 1.0294\n",
      "Epoch [2/5], Step [300], Loss: 1.1431\n",
      "Epoch [2/5], Step [400], Loss: 0.9548\n",
      "Epoch [2/5], Step [500], Loss: 1.0173\n",
      "Epoch [2/5], Step [600], Loss: 0.7895\n",
      "Epoch [2/5], Step [700], Loss: 0.9674\n",
      "Epoch [2/5], Step [800], Loss: 1.0423\n",
      "Epoch [2/5], Step [900], Loss: 0.9236\n",
      "Epoch [2/5], Step [1000], Loss: 1.0404\n",
      "Epoch [2/5], Step [1100], Loss: 0.9618\n",
      "Epoch [2/5], Step [1200], Loss: 0.9906\n",
      "Epoch [2/5], Step [1300], Loss: 0.9256\n",
      "Epoch [2/5], Step [1400], Loss: 1.1013\n",
      "Epoch [2/5], Step [1500], Loss: 1.0647\n",
      "Epoch [2/5], Step [1600], Loss: 0.9376\n",
      "Epoch [2/5], Step [1700], Loss: 0.8398\n",
      "Epoch [2/5], Step [1800], Loss: 0.9222\n",
      "Epoch [2/5], Step [1900], Loss: 1.0000\n",
      "Epoch [2/5], Step [2000], Loss: 0.8437\n",
      "Epoch [2/5], Step [2100], Loss: 0.8996\n",
      "Epoch [2/5], Step [2200], Loss: 0.9899\n",
      "Epoch [2/5], Step [2300], Loss: 1.1194\n",
      "Epoch [2/5], Step [2400], Loss: 1.1276\n",
      "Epoch [2/5], Step [2500], Loss: 0.8143\n",
      "Epoch [2/5], Step [2600], Loss: 0.8764\n",
      "Epoch [2/5], Step [2700], Loss: 1.0707\n",
      "Epoch [2/5], Step [2800], Loss: 0.8774\n",
      "Epoch [2/5], Step [2900], Loss: 1.0138\n",
      "Epoch [2/5], Step [3000], Loss: 0.8611\n",
      "Epoch [2/5], Step [3100], Loss: 0.8517\n",
      "Epoch [2/5], Step [3200], Loss: 0.9128\n",
      "Epoch [2/5], Step [3300], Loss: 0.8790\n",
      "Epoch [2/5], Step [3400], Loss: 1.2264\n",
      "Epoch [2/5], Step [3500], Loss: 0.9197\n",
      "Epoch [2/5], Step [3600], Loss: 0.9194\n",
      "Epoch [2/5], Step [3700], Loss: 0.9594\n",
      "Epoch [2/5], Step [3800], Loss: 0.9420\n",
      "Epoch [2/5], Step [3900], Loss: 0.9092\n",
      "Epoch [2/5], Step [4000], Loss: 0.7548\n",
      "Epoch [2/5], Step [4100], Loss: 1.0040\n",
      "Epoch [2/5], Step [4200], Loss: 0.9795\n",
      "Epoch [2/5], Step [4300], Loss: 0.9304\n",
      "Epoch [2/5], Step [4400], Loss: 0.9570\n",
      "Epoch [2/5], Step [4500], Loss: 0.6958\n",
      "Epoch [2/5], Step [4600], Loss: 1.0455\n",
      "Epoch [2/5], Step [4700], Loss: 0.6867\n",
      "Epoch [2/5], Step [4800], Loss: 0.9193\n",
      "Epoch [2/5], Step [4900], Loss: 1.0012\n",
      "Epoch [2/5], Step [5000], Loss: 1.0943\n",
      "Epoch [2/5], Step [5100], Loss: 0.7868\n",
      "Epoch [2/5], Step [5200], Loss: 1.0312\n",
      "Epoch [2/5], Step [5300], Loss: 1.1125\n",
      "Epoch [2/5], Step [5400], Loss: 0.9237\n",
      "Epoch [2/5], Step [5500], Loss: 0.9123\n",
      "Epoch [2/5], Step [5600], Loss: 0.8913\n",
      "Epoch [2/5], Step [5700], Loss: 1.1143\n",
      "Epoch [2/5], Step [5800], Loss: 1.0115\n",
      "Epoch [2/5], Step [5900], Loss: 1.0947\n",
      "Epoch [2/5], Step [6000], Loss: 0.8220\n",
      "Epoch [2/5], Step [6100], Loss: 0.9092\n",
      "Epoch [2/5], Step [6200], Loss: 0.8735\n",
      "Epoch [2/5], Step [6300], Loss: 1.1585\n",
      "Epoch [2/5], Step [6400], Loss: 0.8809\n",
      "Epoch [2/5], Step [6500], Loss: 1.0103\n",
      "Epoch [2/5], Step [6600], Loss: 0.9200\n"
     ]
    },
    {
     "ename": "KeyboardInterrupt",
     "evalue": "",
     "output_type": "error",
     "traceback": [
      "\u001B[1;31m---------------------------------------------------------------------------\u001B[0m",
      "\u001B[1;31mKeyboardInterrupt\u001B[0m                         Traceback (most recent call last)",
      "Cell \u001B[1;32mIn[29], line 10\u001B[0m\n\u001B[0;32m      7\u001B[0m model\u001B[38;5;241m.\u001B[39mtrain()  \u001B[38;5;66;03m# Переключение в режим тренировки\u001B[39;00m\n\u001B[0;32m      9\u001B[0m \u001B[38;5;28;01mfor\u001B[39;00m batch_idx, train_batch \u001B[38;5;129;01min\u001B[39;00m \u001B[38;5;28menumerate\u001B[39m(dataloader):  \u001B[38;5;66;03m# train_loader — DataLoader с батчами\u001B[39;00m\n\u001B[1;32m---> 10\u001B[0m     loss \u001B[38;5;241m=\u001B[39m \u001B[43mtraining_step\u001B[49m\u001B[43m(\u001B[49m\u001B[43mmodel\u001B[49m\u001B[43m,\u001B[49m\u001B[43m \u001B[49m\u001B[43mtrain_batch\u001B[49m\u001B[43m,\u001B[49m\u001B[43m \u001B[49m\u001B[43mtokenizer\u001B[49m\u001B[38;5;241;43m.\u001B[39;49m\u001B[43mvocab_size\u001B[49m\u001B[43m,\u001B[49m\u001B[43m \u001B[49m\u001B[43mcriterion\u001B[49m\u001B[43m,\u001B[49m\u001B[43m \u001B[49m\u001B[43moptimizer\u001B[49m\u001B[43m,\u001B[49m\u001B[43m \u001B[49m\u001B[43mdevice\u001B[49m\u001B[38;5;241;43m=\u001B[39;49m\u001B[38;5;124;43m'\u001B[39;49m\u001B[38;5;124;43mcuda\u001B[39;49m\u001B[38;5;124;43m'\u001B[39;49m\u001B[43m)\u001B[49m\n\u001B[0;32m     11\u001B[0m     losses\u001B[38;5;241m.\u001B[39mappend(loss\u001B[38;5;241m.\u001B[39mitem())  \u001B[38;5;66;03m# Запись потерь\u001B[39;00m\n\u001B[0;32m     12\u001B[0m     epoch_loss \u001B[38;5;241m+\u001B[39m\u001B[38;5;241m=\u001B[39m loss\u001B[38;5;241m.\u001B[39mitem()\n",
      "Cell \u001B[1;32mIn[17], line 28\u001B[0m, in \u001B[0;36mtraining_step\u001B[1;34m(model, train_batch, vocab_size, criterion, optimizer, device)\u001B[0m\n\u001B[0;32m     25\u001B[0m loss \u001B[38;5;241m=\u001B[39m criterion(logits\u001B[38;5;241m.\u001B[39mview(\u001B[38;5;241m-\u001B[39m\u001B[38;5;241m1\u001B[39m, vocab_size), targets\u001B[38;5;241m.\u001B[39mview(\u001B[38;5;241m-\u001B[39m\u001B[38;5;241m1\u001B[39m))\n\u001B[0;32m     27\u001B[0m \u001B[38;5;66;03m# Обратный проход\u001B[39;00m\n\u001B[1;32m---> 28\u001B[0m \u001B[43mloss\u001B[49m\u001B[38;5;241;43m.\u001B[39;49m\u001B[43mbackward\u001B[49m\u001B[43m(\u001B[49m\u001B[43m)\u001B[49m\n\u001B[0;32m     30\u001B[0m \u001B[38;5;66;03m# Обновление весов\u001B[39;00m\n\u001B[0;32m     31\u001B[0m optimizer\u001B[38;5;241m.\u001B[39mstep()\n",
      "File \u001B[1;32m~\\PycharmProjects\\spbu_deep_learning1\\.venv\\lib\\site-packages\\torch\\_tensor.py:581\u001B[0m, in \u001B[0;36mTensor.backward\u001B[1;34m(self, gradient, retain_graph, create_graph, inputs)\u001B[0m\n\u001B[0;32m    571\u001B[0m \u001B[38;5;28;01mif\u001B[39;00m has_torch_function_unary(\u001B[38;5;28mself\u001B[39m):\n\u001B[0;32m    572\u001B[0m     \u001B[38;5;28;01mreturn\u001B[39;00m handle_torch_function(\n\u001B[0;32m    573\u001B[0m         Tensor\u001B[38;5;241m.\u001B[39mbackward,\n\u001B[0;32m    574\u001B[0m         (\u001B[38;5;28mself\u001B[39m,),\n\u001B[1;32m   (...)\u001B[0m\n\u001B[0;32m    579\u001B[0m         inputs\u001B[38;5;241m=\u001B[39minputs,\n\u001B[0;32m    580\u001B[0m     )\n\u001B[1;32m--> 581\u001B[0m \u001B[43mtorch\u001B[49m\u001B[38;5;241;43m.\u001B[39;49m\u001B[43mautograd\u001B[49m\u001B[38;5;241;43m.\u001B[39;49m\u001B[43mbackward\u001B[49m\u001B[43m(\u001B[49m\n\u001B[0;32m    582\u001B[0m \u001B[43m    \u001B[49m\u001B[38;5;28;43mself\u001B[39;49m\u001B[43m,\u001B[49m\u001B[43m \u001B[49m\u001B[43mgradient\u001B[49m\u001B[43m,\u001B[49m\u001B[43m \u001B[49m\u001B[43mretain_graph\u001B[49m\u001B[43m,\u001B[49m\u001B[43m \u001B[49m\u001B[43mcreate_graph\u001B[49m\u001B[43m,\u001B[49m\u001B[43m \u001B[49m\u001B[43minputs\u001B[49m\u001B[38;5;241;43m=\u001B[39;49m\u001B[43minputs\u001B[49m\n\u001B[0;32m    583\u001B[0m \u001B[43m\u001B[49m\u001B[43m)\u001B[49m\n",
      "File \u001B[1;32m~\\PycharmProjects\\spbu_deep_learning1\\.venv\\lib\\site-packages\\torch\\autograd\\__init__.py:347\u001B[0m, in \u001B[0;36mbackward\u001B[1;34m(tensors, grad_tensors, retain_graph, create_graph, grad_variables, inputs)\u001B[0m\n\u001B[0;32m    342\u001B[0m     retain_graph \u001B[38;5;241m=\u001B[39m create_graph\n\u001B[0;32m    344\u001B[0m \u001B[38;5;66;03m# The reason we repeat the same comment below is that\u001B[39;00m\n\u001B[0;32m    345\u001B[0m \u001B[38;5;66;03m# some Python versions print out the first line of a multi-line function\u001B[39;00m\n\u001B[0;32m    346\u001B[0m \u001B[38;5;66;03m# calls in the traceback and some print out the last line\u001B[39;00m\n\u001B[1;32m--> 347\u001B[0m \u001B[43m_engine_run_backward\u001B[49m\u001B[43m(\u001B[49m\n\u001B[0;32m    348\u001B[0m \u001B[43m    \u001B[49m\u001B[43mtensors\u001B[49m\u001B[43m,\u001B[49m\n\u001B[0;32m    349\u001B[0m \u001B[43m    \u001B[49m\u001B[43mgrad_tensors_\u001B[49m\u001B[43m,\u001B[49m\n\u001B[0;32m    350\u001B[0m \u001B[43m    \u001B[49m\u001B[43mretain_graph\u001B[49m\u001B[43m,\u001B[49m\n\u001B[0;32m    351\u001B[0m \u001B[43m    \u001B[49m\u001B[43mcreate_graph\u001B[49m\u001B[43m,\u001B[49m\n\u001B[0;32m    352\u001B[0m \u001B[43m    \u001B[49m\u001B[43minputs\u001B[49m\u001B[43m,\u001B[49m\n\u001B[0;32m    353\u001B[0m \u001B[43m    \u001B[49m\u001B[43mallow_unreachable\u001B[49m\u001B[38;5;241;43m=\u001B[39;49m\u001B[38;5;28;43;01mTrue\u001B[39;49;00m\u001B[43m,\u001B[49m\n\u001B[0;32m    354\u001B[0m \u001B[43m    \u001B[49m\u001B[43maccumulate_grad\u001B[49m\u001B[38;5;241;43m=\u001B[39;49m\u001B[38;5;28;43;01mTrue\u001B[39;49;00m\u001B[43m,\u001B[49m\n\u001B[0;32m    355\u001B[0m \u001B[43m\u001B[49m\u001B[43m)\u001B[49m\n",
      "File \u001B[1;32m~\\PycharmProjects\\spbu_deep_learning1\\.venv\\lib\\site-packages\\torch\\autograd\\graph.py:825\u001B[0m, in \u001B[0;36m_engine_run_backward\u001B[1;34m(t_outputs, *args, **kwargs)\u001B[0m\n\u001B[0;32m    823\u001B[0m     unregister_hooks \u001B[38;5;241m=\u001B[39m _register_logging_hooks_on_whole_graph(t_outputs)\n\u001B[0;32m    824\u001B[0m \u001B[38;5;28;01mtry\u001B[39;00m:\n\u001B[1;32m--> 825\u001B[0m     \u001B[38;5;28;01mreturn\u001B[39;00m Variable\u001B[38;5;241m.\u001B[39m_execution_engine\u001B[38;5;241m.\u001B[39mrun_backward(  \u001B[38;5;66;03m# Calls into the C++ engine to run the backward pass\u001B[39;00m\n\u001B[0;32m    826\u001B[0m         t_outputs, \u001B[38;5;241m*\u001B[39margs, \u001B[38;5;241m*\u001B[39m\u001B[38;5;241m*\u001B[39mkwargs\n\u001B[0;32m    827\u001B[0m     )  \u001B[38;5;66;03m# Calls into the C++ engine to run the backward pass\u001B[39;00m\n\u001B[0;32m    828\u001B[0m \u001B[38;5;28;01mfinally\u001B[39;00m:\n\u001B[0;32m    829\u001B[0m     \u001B[38;5;28;01mif\u001B[39;00m attach_logging_hooks:\n",
      "\u001B[1;31mKeyboardInterrupt\u001B[0m: "
     ]
    }
   ]
  },
  {
   "metadata": {},
   "cell_type": "code",
   "outputs": [],
   "execution_count": null,
   "source": "",
   "id": "9c54494af74144b8"
  },
  {
   "metadata": {
    "ExecuteTime": {
     "end_time": "2024-11-29T12:49:14.081263Z",
     "start_time": "2024-11-29T12:49:14.074048Z"
    }
   },
   "cell_type": "code",
   "source": [
    "model = CharRNN(tokenizer, n_hidden, n_layers, drop_prob).to('cuda')\n",
    "model.load_state_dict(torch.load('rnn_epoch_1.pt'))"
   ],
   "id": "753d563a4a2a567a",
   "outputs": [
    {
     "data": {
      "text/plain": [
       "<All keys matched successfully>"
      ]
     },
     "execution_count": 28,
     "metadata": {},
     "output_type": "execute_result"
    }
   ],
   "execution_count": 28
  },
  {
   "cell_type": "code",
   "id": "72d8694a-132f-4a44-a5d3-a0f39219e55f",
   "metadata": {
    "ExecuteTime": {
     "end_time": "2024-12-01T13:09:14.728409Z",
     "start_time": "2024-12-01T13:09:12.696976Z"
    }
   },
   "source": "[model.inference(\"<bos>\", device='cuda') for _ in range(10)]",
   "outputs": [
    {
     "data": {
      "text/plain": [
       "['<bos><bos><eos>м-!<pad>д<pad>нооедтирнюов н-ьн<pad>ира! <pad>р<pad>к<pad>   <pad><pad>т<pad>оеи зое <pad> йщ те-с тсти<pad>а<pad>п л <pad>о чпо<pad>ж<pad>  ж<pad>лшу  поав<pad>а<pad><pad><pad><pad><pad>л<pad><pad>п<pad>п а<pad>км<pad><pad>  <pad><pad><pad><pad>,л<pad><pad>еа<pad><pad>т<pad><pad><pad><pad>н<pad>Се<pad><pad>т<pad><pad><pad><pad><pad><pad><pad><pad><pad>я<pad>й<pad><pad><pad>л<pad><pad><pad><pad><pad>т<pad><pad>т<pad><pad>а<pad><pad><pad>оа<pad><pad><pad><pad><pad>тр<pad><pad><pad><pad><pad><pad><pad><pad><pad><pad>р<pad><pad><pad><pad><pad><pad><pad><pad><pad>у<pad><pad><pad><pad><pad><pad><pad><pad>в<pad><pad><pad><pad><pad><pad><pad><pad><pad><pad><pad><pad><pad><pad><pad><pad><pad><pad><pad><pad><pad><pad><pad><pad><pad><pad><pad><pad><pad><pad><pad><pad><pad><pad><pad><pad><pad><pad><pad><pad><pad><pad><pad><pad><pad><pad><pad><pad><pad><pad><pad><pad><pad><pad><pad><pad><pad><pad><eos>',\n",
       " '<bos><bos><eos> <pad> нзк  птп  оЕаьд<pad>аП,лотентатт<pad>ди еаабняли<pad><pad>еамр <pad>т<pad><pad>е ?о<pad>кннб,то втитхшдда оа<pad><pad><pad>х<pad>е<pad>а<pad>есМ <pad><pad>ос<pad>ли  -п <pad>е<pad><pad><pad>о<pad>С<eos>',\n",
       " '<bos><bos><eos>лорндрен<pad>.нй<pad>чо мдошкянгАодлемаичеяи<pad><pad>Фк<pad>ж ы<pad>н - <pad> рев<pad>о<pad> ш<pad>ыаснк  <pad>арчбтч <pad> <pad>л<pad> <pad>  пн:<pad><pad>ив<pad><pad>с<pad><pad>у<pad><pad>б<pad><pad><pad>п<pad><pad>кил тк <pad>оот<pad><pad>д<pad>-<pad><pad><pad>и<pad><pad><pad>ь<pad>.<pad><pad>пд<pad><pad><pad><pad><pad>е<pad>п<pad><pad><pad><pad>еи<pad><pad><pad><pad><pad>а <pad><pad><pad>д<pad><pad><pad><pad>ст<pad><pad><pad><pad><pad><pad><pad>в<pad>о<pad><pad><pad><pad><pad><pad><pad>н<pad><pad> е<pad><pad><pad><pad><pad><pad><pad><pad><pad><pad><pad><pad><pad><pad><pad><pad><pad><pad><pad><pad><pad><pad><pad><pad><pad><pad><pad><pad><pad><pad><pad><pad><pad><pad><pad><pad><pad><pad><pad><pad><pad><pad><pad><pad><pad><pad><pad><pad><pad><pad><pad><pad><pad><pad><pad><pad><pad><pad><pad><pad>!<pad><pad><pad><pad><pad><pad><pad><pad><pad><pad><pad><pad><pad><pad><pad><pad><pad><pad><pad><pad><pad><pad><pad><pad><pad><pad><pad><pad><pad><pad><pad><pad><pad><pad><pad><pad><pad><pad><pad><pad><pad><pad><pad><pad><pad><pad><pad><pad><pad><pad><pad><pad><pad><pad><pad><pad><pad><pad><pad><pad><pad><pad><pad><pad><pad><pad><pad><pad><pad><pad><pad><pad><pad><pad><pad><pad><pad><pad><pad><pad><pad><pad><pad><pad><pad><pad><pad><pad><pad><pad><pad><pad><pad><pad><pad><pad><pad><pad><pad><pad><pad><pad><pad><pad><pad><pad><pad><pad><pad><pad><pad><pad><pad><pad><pad><pad><pad><pad><pad><pad><pad><pad><pad><pad><pad><pad><pad><pad><pad><pad><pad><pad><pad><pad><pad><pad><pad><pad><pad><pad><pad><pad><pad><pad><pad><pad><pad><pad><pad><pad><pad><pad><pad><pad><pad><pad><pad><pad><pad><pad><pad><pad><pad><pad><pad><pad><pad><pad><pad><pad><pad><pad><pad><pad><pad><pad><pad><pad><pad><pad><pad><pad><pad><pad><pad><pad><pad><pad><pad><pad><pad><pad><pad><pad><pad><pad><pad><pad><pad><pad><pad><pad><pad><pad><pad><pad><pad><pad><pad><pad><pad><pad><pad><pad><pad><pad><pad><pad><pad><pad><pad><pad><pad><pad><pad><pad><pad><pad><pad><pad><pad><pad><pad><pad><pad><pad><pad><pad><pad><pad><pad><pad><pad><pad><pad><pad><pad><pad><pad><pad><pad><pad><pad><pad><pad>',\n",
       " '<bos><bos><eos><eos>',\n",
       " '<bos><bos><eos> ет ира<pad> жкнсп<pad>н на<pad> к  ьотбннтф<eos>',\n",
       " '<bos><bos><eos>к  оти<pad>о<pad>кд ркл<pad>н-,.е к:содмж <pad> те   ао <pad>л<pad>ынал<pad>оаа вектйкиа -е тео<pad>в<pad>ыную<pad> <pad>ир<pad>ип<pad>д <pad>Е<pad>, <pad>в.а<pad>кл<pad>е в  <pad><pad>о<pad>а<pad><pad><pad>ь<pad><pad>е<pad>д<pad><pad>кеиоб<pad>щ<pad><pad><pad>и<pad>п<pad><pad><pad>еэ<pad>ил<pad>с<pad><pad><pad><pad>Н<pad><pad><pad><pad>е<pad>ф<pad><pad><pad><pad><pad><pad><pad><pad><pad><pad><pad> <pad><pad><pad><pad><pad><pad><pad><pad><pad>я<pad><pad><pad><pad><pad>.<pad><pad><pad><pad><pad><pad><pad><pad><pad><pad> <pad><pad><pad><pad><pad><pad><pad><pad><pad><pad><pad><pad><pad><pad><pad><pad><pad><pad><pad><pad><pad><pad><pad><pad><pad><pad><pad><pad><pad><pad><pad>т<pad><pad><pad><pad><pad><pad><pad><pad><pad><pad><pad><pad><pad><pad><pad><pad><pad><pad><pad><pad><pad><pad><pad><pad><pad><pad><pad><pad><pad><pad><pad><pad><pad><pad><pad><pad><pad><pad><pad><pad><pad><pad><pad><pad><pad><pad><pad><pad><pad><pad><pad><pad><pad><pad><pad><pad><pad><pad><pad><pad><pad><pad><pad><pad><pad><pad><pad><pad><pad><pad><pad><pad><pad><pad><pad><pad><pad><pad><pad><pad><pad><pad><pad><pad><pad><pad><pad><pad><pad><pad><pad><pad><pad><pad><pad><pad><pad><pad><pad><pad><pad><pad><pad><pad><pad><pad><pad><pad><pad><pad><pad><pad><pad><pad><pad><pad><pad><pad><pad><pad><pad><pad><pad><pad><pad><pad><pad><pad><pad><pad><pad><pad><pad><pad><pad><pad><pad><pad><pad><pad><pad><pad><pad><pad><pad><pad><pad><pad><pad><pad><pad><pad><pad><pad><pad><pad><pad><pad><pad><pad><pad><pad><pad><pad><pad><pad><pad><pad><pad><pad><pad><pad><pad><pad><pad><pad><pad><pad><pad><pad><pad><pad><pad><pad><pad><pad><pad><pad><pad><pad><pad><pad><pad><pad><pad><pad><pad><pad><pad><pad><pad><pad><pad><pad><pad><pad><pad><pad><pad><pad><pad><pad><pad><pad><pad><pad><pad><pad><pad><pad><pad><pad><pad><pad><pad><pad><pad><pad><pad><pad><pad><pad><pad><pad><pad><pad><pad><pad><pad><pad><pad><pad><pad><pad><pad><pad><pad><pad><pad><pad><pad><pad><pad><pad><pad><pad><pad><pad><pad><pad><pad><pad><pad><pad><pad><pad><pad><pad><pad><pad><pad><pad><pad><pad><pad><pad><pad><pad><pad><pad>',\n",
       " '<bos><bos><eos> зо вун<pad>шзсгсрс<pad>лмдп-б<pad>иое!тОоонлрпН<pad> н<pad>и.ес  опд о еу<pad> ье<pad>.ж <pad>дслр<pad>ле<pad>ч<pad>оже<pad> а<pad> сБэ<pad>  пив<pad><pad> ин<pad>о<pad>т<pad>нас<pad>оте<pad>чл<pad>с<pad>зьчВр<pad><pad>аи<pad>кс<pad><pad><pad><pad><pad>юба<pad><pad>о<pad>с<pad>ла,<pad> ям<pad><pad><pad><pad><pad><pad><pad><pad>х<pad><pad><pad><pad>о<pad><pad><pad><pad><pad><pad><pad><pad><pad><pad><pad><pad>р<pad>о<pad><pad><pad><pad><pad><pad><pad><pad><pad><pad><pad><pad><pad><pad><pad><pad>е<pad> <pad><pad><pad><pad><pad><pad><pad><pad><pad><pad><pad><pad><pad><pad><pad><pad><pad><pad><pad><pad><pad><pad><pad><pad><pad><pad><pad><pad><pad><pad><pad><pad><pad><pad><pad><pad><pad><pad><pad><pad><pad><pad><pad><pad><pad><pad><pad><pad><pad><pad><pad><pad><pad><pad><pad><pad><pad><pad><pad><pad><pad><pad><pad><pad><pad><pad><pad><pad><pad><pad><pad><pad><pad><pad><pad><pad><pad><pad><pad><pad><pad><pad><pad><pad><pad><pad><pad><pad><pad><pad><pad><pad><pad><pad><pad><pad><pad><pad><pad><pad><pad><pad><pad><pad><pad><pad><pad><pad><pad><pad><pad><pad><pad><pad><pad><pad><pad><pad><pad><pad><pad><pad><pad><pad><pad><pad><pad><pad><pad><pad><pad><pad><pad><pad><pad><pad><pad><pad><pad><pad><pad><pad><pad><pad><pad><pad><pad><pad><pad><pad><pad><pad><pad><pad><pad><pad><pad><pad><pad><pad><pad><pad><pad><pad><pad><pad><pad><pad><pad><pad><pad><pad><pad><pad><pad><pad><pad><pad><pad><pad><pad><pad><pad><pad><pad><pad><pad><pad><pad><pad><pad><pad><pad><pad><pad><pad><pad><pad><pad><pad><pad><pad><pad><pad><pad><pad><pad><pad><pad><pad><pad><pad><pad><pad><pad><pad><pad><pad><pad><pad><pad><pad><pad><pad><pad><pad><pad><pad><pad><pad><pad><pad><pad><pad><pad><pad><pad><pad><pad><pad><pad><pad><pad><pad><pad><pad><pad><pad><pad><pad><pad><pad><pad><pad><pad><pad><pad><pad><pad><pad><pad><pad><pad><pad><pad><pad><pad><pad><pad><pad><pad><pad><pad><pad><pad><pad><pad><pad><pad><pad><pad><pad><pad><pad><pad><pad><pad><pad><pad><pad><pad><pad><pad><pad><pad><pad><pad><pad><pad><pad><pad><pad><pad><pad><pad><pad><pad><pad><pad><pad><pad>',\n",
       " '<bos><bos><eos>п <pad>ем<pad>и<pad>ые а т<pad>а <pad>бщж ндкоов <pad>дйлюеп ап гп<pad>зкуаД<pad>па еоеяыф,<pad><pad>лгекдфдрр <pad><pad>уядет<pad>врь бк<pad><pad><pad><pad>дг<pad>вни<pad><pad>оо\"<pad><pad>лт<pad>о<pad>цвй<pad><pad>н  е<pad><pad><pad>а я<pad>з<pad>е ь<pad> н<pad><pad>т<pad>рн <pad><pad><pad>м<pad>ж<pad><pad> <pad><pad><pad><pad><pad><pad><pad><pad><pad><pad><pad><pad><pad>ш<pad><pad><pad><pad><pad><pad><pad><pad><pad><pad><pad><pad>ы<pad><pad><pad>о<pad><pad><pad><pad><pad><pad><pad><pad><pad><pad><pad><pad><pad><pad><pad><pad><pad><pad><pad><pad><pad><pad><pad><pad><pad><pad><pad><pad><pad><pad><pad><pad><pad><pad><pad><pad><pad><pad><pad><pad><pad><pad><pad><pad><pad><pad><pad><pad><pad>н<pad><pad><pad><pad><pad><pad><pad><pad><pad><pad><pad><pad><pad><pad><pad><pad><pad><pad><pad><pad><pad><pad><pad><pad><pad><pad><pad><pad><pad><pad><pad><pad><pad><pad><pad><pad><pad><pad><pad><pad><pad><pad><pad><pad><pad><pad><pad><pad><pad><pad><pad><pad><pad><pad><pad><pad><pad><pad><pad><pad><pad><pad><pad><pad><pad><pad><pad><pad><pad><pad><pad><pad><pad><pad><pad><pad><pad><pad><pad><pad><pad><pad><pad><pad><pad><pad><pad><pad><pad><pad><pad><pad><pad><pad><pad><pad><pad><pad><pad><pad><pad><pad><pad><pad><pad><pad><pad><pad><pad><pad><pad><pad><pad><pad><pad><pad><pad><pad><pad><pad><pad><pad><pad><pad><pad><pad><pad><pad><pad><pad><pad><pad><pad><pad><pad><pad><pad><pad><pad><pad><pad><pad><pad><pad><pad><pad><pad><pad><pad><pad><pad><pad><pad><pad><pad><pad><pad><pad><pad><pad><pad><pad><pad><pad><pad><pad><pad><pad><pad><pad><pad><pad><pad><pad><pad><pad><pad><pad><pad><pad><pad><pad><pad><pad><pad><pad><pad><pad><pad><pad><pad><pad><pad><pad><pad><pad><pad><pad><pad><pad><pad><pad><pad><pad><pad><pad><pad><pad><pad><pad><pad><pad><pad><pad><pad><pad><pad><pad><pad><pad><pad><pad><pad><pad><pad><pad><pad><pad><pad><pad><pad><pad><pad><pad><pad><pad><pad><pad><pad><pad><pad><pad><pad><pad><pad><pad><pad><pad><pad><pad><pad><pad><pad><pad><pad><pad><pad><pad><pad><pad><pad><pad><pad><pad><pad><pad><pad><pad><pad><pad><pad><pad><pad><pad><pad><pad><pad>',\n",
       " '<bos><bos><eos><pad>асиншаямйоо бч а-юа, таея лй е<pad>с тклт<pad>л<pad>аалэН  -мвуооплча<pad>вто<pad>оювьед<pad><pad> <pad><pad><pad>увмо<pad>р члж<pad> <pad><pad>а<pad>рцдаа бьноыор<pad>а тэа<pad>т<pad>в<pad>р<pad>тг<pad>т<pad>я йр<pad>т<pad>э<pad><pad><pad><pad>а<pad><pad>л д.<pad><pad><pad><pad>е<pad><pad>Д<pad><pad><pad><pad><pad><pad><pad>кв<pad><pad> <pad><pad><pad><pad><pad><pad><pad><pad><pad><pad><pad><pad><pad><pad><pad><pad><pad><pad><pad><pad>х<pad><pad>и<pad><pad><pad><pad><pad><pad><pad><pad><pad><pad>у<pad><pad><pad><pad>й<pad><pad><pad><pad><pad>бо<pad><pad><pad><pad><pad><pad><pad><pad><pad><pad><pad><pad><pad><pad><pad><pad><pad><pad><pad><pad><pad><pad><pad><pad><pad><pad><pad><pad><pad><pad><pad><pad><pad><pad><pad><pad><pad><pad><pad><pad><pad><pad><pad><pad><pad><pad><pad><pad><pad><pad><pad><pad><pad><pad><pad><pad><pad><pad><pad><pad><pad><pad><pad><pad><pad><pad><pad><pad><pad><pad><pad><pad><pad><pad><pad><pad><pad><pad><pad><pad><pad><pad><pad><pad><pad><pad><pad><pad><pad><pad><pad><pad><pad><pad><pad><pad><pad><pad><pad><pad><pad><pad><pad><pad><pad><pad><pad><pad><pad><pad><pad><pad><pad><pad><pad><pad><pad><pad><pad><pad><pad><pad><pad><pad><pad><pad><pad><pad><pad><pad><pad><pad><pad><pad><pad><pad><pad><pad><pad><pad><pad><pad><pad><pad><pad><pad><pad><pad><pad><pad><pad><pad><pad><pad><pad><pad><pad><pad><pad><pad><pad><pad><pad><pad><pad><pad><pad><pad><pad><pad><pad><pad><pad><pad><pad><pad><pad><pad><pad><pad><pad><pad><pad><pad><pad><pad><pad><pad><pad><pad><pad><pad><pad><pad><pad><pad><pad><pad><pad><pad><pad><pad><pad><pad><pad><pad><pad><pad><pad><pad><pad><pad><pad><pad><pad><pad><pad><pad><pad><pad><pad><pad><pad><pad><pad><pad><pad><pad><pad><pad><pad><pad><pad><pad><pad><pad><pad><pad><pad><pad><pad><pad><pad><pad><pad><pad><pad><pad><pad><pad><pad><pad><pad><pad><pad><pad><pad><pad><pad><pad><pad><pad><pad><pad><pad><pad><pad><pad><pad><pad><pad><pad><pad><pad><pad><pad><pad><pad><pad><pad><pad><pad><pad><pad><pad><pad><pad><pad><pad><pad><pad><pad><pad><pad><pad><pad><pad>',\n",
       " '<bos><bos><eos>ивчакмои ц и   н<pad>отоаао?ювак д а  х<pad>к\"яэодшбрк,м озцсау<pad> аыо<pad> о <pad>.<pad>ыа оси<pad>ро<pad>вк<pad><pad><pad><pad><pad> <pad>ио <pad>оу.<pad>ея<pad>, <pad>саде<pad><pad>-<pad>м<eos>']"
      ]
     },
     "execution_count": 31,
     "metadata": {},
     "output_type": "execute_result"
    }
   ],
   "execution_count": 31
  },
  {
   "cell_type": "code",
   "id": "8f13c3b7-3fde-416b-a766-e6be7c791505",
   "metadata": {
    "ExecuteTime": {
     "end_time": "2024-12-01T16:44:32.971024Z",
     "start_time": "2024-12-01T16:44:32.944885Z"
    }
   },
   "source": [
    "import pymorphy2\n",
    "\n",
    "\n",
    "class Tokenizer:\n",
    "    def __init__(self, text, max_len: int = 512):\n",
    "        self.text = text\n",
    "        self.max_len = max_len\n",
    "        self.specials = ['<pad>', '<bos>', '<eos>']\n",
    "\n",
    "        self.morph = pymorphy2.MorphAnalyzer()\n",
    "\n",
    "        # Уникальные символы в тексте\n",
    "        unique_chars = tuple(set(text))\n",
    "        self.int2char = dict(enumerate(unique_chars))\n",
    "        self.char2int = {ch: ii for ii, ch in self.int2char.items()}\n",
    "\n",
    "        # Добавление специальных символов\n",
    "        for special in self.specials:\n",
    "            self._add_special(special)\n",
    "\n",
    "    def _add_special(self, symbol) -> None:\n",
    "        \"\"\"Добавить специальные символы в словари.\"\"\"\n",
    "        if symbol not in self.char2int:\n",
    "            sym_num = len(self.char2int)\n",
    "            self.char2int[symbol] = sym_num\n",
    "            self.int2char[sym_num] = symbol\n",
    "\n",
    "    @property\n",
    "    def vocab_size(self):\n",
    "        \"\"\"Размер словаря.\"\"\"\n",
    "        return len(self.int2char)\n",
    "\n",
    "    def decode_symbol(self, el):\n",
    "        \"\"\"Декодировать символ по индексу.\"\"\"\n",
    "        return self.int2char[el]\n",
    "\n",
    "    def encode_symbol(self, el):\n",
    "        \"\"\"Закодировать символ в индекс.\"\"\"\n",
    "        return self.char2int[el]\n",
    "\n",
    "    def str_to_idx(self, chars):\n",
    "        \"\"\"Строку в индексы.\"\"\"\n",
    "        return [self.char2int[sym] for sym in chars]\n",
    "\n",
    "    def idx_to_str(self, idx):\n",
    "        \"\"\"Индексы в строку.\"\"\"\n",
    "        return [self.int2char[toc] for toc in idx]\n",
    "\n",
    "    def encode(self, text):\n",
    "        \"\"\"Закодировать строку с добавлением спецсимволов.\"\"\"\n",
    "        lemmatized_text = self.lemmatize(text)\n",
    "        chars = ['<bos>'] + list(lemmatized_text) + ['<eos>']\n",
    "        return self.str_to_idx(chars)\n",
    "\n",
    "    def decode(self, idx):\n",
    "        \"\"\"Декодировать индексы в строку.\"\"\"\n",
    "        chars = self.idx_to_str(idx)\n",
    "        return \"\".join(chars)\n",
    "\n",
    "    def lemmatize(self, text):\n",
    "        \"\"\"Лемматизировать входной текст.\"\"\"\n",
    "        words = text.split()\n",
    "        lemmatized = \" \".join([self.morph.parse(word)[0].normal_form for word in words])\n",
    "        return lemmatized\n"
   ],
   "outputs": [],
   "execution_count": 66
  },
  {
   "metadata": {
    "ExecuteTime": {
     "end_time": "2024-12-01T16:44:33.776458Z",
     "start_time": "2024-12-01T16:44:33.697941Z"
    }
   },
   "cell_type": "code",
   "source": "tokenizer = Tokenizer(cut_text)",
   "id": "b1de3471e62409ec",
   "outputs": [],
   "execution_count": 67
  },
  {
   "metadata": {
    "ExecuteTime": {
     "end_time": "2024-12-01T16:44:33.991667Z",
     "start_time": "2024-12-01T16:44:33.981232Z"
    }
   },
   "cell_type": "code",
   "source": "tokenizer.vocab_size",
   "id": "f25e20a7a24d4afb",
   "outputs": [
    {
     "data": {
      "text/plain": [
       "124083"
      ]
     },
     "execution_count": 68,
     "metadata": {},
     "output_type": "execute_result"
    }
   ],
   "execution_count": 68
  },
  {
   "metadata": {
    "ExecuteTime": {
     "end_time": "2024-12-01T16:44:34.310293Z",
     "start_time": "2024-12-01T16:44:34.294666Z"
    }
   },
   "cell_type": "code",
   "source": [
    "print(\"<pad>:\", tokenizer.char2int.get(\"<pad>\"))\n",
    "print(\"<bos>:\", tokenizer.char2int.get(\"<bos>\"))\n",
    "print(\"<eos>:\", tokenizer.char2int.get(\"<eos>\"))\n",
    "# Должно вывести индексы для специальных символов\n"
   ],
   "id": "ecdb8122ad3aa7d8",
   "outputs": [
    {
     "name": "stdout",
     "output_type": "stream",
     "text": [
      "<pad>: 124080\n",
      "<bos>: 124081\n",
      "<eos>: 124082\n"
     ]
    }
   ],
   "execution_count": 69
  },
  {
   "metadata": {
    "ExecuteTime": {
     "end_time": "2024-12-01T16:44:35.474812Z",
     "start_time": "2024-12-01T16:44:34.833081Z"
    }
   },
   "cell_type": "code",
   "source": [
    "model = CharRNN(tokenizer, n_hidden, n_layers, drop_prob).to('cuda')\n",
    "hidden = None\n",
    "criterion = nn.CrossEntropyLoss()\n",
    "optimizer = torch.optim.Adam(model.parameters(), lr=1e-2)\n",
    "dataset = JokesDataset(tokenizer, cut_text, 512)\n",
    "dataloader = DataLoader(dataset, batch_size=16, shuffle=True)"
   ],
   "id": "fd2eba06e1e05dd6",
   "outputs": [
    {
     "ename": "KeyError",
     "evalue": "'<'",
     "output_type": "error",
     "traceback": [
      "\u001B[1;31m---------------------------------------------------------------------------\u001B[0m",
      "\u001B[1;31mKeyError\u001B[0m                                  Traceback (most recent call last)",
      "Cell \u001B[1;32mIn[70], line 5\u001B[0m\n\u001B[0;32m      3\u001B[0m criterion \u001B[38;5;241m=\u001B[39m nn\u001B[38;5;241m.\u001B[39mCrossEntropyLoss()\n\u001B[0;32m      4\u001B[0m optimizer \u001B[38;5;241m=\u001B[39m torch\u001B[38;5;241m.\u001B[39moptim\u001B[38;5;241m.\u001B[39mAdam(model\u001B[38;5;241m.\u001B[39mparameters(), lr\u001B[38;5;241m=\u001B[39m\u001B[38;5;241m1e-2\u001B[39m)\n\u001B[1;32m----> 5\u001B[0m dataset \u001B[38;5;241m=\u001B[39m \u001B[43mJokesDataset\u001B[49m\u001B[43m(\u001B[49m\u001B[43mtokenizer\u001B[49m\u001B[43m,\u001B[49m\u001B[43m \u001B[49m\u001B[43mcut_text\u001B[49m\u001B[43m,\u001B[49m\u001B[43m \u001B[49m\u001B[38;5;241;43m512\u001B[39;49m\u001B[43m)\u001B[49m\n\u001B[0;32m      6\u001B[0m dataloader \u001B[38;5;241m=\u001B[39m DataLoader(dataset, batch_size\u001B[38;5;241m=\u001B[39m\u001B[38;5;241m16\u001B[39m, shuffle\u001B[38;5;241m=\u001B[39m\u001B[38;5;28;01mTrue\u001B[39;00m)\n",
      "Cell \u001B[1;32mIn[60], line 6\u001B[0m, in \u001B[0;36mJokesDataset.__init__\u001B[1;34m(self, tokenizer, cut_text, max_len)\u001B[0m\n\u001B[0;32m      4\u001B[0m \u001B[38;5;28mself\u001B[39m\u001B[38;5;241m.\u001B[39mtokenizer \u001B[38;5;241m=\u001B[39m tokenizer\n\u001B[0;32m      5\u001B[0m \u001B[38;5;28mself\u001B[39m\u001B[38;5;241m.\u001B[39mcut_text \u001B[38;5;241m=\u001B[39m cut_text\n\u001B[1;32m----> 6\u001B[0m \u001B[38;5;28mself\u001B[39m\u001B[38;5;241m.\u001B[39mpad_index \u001B[38;5;241m=\u001B[39m \u001B[38;5;28;43mself\u001B[39;49m\u001B[38;5;241;43m.\u001B[39;49m\u001B[43mtokenizer\u001B[49m\u001B[38;5;241;43m.\u001B[39;49m\u001B[43mencode\u001B[49m\u001B[43m(\u001B[49m\u001B[38;5;124;43m\"\u001B[39;49m\u001B[38;5;124;43m<pad>\u001B[39;49m\u001B[38;5;124;43m\"\u001B[39;49m\u001B[43m)\u001B[49m\n",
      "Cell \u001B[1;32mIn[66], line 53\u001B[0m, in \u001B[0;36mTokenizer.encode\u001B[1;34m(self, text)\u001B[0m\n\u001B[0;32m     51\u001B[0m lemmatized_text \u001B[38;5;241m=\u001B[39m \u001B[38;5;28mself\u001B[39m\u001B[38;5;241m.\u001B[39mlemmatize(text)\n\u001B[0;32m     52\u001B[0m chars \u001B[38;5;241m=\u001B[39m [\u001B[38;5;124m'\u001B[39m\u001B[38;5;124m<bos>\u001B[39m\u001B[38;5;124m'\u001B[39m] \u001B[38;5;241m+\u001B[39m \u001B[38;5;28mlist\u001B[39m(lemmatized_text) \u001B[38;5;241m+\u001B[39m [\u001B[38;5;124m'\u001B[39m\u001B[38;5;124m<eos>\u001B[39m\u001B[38;5;124m'\u001B[39m]\n\u001B[1;32m---> 53\u001B[0m \u001B[38;5;28;01mreturn\u001B[39;00m \u001B[38;5;28;43mself\u001B[39;49m\u001B[38;5;241;43m.\u001B[39;49m\u001B[43mstr_to_idx\u001B[49m\u001B[43m(\u001B[49m\u001B[43mchars\u001B[49m\u001B[43m)\u001B[49m\n",
      "Cell \u001B[1;32mIn[66], line 43\u001B[0m, in \u001B[0;36mTokenizer.str_to_idx\u001B[1;34m(self, chars)\u001B[0m\n\u001B[0;32m     41\u001B[0m \u001B[38;5;28;01mdef\u001B[39;00m \u001B[38;5;21mstr_to_idx\u001B[39m(\u001B[38;5;28mself\u001B[39m, chars):\n\u001B[0;32m     42\u001B[0m \u001B[38;5;250m    \u001B[39m\u001B[38;5;124;03m\"\"\"Строку в индексы.\"\"\"\u001B[39;00m\n\u001B[1;32m---> 43\u001B[0m     \u001B[38;5;28;01mreturn\u001B[39;00m [\u001B[38;5;28mself\u001B[39m\u001B[38;5;241m.\u001B[39mchar2int[sym] \u001B[38;5;28;01mfor\u001B[39;00m sym \u001B[38;5;129;01min\u001B[39;00m chars]\n",
      "Cell \u001B[1;32mIn[66], line 43\u001B[0m, in \u001B[0;36m<listcomp>\u001B[1;34m(.0)\u001B[0m\n\u001B[0;32m     41\u001B[0m \u001B[38;5;28;01mdef\u001B[39;00m \u001B[38;5;21mstr_to_idx\u001B[39m(\u001B[38;5;28mself\u001B[39m, chars):\n\u001B[0;32m     42\u001B[0m \u001B[38;5;250m    \u001B[39m\u001B[38;5;124;03m\"\"\"Строку в индексы.\"\"\"\u001B[39;00m\n\u001B[1;32m---> 43\u001B[0m     \u001B[38;5;28;01mreturn\u001B[39;00m [\u001B[38;5;28;43mself\u001B[39;49m\u001B[38;5;241;43m.\u001B[39;49m\u001B[43mchar2int\u001B[49m\u001B[43m[\u001B[49m\u001B[43msym\u001B[49m\u001B[43m]\u001B[49m \u001B[38;5;28;01mfor\u001B[39;00m sym \u001B[38;5;129;01min\u001B[39;00m chars]\n",
      "\u001B[1;31mKeyError\u001B[0m: '<'"
     ]
    }
   ],
   "execution_count": 70
  },
  {
   "metadata": {
    "ExecuteTime": {
     "end_time": "2024-12-01T13:11:22.789949Z",
     "start_time": "2024-12-01T13:11:22.744836Z"
    }
   },
   "cell_type": "code",
   "source": [
    "losses = []\n",
    "num_epochs = 5\n",
    "\n",
    "# Основной цикл обучения\n",
    "for epoch in range(1, num_epochs + 1):\n",
    "    epoch_loss = 0.0  # Суммарные потери за эпоху\n",
    "    model.train()  # Переключение в режим тренировки\n",
    "\n",
    "    for batch_idx, train_batch in enumerate(dataloader):  # train_loader — DataLoader с батчами\n",
    "        loss = training_step(model, train_batch, tokenizer.vocab_size, criterion, optimizer, device='cuda')\n",
    "        losses.append(loss.item())  # Запись потерь\n",
    "        epoch_loss += loss.item()\n",
    "\n",
    "        # Логгирование каждые 100 батчей\n",
    "        if (batch_idx + 1) % 100 == 0:\n",
    "            print(f\"Epoch [{epoch}/{num_epochs}], Step [{batch_idx + 1}], Loss: {loss.item():.4f}\")\n",
    "\n",
    "    # Сохранение весов после каждой эпохи\n",
    "    torch.save(model.state_dict(), f\"rnn_epoch_{epoch}.pt\")\n",
    "    print(f\"Epoch {epoch} completed. Average Loss: {epoch_loss / len(dataloader):.4f}\")\n",
    "\n",
    "    # Визуализация потерь\n",
    "    plot_losses(losses)\n",
    "\n",
    "# Финальное сохранение модели\n",
    "torch.save(model.state_dict(), \"rnn_final.pt\")\n",
    "print(\"Training completed and model saved.\")"
   ],
   "id": "2daf551788b4e13",
   "outputs": [
    {
     "ename": "TypeError",
     "evalue": "full() received an invalid combination of arguments - got (tuple, list, dtype=torch.dtype), but expected one of:\n * (tuple of ints size, Number fill_value, *, tuple of names names, torch.dtype dtype = None, torch.layout layout = None, torch.device device = None, bool pin_memory = False, bool requires_grad = False)\n * (tuple of ints size, Number fill_value, *, Tensor out = None, torch.dtype dtype = None, torch.layout layout = None, torch.device device = None, bool pin_memory = False, bool requires_grad = False)\n",
     "output_type": "error",
     "traceback": [
      "\u001B[1;31m---------------------------------------------------------------------------\u001B[0m",
      "\u001B[1;31mTypeError\u001B[0m                                 Traceback (most recent call last)",
      "Cell \u001B[1;32mIn[39], line 9\u001B[0m\n\u001B[0;32m      6\u001B[0m epoch_loss \u001B[38;5;241m=\u001B[39m \u001B[38;5;241m0.0\u001B[39m  \u001B[38;5;66;03m# Суммарные потери за эпоху\u001B[39;00m\n\u001B[0;32m      7\u001B[0m model\u001B[38;5;241m.\u001B[39mtrain()  \u001B[38;5;66;03m# Переключение в режим тренировки\u001B[39;00m\n\u001B[1;32m----> 9\u001B[0m \u001B[38;5;28;01mfor\u001B[39;00m batch_idx, train_batch \u001B[38;5;129;01min\u001B[39;00m \u001B[38;5;28menumerate\u001B[39m(dataloader):  \u001B[38;5;66;03m# train_loader — DataLoader с батчами\u001B[39;00m\n\u001B[0;32m     10\u001B[0m     loss \u001B[38;5;241m=\u001B[39m training_step(model, train_batch, tokenizer\u001B[38;5;241m.\u001B[39mvocab_size, criterion, optimizer, device\u001B[38;5;241m=\u001B[39m\u001B[38;5;124m'\u001B[39m\u001B[38;5;124mcuda\u001B[39m\u001B[38;5;124m'\u001B[39m)\n\u001B[0;32m     11\u001B[0m     losses\u001B[38;5;241m.\u001B[39mappend(loss\u001B[38;5;241m.\u001B[39mitem())  \u001B[38;5;66;03m# Запись потерь\u001B[39;00m\n",
      "File \u001B[1;32m~\\PycharmProjects\\spbu_deep_learning1\\.venv\\lib\\site-packages\\torch\\utils\\data\\dataloader.py:701\u001B[0m, in \u001B[0;36m_BaseDataLoaderIter.__next__\u001B[1;34m(self)\u001B[0m\n\u001B[0;32m    698\u001B[0m \u001B[38;5;28;01mif\u001B[39;00m \u001B[38;5;28mself\u001B[39m\u001B[38;5;241m.\u001B[39m_sampler_iter \u001B[38;5;129;01mis\u001B[39;00m \u001B[38;5;28;01mNone\u001B[39;00m:\n\u001B[0;32m    699\u001B[0m     \u001B[38;5;66;03m# TODO(https://github.com/pytorch/pytorch/issues/76750)\u001B[39;00m\n\u001B[0;32m    700\u001B[0m     \u001B[38;5;28mself\u001B[39m\u001B[38;5;241m.\u001B[39m_reset()  \u001B[38;5;66;03m# type: ignore[call-arg]\u001B[39;00m\n\u001B[1;32m--> 701\u001B[0m data \u001B[38;5;241m=\u001B[39m \u001B[38;5;28;43mself\u001B[39;49m\u001B[38;5;241;43m.\u001B[39;49m\u001B[43m_next_data\u001B[49m\u001B[43m(\u001B[49m\u001B[43m)\u001B[49m\n\u001B[0;32m    702\u001B[0m \u001B[38;5;28mself\u001B[39m\u001B[38;5;241m.\u001B[39m_num_yielded \u001B[38;5;241m+\u001B[39m\u001B[38;5;241m=\u001B[39m \u001B[38;5;241m1\u001B[39m\n\u001B[0;32m    703\u001B[0m \u001B[38;5;28;01mif\u001B[39;00m (\n\u001B[0;32m    704\u001B[0m     \u001B[38;5;28mself\u001B[39m\u001B[38;5;241m.\u001B[39m_dataset_kind \u001B[38;5;241m==\u001B[39m _DatasetKind\u001B[38;5;241m.\u001B[39mIterable\n\u001B[0;32m    705\u001B[0m     \u001B[38;5;129;01mand\u001B[39;00m \u001B[38;5;28mself\u001B[39m\u001B[38;5;241m.\u001B[39m_IterableDataset_len_called \u001B[38;5;129;01mis\u001B[39;00m \u001B[38;5;129;01mnot\u001B[39;00m \u001B[38;5;28;01mNone\u001B[39;00m\n\u001B[0;32m    706\u001B[0m     \u001B[38;5;129;01mand\u001B[39;00m \u001B[38;5;28mself\u001B[39m\u001B[38;5;241m.\u001B[39m_num_yielded \u001B[38;5;241m>\u001B[39m \u001B[38;5;28mself\u001B[39m\u001B[38;5;241m.\u001B[39m_IterableDataset_len_called\n\u001B[0;32m    707\u001B[0m ):\n",
      "File \u001B[1;32m~\\PycharmProjects\\spbu_deep_learning1\\.venv\\lib\\site-packages\\torch\\utils\\data\\dataloader.py:757\u001B[0m, in \u001B[0;36m_SingleProcessDataLoaderIter._next_data\u001B[1;34m(self)\u001B[0m\n\u001B[0;32m    755\u001B[0m \u001B[38;5;28;01mdef\u001B[39;00m \u001B[38;5;21m_next_data\u001B[39m(\u001B[38;5;28mself\u001B[39m):\n\u001B[0;32m    756\u001B[0m     index \u001B[38;5;241m=\u001B[39m \u001B[38;5;28mself\u001B[39m\u001B[38;5;241m.\u001B[39m_next_index()  \u001B[38;5;66;03m# may raise StopIteration\u001B[39;00m\n\u001B[1;32m--> 757\u001B[0m     data \u001B[38;5;241m=\u001B[39m \u001B[38;5;28;43mself\u001B[39;49m\u001B[38;5;241;43m.\u001B[39;49m\u001B[43m_dataset_fetcher\u001B[49m\u001B[38;5;241;43m.\u001B[39;49m\u001B[43mfetch\u001B[49m\u001B[43m(\u001B[49m\u001B[43mindex\u001B[49m\u001B[43m)\u001B[49m  \u001B[38;5;66;03m# may raise StopIteration\u001B[39;00m\n\u001B[0;32m    758\u001B[0m     \u001B[38;5;28;01mif\u001B[39;00m \u001B[38;5;28mself\u001B[39m\u001B[38;5;241m.\u001B[39m_pin_memory:\n\u001B[0;32m    759\u001B[0m         data \u001B[38;5;241m=\u001B[39m _utils\u001B[38;5;241m.\u001B[39mpin_memory\u001B[38;5;241m.\u001B[39mpin_memory(data, \u001B[38;5;28mself\u001B[39m\u001B[38;5;241m.\u001B[39m_pin_memory_device)\n",
      "File \u001B[1;32m~\\PycharmProjects\\spbu_deep_learning1\\.venv\\lib\\site-packages\\torch\\utils\\data\\_utils\\fetch.py:52\u001B[0m, in \u001B[0;36m_MapDatasetFetcher.fetch\u001B[1;34m(self, possibly_batched_index)\u001B[0m\n\u001B[0;32m     50\u001B[0m         data \u001B[38;5;241m=\u001B[39m \u001B[38;5;28mself\u001B[39m\u001B[38;5;241m.\u001B[39mdataset\u001B[38;5;241m.\u001B[39m__getitems__(possibly_batched_index)\n\u001B[0;32m     51\u001B[0m     \u001B[38;5;28;01melse\u001B[39;00m:\n\u001B[1;32m---> 52\u001B[0m         data \u001B[38;5;241m=\u001B[39m [\u001B[38;5;28mself\u001B[39m\u001B[38;5;241m.\u001B[39mdataset[idx] \u001B[38;5;28;01mfor\u001B[39;00m idx \u001B[38;5;129;01min\u001B[39;00m possibly_batched_index]\n\u001B[0;32m     53\u001B[0m \u001B[38;5;28;01melse\u001B[39;00m:\n\u001B[0;32m     54\u001B[0m     data \u001B[38;5;241m=\u001B[39m \u001B[38;5;28mself\u001B[39m\u001B[38;5;241m.\u001B[39mdataset[possibly_batched_index]\n",
      "File \u001B[1;32m~\\PycharmProjects\\spbu_deep_learning1\\.venv\\lib\\site-packages\\torch\\utils\\data\\_utils\\fetch.py:52\u001B[0m, in \u001B[0;36m<listcomp>\u001B[1;34m(.0)\u001B[0m\n\u001B[0;32m     50\u001B[0m         data \u001B[38;5;241m=\u001B[39m \u001B[38;5;28mself\u001B[39m\u001B[38;5;241m.\u001B[39mdataset\u001B[38;5;241m.\u001B[39m__getitems__(possibly_batched_index)\n\u001B[0;32m     51\u001B[0m     \u001B[38;5;28;01melse\u001B[39;00m:\n\u001B[1;32m---> 52\u001B[0m         data \u001B[38;5;241m=\u001B[39m [\u001B[38;5;28;43mself\u001B[39;49m\u001B[38;5;241;43m.\u001B[39;49m\u001B[43mdataset\u001B[49m\u001B[43m[\u001B[49m\u001B[43midx\u001B[49m\u001B[43m]\u001B[49m \u001B[38;5;28;01mfor\u001B[39;00m idx \u001B[38;5;129;01min\u001B[39;00m possibly_batched_index]\n\u001B[0;32m     53\u001B[0m \u001B[38;5;28;01melse\u001B[39;00m:\n\u001B[0;32m     54\u001B[0m     data \u001B[38;5;241m=\u001B[39m \u001B[38;5;28mself\u001B[39m\u001B[38;5;241m.\u001B[39mdataset[possibly_batched_index]\n",
      "Cell \u001B[1;32mIn[35], line 15\u001B[0m, in \u001B[0;36mJokesDataset.__getitem__\u001B[1;34m(self, idx)\u001B[0m\n\u001B[0;32m     13\u001B[0m encoded \u001B[38;5;241m=\u001B[39m \u001B[38;5;28mself\u001B[39m\u001B[38;5;241m.\u001B[39mtokenizer\u001B[38;5;241m.\u001B[39mencode(text)\n\u001B[0;32m     14\u001B[0m encoded \u001B[38;5;241m=\u001B[39m encoded[:\u001B[38;5;28mself\u001B[39m\u001B[38;5;241m.\u001B[39mmax_len]  \u001B[38;5;66;03m# Ограничиваем длину\u001B[39;00m\n\u001B[1;32m---> 15\u001B[0m input_sequence \u001B[38;5;241m=\u001B[39m \u001B[43mtorch\u001B[49m\u001B[38;5;241;43m.\u001B[39;49m\u001B[43mfull\u001B[49m\u001B[43m(\u001B[49m\u001B[43m(\u001B[49m\u001B[38;5;28;43mself\u001B[39;49m\u001B[38;5;241;43m.\u001B[39;49m\u001B[43mmax_len\u001B[49m\u001B[43m,\u001B[49m\u001B[43m)\u001B[49m\u001B[43m,\u001B[49m\u001B[43m \u001B[49m\u001B[38;5;28;43mself\u001B[39;49m\u001B[38;5;241;43m.\u001B[39;49m\u001B[43mpad_index\u001B[49m\u001B[43m,\u001B[49m\u001B[43m \u001B[49m\u001B[43mdtype\u001B[49m\u001B[38;5;241;43m=\u001B[39;49m\u001B[43mtorch\u001B[49m\u001B[38;5;241;43m.\u001B[39;49m\u001B[43mlong\u001B[49m\u001B[43m)\u001B[49m\n\u001B[0;32m     16\u001B[0m target_sequence \u001B[38;5;241m=\u001B[39m torch\u001B[38;5;241m.\u001B[39mfull((\u001B[38;5;28mself\u001B[39m\u001B[38;5;241m.\u001B[39mmax_len,), \u001B[38;5;28mself\u001B[39m\u001B[38;5;241m.\u001B[39mpad_index, dtype\u001B[38;5;241m=\u001B[39mtorch\u001B[38;5;241m.\u001B[39mlong)\n\u001B[0;32m     18\u001B[0m \u001B[38;5;66;03m# Заполняем входную и целевую последовательность\u001B[39;00m\n",
      "\u001B[1;31mTypeError\u001B[0m: full() received an invalid combination of arguments - got (tuple, list, dtype=torch.dtype), but expected one of:\n * (tuple of ints size, Number fill_value, *, tuple of names names, torch.dtype dtype = None, torch.layout layout = None, torch.device device = None, bool pin_memory = False, bool requires_grad = False)\n * (tuple of ints size, Number fill_value, *, Tensor out = None, torch.dtype dtype = None, torch.layout layout = None, torch.device device = None, bool pin_memory = False, bool requires_grad = False)\n"
     ]
    }
   ],
   "execution_count": 39
  },
  {
   "metadata": {
    "ExecuteTime": {
     "end_time": "2024-11-29T14:17:59.318322Z",
     "start_time": "2024-11-29T14:17:59.205229Z"
    }
   },
   "cell_type": "code",
   "source": "torch.save(model.state_dict(), f\"rnn_bert_epoch_{1}.pt\")",
   "id": "d39d6d1d4172356a",
   "outputs": [],
   "execution_count": 27
  },
  {
   "metadata": {
    "ExecuteTime": {
     "end_time": "2024-11-29T14:26:47.058224Z",
     "start_time": "2024-11-29T14:26:47.006663Z"
    }
   },
   "cell_type": "code",
   "source": [
    "prefix = \"<bos> \"\n",
    "tokens = torch.tensor(model.tokenizer.encode(prefix), dtype=torch.long, device='cuda').unsqueeze(0)\n",
    "        \n",
    "# Создание one-hot представления\n",
    "inputs = one_hot_encode(tokens, vocab_size=model.vocab_size)\n",
    "\n",
    "# Инициализация скрытого состояния\n",
    "hidden = model.init_hidden(batch_size=1, device='cuda')\n",
    "\n",
    "# Генерация префикса\n",
    "outputs, hidden = model.rnn(inputs, hidden)\n",
    "logits = model.fc(outputs)\n",
    "\n",
    "# Семплирование токена\n",
    "probs = torch.softmax(logits[:, -1, :], dim=-1)\n",
    "new_token = torch.multinomial(probs, num_samples=1)\n",
    "tokens = torch.cat([tokens, new_token], dim=1)\n",
    "\n",
    "# Остановка: достижение максимальной длины или EOS-токена\n",
    "while tokens.size(1) < model.max_len and new_token.item() != model.tokenizer.encode('<eos>'):\n",
    "    inputs = one_hot_encode(new_token, vocab_size=model.vocab_size)\n",
    "    outputs, hidden = model.rnn(inputs, hidden)\n",
    "    logits = model.fc(outputs)\n",
    "    probs = torch.softmax(logits[:, -1, :], dim=-1)\n",
    "    new_token = torch.multinomial(probs, num_samples=1)\n",
    "    tokens = torch.cat([tokens, new_token], dim=1)\n",
    "\n",
    "# Декодирование в строку\n",
    "model.tokenizer.decode(tokens.squeeze().tolist())"
   ],
   "id": "1dd6edac862a05da",
   "outputs": [
    {
     "ename": "RuntimeError",
     "evalue": "CUDA error: CUBLAS_STATUS_EXECUTION_FAILED when calling cublasLtMatmul with transpose_mat1 1 transpose_mat2 0 m 30522 n 3 k 128 mat1_ld 128 mat2_ld 128 result_ld 30522 abcType 0 computeType 68 scaleType 0",
     "output_type": "error",
     "traceback": [
      "\u001B[0;31m---------------------------------------------------------------------------\u001B[0m",
      "\u001B[0;31mRuntimeError\u001B[0m                              Traceback (most recent call last)",
      "Cell \u001B[0;32mIn[30], line 12\u001B[0m\n\u001B[1;32m     10\u001B[0m \u001B[38;5;66;03m# Генерация префикса\u001B[39;00m\n\u001B[1;32m     11\u001B[0m outputs, hidden \u001B[38;5;241m=\u001B[39m model\u001B[38;5;241m.\u001B[39mrnn(inputs, hidden)\n\u001B[0;32m---> 12\u001B[0m logits \u001B[38;5;241m=\u001B[39m \u001B[43mmodel\u001B[49m\u001B[38;5;241;43m.\u001B[39;49m\u001B[43mfc\u001B[49m\u001B[43m(\u001B[49m\u001B[43moutputs\u001B[49m\u001B[43m)\u001B[49m\n\u001B[1;32m     14\u001B[0m \u001B[38;5;66;03m# Семплирование токена\u001B[39;00m\n\u001B[1;32m     15\u001B[0m probs \u001B[38;5;241m=\u001B[39m torch\u001B[38;5;241m.\u001B[39msoftmax(logits[:, \u001B[38;5;241m-\u001B[39m\u001B[38;5;241m1\u001B[39m, :], dim\u001B[38;5;241m=\u001B[39m\u001B[38;5;241m-\u001B[39m\u001B[38;5;241m1\u001B[39m)\n",
      "File \u001B[0;32m~/PycharmProjects/spbu_deep_learning1/.venv/lib/python3.10/site-packages/torch/nn/modules/module.py:1736\u001B[0m, in \u001B[0;36mModule._wrapped_call_impl\u001B[0;34m(self, *args, **kwargs)\u001B[0m\n\u001B[1;32m   1734\u001B[0m     \u001B[38;5;28;01mreturn\u001B[39;00m \u001B[38;5;28mself\u001B[39m\u001B[38;5;241m.\u001B[39m_compiled_call_impl(\u001B[38;5;241m*\u001B[39margs, \u001B[38;5;241m*\u001B[39m\u001B[38;5;241m*\u001B[39mkwargs)  \u001B[38;5;66;03m# type: ignore[misc]\u001B[39;00m\n\u001B[1;32m   1735\u001B[0m \u001B[38;5;28;01melse\u001B[39;00m:\n\u001B[0;32m-> 1736\u001B[0m     \u001B[38;5;28;01mreturn\u001B[39;00m \u001B[38;5;28;43mself\u001B[39;49m\u001B[38;5;241;43m.\u001B[39;49m\u001B[43m_call_impl\u001B[49m\u001B[43m(\u001B[49m\u001B[38;5;241;43m*\u001B[39;49m\u001B[43margs\u001B[49m\u001B[43m,\u001B[49m\u001B[43m \u001B[49m\u001B[38;5;241;43m*\u001B[39;49m\u001B[38;5;241;43m*\u001B[39;49m\u001B[43mkwargs\u001B[49m\u001B[43m)\u001B[49m\n",
      "File \u001B[0;32m~/PycharmProjects/spbu_deep_learning1/.venv/lib/python3.10/site-packages/torch/nn/modules/module.py:1747\u001B[0m, in \u001B[0;36mModule._call_impl\u001B[0;34m(self, *args, **kwargs)\u001B[0m\n\u001B[1;32m   1742\u001B[0m \u001B[38;5;66;03m# If we don't have any hooks, we want to skip the rest of the logic in\u001B[39;00m\n\u001B[1;32m   1743\u001B[0m \u001B[38;5;66;03m# this function, and just call forward.\u001B[39;00m\n\u001B[1;32m   1744\u001B[0m \u001B[38;5;28;01mif\u001B[39;00m \u001B[38;5;129;01mnot\u001B[39;00m (\u001B[38;5;28mself\u001B[39m\u001B[38;5;241m.\u001B[39m_backward_hooks \u001B[38;5;129;01mor\u001B[39;00m \u001B[38;5;28mself\u001B[39m\u001B[38;5;241m.\u001B[39m_backward_pre_hooks \u001B[38;5;129;01mor\u001B[39;00m \u001B[38;5;28mself\u001B[39m\u001B[38;5;241m.\u001B[39m_forward_hooks \u001B[38;5;129;01mor\u001B[39;00m \u001B[38;5;28mself\u001B[39m\u001B[38;5;241m.\u001B[39m_forward_pre_hooks\n\u001B[1;32m   1745\u001B[0m         \u001B[38;5;129;01mor\u001B[39;00m _global_backward_pre_hooks \u001B[38;5;129;01mor\u001B[39;00m _global_backward_hooks\n\u001B[1;32m   1746\u001B[0m         \u001B[38;5;129;01mor\u001B[39;00m _global_forward_hooks \u001B[38;5;129;01mor\u001B[39;00m _global_forward_pre_hooks):\n\u001B[0;32m-> 1747\u001B[0m     \u001B[38;5;28;01mreturn\u001B[39;00m \u001B[43mforward_call\u001B[49m\u001B[43m(\u001B[49m\u001B[38;5;241;43m*\u001B[39;49m\u001B[43margs\u001B[49m\u001B[43m,\u001B[49m\u001B[43m \u001B[49m\u001B[38;5;241;43m*\u001B[39;49m\u001B[38;5;241;43m*\u001B[39;49m\u001B[43mkwargs\u001B[49m\u001B[43m)\u001B[49m\n\u001B[1;32m   1749\u001B[0m result \u001B[38;5;241m=\u001B[39m \u001B[38;5;28;01mNone\u001B[39;00m\n\u001B[1;32m   1750\u001B[0m called_always_called_hooks \u001B[38;5;241m=\u001B[39m \u001B[38;5;28mset\u001B[39m()\n",
      "File \u001B[0;32m~/PycharmProjects/spbu_deep_learning1/.venv/lib/python3.10/site-packages/torch/nn/modules/linear.py:125\u001B[0m, in \u001B[0;36mLinear.forward\u001B[0;34m(self, input)\u001B[0m\n\u001B[1;32m    124\u001B[0m \u001B[38;5;28;01mdef\u001B[39;00m \u001B[38;5;21mforward\u001B[39m(\u001B[38;5;28mself\u001B[39m, \u001B[38;5;28minput\u001B[39m: Tensor) \u001B[38;5;241m-\u001B[39m\u001B[38;5;241m>\u001B[39m Tensor:\n\u001B[0;32m--> 125\u001B[0m     \u001B[38;5;28;01mreturn\u001B[39;00m \u001B[43mF\u001B[49m\u001B[38;5;241;43m.\u001B[39;49m\u001B[43mlinear\u001B[49m\u001B[43m(\u001B[49m\u001B[38;5;28;43minput\u001B[39;49m\u001B[43m,\u001B[49m\u001B[43m \u001B[49m\u001B[38;5;28;43mself\u001B[39;49m\u001B[38;5;241;43m.\u001B[39;49m\u001B[43mweight\u001B[49m\u001B[43m,\u001B[49m\u001B[43m \u001B[49m\u001B[38;5;28;43mself\u001B[39;49m\u001B[38;5;241;43m.\u001B[39;49m\u001B[43mbias\u001B[49m\u001B[43m)\u001B[49m\n",
      "\u001B[0;31mRuntimeError\u001B[0m: CUDA error: CUBLAS_STATUS_EXECUTION_FAILED when calling cublasLtMatmul with transpose_mat1 1 transpose_mat2 0 m 30522 n 3 k 128 mat1_ld 128 mat2_ld 128 result_ld 30522 abcType 0 computeType 68 scaleType 0"
     ]
    }
   ],
   "execution_count": 30
  },
  {
   "metadata": {},
   "cell_type": "code",
   "outputs": [],
   "execution_count": null,
   "source": "",
   "id": "6549a7976f47f515"
  },
  {
   "cell_type": "markdown",
   "id": "ef889dd2-fde2-429c-9c61-f5a93517bd3f",
   "metadata": {},
   "source": [
    "Теперь попробуем написать свой собственный RNN. Это будет довольно простая модель с одним слоем.\n"
   ]
  },
  {
   "cell_type": "code",
   "execution_count": null,
   "id": "a1fe4954-e2b5-43c5-9bb6-0b2a5cc2cc19",
   "metadata": {},
   "outputs": [],
   "source": [
    "# YOUR CODE: custom model nn.Module, changed CharRNN, etc"
   ]
  }
 ],
 "metadata": {
  "kernelspec": {
   "display_name": "Python 3 (ipykernel)",
   "language": "python",
   "name": "python3"
  },
  "language_info": {
   "codemirror_mode": {
    "name": "ipython",
    "version": 3
   },
   "file_extension": ".py",
   "mimetype": "text/x-python",
   "name": "python",
   "nbconvert_exporter": "python",
   "pygments_lexer": "ipython3",
   "version": "3.10.15"
  }
 },
 "nbformat": 4,
 "nbformat_minor": 5
}
