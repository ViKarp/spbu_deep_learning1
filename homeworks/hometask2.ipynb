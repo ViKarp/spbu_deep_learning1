{
 "cells": [
  {
   "cell_type": "code",
   "execution_count": 1,
   "id": "initial_id",
   "metadata": {
    "collapsed": true,
    "ExecuteTime": {
     "end_time": "2024-09-26T21:30:44.699675Z",
     "start_time": "2024-09-26T21:30:40.016940Z"
    }
   },
   "outputs": [],
   "source": [
    "import torch\n",
    "from hometask2 import Element"
   ]
  },
  {
   "cell_type": "code",
   "outputs": [
    {
     "name": "stdout",
     "output_type": "stream",
     "text": [
      "Element(data=2, grad=0) Element(data=-3, grad=0) Element(data=10, grad=0) Element(data=-28, grad=0) Element(data=0, grad=1)\n"
     ]
    }
   ],
   "source": [
    "a = Element(2) \n",
    "b = Element(-3) \n",
    "c = Element(10) \n",
    "d = a + b * c \n",
    "e = d.relu() \n",
    "e.backward() \n",
    "print(a, b, c, d, e)"
   ],
   "metadata": {
    "collapsed": false,
    "ExecuteTime": {
     "end_time": "2024-09-26T21:30:44.730670Z",
     "start_time": "2024-09-26T21:30:44.701673Z"
    }
   },
   "id": "bd2ae1e23007eae2",
   "execution_count": 2
  },
  {
   "cell_type": "markdown",
   "source": [
    "Output: Element(data=2, grad=0) Element(data=-3, grad=10) Element(data=10, grad=-3) Element(data=-28, grad=1) Element(data=0, grad=1)"
   ],
   "metadata": {
    "collapsed": false
   },
   "id": "1bea1ccda0e3b222"
  }
 ],
 "metadata": {
  "kernelspec": {
   "display_name": "Python 3",
   "language": "python",
   "name": "python3"
  },
  "language_info": {
   "codemirror_mode": {
    "name": "ipython",
    "version": 2
   },
   "file_extension": ".py",
   "mimetype": "text/x-python",
   "name": "python",
   "nbconvert_exporter": "python",
   "pygments_lexer": "ipython2",
   "version": "2.7.6"
  }
 },
 "nbformat": 4,
 "nbformat_minor": 5
}
