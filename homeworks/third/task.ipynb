{
 "cells": [
  {
   "cell_type": "code",
   "execution_count": 17,
   "id": "initial_id",
   "metadata": {
    "collapsed": true,
    "ExecuteTime": {
     "end_time": "2024-11-17T10:05:24.644836Z",
     "start_time": "2024-11-17T10:05:24.640428Z"
    }
   },
   "outputs": [],
   "source": [
    "import torch\n",
    "import torch.nn as nn\n",
    "import torch.optim as optim\n",
    "import torchvision\n",
    "import torchvision.transforms as transforms\n",
    "from torchvision import datasets, models\n",
    "from torch.utils.data import DataLoader, random_split, ConcatDataset"
   ]
  },
  {
   "cell_type": "code",
   "outputs": [
    {
     "name": "stdout",
     "output_type": "stream",
     "text": [
      "Using device: cuda\n"
     ]
    }
   ],
   "source": [
    "device = torch.device(\"cuda\" if torch.cuda.is_available() else \"cpu\")\n",
    "print(f\"Using device: {device}\")"
   ],
   "metadata": {
    "collapsed": false,
    "ExecuteTime": {
     "end_time": "2024-11-17T10:05:24.820245Z",
     "start_time": "2024-11-17T10:05:24.802261Z"
    }
   },
   "id": "b502e434bd4d23e0",
   "execution_count": 18
  },
  {
   "cell_type": "code",
   "outputs": [
    {
     "data": {
      "text/plain": "'2.4.1+cu118'"
     },
     "execution_count": 19,
     "metadata": {},
     "output_type": "execute_result"
    }
   ],
   "source": [
    "torch.__version__"
   ],
   "metadata": {
    "collapsed": false,
    "ExecuteTime": {
     "end_time": "2024-11-17T10:05:24.995662Z",
     "start_time": "2024-11-17T10:05:24.988896Z"
    }
   },
   "id": "67ab0c7ceba203db",
   "execution_count": 19
  },
  {
   "cell_type": "code",
   "outputs": [],
   "source": [
    "transform_original = transforms.Compose([\n",
    "    transforms.Resize(256),\n",
    "    transforms.CenterCrop(224),\n",
    "    transforms.ToTensor(),\n",
    "    transforms.Normalize(mean=[0.485, 0.456, 0.406], std=[0.229, 0.224, 0.225])\n",
    "])\n",
    "\n",
    "transform_augmented = transforms.Compose([\n",
    "    transforms.RandomResizedCrop(224),\n",
    "    transforms.RandomHorizontalFlip(),\n",
    "    transforms.ColorJitter(brightness=0.2, contrast=0.2, saturation=0.2, hue=0.1),\n",
    "    transforms.ToTensor(),\n",
    "    transforms.Normalize(mean=[0.485, 0.456, 0.406], std=[0.229, 0.224, 0.225])\n",
    "])\n",
    "\n",
    "original_dataset = datasets.ImageFolder(root='splitted/train', transform=transform_original)\n",
    "augmented_dataset = datasets.ImageFolder(root='splitted/train', transform=transform_augmented)\n",
    "\n",
    "full_dataset = ConcatDataset([original_dataset, augmented_dataset])\n",
    "\n",
    "train_size = int(0.8 * len(full_dataset))\n",
    "val_size = len(full_dataset) - train_size\n",
    "train_dataset, val_dataset = random_split(full_dataset, [train_size, val_size])\n",
    "\n",
    "val_dataset.dataset.transform = transform_original\n",
    "\n",
    "train_loader = DataLoader(train_dataset, batch_size=32, shuffle=True, num_workers=4)\n",
    "val_loader = DataLoader(val_dataset, batch_size=32, shuffle=False, num_workers=4)"
   ],
   "metadata": {
    "collapsed": false,
    "ExecuteTime": {
     "end_time": "2024-11-17T10:06:45.700554Z",
     "start_time": "2024-11-17T10:06:45.655181Z"
    }
   },
   "id": "3d71fc0f6eaca576",
   "execution_count": 21
  },
  {
   "cell_type": "code",
   "outputs": [
    {
     "data": {
      "text/plain": "4672"
     },
     "execution_count": 24,
     "metadata": {},
     "output_type": "execute_result"
    }
   ],
   "source": [
    "len(train_loader)*32"
   ],
   "metadata": {
    "collapsed": false,
    "ExecuteTime": {
     "end_time": "2024-11-17T10:07:26.506547Z",
     "start_time": "2024-11-17T10:07:26.497012Z"
    }
   },
   "id": "7ddb77cd76063eec",
   "execution_count": 24
  },
  {
   "cell_type": "code",
   "outputs": [],
   "source": [
    "from torchvision.models import ResNet18_Weights\n",
    "\n",
    "model = models.resnet18(weights=ResNet18_Weights.DEFAULT)\n",
    "\n",
    "\n",
    "num_features = model.fc.in_features\n",
    "model.fc = nn.Linear(num_features, len(original_dataset.classes))\n",
    "model = model.to(device)\n",
    "\n",
    "criterion = nn.CrossEntropyLoss()\n",
    "optimizer = optim.Adam(model.parameters(), lr=1e-4)\n",
    "\n",
    "def train_model(model, criterion, optimizer, train_loader, val_loader, num_epochs=10):\n",
    "    for epoch in range(num_epochs):\n",
    "        model.train()\n",
    "        running_loss = 0.0\n",
    "        correct_train = 0\n",
    "        total_train = 0\n",
    "        \n",
    "        for inputs, labels in train_loader:\n",
    "            inputs, labels = inputs.to(device), labels.to(device)\n",
    "            optimizer.zero_grad()\n",
    "            outputs = model(inputs)\n",
    "            loss = criterion(outputs, labels)\n",
    "            loss.backward()\n",
    "            optimizer.step()\n",
    "            \n",
    "            running_loss += loss.item() * inputs.size(0)\n",
    "            _, preds = torch.max(outputs, 1)\n",
    "            correct_train += (preds == labels).sum().item()\n",
    "            total_train += labels.size(0)\n",
    "        \n",
    "        epoch_loss = running_loss / len(train_loader.dataset)\n",
    "        epoch_acc = correct_train / total_train\n",
    "        print(f\"Epoch [{epoch+1}/{num_epochs}], Loss: {epoch_loss:.4f}, Accuracy: {epoch_acc:.4f}\")\n",
    "        \n",
    "        # Валидация модели\n",
    "        model.eval()\n",
    "        val_loss = 0.0\n",
    "        correct_val = 0\n",
    "        total_val = 0\n",
    "        with torch.no_grad():\n",
    "            for inputs, labels in val_loader:\n",
    "                inputs, labels = inputs.to(device), labels.to(device)\n",
    "                outputs = model(inputs)\n",
    "                loss = criterion(outputs, labels)\n",
    "                val_loss += loss.item() * inputs.size(0)\n",
    "                _, preds = torch.max(outputs, 1)\n",
    "                correct_val += (preds == labels).sum().item()\n",
    "                total_val += labels.size(0)\n",
    "        \n",
    "        val_loss /= len(val_loader.dataset)\n",
    "        val_acc = correct_val / total_val\n",
    "        print(f\"Validation Loss: {val_loss:.4f}, Validation Accuracy: {val_acc:.4f}\")\n",
    "    \n",
    "    return model"
   ],
   "metadata": {
    "collapsed": false,
    "ExecuteTime": {
     "end_time": "2024-11-17T10:10:29.913079Z",
     "start_time": "2024-11-17T10:10:29.678935Z"
    }
   },
   "id": "9ae3b42884a902c7",
   "execution_count": 27
  },
  {
   "cell_type": "code",
   "outputs": [
    {
     "name": "stdout",
     "output_type": "stream",
     "text": [
      "Epoch [1/30], Loss: 1.3185, Accuracy: 0.6614\n",
      "Validation Loss: 0.6167, Validation Accuracy: 0.8413\n",
      "Epoch [2/30], Loss: 0.4386, Accuracy: 0.8913\n",
      "Validation Loss: 0.4222, Validation Accuracy: 0.8877\n",
      "Epoch [3/30], Loss: 0.3101, Accuracy: 0.9198\n",
      "Validation Loss: 0.3545, Validation Accuracy: 0.9108\n",
      "Epoch [4/30], Loss: 0.2545, Accuracy: 0.9318\n",
      "Validation Loss: 0.3101, Validation Accuracy: 0.9134\n",
      "Epoch [5/30], Loss: 0.2401, Accuracy: 0.9325\n",
      "Validation Loss: 0.2958, Validation Accuracy: 0.9160\n",
      "Epoch [6/30], Loss: 0.2000, Accuracy: 0.9460\n",
      "Validation Loss: 0.2878, Validation Accuracy: 0.9151\n",
      "Epoch [7/30], Loss: 0.1929, Accuracy: 0.9468\n",
      "Validation Loss: 0.2726, Validation Accuracy: 0.9245\n",
      "Epoch [8/30], Loss: 0.1791, Accuracy: 0.9554\n",
      "Validation Loss: 0.2940, Validation Accuracy: 0.9151\n",
      "Epoch [9/30], Loss: 0.1830, Accuracy: 0.9485\n",
      "Validation Loss: 0.2568, Validation Accuracy: 0.9357\n",
      "Epoch [10/30], Loss: 0.1585, Accuracy: 0.9550\n",
      "Validation Loss: 0.2512, Validation Accuracy: 0.9271\n",
      "Epoch [11/30], Loss: 0.1471, Accuracy: 0.9560\n",
      "Validation Loss: 0.2283, Validation Accuracy: 0.9357\n",
      "Epoch [12/30], Loss: 0.1532, Accuracy: 0.9588\n",
      "Validation Loss: 0.2152, Validation Accuracy: 0.9340\n",
      "Epoch [13/30], Loss: 0.1471, Accuracy: 0.9582\n",
      "Validation Loss: 0.2544, Validation Accuracy: 0.9288\n",
      "Epoch [14/30], Loss: 0.1347, Accuracy: 0.9627\n",
      "Validation Loss: 0.2341, Validation Accuracy: 0.9262\n",
      "Epoch [15/30], Loss: 0.1297, Accuracy: 0.9599\n",
      "Validation Loss: 0.2200, Validation Accuracy: 0.9305\n",
      "Epoch [16/30], Loss: 0.1321, Accuracy: 0.9623\n",
      "Validation Loss: 0.2310, Validation Accuracy: 0.9271\n",
      "Epoch [17/30], Loss: 0.1232, Accuracy: 0.9661\n",
      "Validation Loss: 0.2382, Validation Accuracy: 0.9322\n",
      "Epoch [18/30], Loss: 0.1254, Accuracy: 0.9640\n",
      "Validation Loss: 0.2612, Validation Accuracy: 0.9254\n",
      "Epoch [19/30], Loss: 0.1259, Accuracy: 0.9631\n",
      "Validation Loss: 0.2707, Validation Accuracy: 0.9211\n",
      "Epoch [20/30], Loss: 0.1231, Accuracy: 0.9661\n",
      "Validation Loss: 0.2247, Validation Accuracy: 0.9357\n",
      "Epoch [21/30], Loss: 0.1257, Accuracy: 0.9633\n",
      "Validation Loss: 0.2985, Validation Accuracy: 0.9160\n",
      "Epoch [22/30], Loss: 0.1272, Accuracy: 0.9642\n",
      "Validation Loss: 0.2498, Validation Accuracy: 0.9288\n",
      "Epoch [23/30], Loss: 0.1190, Accuracy: 0.9638\n",
      "Validation Loss: 0.2255, Validation Accuracy: 0.9357\n",
      "Epoch [24/30], Loss: 0.1143, Accuracy: 0.9683\n",
      "Validation Loss: 0.2065, Validation Accuracy: 0.9425\n",
      "Epoch [25/30], Loss: 0.1064, Accuracy: 0.9689\n",
      "Validation Loss: 0.2533, Validation Accuracy: 0.9245\n",
      "Epoch [26/30], Loss: 0.1099, Accuracy: 0.9668\n",
      "Validation Loss: 0.2455, Validation Accuracy: 0.9331\n",
      "Epoch [27/30], Loss: 0.1153, Accuracy: 0.9681\n",
      "Validation Loss: 0.2264, Validation Accuracy: 0.9374\n",
      "Epoch [28/30], Loss: 0.0966, Accuracy: 0.9728\n",
      "Validation Loss: 0.2229, Validation Accuracy: 0.9340\n",
      "Epoch [29/30], Loss: 0.1065, Accuracy: 0.9711\n",
      "Validation Loss: 0.2532, Validation Accuracy: 0.9211\n",
      "Epoch [30/30], Loss: 0.1073, Accuracy: 0.9689\n",
      "Validation Loss: 0.2596, Validation Accuracy: 0.9297\n"
     ]
    }
   ],
   "source": [
    "trained_model = train_model(model, criterion, optimizer, train_loader, val_loader, num_epochs=30)"
   ],
   "metadata": {
    "collapsed": false,
    "ExecuteTime": {
     "end_time": "2024-11-17T10:37:55.263837Z",
     "start_time": "2024-11-17T10:10:30.739987Z"
    }
   },
   "id": "dd5fd9504ecec791",
   "execution_count": 28
  },
  {
   "cell_type": "code",
   "outputs": [],
   "source": [
    "torch.save(trained_model.state_dict(), 'resnet18_finetuned1.pth')"
   ],
   "metadata": {
    "collapsed": false,
    "ExecuteTime": {
     "end_time": "2024-11-17T10:38:01.566814Z",
     "start_time": "2024-11-17T10:38:01.451383Z"
    }
   },
   "id": "7e0bd962cdb2a7a1",
   "execution_count": 29
  },
  {
   "cell_type": "code",
   "outputs": [
    {
     "name": "stderr",
     "output_type": "stream",
     "text": [
      "C:\\Users\\vitya\\Studies\\spbu_deep_learning1\\.venv\\lib\\site-packages\\PIL\\Image.py:1056: UserWarning: Palette images with Transparency expressed in bytes should be converted to RGBA images\n",
      "  warnings.warn(\n"
     ]
    }
   ],
   "source": [
    "import os\n",
    "import pandas as pd\n",
    "from PIL import Image\n",
    "\n",
    "transform_predict = transforms.Compose([\n",
    "    transforms.Resize(256),\n",
    "    transforms.CenterCrop(224),\n",
    "    transforms.ToTensor(),\n",
    "    transforms.Normalize(mean=[0.485, 0.456, 0.406], std=[0.229, 0.224, 0.225])\n",
    "])\n",
    "predict_folder = 'splitted/test'\n",
    "\n",
    "submission_path = 'submission.csv'\n",
    "submission_df = pd.read_csv(submission_path)\n",
    "\n",
    "image_extensions = ['.jpg', '.jpeg', '.png']\n",
    "\n",
    "with torch.no_grad():\n",
    "    for idx, row in submission_df.iterrows():\n",
    "        image_id = row['id']\n",
    "        img_path = None\n",
    "        \n",
    "        for ext in image_extensions:\n",
    "            potential_path = os.path.join(predict_folder, f\"{image_id}{ext}\")\n",
    "            if os.path.exists(potential_path):\n",
    "                img_path = potential_path\n",
    "                break\n",
    "        \n",
    "        if img_path:\n",
    "            image = Image.open(img_path).convert('RGB')\n",
    "            image = transform_predict(image).unsqueeze(0).to(device)\n",
    "\n",
    "            outputs = model(image)\n",
    "            _, predicted = torch.max(outputs, 1)\n",
    "            predicted_label = datasets.ImageFolder(root='splitted/train').classes[predicted.item()]\n",
    "\n",
    "            submission_df.at[idx, 'label'] = predicted_label\n",
    "        else:\n",
    "            print(f\"Image {image_id} not found in {predict_folder} with supported extensions\")\n",
    "\n",
    "label_dict = {\n",
    "    \"Ace\": 0,\n",
    "    \"Akainu\": 1,\n",
    "    \"Brook\": 2,\n",
    "    \"Chopper\": 3,\n",
    "    \"Crocodile\": 4,\n",
    "    \"Franky\": 5,\n",
    "    \"Jinbei\": 6,\n",
    "    \"Kurohige\": 7,\n",
    "    \"Law\": 8,\n",
    "    \"Luffy\": 9,\n",
    "    \"Mihawk\": 10,\n",
    "    \"Nami\": 11,\n",
    "    \"Rayleigh\": 12,\n",
    "    \"Robin\": 13,\n",
    "    \"Sanji\": 14,\n",
    "    \"Shanks\": 15,\n",
    "    \"Usopp\": 16,\n",
    "    \"Zoro\": 17\n",
    "}\n",
    "\n",
    "submission_df['label'] = submission_df['label'].map(label_dict)\n",
    "\n",
    "submission_df.to_csv(submission_path, index=False)\n"
   ],
   "metadata": {
    "collapsed": false,
    "ExecuteTime": {
     "end_time": "2024-11-17T10:42:43.900399Z",
     "start_time": "2024-11-17T10:42:16.274724Z"
    }
   },
   "id": "d03c7f492a6c7cea",
   "execution_count": 31
  },
  {
   "cell_type": "code",
   "outputs": [],
   "source": [
    "transform_augmented_v2 = transforms.Compose([\n",
    "    transforms.RandomResizedCrop(224),  # Случайное изменение размера и обрезка\n",
    "    transforms.RandomHorizontalFlip(),  # Случайное горизонтальное отражение\n",
    "    transforms.RandomRotation(30),  # Случайное вращение изображений на угол до 30 градусов\n",
    "    transforms.RandomAffine(degrees=0, translate=(0.1, 0.1)),  # Случайное смещение изображений\n",
    "    transforms.ColorJitter(brightness=0.2, contrast=0.2, saturation=0.2, hue=0.1),  # Изменение яркости, контраста, насыщенности и оттенка\n",
    "    transforms.GaussianBlur(kernel_size=5),  # Добавление случайного гауссова размытия\n",
    "    transforms.RandomPerspective(distortion_scale=0.5, p=0.3, interpolation=3),  # Случайная перспектива с определенной вероятностью\n",
    "    transforms.ToTensor(),  # Преобразование в тензор\n",
    "    transforms.Normalize(mean=[0.485, 0.456, 0.406], std=[0.229, 0.224, 0.225])  # Нормализация\n",
    "])\n",
    "augmented_dataset_v2 = datasets.ImageFolder(root='splitted/train', transform=transform_augmented_v2)\n",
    "full_dataset = ConcatDataset([original_dataset, augmented_dataset, augmented_dataset_v2])\n",
    "\n",
    "train_size = int(0.8 * len(full_dataset))\n",
    "val_size = len(full_dataset) - train_size\n",
    "train_dataset, val_dataset = random_split(full_dataset, [train_size, val_size])\n",
    "\n",
    "val_dataset.dataset.transform = transform_original\n",
    "\n",
    "train_loader = DataLoader(train_dataset, batch_size=32, shuffle=True, num_workers=4)\n",
    "val_loader = DataLoader(val_dataset, batch_size=32, shuffle=False, num_workers=4)"
   ],
   "metadata": {
    "collapsed": false,
    "ExecuteTime": {
     "end_time": "2024-11-17T10:48:10.128653Z",
     "start_time": "2024-11-17T10:48:10.090698Z"
    }
   },
   "id": "ed8d43f0906a0da5",
   "execution_count": 32
  },
  {
   "cell_type": "code",
   "outputs": [],
   "source": [
    "model1 = models.resnet18(weights=ResNet18_Weights.DEFAULT)\n",
    "\n",
    "\n",
    "num_features = model1.fc.in_features\n",
    "model1.fc = nn.Linear(num_features, len(original_dataset.classes))\n",
    "model1 = model1.to(device)\n",
    "\n",
    "criterion = nn.CrossEntropyLoss()\n",
    "optimizer = optim.Adam(model1.parameters(), lr=1e-4)"
   ],
   "metadata": {
    "collapsed": false,
    "ExecuteTime": {
     "end_time": "2024-11-17T10:48:54.057834Z",
     "start_time": "2024-11-17T10:48:53.782674Z"
    }
   },
   "id": "147cbbd6018d1052",
   "execution_count": 33
  },
  {
   "cell_type": "code",
   "outputs": [
    {
     "name": "stdout",
     "output_type": "stream",
     "text": [
      "Epoch [1/20], Loss: 1.3264, Accuracy: 0.6355\n",
      "Validation Loss: 0.6272, Validation Accuracy: 0.8245\n",
      "Epoch [2/20], Loss: 0.5822, Accuracy: 0.8395\n",
      "Validation Loss: 0.4753, Validation Accuracy: 0.8708\n",
      "Epoch [3/20], Loss: 0.4526, Accuracy: 0.8675\n",
      "Validation Loss: 0.4304, Validation Accuracy: 0.8759\n",
      "Epoch [4/20], Loss: 0.3856, Accuracy: 0.8919\n",
      "Validation Loss: 0.3670, Validation Accuracy: 0.8925\n",
      "Epoch [5/20], Loss: 0.3470, Accuracy: 0.9032\n",
      "Validation Loss: 0.3650, Validation Accuracy: 0.8959\n",
      "Epoch [6/20], Loss: 0.3203, Accuracy: 0.9078\n",
      "Validation Loss: 0.3246, Validation Accuracy: 0.8982\n",
      "Epoch [7/20], Loss: 0.2865, Accuracy: 0.9168\n",
      "Validation Loss: 0.3106, Validation Accuracy: 0.9085\n",
      "Epoch [8/20], Loss: 0.2754, Accuracy: 0.9195\n",
      "Validation Loss: 0.3002, Validation Accuracy: 0.9160\n",
      "Epoch [9/20], Loss: 0.2589, Accuracy: 0.9244\n",
      "Validation Loss: 0.3365, Validation Accuracy: 0.9017\n",
      "Epoch [10/20], Loss: 0.2461, Accuracy: 0.9291\n",
      "Validation Loss: 0.2644, Validation Accuracy: 0.9217\n",
      "Epoch [11/20], Loss: 0.2531, Accuracy: 0.9240\n",
      "Validation Loss: 0.3122, Validation Accuracy: 0.9091\n",
      "Epoch [12/20], Loss: 0.2432, Accuracy: 0.9274\n",
      "Validation Loss: 0.2543, Validation Accuracy: 0.9228\n",
      "Epoch [13/20], Loss: 0.2365, Accuracy: 0.9327\n",
      "Validation Loss: 0.2358, Validation Accuracy: 0.9245\n",
      "Epoch [14/20], Loss: 0.2297, Accuracy: 0.9322\n",
      "Validation Loss: 0.2754, Validation Accuracy: 0.9188\n",
      "Epoch [15/20], Loss: 0.2076, Accuracy: 0.9377\n",
      "Validation Loss: 0.2342, Validation Accuracy: 0.9337\n",
      "Epoch [16/20], Loss: 0.2082, Accuracy: 0.9377\n",
      "Validation Loss: 0.2252, Validation Accuracy: 0.9285\n",
      "Epoch [17/20], Loss: 0.2039, Accuracy: 0.9408\n",
      "Validation Loss: 0.2433, Validation Accuracy: 0.9320\n",
      "Epoch [18/20], Loss: 0.2091, Accuracy: 0.9380\n",
      "Validation Loss: 0.2431, Validation Accuracy: 0.9211\n",
      "Epoch [19/20], Loss: 0.1866, Accuracy: 0.9451\n",
      "Validation Loss: 0.2342, Validation Accuracy: 0.9297\n",
      "Epoch [20/20], Loss: 0.1916, Accuracy: 0.9434\n",
      "Validation Loss: 0.2790, Validation Accuracy: 0.9205\n"
     ]
    }
   ],
   "source": [
    "trained_model = train_model(model1, criterion, optimizer, train_loader, val_loader, num_epochs=20)"
   ],
   "metadata": {
    "collapsed": false,
    "ExecuteTime": {
     "end_time": "2024-11-17T11:12:58.076123Z",
     "start_time": "2024-11-17T10:49:19.002918Z"
    }
   },
   "id": "e7d29059d45bfa9d",
   "execution_count": 34
  },
  {
   "cell_type": "code",
   "outputs": [
    {
     "name": "stderr",
     "output_type": "stream",
     "text": [
      "C:\\Users\\vitya\\AppData\\Local\\Temp\\ipykernel_13108\\2393517644.py:36: FutureWarning: Setting an item of incompatible dtype is deprecated and will raise an error in a future version of pandas. Value 'Mihawk' has dtype incompatible with int64, please explicitly cast to a compatible dtype first.\n",
      "  submission_df.at[idx, 'label'] = predicted_label\n",
      "C:\\Users\\vitya\\Studies\\spbu_deep_learning1\\.venv\\lib\\site-packages\\PIL\\Image.py:1056: UserWarning: Palette images with Transparency expressed in bytes should be converted to RGBA images\n",
      "  warnings.warn(\n"
     ]
    }
   ],
   "source": [
    "transform_predict = transforms.Compose([\n",
    "    transforms.Resize(256),\n",
    "    transforms.CenterCrop(224),\n",
    "    transforms.ToTensor(),\n",
    "    transforms.Normalize(mean=[0.485, 0.456, 0.406], std=[0.229, 0.224, 0.225])\n",
    "])\n",
    "\n",
    "predict_folder = 'splitted/test'\n",
    "\n",
    "submission_path = 'submission.csv'\n",
    "submission_df = pd.read_csv(submission_path)\n",
    "\n",
    "image_extensions = ['.jpg', '.jpeg', '.png']\n",
    "\n",
    "with torch.no_grad():\n",
    "    for idx, row in submission_df.iterrows():\n",
    "        image_id = row['id']\n",
    "        img_path = None\n",
    "        \n",
    "        for ext in image_extensions:\n",
    "            potential_path = os.path.join(predict_folder, f\"{image_id}{ext}\")\n",
    "            if os.path.exists(potential_path):\n",
    "                img_path = potential_path\n",
    "                break\n",
    "        \n",
    "        if img_path:\n",
    "            image = Image.open(img_path).convert('RGB')\n",
    "            image = transform_predict(image).unsqueeze(0).to(device)\n",
    "\n",
    "            outputs = model1(image)\n",
    "            _, predicted = torch.max(outputs, 1)\n",
    "            predicted_label = datasets.ImageFolder(root='splitted/train').classes[predicted.item()]\n",
    "\n",
    "            submission_df.at[idx, 'label'] = predicted_label\n",
    "        else:\n",
    "            print(f\"Image {image_id} not found in {predict_folder} with supported extensions\")\n",
    "\n",
    "label_dict = {\n",
    "    \"Ace\": 0,\n",
    "    \"Akainu\": 1,\n",
    "    \"Brook\": 2,\n",
    "    \"Chopper\": 3,\n",
    "    \"Crocodile\": 4,\n",
    "    \"Franky\": 5,\n",
    "    \"Jinbei\": 6,\n",
    "    \"Kurohige\": 7,\n",
    "    \"Law\": 8,\n",
    "    \"Luffy\": 9,\n",
    "    \"Mihawk\": 10,\n",
    "    \"Nami\": 11,\n",
    "    \"Rayleigh\": 12,\n",
    "    \"Robin\": 13,\n",
    "    \"Sanji\": 14,\n",
    "    \"Shanks\": 15,\n",
    "    \"Usopp\": 16,\n",
    "    \"Zoro\": 17\n",
    "}\n",
    "\n",
    "submission_df['label'] = submission_df['label'].map(label_dict)\n",
    "\n",
    "submission_df.to_csv(submission_path, index=False)"
   ],
   "metadata": {
    "collapsed": false,
    "ExecuteTime": {
     "end_time": "2024-11-17T11:16:00.972167Z",
     "start_time": "2024-11-17T11:15:36.299496Z"
    }
   },
   "id": "565ad3ad3dc64017",
   "execution_count": 36
  },
  {
   "cell_type": "code",
   "outputs": [],
   "source": [
    "torch.save(trained_model.state_dict(), 'resnet18_finetuned2.pth')"
   ],
   "metadata": {
    "collapsed": false,
    "ExecuteTime": {
     "end_time": "2024-11-17T11:16:55.350445Z",
     "start_time": "2024-11-17T11:16:55.173459Z"
    }
   },
   "id": "5af0e2024319128e",
   "execution_count": 37
  },
  {
   "cell_type": "code",
   "outputs": [
    {
     "name": "stderr",
     "output_type": "stream",
     "text": [
      "Downloading: \"https://download.pytorch.org/models/resnet50-11ad3fa6.pth\" to C:\\Users\\vitya/.cache\\torch\\hub\\checkpoints\\resnet50-11ad3fa6.pth\n",
      "100.0%\n"
     ]
    }
   ],
   "source": [
    "from torchvision.models import ResNet50_Weights\n",
    "\n",
    "model2 = models.resnet50(weights=ResNet50_Weights.DEFAULT)\n",
    "\n",
    "\n",
    "num_features = model2.fc.in_features\n",
    "model2.fc = nn.Linear(num_features, len(original_dataset.classes))\n",
    "model2 = model2.to(device)\n",
    "\n",
    "criterion = nn.CrossEntropyLoss()\n",
    "optimizer = optim.Adam(model2.parameters(), lr=1e-4)"
   ],
   "metadata": {
    "collapsed": false,
    "ExecuteTime": {
     "end_time": "2024-11-17T12:11:35.216751Z",
     "start_time": "2024-11-17T12:11:25.808009Z"
    }
   },
   "id": "9502c32a54655819",
   "execution_count": 39
  },
  {
   "cell_type": "code",
   "outputs": [
    {
     "name": "stdout",
     "output_type": "stream",
     "text": [
      "Epoch [1/10], Loss: 0.3605, Accuracy: 0.8992\n",
      "Validation Loss: 0.3117, Validation Accuracy: 0.9097\n",
      "Epoch [2/10], Loss: 0.2904, Accuracy: 0.9165\n",
      "Validation Loss: 0.2680, Validation Accuracy: 0.9228\n",
      "Epoch [3/10], Loss: 0.2475, Accuracy: 0.9274\n",
      "Validation Loss: 0.2438, Validation Accuracy: 0.9251\n",
      "Epoch [4/10], Loss: 0.2350, Accuracy: 0.9308\n",
      "Validation Loss: 0.2389, Validation Accuracy: 0.9302\n",
      "Epoch [5/10], Loss: 0.2231, Accuracy: 0.9352\n",
      "Validation Loss: 0.2152, Validation Accuracy: 0.9400\n",
      "Epoch [6/10], Loss: 0.2145, Accuracy: 0.9364\n",
      "Validation Loss: 0.1723, Validation Accuracy: 0.9525\n",
      "Epoch [7/10], Loss: 0.1832, Accuracy: 0.9485\n",
      "Validation Loss: 0.1925, Validation Accuracy: 0.9411\n",
      "Epoch [8/10], Loss: 0.1768, Accuracy: 0.9475\n",
      "Validation Loss: 0.2149, Validation Accuracy: 0.9394\n",
      "Epoch [9/10], Loss: 0.1615, Accuracy: 0.9535\n",
      "Validation Loss: 0.2236, Validation Accuracy: 0.9383\n",
      "Epoch [10/10], Loss: 0.1681, Accuracy: 0.9507\n",
      "Validation Loss: 0.1667, Validation Accuracy: 0.9480\n"
     ]
    }
   ],
   "source": [
    "trained_model = train_model(model2, criterion, optimizer, train_loader, val_loader, num_epochs=10)"
   ],
   "metadata": {
    "collapsed": false,
    "ExecuteTime": {
     "end_time": "2024-11-17T12:56:42.527078Z",
     "start_time": "2024-11-17T12:19:42.414407Z"
    }
   },
   "id": "488c6f25c3b79fcf",
   "execution_count": 41
  },
  {
   "cell_type": "code",
   "outputs": [
    {
     "name": "stderr",
     "output_type": "stream",
     "text": [
      "C:\\Users\\vitya\\AppData\\Local\\Temp\\ipykernel_13108\\2902862233.py:36: FutureWarning: Setting an item of incompatible dtype is deprecated and will raise an error in a future version of pandas. Value 'Mihawk' has dtype incompatible with int64, please explicitly cast to a compatible dtype first.\n",
      "  submission_df.at[idx, 'label'] = predicted_label\n",
      "C:\\Users\\vitya\\Studies\\spbu_deep_learning1\\.venv\\lib\\site-packages\\PIL\\Image.py:1056: UserWarning: Palette images with Transparency expressed in bytes should be converted to RGBA images\n",
      "  warnings.warn(\n"
     ]
    }
   ],
   "source": [
    "transform_predict = transforms.Compose([\n",
    "    transforms.Resize(256),\n",
    "    transforms.CenterCrop(224),\n",
    "    transforms.ToTensor(),\n",
    "    transforms.Normalize(mean=[0.485, 0.456, 0.406], std=[0.229, 0.224, 0.225])\n",
    "])\n",
    "\n",
    "predict_folder = 'splitted/test'\n",
    "\n",
    "submission_path = 'submission.csv'\n",
    "submission_df = pd.read_csv(submission_path)\n",
    "\n",
    "image_extensions = ['.jpg', '.jpeg', '.png']\n",
    "\n",
    "with torch.no_grad():\n",
    "    for idx, row in submission_df.iterrows():\n",
    "        image_id = row['id']\n",
    "        img_path = None\n",
    "        \n",
    "        for ext in image_extensions:\n",
    "            potential_path = os.path.join(predict_folder, f\"{image_id}{ext}\")\n",
    "            if os.path.exists(potential_path):\n",
    "                img_path = potential_path\n",
    "                break\n",
    "        \n",
    "        if img_path:\n",
    "            image = Image.open(img_path).convert('RGB')\n",
    "            image = transform_predict(image).unsqueeze(0).to(device)\n",
    "\n",
    "            outputs = model2(image)\n",
    "            _, predicted = torch.max(outputs, 1)\n",
    "            predicted_label = datasets.ImageFolder(root='splitted/train').classes[predicted.item()]\n",
    "\n",
    "            submission_df.at[idx, 'label'] = predicted_label\n",
    "        else:\n",
    "            print(f\"Image {image_id} not found in {predict_folder} with supported extensions\")\n",
    "\n",
    "label_dict = {\n",
    "    \"Ace\": 0,\n",
    "    \"Akainu\": 1,\n",
    "    \"Brook\": 2,\n",
    "    \"Chopper\": 3,\n",
    "    \"Crocodile\": 4,\n",
    "    \"Franky\": 5,\n",
    "    \"Jinbei\": 6,\n",
    "    \"Kurohige\": 7,\n",
    "    \"Law\": 8,\n",
    "    \"Luffy\": 9,\n",
    "    \"Mihawk\": 10,\n",
    "    \"Nami\": 11,\n",
    "    \"Rayleigh\": 12,\n",
    "    \"Robin\": 13,\n",
    "    \"Sanji\": 14,\n",
    "    \"Shanks\": 15,\n",
    "    \"Usopp\": 16,\n",
    "    \"Zoro\": 17\n",
    "}\n",
    "\n",
    "submission_df['label'] = submission_df['label'].map(label_dict)\n",
    "\n",
    "submission_df.to_csv(submission_path, index=False)"
   ],
   "metadata": {
    "collapsed": false,
    "ExecuteTime": {
     "end_time": "2024-11-17T12:57:52.610165Z",
     "start_time": "2024-11-17T12:57:14.907601Z"
    }
   },
   "id": "1ed3fc3217256be3",
   "execution_count": 42
  },
  {
   "cell_type": "code",
   "outputs": [],
   "source": [],
   "metadata": {
    "collapsed": false
   },
   "id": "47badec92681385"
  }
 ],
 "metadata": {
  "kernelspec": {
   "display_name": "Python 3",
   "language": "python",
   "name": "python3"
  },
  "language_info": {
   "codemirror_mode": {
    "name": "ipython",
    "version": 2
   },
   "file_extension": ".py",
   "mimetype": "text/x-python",
   "name": "python",
   "nbconvert_exporter": "python",
   "pygments_lexer": "ipython2",
   "version": "2.7.6"
  }
 },
 "nbformat": 4,
 "nbformat_minor": 5
}
