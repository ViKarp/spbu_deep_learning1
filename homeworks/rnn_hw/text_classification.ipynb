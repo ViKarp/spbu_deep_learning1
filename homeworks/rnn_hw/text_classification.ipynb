{
 "cells": [
  {
   "cell_type": "code",
   "id": "initial_id",
   "metadata": {
    "collapsed": true,
    "ExecuteTime": {
     "end_time": "2024-12-02T09:42:20.406931Z",
     "start_time": "2024-12-02T09:42:20.404362Z"
    }
   },
   "source": [
    "import torch\n",
    "import torch.nn as nn\n",
    "import torch.optim as optim\n",
    "from torch.utils.data import DataLoader, Dataset\n",
    "from sklearn.model_selection import train_test_split\n",
    "from sklearn.metrics import accuracy_score\n",
    "from sklearn.preprocessing import LabelEncoder\n",
    "import numpy as np\n",
    "import pandas as pd\n",
    "import matplotlib.pyplot as plt\n",
    "from IPython.display import clear_output"
   ],
   "outputs": [],
   "execution_count": 15
  },
  {
   "metadata": {
    "ExecuteTime": {
     "end_time": "2024-12-02T09:37:36.563125Z",
     "start_time": "2024-12-02T09:37:33.886215Z"
    }
   },
   "cell_type": "code",
   "source": [
    "df_train = pd.read_csv('../../additional_materials/data/train.csv', index_col=0)\n",
    "print(df_train.shape)\n",
    "df_train.info()"
   ],
   "id": "a45345e835d3a6d5",
   "outputs": [
    {
     "name": "stdout",
     "output_type": "stream",
     "text": [
      "(189891, 2)\n",
      "<class 'pandas.core.frame.DataFrame'>\n",
      "Index: 189891 entries, 21098 to 210988\n",
      "Data columns (total 2 columns):\n",
      " #   Column     Non-Null Count   Dtype \n",
      "---  ------     --------------   ----- \n",
      " 0   text       189891 non-null  object\n",
      " 1   sentiment  189891 non-null  int64 \n",
      "dtypes: int64(1), object(1)\n",
      "memory usage: 4.3+ MB\n"
     ]
    }
   ],
   "execution_count": 5
  },
  {
   "metadata": {
    "ExecuteTime": {
     "end_time": "2024-12-02T11:27:18.561607Z",
     "start_time": "2024-12-02T11:27:18.559339Z"
    }
   },
   "cell_type": "code",
   "source": "texts, labels = df_train.text.values, df_train.sentiment.values",
   "id": "311db5ed557f2ffd",
   "outputs": [],
   "execution_count": 135
  },
  {
   "metadata": {
    "ExecuteTime": {
     "end_time": "2024-12-02T11:30:01.714832Z",
     "start_time": "2024-12-02T11:27:43.178453Z"
    }
   },
   "cell_type": "code",
   "source": [
    "import re\n",
    "import nltk\n",
    "from nltk.stem import WordNetLemmatizer\n",
    "from nltk.tokenize import word_tokenize\n",
    "\n",
    "# Загрузка необходимых данных из nltk\n",
    "nltk.download('punkt_tab')\n",
    "nltk.download(\"wordnet\")\n",
    "\n",
    "class TextDataset(Dataset):\n",
    "    def __init__(self, texts, labels, max_len=1024, vocab=None):\n",
    "        lemmatizer = WordNetLemmatizer()\n",
    "        cleaned_texts = []\n",
    "        for i, text in enumerate(texts):\n",
    "            text = self.clean_text(text)  # Очистка текста\n",
    "            text = [lemmatizer.lemmatize(token) for token in text]  # Лемматизация\n",
    "            if len(text) > max_len:\n",
    "                text = text[:max_len]  # Обрезаем текст до max_len\n",
    "            cleaned_texts.append(text)\n",
    "\n",
    "        self.texts = cleaned_texts\n",
    "        self.labels = labels\n",
    "        self.vocab = vocab or self.build_vocab(self.texts)\n",
    "        self.label_encoder = LabelEncoder()\n",
    "        self.label_encoder.fit(labels)\n",
    "        self.max_len = max_len\n",
    "\n",
    "    def clean_text(self, text):\n",
    "        \"\"\"\n",
    "        Очищает текст от ненужных символов и выполняет токенизацию.\n",
    "        Сохраняет отдельными токенами точки, восклицательные и вопросительные знаки, скобки.\n",
    "        \"\"\"\n",
    "        # Токенизация текста\n",
    "        tokens = word_tokenize(text.lower())\n",
    "\n",
    "        # Удаляем ненужные символы, оставляем токены пунктуации и слова\n",
    "        tokens = [t for t in tokens if re.match(r\"[\\w()!?.,]+\", t)]\n",
    "\n",
    "        return tokens\n",
    "\n",
    "    def build_vocab(self, texts):\n",
    "        vocab = {\"<PAD>\": 0, \"<UNK>\": 1}\n",
    "        for text in texts:\n",
    "            for word in text:\n",
    "                if word not in vocab:\n",
    "                    vocab[word] = len(vocab)\n",
    "        return vocab\n",
    "\n",
    "    def encode_text(self, text):\n",
    "        return [self.vocab.get(word, self.vocab[\"<UNK>\"]) for word in text]\n",
    "\n",
    "    def __len__(self):\n",
    "        return len(self.texts)\n",
    "\n",
    "    def __getitem__(self, idx):\n",
    "        text = self.encode_text(self.texts[idx])\n",
    "        label = self.label_encoder.transform([self.labels[idx]])[0]\n",
    "        return torch.tensor(text, dtype=torch.long), torch.tensor(label, dtype=torch.long)\n"
   ],
   "id": "8b0721376546eb1",
   "outputs": [
    {
     "name": "stderr",
     "output_type": "stream",
     "text": [
      "[nltk_data] Downloading package punkt_tab to /home/viktor/nltk_data...\n",
      "[nltk_data]   Unzipping tokenizers/punkt_tab.zip.\n",
      "[nltk_data] Downloading package wordnet to /home/viktor/nltk_data...\n",
      "[nltk_data]   Package wordnet is already up-to-date!\n"
     ]
    }
   ],
   "execution_count": 139
  },
  {
   "metadata": {
    "ExecuteTime": {
     "end_time": "2024-12-02T11:30:19.092159Z",
     "start_time": "2024-12-02T11:30:19.072422Z"
    }
   },
   "cell_type": "code",
   "source": [
    "train_texts, test_texts, train_labels, test_labels = train_test_split(\n",
    "    texts, labels, test_size=0.3, random_state=42)"
   ],
   "id": "3b80bee6a087dfe2",
   "outputs": [],
   "execution_count": 140
  },
  {
   "metadata": {
    "ExecuteTime": {
     "end_time": "2024-12-02T11:33:18.122901Z",
     "start_time": "2024-12-02T11:30:19.885062Z"
    }
   },
   "cell_type": "code",
   "source": [
    "train_dataset = TextDataset(train_texts, train_labels)\n",
    "test_dataset = TextDataset(test_texts, test_labels, vocab=train_dataset.vocab)"
   ],
   "id": "c9aaa36fc4f2d5e8",
   "outputs": [],
   "execution_count": 141
  },
  {
   "metadata": {
    "ExecuteTime": {
     "end_time": "2024-12-02T11:33:25.803692Z",
     "start_time": "2024-12-02T11:33:25.761564Z"
    }
   },
   "cell_type": "code",
   "source": [
    "train_loader = DataLoader(train_dataset, batch_size=16, shuffle=True, collate_fn=lambda x: collate_fn(x, train_dataset.vocab, train_dataset.max_len))\n",
    "test_loader = DataLoader(test_dataset, batch_size=16, shuffle=False, collate_fn=lambda x: collate_fn(x, train_dataset.vocab, train_dataset.max_len))"
   ],
   "id": "d8f8c5febfe25ed8",
   "outputs": [],
   "execution_count": 142
  },
  {
   "metadata": {
    "ExecuteTime": {
     "end_time": "2024-12-02T11:33:26.796559Z",
     "start_time": "2024-12-02T11:33:26.791682Z"
    }
   },
   "cell_type": "code",
   "source": [
    "def collate_fn(batch, vocab, max_len):\n",
    "    texts, labels = zip(*batch)\n",
    "    padded_texts = [\n",
    "        torch.cat((text, torch.tensor([vocab[\"<PAD>\"]] * (max_len - len(text)))))\n",
    "        for text in texts\n",
    "    ]\n",
    "    return torch.stack(padded_texts), torch.tensor(labels, dtype=torch.long)\n",
    "\n",
    "\n",
    "\n",
    "class SentimentRNN(nn.Module):\n",
    "    def __init__(self, vocab_size, embed_size, hidden_size, num_classes):\n",
    "        super(SentimentRNN, self).__init__()\n",
    "        self.embedding = nn.Embedding(vocab_size, embed_size, padding_idx=0)\n",
    "        self.lstm = nn.LSTM(embed_size, hidden_size, batch_first=True)\n",
    "        self.fc = nn.Linear(hidden_size, num_classes)\n",
    "\n",
    "    def forward(self, x):\n",
    "        x = self.embedding(x)\n",
    "        _, (h_n, _) = self.lstm(x)\n",
    "        out = self.fc(h_n[-1])\n",
    "        return out"
   ],
   "id": "74949579b3ab171",
   "outputs": [],
   "execution_count": 143
  },
  {
   "metadata": {
    "ExecuteTime": {
     "end_time": "2024-12-02T11:33:27.957061Z",
     "start_time": "2024-12-02T11:33:27.954824Z"
    }
   },
   "cell_type": "code",
   "source": [
    "vocab_size = len(train_dataset.vocab)\n",
    "embed_size = 256\n",
    "hidden_size = 128\n",
    "num_classes = len(train_dataset.label_encoder.classes_)"
   ],
   "id": "e289afc148e433e1",
   "outputs": [],
   "execution_count": 144
  },
  {
   "metadata": {
    "ExecuteTime": {
     "end_time": "2024-12-02T11:33:29.037178Z",
     "start_time": "2024-12-02T11:33:29.034535Z"
    }
   },
   "cell_type": "code",
   "source": "vocab_size",
   "id": "476d088c651eec43",
   "outputs": [
    {
     "data": {
      "text/plain": [
       "490241"
      ]
     },
     "execution_count": 145,
     "metadata": {},
     "output_type": "execute_result"
    }
   ],
   "execution_count": 145
  },
  {
   "metadata": {
    "ExecuteTime": {
     "end_time": "2024-12-02T11:33:32.373278Z",
     "start_time": "2024-12-02T11:33:31.620487Z"
    }
   },
   "cell_type": "code",
   "source": "model = SentimentRNN(vocab_size, embed_size, hidden_size, num_classes).to('cuda')",
   "id": "1d0f04cd5607e45e",
   "outputs": [],
   "execution_count": 146
  },
  {
   "metadata": {
    "ExecuteTime": {
     "end_time": "2024-12-02T11:33:33.640737Z",
     "start_time": "2024-12-02T11:33:33.637955Z"
    }
   },
   "cell_type": "code",
   "source": [
    "criterion = nn.CrossEntropyLoss()\n",
    "optimizer = optim.Adam(model.parameters(), lr=0.001)"
   ],
   "id": "f16b95c63ea21be2",
   "outputs": [],
   "execution_count": 147
  },
  {
   "metadata": {
    "ExecuteTime": {
     "end_time": "2024-12-02T11:33:34.761950Z",
     "start_time": "2024-12-02T11:33:34.759515Z"
    }
   },
   "cell_type": "code",
   "source": [
    "def plot_losses(losses):\n",
    "    clear_output()\n",
    "    plt.plot(range(1, len(losses) + 1), losses)\n",
    "    plt.xlabel('epoch')\n",
    "    plt.ylabel('loss')\n",
    "    plt.show()"
   ],
   "id": "ca9905dd1f715fa0",
   "outputs": [],
   "execution_count": 148
  },
  {
   "metadata": {
    "ExecuteTime": {
     "end_time": "2024-12-02T11:39:53.141248Z",
     "start_time": "2024-12-02T11:39:53.078405Z"
    }
   },
   "cell_type": "code",
   "source": [
    "for i in train_loader:\n",
    "    if i[0].dtype != torch.int64:\n",
    "        \n",
    "        print(i[0])\n",
    "    \n",
    "        break"
   ],
   "id": "98d1292aab00ca2e",
   "outputs": [
    {
     "name": "stdout",
     "output_type": "stream",
     "text": [
      "tensor([[1.2570e+04, 1.9640e+04, 1.6333e+04,  ..., 0.0000e+00, 0.0000e+00,\n",
      "         0.0000e+00],\n",
      "        [4.5133e+04, 4.6000e+01, 1.0500e+02,  ..., 0.0000e+00, 0.0000e+00,\n",
      "         0.0000e+00],\n",
      "        [9.2900e+02, 1.3000e+01, 4.6000e+01,  ..., 0.0000e+00, 0.0000e+00,\n",
      "         0.0000e+00],\n",
      "        ...,\n",
      "        [9.3200e+02, 7.2000e+01, 2.0670e+03,  ..., 0.0000e+00, 0.0000e+00,\n",
      "         0.0000e+00],\n",
      "        [2.0000e+01, 5.2000e+01, 5.4033e+04,  ..., 0.0000e+00, 0.0000e+00,\n",
      "         0.0000e+00],\n",
      "        [8.5700e+02, 2.4020e+03, 8.5000e+01,  ..., 0.0000e+00, 0.0000e+00,\n",
      "         0.0000e+00]])\n"
     ]
    }
   ],
   "execution_count": 165
  },
  {
   "metadata": {},
   "cell_type": "code",
   "source": [
    "losses = []\n",
    "num_epochs = 10\n",
    "for epoch in range(num_epochs):\n",
    "    model.train()\n",
    "    total_loss = 0\n",
    "    for batch_idx, loader in enumerate(train_loader):\n",
    "        texts, labels = loader\n",
    "        optimizer.zero_grad()\n",
    "        outputs = model(texts.int().to('cuda'))\n",
    "        loss = criterion(outputs, labels.to('cuda'))\n",
    "        losses.append(loss.item()) \n",
    "        loss.backward()\n",
    "        optimizer.step()\n",
    "        total_loss += loss.item()\n",
    "        if (batch_idx + 1) % 100 == 0:\n",
    "                print(f\"Epoch [{epoch}/{num_epochs}], Step [{batch_idx + 1}], Loss: {loss.item():.4f}\")\n",
    "    plot_losses(losses)\n",
    "\n",
    "    print(f\"Epoch {epoch + 1}/{num_epochs}, Loss: {total_loss:.4f}\")"
   ],
   "id": "a41232b12af4e194",
   "execution_count": 166,
   "outputs": [
    {
     "data": {
      "text/plain": [
       "<Figure size 640x480 with 1 Axes>"
      ],
      "image/png": "[encoded data removed]"
     },
     "metadata": {},
     "output_type": "display_data"
    },
    {
     "name": "stdout",
     "output_type": "stream",
     "text": [
      "Epoch 1/10, Loss: 8760.8702\n",
      "Epoch [1/10], Step [100], Loss: 1.1223\n"
     ]
    },
    {
     "ename": "KeyboardInterrupt",
     "evalue": "",
     "output_type": "error",
     "traceback": [
      "\u001B[0;31m---------------------------------------------------------------------------\u001B[0m",
      "\u001B[0;31mKeyboardInterrupt\u001B[0m                         Traceback (most recent call last)",
      "Cell \u001B[0;32mIn[166], line 14\u001B[0m\n\u001B[1;32m     12\u001B[0m loss\u001B[38;5;241m.\u001B[39mbackward()\n\u001B[1;32m     13\u001B[0m optimizer\u001B[38;5;241m.\u001B[39mstep()\n\u001B[0;32m---> 14\u001B[0m total_loss \u001B[38;5;241m+\u001B[39m\u001B[38;5;241m=\u001B[39m \u001B[43mloss\u001B[49m\u001B[38;5;241;43m.\u001B[39;49m\u001B[43mitem\u001B[49m\u001B[43m(\u001B[49m\u001B[43m)\u001B[49m\n\u001B[1;32m     15\u001B[0m \u001B[38;5;28;01mif\u001B[39;00m (batch_idx \u001B[38;5;241m+\u001B[39m \u001B[38;5;241m1\u001B[39m) \u001B[38;5;241m%\u001B[39m \u001B[38;5;241m100\u001B[39m \u001B[38;5;241m==\u001B[39m \u001B[38;5;241m0\u001B[39m:\n\u001B[1;32m     16\u001B[0m         \u001B[38;5;28mprint\u001B[39m(\u001B[38;5;124mf\u001B[39m\u001B[38;5;124m\"\u001B[39m\u001B[38;5;124mEpoch [\u001B[39m\u001B[38;5;132;01m{\u001B[39;00mepoch\u001B[38;5;132;01m}\u001B[39;00m\u001B[38;5;124m/\u001B[39m\u001B[38;5;132;01m{\u001B[39;00mnum_epochs\u001B[38;5;132;01m}\u001B[39;00m\u001B[38;5;124m], Step [\u001B[39m\u001B[38;5;132;01m{\u001B[39;00mbatch_idx\u001B[38;5;250m \u001B[39m\u001B[38;5;241m+\u001B[39m\u001B[38;5;250m \u001B[39m\u001B[38;5;241m1\u001B[39m\u001B[38;5;132;01m}\u001B[39;00m\u001B[38;5;124m], Loss: \u001B[39m\u001B[38;5;132;01m{\u001B[39;00mloss\u001B[38;5;241m.\u001B[39mitem()\u001B[38;5;132;01m:\u001B[39;00m\u001B[38;5;124m.4f\u001B[39m\u001B[38;5;132;01m}\u001B[39;00m\u001B[38;5;124m\"\u001B[39m)\n",
      "\u001B[0;31mKeyboardInterrupt\u001B[0m: "
     ]
    }
   ]
  },
  {
   "metadata": {
    "ExecuteTime": {
     "end_time": "2024-12-02T11:49:57.491056Z",
     "start_time": "2024-12-02T11:49:35.725621Z"
    }
   },
   "cell_type": "code",
   "source": [
    "model.eval()\n",
    "all_preds = []\n",
    "all_labels = []\n",
    "with torch.no_grad():\n",
    "    for texts, labels in test_loader:\n",
    "        outputs = model(texts.int().to('cuda'))\n",
    "        preds = torch.argmax(outputs, dim=1)\n",
    "        all_preds.extend(preds.cpu().numpy().tolist())\n",
    "        all_labels.extend(labels.cpu().numpy().tolist())\n",
    "\n",
    "accuracy = accuracy_score(all_labels, all_preds)\n",
    "print(f\"Test Accuracy: {accuracy:.4f}\")\n"
   ],
   "id": "5d24d2ca1e0efb19",
   "outputs": [
    {
     "name": "stdout",
     "output_type": "stream",
     "text": [
      "Test Accuracy: 0.4801\n"
     ]
    }
   ],
   "execution_count": 168
  },
  {
   "metadata": {},
   "cell_type": "code",
   "outputs": [],
   "execution_count": null,
   "source": "",
   "id": "f655b385236c0c39"
  }
 ],
 "metadata": {
  "kernelspec": {
   "display_name": "Python 3",
   "language": "python",
   "name": "python3"
  },
  "language_info": {
   "codemirror_mode": {
    "name": "ipython",
    "version": 2
   },
   "file_extension": ".py",
   "mimetype": "text/x-python",
   "name": "python",
   "nbconvert_exporter": "python",
   "pygments_lexer": "ipython2",
   "version": "2.7.6"
  }
 },
 "nbformat": 4,
 "nbformat_minor": 5
}
