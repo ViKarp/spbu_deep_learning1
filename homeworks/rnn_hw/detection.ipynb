{
 "cells": [
  {
   "cell_type": "code",
   "id": "initial_id",
   "metadata": {
    "collapsed": true,
    "ExecuteTime": {
     "end_time": "2024-12-02T13:36:33.633990Z",
     "start_time": "2024-12-02T13:36:32.970323Z"
    }
   },
   "source": [
    "import os\n",
    "import json\n",
    "from PIL import Image\n",
    "import torch\n",
    "from torchvision.transforms import ToTensor\n",
    "\n",
    "def load_annotations(txt_file_path):\n",
    "    boxes = []\n",
    "    try:\n",
    "        with open(txt_file_path, 'r') as f:\n",
    "            for line in f:\n",
    "                coords = list(map(int, line.strip().split(',')))\n",
    "                if len(coords) == 4:\n",
    "                    boxes.append(coords)\n",
    "    except FileNotFoundError:\n",
    "        print(f\"Warning: Annotation file {txt_file_path} not found. Assuming no objects.\")\n",
    "    if not boxes:\n",
    "        return {\n",
    "            \"boxes\": torch.zeros((0, 4), dtype=torch.float32),\n",
    "            \"labels\": torch.zeros((0,), dtype=torch.int64)\n",
    "        }\n",
    "\n",
    "    return {\n",
    "        \"boxes\": torch.tensor(boxes, dtype=torch.float32),\n",
    "        \"labels\": torch.tensor([1] * len(boxes), dtype=torch.int64)\n",
    "    }\n",
    "\n",
    "def prepare_data(images_dir, annotations_dir):\n",
    "    dataset = []\n",
    "    for file_name in os.listdir(annotations_dir):\n",
    "        if file_name.endswith('.txt'):\n",
    "            img_name = file_name.replace('.txt', '.jpg')\n",
    "            img_path = os.path.join(images_dir, img_name)\n",
    "            ann_path = os.path.join(annotations_dir, file_name)\n",
    "\n",
    "            annotations = load_annotations(ann_path)\n",
    "            dataset.append((img_path, annotations))\n",
    "    return dataset\n"
   ],
   "outputs": [],
   "execution_count": 2
  },
  {
   "metadata": {
    "ExecuteTime": {
     "end_time": "2024-12-02T13:36:33.720538Z",
     "start_time": "2024-12-02T13:36:33.641738Z"
    }
   },
   "cell_type": "code",
   "source": [
    "data = prepare_data(\"./spbu-dl-2024-people-detection/train/images\", \"./spbu-dl-2024-people-detection/train/annotations\")\n",
    "print(data[0])  # Пример одной записи\n"
   ],
   "id": "71878991a4b9257",
   "outputs": [
    {
     "name": "stdout",
     "output_type": "stream",
     "text": [
      "('./spbu-dl-2024-people-detection/train/images/1606.jpg', {'boxes': tensor([[ 12., 370., 103., 488.],\n",
      "        [104., 374., 194., 496.],\n",
      "        [199., 386., 292., 495.],\n",
      "        [341., 394., 430., 495.],\n",
      "        [191., 305., 410., 379.],\n",
      "        [181., 229., 301., 358.]]), 'labels': tensor([1, 1, 1, 1, 1, 1])})\n"
     ]
    }
   ],
   "execution_count": 3
  },
  {
   "metadata": {
    "ExecuteTime": {
     "end_time": "2024-12-02T13:36:33.793135Z",
     "start_time": "2024-12-02T13:36:33.787717Z"
    }
   },
   "cell_type": "code",
   "source": "len(data)",
   "id": "a36928be166bb0b8",
   "outputs": [
    {
     "data": {
      "text/plain": [
       "3344"
      ]
     },
     "execution_count": 4,
     "metadata": {},
     "output_type": "execute_result"
    }
   ],
   "execution_count": 4
  },
  {
   "metadata": {
    "ExecuteTime": {
     "end_time": "2024-12-02T13:36:34.086971Z",
     "start_time": "2024-12-02T13:36:34.083595Z"
    }
   },
   "cell_type": "code",
   "source": [
    "from torch.utils.data import Dataset\n",
    "\n",
    "class PeopleDataset(Dataset):\n",
    "    def __init__(self, data, transforms=None):\n",
    "        self.data = data\n",
    "        self.transforms = transforms\n",
    "\n",
    "    def __getitem__(self, idx):\n",
    "        img_path, annotations = self.data[idx]\n",
    "        img = Image.open(img_path).convert(\"RGB\")\n",
    "        boxes = torch.tensor(annotations['boxes'], dtype=torch.float32)\n",
    "        labels = torch.tensor(annotations['labels'], dtype=torch.int64)\n",
    "\n",
    "        target = {\"boxes\": boxes, \"labels\": labels}\n",
    "        if self.transforms:\n",
    "            img = self.transforms(img)\n",
    "        return img, target\n",
    "\n",
    "    def __len__(self):\n",
    "        return len(self.data)\n"
   ],
   "id": "8da4c1a20ef35ac1",
   "outputs": [],
   "execution_count": 5
  },
  {
   "metadata": {
    "ExecuteTime": {
     "end_time": "2024-12-02T13:36:34.745018Z",
     "start_time": "2024-12-02T13:36:34.281115Z"
    }
   },
   "cell_type": "code",
   "source": [
    "import torchvision\n",
    "from torchvision.models.detection import fasterrcnn_resnet50_fpn\n",
    "from torchvision.models.detection.faster_rcnn import FastRCNNPredictor, FasterRCNN_ResNet50_FPN_Weights\n",
    "\n",
    "# Загружаем модель и настраиваем под один класс (люди)\n",
    "model = torchvision.models.detection.fasterrcnn_resnet50_fpn(weights=FasterRCNN_ResNet50_FPN_Weights.DEFAULT)\n",
    "num_classes = 2  # фон + класс \"человек\"\n",
    "in_features = model.roi_heads.box_predictor.cls_score.in_features\n",
    "model.roi_heads.box_predictor = FastRCNNPredictor(in_features, num_classes)"
   ],
   "id": "1d76f663e6bc1ef1",
   "outputs": [],
   "execution_count": 6
  },
  {
   "metadata": {
    "ExecuteTime": {
     "end_time": "2024-12-02T13:36:35.538713Z",
     "start_time": "2024-12-02T13:36:35.494733Z"
    }
   },
   "cell_type": "code",
   "source": [
    "from sklearn.model_selection import train_test_split\n",
    "\n",
    "train_data, val_data = train_test_split(data, test_size=0.2, random_state=42)\n",
    "\n",
    "train_dataset = PeopleDataset(train_data, transforms=ToTensor())\n",
    "val_dataset = PeopleDataset(val_data, transforms=ToTensor())\n",
    "\n",
    "from torch.utils.data import DataLoader\n",
    "\n",
    "train_loader = DataLoader(train_dataset, batch_size=2, shuffle=True, collate_fn=lambda x: tuple(zip(*x)))\n",
    "val_loader = DataLoader(val_dataset, batch_size=2, shuffle=False, collate_fn=lambda x: tuple(zip(*x)))\n"
   ],
   "id": "8ce76fa90db7fdc9",
   "outputs": [],
   "execution_count": 7
  },
  {
   "metadata": {
    "ExecuteTime": {
     "end_time": "2024-12-02T13:36:45.422171Z",
     "start_time": "2024-12-02T13:36:45.317395Z"
    }
   },
   "cell_type": "code",
   "source": [
    "import torch\n",
    "import torch.optim as optim\n",
    "\n",
    "device = torch.device('cuda') if torch.cuda.is_available() else torch.device('cpu')\n",
    "model.to(device)\n",
    "\n",
    "optimizer = optim.Adam(model.parameters(), lr=0.005)\n",
    "num_epochs = 10\n"
   ],
   "id": "2c3292f16276c6d9",
   "outputs": [],
   "execution_count": 8
  },
  {
   "metadata": {
    "ExecuteTime": {
     "end_time": "2024-12-02T13:46:31.494100Z",
     "start_time": "2024-12-02T13:37:04.268066Z"
    }
   },
   "cell_type": "code",
   "source": [
    "for epoch in range(num_epochs):\n",
    "    model.train()\n",
    "    for imgs, targets in train_loader:\n",
    "        imgs = [img.to(device) for img in imgs]\n",
    "        targets = [{k: v.to(device) for k, v in t.items()} for t in targets]\n",
    "\n",
    "        loss_dict = model(imgs, targets)\n",
    "        losses = sum(loss for loss in loss_dict.values())\n",
    "\n",
    "        optimizer.zero_grad()\n",
    "        losses.backward()\n",
    "        optimizer.step()\n",
    "\n",
    "    print(f\"Epoch {epoch + 1}, Loss: {losses.item():.4f}\")"
   ],
   "id": "9b84471a115e9abe",
   "outputs": [
    {
     "name": "stderr",
     "output_type": "stream",
     "text": [
      "/tmp/ipykernel_18214/1665521856.py:11: UserWarning: To copy construct from a tensor, it is recommended to use sourceTensor.clone().detach() or sourceTensor.clone().detach().requires_grad_(True), rather than torch.tensor(sourceTensor).\n",
      "  boxes = torch.tensor(annotations['boxes'], dtype=torch.float32)\n",
      "/tmp/ipykernel_18214/1665521856.py:12: UserWarning: To copy construct from a tensor, it is recommended to use sourceTensor.clone().detach() or sourceTensor.clone().detach().requires_grad_(True), rather than torch.tensor(sourceTensor).\n",
      "  labels = torch.tensor(annotations['labels'], dtype=torch.int64)\n"
     ]
    },
    {
     "name": "stdout",
     "output_type": "stream",
     "text": [
      "Epoch 1, Loss: nan\n"
     ]
    },
    {
     "ename": "KeyboardInterrupt",
     "evalue": "",
     "output_type": "error",
     "traceback": [
      "\u001B[0;31m---------------------------------------------------------------------------\u001B[0m",
      "\u001B[0;31mKeyboardInterrupt\u001B[0m                         Traceback (most recent call last)",
      "Cell \u001B[0;32mIn[9], line 4\u001B[0m\n\u001B[1;32m      2\u001B[0m model\u001B[38;5;241m.\u001B[39mtrain()\n\u001B[1;32m      3\u001B[0m \u001B[38;5;28;01mfor\u001B[39;00m imgs, targets \u001B[38;5;129;01min\u001B[39;00m train_loader:\n\u001B[0;32m----> 4\u001B[0m     imgs \u001B[38;5;241m=\u001B[39m [img\u001B[38;5;241m.\u001B[39mto(device) \u001B[38;5;28;01mfor\u001B[39;00m img \u001B[38;5;129;01min\u001B[39;00m imgs]\n\u001B[1;32m      5\u001B[0m     targets \u001B[38;5;241m=\u001B[39m [{k: v\u001B[38;5;241m.\u001B[39mto(device) \u001B[38;5;28;01mfor\u001B[39;00m k, v \u001B[38;5;129;01min\u001B[39;00m t\u001B[38;5;241m.\u001B[39mitems()} \u001B[38;5;28;01mfor\u001B[39;00m t \u001B[38;5;129;01min\u001B[39;00m targets]\n\u001B[1;32m      7\u001B[0m     loss_dict \u001B[38;5;241m=\u001B[39m model(imgs, targets)\n",
      "Cell \u001B[0;32mIn[9], line 4\u001B[0m, in \u001B[0;36m<listcomp>\u001B[0;34m(.0)\u001B[0m\n\u001B[1;32m      2\u001B[0m model\u001B[38;5;241m.\u001B[39mtrain()\n\u001B[1;32m      3\u001B[0m \u001B[38;5;28;01mfor\u001B[39;00m imgs, targets \u001B[38;5;129;01min\u001B[39;00m train_loader:\n\u001B[0;32m----> 4\u001B[0m     imgs \u001B[38;5;241m=\u001B[39m [\u001B[43mimg\u001B[49m\u001B[38;5;241;43m.\u001B[39;49m\u001B[43mto\u001B[49m\u001B[43m(\u001B[49m\u001B[43mdevice\u001B[49m\u001B[43m)\u001B[49m \u001B[38;5;28;01mfor\u001B[39;00m img \u001B[38;5;129;01min\u001B[39;00m imgs]\n\u001B[1;32m      5\u001B[0m     targets \u001B[38;5;241m=\u001B[39m [{k: v\u001B[38;5;241m.\u001B[39mto(device) \u001B[38;5;28;01mfor\u001B[39;00m k, v \u001B[38;5;129;01min\u001B[39;00m t\u001B[38;5;241m.\u001B[39mitems()} \u001B[38;5;28;01mfor\u001B[39;00m t \u001B[38;5;129;01min\u001B[39;00m targets]\n\u001B[1;32m      7\u001B[0m     loss_dict \u001B[38;5;241m=\u001B[39m model(imgs, targets)\n",
      "\u001B[0;31mKeyboardInterrupt\u001B[0m: "
     ]
    }
   ],
   "execution_count": 9
  },
  {
   "metadata": {
    "ExecuteTime": {
     "end_time": "2024-12-02T13:51:36.696298Z",
     "start_time": "2024-12-02T13:51:36.693197Z"
    }
   },
   "cell_type": "code",
   "source": [
    "from torchvision.ops import box_iou\n",
    "\n",
    "def evaluate(model, val_loader):\n",
    "    model.eval()\n",
    "    ious = []\n",
    "\n",
    "    with torch.no_grad():\n",
    "        for imgs, targets in val_loader:\n",
    "            imgs = [img.to(device) for img in imgs]\n",
    "            preds = model(imgs)\n",
    "            for pred, target in zip(preds, targets):\n",
    "                iou = box_iou(pred['boxes'].cpu(), target['boxes'])\n",
    "                ious.append(iou.diagonal().mean().item())\n",
    "    return sum(ious) / len(ious)\n"
   ],
   "id": "f4800da4da8ad584",
   "outputs": [],
   "execution_count": 16
  },
  {
   "metadata": {
    "ExecuteTime": {
     "end_time": "2024-12-02T13:52:38.123055Z",
     "start_time": "2024-12-02T13:51:37.290932Z"
    }
   },
   "cell_type": "code",
   "source": "evaluate(model, val_loader)",
   "id": "896be5daa6a285a6",
   "outputs": [
    {
     "name": "stderr",
     "output_type": "stream",
     "text": [
      "/tmp/ipykernel_18214/1665521856.py:11: UserWarning: To copy construct from a tensor, it is recommended to use sourceTensor.clone().detach() or sourceTensor.clone().detach().requires_grad_(True), rather than torch.tensor(sourceTensor).\n",
      "  boxes = torch.tensor(annotations['boxes'], dtype=torch.float32)\n",
      "/tmp/ipykernel_18214/1665521856.py:12: UserWarning: To copy construct from a tensor, it is recommended to use sourceTensor.clone().detach() or sourceTensor.clone().detach().requires_grad_(True), rather than torch.tensor(sourceTensor).\n",
      "  labels = torch.tensor(annotations['labels'], dtype=torch.int64)\n"
     ]
    },
    {
     "data": {
      "text/plain": [
       "nan"
      ]
     },
     "execution_count": 17,
     "metadata": {},
     "output_type": "execute_result"
    }
   ],
   "execution_count": 17
  },
  {
   "metadata": {},
   "cell_type": "code",
   "outputs": [],
   "execution_count": null,
   "source": "",
   "id": "642befe2f253c916"
  }
 ],
 "metadata": {
  "kernelspec": {
   "display_name": "Python 3",
   "language": "python",
   "name": "python3"
  },
  "language_info": {
   "codemirror_mode": {
    "name": "ipython",
    "version": 2
   },
   "file_extension": ".py",
   "mimetype": "text/x-python",
   "name": "python",
   "nbconvert_exporter": "python",
   "pygments_lexer": "ipython2",
   "version": "2.7.6"
  }
 },
 "nbformat": 4,
 "nbformat_minor": 5
}
