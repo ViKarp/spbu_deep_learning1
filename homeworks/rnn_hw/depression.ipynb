{
 "cells": [
  {
   "metadata": {
    "ExecuteTime": {
     "end_time": "2024-12-20T15:42:27.211178Z",
     "start_time": "2024-12-20T15:42:26.040946Z"
    }
   },
   "cell_type": "code",
   "source": [
    "import numpy as np\n",
    "import matplotlib.pyplot as plt\n",
    "import pandas as pd\n",
    "import seaborn as sns\n",
    "import torch\n",
    "import torch.nn as nn\n",
    "import torch.nn.functional as F\n"
   ],
   "id": "647eee18a0b229b0",
   "outputs": [],
   "execution_count": 1
  },
  {
   "metadata": {
    "ExecuteTime": {
     "end_time": "2024-12-20T15:42:27.303833Z",
     "start_time": "2024-12-20T15:42:27.226414Z"
    }
   },
   "cell_type": "code",
   "source": [
    "df = pd.read_csv(\"depr/train.csv\")\n",
    "df.head()"
   ],
   "id": "fecec1d752adebdf",
   "outputs": [
    {
     "data": {
      "text/plain": [
       "   id                                              title  \\\n",
       "0   0                   Ok guys I have a dilemma for you   \n",
       "1   1        Update from my cringe overdramatic ass post   \n",
       "2   2  Don't know if this is allowed, I work in youth...   \n",
       "3   3  So I think I just ascended to a newer level of...   \n",
       "4   4                       My friend got a gf before me   \n",
       "\n",
       "                                                body  label  \n",
       "0  Ok so I’m thinking about asking out this girl ...    0.0  \n",
       "1  56 days ago from today I posted about my then-...    0.0  \n",
       "2                                                NaN    0.0  \n",
       "3  So I was rebattling the elite four in Pokemon ...    0.0  \n",
       "4    But I have more reddit karma so I think I win 😎    0.0  "
      ],
      "text/html": [
       "<div>\n",
       "<style scoped>\n",
       "    .dataframe tbody tr th:only-of-type {\n",
       "        vertical-align: middle;\n",
       "    }\n",
       "\n",
       "    .dataframe tbody tr th {\n",
       "        vertical-align: top;\n",
       "    }\n",
       "\n",
       "    .dataframe thead th {\n",
       "        text-align: right;\n",
       "    }\n",
       "</style>\n",
       "<table border=\"1\" class=\"dataframe\">\n",
       "  <thead>\n",
       "    <tr style=\"text-align: right;\">\n",
       "      <th></th>\n",
       "      <th>id</th>\n",
       "      <th>title</th>\n",
       "      <th>body</th>\n",
       "      <th>label</th>\n",
       "    </tr>\n",
       "  </thead>\n",
       "  <tbody>\n",
       "    <tr>\n",
       "      <th>0</th>\n",
       "      <td>0</td>\n",
       "      <td>Ok guys I have a dilemma for you</td>\n",
       "      <td>Ok so I’m thinking about asking out this girl ...</td>\n",
       "      <td>0.0</td>\n",
       "    </tr>\n",
       "    <tr>\n",
       "      <th>1</th>\n",
       "      <td>1</td>\n",
       "      <td>Update from my cringe overdramatic ass post</td>\n",
       "      <td>56 days ago from today I posted about my then-...</td>\n",
       "      <td>0.0</td>\n",
       "    </tr>\n",
       "    <tr>\n",
       "      <th>2</th>\n",
       "      <td>2</td>\n",
       "      <td>Don't know if this is allowed, I work in youth...</td>\n",
       "      <td>NaN</td>\n",
       "      <td>0.0</td>\n",
       "    </tr>\n",
       "    <tr>\n",
       "      <th>3</th>\n",
       "      <td>3</td>\n",
       "      <td>So I think I just ascended to a newer level of...</td>\n",
       "      <td>So I was rebattling the elite four in Pokemon ...</td>\n",
       "      <td>0.0</td>\n",
       "    </tr>\n",
       "    <tr>\n",
       "      <th>4</th>\n",
       "      <td>4</td>\n",
       "      <td>My friend got a gf before me</td>\n",
       "      <td>But I have more reddit karma so I think I win 😎</td>\n",
       "      <td>0.0</td>\n",
       "    </tr>\n",
       "  </tbody>\n",
       "</table>\n",
       "</div>"
      ]
     },
     "execution_count": 2,
     "metadata": {},
     "output_type": "execute_result"
    }
   ],
   "execution_count": 2
  },
  {
   "metadata": {
    "ExecuteTime": {
     "end_time": "2024-12-20T15:42:27.564514Z",
     "start_time": "2024-12-20T15:42:27.550292Z"
    }
   },
   "cell_type": "code",
   "source": "df.isna().sum()",
   "id": "6678a56ff87dced0",
   "outputs": [
    {
     "data": {
      "text/plain": [
       "id          0\n",
       "title       0\n",
       "body     2074\n",
       "label       0\n",
       "dtype: int64"
      ]
     },
     "execution_count": 3,
     "metadata": {},
     "output_type": "execute_result"
    }
   ],
   "execution_count": 3
  },
  {
   "metadata": {
    "ExecuteTime": {
     "end_time": "2024-12-20T15:42:27.611581Z",
     "start_time": "2024-12-20T15:42:27.597058Z"
    }
   },
   "cell_type": "code",
   "source": "df['text'] = df['title'] + '. ' + df['body']",
   "id": "58269d62baf0e2b1",
   "outputs": [],
   "execution_count": 4
  },
  {
   "metadata": {
    "ExecuteTime": {
     "end_time": "2024-12-20T15:42:27.658100Z",
     "start_time": "2024-12-20T15:42:27.648396Z"
    }
   },
   "cell_type": "code",
   "source": "df.loc[df['body'].isna(),'text'] = df.loc[df['body'].isna(),'title']",
   "id": "7d15721ae4b4d609",
   "outputs": [],
   "execution_count": 5
  },
  {
   "metadata": {
    "ExecuteTime": {
     "end_time": "2024-12-20T15:42:27.705421Z",
     "start_time": "2024-12-20T15:42:27.697727Z"
    }
   },
   "cell_type": "code",
   "source": "df.isna().sum()",
   "id": "74ce9b62c564a843",
   "outputs": [
    {
     "data": {
      "text/plain": [
       "id          0\n",
       "title       0\n",
       "body     2074\n",
       "label       0\n",
       "text        0\n",
       "dtype: int64"
      ]
     },
     "execution_count": 6,
     "metadata": {},
     "output_type": "execute_result"
    }
   ],
   "execution_count": 6
  },
  {
   "metadata": {
    "ExecuteTime": {
     "end_time": "2024-12-20T16:27:48.529480Z",
     "start_time": "2024-12-20T16:27:48.503871Z"
    }
   },
   "cell_type": "code",
   "source": [
    "import torch\n",
    "import torch.nn as nn\n",
    "from torch.utils.data import DataLoader, Dataset, random_split\n",
    "from sklearn.model_selection import train_test_split\n",
    "from sklearn.metrics import accuracy_score, roc_auc_score\n",
    "from collections import Counter\n",
    "import numpy as np\n",
    "import pandas as pd\n",
    "\n",
    "# 1. Dataset preparation\n",
    "class RedditDataset(Dataset):\n",
    "    def __init__(self, texts, labels, tokenizer, max_length):\n",
    "        self.texts = texts\n",
    "        self.labels = labels\n",
    "        self.tokenizer = tokenizer\n",
    "        self.max_length = max_length\n",
    "\n",
    "    def __len__(self):\n",
    "        return len(self.texts)\n",
    "\n",
    "    def __getitem__(self, idx):\n",
    "        text = self.texts[idx]\n",
    "        label = self.labels[idx]\n",
    "        tokens = self.tokenizer(text, self.max_length)\n",
    "        return torch.tensor(tokens, dtype=torch.long), torch.tensor(label, dtype=torch.float32)\n",
    "\n",
    "# Simple tokenizer using built vocabulary\n",
    "class SimpleTokenizer:\n",
    "    def __init__(self, vocab):\n",
    "        self.vocab = vocab\n",
    "        self.word_to_idx = {word: idx for idx, word in enumerate(vocab)}\n",
    "\n",
    "    def tokenize(self, text):\n",
    "        return [self.word_to_idx.get(word, self.word_to_idx[\"<UNK>\"]) for word in text.split()]\n",
    "\n",
    "    def __call__(self, text, max_length):\n",
    "        tokens = self.tokenize(text)\n",
    "        return tokens[:max_length] + [0] * (max_length - len(tokens))  # Pad or truncate\n",
    "\n",
    "# 2. Vocabulary building\n",
    "def build_vocab(texts, min_freq=2):\n",
    "    word_counter = Counter()\n",
    "    for text in texts:\n",
    "        word_counter.update(text.split())\n",
    "    vocab = [\"<PAD>\", \"<UNK>\"] + [word for word, count in word_counter.items() if count >= min_freq]\n",
    "    return vocab\n",
    "\n",
    "# 3. Model definition\n",
    "import torch\n",
    "import torch.nn as nn\n",
    "\n",
    "class TransformerClassifier(nn.Module):\n",
    "    def __init__(self, vocab_size, embed_size, num_heads, num_layers, num_classes, max_length, ff_dim, dropout=0.1):\n",
    "        super(TransformerClassifier, self).__init__()\n",
    "        self.embedding = nn.Embedding(vocab_size, embed_size)\n",
    "        self.positional_encoding = nn.Parameter(torch.zeros(1, max_length, embed_size))\n",
    "        self.dropout = nn.Dropout(dropout)\n",
    "\n",
    "        encoder_layer = nn.TransformerEncoderLayer(d_model=embed_size, nhead=num_heads, dim_feedforward=ff_dim, dropout=dropout)\n",
    "        self.transformer = nn.TransformerEncoder(encoder_layer, num_layers=num_layers)\n",
    "\n",
    "        # Attention Pooling\n",
    "        self.attention_weights = nn.Linear(embed_size, 1)\n",
    "        self.softmax = nn.Softmax(dim=1)\n",
    "\n",
    "        # Fully connected layer\n",
    "        self.fc = nn.Sequential(\n",
    "            nn.Linear(embed_size, ff_dim),\n",
    "            nn.ReLU(),\n",
    "            nn.Dropout(dropout),\n",
    "            nn.Linear(ff_dim, num_classes)\n",
    "        )\n",
    "\n",
    "    def forward(self, x):\n",
    "        # Embedding + Positional Encoding\n",
    "        x = self.embedding(x) + self.positional_encoding[:, :x.size(1), :]\n",
    "        x = self.dropout(x)\n",
    "\n",
    "        # Transformer Encoder\n",
    "        x = self.transformer(x)\n",
    "\n",
    "        # Attention Pooling\n",
    "        attention_scores = self.softmax(self.attention_weights(x))  # [batch_size, seq_len, 1]\n",
    "        x = (attention_scores * x).sum(dim=1)  # Weighted sum -> [batch_size, embed_size]\n",
    "\n",
    "        # Fully Connected Layer\n",
    "        return self.fc(x)\n",
    "\n",
    "\n",
    "# 4. Training loop\n",
    "def train_model(model, train_loader, val_loader, optimizer, criterion, epochs, device):\n",
    "    model.to(device)\n",
    "    for epoch in range(epochs):\n",
    "        model.train()\n",
    "        train_loss = 0.0\n",
    "        for texts, labels in train_loader:\n",
    "            texts, labels = texts.to(device), labels.to(device)\n",
    "            optimizer.zero_grad()\n",
    "            outputs = model(texts)\n",
    "            loss = criterion(outputs.squeeze(), labels)\n",
    "            loss.backward()\n",
    "            optimizer.step()\n",
    "            train_loss += loss.item()\n",
    "        train_loss /= len(train_loader)\n",
    "\n",
    "        model.eval()\n",
    "        val_loss, val_acc = 0.0, 0.0\n",
    "        all_preds, all_labels = [], []\n",
    "        with torch.no_grad():\n",
    "            for texts, labels in val_loader:\n",
    "                texts, labels = texts.to(device), labels.to(device)\n",
    "                outputs = model(texts)\n",
    "                loss = criterion(outputs.squeeze(), labels)\n",
    "                val_loss += loss.item()\n",
    "\n",
    "                preds = torch.sigmoid(outputs).round()\n",
    "                all_preds.extend(preds.cpu().numpy())\n",
    "                all_labels.extend(labels.cpu().numpy())\n",
    "        val_loss /= len(val_loader)\n",
    "        val_acc = accuracy_score(all_labels, all_preds)\n",
    "        val_auc = roc_auc_score(all_labels, all_preds)\n",
    "        print(f\"Epoch {epoch + 1}/{epochs}, Train Loss: {train_loss:.4f}, Val Loss: {val_loss:.4f}, Val Acc: {val_acc:.4f}, Val AUC: {val_auc:.4f}\")\n",
    "\n",
    "def train_model_with_threshold(model, train_loader, val_loader, tokenizer, max_length, epochs, device, optimizer, criterion):\n",
    "    model.to(device)\n",
    "    best_threshold = 0.5  # Инициализация порога (по умолчанию 0.5)\n",
    "    best_f1 = 0  # Лучший F1-score\n",
    "\n",
    "    for epoch in range(epochs):\n",
    "        # ======== ОБУЧЕНИЕ ========\n",
    "        model.train()\n",
    "        for batch in train_loader:\n",
    "            inputs, labels = batch\n",
    "            inputs, labels = inputs.to(device), labels.to(device)\n",
    "\n",
    "            optimizer.zero_grad()\n",
    "            outputs = model(inputs)\n",
    "            loss = criterion(outputs.squeeze(), labels.float())\n",
    "            loss.backward()\n",
    "            optimizer.step()\n",
    "\n",
    "        # ======== ОЦЕНКА НА ВАЛИДАЦИИ ========\n",
    "        model.eval()\n",
    "        val_labels = []\n",
    "        val_probs = []\n",
    "        with torch.no_grad():\n",
    "            for batch in val_loader:\n",
    "                inputs, labels = batch\n",
    "                inputs = inputs.to(device)\n",
    "                outputs = model(inputs)\n",
    "                probs = torch.sigmoid(outputs).squeeze().cpu().numpy()\n",
    "                val_labels.extend(labels.numpy())\n",
    "                val_probs.extend(probs)\n",
    "\n",
    "        # Выбор оптимального порога\n",
    "        thresholds = precision_recall_curve(val_labels, val_probs)[2]  # Пороги\n",
    "        f1_scores = [f1_score(val_labels, (val_probs >= t).astype(int)) for t in thresholds]\n",
    "        epoch_best_threshold = thresholds[f1_scores.index(max(f1_scores))]\n",
    "        epoch_best_f1 = max(f1_scores)\n",
    "\n",
    "        # Сохраняем лучший порог, если текущий лучше\n",
    "        if epoch_best_f1 > best_f1:\n",
    "            best_f1 = epoch_best_f1\n",
    "            best_threshold = epoch_best_threshold\n",
    "\n",
    "        print(f\"Epoch {epoch + 1}/{epochs} | Loss: {loss.item():.4f} | Best F1: {best_f1:.4f} at threshold {best_threshold:.4f}\")\n",
    "\n",
    "    return model, best_threshold"
   ],
   "id": "d111e4d934ea157e",
   "outputs": [],
   "execution_count": 38
  },
  {
   "metadata": {
    "ExecuteTime": {
     "end_time": "2024-12-20T16:27:48.835719Z",
     "start_time": "2024-12-20T16:27:48.830172Z"
    }
   },
   "cell_type": "code",
   "source": [
    "from sklearn.metrics import roc_curve, precision_recall_curve, f1_score\n",
    "\n",
    "def find_best_threshold(y_true, y_probs):\n",
    "    # ROC-кривая\n",
    "    fpr, tpr, thresholds_roc = roc_curve(y_true, y_probs)\n",
    "\n",
    "    # Precision-Recall кривая\n",
    "    precision, recall, thresholds_pr = precision_recall_curve(y_true, y_probs)\n",
    "\n",
    "    # F1-скоры для каждого порога\n",
    "    f1_scores = [f1_score(y_true, (y_probs >= thresh).astype(int)) for thresh in thresholds_pr]\n",
    "\n",
    "    # Находим лучший порог по F1-score\n",
    "    best_threshold = thresholds_pr[f1_scores.index(max(f1_scores))]\n",
    "    best_f1 = max(f1_scores)\n",
    "\n",
    "    print(f\"Лучший порог: {best_threshold:.4f}, F1-score: {best_f1:.4f}\")\n",
    "    return best_threshold\n"
   ],
   "id": "2962d74b86c14909",
   "outputs": [],
   "execution_count": 39
  },
  {
   "metadata": {
    "ExecuteTime": {
     "end_time": "2024-12-20T16:27:49.146936Z",
     "start_time": "2024-12-20T16:27:49.142318Z"
    }
   },
   "cell_type": "code",
   "source": [
    "from tokenizers import Tokenizer, models, trainers, processors\n",
    "from tokenizers.pre_tokenizers import Whitespace\n",
    "from tokenizers.normalizers import Lowercase\n",
    "from tokenizers.decoders import WordPiece\n",
    "\n",
    "# 1. Создание BPE токенайзера\n",
    "class BPETokenizer:\n",
    "    def __init__(self, vocab_size=5000):\n",
    "        self.tokenizer = Tokenizer(models.BPE())\n",
    "        self.tokenizer.pre_tokenizer = Whitespace()\n",
    "        self.tokenizer.normalizer = Lowercase()\n",
    "        self.tokenizer.decoder = WordPiece()\n",
    "        self.vocab_size = vocab_size\n",
    "\n",
    "    def train(self, texts):\n",
    "        trainer = trainers.BpeTrainer(vocab_size=self.vocab_size, special_tokens=[\"<PAD>\", \"<UNK>\"])\n",
    "        self.tokenizer.train_from_iterator(texts, trainer)\n",
    "\n",
    "    def tokenize(self, text):\n",
    "        return self.tokenizer.encode(text).ids\n",
    "\n",
    "    def __call__(self, text, max_length):\n",
    "        tokens = self.tokenize(text)\n",
    "        return tokens[:max_length] + [0] * (max_length - len(tokens))  # Pad or truncate\n",
    "\n",
    "# 2. Обучение BPE токенайзера\n",
    "def build_bpe_tokenizer(texts, vocab_size=5000):\n",
    "    tokenizer = BPETokenizer(vocab_size=vocab_size)\n",
    "    tokenizer.train(texts)\n",
    "    return tokenizer"
   ],
   "id": "4eb2deb05ad0ac3d",
   "outputs": [],
   "execution_count": 40
  },
  {
   "metadata": {
    "ExecuteTime": {
     "end_time": "2024-12-20T16:35:32.980138Z",
     "start_time": "2024-12-20T16:27:49.984785Z"
    }
   },
   "cell_type": "code",
   "source": [
    "# # Build vocab from df['text']\n",
    "# vocab = build_vocab(df['text'], min_freq=1)\n",
    "# print(f\"Vocabulary size: {len(vocab)}\")\n",
    "\n",
    "# Hyperparameters\n",
    "max_length = 50\n",
    "embed_size = 128\n",
    "num_heads = 4\n",
    "num_layers = 8\n",
    "ff_dim = 256\n",
    "num_classes = 1\n",
    "vocab_size = 5000\n",
    "batch_size = 4\n",
    "epochs = 10\n",
    "lr = 1e-4\n",
    "\n",
    "# Tokenizer\n",
    "tokenizer = build_bpe_tokenizer(df['text'].tolist(), vocab_size=vocab_size)\n",
    "\n",
    "# Dataset and DataLoader\n",
    "texts, labels = df['text'].tolist(), df['label'].tolist()\n",
    "dataset = RedditDataset(texts, labels, tokenizer, max_length)\n",
    "train_size = int(0.8 * len(dataset))\n",
    "val_size = len(dataset) - train_size\n",
    "train_dataset, val_dataset = random_split(dataset, [train_size, val_size])\n",
    "train_loader = DataLoader(train_dataset, batch_size=batch_size, shuffle=True)\n",
    "val_loader = DataLoader(val_dataset, batch_size=batch_size)\n",
    "\n",
    "# Model, optimizer, loss function\n",
    "device = torch.device(\"cuda\" if torch.cuda.is_available() else \"cpu\")\n",
    "model = TransformerClassifier(vocab_size, embed_size, num_heads, num_layers, num_classes, max_length, ff_dim=ff_dim)\n",
    "optimizer = torch.optim.AdamW(model.parameters(), lr=lr)\n",
    "criterion = nn.BCEWithLogitsLoss()\n",
    "\n",
    "# Train the model\n",
    "# train_model(model, train_loader, val_loader, optimizer, criterion, epochs, device)\n",
    "trained_model, best_threshold = train_model_with_threshold(\n",
    "    model=model,\n",
    "    train_loader=train_loader,\n",
    "    val_loader=val_loader,\n",
    "    tokenizer=tokenizer,\n",
    "    max_length=max_length,\n",
    "    epochs=15,\n",
    "    device=device,\n",
    "    optimizer=optimizer,\n",
    "    criterion=criterion\n",
    ")"
   ],
   "id": "fd90863cb6f45197",
   "outputs": [
    {
     "name": "stderr",
     "output_type": "stream",
     "text": [
      "C:\\Users\\user\\PycharmProjects\\spbu_deep_learning1\\.venv\\lib\\site-packages\\torch\\nn\\modules\\transformer.py:306: UserWarning: enable_nested_tensor is True, but self.use_nested_tensor is False because encoder_layer.self_attn.batch_first was not True(use batch_first for better inference performance)\n",
      "  warnings.warn(f\"enable_nested_tensor is True, but self.use_nested_tensor is False because {why_not_sparsity_fast_path}\")\n"
     ]
    },
    {
     "name": "stdout",
     "output_type": "stream",
     "text": [
      "Epoch 1/15 | Loss: 0.4353 | Best F1: 0.5245 at threshold 0.4443\n",
      "Epoch 2/15 | Loss: 0.0587 | Best F1: 0.5551 at threshold 0.3812\n",
      "Epoch 3/15 | Loss: 0.0863 | Best F1: 0.5723 at threshold 0.2145\n",
      "Epoch 4/15 | Loss: 0.3728 | Best F1: 0.5882 at threshold 0.3466\n",
      "Epoch 5/15 | Loss: 0.1510 | Best F1: 0.5882 at threshold 0.3466\n",
      "Epoch 6/15 | Loss: 0.1438 | Best F1: 0.6109 at threshold 0.2463\n",
      "Epoch 7/15 | Loss: 0.0610 | Best F1: 0.6109 at threshold 0.2463\n",
      "Epoch 8/15 | Loss: 0.2977 | Best F1: 0.6109 at threshold 0.2463\n",
      "Epoch 9/15 | Loss: 0.1156 | Best F1: 0.6149 at threshold 0.2256\n",
      "Epoch 10/15 | Loss: 0.0425 | Best F1: 0.6311 at threshold 0.4222\n",
      "Epoch 11/15 | Loss: 0.0242 | Best F1: 0.6311 at threshold 0.4222\n",
      "Epoch 12/15 | Loss: 0.2553 | Best F1: 0.6311 at threshold 0.4222\n",
      "Epoch 13/15 | Loss: 0.2108 | Best F1: 0.6311 at threshold 0.4222\n",
      "Epoch 14/15 | Loss: 0.1172 | Best F1: 0.6530 at threshold 0.3003\n",
      "Epoch 15/15 | Loss: 0.6056 | Best F1: 0.6599 at threshold 0.3773\n"
     ]
    }
   ],
   "execution_count": 41
  },
  {
   "metadata": {
    "ExecuteTime": {
     "end_time": "2024-12-20T17:04:52.924591Z",
     "start_time": "2024-12-20T16:57:12.706505Z"
    }
   },
   "cell_type": "code",
   "source": [
    "trained_model, best_threshold = train_model_with_threshold(\n",
    "    model=model,\n",
    "    train_loader=train_loader,\n",
    "    val_loader=val_loader,\n",
    "    tokenizer=tokenizer,\n",
    "    max_length=max_length,\n",
    "    epochs=15,\n",
    "    device=device,\n",
    "    optimizer=optimizer,\n",
    "    criterion=criterion\n",
    ")"
   ],
   "id": "59436ae5c1181600",
   "outputs": [
    {
     "name": "stdout",
     "output_type": "stream",
     "text": [
      "Epoch 1/15 | Loss: 0.1478 | Best F1: 0.7551 at threshold 0.5955\n",
      "Epoch 2/15 | Loss: 0.1019 | Best F1: 0.7551 at threshold 0.5955\n",
      "Epoch 3/15 | Loss: 0.0755 | Best F1: 0.7618 at threshold 0.5402\n",
      "Epoch 4/15 | Loss: 0.1003 | Best F1: 0.7680 at threshold 0.5858\n",
      "Epoch 5/15 | Loss: 0.0032 | Best F1: 0.7680 at threshold 0.5858\n",
      "Epoch 6/15 | Loss: 0.0048 | Best F1: 0.7680 at threshold 0.5858\n",
      "Epoch 7/15 | Loss: 0.0051 | Best F1: 0.7680 at threshold 0.5858\n",
      "Epoch 8/15 | Loss: 0.5743 | Best F1: 0.7680 at threshold 0.5858\n",
      "Epoch 9/15 | Loss: 0.9573 | Best F1: 0.7680 at threshold 0.5858\n",
      "Epoch 10/15 | Loss: 0.0291 | Best F1: 0.7680 at threshold 0.5858\n",
      "Epoch 11/15 | Loss: 0.5175 | Best F1: 0.7680 at threshold 0.5858\n",
      "Epoch 12/15 | Loss: 0.0369 | Best F1: 0.7680 at threshold 0.5858\n",
      "Epoch 13/15 | Loss: 0.0950 | Best F1: 0.7680 at threshold 0.5858\n",
      "Epoch 14/15 | Loss: 0.1882 | Best F1: 0.7680 at threshold 0.5858\n",
      "Epoch 15/15 | Loss: 0.1469 | Best F1: 0.7680 at threshold 0.5858\n"
     ]
    }
   ],
   "execution_count": 46
  },
  {
   "metadata": {
    "ExecuteTime": {
     "end_time": "2024-12-20T17:12:29.548402Z",
     "start_time": "2024-12-20T17:12:28.544064Z"
    }
   },
   "cell_type": "code",
   "source": [
    "# Предсказание на тестовом наборе данных\n",
    "def predict_on_test(model, test_texts, tokenizer, max_length, device):\n",
    "    model.eval()\n",
    "    model.to(device)\n",
    "\n",
    "    # Токенизация текстов\n",
    "    test_tokens = [tokenizer(text, max_length) for text in test_texts]\n",
    "    test_dataset = torch.tensor(test_tokens, dtype=torch.long)\n",
    "    test_loader = DataLoader(test_dataset, batch_size=batch_size, shuffle=False)\n",
    "\n",
    "    predictions = []\n",
    "    with torch.no_grad():\n",
    "        for batch in test_loader:\n",
    "            batch = batch.to(device)\n",
    "            outputs = model(batch)\n",
    "            probs = torch.sigmoid(outputs).squeeze(dim=-1)  # Ensure it's a 1D array\n",
    "            predictions.extend(probs.cpu().numpy().tolist())  # Convert to list and extend\n",
    "    return predictions\n",
    "\n",
    "# Загрузка тестового набора (замените путь на реальный)\n",
    "test_df = pd.read_csv('./depr/test.csv')\n",
    "test_df['text'] = test_df['title'] + '. ' + test_df['body']\n",
    "test_df.loc[test_df['body'].isna(),'text'] = test_df.loc[test_df['body'].isna(),'title']\n",
    "\n",
    "# Предсказания\n",
    "test_predictions = predict_on_test(model, test_df['text'].tolist(), tokenizer, max_length, device)\n",
    "\n",
    "# Добавление предсказаний в DataFrame\n",
    "test_df['label'] = test_predictions\n",
    "test_df['label'] = (np.array(test_predictions) >= best_threshold).astype(int)\n",
    "# Сохранение результатов\n",
    "test_df[['id', 'label']].to_csv(\"depr/test_predictions.csv\", index=False)\n",
    "print(\"Предсказания сохранены в test_predictions.csv\")\n"
   ],
   "id": "e2df3577600a8492",
   "outputs": [
    {
     "name": "stdout",
     "output_type": "stream",
     "text": [
      "Предсказания сохранены в test_predictions.csv\n"
     ]
    }
   ],
   "execution_count": 47
  },
  {
   "metadata": {
    "ExecuteTime": {
     "end_time": "2024-12-20T16:03:46.929596Z",
     "start_time": "2024-12-20T16:03:45.803469Z"
    }
   },
   "cell_type": "code",
   "source": "best_threshold = find_best_threshold(df['text'].tolist(), df['label'].tolist())",
   "id": "e43401a83d6cb8af",
   "outputs": [
    {
     "ename": "ValueError",
     "evalue": "multiclass format is not supported",
     "output_type": "error",
     "traceback": [
      "\u001B[1;31m---------------------------------------------------------------------------\u001B[0m",
      "\u001B[1;31mValueError\u001B[0m                                Traceback (most recent call last)",
      "Cell \u001B[1;32mIn[23], line 1\u001B[0m\n\u001B[1;32m----> 1\u001B[0m best_threshold \u001B[38;5;241m=\u001B[39m \u001B[43mfind_best_threshold\u001B[49m\u001B[43m(\u001B[49m\u001B[43mdf\u001B[49m\u001B[43m[\u001B[49m\u001B[38;5;124;43m'\u001B[39;49m\u001B[38;5;124;43mtext\u001B[39;49m\u001B[38;5;124;43m'\u001B[39;49m\u001B[43m]\u001B[49m\u001B[38;5;241;43m.\u001B[39;49m\u001B[43mtolist\u001B[49m\u001B[43m(\u001B[49m\u001B[43m)\u001B[49m\u001B[43m,\u001B[49m\u001B[43m \u001B[49m\u001B[43mdf\u001B[49m\u001B[43m[\u001B[49m\u001B[38;5;124;43m'\u001B[39;49m\u001B[38;5;124;43mlabel\u001B[39;49m\u001B[38;5;124;43m'\u001B[39;49m\u001B[43m]\u001B[49m\u001B[38;5;241;43m.\u001B[39;49m\u001B[43mtolist\u001B[49m\u001B[43m(\u001B[49m\u001B[43m)\u001B[49m\u001B[43m)\u001B[49m\n",
      "Cell \u001B[1;32mIn[21], line 5\u001B[0m, in \u001B[0;36mfind_best_threshold\u001B[1;34m(y_true, y_probs)\u001B[0m\n\u001B[0;32m      3\u001B[0m \u001B[38;5;28;01mdef\u001B[39;00m \u001B[38;5;21mfind_best_threshold\u001B[39m(y_true, y_probs):\n\u001B[0;32m      4\u001B[0m     \u001B[38;5;66;03m# ROC-кривая\u001B[39;00m\n\u001B[1;32m----> 5\u001B[0m     fpr, tpr, thresholds_roc \u001B[38;5;241m=\u001B[39m \u001B[43mroc_curve\u001B[49m\u001B[43m(\u001B[49m\u001B[43my_true\u001B[49m\u001B[43m,\u001B[49m\u001B[43m \u001B[49m\u001B[43my_probs\u001B[49m\u001B[43m)\u001B[49m\n\u001B[0;32m      7\u001B[0m     \u001B[38;5;66;03m# Precision-Recall кривая\u001B[39;00m\n\u001B[0;32m      8\u001B[0m     precision, recall, thresholds_pr \u001B[38;5;241m=\u001B[39m precision_recall_curve(y_true, y_probs)\n",
      "File \u001B[1;32m~\\PycharmProjects\\spbu_deep_learning1\\.venv\\lib\\site-packages\\sklearn\\utils\\_param_validation.py:213\u001B[0m, in \u001B[0;36mvalidate_params.<locals>.decorator.<locals>.wrapper\u001B[1;34m(*args, **kwargs)\u001B[0m\n\u001B[0;32m    207\u001B[0m \u001B[38;5;28;01mtry\u001B[39;00m:\n\u001B[0;32m    208\u001B[0m     \u001B[38;5;28;01mwith\u001B[39;00m config_context(\n\u001B[0;32m    209\u001B[0m         skip_parameter_validation\u001B[38;5;241m=\u001B[39m(\n\u001B[0;32m    210\u001B[0m             prefer_skip_nested_validation \u001B[38;5;129;01mor\u001B[39;00m global_skip_validation\n\u001B[0;32m    211\u001B[0m         )\n\u001B[0;32m    212\u001B[0m     ):\n\u001B[1;32m--> 213\u001B[0m         \u001B[38;5;28;01mreturn\u001B[39;00m func(\u001B[38;5;241m*\u001B[39margs, \u001B[38;5;241m*\u001B[39m\u001B[38;5;241m*\u001B[39mkwargs)\n\u001B[0;32m    214\u001B[0m \u001B[38;5;28;01mexcept\u001B[39;00m InvalidParameterError \u001B[38;5;28;01mas\u001B[39;00m e:\n\u001B[0;32m    215\u001B[0m     \u001B[38;5;66;03m# When the function is just a wrapper around an estimator, we allow\u001B[39;00m\n\u001B[0;32m    216\u001B[0m     \u001B[38;5;66;03m# the function to delegate validation to the estimator, but we replace\u001B[39;00m\n\u001B[0;32m    217\u001B[0m     \u001B[38;5;66;03m# the name of the estimator by the name of the function in the error\u001B[39;00m\n\u001B[0;32m    218\u001B[0m     \u001B[38;5;66;03m# message to avoid confusion.\u001B[39;00m\n\u001B[0;32m    219\u001B[0m     msg \u001B[38;5;241m=\u001B[39m re\u001B[38;5;241m.\u001B[39msub(\n\u001B[0;32m    220\u001B[0m         \u001B[38;5;124mr\u001B[39m\u001B[38;5;124m\"\u001B[39m\u001B[38;5;124mparameter of \u001B[39m\u001B[38;5;124m\\\u001B[39m\u001B[38;5;124mw+ must be\u001B[39m\u001B[38;5;124m\"\u001B[39m,\n\u001B[0;32m    221\u001B[0m         \u001B[38;5;124mf\u001B[39m\u001B[38;5;124m\"\u001B[39m\u001B[38;5;124mparameter of \u001B[39m\u001B[38;5;132;01m{\u001B[39;00mfunc\u001B[38;5;241m.\u001B[39m\u001B[38;5;18m__qualname__\u001B[39m\u001B[38;5;132;01m}\u001B[39;00m\u001B[38;5;124m must be\u001B[39m\u001B[38;5;124m\"\u001B[39m,\n\u001B[0;32m    222\u001B[0m         \u001B[38;5;28mstr\u001B[39m(e),\n\u001B[0;32m    223\u001B[0m     )\n",
      "File \u001B[1;32m~\\PycharmProjects\\spbu_deep_learning1\\.venv\\lib\\site-packages\\sklearn\\metrics\\_ranking.py:1145\u001B[0m, in \u001B[0;36mroc_curve\u001B[1;34m(y_true, y_score, pos_label, sample_weight, drop_intermediate)\u001B[0m\n\u001B[0;32m   1043\u001B[0m \u001B[38;5;129m@validate_params\u001B[39m(\n\u001B[0;32m   1044\u001B[0m     {\n\u001B[0;32m   1045\u001B[0m         \u001B[38;5;124m\"\u001B[39m\u001B[38;5;124my_true\u001B[39m\u001B[38;5;124m\"\u001B[39m: [\u001B[38;5;124m\"\u001B[39m\u001B[38;5;124marray-like\u001B[39m\u001B[38;5;124m\"\u001B[39m],\n\u001B[1;32m   (...)\u001B[0m\n\u001B[0;32m   1054\u001B[0m     y_true, y_score, \u001B[38;5;241m*\u001B[39m, pos_label\u001B[38;5;241m=\u001B[39m\u001B[38;5;28;01mNone\u001B[39;00m, sample_weight\u001B[38;5;241m=\u001B[39m\u001B[38;5;28;01mNone\u001B[39;00m, drop_intermediate\u001B[38;5;241m=\u001B[39m\u001B[38;5;28;01mTrue\u001B[39;00m\n\u001B[0;32m   1055\u001B[0m ):\n\u001B[0;32m   1056\u001B[0m \u001B[38;5;250m    \u001B[39m\u001B[38;5;124;03m\"\"\"Compute Receiver operating characteristic (ROC).\u001B[39;00m\n\u001B[0;32m   1057\u001B[0m \n\u001B[0;32m   1058\u001B[0m \u001B[38;5;124;03m    Note: this implementation is restricted to the binary classification task.\u001B[39;00m\n\u001B[1;32m   (...)\u001B[0m\n\u001B[0;32m   1143\u001B[0m \u001B[38;5;124;03m    array([ inf, 0.8 , 0.4 , 0.35, 0.1 ])\u001B[39;00m\n\u001B[0;32m   1144\u001B[0m \u001B[38;5;124;03m    \"\"\"\u001B[39;00m\n\u001B[1;32m-> 1145\u001B[0m     fps, tps, thresholds \u001B[38;5;241m=\u001B[39m \u001B[43m_binary_clf_curve\u001B[49m\u001B[43m(\u001B[49m\n\u001B[0;32m   1146\u001B[0m \u001B[43m        \u001B[49m\u001B[43my_true\u001B[49m\u001B[43m,\u001B[49m\u001B[43m \u001B[49m\u001B[43my_score\u001B[49m\u001B[43m,\u001B[49m\u001B[43m \u001B[49m\u001B[43mpos_label\u001B[49m\u001B[38;5;241;43m=\u001B[39;49m\u001B[43mpos_label\u001B[49m\u001B[43m,\u001B[49m\u001B[43m \u001B[49m\u001B[43msample_weight\u001B[49m\u001B[38;5;241;43m=\u001B[39;49m\u001B[43msample_weight\u001B[49m\n\u001B[0;32m   1147\u001B[0m \u001B[43m    \u001B[49m\u001B[43m)\u001B[49m\n\u001B[0;32m   1149\u001B[0m     \u001B[38;5;66;03m# Attempt to drop thresholds corresponding to points in between and\u001B[39;00m\n\u001B[0;32m   1150\u001B[0m     \u001B[38;5;66;03m# collinear with other points. These are always suboptimal and do not\u001B[39;00m\n\u001B[0;32m   1151\u001B[0m     \u001B[38;5;66;03m# appear on a plotted ROC curve (and thus do not affect the AUC).\u001B[39;00m\n\u001B[1;32m   (...)\u001B[0m\n\u001B[0;32m   1156\u001B[0m     \u001B[38;5;66;03m# but does not drop more complicated cases like fps = [1, 3, 7],\u001B[39;00m\n\u001B[0;32m   1157\u001B[0m     \u001B[38;5;66;03m# tps = [1, 2, 4]; there is no harm in keeping too many thresholds.\u001B[39;00m\n\u001B[0;32m   1158\u001B[0m     \u001B[38;5;28;01mif\u001B[39;00m drop_intermediate \u001B[38;5;129;01mand\u001B[39;00m \u001B[38;5;28mlen\u001B[39m(fps) \u001B[38;5;241m>\u001B[39m \u001B[38;5;241m2\u001B[39m:\n",
      "File \u001B[1;32m~\\PycharmProjects\\spbu_deep_learning1\\.venv\\lib\\site-packages\\sklearn\\metrics\\_ranking.py:817\u001B[0m, in \u001B[0;36m_binary_clf_curve\u001B[1;34m(y_true, y_score, pos_label, sample_weight)\u001B[0m\n\u001B[0;32m    815\u001B[0m y_type \u001B[38;5;241m=\u001B[39m type_of_target(y_true, input_name\u001B[38;5;241m=\u001B[39m\u001B[38;5;124m\"\u001B[39m\u001B[38;5;124my_true\u001B[39m\u001B[38;5;124m\"\u001B[39m)\n\u001B[0;32m    816\u001B[0m \u001B[38;5;28;01mif\u001B[39;00m \u001B[38;5;129;01mnot\u001B[39;00m (y_type \u001B[38;5;241m==\u001B[39m \u001B[38;5;124m\"\u001B[39m\u001B[38;5;124mbinary\u001B[39m\u001B[38;5;124m\"\u001B[39m \u001B[38;5;129;01mor\u001B[39;00m (y_type \u001B[38;5;241m==\u001B[39m \u001B[38;5;124m\"\u001B[39m\u001B[38;5;124mmulticlass\u001B[39m\u001B[38;5;124m\"\u001B[39m \u001B[38;5;129;01mand\u001B[39;00m pos_label \u001B[38;5;129;01mis\u001B[39;00m \u001B[38;5;129;01mnot\u001B[39;00m \u001B[38;5;28;01mNone\u001B[39;00m)):\n\u001B[1;32m--> 817\u001B[0m     \u001B[38;5;28;01mraise\u001B[39;00m \u001B[38;5;167;01mValueError\u001B[39;00m(\u001B[38;5;124m\"\u001B[39m\u001B[38;5;132;01m{0}\u001B[39;00m\u001B[38;5;124m format is not supported\u001B[39m\u001B[38;5;124m\"\u001B[39m\u001B[38;5;241m.\u001B[39mformat(y_type))\n\u001B[0;32m    819\u001B[0m check_consistent_length(y_true, y_score, sample_weight)\n\u001B[0;32m    820\u001B[0m y_true \u001B[38;5;241m=\u001B[39m column_or_1d(y_true)\n",
      "\u001B[1;31mValueError\u001B[0m: multiclass format is not supported"
     ]
    }
   ],
   "execution_count": 23
  },
  {
   "metadata": {
    "collapsed": true,
    "ExecuteTime": {
     "end_time": "2024-12-20T16:05:31.266428Z",
     "start_time": "2024-12-20T16:05:31.161153Z"
    }
   },
   "cell_type": "code",
   "source": "pd.Series(test_predictions).hist()",
   "id": "initial_id",
   "outputs": [
    {
     "data": {
      "text/plain": [
       "<Axes: >"
      ]
     },
     "execution_count": 25,
     "metadata": {},
     "output_type": "execute_result"
    },
    {
     "data": {
      "text/plain": [
       "<Figure size 640x480 with 1 Axes>"
      ],
      "image/png": "[encoded data removed]"
     },
     "metadata": {},
     "output_type": "display_data"
    }
   ],
   "execution_count": 25
  },
  {
   "metadata": {
    "ExecuteTime": {
     "end_time": "2024-12-20T18:30:39.517008Z",
     "start_time": "2024-12-20T18:30:39.488967Z"
    }
   },
   "cell_type": "code",
   "source": "torch.save(model, \"depr/model.pt\")",
   "id": "20ded9633cc0e71b",
   "outputs": [],
   "execution_count": 49
  },
  {
   "metadata": {},
   "cell_type": "code",
   "outputs": [],
   "execution_count": null,
   "source": "",
   "id": "57a6c0eebc24295f"
  }
 ],
 "metadata": {
  "kernelspec": {
   "display_name": "Python 3",
   "language": "python",
   "name": "python3"
  },
  "language_info": {
   "codemirror_mode": {
    "name": "ipython",
    "version": 2
   },
   "file_extension": ".py",
   "mimetype": "text/x-python",
   "name": "python",
   "nbconvert_exporter": "python",
   "pygments_lexer": "ipython2",
   "version": "2.7.6"
  }
 },
 "nbformat": 4,
 "nbformat_minor": 5
}
