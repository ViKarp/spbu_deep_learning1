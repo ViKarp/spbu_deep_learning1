{
 "cells": [
  {
   "cell_type": "code",
   "id": "initial_id",
   "metadata": {
    "collapsed": true,
    "ExecuteTime": {
     "end_time": "2024-12-02T21:04:26.008516Z",
     "start_time": "2024-12-02T21:04:24.030661Z"
    }
   },
   "source": [
    "from ultralytics import YOLO\n",
    "import numpy as np\n",
    "import torch\n",
    "import torch.nn as nn\n",
    "import torchvision"
   ],
   "outputs": [],
   "execution_count": 1
  },
  {
   "metadata": {
    "ExecuteTime": {
     "end_time": "2024-12-02T21:04:26.245539Z",
     "start_time": "2024-12-02T21:04:26.008516Z"
    }
   },
   "cell_type": "code",
   "source": [
    "# 1. Загрузка предобученной YOLOv10 модели\n",
    "model = YOLO('yolov9e.pt')  # Замените на фактический путь к модели YOLOv10\n",
    "\n",
    "# 2. Фильтрация на основе класса \"человек\" (class_id = 0 для COCO)\n",
    "def filter_persons(results):\n",
    "    filtered_results = []\n",
    "    for result in results:\n",
    "        person_boxes = [box for box in result.boxes if int(box.cls) == 0]  # Класс \"person\" в COCO\n",
    "        result.boxes = person_boxes\n",
    "        filtered_results.append(result)\n",
    "    return filtered_results\n"
   ],
   "id": "634a0a2f0953f05c",
   "outputs": [],
   "execution_count": 2
  },
  {
   "metadata": {
    "ExecuteTime": {
     "end_time": "2024-12-02T16:30:42.136968Z",
     "start_time": "2024-12-02T16:30:41.933063Z"
    }
   },
   "cell_type": "code",
   "source": [
    "# 3. Использование модели для детекции на изображении\n",
    "image_path = 'test/images/5.jpg'\n",
    "results = model(image_path)\n",
    "\n",
    "# Фильтрация результатов только по классу \"человек\"\n",
    "results = filter_persons(results)\n",
    "\n",
    "# Визуализация детекций\n",
    "results[0].plot(save=False, conf=True)  # Сохраняет изображение с детекциями"
   ],
   "id": "f8441856a55186dc",
   "outputs": [
    {
     "name": "stdout",
     "output_type": "stream",
     "text": [
      "\n",
      "image 1/1 C:\\Users\\user\\PycharmProjects\\spbu_deep_learning1\\homeworks\\rnn_hw\\test\\images\\5.jpg: 480x640 12 persons, 1 motorcycle, 181.8ms\n",
      "Speed: 0.0ms preprocess, 181.8ms inference, 0.0ms postprocess per image at shape (1, 3, 480, 640)\n"
     ]
    },
    {
     "data": {
      "text/plain": [
       "array([[[13, 35, 46],\n",
       "        [15, 37, 48],\n",
       "        [16, 38, 49],\n",
       "        ...,\n",
       "        [28, 54, 54],\n",
       "        [28, 54, 54],\n",
       "        [30, 56, 56]],\n",
       "\n",
       "       [[15, 37, 48],\n",
       "        [15, 37, 48],\n",
       "        [15, 37, 48],\n",
       "        ...,\n",
       "        [26, 55, 52],\n",
       "        [27, 55, 55],\n",
       "        [28, 57, 54]],\n",
       "\n",
       "       [[13, 37, 49],\n",
       "        [13, 37, 49],\n",
       "        [13, 37, 49],\n",
       "        ...,\n",
       "        [26, 58, 53],\n",
       "        [27, 58, 55],\n",
       "        [28, 60, 55]],\n",
       "\n",
       "       ...,\n",
       "\n",
       "       [[42, 37, 38],\n",
       "        [53, 48, 49],\n",
       "        [57, 52, 53],\n",
       "        ...,\n",
       "        [14, 18, 23],\n",
       "        [24, 30, 35],\n",
       "        [27, 33, 40]],\n",
       "\n",
       "       [[42, 37, 38],\n",
       "        [45, 40, 41],\n",
       "        [49, 44, 45],\n",
       "        ...,\n",
       "        [17, 21, 26],\n",
       "        [18, 24, 31],\n",
       "        [18, 24, 31]],\n",
       "\n",
       "       [[36, 31, 32],\n",
       "        [42, 37, 38],\n",
       "        [44, 39, 40],\n",
       "        ...,\n",
       "        [22, 26, 31],\n",
       "        [14, 20, 27],\n",
       "        [13, 21, 28]]], dtype=uint8)"
      ]
     },
     "execution_count": 4,
     "metadata": {},
     "output_type": "execute_result"
    }
   ],
   "execution_count": 4
  },
  {
   "metadata": {
    "ExecuteTime": {
     "end_time": "2024-12-02T19:46:10.589368Z",
     "start_time": "2024-12-02T19:46:10.573852Z"
    }
   },
   "cell_type": "code",
   "source": [
    "def detect_people(image_path):\n",
    "    \"\"\"\n",
    "    Выполняет детекцию людей на изображении и возвращает ограничивающие рамки.\n",
    "    \"\"\"\n",
    "    results = model(image_path)  # Выполняем предсказание\n",
    "    boxes = []\n",
    "    for box in results[0].boxes:\n",
    "        if int(box.cls) == 0:  # Класс \"person\"\n",
    "            left, top, right, bottom = box.xyxy[0].tolist()\n",
    "            boxes.append((int(left), int(top), int(right), int(bottom)))\n",
    "    return boxes"
   ],
   "id": "81aa24829d784a49",
   "outputs": [],
   "execution_count": 3
  },
  {
   "metadata": {
    "ExecuteTime": {
     "end_time": "2024-12-02T16:38:36.400972Z",
     "start_time": "2024-12-02T16:37:59.315091Z"
    }
   },
   "cell_type": "code",
   "source": [
    "import pandas as pd\n",
    "import os\n",
    "\n",
    "# Сбор всех изображений из тестового набора\n",
    "image_files = [f for f in os.listdir('test/images/') if f.endswith(('.jpg', '.png'))]\n",
    "image_files.sort()  # Убедитесь, что сортировка соответствует ID\n",
    "\n",
    "# Создание файла submission.csv\n",
    "submission_data = []\n",
    "for i, image_file in enumerate(image_files):\n",
    "    image_path = os.path.join('test/images/', image_file)\n",
    "    bboxes = detect_people(image_path)\n",
    "    submission_data.append({\"ID\": image_file[:-4], \"bboxes\": bboxes})\n",
    "\n",
    "# Создание DataFrame и запись в CSV\n",
    "df = pd.DataFrame(submission_data)\n",
    "df[\"bboxes\"] = df[\"bboxes\"].apply(lambda x: str(x))  # Преобразуем список в строку\n",
    "df.to_csv(\"submission1.csv\", index=False)\n",
    "print(f\"Submission file saved to submission1.csv\")"
   ],
   "id": "a86d3a37cf68175c",
   "outputs": [
    {
     "name": "stdout",
     "output_type": "stream",
     "text": [
      "\n",
      "image 1/1 C:\\Users\\user\\PycharmProjects\\spbu_deep_learning1\\homeworks\\rnn_hw\\test\\images\\100.jpg: 480x640 10 persons, 1 bird, 251.1ms\n",
      "Speed: 0.0ms preprocess, 251.1ms inference, 0.0ms postprocess per image at shape (1, 3, 480, 640)\n",
      "\n",
      "image 1/1 C:\\Users\\user\\PycharmProjects\\spbu_deep_learning1\\homeworks\\rnn_hw\\test\\images\\1000.jpg: 640x512 (no detections), 15.6ms\n",
      "Speed: 0.0ms preprocess, 15.6ms inference, 0.0ms postprocess per image at shape (1, 3, 640, 512)\n",
      "\n",
      "image 1/1 C:\\Users\\user\\PycharmProjects\\spbu_deep_learning1\\homeworks\\rnn_hw\\test\\images\\1006.jpg: 640x640 (no detections), 31.3ms\n",
      "Speed: 0.0ms preprocess, 31.3ms inference, 0.0ms postprocess per image at shape (1, 3, 640, 640)\n",
      "\n",
      "image 1/1 C:\\Users\\user\\PycharmProjects\\spbu_deep_learning1\\homeworks\\rnn_hw\\test\\images\\1007.jpg: 640x512 1 person, 2 couchs, 28.6ms\n",
      "Speed: 0.0ms preprocess, 28.6ms inference, 3.0ms postprocess per image at shape (1, 3, 640, 512)\n",
      "\n",
      "image 1/1 C:\\Users\\user\\PycharmProjects\\spbu_deep_learning1\\homeworks\\rnn_hw\\test\\images\\1009.jpg: 544x640 1 dog, 15.6ms\n",
      "Speed: 0.0ms preprocess, 15.6ms inference, 0.0ms postprocess per image at shape (1, 3, 544, 640)\n",
      "\n",
      "image 1/1 C:\\Users\\user\\PycharmProjects\\spbu_deep_learning1\\homeworks\\rnn_hw\\test\\images\\1012.jpg: 640x512 2 persons, 15.6ms\n",
      "Speed: 0.0ms preprocess, 15.6ms inference, 0.0ms postprocess per image at shape (1, 3, 640, 512)\n",
      "\n",
      "image 1/1 C:\\Users\\user\\PycharmProjects\\spbu_deep_learning1\\homeworks\\rnn_hw\\test\\images\\1020.jpg: 480x640 (no detections), 23.3ms\n",
      "Speed: 0.0ms preprocess, 23.3ms inference, 0.0ms postprocess per image at shape (1, 3, 480, 640)\n",
      "\n",
      "image 1/1 C:\\Users\\user\\PycharmProjects\\spbu_deep_learning1\\homeworks\\rnn_hw\\test\\images\\1023.jpg: 640x448 (no detections), 22.8ms\n",
      "Speed: 0.0ms preprocess, 22.8ms inference, 0.0ms postprocess per image at shape (1, 3, 640, 448)\n",
      "\n",
      "image 1/1 C:\\Users\\user\\PycharmProjects\\spbu_deep_learning1\\homeworks\\rnn_hw\\test\\images\\1027.jpg: 640x480 (no detections), 46.9ms\n",
      "Speed: 0.0ms preprocess, 46.9ms inference, 0.0ms postprocess per image at shape (1, 3, 640, 480)\n",
      "\n",
      "image 1/1 C:\\Users\\user\\PycharmProjects\\spbu_deep_learning1\\homeworks\\rnn_hw\\test\\images\\1031.jpg: 640x480 1 person, 1 bird, 15.6ms\n",
      "Speed: 15.6ms preprocess, 15.6ms inference, 0.0ms postprocess per image at shape (1, 3, 640, 480)\n",
      "\n",
      "image 1/1 C:\\Users\\user\\PycharmProjects\\spbu_deep_learning1\\homeworks\\rnn_hw\\test\\images\\1038.jpg: 640x512 1 bed, 5.5ms\n",
      "Speed: 10.5ms preprocess, 5.5ms inference, 15.6ms postprocess per image at shape (1, 3, 640, 512)\n",
      "\n",
      "image 1/1 C:\\Users\\user\\PycharmProjects\\spbu_deep_learning1\\homeworks\\rnn_hw\\test\\images\\1040.jpg: 640x416 2 persons, 15.6ms\n",
      "Speed: 0.0ms preprocess, 15.6ms inference, 0.0ms postprocess per image at shape (1, 3, 640, 416)\n",
      "\n",
      "image 1/1 C:\\Users\\user\\PycharmProjects\\spbu_deep_learning1\\homeworks\\rnn_hw\\test\\images\\1042.jpg: 320x640 (no detections), 31.2ms\n",
      "Speed: 0.0ms preprocess, 31.2ms inference, 0.0ms postprocess per image at shape (1, 3, 320, 640)\n",
      "\n",
      "image 1/1 C:\\Users\\user\\PycharmProjects\\spbu_deep_learning1\\homeworks\\rnn_hw\\test\\images\\1045.jpg: 640x512 (no detections), 15.6ms\n",
      "Speed: 0.0ms preprocess, 15.6ms inference, 0.0ms postprocess per image at shape (1, 3, 640, 512)\n",
      "\n",
      "image 1/1 C:\\Users\\user\\PycharmProjects\\spbu_deep_learning1\\homeworks\\rnn_hw\\test\\images\\1048.jpg: 576x640 (no detections), 22.1ms\n",
      "Speed: 0.0ms preprocess, 22.1ms inference, 0.0ms postprocess per image at shape (1, 3, 576, 640)\n",
      "\n",
      "image 1/1 C:\\Users\\user\\PycharmProjects\\spbu_deep_learning1\\homeworks\\rnn_hw\\test\\images\\1049.jpg: 480x640 (no detections), 32.4ms\n",
      "Speed: 0.0ms preprocess, 32.4ms inference, 0.0ms postprocess per image at shape (1, 3, 480, 640)\n",
      "\n",
      "image 1/1 C:\\Users\\user\\PycharmProjects\\spbu_deep_learning1\\homeworks\\rnn_hw\\test\\images\\105.jpg: 640x512 1 car, 1 train, 14.5ms\n",
      "Speed: 0.0ms preprocess, 14.5ms inference, 0.0ms postprocess per image at shape (1, 3, 640, 512)\n",
      "\n",
      "image 1/1 C:\\Users\\user\\PycharmProjects\\spbu_deep_learning1\\homeworks\\rnn_hw\\test\\images\\1051.jpg: 640x480 (no detections), 16.7ms\n",
      "Speed: 0.0ms preprocess, 16.7ms inference, 0.0ms postprocess per image at shape (1, 3, 640, 480)\n",
      "\n",
      "image 1/1 C:\\Users\\user\\PycharmProjects\\spbu_deep_learning1\\homeworks\\rnn_hw\\test\\images\\1053.jpg: 640x512 1 tie, 14.5ms\n",
      "Speed: 0.0ms preprocess, 14.5ms inference, 15.6ms postprocess per image at shape (1, 3, 640, 512)\n",
      "\n",
      "image 1/1 C:\\Users\\user\\PycharmProjects\\spbu_deep_learning1\\homeworks\\rnn_hw\\test\\images\\1055.jpg: 640x480 1 surfboard, 31.2ms\n",
      "Speed: 0.0ms preprocess, 31.2ms inference, 0.0ms postprocess per image at shape (1, 3, 640, 480)\n",
      "\n",
      "image 1/1 C:\\Users\\user\\PycharmProjects\\spbu_deep_learning1\\homeworks\\rnn_hw\\test\\images\\1066.jpg: 640x512 2 beds, 31.2ms\n",
      "Speed: 0.0ms preprocess, 31.2ms inference, 0.0ms postprocess per image at shape (1, 3, 640, 512)\n",
      "\n",
      "image 1/1 C:\\Users\\user\\PycharmProjects\\spbu_deep_learning1\\homeworks\\rnn_hw\\test\\images\\1069.jpg: 640x544 (no detections), 10.0ms\n",
      "Speed: 6.0ms preprocess, 10.0ms inference, 0.0ms postprocess per image at shape (1, 3, 640, 544)\n",
      "\n",
      "image 1/1 C:\\Users\\user\\PycharmProjects\\spbu_deep_learning1\\homeworks\\rnn_hw\\test\\images\\1072.jpg: 640x512 1 tennis racket, 31.3ms\n",
      "Speed: 0.0ms preprocess, 31.3ms inference, 0.0ms postprocess per image at shape (1, 3, 640, 512)\n",
      "\n",
      "image 1/1 C:\\Users\\user\\PycharmProjects\\spbu_deep_learning1\\homeworks\\rnn_hw\\test\\images\\1073.jpg: 640x544 1 bird, 15.6ms\n",
      "Speed: 0.0ms preprocess, 15.6ms inference, 0.0ms postprocess per image at shape (1, 3, 640, 544)\n",
      "\n",
      "image 1/1 C:\\Users\\user\\PycharmProjects\\spbu_deep_learning1\\homeworks\\rnn_hw\\test\\images\\1076.jpg: 640x512 1 person, 1 bottle, 15.6ms\n",
      "Speed: 15.6ms preprocess, 15.6ms inference, 0.0ms postprocess per image at shape (1, 3, 640, 512)\n",
      "\n",
      "image 1/1 C:\\Users\\user\\PycharmProjects\\spbu_deep_learning1\\homeworks\\rnn_hw\\test\\images\\1078.jpg: 640x480 1 cake, 17.1ms\n",
      "Speed: 0.0ms preprocess, 17.1ms inference, 0.0ms postprocess per image at shape (1, 3, 640, 480)\n",
      "\n",
      "image 1/1 C:\\Users\\user\\PycharmProjects\\spbu_deep_learning1\\homeworks\\rnn_hw\\test\\images\\1082.jpg: 480x640 1 boat, 15.6ms\n",
      "Speed: 0.0ms preprocess, 15.6ms inference, 0.0ms postprocess per image at shape (1, 3, 480, 640)\n",
      "\n",
      "image 1/1 C:\\Users\\user\\PycharmProjects\\spbu_deep_learning1\\homeworks\\rnn_hw\\test\\images\\109.jpg: 448x640 1 person, 1 car, 15.6ms\n",
      "Speed: 0.0ms preprocess, 15.6ms inference, 0.0ms postprocess per image at shape (1, 3, 448, 640)\n",
      "\n",
      "image 1/1 C:\\Users\\user\\PycharmProjects\\spbu_deep_learning1\\homeworks\\rnn_hw\\test\\images\\1090.jpg: 640x320 1 person, 1 backpack, 15.6ms\n",
      "Speed: 0.0ms preprocess, 15.6ms inference, 0.0ms postprocess per image at shape (1, 3, 640, 320)\n",
      "\n",
      "image 1/1 C:\\Users\\user\\PycharmProjects\\spbu_deep_learning1\\homeworks\\rnn_hw\\test\\images\\1092.jpg: 640x384 1 person, 1 vase, 31.6ms\n",
      "Speed: 0.0ms preprocess, 31.6ms inference, 0.0ms postprocess per image at shape (1, 3, 640, 384)\n",
      "\n",
      "image 1/1 C:\\Users\\user\\PycharmProjects\\spbu_deep_learning1\\homeworks\\rnn_hw\\test\\images\\1103.jpg: 224x640 1 bed, 19.3ms\n",
      "Speed: 0.0ms preprocess, 19.3ms inference, 0.0ms postprocess per image at shape (1, 3, 224, 640)\n",
      "\n",
      "image 1/1 C:\\Users\\user\\PycharmProjects\\spbu_deep_learning1\\homeworks\\rnn_hw\\test\\images\\1105.jpg: 288x640 1 car, 15.6ms\n",
      "Speed: 0.0ms preprocess, 15.6ms inference, 15.6ms postprocess per image at shape (1, 3, 288, 640)\n",
      "\n",
      "image 1/1 C:\\Users\\user\\PycharmProjects\\spbu_deep_learning1\\homeworks\\rnn_hw\\test\\images\\1111.jpg: 224x640 (no detections), 15.6ms\n",
      "Speed: 0.0ms preprocess, 15.6ms inference, 0.0ms postprocess per image at shape (1, 3, 224, 640)\n",
      "\n",
      "image 1/1 C:\\Users\\user\\PycharmProjects\\spbu_deep_learning1\\homeworks\\rnn_hw\\test\\images\\1117.jpg: 640x448 (no detections), 31.6ms\n",
      "Speed: 0.0ms preprocess, 31.6ms inference, 0.0ms postprocess per image at shape (1, 3, 640, 448)\n",
      "\n",
      "image 1/1 C:\\Users\\user\\PycharmProjects\\spbu_deep_learning1\\homeworks\\rnn_hw\\test\\images\\1118.jpg: 320x640 (no detections), 15.6ms\n",
      "Speed: 0.0ms preprocess, 15.6ms inference, 0.0ms postprocess per image at shape (1, 3, 320, 640)\n",
      "\n",
      "image 1/1 C:\\Users\\user\\PycharmProjects\\spbu_deep_learning1\\homeworks\\rnn_hw\\test\\images\\112.jpg: 448x640 1 car, 1 truck, 31.2ms\n",
      "Speed: 0.0ms preprocess, 31.2ms inference, 0.0ms postprocess per image at shape (1, 3, 448, 640)\n",
      "\n",
      "image 1/1 C:\\Users\\user\\PycharmProjects\\spbu_deep_learning1\\homeworks\\rnn_hw\\test\\images\\1124.jpg: 352x640 (no detections), 9.5ms\n",
      "Speed: 6.5ms preprocess, 9.5ms inference, 0.0ms postprocess per image at shape (1, 3, 352, 640)\n",
      "\n",
      "image 1/1 C:\\Users\\user\\PycharmProjects\\spbu_deep_learning1\\homeworks\\rnn_hw\\test\\images\\113.jpg: 480x640 1 train, 16.0ms\n",
      "Speed: 0.0ms preprocess, 16.0ms inference, 0.0ms postprocess per image at shape (1, 3, 480, 640)\n",
      "\n",
      "image 1/1 C:\\Users\\user\\PycharmProjects\\spbu_deep_learning1\\homeworks\\rnn_hw\\test\\images\\1132.jpg: 640x480 (no detections), 31.3ms\n",
      "Speed: 0.0ms preprocess, 31.3ms inference, 0.0ms postprocess per image at shape (1, 3, 640, 480)\n",
      "\n",
      "image 1/1 C:\\Users\\user\\PycharmProjects\\spbu_deep_learning1\\homeworks\\rnn_hw\\test\\images\\1133.jpg: 640x544 (no detections), 15.6ms\n",
      "Speed: 0.0ms preprocess, 15.6ms inference, 0.0ms postprocess per image at shape (1, 3, 640, 544)\n",
      "\n",
      "image 1/1 C:\\Users\\user\\PycharmProjects\\spbu_deep_learning1\\homeworks\\rnn_hw\\test\\images\\1134.jpg: 640x544 1 horse, 15.6ms\n",
      "Speed: 15.6ms preprocess, 15.6ms inference, 0.0ms postprocess per image at shape (1, 3, 640, 544)\n",
      "\n",
      "image 1/1 C:\\Users\\user\\PycharmProjects\\spbu_deep_learning1\\homeworks\\rnn_hw\\test\\images\\114.jpg: 480x640 4 persons, 1 cup, 1 potted plant, 1 tv, 1 vase, 31.6ms\n",
      "Speed: 0.0ms preprocess, 31.6ms inference, 0.0ms postprocess per image at shape (1, 3, 480, 640)\n",
      "\n",
      "image 1/1 C:\\Users\\user\\PycharmProjects\\spbu_deep_learning1\\homeworks\\rnn_hw\\test\\images\\1140.jpg: 640x448 1 tie, 31.3ms\n",
      "Speed: 0.0ms preprocess, 31.3ms inference, 0.0ms postprocess per image at shape (1, 3, 640, 448)\n",
      "\n",
      "image 1/1 C:\\Users\\user\\PycharmProjects\\spbu_deep_learning1\\homeworks\\rnn_hw\\test\\images\\1141.jpg: 640x480 1 cake, 15.6ms\n",
      "Speed: 0.0ms preprocess, 15.6ms inference, 0.0ms postprocess per image at shape (1, 3, 640, 480)\n",
      "\n",
      "image 1/1 C:\\Users\\user\\PycharmProjects\\spbu_deep_learning1\\homeworks\\rnn_hw\\test\\images\\1142.jpg: 640x544 1 bed, 15.6ms\n",
      "Speed: 0.0ms preprocess, 15.6ms inference, 0.0ms postprocess per image at shape (1, 3, 640, 544)\n",
      "\n",
      "image 1/1 C:\\Users\\user\\PycharmProjects\\spbu_deep_learning1\\homeworks\\rnn_hw\\test\\images\\1144.jpg: 640x512 1 umbrella, 9.3ms\n",
      "Speed: 0.0ms preprocess, 9.3ms inference, 0.0ms postprocess per image at shape (1, 3, 640, 512)\n",
      "\n",
      "image 1/1 C:\\Users\\user\\PycharmProjects\\spbu_deep_learning1\\homeworks\\rnn_hw\\test\\images\\1145.jpg: 480x640 (no detections), 15.6ms\n",
      "Speed: 0.0ms preprocess, 15.6ms inference, 0.0ms postprocess per image at shape (1, 3, 480, 640)\n",
      "\n",
      "image 1/1 C:\\Users\\user\\PycharmProjects\\spbu_deep_learning1\\homeworks\\rnn_hw\\test\\images\\1147.jpg: 480x640 (no detections), 31.2ms\n",
      "Speed: 0.0ms preprocess, 31.2ms inference, 0.0ms postprocess per image at shape (1, 3, 480, 640)\n",
      "\n",
      "image 1/1 C:\\Users\\user\\PycharmProjects\\spbu_deep_learning1\\homeworks\\rnn_hw\\test\\images\\1152.jpg: 544x640 1 bird, 16.8ms\n",
      "Speed: 0.0ms preprocess, 16.8ms inference, 0.0ms postprocess per image at shape (1, 3, 544, 640)\n",
      "\n",
      "image 1/1 C:\\Users\\user\\PycharmProjects\\spbu_deep_learning1\\homeworks\\rnn_hw\\test\\images\\1157.jpg: 640x352 (no detections), 18.6ms\n",
      "Speed: 0.0ms preprocess, 18.6ms inference, 0.0ms postprocess per image at shape (1, 3, 640, 352)\n",
      "\n",
      "image 1/1 C:\\Users\\user\\PycharmProjects\\spbu_deep_learning1\\homeworks\\rnn_hw\\test\\images\\1158.jpg: 576x640 (no detections), 17.3ms\n",
      "Speed: 0.0ms preprocess, 17.3ms inference, 0.0ms postprocess per image at shape (1, 3, 576, 640)\n",
      "\n",
      "image 1/1 C:\\Users\\user\\PycharmProjects\\spbu_deep_learning1\\homeworks\\rnn_hw\\test\\images\\1164.jpg: 640x512 (no detections), 31.3ms\n",
      "Speed: 0.0ms preprocess, 31.3ms inference, 0.0ms postprocess per image at shape (1, 3, 640, 512)\n",
      "\n",
      "image 1/1 C:\\Users\\user\\PycharmProjects\\spbu_deep_learning1\\homeworks\\rnn_hw\\test\\images\\1165.jpg: 640x640 1 bed, 32.8ms\n",
      "Speed: 0.0ms preprocess, 32.8ms inference, 0.0ms postprocess per image at shape (1, 3, 640, 640)\n",
      "\n",
      "image 1/1 C:\\Users\\user\\PycharmProjects\\spbu_deep_learning1\\homeworks\\rnn_hw\\test\\images\\1167.jpg: 544x640 (no detections), 45.8ms\n",
      "Speed: 0.0ms preprocess, 45.8ms inference, 0.0ms postprocess per image at shape (1, 3, 544, 640)\n",
      "\n",
      "image 1/1 C:\\Users\\user\\PycharmProjects\\spbu_deep_learning1\\homeworks\\rnn_hw\\test\\images\\1171.jpg: 544x640 1 vase, 15.6ms\n",
      "Speed: 0.0ms preprocess, 15.6ms inference, 0.0ms postprocess per image at shape (1, 3, 544, 640)\n",
      "\n",
      "image 1/1 C:\\Users\\user\\PycharmProjects\\spbu_deep_learning1\\homeworks\\rnn_hw\\test\\images\\1178.jpg: 640x512 1 person, 15.6ms\n",
      "Speed: 0.0ms preprocess, 15.6ms inference, 0.0ms postprocess per image at shape (1, 3, 640, 512)\n",
      "\n",
      "image 1/1 C:\\Users\\user\\PycharmProjects\\spbu_deep_learning1\\homeworks\\rnn_hw\\test\\images\\1180.jpg: 544x640 (no detections), 23.9ms\n",
      "Speed: 0.0ms preprocess, 23.9ms inference, 0.0ms postprocess per image at shape (1, 3, 544, 640)\n",
      "\n",
      "image 1/1 C:\\Users\\user\\PycharmProjects\\spbu_deep_learning1\\homeworks\\rnn_hw\\test\\images\\1181.jpg: 512x640 (no detections), 15.6ms\n",
      "Speed: 0.0ms preprocess, 15.6ms inference, 0.0ms postprocess per image at shape (1, 3, 512, 640)\n",
      "\n",
      "image 1/1 C:\\Users\\user\\PycharmProjects\\spbu_deep_learning1\\homeworks\\rnn_hw\\test\\images\\1184.jpg: 416x640 1 car, 31.2ms\n",
      "Speed: 0.0ms preprocess, 31.2ms inference, 0.0ms postprocess per image at shape (1, 3, 416, 640)\n",
      "\n",
      "image 1/1 C:\\Users\\user\\PycharmProjects\\spbu_deep_learning1\\homeworks\\rnn_hw\\test\\images\\1187.jpg: 640x512 (no detections), 31.6ms\n",
      "Speed: 0.0ms preprocess, 31.6ms inference, 0.0ms postprocess per image at shape (1, 3, 640, 512)\n",
      "\n",
      "image 1/1 C:\\Users\\user\\PycharmProjects\\spbu_deep_learning1\\homeworks\\rnn_hw\\test\\images\\1188.jpg: 544x640 1 stop sign, 15.6ms\n",
      "Speed: 0.0ms preprocess, 15.6ms inference, 0.0ms postprocess per image at shape (1, 3, 544, 640)\n",
      "\n",
      "image 1/1 C:\\Users\\user\\PycharmProjects\\spbu_deep_learning1\\homeworks\\rnn_hw\\test\\images\\1190.jpg: 640x320 (no detections), 15.6ms\n",
      "Speed: 0.0ms preprocess, 15.6ms inference, 0.0ms postprocess per image at shape (1, 3, 640, 320)\n",
      "\n",
      "image 1/1 C:\\Users\\user\\PycharmProjects\\spbu_deep_learning1\\homeworks\\rnn_hw\\test\\images\\1193.jpg: 512x640 (no detections), 15.8ms\n",
      "Speed: 0.0ms preprocess, 15.8ms inference, 0.0ms postprocess per image at shape (1, 3, 512, 640)\n",
      "\n",
      "image 1/1 C:\\Users\\user\\PycharmProjects\\spbu_deep_learning1\\homeworks\\rnn_hw\\test\\images\\1195.jpg: 640x480 1 bed, 19.1ms\n",
      "Speed: 0.0ms preprocess, 19.1ms inference, 0.0ms postprocess per image at shape (1, 3, 640, 480)\n",
      "\n",
      "image 1/1 C:\\Users\\user\\PycharmProjects\\spbu_deep_learning1\\homeworks\\rnn_hw\\test\\images\\1196.jpg: 512x640 1 bed, 13.8ms\n",
      "Speed: 0.0ms preprocess, 13.8ms inference, 0.0ms postprocess per image at shape (1, 3, 512, 640)\n",
      "\n",
      "image 1/1 C:\\Users\\user\\PycharmProjects\\spbu_deep_learning1\\homeworks\\rnn_hw\\test\\images\\1198.jpg: 640x320 (no detections), 15.7ms\n",
      "Speed: 0.0ms preprocess, 15.7ms inference, 0.0ms postprocess per image at shape (1, 3, 640, 320)\n",
      "\n",
      "image 1/1 C:\\Users\\user\\PycharmProjects\\spbu_deep_learning1\\homeworks\\rnn_hw\\test\\images\\1199.jpg: 448x640 (no detections), 15.6ms\n",
      "Speed: 0.0ms preprocess, 15.6ms inference, 0.0ms postprocess per image at shape (1, 3, 448, 640)\n",
      "\n",
      "image 1/1 C:\\Users\\user\\PycharmProjects\\spbu_deep_learning1\\homeworks\\rnn_hw\\test\\images\\1200.jpg: 640x512 2 birds, 15.6ms\n",
      "Speed: 0.0ms preprocess, 15.6ms inference, 0.0ms postprocess per image at shape (1, 3, 640, 512)\n",
      "\n",
      "image 1/1 C:\\Users\\user\\PycharmProjects\\spbu_deep_learning1\\homeworks\\rnn_hw\\test\\images\\1203.jpg: 512x640 1 horse, 22.6ms\n",
      "Speed: 0.0ms preprocess, 22.6ms inference, 0.0ms postprocess per image at shape (1, 3, 512, 640)\n",
      "\n",
      "image 1/1 C:\\Users\\user\\PycharmProjects\\spbu_deep_learning1\\homeworks\\rnn_hw\\test\\images\\1209.jpg: 448x640 (no detections), 18.6ms\n",
      "Speed: 0.0ms preprocess, 18.6ms inference, 0.0ms postprocess per image at shape (1, 3, 448, 640)\n",
      "\n",
      "image 1/1 C:\\Users\\user\\PycharmProjects\\spbu_deep_learning1\\homeworks\\rnn_hw\\test\\images\\1210.jpg: 640x544 (no detections), 32.5ms\n",
      "Speed: 0.0ms preprocess, 32.5ms inference, 0.0ms postprocess per image at shape (1, 3, 640, 544)\n",
      "\n",
      "image 1/1 C:\\Users\\user\\PycharmProjects\\spbu_deep_learning1\\homeworks\\rnn_hw\\test\\images\\1217.jpg: 640x544 (no detections), 14.5ms\n",
      "Speed: 0.0ms preprocess, 14.5ms inference, 0.0ms postprocess per image at shape (1, 3, 640, 544)\n",
      "\n",
      "image 1/1 C:\\Users\\user\\PycharmProjects\\spbu_deep_learning1\\homeworks\\rnn_hw\\test\\images\\1219.jpg: 512x640 3 donuts, 19.6ms\n",
      "Speed: 0.0ms preprocess, 19.6ms inference, 0.0ms postprocess per image at shape (1, 3, 512, 640)\n",
      "\n",
      "image 1/1 C:\\Users\\user\\PycharmProjects\\spbu_deep_learning1\\homeworks\\rnn_hw\\test\\images\\1220.jpg: 640x640 (no detections), 15.6ms\n",
      "Speed: 0.0ms preprocess, 15.6ms inference, 15.6ms postprocess per image at shape (1, 3, 640, 640)\n",
      "\n",
      "image 1/1 C:\\Users\\user\\PycharmProjects\\spbu_deep_learning1\\homeworks\\rnn_hw\\test\\images\\1221.jpg: 352x640 (no detections), 15.6ms\n",
      "Speed: 0.0ms preprocess, 15.6ms inference, 0.0ms postprocess per image at shape (1, 3, 352, 640)\n",
      "\n",
      "image 1/1 C:\\Users\\user\\PycharmProjects\\spbu_deep_learning1\\homeworks\\rnn_hw\\test\\images\\1226.jpg: 640x480 1 person, 33.8ms\n",
      "Speed: 0.0ms preprocess, 33.8ms inference, 0.0ms postprocess per image at shape (1, 3, 640, 480)\n",
      "\n",
      "image 1/1 C:\\Users\\user\\PycharmProjects\\spbu_deep_learning1\\homeworks\\rnn_hw\\test\\images\\1229.jpg: 640x448 1 clock, 29.1ms\n",
      "Speed: 0.0ms preprocess, 29.1ms inference, 0.0ms postprocess per image at shape (1, 3, 640, 448)\n",
      "\n",
      "image 1/1 C:\\Users\\user\\PycharmProjects\\spbu_deep_learning1\\homeworks\\rnn_hw\\test\\images\\123.jpg: 448x640 5 bottles, 1 vase, 15.6ms\n",
      "Speed: 0.0ms preprocess, 15.6ms inference, 0.0ms postprocess per image at shape (1, 3, 448, 640)\n",
      "\n",
      "image 1/1 C:\\Users\\user\\PycharmProjects\\spbu_deep_learning1\\homeworks\\rnn_hw\\test\\images\\1231.jpg: 640x448 2 persons, 15.6ms\n",
      "Speed: 15.6ms preprocess, 15.6ms inference, 0.0ms postprocess per image at shape (1, 3, 640, 448)\n",
      "\n",
      "image 1/1 C:\\Users\\user\\PycharmProjects\\spbu_deep_learning1\\homeworks\\rnn_hw\\test\\images\\1233.jpg: 640x448 2 persons, 24.1ms\n",
      "Speed: 0.0ms preprocess, 24.1ms inference, 0.0ms postprocess per image at shape (1, 3, 640, 448)\n",
      "\n",
      "image 1/1 C:\\Users\\user\\PycharmProjects\\spbu_deep_learning1\\homeworks\\rnn_hw\\test\\images\\1238.jpg: 640x512 1 remote, 15.6ms\n",
      "Speed: 0.0ms preprocess, 15.6ms inference, 0.0ms postprocess per image at shape (1, 3, 640, 512)\n",
      "\n",
      "image 1/1 C:\\Users\\user\\PycharmProjects\\spbu_deep_learning1\\homeworks\\rnn_hw\\test\\images\\125.jpg: 480x640 10 persons, 8 motorcycles, 3 backpacks, 1 handbag, 31.2ms\n",
      "Speed: 0.0ms preprocess, 31.2ms inference, 0.0ms postprocess per image at shape (1, 3, 480, 640)\n",
      "\n",
      "image 1/1 C:\\Users\\user\\PycharmProjects\\spbu_deep_learning1\\homeworks\\rnn_hw\\test\\images\\1250.jpg: 640x512 1 bottle, 1 wine glass, 1 knife, 1 apple, 1 dining table, 15.6ms\n",
      "Speed: 0.0ms preprocess, 15.6ms inference, 0.0ms postprocess per image at shape (1, 3, 640, 512)\n",
      "\n",
      "image 1/1 C:\\Users\\user\\PycharmProjects\\spbu_deep_learning1\\homeworks\\rnn_hw\\test\\images\\1254.jpg: 448x640 (no detections), 16.0ms\n",
      "Speed: 0.0ms preprocess, 16.0ms inference, 0.0ms postprocess per image at shape (1, 3, 448, 640)\n",
      "\n",
      "image 1/1 C:\\Users\\user\\PycharmProjects\\spbu_deep_learning1\\homeworks\\rnn_hw\\test\\images\\126.jpg: 480x640 8 persons, 15.6ms\n",
      "Speed: 0.0ms preprocess, 15.6ms inference, 0.0ms postprocess per image at shape (1, 3, 480, 640)\n",
      "\n",
      "image 1/1 C:\\Users\\user\\PycharmProjects\\spbu_deep_learning1\\homeworks\\rnn_hw\\test\\images\\1260.jpg: 416x640 (no detections), 15.6ms\n",
      "Speed: 0.0ms preprocess, 15.6ms inference, 0.0ms postprocess per image at shape (1, 3, 416, 640)\n",
      "\n",
      "image 1/1 C:\\Users\\user\\PycharmProjects\\spbu_deep_learning1\\homeworks\\rnn_hw\\test\\images\\1263.jpg: 512x640 (no detections), 15.6ms\n",
      "Speed: 0.0ms preprocess, 15.6ms inference, 0.0ms postprocess per image at shape (1, 3, 512, 640)\n",
      "\n",
      "image 1/1 C:\\Users\\user\\PycharmProjects\\spbu_deep_learning1\\homeworks\\rnn_hw\\test\\images\\127.jpg: 448x640 1 cow, 20.3ms\n",
      "Speed: 0.0ms preprocess, 20.3ms inference, 0.0ms postprocess per image at shape (1, 3, 448, 640)\n",
      "\n",
      "image 1/1 C:\\Users\\user\\PycharmProjects\\spbu_deep_learning1\\homeworks\\rnn_hw\\test\\images\\1270.jpg: 512x640 9 persons, 1 bowl, 1 chair, 1 potted plant, 15.9ms\n",
      "Speed: 0.0ms preprocess, 15.9ms inference, 0.0ms postprocess per image at shape (1, 3, 512, 640)\n",
      "\n",
      "image 1/1 C:\\Users\\user\\PycharmProjects\\spbu_deep_learning1\\homeworks\\rnn_hw\\test\\images\\1273.jpg: 640x512 5 persons, 20.1ms\n",
      "Speed: 0.0ms preprocess, 20.1ms inference, 0.0ms postprocess per image at shape (1, 3, 640, 512)\n",
      "\n",
      "image 1/1 C:\\Users\\user\\PycharmProjects\\spbu_deep_learning1\\homeworks\\rnn_hw\\test\\images\\1274.jpg: 512x640 5 persons, 15.6ms\n",
      "Speed: 0.0ms preprocess, 15.6ms inference, 0.0ms postprocess per image at shape (1, 3, 512, 640)\n",
      "\n",
      "image 1/1 C:\\Users\\user\\PycharmProjects\\spbu_deep_learning1\\homeworks\\rnn_hw\\test\\images\\1275.jpg: 640x544 5 persons, 1 backpack, 21.6ms\n",
      "Speed: 0.0ms preprocess, 21.6ms inference, 10.1ms postprocess per image at shape (1, 3, 640, 544)\n",
      "\n",
      "image 1/1 C:\\Users\\user\\PycharmProjects\\spbu_deep_learning1\\homeworks\\rnn_hw\\test\\images\\128.jpg: 480x640 1 person, 1 bottle, 1 chair, 1 couch, 2 tvs, 1 mouse, 1 keyboard, 15.6ms\n",
      "Speed: 0.0ms preprocess, 15.6ms inference, 0.0ms postprocess per image at shape (1, 3, 480, 640)\n",
      "\n",
      "image 1/1 C:\\Users\\user\\PycharmProjects\\spbu_deep_learning1\\homeworks\\rnn_hw\\test\\images\\1283.jpg: 640x544 3 persons, 1 bottle, 17.1ms\n",
      "Speed: 15.6ms preprocess, 17.1ms inference, 0.0ms postprocess per image at shape (1, 3, 640, 544)\n",
      "\n",
      "image 1/1 C:\\Users\\user\\PycharmProjects\\spbu_deep_learning1\\homeworks\\rnn_hw\\test\\images\\1289.jpg: 512x640 1 dining table, 31.2ms\n",
      "Speed: 0.0ms preprocess, 31.2ms inference, 0.0ms postprocess per image at shape (1, 3, 512, 640)\n",
      "\n",
      "image 1/1 C:\\Users\\user\\PycharmProjects\\spbu_deep_learning1\\homeworks\\rnn_hw\\test\\images\\1290.jpg: 640x512 3 vases, 16.0ms\n",
      "Speed: 0.0ms preprocess, 16.0ms inference, 0.0ms postprocess per image at shape (1, 3, 640, 512)\n",
      "\n",
      "image 1/1 C:\\Users\\user\\PycharmProjects\\spbu_deep_learning1\\homeworks\\rnn_hw\\test\\images\\1291.jpg: 640x544 2 persons, 1 backpack, 31.3ms\n",
      "Speed: 0.0ms preprocess, 31.3ms inference, 0.0ms postprocess per image at shape (1, 3, 640, 544)\n",
      "\n",
      "image 1/1 C:\\Users\\user\\PycharmProjects\\spbu_deep_learning1\\homeworks\\rnn_hw\\test\\images\\1293.jpg: 512x640 4 persons, 31.2ms\n",
      "Speed: 0.0ms preprocess, 31.2ms inference, 0.0ms postprocess per image at shape (1, 3, 512, 640)\n",
      "\n",
      "image 1/1 C:\\Users\\user\\PycharmProjects\\spbu_deep_learning1\\homeworks\\rnn_hw\\test\\images\\1294.jpg: 512x640 1 person, 1 horse, 32.3ms\n",
      "Speed: 0.0ms preprocess, 32.3ms inference, 0.0ms postprocess per image at shape (1, 3, 512, 640)\n",
      "\n",
      "image 1/1 C:\\Users\\user\\PycharmProjects\\spbu_deep_learning1\\homeworks\\rnn_hw\\test\\images\\1297.jpg: 640x576 12 persons, 15.0ms\n",
      "Speed: 0.0ms preprocess, 15.0ms inference, 0.0ms postprocess per image at shape (1, 3, 640, 576)\n",
      "\n",
      "image 1/1 C:\\Users\\user\\PycharmProjects\\spbu_deep_learning1\\homeworks\\rnn_hw\\test\\images\\130.jpg: 640x448 1 train, 15.6ms\n",
      "Speed: 0.0ms preprocess, 15.6ms inference, 0.0ms postprocess per image at shape (1, 3, 640, 448)\n",
      "\n",
      "image 1/1 C:\\Users\\user\\PycharmProjects\\spbu_deep_learning1\\homeworks\\rnn_hw\\test\\images\\1305.jpg: 416x640 1 teddy bear, 31.2ms\n",
      "Speed: 0.0ms preprocess, 31.2ms inference, 0.0ms postprocess per image at shape (1, 3, 416, 640)\n",
      "\n",
      "image 1/1 C:\\Users\\user\\PycharmProjects\\spbu_deep_learning1\\homeworks\\rnn_hw\\test\\images\\1310.jpg: 640x544 (no detections), 22.6ms\n",
      "Speed: 0.0ms preprocess, 22.6ms inference, 0.0ms postprocess per image at shape (1, 3, 640, 544)\n",
      "\n",
      "image 1/1 C:\\Users\\user\\PycharmProjects\\spbu_deep_learning1\\homeworks\\rnn_hw\\test\\images\\1317.jpg: 448x640 1 person, 1 baseball bat, 2 clocks, 24.6ms\n",
      "Speed: 0.0ms preprocess, 24.6ms inference, 0.0ms postprocess per image at shape (1, 3, 448, 640)\n",
      "\n",
      "image 1/1 C:\\Users\\user\\PycharmProjects\\spbu_deep_learning1\\homeworks\\rnn_hw\\test\\images\\1321.jpg: 640x512 (no detections), 15.6ms\n",
      "Speed: 0.0ms preprocess, 15.6ms inference, 0.0ms postprocess per image at shape (1, 3, 640, 512)\n",
      "\n",
      "image 1/1 C:\\Users\\user\\PycharmProjects\\spbu_deep_learning1\\homeworks\\rnn_hw\\test\\images\\1322.jpg: 512x640 2 clocks, 31.3ms\n",
      "Speed: 15.6ms preprocess, 31.3ms inference, 0.0ms postprocess per image at shape (1, 3, 512, 640)\n",
      "\n",
      "image 1/1 C:\\Users\\user\\PycharmProjects\\spbu_deep_learning1\\homeworks\\rnn_hw\\test\\images\\1324.jpg: 640x384 (no detections), 34.3ms\n",
      "Speed: 0.0ms preprocess, 34.3ms inference, 0.0ms postprocess per image at shape (1, 3, 640, 384)\n",
      "\n",
      "image 1/1 C:\\Users\\user\\PycharmProjects\\spbu_deep_learning1\\homeworks\\rnn_hw\\test\\images\\133.jpg: 448x640 1 car, 12.0ms\n",
      "Speed: 15.6ms preprocess, 12.0ms inference, 0.0ms postprocess per image at shape (1, 3, 448, 640)\n",
      "\n",
      "image 1/1 C:\\Users\\user\\PycharmProjects\\spbu_deep_learning1\\homeworks\\rnn_hw\\test\\images\\1330.jpg: 640x448 1 person, 1 bowl, 38.3ms\n",
      "Speed: 0.0ms preprocess, 38.3ms inference, 0.0ms postprocess per image at shape (1, 3, 640, 448)\n",
      "\n",
      "image 1/1 C:\\Users\\user\\PycharmProjects\\spbu_deep_learning1\\homeworks\\rnn_hw\\test\\images\\1333.jpg: 640x608 1 person, 1 teddy bear, 15.6ms\n",
      "Speed: 0.0ms preprocess, 15.6ms inference, 0.0ms postprocess per image at shape (1, 3, 640, 608)\n",
      "\n",
      "image 1/1 C:\\Users\\user\\PycharmProjects\\spbu_deep_learning1\\homeworks\\rnn_hw\\test\\images\\1334.jpg: 640x544 1 person, 31.2ms\n",
      "Speed: 0.0ms preprocess, 31.2ms inference, 0.0ms postprocess per image at shape (1, 3, 640, 544)\n",
      "\n",
      "image 1/1 C:\\Users\\user\\PycharmProjects\\spbu_deep_learning1\\homeworks\\rnn_hw\\test\\images\\1335.jpg: 640x544 1 person, 1 tie, 8.8ms\n",
      "Speed: 7.5ms preprocess, 8.8ms inference, 0.0ms postprocess per image at shape (1, 3, 640, 544)\n",
      "\n",
      "image 1/1 C:\\Users\\user\\PycharmProjects\\spbu_deep_learning1\\homeworks\\rnn_hw\\test\\images\\1338.jpg: 352x640 1 person, 1 dog, 17.9ms\n",
      "Speed: 15.6ms preprocess, 17.9ms inference, 0.0ms postprocess per image at shape (1, 3, 352, 640)\n",
      "\n",
      "image 1/1 C:\\Users\\user\\PycharmProjects\\spbu_deep_learning1\\homeworks\\rnn_hw\\test\\images\\1340.jpg: 640x480 (no detections), 15.7ms\n",
      "Speed: 0.0ms preprocess, 15.7ms inference, 0.0ms postprocess per image at shape (1, 3, 640, 480)\n",
      "\n",
      "image 1/1 C:\\Users\\user\\PycharmProjects\\spbu_deep_learning1\\homeworks\\rnn_hw\\test\\images\\1344.jpg: 448x640 (no detections), 15.6ms\n",
      "Speed: 0.0ms preprocess, 15.6ms inference, 0.0ms postprocess per image at shape (1, 3, 448, 640)\n",
      "\n",
      "image 1/1 C:\\Users\\user\\PycharmProjects\\spbu_deep_learning1\\homeworks\\rnn_hw\\test\\images\\1355.jpg: 640x640 1 bowl, 15.6ms\n",
      "Speed: 0.0ms preprocess, 15.6ms inference, 0.0ms postprocess per image at shape (1, 3, 640, 640)\n",
      "\n",
      "image 1/1 C:\\Users\\user\\PycharmProjects\\spbu_deep_learning1\\homeworks\\rnn_hw\\test\\images\\1356.jpg: 640x640 (no detections), 16.6ms\n",
      "Speed: 0.0ms preprocess, 16.6ms inference, 0.0ms postprocess per image at shape (1, 3, 640, 640)\n",
      "\n",
      "image 1/1 C:\\Users\\user\\PycharmProjects\\spbu_deep_learning1\\homeworks\\rnn_hw\\test\\images\\1360.jpg: 640x640 1 tie, 30.6ms\n",
      "Speed: 0.0ms preprocess, 30.6ms inference, 0.0ms postprocess per image at shape (1, 3, 640, 640)\n",
      "\n",
      "image 1/1 C:\\Users\\user\\PycharmProjects\\spbu_deep_learning1\\homeworks\\rnn_hw\\test\\images\\1362.jpg: 640x640 1 toilet, 1 sink, 15.6ms\n",
      "Speed: 0.0ms preprocess, 15.6ms inference, 0.0ms postprocess per image at shape (1, 3, 640, 640)\n",
      "\n",
      "image 1/1 C:\\Users\\user\\PycharmProjects\\spbu_deep_learning1\\homeworks\\rnn_hw\\test\\images\\1363.jpg: 640x640 (no detections), 15.6ms\n",
      "Speed: 0.0ms preprocess, 15.6ms inference, 0.0ms postprocess per image at shape (1, 3, 640, 640)\n",
      "\n",
      "image 1/1 C:\\Users\\user\\PycharmProjects\\spbu_deep_learning1\\homeworks\\rnn_hw\\test\\images\\1365.jpg: 640x640 1 person, 22.6ms\n",
      "Speed: 0.0ms preprocess, 22.6ms inference, 9.0ms postprocess per image at shape (1, 3, 640, 640)\n",
      "\n",
      "image 1/1 C:\\Users\\user\\PycharmProjects\\spbu_deep_learning1\\homeworks\\rnn_hw\\test\\images\\1367.jpg: 576x640 (no detections), 16.0ms\n",
      "Speed: 0.0ms preprocess, 16.0ms inference, 0.0ms postprocess per image at shape (1, 3, 576, 640)\n",
      "\n",
      "image 1/1 C:\\Users\\user\\PycharmProjects\\spbu_deep_learning1\\homeworks\\rnn_hw\\test\\images\\1368.jpg: 480x640 1 kite, 31.3ms\n",
      "Speed: 0.0ms preprocess, 31.3ms inference, 0.0ms postprocess per image at shape (1, 3, 480, 640)\n",
      "\n",
      "image 1/1 C:\\Users\\user\\PycharmProjects\\spbu_deep_learning1\\homeworks\\rnn_hw\\test\\images\\1370.jpg: 576x640 (no detections), 31.6ms\n",
      "Speed: 0.0ms preprocess, 31.6ms inference, 0.0ms postprocess per image at shape (1, 3, 576, 640)\n",
      "\n",
      "image 1/1 C:\\Users\\user\\PycharmProjects\\spbu_deep_learning1\\homeworks\\rnn_hw\\test\\images\\1372.jpg: 544x640 1 vase, 16.6ms\n",
      "Speed: 0.0ms preprocess, 16.6ms inference, 0.0ms postprocess per image at shape (1, 3, 544, 640)\n",
      "\n",
      "image 1/1 C:\\Users\\user\\PycharmProjects\\spbu_deep_learning1\\homeworks\\rnn_hw\\test\\images\\1376.jpg: 544x640 1 tv, 30.6ms\n",
      "Speed: 0.0ms preprocess, 30.6ms inference, 0.0ms postprocess per image at shape (1, 3, 544, 640)\n",
      "\n",
      "image 1/1 C:\\Users\\user\\PycharmProjects\\spbu_deep_learning1\\homeworks\\rnn_hw\\test\\images\\1381.jpg: 512x640 (no detections), 16.2ms\n",
      "Speed: 0.0ms preprocess, 16.2ms inference, 0.0ms postprocess per image at shape (1, 3, 512, 640)\n",
      "\n",
      "image 1/1 C:\\Users\\user\\PycharmProjects\\spbu_deep_learning1\\homeworks\\rnn_hw\\test\\images\\1383.jpg: 640x576 1 person, 29.2ms\n",
      "Speed: 0.0ms preprocess, 29.2ms inference, 0.0ms postprocess per image at shape (1, 3, 640, 576)\n",
      "\n",
      "image 1/1 C:\\Users\\user\\PycharmProjects\\spbu_deep_learning1\\homeworks\\rnn_hw\\test\\images\\1390.jpg: 640x480 1 kite, 1 vase, 20.2ms\n",
      "Speed: 0.0ms preprocess, 20.2ms inference, 0.0ms postprocess per image at shape (1, 3, 640, 480)\n",
      "\n",
      "image 1/1 C:\\Users\\user\\PycharmProjects\\spbu_deep_learning1\\homeworks\\rnn_hw\\test\\images\\1397.jpg: 640x544 1 person, 1 potted plant, 15.8ms\n",
      "Speed: 0.0ms preprocess, 15.8ms inference, 0.0ms postprocess per image at shape (1, 3, 640, 544)\n",
      "\n",
      "image 1/1 C:\\Users\\user\\PycharmProjects\\spbu_deep_learning1\\homeworks\\rnn_hw\\test\\images\\14.jpg: 480x640 1 dog, 31.3ms\n",
      "Speed: 0.0ms preprocess, 31.3ms inference, 0.0ms postprocess per image at shape (1, 3, 480, 640)\n",
      "\n",
      "image 1/1 C:\\Users\\user\\PycharmProjects\\spbu_deep_learning1\\homeworks\\rnn_hw\\test\\images\\1402.jpg: 640x480 1 person, 15.6ms\n",
      "Speed: 0.0ms preprocess, 15.6ms inference, 0.0ms postprocess per image at shape (1, 3, 640, 480)\n",
      "\n",
      "image 1/1 C:\\Users\\user\\PycharmProjects\\spbu_deep_learning1\\homeworks\\rnn_hw\\test\\images\\141.jpg: 512x640 1 person, 16.0ms\n",
      "Speed: 0.0ms preprocess, 16.0ms inference, 0.0ms postprocess per image at shape (1, 3, 512, 640)\n",
      "\n",
      "image 1/1 C:\\Users\\user\\PycharmProjects\\spbu_deep_learning1\\homeworks\\rnn_hw\\test\\images\\1415.jpg: 640x480 2 persons, 1 bed, 15.6ms\n",
      "Speed: 0.0ms preprocess, 15.6ms inference, 0.0ms postprocess per image at shape (1, 3, 640, 480)\n",
      "\n",
      "image 1/1 C:\\Users\\user\\PycharmProjects\\spbu_deep_learning1\\homeworks\\rnn_hw\\test\\images\\1416.jpg: 640x416 1 person, 15.6ms\n",
      "Speed: 0.0ms preprocess, 15.6ms inference, 0.0ms postprocess per image at shape (1, 3, 640, 416)\n",
      "\n",
      "image 1/1 C:\\Users\\user\\PycharmProjects\\spbu_deep_learning1\\homeworks\\rnn_hw\\test\\images\\1418.jpg: 640x416 1 person, 15.6ms\n",
      "Speed: 0.0ms preprocess, 15.6ms inference, 0.0ms postprocess per image at shape (1, 3, 640, 416)\n",
      "\n",
      "image 1/1 C:\\Users\\user\\PycharmProjects\\spbu_deep_learning1\\homeworks\\rnn_hw\\test\\images\\1419.jpg: 640x512 1 person, 16.6ms\n",
      "Speed: 0.0ms preprocess, 16.6ms inference, 0.0ms postprocess per image at shape (1, 3, 640, 512)\n",
      "\n",
      "image 1/1 C:\\Users\\user\\PycharmProjects\\spbu_deep_learning1\\homeworks\\rnn_hw\\test\\images\\1420.jpg: 640x544 1 person, 30.6ms\n",
      "Speed: 0.0ms preprocess, 30.6ms inference, 0.0ms postprocess per image at shape (1, 3, 640, 544)\n",
      "\n",
      "image 1/1 C:\\Users\\user\\PycharmProjects\\spbu_deep_learning1\\homeworks\\rnn_hw\\test\\images\\1421.jpg: 640x512 1 person, 15.6ms\n",
      "Speed: 0.0ms preprocess, 15.6ms inference, 0.0ms postprocess per image at shape (1, 3, 640, 512)\n",
      "\n",
      "image 1/1 C:\\Users\\user\\PycharmProjects\\spbu_deep_learning1\\homeworks\\rnn_hw\\test\\images\\1424.jpg: 640x480 1 person, 15.7ms\n",
      "Speed: 0.0ms preprocess, 15.7ms inference, 0.0ms postprocess per image at shape (1, 3, 640, 480)\n",
      "\n",
      "image 1/1 C:\\Users\\user\\PycharmProjects\\spbu_deep_learning1\\homeworks\\rnn_hw\\test\\images\\1425.jpg: 640x480 2 persons, 22.6ms\n",
      "Speed: 0.0ms preprocess, 22.6ms inference, 0.0ms postprocess per image at shape (1, 3, 640, 480)\n",
      "\n",
      "image 1/1 C:\\Users\\user\\PycharmProjects\\spbu_deep_learning1\\homeworks\\rnn_hw\\test\\images\\1427.jpg: 640x480 1 person, 1 bed, 15.6ms\n",
      "Speed: 0.0ms preprocess, 15.6ms inference, 0.0ms postprocess per image at shape (1, 3, 640, 480)\n",
      "\n",
      "image 1/1 C:\\Users\\user\\PycharmProjects\\spbu_deep_learning1\\homeworks\\rnn_hw\\test\\images\\1429.jpg: 640x640 5 persons, 1 dog, 31.2ms\n",
      "Speed: 0.0ms preprocess, 31.2ms inference, 0.0ms postprocess per image at shape (1, 3, 640, 640)\n",
      "\n",
      "image 1/1 C:\\Users\\user\\PycharmProjects\\spbu_deep_learning1\\homeworks\\rnn_hw\\test\\images\\143.jpg: 544x640 2 persons, 1 bed, 15.6ms\n",
      "Speed: 0.0ms preprocess, 15.6ms inference, 0.0ms postprocess per image at shape (1, 3, 544, 640)\n",
      "\n",
      "image 1/1 C:\\Users\\user\\PycharmProjects\\spbu_deep_learning1\\homeworks\\rnn_hw\\test\\images\\1430.jpg: 640x416 2 persons, 1 bed, 16.0ms\n",
      "Speed: 15.6ms preprocess, 16.0ms inference, 0.0ms postprocess per image at shape (1, 3, 640, 416)\n",
      "\n",
      "image 1/1 C:\\Users\\user\\PycharmProjects\\spbu_deep_learning1\\homeworks\\rnn_hw\\test\\images\\1431.jpg: 512x640 5 persons, 1 tie, 1 chair, 2 potted plants, 1 bed, 15.6ms\n",
      "Speed: 0.0ms preprocess, 15.6ms inference, 0.0ms postprocess per image at shape (1, 3, 512, 640)\n",
      "\n",
      "image 1/1 C:\\Users\\user\\PycharmProjects\\spbu_deep_learning1\\homeworks\\rnn_hw\\test\\images\\1434.jpg: 384x640 (no detections), 15.6ms\n",
      "Speed: 0.0ms preprocess, 15.6ms inference, 0.0ms postprocess per image at shape (1, 3, 384, 640)\n",
      "\n",
      "image 1/1 C:\\Users\\user\\PycharmProjects\\spbu_deep_learning1\\homeworks\\rnn_hw\\test\\images\\1444.jpg: 480x640 1 sports ball, 1 sink, 15.6ms\n",
      "Speed: 0.0ms preprocess, 15.6ms inference, 0.0ms postprocess per image at shape (1, 3, 480, 640)\n",
      "\n",
      "image 1/1 C:\\Users\\user\\PycharmProjects\\spbu_deep_learning1\\homeworks\\rnn_hw\\test\\images\\1445.jpg: 640x608 2 persons, 26.7ms\n",
      "Speed: 0.0ms preprocess, 26.7ms inference, 0.0ms postprocess per image at shape (1, 3, 640, 608)\n",
      "\n",
      "image 1/1 C:\\Users\\user\\PycharmProjects\\spbu_deep_learning1\\homeworks\\rnn_hw\\test\\images\\1447.jpg: 512x640 (no detections), 31.3ms\n",
      "Speed: 0.0ms preprocess, 31.3ms inference, 0.0ms postprocess per image at shape (1, 3, 512, 640)\n",
      "\n",
      "image 1/1 C:\\Users\\user\\PycharmProjects\\spbu_deep_learning1\\homeworks\\rnn_hw\\test\\images\\1448.jpg: 640x416 (no detections), 15.6ms\n",
      "Speed: 0.0ms preprocess, 15.6ms inference, 0.0ms postprocess per image at shape (1, 3, 640, 416)\n",
      "\n",
      "image 1/1 C:\\Users\\user\\PycharmProjects\\spbu_deep_learning1\\homeworks\\rnn_hw\\test\\images\\1453.jpg: 448x640 3 horses, 15.6ms\n",
      "Speed: 0.0ms preprocess, 15.6ms inference, 0.0ms postprocess per image at shape (1, 3, 448, 640)\n",
      "\n",
      "image 1/1 C:\\Users\\user\\PycharmProjects\\spbu_deep_learning1\\homeworks\\rnn_hw\\test\\images\\1456.jpg: 640x416 1 person, 14.0ms\n",
      "Speed: 0.0ms preprocess, 14.0ms inference, 0.0ms postprocess per image at shape (1, 3, 640, 416)\n",
      "\n",
      "image 1/1 C:\\Users\\user\\PycharmProjects\\spbu_deep_learning1\\homeworks\\rnn_hw\\test\\images\\1457.jpg: 512x640 2 persons, 1 book, 1 teddy bear, 15.6ms\n",
      "Speed: 0.0ms preprocess, 15.6ms inference, 0.0ms postprocess per image at shape (1, 3, 512, 640)\n",
      "\n",
      "image 1/1 C:\\Users\\user\\PycharmProjects\\spbu_deep_learning1\\homeworks\\rnn_hw\\test\\images\\1461.jpg: 640x576 1 person, 31.2ms\n",
      "Speed: 0.0ms preprocess, 31.2ms inference, 0.0ms postprocess per image at shape (1, 3, 640, 576)\n",
      "\n",
      "image 1/1 C:\\Users\\user\\PycharmProjects\\spbu_deep_learning1\\homeworks\\rnn_hw\\test\\images\\1463.jpg: 640x544 1 person, 15.6ms\n",
      "Speed: 0.0ms preprocess, 15.6ms inference, 0.0ms postprocess per image at shape (1, 3, 640, 544)\n",
      "\n",
      "image 1/1 C:\\Users\\user\\PycharmProjects\\spbu_deep_learning1\\homeworks\\rnn_hw\\test\\images\\1464.jpg: 320x640 (no detections), 16.0ms\n",
      "Speed: 0.0ms preprocess, 16.0ms inference, 0.0ms postprocess per image at shape (1, 3, 320, 640)\n",
      "\n",
      "image 1/1 C:\\Users\\user\\PycharmProjects\\spbu_deep_learning1\\homeworks\\rnn_hw\\test\\images\\1465.jpg: 640x512 (no detections), 15.6ms\n",
      "Speed: 0.0ms preprocess, 15.6ms inference, 0.0ms postprocess per image at shape (1, 3, 640, 512)\n",
      "\n",
      "image 1/1 C:\\Users\\user\\PycharmProjects\\spbu_deep_learning1\\homeworks\\rnn_hw\\test\\images\\1466.jpg: 640x448 1 person, 4 sheeps, 15.6ms\n",
      "Speed: 0.0ms preprocess, 15.6ms inference, 0.0ms postprocess per image at shape (1, 3, 640, 448)\n",
      "\n",
      "image 1/1 C:\\Users\\user\\PycharmProjects\\spbu_deep_learning1\\homeworks\\rnn_hw\\test\\images\\147.jpg: 384x640 1 bus, 15.6ms\n",
      "Speed: 0.0ms preprocess, 15.6ms inference, 0.0ms postprocess per image at shape (1, 3, 384, 640)\n",
      "\n",
      "image 1/1 C:\\Users\\user\\PycharmProjects\\spbu_deep_learning1\\homeworks\\rnn_hw\\test\\images\\1471.jpg: 448x640 (no detections), 17.1ms\n",
      "Speed: 0.0ms preprocess, 17.1ms inference, 0.0ms postprocess per image at shape (1, 3, 448, 640)\n",
      "\n",
      "image 1/1 C:\\Users\\user\\PycharmProjects\\spbu_deep_learning1\\homeworks\\rnn_hw\\test\\images\\1477.jpg: 544x640 10 persons, 1 bowl, 1 clock, 14.5ms\n",
      "Speed: 0.0ms preprocess, 14.5ms inference, 0.0ms postprocess per image at shape (1, 3, 544, 640)\n",
      "\n",
      "image 1/1 C:\\Users\\user\\PycharmProjects\\spbu_deep_learning1\\homeworks\\rnn_hw\\test\\images\\1480.jpg: 512x640 2 persons, 1 bear, 15.6ms\n",
      "Speed: 0.0ms preprocess, 15.6ms inference, 0.0ms postprocess per image at shape (1, 3, 512, 640)\n",
      "\n",
      "image 1/1 C:\\Users\\user\\PycharmProjects\\spbu_deep_learning1\\homeworks\\rnn_hw\\test\\images\\1482.jpg: 480x640 (no detections), 31.3ms\n",
      "Speed: 0.0ms preprocess, 31.3ms inference, 0.0ms postprocess per image at shape (1, 3, 480, 640)\n",
      "\n",
      "image 1/1 C:\\Users\\user\\PycharmProjects\\spbu_deep_learning1\\homeworks\\rnn_hw\\test\\images\\1483.jpg: 448x640 6 persons, 4 bottles, 1 wine glass, 1 dining table, 23.1ms\n",
      "Speed: 0.0ms preprocess, 23.1ms inference, 0.0ms postprocess per image at shape (1, 3, 448, 640)\n",
      "\n",
      "image 1/1 C:\\Users\\user\\PycharmProjects\\spbu_deep_learning1\\homeworks\\rnn_hw\\test\\images\\1485.jpg: 640x352 1 bottle, 24.4ms\n",
      "Speed: 0.0ms preprocess, 24.4ms inference, 0.0ms postprocess per image at shape (1, 3, 640, 352)\n",
      "\n",
      "image 1/1 C:\\Users\\user\\PycharmProjects\\spbu_deep_learning1\\homeworks\\rnn_hw\\test\\images\\1486.jpg: 640x512 3 persons, 15.6ms\n",
      "Speed: 0.0ms preprocess, 15.6ms inference, 0.0ms postprocess per image at shape (1, 3, 640, 512)\n",
      "\n",
      "image 1/1 C:\\Users\\user\\PycharmProjects\\spbu_deep_learning1\\homeworks\\rnn_hw\\test\\images\\1495.jpg: 640x480 1 person, 15.6ms\n",
      "Speed: 15.6ms preprocess, 15.6ms inference, 0.0ms postprocess per image at shape (1, 3, 640, 480)\n",
      "\n",
      "image 1/1 C:\\Users\\user\\PycharmProjects\\spbu_deep_learning1\\homeworks\\rnn_hw\\test\\images\\1498.jpg: 416x640 5 persons, 2 benchs, 28.6ms\n",
      "Speed: 0.0ms preprocess, 28.6ms inference, 0.0ms postprocess per image at shape (1, 3, 416, 640)\n",
      "\n",
      "image 1/1 C:\\Users\\user\\PycharmProjects\\spbu_deep_learning1\\homeworks\\rnn_hw\\test\\images\\1499.jpg: 448x640 1 person, 1 bench, 16.5ms\n",
      "Speed: 0.0ms preprocess, 16.5ms inference, 0.0ms postprocess per image at shape (1, 3, 448, 640)\n",
      "\n",
      "image 1/1 C:\\Users\\user\\PycharmProjects\\spbu_deep_learning1\\homeworks\\rnn_hw\\test\\images\\1500.jpg: 640x320 (no detections), 15.6ms\n",
      "Speed: 0.0ms preprocess, 15.6ms inference, 0.0ms postprocess per image at shape (1, 3, 640, 320)\n",
      "\n",
      "image 1/1 C:\\Users\\user\\PycharmProjects\\spbu_deep_learning1\\homeworks\\rnn_hw\\test\\images\\1501.jpg: 480x640 (no detections), 15.6ms\n",
      "Speed: 0.0ms preprocess, 15.6ms inference, 0.0ms postprocess per image at shape (1, 3, 480, 640)\n",
      "\n",
      "image 1/1 C:\\Users\\user\\PycharmProjects\\spbu_deep_learning1\\homeworks\\rnn_hw\\test\\images\\1502.jpg: 544x640 1 vase, 15.6ms\n",
      "Speed: 0.0ms preprocess, 15.6ms inference, 0.0ms postprocess per image at shape (1, 3, 544, 640)\n",
      "\n",
      "image 1/1 C:\\Users\\user\\PycharmProjects\\spbu_deep_learning1\\homeworks\\rnn_hw\\test\\images\\1503.jpg: 512x640 1 knife, 1 apple, 13.5ms\n",
      "Speed: 2.5ms preprocess, 13.5ms inference, 0.0ms postprocess per image at shape (1, 3, 512, 640)\n",
      "\n",
      "image 1/1 C:\\Users\\user\\PycharmProjects\\spbu_deep_learning1\\homeworks\\rnn_hw\\test\\images\\1504.jpg: 480x640 1 cake, 15.6ms\n",
      "Speed: 0.0ms preprocess, 15.6ms inference, 0.0ms postprocess per image at shape (1, 3, 480, 640)\n",
      "\n",
      "image 1/1 C:\\Users\\user\\PycharmProjects\\spbu_deep_learning1\\homeworks\\rnn_hw\\test\\images\\1505.jpg: 448x640 (no detections), 15.6ms\n",
      "Speed: 0.0ms preprocess, 15.6ms inference, 0.0ms postprocess per image at shape (1, 3, 448, 640)\n",
      "\n",
      "image 1/1 C:\\Users\\user\\PycharmProjects\\spbu_deep_learning1\\homeworks\\rnn_hw\\test\\images\\1507.jpg: 640x480 (no detections), 15.6ms\n",
      "Speed: 0.0ms preprocess, 15.6ms inference, 0.0ms postprocess per image at shape (1, 3, 640, 480)\n",
      "\n",
      "image 1/1 C:\\Users\\user\\PycharmProjects\\spbu_deep_learning1\\homeworks\\rnn_hw\\test\\images\\1509.jpg: 640x576 1 potted plant, 1 vase, 16.0ms\n",
      "Speed: 0.0ms preprocess, 16.0ms inference, 0.0ms postprocess per image at shape (1, 3, 640, 576)\n",
      "\n",
      "image 1/1 C:\\Users\\user\\PycharmProjects\\spbu_deep_learning1\\homeworks\\rnn_hw\\test\\images\\151.jpg: 384x640 (no detections), 31.3ms\n",
      "Speed: 0.0ms preprocess, 31.3ms inference, 0.0ms postprocess per image at shape (1, 3, 384, 640)\n",
      "\n",
      "image 1/1 C:\\Users\\user\\PycharmProjects\\spbu_deep_learning1\\homeworks\\rnn_hw\\test\\images\\1512.jpg: 480x640 1 teddy bear, 15.6ms\n",
      "Speed: 0.0ms preprocess, 15.6ms inference, 0.0ms postprocess per image at shape (1, 3, 480, 640)\n",
      "\n",
      "image 1/1 C:\\Users\\user\\PycharmProjects\\spbu_deep_learning1\\homeworks\\rnn_hw\\test\\images\\1513.jpg: 480x640 (no detections), 15.7ms\n",
      "Speed: 16.1ms preprocess, 15.7ms inference, 0.0ms postprocess per image at shape (1, 3, 480, 640)\n",
      "\n",
      "image 1/1 C:\\Users\\user\\PycharmProjects\\spbu_deep_learning1\\homeworks\\rnn_hw\\test\\images\\1516.jpg: 640x640 1 toothbrush, 15.5ms\n",
      "Speed: 0.0ms preprocess, 15.5ms inference, 0.0ms postprocess per image at shape (1, 3, 640, 640)\n",
      "\n",
      "image 1/1 C:\\Users\\user\\PycharmProjects\\spbu_deep_learning1\\homeworks\\rnn_hw\\test\\images\\152.jpg: 448x640 (no detections), 15.6ms\n",
      "Speed: 0.0ms preprocess, 15.6ms inference, 0.0ms postprocess per image at shape (1, 3, 448, 640)\n",
      "\n",
      "image 1/1 C:\\Users\\user\\PycharmProjects\\spbu_deep_learning1\\homeworks\\rnn_hw\\test\\images\\1520.jpg: 544x640 (no detections), 31.2ms\n",
      "Speed: 0.0ms preprocess, 31.2ms inference, 0.0ms postprocess per image at shape (1, 3, 544, 640)\n",
      "\n",
      "image 1/1 C:\\Users\\user\\PycharmProjects\\spbu_deep_learning1\\homeworks\\rnn_hw\\test\\images\\1521.jpg: 640x640 (no detections), 18.0ms\n",
      "Speed: 0.0ms preprocess, 18.0ms inference, 0.0ms postprocess per image at shape (1, 3, 640, 640)\n",
      "\n",
      "image 1/1 C:\\Users\\user\\PycharmProjects\\spbu_deep_learning1\\homeworks\\rnn_hw\\test\\images\\1523.jpg: 640x576 1 person, 18.1ms\n",
      "Speed: 0.0ms preprocess, 18.1ms inference, 13.7ms postprocess per image at shape (1, 3, 640, 576)\n",
      "\n",
      "image 1/1 C:\\Users\\user\\PycharmProjects\\spbu_deep_learning1\\homeworks\\rnn_hw\\test\\images\\1525.jpg: 640x544 1 person, 15.7ms\n",
      "Speed: 0.0ms preprocess, 15.7ms inference, 0.0ms postprocess per image at shape (1, 3, 640, 544)\n",
      "\n",
      "image 1/1 C:\\Users\\user\\PycharmProjects\\spbu_deep_learning1\\homeworks\\rnn_hw\\test\\images\\1529.jpg: 512x640 2 persons, 31.2ms\n",
      "Speed: 0.0ms preprocess, 31.2ms inference, 0.0ms postprocess per image at shape (1, 3, 512, 640)\n",
      "\n",
      "image 1/1 C:\\Users\\user\\PycharmProjects\\spbu_deep_learning1\\homeworks\\rnn_hw\\test\\images\\1530.jpg: 480x640 2 persons, 1 refrigerator, 16.7ms\n",
      "Speed: 0.0ms preprocess, 16.7ms inference, 0.0ms postprocess per image at shape (1, 3, 480, 640)\n",
      "\n",
      "image 1/1 C:\\Users\\user\\PycharmProjects\\spbu_deep_learning1\\homeworks\\rnn_hw\\test\\images\\1532.jpg: 640x608 1 fork, 1 spoon, 14.2ms\n",
      "Speed: 15.0ms preprocess, 14.2ms inference, 0.0ms postprocess per image at shape (1, 3, 640, 608)\n",
      "\n",
      "image 1/1 C:\\Users\\user\\PycharmProjects\\spbu_deep_learning1\\homeworks\\rnn_hw\\test\\images\\1534.jpg: 640x416 (no detections), 33.3ms\n",
      "Speed: 0.0ms preprocess, 33.3ms inference, 0.0ms postprocess per image at shape (1, 3, 640, 416)\n",
      "\n",
      "image 1/1 C:\\Users\\user\\PycharmProjects\\spbu_deep_learning1\\homeworks\\rnn_hw\\test\\images\\1538.jpg: 448x640 1 horse, 15.6ms\n",
      "Speed: 0.0ms preprocess, 15.6ms inference, 0.0ms postprocess per image at shape (1, 3, 448, 640)\n",
      "\n",
      "image 1/1 C:\\Users\\user\\PycharmProjects\\spbu_deep_learning1\\homeworks\\rnn_hw\\test\\images\\1541.jpg: 640x576 1 person, 1 boat, 15.7ms\n",
      "Speed: 0.0ms preprocess, 15.7ms inference, 0.0ms postprocess per image at shape (1, 3, 640, 576)\n",
      "\n",
      "image 1/1 C:\\Users\\user\\PycharmProjects\\spbu_deep_learning1\\homeworks\\rnn_hw\\test\\images\\1545.jpg: 544x640 1 train, 31.6ms\n",
      "Speed: 0.0ms preprocess, 31.6ms inference, 0.0ms postprocess per image at shape (1, 3, 544, 640)\n",
      "\n",
      "image 1/1 C:\\Users\\user\\PycharmProjects\\spbu_deep_learning1\\homeworks\\rnn_hw\\test\\images\\1547.jpg: 640x384 2 cows, 15.6ms\n",
      "Speed: 0.0ms preprocess, 15.6ms inference, 0.0ms postprocess per image at shape (1, 3, 640, 384)\n",
      "\n",
      "image 1/1 C:\\Users\\user\\PycharmProjects\\spbu_deep_learning1\\homeworks\\rnn_hw\\test\\images\\1548.jpg: 640x544 (no detections), 15.6ms\n",
      "Speed: 0.0ms preprocess, 15.6ms inference, 0.0ms postprocess per image at shape (1, 3, 640, 544)\n",
      "\n",
      "image 1/1 C:\\Users\\user\\PycharmProjects\\spbu_deep_learning1\\homeworks\\rnn_hw\\test\\images\\1552.jpg: 544x640 (no detections), 15.6ms\n",
      "Speed: 0.0ms preprocess, 15.6ms inference, 0.0ms postprocess per image at shape (1, 3, 544, 640)\n",
      "\n",
      "image 1/1 C:\\Users\\user\\PycharmProjects\\spbu_deep_learning1\\homeworks\\rnn_hw\\test\\images\\1553.jpg: 640x608 1 person, 5 boats, 12.5ms\n",
      "Speed: 3.5ms preprocess, 12.5ms inference, 0.0ms postprocess per image at shape (1, 3, 640, 608)\n",
      "\n",
      "image 1/1 C:\\Users\\user\\PycharmProjects\\spbu_deep_learning1\\homeworks\\rnn_hw\\test\\images\\1557.jpg: 512x640 2 persons, 1 kite, 31.3ms\n",
      "Speed: 0.0ms preprocess, 31.3ms inference, 0.0ms postprocess per image at shape (1, 3, 512, 640)\n",
      "\n",
      "image 1/1 C:\\Users\\user\\PycharmProjects\\spbu_deep_learning1\\homeworks\\rnn_hw\\test\\images\\1558.jpg: 448x640 1 dog, 15.6ms\n",
      "Speed: 0.0ms preprocess, 15.6ms inference, 15.6ms postprocess per image at shape (1, 3, 448, 640)\n",
      "\n",
      "image 1/1 C:\\Users\\user\\PycharmProjects\\spbu_deep_learning1\\homeworks\\rnn_hw\\test\\images\\1559.jpg: 352x640 1 person, 15.6ms\n",
      "Speed: 0.0ms preprocess, 15.6ms inference, 0.0ms postprocess per image at shape (1, 3, 352, 640)\n",
      "\n",
      "image 1/1 C:\\Users\\user\\PycharmProjects\\spbu_deep_learning1\\homeworks\\rnn_hw\\test\\images\\1565.jpg: 544x640 4 persons, 2 horses, 22.1ms\n",
      "Speed: 0.0ms preprocess, 22.1ms inference, 0.0ms postprocess per image at shape (1, 3, 544, 640)\n",
      "\n",
      "image 1/1 C:\\Users\\user\\PycharmProjects\\spbu_deep_learning1\\homeworks\\rnn_hw\\test\\images\\1567.jpg: 640x512 1 person, 1 horse, 1 cow, 15.6ms\n",
      "Speed: 0.0ms preprocess, 15.6ms inference, 0.0ms postprocess per image at shape (1, 3, 640, 512)\n",
      "\n",
      "image 1/1 C:\\Users\\user\\PycharmProjects\\spbu_deep_learning1\\homeworks\\rnn_hw\\test\\images\\1569.jpg: 640x480 1 person, 1 tie, 1 bed, 16.6ms\n",
      "Speed: 0.5ms preprocess, 16.6ms inference, 0.0ms postprocess per image at shape (1, 3, 640, 480)\n",
      "\n",
      "image 1/1 C:\\Users\\user\\PycharmProjects\\spbu_deep_learning1\\homeworks\\rnn_hw\\test\\images\\1575.jpg: 640x416 1 person, 15.6ms\n",
      "Speed: 0.0ms preprocess, 15.6ms inference, 15.0ms postprocess per image at shape (1, 3, 640, 416)\n",
      "\n",
      "image 1/1 C:\\Users\\user\\PycharmProjects\\spbu_deep_learning1\\homeworks\\rnn_hw\\test\\images\\1577.jpg: 544x640 3 boats, 2 apples, 15.6ms\n",
      "Speed: 0.0ms preprocess, 15.6ms inference, 0.0ms postprocess per image at shape (1, 3, 544, 640)\n",
      "\n",
      "image 1/1 C:\\Users\\user\\PycharmProjects\\spbu_deep_learning1\\homeworks\\rnn_hw\\test\\images\\1579.jpg: 512x640 (no detections), 31.2ms\n",
      "Speed: 0.0ms preprocess, 31.2ms inference, 0.0ms postprocess per image at shape (1, 3, 512, 640)\n",
      "\n",
      "image 1/1 C:\\Users\\user\\PycharmProjects\\spbu_deep_learning1\\homeworks\\rnn_hw\\test\\images\\1580.jpg: 576x640 1 bottle, 1 bowl, 6 oranges, 1 vase, 31.2ms\n",
      "Speed: 0.0ms preprocess, 31.2ms inference, 0.0ms postprocess per image at shape (1, 3, 576, 640)\n",
      "\n",
      "image 1/1 C:\\Users\\user\\PycharmProjects\\spbu_deep_learning1\\homeworks\\rnn_hw\\test\\images\\1581.jpg: 448x640 1 dog, 1 zebra, 22.9ms\n",
      "Speed: 0.0ms preprocess, 22.9ms inference, 0.0ms postprocess per image at shape (1, 3, 448, 640)\n",
      "\n",
      "image 1/1 C:\\Users\\user\\PycharmProjects\\spbu_deep_learning1\\homeworks\\rnn_hw\\test\\images\\1586.jpg: 640x512 4 horses, 15.6ms\n",
      "Speed: 0.0ms preprocess, 15.6ms inference, 0.0ms postprocess per image at shape (1, 3, 640, 512)\n",
      "\n",
      "image 1/1 C:\\Users\\user\\PycharmProjects\\spbu_deep_learning1\\homeworks\\rnn_hw\\test\\images\\1589.jpg: 640x416 (no detections), 20.1ms\n",
      "Speed: 0.0ms preprocess, 20.1ms inference, 0.0ms postprocess per image at shape (1, 3, 640, 416)\n",
      "\n",
      "image 1/1 C:\\Users\\user\\PycharmProjects\\spbu_deep_learning1\\homeworks\\rnn_hw\\test\\images\\1590.jpg: 640x512 1 dog, 2 horses, 15.6ms\n",
      "Speed: 0.0ms preprocess, 15.6ms inference, 0.0ms postprocess per image at shape (1, 3, 640, 512)\n",
      "\n",
      "image 1/1 C:\\Users\\user\\PycharmProjects\\spbu_deep_learning1\\homeworks\\rnn_hw\\test\\images\\1592.jpg: 512x640 1 vase, 24.1ms\n",
      "Speed: 0.0ms preprocess, 24.1ms inference, 7.7ms postprocess per image at shape (1, 3, 512, 640)\n",
      "\n",
      "image 1/1 C:\\Users\\user\\PycharmProjects\\spbu_deep_learning1\\homeworks\\rnn_hw\\test\\images\\1600.jpg: 480x640 1 cat, 1 bottle, 2 vases, 15.6ms\n",
      "Speed: 0.0ms preprocess, 15.6ms inference, 0.0ms postprocess per image at shape (1, 3, 480, 640)\n",
      "\n",
      "image 1/1 C:\\Users\\user\\PycharmProjects\\spbu_deep_learning1\\homeworks\\rnn_hw\\test\\images\\1601.jpg: 640x544 (no detections), 31.2ms\n",
      "Speed: 0.0ms preprocess, 31.2ms inference, 0.0ms postprocess per image at shape (1, 3, 640, 544)\n",
      "\n",
      "image 1/1 C:\\Users\\user\\PycharmProjects\\spbu_deep_learning1\\homeworks\\rnn_hw\\test\\images\\1603.jpg: 544x640 (no detections), 15.6ms\n",
      "Speed: 0.0ms preprocess, 15.6ms inference, 0.0ms postprocess per image at shape (1, 3, 544, 640)\n",
      "\n",
      "image 1/1 C:\\Users\\user\\PycharmProjects\\spbu_deep_learning1\\homeworks\\rnn_hw\\test\\images\\1609.jpg: 640x352 1 person, 31.6ms\n",
      "Speed: 0.0ms preprocess, 31.6ms inference, 0.0ms postprocess per image at shape (1, 3, 640, 352)\n",
      "\n",
      "image 1/1 C:\\Users\\user\\PycharmProjects\\spbu_deep_learning1\\homeworks\\rnn_hw\\test\\images\\1610.jpg: 608x640 3 persons, 1 cat, 1 dog, 31.3ms\n",
      "Speed: 0.0ms preprocess, 31.3ms inference, 0.0ms postprocess per image at shape (1, 3, 608, 640)\n",
      "\n",
      "image 1/1 C:\\Users\\user\\PycharmProjects\\spbu_deep_learning1\\homeworks\\rnn_hw\\test\\images\\1616.jpg: 640x352 (no detections), 15.6ms\n",
      "Speed: 0.0ms preprocess, 15.6ms inference, 0.0ms postprocess per image at shape (1, 3, 640, 352)\n",
      "\n",
      "image 1/1 C:\\Users\\user\\PycharmProjects\\spbu_deep_learning1\\homeworks\\rnn_hw\\test\\images\\1622.jpg: 448x640 2 persons, 2 boats, 1 bird, 31.3ms\n",
      "Speed: 0.0ms preprocess, 31.3ms inference, 0.0ms postprocess per image at shape (1, 3, 448, 640)\n",
      "\n",
      "image 1/1 C:\\Users\\user\\PycharmProjects\\spbu_deep_learning1\\homeworks\\rnn_hw\\test\\images\\1624.jpg: 384x640 4 persons, 2 birds, 2 dogs, 20.6ms\n",
      "Speed: 0.0ms preprocess, 20.6ms inference, 0.0ms postprocess per image at shape (1, 3, 384, 640)\n",
      "\n",
      "image 1/1 C:\\Users\\user\\PycharmProjects\\spbu_deep_learning1\\homeworks\\rnn_hw\\test\\images\\1629.jpg: 448x640 2 suitcases, 15.6ms\n",
      "Speed: 0.0ms preprocess, 15.6ms inference, 0.0ms postprocess per image at shape (1, 3, 448, 640)\n",
      "\n",
      "image 1/1 C:\\Users\\user\\PycharmProjects\\spbu_deep_learning1\\homeworks\\rnn_hw\\test\\images\\1636.jpg: 544x640 1 bowl, 2 apples, 1 orange, 15.6ms\n",
      "Speed: 0.0ms preprocess, 15.6ms inference, 0.0ms postprocess per image at shape (1, 3, 544, 640)\n",
      "\n",
      "image 1/1 C:\\Users\\user\\PycharmProjects\\spbu_deep_learning1\\homeworks\\rnn_hw\\test\\images\\1638.jpg: 480x640 3 cars, 15.6ms\n",
      "Speed: 0.0ms preprocess, 15.6ms inference, 0.0ms postprocess per image at shape (1, 3, 480, 640)\n",
      "\n",
      "image 1/1 C:\\Users\\user\\PycharmProjects\\spbu_deep_learning1\\homeworks\\rnn_hw\\test\\images\\1639.jpg: 640x640 1 cup, 1 book, 31.6ms\n",
      "Speed: 0.0ms preprocess, 31.6ms inference, 0.0ms postprocess per image at shape (1, 3, 640, 640)\n",
      "\n",
      "image 1/1 C:\\Users\\user\\PycharmProjects\\spbu_deep_learning1\\homeworks\\rnn_hw\\test\\images\\164.jpg: 640x448 (no detections), 15.6ms\n",
      "Speed: 0.0ms preprocess, 15.6ms inference, 0.0ms postprocess per image at shape (1, 3, 640, 448)\n",
      "\n",
      "image 1/1 C:\\Users\\user\\PycharmProjects\\spbu_deep_learning1\\homeworks\\rnn_hw\\test\\images\\1640.jpg: 448x640 2 bottles, 1 dining table, 31.2ms\n",
      "Speed: 0.0ms preprocess, 31.2ms inference, 0.0ms postprocess per image at shape (1, 3, 448, 640)\n",
      "\n",
      "image 1/1 C:\\Users\\user\\PycharmProjects\\spbu_deep_learning1\\homeworks\\rnn_hw\\test\\images\\1643.jpg: 640x608 1 clock, 31.3ms\n",
      "Speed: 0.0ms preprocess, 31.3ms inference, 0.0ms postprocess per image at shape (1, 3, 640, 608)\n",
      "\n",
      "image 1/1 C:\\Users\\user\\PycharmProjects\\spbu_deep_learning1\\homeworks\\rnn_hw\\test\\images\\1645.jpg: 640x544 1 vase, 17.1ms\n",
      "Speed: 0.0ms preprocess, 17.1ms inference, 0.0ms postprocess per image at shape (1, 3, 640, 544)\n",
      "\n",
      "image 1/1 C:\\Users\\user\\PycharmProjects\\spbu_deep_learning1\\homeworks\\rnn_hw\\test\\images\\1659.jpg: 480x640 1 person, 15.6ms\n",
      "Speed: 14.5ms preprocess, 15.6ms inference, 0.0ms postprocess per image at shape (1, 3, 480, 640)\n",
      "\n",
      "image 1/1 C:\\Users\\user\\PycharmProjects\\spbu_deep_learning1\\homeworks\\rnn_hw\\test\\images\\1661.jpg: 640x640 (no detections), 30.0ms\n",
      "Speed: 0.0ms preprocess, 30.0ms inference, 2.0ms postprocess per image at shape (1, 3, 640, 640)\n",
      "\n",
      "image 1/1 C:\\Users\\user\\PycharmProjects\\spbu_deep_learning1\\homeworks\\rnn_hw\\test\\images\\1667.jpg: 384x640 1 bear, 15.7ms\n",
      "Speed: 0.0ms preprocess, 15.7ms inference, 0.0ms postprocess per image at shape (1, 3, 384, 640)\n",
      "\n",
      "image 1/1 C:\\Users\\user\\PycharmProjects\\spbu_deep_learning1\\homeworks\\rnn_hw\\test\\images\\1668.jpg: 480x640 (no detections), 31.6ms\n",
      "Speed: 0.0ms preprocess, 31.6ms inference, 0.0ms postprocess per image at shape (1, 3, 480, 640)\n",
      "\n",
      "image 1/1 C:\\Users\\user\\PycharmProjects\\spbu_deep_learning1\\homeworks\\rnn_hw\\test\\images\\1678.jpg: 640x512 1 banana, 15.6ms\n",
      "Speed: 0.0ms preprocess, 15.6ms inference, 0.0ms postprocess per image at shape (1, 3, 640, 512)\n",
      "\n",
      "image 1/1 C:\\Users\\user\\PycharmProjects\\spbu_deep_learning1\\homeworks\\rnn_hw\\test\\images\\1679.jpg: 640x512 1 person, 31.3ms\n",
      "Speed: 0.0ms preprocess, 31.3ms inference, 0.0ms postprocess per image at shape (1, 3, 640, 512)\n",
      "\n",
      "image 1/1 C:\\Users\\user\\PycharmProjects\\spbu_deep_learning1\\homeworks\\rnn_hw\\test\\images\\1681.jpg: 640x512 2 persons, 3 sheeps, 15.6ms\n",
      "Speed: 0.0ms preprocess, 15.6ms inference, 0.0ms postprocess per image at shape (1, 3, 640, 512)\n",
      "\n",
      "image 1/1 C:\\Users\\user\\PycharmProjects\\spbu_deep_learning1\\homeworks\\rnn_hw\\test\\images\\1684.jpg: 576x640 (no detections), 31.6ms\n",
      "Speed: 0.0ms preprocess, 31.6ms inference, 0.0ms postprocess per image at shape (1, 3, 576, 640)\n",
      "\n",
      "image 1/1 C:\\Users\\user\\PycharmProjects\\spbu_deep_learning1\\homeworks\\rnn_hw\\test\\images\\1686.jpg: 640x448 (no detections), 15.6ms\n",
      "Speed: 0.0ms preprocess, 15.6ms inference, 0.0ms postprocess per image at shape (1, 3, 640, 448)\n",
      "\n",
      "image 1/1 C:\\Users\\user\\PycharmProjects\\spbu_deep_learning1\\homeworks\\rnn_hw\\test\\images\\1687.jpg: 480x640 (no detections), 31.3ms\n",
      "Speed: 0.0ms preprocess, 31.3ms inference, 0.0ms postprocess per image at shape (1, 3, 480, 640)\n",
      "\n",
      "image 1/1 C:\\Users\\user\\PycharmProjects\\spbu_deep_learning1\\homeworks\\rnn_hw\\test\\images\\1689.jpg: 448x640 1 vase, 15.7ms\n",
      "Speed: 0.0ms preprocess, 15.7ms inference, 0.0ms postprocess per image at shape (1, 3, 448, 640)\n",
      "\n",
      "image 1/1 C:\\Users\\user\\PycharmProjects\\spbu_deep_learning1\\homeworks\\rnn_hw\\test\\images\\169.jpg: 640x480 (no detections), 18.6ms\n",
      "Speed: 0.0ms preprocess, 18.6ms inference, 0.0ms postprocess per image at shape (1, 3, 640, 480)\n",
      "\n",
      "image 1/1 C:\\Users\\user\\PycharmProjects\\spbu_deep_learning1\\homeworks\\rnn_hw\\test\\images\\1693.jpg: 640x640 (no detections), 13.0ms\n",
      "Speed: 0.0ms preprocess, 13.0ms inference, 15.6ms postprocess per image at shape (1, 3, 640, 640)\n",
      "\n",
      "image 1/1 C:\\Users\\user\\PycharmProjects\\spbu_deep_learning1\\homeworks\\rnn_hw\\test\\images\\1698.jpg: 640x640 1 person, 15.6ms\n",
      "Speed: 0.0ms preprocess, 15.6ms inference, 0.0ms postprocess per image at shape (1, 3, 640, 640)\n",
      "\n",
      "image 1/1 C:\\Users\\user\\PycharmProjects\\spbu_deep_learning1\\homeworks\\rnn_hw\\test\\images\\1699.jpg: 640x320 1 clock, 15.6ms\n",
      "Speed: 0.0ms preprocess, 15.6ms inference, 0.0ms postprocess per image at shape (1, 3, 640, 320)\n",
      "\n",
      "image 1/1 C:\\Users\\user\\PycharmProjects\\spbu_deep_learning1\\homeworks\\rnn_hw\\test\\images\\170.jpg: 480x640 (no detections), 24.6ms\n",
      "Speed: 0.0ms preprocess, 24.6ms inference, 0.0ms postprocess per image at shape (1, 3, 480, 640)\n",
      "\n",
      "image 1/1 C:\\Users\\user\\PycharmProjects\\spbu_deep_learning1\\homeworks\\rnn_hw\\test\\images\\1710.jpg: 448x640 1 bird, 16.8ms\n",
      "Speed: 0.0ms preprocess, 16.8ms inference, 0.0ms postprocess per image at shape (1, 3, 448, 640)\n",
      "\n",
      "image 1/1 C:\\Users\\user\\PycharmProjects\\spbu_deep_learning1\\homeworks\\rnn_hw\\test\\images\\1712.jpg: 640x448 (no detections), 30.1ms\n",
      "Speed: 0.0ms preprocess, 30.1ms inference, 0.0ms postprocess per image at shape (1, 3, 640, 448)\n",
      "\n",
      "image 1/1 C:\\Users\\user\\PycharmProjects\\spbu_deep_learning1\\homeworks\\rnn_hw\\test\\images\\172.jpg: 640x480 (no detections), 15.6ms\n",
      "Speed: 0.0ms preprocess, 15.6ms inference, 0.0ms postprocess per image at shape (1, 3, 640, 480)\n",
      "\n",
      "image 1/1 C:\\Users\\user\\PycharmProjects\\spbu_deep_learning1\\homeworks\\rnn_hw\\test\\images\\1723.jpg: 640x480 6 boats, 15.6ms\n",
      "Speed: 0.0ms preprocess, 15.6ms inference, 15.0ms postprocess per image at shape (1, 3, 640, 480)\n",
      "\n",
      "image 1/1 C:\\Users\\user\\PycharmProjects\\spbu_deep_learning1\\homeworks\\rnn_hw\\test\\images\\1727.jpg: 640x448 (no detections), 15.6ms\n",
      "Speed: 0.0ms preprocess, 15.6ms inference, 0.0ms postprocess per image at shape (1, 3, 640, 448)\n",
      "\n",
      "image 1/1 C:\\Users\\user\\PycharmProjects\\spbu_deep_learning1\\homeworks\\rnn_hw\\test\\images\\1731.jpg: 640x448 1 boat, 31.6ms\n",
      "Speed: 0.0ms preprocess, 31.6ms inference, 0.0ms postprocess per image at shape (1, 3, 640, 448)\n",
      "\n",
      "image 1/1 C:\\Users\\user\\PycharmProjects\\spbu_deep_learning1\\homeworks\\rnn_hw\\test\\images\\1735.jpg: 480x640 1 person, 24.3ms\n",
      "Speed: 0.0ms preprocess, 24.3ms inference, 0.0ms postprocess per image at shape (1, 3, 480, 640)\n",
      "\n",
      "image 1/1 C:\\Users\\user\\PycharmProjects\\spbu_deep_learning1\\homeworks\\rnn_hw\\test\\images\\1738.jpg: 640x512 2 vases, 15.7ms\n",
      "Speed: 0.0ms preprocess, 15.7ms inference, 12.0ms postprocess per image at shape (1, 3, 640, 512)\n",
      "\n",
      "image 1/1 C:\\Users\\user\\PycharmProjects\\spbu_deep_learning1\\homeworks\\rnn_hw\\test\\images\\1739.jpg: 640x480 (no detections), 15.6ms\n",
      "Speed: 4.0ms preprocess, 15.6ms inference, 0.0ms postprocess per image at shape (1, 3, 640, 480)\n",
      "\n",
      "image 1/1 C:\\Users\\user\\PycharmProjects\\spbu_deep_learning1\\homeworks\\rnn_hw\\test\\images\\1742.jpg: 640x512 1 potted plant, 1 vase, 15.6ms\n",
      "Speed: 0.0ms preprocess, 15.6ms inference, 0.0ms postprocess per image at shape (1, 3, 640, 512)\n",
      "\n",
      "image 1/1 C:\\Users\\user\\PycharmProjects\\spbu_deep_learning1\\homeworks\\rnn_hw\\test\\images\\1748.jpg: 480x640 1 potted plant, 1 vase, 15.6ms\n",
      "Speed: 0.0ms preprocess, 15.6ms inference, 0.0ms postprocess per image at shape (1, 3, 480, 640)\n",
      "\n",
      "image 1/1 C:\\Users\\user\\PycharmProjects\\spbu_deep_learning1\\homeworks\\rnn_hw\\test\\images\\1749.jpg: 640x448 (no detections), 31.2ms\n",
      "Speed: 0.0ms preprocess, 31.2ms inference, 0.0ms postprocess per image at shape (1, 3, 640, 448)\n",
      "\n",
      "image 1/1 C:\\Users\\user\\PycharmProjects\\spbu_deep_learning1\\homeworks\\rnn_hw\\test\\images\\1751.jpg: 480x640 1 person, 5 cars, 1 bus, 1 horse, 13.5ms\n",
      "Speed: 0.0ms preprocess, 13.5ms inference, 0.0ms postprocess per image at shape (1, 3, 480, 640)\n",
      "\n",
      "image 1/1 C:\\Users\\user\\PycharmProjects\\spbu_deep_learning1\\homeworks\\rnn_hw\\test\\images\\1753.jpg: 640x640 1 potted plant, 31.3ms\n",
      "Speed: 0.0ms preprocess, 31.3ms inference, 0.0ms postprocess per image at shape (1, 3, 640, 640)\n",
      "\n",
      "image 1/1 C:\\Users\\user\\PycharmProjects\\spbu_deep_learning1\\homeworks\\rnn_hw\\test\\images\\1754.jpg: 640x544 1 person, 1 boat, 15.6ms\n",
      "Speed: 0.0ms preprocess, 15.6ms inference, 0.0ms postprocess per image at shape (1, 3, 640, 544)\n",
      "\n",
      "image 1/1 C:\\Users\\user\\PycharmProjects\\spbu_deep_learning1\\homeworks\\rnn_hw\\test\\images\\1756.jpg: 640x640 1 chair, 1 potted plant, 24.1ms\n",
      "Speed: 0.0ms preprocess, 24.1ms inference, 0.0ms postprocess per image at shape (1, 3, 640, 640)\n",
      "\n",
      "image 1/1 C:\\Users\\user\\PycharmProjects\\spbu_deep_learning1\\homeworks\\rnn_hw\\test\\images\\1761.jpg: 512x640 (no detections), 15.6ms\n",
      "Speed: 7.5ms preprocess, 15.6ms inference, 0.0ms postprocess per image at shape (1, 3, 512, 640)\n",
      "\n",
      "image 1/1 C:\\Users\\user\\PycharmProjects\\spbu_deep_learning1\\homeworks\\rnn_hw\\test\\images\\1764.jpg: 384x640 7 persons, 15.6ms\n",
      "Speed: 0.0ms preprocess, 15.6ms inference, 0.0ms postprocess per image at shape (1, 3, 384, 640)\n",
      "\n",
      "image 1/1 C:\\Users\\user\\PycharmProjects\\spbu_deep_learning1\\homeworks\\rnn_hw\\test\\images\\1776.jpg: 512x640 1 person, 15.6ms\n",
      "Speed: 0.0ms preprocess, 15.6ms inference, 0.0ms postprocess per image at shape (1, 3, 512, 640)\n",
      "\n",
      "image 1/1 C:\\Users\\user\\PycharmProjects\\spbu_deep_learning1\\homeworks\\rnn_hw\\test\\images\\178.jpg: 640x544 (no detections), 30.1ms\n",
      "Speed: 0.0ms preprocess, 30.1ms inference, 0.0ms postprocess per image at shape (1, 3, 640, 544)\n",
      "\n",
      "image 1/1 C:\\Users\\user\\PycharmProjects\\spbu_deep_learning1\\homeworks\\rnn_hw\\test\\images\\1782.jpg: 640x384 (no detections), 15.6ms\n",
      "Speed: 0.0ms preprocess, 15.6ms inference, 0.0ms postprocess per image at shape (1, 3, 640, 384)\n",
      "\n",
      "image 1/1 C:\\Users\\user\\PycharmProjects\\spbu_deep_learning1\\homeworks\\rnn_hw\\test\\images\\1784.jpg: 544x640 (no detections), 31.2ms\n",
      "Speed: 0.0ms preprocess, 31.2ms inference, 0.0ms postprocess per image at shape (1, 3, 544, 640)\n",
      "\n",
      "image 1/1 C:\\Users\\user\\PycharmProjects\\spbu_deep_learning1\\homeworks\\rnn_hw\\test\\images\\1787.jpg: 640x608 (no detections), 15.6ms\n",
      "Speed: 0.0ms preprocess, 15.6ms inference, 0.0ms postprocess per image at shape (1, 3, 640, 608)\n",
      "\n",
      "image 1/1 C:\\Users\\user\\PycharmProjects\\spbu_deep_learning1\\homeworks\\rnn_hw\\test\\images\\1794.jpg: 512x640 1 potted plant, 20.6ms\n",
      "Speed: 0.0ms preprocess, 20.6ms inference, 0.0ms postprocess per image at shape (1, 3, 512, 640)\n",
      "\n",
      "image 1/1 C:\\Users\\user\\PycharmProjects\\spbu_deep_learning1\\homeworks\\rnn_hw\\test\\images\\1795.jpg: 416x640 (no detections), 26.6ms\n",
      "Speed: 0.0ms preprocess, 26.6ms inference, 0.0ms postprocess per image at shape (1, 3, 416, 640)\n",
      "\n",
      "image 1/1 C:\\Users\\user\\PycharmProjects\\spbu_deep_learning1\\homeworks\\rnn_hw\\test\\images\\1798.jpg: 640x640 (no detections), 15.6ms\n",
      "Speed: 0.0ms preprocess, 15.6ms inference, 0.0ms postprocess per image at shape (1, 3, 640, 640)\n",
      "\n",
      "image 1/1 C:\\Users\\user\\PycharmProjects\\spbu_deep_learning1\\homeworks\\rnn_hw\\test\\images\\1799.jpg: 384x640 4 potted plants, 15.6ms\n",
      "Speed: 15.6ms preprocess, 15.6ms inference, 0.0ms postprocess per image at shape (1, 3, 384, 640)\n",
      "\n",
      "image 1/1 C:\\Users\\user\\PycharmProjects\\spbu_deep_learning1\\homeworks\\rnn_hw\\test\\images\\1803.jpg: 576x640 3 potted plants, 1 vase, 26.3ms\n",
      "Speed: 0.0ms preprocess, 26.3ms inference, 0.0ms postprocess per image at shape (1, 3, 576, 640)\n",
      "\n",
      "image 1/1 C:\\Users\\user\\PycharmProjects\\spbu_deep_learning1\\homeworks\\rnn_hw\\test\\images\\1805.jpg: 608x640 1 giraffe, 20.5ms\n",
      "Speed: 0.0ms preprocess, 20.5ms inference, 0.0ms postprocess per image at shape (1, 3, 608, 640)\n",
      "\n",
      "image 1/1 C:\\Users\\user\\PycharmProjects\\spbu_deep_learning1\\homeworks\\rnn_hw\\test\\images\\1806.jpg: 640x640 (no detections), 23.0ms\n",
      "Speed: 0.0ms preprocess, 23.0ms inference, 0.0ms postprocess per image at shape (1, 3, 640, 640)\n",
      "\n",
      "image 1/1 C:\\Users\\user\\PycharmProjects\\spbu_deep_learning1\\homeworks\\rnn_hw\\test\\images\\1813.jpg: 640x416 (no detections), 15.6ms\n",
      "Speed: 0.0ms preprocess, 15.6ms inference, 0.0ms postprocess per image at shape (1, 3, 640, 416)\n",
      "\n",
      "image 1/1 C:\\Users\\user\\PycharmProjects\\spbu_deep_learning1\\homeworks\\rnn_hw\\test\\images\\1814.jpg: 640x608 (no detections), 16.0ms\n",
      "Speed: 0.0ms preprocess, 16.0ms inference, 0.0ms postprocess per image at shape (1, 3, 640, 608)\n",
      "\n",
      "image 1/1 C:\\Users\\user\\PycharmProjects\\spbu_deep_learning1\\homeworks\\rnn_hw\\test\\images\\1819.jpg: 480x640 (no detections), 31.3ms\n",
      "Speed: 0.0ms preprocess, 31.3ms inference, 0.0ms postprocess per image at shape (1, 3, 480, 640)\n",
      "\n",
      "image 1/1 C:\\Users\\user\\PycharmProjects\\spbu_deep_learning1\\homeworks\\rnn_hw\\test\\images\\182.jpg: 640x288 1 person, 15.6ms\n",
      "Speed: 0.0ms preprocess, 15.6ms inference, 0.0ms postprocess per image at shape (1, 3, 640, 288)\n",
      "\n",
      "image 1/1 C:\\Users\\user\\PycharmProjects\\spbu_deep_learning1\\homeworks\\rnn_hw\\test\\images\\1822.jpg: 512x640 (no detections), 31.2ms\n",
      "Speed: 0.0ms preprocess, 31.2ms inference, 0.0ms postprocess per image at shape (1, 3, 512, 640)\n",
      "\n",
      "image 1/1 C:\\Users\\user\\PycharmProjects\\spbu_deep_learning1\\homeworks\\rnn_hw\\test\\images\\1826.jpg: 640x576 1 person, 20.1ms\n",
      "Speed: 0.0ms preprocess, 20.1ms inference, 0.0ms postprocess per image at shape (1, 3, 640, 576)\n",
      "\n",
      "image 1/1 C:\\Users\\user\\PycharmProjects\\spbu_deep_learning1\\homeworks\\rnn_hw\\test\\images\\183.jpg: 640x352 1 person, 1 bed, 27.1ms\n",
      "Speed: 0.0ms preprocess, 27.1ms inference, 0.0ms postprocess per image at shape (1, 3, 640, 352)\n",
      "\n",
      "image 1/1 C:\\Users\\user\\PycharmProjects\\spbu_deep_learning1\\homeworks\\rnn_hw\\test\\images\\1836.jpg: 512x640 1 person, 15.6ms\n",
      "Speed: 0.0ms preprocess, 15.6ms inference, 0.0ms postprocess per image at shape (1, 3, 512, 640)\n",
      "\n",
      "image 1/1 C:\\Users\\user\\PycharmProjects\\spbu_deep_learning1\\homeworks\\rnn_hw\\test\\images\\1841.jpg: 448x640 6 persons, 4 boats, 15.6ms\n",
      "Speed: 0.0ms preprocess, 15.6ms inference, 0.0ms postprocess per image at shape (1, 3, 448, 640)\n",
      "\n",
      "image 1/1 C:\\Users\\user\\PycharmProjects\\spbu_deep_learning1\\homeworks\\rnn_hw\\test\\images\\1842.jpg: 480x640 3 persons, 26.1ms\n",
      "Speed: 0.0ms preprocess, 26.1ms inference, 0.0ms postprocess per image at shape (1, 3, 480, 640)\n",
      "\n",
      "image 1/1 C:\\Users\\user\\PycharmProjects\\spbu_deep_learning1\\homeworks\\rnn_hw\\test\\images\\1846.jpg: 640x544 (no detections), 16.8ms\n",
      "Speed: 0.0ms preprocess, 16.8ms inference, 0.0ms postprocess per image at shape (1, 3, 640, 544)\n",
      "\n",
      "image 1/1 C:\\Users\\user\\PycharmProjects\\spbu_deep_learning1\\homeworks\\rnn_hw\\test\\images\\1848.jpg: 640x544 5 boats, 30.1ms\n",
      "Speed: 0.0ms preprocess, 30.1ms inference, 0.0ms postprocess per image at shape (1, 3, 640, 544)\n",
      "\n",
      "image 1/1 C:\\Users\\user\\PycharmProjects\\spbu_deep_learning1\\homeworks\\rnn_hw\\test\\images\\1849.jpg: 480x640 4 boats, 15.6ms\n",
      "Speed: 0.0ms preprocess, 15.6ms inference, 0.0ms postprocess per image at shape (1, 3, 480, 640)\n",
      "\n",
      "image 1/1 C:\\Users\\user\\PycharmProjects\\spbu_deep_learning1\\homeworks\\rnn_hw\\test\\images\\1850.jpg: 512x640 3 persons, 3 boats, 31.6ms\n",
      "Speed: 0.0ms preprocess, 31.6ms inference, 0.0ms postprocess per image at shape (1, 3, 512, 640)\n",
      "\n",
      "image 1/1 C:\\Users\\user\\PycharmProjects\\spbu_deep_learning1\\homeworks\\rnn_hw\\test\\images\\1851.jpg: 640x608 (no detections), 15.6ms\n",
      "Speed: 0.0ms preprocess, 15.6ms inference, 0.0ms postprocess per image at shape (1, 3, 640, 608)\n",
      "\n",
      "image 1/1 C:\\Users\\user\\PycharmProjects\\spbu_deep_learning1\\homeworks\\rnn_hw\\test\\images\\1854.jpg: 480x640 3 persons, 15.6ms\n",
      "Speed: 0.0ms preprocess, 15.6ms inference, 0.0ms postprocess per image at shape (1, 3, 480, 640)\n",
      "\n",
      "image 1/1 C:\\Users\\user\\PycharmProjects\\spbu_deep_learning1\\homeworks\\rnn_hw\\test\\images\\1857.jpg: 544x640 (no detections), 15.6ms\n",
      "Speed: 0.0ms preprocess, 15.6ms inference, 0.0ms postprocess per image at shape (1, 3, 544, 640)\n",
      "\n",
      "image 1/1 C:\\Users\\user\\PycharmProjects\\spbu_deep_learning1\\homeworks\\rnn_hw\\test\\images\\1859.jpg: 512x640 1 bird, 21.1ms\n",
      "Speed: 0.0ms preprocess, 21.1ms inference, 0.0ms postprocess per image at shape (1, 3, 512, 640)\n",
      "\n",
      "image 1/1 C:\\Users\\user\\PycharmProjects\\spbu_deep_learning1\\homeworks\\rnn_hw\\test\\images\\186.jpg: 544x640 (no detections), 15.6ms\n",
      "Speed: 0.0ms preprocess, 15.6ms inference, 0.0ms postprocess per image at shape (1, 3, 544, 640)\n",
      "\n",
      "image 1/1 C:\\Users\\user\\PycharmProjects\\spbu_deep_learning1\\homeworks\\rnn_hw\\test\\images\\1863.jpg: 512x640 (no detections), 18.6ms\n",
      "Speed: 0.0ms preprocess, 18.6ms inference, 0.0ms postprocess per image at shape (1, 3, 512, 640)\n",
      "\n",
      "image 1/1 C:\\Users\\user\\PycharmProjects\\spbu_deep_learning1\\homeworks\\rnn_hw\\test\\images\\1869.jpg: 640x512 (no detections), 15.6ms\n",
      "Speed: 0.0ms preprocess, 15.6ms inference, 0.0ms postprocess per image at shape (1, 3, 640, 512)\n",
      "\n",
      "image 1/1 C:\\Users\\user\\PycharmProjects\\spbu_deep_learning1\\homeworks\\rnn_hw\\test\\images\\1872.jpg: 512x640 (no detections), 36.3ms\n",
      "Speed: 0.0ms preprocess, 36.3ms inference, 0.0ms postprocess per image at shape (1, 3, 512, 640)\n",
      "\n",
      "image 1/1 C:\\Users\\user\\PycharmProjects\\spbu_deep_learning1\\homeworks\\rnn_hw\\test\\images\\1875.jpg: 640x544 1 bird, 27.0ms\n",
      "Speed: 0.0ms preprocess, 27.0ms inference, 0.0ms postprocess per image at shape (1, 3, 640, 544)\n",
      "\n",
      "image 1/1 C:\\Users\\user\\PycharmProjects\\spbu_deep_learning1\\homeworks\\rnn_hw\\test\\images\\1879.jpg: 640x544 (no detections), 15.6ms\n",
      "Speed: 0.0ms preprocess, 15.6ms inference, 0.0ms postprocess per image at shape (1, 3, 640, 544)\n",
      "\n",
      "image 1/1 C:\\Users\\user\\PycharmProjects\\spbu_deep_learning1\\homeworks\\rnn_hw\\test\\images\\188.jpg: 640x608 3 cows, 15.6ms\n",
      "Speed: 15.6ms preprocess, 15.6ms inference, 0.0ms postprocess per image at shape (1, 3, 640, 608)\n",
      "\n",
      "image 1/1 C:\\Users\\user\\PycharmProjects\\spbu_deep_learning1\\homeworks\\rnn_hw\\test\\images\\1880.jpg: 512x640 (no detections), 31.6ms\n",
      "Speed: 0.0ms preprocess, 31.6ms inference, 0.0ms postprocess per image at shape (1, 3, 512, 640)\n",
      "\n",
      "image 1/1 C:\\Users\\user\\PycharmProjects\\spbu_deep_learning1\\homeworks\\rnn_hw\\test\\images\\1882.jpg: 544x640 1 person, 1 umbrella, 15.6ms\n",
      "Speed: 0.0ms preprocess, 15.6ms inference, 0.0ms postprocess per image at shape (1, 3, 544, 640)\n",
      "\n",
      "image 1/1 C:\\Users\\user\\PycharmProjects\\spbu_deep_learning1\\homeworks\\rnn_hw\\test\\images\\1886.jpg: 640x448 1 person, 31.3ms\n",
      "Speed: 0.0ms preprocess, 31.3ms inference, 0.0ms postprocess per image at shape (1, 3, 640, 448)\n",
      "\n",
      "image 1/1 C:\\Users\\user\\PycharmProjects\\spbu_deep_learning1\\homeworks\\rnn_hw\\test\\images\\1888.jpg: 512x640 1 person, 15.6ms\n",
      "Speed: 0.0ms preprocess, 15.6ms inference, 0.0ms postprocess per image at shape (1, 3, 512, 640)\n",
      "\n",
      "image 1/1 C:\\Users\\user\\PycharmProjects\\spbu_deep_learning1\\homeworks\\rnn_hw\\test\\images\\1890.jpg: 544x640 (no detections), 16.6ms\n",
      "Speed: 0.0ms preprocess, 16.6ms inference, 0.0ms postprocess per image at shape (1, 3, 544, 640)\n",
      "\n",
      "image 1/1 C:\\Users\\user\\PycharmProjects\\spbu_deep_learning1\\homeworks\\rnn_hw\\test\\images\\1893.jpg: 416x640 3 persons, 1 sheep, 4 potted plants, 30.6ms\n",
      "Speed: 0.0ms preprocess, 30.6ms inference, 0.0ms postprocess per image at shape (1, 3, 416, 640)\n",
      "\n",
      "image 1/1 C:\\Users\\user\\PycharmProjects\\spbu_deep_learning1\\homeworks\\rnn_hw\\test\\images\\1896.jpg: 544x640 2 boats, 15.6ms\n",
      "Speed: 0.0ms preprocess, 15.6ms inference, 0.0ms postprocess per image at shape (1, 3, 544, 640)\n",
      "\n",
      "image 1/1 C:\\Users\\user\\PycharmProjects\\spbu_deep_learning1\\homeworks\\rnn_hw\\test\\images\\1897.jpg: 512x640 1 person, 3 boats, 15.6ms\n",
      "Speed: 0.0ms preprocess, 15.6ms inference, 0.0ms postprocess per image at shape (1, 3, 512, 640)\n",
      "\n",
      "image 1/1 C:\\Users\\user\\PycharmProjects\\spbu_deep_learning1\\homeworks\\rnn_hw\\test\\images\\1899.jpg: 640x512 (no detections), 25.8ms\n",
      "Speed: 0.0ms preprocess, 25.8ms inference, 0.0ms postprocess per image at shape (1, 3, 640, 512)\n",
      "\n",
      "image 1/1 C:\\Users\\user\\PycharmProjects\\spbu_deep_learning1\\homeworks\\rnn_hw\\test\\images\\1912.jpg: 512x640 (no detections), 31.3ms\n",
      "Speed: 0.0ms preprocess, 31.3ms inference, 0.0ms postprocess per image at shape (1, 3, 512, 640)\n",
      "\n",
      "image 1/1 C:\\Users\\user\\PycharmProjects\\spbu_deep_learning1\\homeworks\\rnn_hw\\test\\images\\1916.jpg: 544x640 1 potted plant, 1 vase, 15.6ms\n",
      "Speed: 0.0ms preprocess, 15.6ms inference, 0.0ms postprocess per image at shape (1, 3, 544, 640)\n",
      "\n",
      "image 1/1 C:\\Users\\user\\PycharmProjects\\spbu_deep_learning1\\homeworks\\rnn_hw\\test\\images\\1918.jpg: 640x480 1 cup, 1 bowl, 2 chairs, 1 dining table, 15.6ms\n",
      "Speed: 0.0ms preprocess, 15.6ms inference, 0.0ms postprocess per image at shape (1, 3, 640, 480)\n",
      "\n",
      "image 1/1 C:\\Users\\user\\PycharmProjects\\spbu_deep_learning1\\homeworks\\rnn_hw\\test\\images\\192.jpg: 384x640 (no detections), 31.7ms\n",
      "Speed: 0.0ms preprocess, 31.7ms inference, 0.0ms postprocess per image at shape (1, 3, 384, 640)\n",
      "\n",
      "image 1/1 C:\\Users\\user\\PycharmProjects\\spbu_deep_learning1\\homeworks\\rnn_hw\\test\\images\\1920.jpg: 544x640 (no detections), 15.6ms\n",
      "Speed: 0.0ms preprocess, 15.6ms inference, 0.0ms postprocess per image at shape (1, 3, 544, 640)\n",
      "\n",
      "image 1/1 C:\\Users\\user\\PycharmProjects\\spbu_deep_learning1\\homeworks\\rnn_hw\\test\\images\\1921.jpg: 480x640 1 train, 15.6ms\n",
      "Speed: 0.0ms preprocess, 15.6ms inference, 0.0ms postprocess per image at shape (1, 3, 480, 640)\n",
      "\n",
      "image 1/1 C:\\Users\\user\\PycharmProjects\\spbu_deep_learning1\\homeworks\\rnn_hw\\test\\images\\1925.jpg: 640x448 (no detections), 31.2ms\n",
      "Speed: 0.0ms preprocess, 31.2ms inference, 0.0ms postprocess per image at shape (1, 3, 640, 448)\n",
      "\n",
      "image 1/1 C:\\Users\\user\\PycharmProjects\\spbu_deep_learning1\\homeworks\\rnn_hw\\test\\images\\1928.jpg: 512x640 (no detections), 16.0ms\n",
      "Speed: 0.0ms preprocess, 16.0ms inference, 0.0ms postprocess per image at shape (1, 3, 512, 640)\n",
      "\n",
      "image 1/1 C:\\Users\\user\\PycharmProjects\\spbu_deep_learning1\\homeworks\\rnn_hw\\test\\images\\1929.jpg: 384x640 (no detections), 31.3ms\n",
      "Speed: 0.0ms preprocess, 31.3ms inference, 0.0ms postprocess per image at shape (1, 3, 384, 640)\n",
      "\n",
      "image 1/1 C:\\Users\\user\\PycharmProjects\\spbu_deep_learning1\\homeworks\\rnn_hw\\test\\images\\1934.jpg: 512x640 (no detections), 15.6ms\n",
      "Speed: 0.0ms preprocess, 15.6ms inference, 0.0ms postprocess per image at shape (1, 3, 512, 640)\n",
      "\n",
      "image 1/1 C:\\Users\\user\\PycharmProjects\\spbu_deep_learning1\\homeworks\\rnn_hw\\test\\images\\1936.jpg: 544x640 1 person, 31.0ms\n",
      "Speed: 0.0ms preprocess, 31.0ms inference, 0.0ms postprocess per image at shape (1, 3, 544, 640)\n",
      "\n",
      "image 1/1 C:\\Users\\user\\PycharmProjects\\spbu_deep_learning1\\homeworks\\rnn_hw\\test\\images\\1938.jpg: 640x384 1 person, 15.5ms\n",
      "Speed: 0.0ms preprocess, 15.5ms inference, 0.0ms postprocess per image at shape (1, 3, 640, 384)\n",
      "\n",
      "image 1/1 C:\\Users\\user\\PycharmProjects\\spbu_deep_learning1\\homeworks\\rnn_hw\\test\\images\\1939.jpg: 640x384 (no detections), 14.5ms\n",
      "Speed: 0.0ms preprocess, 14.5ms inference, 0.0ms postprocess per image at shape (1, 3, 640, 384)\n",
      "\n",
      "image 1/1 C:\\Users\\user\\PycharmProjects\\spbu_deep_learning1\\homeworks\\rnn_hw\\test\\images\\1944.jpg: 544x640 (no detections), 15.6ms\n",
      "Speed: 0.0ms preprocess, 15.6ms inference, 0.0ms postprocess per image at shape (1, 3, 544, 640)\n",
      "\n",
      "image 1/1 C:\\Users\\user\\PycharmProjects\\spbu_deep_learning1\\homeworks\\rnn_hw\\test\\images\\1945.jpg: 640x448 1 potted plant, 15.6ms\n",
      "Speed: 0.0ms preprocess, 15.6ms inference, 0.0ms postprocess per image at shape (1, 3, 640, 448)\n",
      "\n",
      "image 1/1 C:\\Users\\user\\PycharmProjects\\spbu_deep_learning1\\homeworks\\rnn_hw\\test\\images\\1962.jpg: 640x512 (no detections), 21.6ms\n",
      "Speed: 0.0ms preprocess, 21.6ms inference, 0.0ms postprocess per image at shape (1, 3, 640, 512)\n",
      "\n",
      "image 1/1 C:\\Users\\user\\PycharmProjects\\spbu_deep_learning1\\homeworks\\rnn_hw\\test\\images\\1963.jpg: 640x480 (no detections), 16.7ms\n",
      "Speed: 0.0ms preprocess, 16.7ms inference, 0.0ms postprocess per image at shape (1, 3, 640, 480)\n",
      "\n",
      "image 1/1 C:\\Users\\user\\PycharmProjects\\spbu_deep_learning1\\homeworks\\rnn_hw\\test\\images\\1964.jpg: 640x480 (no detections), 15.6ms\n",
      "Speed: 0.0ms preprocess, 15.6ms inference, 0.0ms postprocess per image at shape (1, 3, 640, 480)\n",
      "\n",
      "image 1/1 C:\\Users\\user\\PycharmProjects\\spbu_deep_learning1\\homeworks\\rnn_hw\\test\\images\\1973.jpg: 640x544 2 persons, 31.2ms\n",
      "Speed: 0.0ms preprocess, 31.2ms inference, 0.0ms postprocess per image at shape (1, 3, 640, 544)\n",
      "\n",
      "image 1/1 C:\\Users\\user\\PycharmProjects\\spbu_deep_learning1\\homeworks\\rnn_hw\\test\\images\\1975.jpg: 512x640 1 person, 1 truck, 1 kite, 15.6ms\n",
      "Speed: 4.5ms preprocess, 15.6ms inference, 0.0ms postprocess per image at shape (1, 3, 512, 640)\n",
      "\n",
      "image 1/1 C:\\Users\\user\\PycharmProjects\\spbu_deep_learning1\\homeworks\\rnn_hw\\test\\images\\1976.jpg: 512x640 (no detections), 15.6ms\n",
      "Speed: 0.0ms preprocess, 15.6ms inference, 0.0ms postprocess per image at shape (1, 3, 512, 640)\n",
      "\n",
      "image 1/1 C:\\Users\\user\\PycharmProjects\\spbu_deep_learning1\\homeworks\\rnn_hw\\test\\images\\1978.jpg: 512x640 1 person, 2 cars, 15.6ms\n",
      "Speed: 0.0ms preprocess, 15.6ms inference, 0.0ms postprocess per image at shape (1, 3, 512, 640)\n",
      "\n",
      "image 1/1 C:\\Users\\user\\PycharmProjects\\spbu_deep_learning1\\homeworks\\rnn_hw\\test\\images\\1981.jpg: 640x480 4 persons, 15.6ms\n",
      "Speed: 0.0ms preprocess, 15.6ms inference, 0.0ms postprocess per image at shape (1, 3, 640, 480)\n",
      "\n",
      "image 1/1 C:\\Users\\user\\PycharmProjects\\spbu_deep_learning1\\homeworks\\rnn_hw\\test\\images\\1982.jpg: 512x640 1 traffic light, 14.0ms\n",
      "Speed: 0.0ms preprocess, 14.0ms inference, 0.0ms postprocess per image at shape (1, 3, 512, 640)\n",
      "\n",
      "image 1/1 C:\\Users\\user\\PycharmProjects\\spbu_deep_learning1\\homeworks\\rnn_hw\\test\\images\\1983.jpg: 640x512 2 persons, 6 umbrellas, 31.3ms\n",
      "Speed: 0.0ms preprocess, 31.3ms inference, 0.0ms postprocess per image at shape (1, 3, 640, 512)\n",
      "\n",
      "image 1/1 C:\\Users\\user\\PycharmProjects\\spbu_deep_learning1\\homeworks\\rnn_hw\\test\\images\\1989.jpg: 640x384 2 persons, 1 car, 3 boats, 15.6ms\n",
      "Speed: 0.0ms preprocess, 15.6ms inference, 0.0ms postprocess per image at shape (1, 3, 640, 384)\n",
      "\n",
      "image 1/1 C:\\Users\\user\\PycharmProjects\\spbu_deep_learning1\\homeworks\\rnn_hw\\test\\images\\1991.jpg: 640x640 1 person, 5 cars, 8.3ms\n",
      "Speed: 0.0ms preprocess, 8.3ms inference, 15.5ms postprocess per image at shape (1, 3, 640, 640)\n",
      "\n",
      "image 1/1 C:\\Users\\user\\PycharmProjects\\spbu_deep_learning1\\homeworks\\rnn_hw\\test\\images\\1999.jpg: 640x448 2 persons, 3 boats, 15.6ms\n",
      "Speed: 0.0ms preprocess, 15.6ms inference, 0.0ms postprocess per image at shape (1, 3, 640, 448)\n",
      "\n",
      "image 1/1 C:\\Users\\user\\PycharmProjects\\spbu_deep_learning1\\homeworks\\rnn_hw\\test\\images\\2000.jpg: 448x640 (no detections), 31.2ms\n",
      "Speed: 0.0ms preprocess, 31.2ms inference, 0.0ms postprocess per image at shape (1, 3, 448, 640)\n",
      "\n",
      "image 1/1 C:\\Users\\user\\PycharmProjects\\spbu_deep_learning1\\homeworks\\rnn_hw\\test\\images\\2001.jpg: 448x640 2 birds, 15.6ms\n",
      "Speed: 0.0ms preprocess, 15.6ms inference, 0.0ms postprocess per image at shape (1, 3, 448, 640)\n",
      "\n",
      "image 1/1 C:\\Users\\user\\PycharmProjects\\spbu_deep_learning1\\homeworks\\rnn_hw\\test\\images\\2004.jpg: 448x640 8 persons, 31.3ms\n",
      "Speed: 0.0ms preprocess, 31.3ms inference, 0.0ms postprocess per image at shape (1, 3, 448, 640)\n",
      "\n",
      "image 1/1 C:\\Users\\user\\PycharmProjects\\spbu_deep_learning1\\homeworks\\rnn_hw\\test\\images\\2008.jpg: 640x320 (no detections), 9.5ms\n",
      "Speed: 6.5ms preprocess, 9.5ms inference, 0.0ms postprocess per image at shape (1, 3, 640, 320)\n",
      "\n",
      "image 1/1 C:\\Users\\user\\PycharmProjects\\spbu_deep_learning1\\homeworks\\rnn_hw\\test\\images\\2009.jpg: 640x448 1 person, 15.6ms\n",
      "Speed: 15.6ms preprocess, 15.6ms inference, 0.0ms postprocess per image at shape (1, 3, 640, 448)\n",
      "\n",
      "image 1/1 C:\\Users\\user\\PycharmProjects\\spbu_deep_learning1\\homeworks\\rnn_hw\\test\\images\\2014.jpg: 448x640 (no detections), 15.6ms\n",
      "Speed: 0.0ms preprocess, 15.6ms inference, 0.0ms postprocess per image at shape (1, 3, 448, 640)\n",
      "\n",
      "image 1/1 C:\\Users\\user\\PycharmProjects\\spbu_deep_learning1\\homeworks\\rnn_hw\\test\\images\\2015.jpg: 512x640 1 boat, 31.6ms\n",
      "Speed: 0.0ms preprocess, 31.6ms inference, 0.0ms postprocess per image at shape (1, 3, 512, 640)\n",
      "\n",
      "image 1/1 C:\\Users\\user\\PycharmProjects\\spbu_deep_learning1\\homeworks\\rnn_hw\\test\\images\\2017.jpg: 256x640 (no detections), 15.6ms\n",
      "Speed: 0.0ms preprocess, 15.6ms inference, 0.0ms postprocess per image at shape (1, 3, 256, 640)\n",
      "\n",
      "image 1/1 C:\\Users\\user\\PycharmProjects\\spbu_deep_learning1\\homeworks\\rnn_hw\\test\\images\\2019.jpg: 448x640 1 bird, 31.3ms\n",
      "Speed: 0.0ms preprocess, 31.3ms inference, 0.0ms postprocess per image at shape (1, 3, 448, 640)\n",
      "\n",
      "image 1/1 C:\\Users\\user\\PycharmProjects\\spbu_deep_learning1\\homeworks\\rnn_hw\\test\\images\\2022.jpg: 640x448 1 bird, 46.9ms\n",
      "Speed: 0.0ms preprocess, 46.9ms inference, 0.0ms postprocess per image at shape (1, 3, 640, 448)\n",
      "\n",
      "image 1/1 C:\\Users\\user\\PycharmProjects\\spbu_deep_learning1\\homeworks\\rnn_hw\\test\\images\\2026.jpg: 640x320 1 bird, 13.0ms\n",
      "Speed: 0.0ms preprocess, 13.0ms inference, 0.0ms postprocess per image at shape (1, 3, 640, 320)\n",
      "\n",
      "image 1/1 C:\\Users\\user\\PycharmProjects\\spbu_deep_learning1\\homeworks\\rnn_hw\\test\\images\\2028.jpg: 512x640 1 clock, 31.3ms\n",
      "Speed: 0.0ms preprocess, 31.3ms inference, 0.0ms postprocess per image at shape (1, 3, 512, 640)\n",
      "\n",
      "image 1/1 C:\\Users\\user\\PycharmProjects\\spbu_deep_learning1\\homeworks\\rnn_hw\\test\\images\\2030.jpg: 640x448 (no detections), 31.2ms\n",
      "Speed: 0.0ms preprocess, 31.2ms inference, 0.0ms postprocess per image at shape (1, 3, 640, 448)\n",
      "\n",
      "image 1/1 C:\\Users\\user\\PycharmProjects\\spbu_deep_learning1\\homeworks\\rnn_hw\\test\\images\\204.jpg: 640x640 7 persons, 1 baseball bat, 22.3ms\n",
      "Speed: 0.0ms preprocess, 22.3ms inference, 1.0ms postprocess per image at shape (1, 3, 640, 640)\n",
      "\n",
      "image 1/1 C:\\Users\\user\\PycharmProjects\\spbu_deep_learning1\\homeworks\\rnn_hw\\test\\images\\2045.jpg: 480x640 (no detections), 23.6ms\n",
      "Speed: 0.0ms preprocess, 23.6ms inference, 0.0ms postprocess per image at shape (1, 3, 480, 640)\n",
      "\n",
      "image 1/1 C:\\Users\\user\\PycharmProjects\\spbu_deep_learning1\\homeworks\\rnn_hw\\test\\images\\2050.jpg: 640x480 3 persons, 1 stop sign, 31.2ms\n",
      "Speed: 0.0ms preprocess, 31.2ms inference, 0.0ms postprocess per image at shape (1, 3, 640, 480)\n",
      "\n",
      "image 1/1 C:\\Users\\user\\PycharmProjects\\spbu_deep_learning1\\homeworks\\rnn_hw\\test\\images\\2052.jpg: 640x480 (no detections), 15.6ms\n",
      "Speed: 0.0ms preprocess, 15.6ms inference, 0.0ms postprocess per image at shape (1, 3, 640, 480)\n",
      "\n",
      "image 1/1 C:\\Users\\user\\PycharmProjects\\spbu_deep_learning1\\homeworks\\rnn_hw\\test\\images\\2057.jpg: 416x640 (no detections), 23.8ms\n",
      "Speed: 15.6ms preprocess, 23.8ms inference, 0.0ms postprocess per image at shape (1, 3, 416, 640)\n",
      "\n",
      "image 1/1 C:\\Users\\user\\PycharmProjects\\spbu_deep_learning1\\homeworks\\rnn_hw\\test\\images\\2058.jpg: 512x640 (no detections), 15.6ms\n",
      "Speed: 0.0ms preprocess, 15.6ms inference, 0.0ms postprocess per image at shape (1, 3, 512, 640)\n",
      "\n",
      "image 1/1 C:\\Users\\user\\PycharmProjects\\spbu_deep_learning1\\homeworks\\rnn_hw\\test\\images\\2059.jpg: 416x640 (no detections), 15.6ms\n",
      "Speed: 0.0ms preprocess, 15.6ms inference, 0.0ms postprocess per image at shape (1, 3, 416, 640)\n",
      "\n",
      "image 1/1 C:\\Users\\user\\PycharmProjects\\spbu_deep_learning1\\homeworks\\rnn_hw\\test\\images\\206.jpg: 352x640 1 horse, 15.6ms\n",
      "Speed: 0.0ms preprocess, 15.6ms inference, 0.0ms postprocess per image at shape (1, 3, 352, 640)\n",
      "\n",
      "image 1/1 C:\\Users\\user\\PycharmProjects\\spbu_deep_learning1\\homeworks\\rnn_hw\\test\\images\\2061.jpg: 640x448 (no detections), 16.0ms\n",
      "Speed: 0.0ms preprocess, 16.0ms inference, 0.0ms postprocess per image at shape (1, 3, 640, 448)\n",
      "\n",
      "image 1/1 C:\\Users\\user\\PycharmProjects\\spbu_deep_learning1\\homeworks\\rnn_hw\\test\\images\\2070.jpg: 640x576 (no detections), 31.3ms\n",
      "Speed: 0.0ms preprocess, 31.3ms inference, 0.0ms postprocess per image at shape (1, 3, 640, 576)\n",
      "\n",
      "image 1/1 C:\\Users\\user\\PycharmProjects\\spbu_deep_learning1\\homeworks\\rnn_hw\\test\\images\\2073.jpg: 448x640 (no detections), 31.3ms\n",
      "Speed: 0.0ms preprocess, 31.3ms inference, 0.0ms postprocess per image at shape (1, 3, 448, 640)\n",
      "\n",
      "image 1/1 C:\\Users\\user\\PycharmProjects\\spbu_deep_learning1\\homeworks\\rnn_hw\\test\\images\\2074.jpg: 352x640 (no detections), 31.2ms\n",
      "Speed: 0.0ms preprocess, 31.2ms inference, 1.0ms postprocess per image at shape (1, 3, 352, 640)\n",
      "\n",
      "image 1/1 C:\\Users\\user\\PycharmProjects\\spbu_deep_learning1\\homeworks\\rnn_hw\\test\\images\\2079.jpg: 576x640 14 birds, 15.0ms\n",
      "Speed: 0.0ms preprocess, 15.0ms inference, 0.0ms postprocess per image at shape (1, 3, 576, 640)\n",
      "\n",
      "image 1/1 C:\\Users\\user\\PycharmProjects\\spbu_deep_learning1\\homeworks\\rnn_hw\\test\\images\\2084.jpg: 640x352 (no detections), 32.4ms\n",
      "Speed: 0.0ms preprocess, 32.4ms inference, 0.0ms postprocess per image at shape (1, 3, 640, 352)\n",
      "\n",
      "image 1/1 C:\\Users\\user\\PycharmProjects\\spbu_deep_learning1\\homeworks\\rnn_hw\\test\\images\\2085.jpg: 640x352 3 birds, 1 frisbee, 15.0ms\n",
      "Speed: 0.0ms preprocess, 15.0ms inference, 0.0ms postprocess per image at shape (1, 3, 640, 352)\n",
      "\n",
      "image 1/1 C:\\Users\\user\\PycharmProjects\\spbu_deep_learning1\\homeworks\\rnn_hw\\test\\images\\2086.jpg: 640x384 (no detections), 31.3ms\n",
      "Speed: 0.0ms preprocess, 31.3ms inference, 0.0ms postprocess per image at shape (1, 3, 640, 384)\n",
      "\n",
      "image 1/1 C:\\Users\\user\\PycharmProjects\\spbu_deep_learning1\\homeworks\\rnn_hw\\test\\images\\2088.jpg: 640x384 (no detections), 16.0ms\n",
      "Speed: 0.0ms preprocess, 16.0ms inference, 0.0ms postprocess per image at shape (1, 3, 640, 384)\n",
      "\n",
      "image 1/1 C:\\Users\\user\\PycharmProjects\\spbu_deep_learning1\\homeworks\\rnn_hw\\test\\images\\209.jpg: 384x640 (no detections), 31.3ms\n",
      "Speed: 0.0ms preprocess, 31.3ms inference, 0.0ms postprocess per image at shape (1, 3, 384, 640)\n",
      "\n",
      "image 1/1 C:\\Users\\user\\PycharmProjects\\spbu_deep_learning1\\homeworks\\rnn_hw\\test\\images\\2093.jpg: 640x448 1 bird, 15.6ms\n",
      "Speed: 0.0ms preprocess, 15.6ms inference, 0.0ms postprocess per image at shape (1, 3, 640, 448)\n",
      "\n",
      "image 1/1 C:\\Users\\user\\PycharmProjects\\spbu_deep_learning1\\homeworks\\rnn_hw\\test\\images\\2097.jpg: 640x448 1 person, 31.3ms\n",
      "Speed: 0.0ms preprocess, 31.3ms inference, 0.0ms postprocess per image at shape (1, 3, 640, 448)\n",
      "\n",
      "image 1/1 C:\\Users\\user\\PycharmProjects\\spbu_deep_learning1\\homeworks\\rnn_hw\\test\\images\\2098.jpg: 640x480 1 person, 16.0ms\n",
      "Speed: 0.0ms preprocess, 16.0ms inference, 0.0ms postprocess per image at shape (1, 3, 640, 480)\n",
      "\n",
      "image 1/1 C:\\Users\\user\\PycharmProjects\\spbu_deep_learning1\\homeworks\\rnn_hw\\test\\images\\210.jpg: 640x512 2 persons, 1 dog, 1 sheep, 15.6ms\n",
      "Speed: 0.0ms preprocess, 15.6ms inference, 0.0ms postprocess per image at shape (1, 3, 640, 512)\n",
      "\n",
      "image 1/1 C:\\Users\\user\\PycharmProjects\\spbu_deep_learning1\\homeworks\\rnn_hw\\test\\images\\2100.jpg: 640x416 1 person, 1 skis, 1 cell phone, 31.3ms\n",
      "Speed: 0.0ms preprocess, 31.3ms inference, 0.0ms postprocess per image at shape (1, 3, 640, 416)\n",
      "\n",
      "image 1/1 C:\\Users\\user\\PycharmProjects\\spbu_deep_learning1\\homeworks\\rnn_hw\\test\\images\\2109.jpg: 640x512 (no detections), 15.6ms\n",
      "Speed: 0.0ms preprocess, 15.6ms inference, 0.0ms postprocess per image at shape (1, 3, 640, 512)\n",
      "\n",
      "image 1/1 C:\\Users\\user\\PycharmProjects\\spbu_deep_learning1\\homeworks\\rnn_hw\\test\\images\\2110.jpg: 416x640 (no detections), 16.0ms\n",
      "Speed: 15.6ms preprocess, 16.0ms inference, 0.0ms postprocess per image at shape (1, 3, 416, 640)\n",
      "\n",
      "image 1/1 C:\\Users\\user\\PycharmProjects\\spbu_deep_learning1\\homeworks\\rnn_hw\\test\\images\\2111.jpg: 480x640 (no detections), 15.6ms\n",
      "Speed: 0.0ms preprocess, 15.6ms inference, 0.0ms postprocess per image at shape (1, 3, 480, 640)\n",
      "\n",
      "image 1/1 C:\\Users\\user\\PycharmProjects\\spbu_deep_learning1\\homeworks\\rnn_hw\\test\\images\\2117.jpg: 512x640 (no detections), 15.6ms\n",
      "Speed: 0.0ms preprocess, 15.6ms inference, 0.0ms postprocess per image at shape (1, 3, 512, 640)\n",
      "\n",
      "image 1/1 C:\\Users\\user\\PycharmProjects\\spbu_deep_learning1\\homeworks\\rnn_hw\\test\\images\\2118.jpg: 416x640 (no detections), 15.6ms\n",
      "Speed: 0.0ms preprocess, 15.6ms inference, 0.0ms postprocess per image at shape (1, 3, 416, 640)\n",
      "\n",
      "image 1/1 C:\\Users\\user\\PycharmProjects\\spbu_deep_learning1\\homeworks\\rnn_hw\\test\\images\\2119.jpg: 640x544 1 bird, 16.0ms\n",
      "Speed: 0.0ms preprocess, 16.0ms inference, 0.0ms postprocess per image at shape (1, 3, 640, 544)\n",
      "\n",
      "image 1/1 C:\\Users\\user\\PycharmProjects\\spbu_deep_learning1\\homeworks\\rnn_hw\\test\\images\\2120.jpg: 640x480 (no detections), 15.6ms\n",
      "Speed: 0.0ms preprocess, 15.6ms inference, 15.6ms postprocess per image at shape (1, 3, 640, 480)\n",
      "\n",
      "image 1/1 C:\\Users\\user\\PycharmProjects\\spbu_deep_learning1\\homeworks\\rnn_hw\\test\\images\\2122.jpg: 480x640 (no detections), 8.7ms\n",
      "Speed: 0.0ms preprocess, 8.7ms inference, 0.0ms postprocess per image at shape (1, 3, 480, 640)\n",
      "\n",
      "image 1/1 C:\\Users\\user\\PycharmProjects\\spbu_deep_learning1\\homeworks\\rnn_hw\\test\\images\\2123.jpg: 448x640 (no detections), 15.6ms\n",
      "Speed: 0.0ms preprocess, 15.6ms inference, 0.0ms postprocess per image at shape (1, 3, 448, 640)\n",
      "\n",
      "image 1/1 C:\\Users\\user\\PycharmProjects\\spbu_deep_learning1\\homeworks\\rnn_hw\\test\\images\\2124.jpg: 416x640 (no detections), 31.6ms\n",
      "Speed: 0.0ms preprocess, 31.6ms inference, 0.0ms postprocess per image at shape (1, 3, 416, 640)\n",
      "\n",
      "image 1/1 C:\\Users\\user\\PycharmProjects\\spbu_deep_learning1\\homeworks\\rnn_hw\\test\\images\\2125.jpg: 480x640 (no detections), 22.0ms\n",
      "Speed: 0.0ms preprocess, 22.0ms inference, 0.0ms postprocess per image at shape (1, 3, 480, 640)\n",
      "\n",
      "image 1/1 C:\\Users\\user\\PycharmProjects\\spbu_deep_learning1\\homeworks\\rnn_hw\\test\\images\\2130.jpg: 640x480 1 frisbee, 15.6ms\n",
      "Speed: 0.0ms preprocess, 15.6ms inference, 0.0ms postprocess per image at shape (1, 3, 640, 480)\n",
      "\n",
      "image 1/1 C:\\Users\\user\\PycharmProjects\\spbu_deep_learning1\\homeworks\\rnn_hw\\test\\images\\2136.jpg: 544x640 3 persons, 1 backpack, 15.6ms\n",
      "Speed: 0.0ms preprocess, 15.6ms inference, 0.0ms postprocess per image at shape (1, 3, 544, 640)\n",
      "\n",
      "image 1/1 C:\\Users\\user\\PycharmProjects\\spbu_deep_learning1\\homeworks\\rnn_hw\\test\\images\\2137.jpg: 640x448 2 persons, 1 train, 2 trucks, 21.1ms\n",
      "Speed: 0.0ms preprocess, 21.1ms inference, 10.5ms postprocess per image at shape (1, 3, 640, 448)\n",
      "\n",
      "image 1/1 C:\\Users\\user\\PycharmProjects\\spbu_deep_learning1\\homeworks\\rnn_hw\\test\\images\\2139.jpg: 512x640 (no detections), 15.6ms\n",
      "Speed: 0.0ms preprocess, 15.6ms inference, 0.0ms postprocess per image at shape (1, 3, 512, 640)\n",
      "\n",
      "image 1/1 C:\\Users\\user\\PycharmProjects\\spbu_deep_learning1\\homeworks\\rnn_hw\\test\\images\\2142.jpg: 480x640 1 car, 15.6ms\n",
      "Speed: 15.6ms preprocess, 15.6ms inference, 0.0ms postprocess per image at shape (1, 3, 480, 640)\n",
      "\n",
      "image 1/1 C:\\Users\\user\\PycharmProjects\\spbu_deep_learning1\\homeworks\\rnn_hw\\test\\images\\2143.jpg: 544x640 (no detections), 31.3ms\n",
      "Speed: 0.0ms preprocess, 31.3ms inference, 0.0ms postprocess per image at shape (1, 3, 544, 640)\n",
      "\n",
      "image 1/1 C:\\Users\\user\\PycharmProjects\\spbu_deep_learning1\\homeworks\\rnn_hw\\test\\images\\2157.jpg: 512x640 1 zebra, 16.0ms\n",
      "Speed: 0.0ms preprocess, 16.0ms inference, 0.0ms postprocess per image at shape (1, 3, 512, 640)\n",
      "\n",
      "image 1/1 C:\\Users\\user\\PycharmProjects\\spbu_deep_learning1\\homeworks\\rnn_hw\\test\\images\\2158.jpg: 448x640 3 persons, 31.3ms\n",
      "Speed: 0.0ms preprocess, 31.3ms inference, 0.0ms postprocess per image at shape (1, 3, 448, 640)\n",
      "\n",
      "image 1/1 C:\\Users\\user\\PycharmProjects\\spbu_deep_learning1\\homeworks\\rnn_hw\\test\\images\\2160.jpg: 384x640 2 persons, 7 bottles, 15.7ms\n",
      "Speed: 0.0ms preprocess, 15.7ms inference, 0.0ms postprocess per image at shape (1, 3, 384, 640)\n",
      "\n",
      "image 1/1 C:\\Users\\user\\PycharmProjects\\spbu_deep_learning1\\homeworks\\rnn_hw\\test\\images\\2163.jpg: 640x480 1 person, 1 tie, 31.3ms\n",
      "Speed: 0.0ms preprocess, 31.3ms inference, 0.0ms postprocess per image at shape (1, 3, 640, 480)\n",
      "\n",
      "image 1/1 C:\\Users\\user\\PycharmProjects\\spbu_deep_learning1\\homeworks\\rnn_hw\\test\\images\\2165.jpg: 416x640 (no detections), 17.1ms\n",
      "Speed: 0.0ms preprocess, 17.1ms inference, 0.0ms postprocess per image at shape (1, 3, 416, 640)\n",
      "\n",
      "image 1/1 C:\\Users\\user\\PycharmProjects\\spbu_deep_learning1\\homeworks\\rnn_hw\\test\\images\\2170.jpg: 640x448 (no detections), 30.1ms\n",
      "Speed: 0.0ms preprocess, 30.1ms inference, 15.6ms postprocess per image at shape (1, 3, 640, 448)\n",
      "\n",
      "image 1/1 C:\\Users\\user\\PycharmProjects\\spbu_deep_learning1\\homeworks\\rnn_hw\\test\\images\\2171.jpg: 352x640 9 persons, 1 chair, 15.6ms\n",
      "Speed: 0.0ms preprocess, 15.6ms inference, 0.0ms postprocess per image at shape (1, 3, 352, 640)\n",
      "\n",
      "image 1/1 C:\\Users\\user\\PycharmProjects\\spbu_deep_learning1\\homeworks\\rnn_hw\\test\\images\\2174.jpg: 640x512 1 person, 38.8ms\n",
      "Speed: 0.0ms preprocess, 38.8ms inference, 0.0ms postprocess per image at shape (1, 3, 640, 512)\n",
      "\n",
      "image 1/1 C:\\Users\\user\\PycharmProjects\\spbu_deep_learning1\\homeworks\\rnn_hw\\test\\images\\2177.jpg: 640x512 1 person, 1 couch, 24.1ms\n",
      "Speed: 0.0ms preprocess, 24.1ms inference, 0.0ms postprocess per image at shape (1, 3, 640, 512)\n",
      "\n",
      "image 1/1 C:\\Users\\user\\PycharmProjects\\spbu_deep_learning1\\homeworks\\rnn_hw\\test\\images\\2181.jpg: 640x448 (no detections), 15.6ms\n",
      "Speed: 0.0ms preprocess, 15.6ms inference, 0.0ms postprocess per image at shape (1, 3, 640, 448)\n",
      "\n",
      "image 1/1 C:\\Users\\user\\PycharmProjects\\spbu_deep_learning1\\homeworks\\rnn_hw\\test\\images\\2184.jpg: 384x640 (no detections), 47.3ms\n",
      "Speed: 0.0ms preprocess, 47.3ms inference, 0.0ms postprocess per image at shape (1, 3, 384, 640)\n",
      "\n",
      "image 1/1 C:\\Users\\user\\PycharmProjects\\spbu_deep_learning1\\homeworks\\rnn_hw\\test\\images\\2186.jpg: 416x640 1 person, 15.6ms\n",
      "Speed: 0.0ms preprocess, 15.6ms inference, 0.0ms postprocess per image at shape (1, 3, 416, 640)\n",
      "\n",
      "image 1/1 C:\\Users\\user\\PycharmProjects\\spbu_deep_learning1\\homeworks\\rnn_hw\\test\\images\\2189.jpg: 640x384 1 horse, 29.9ms\n",
      "Speed: 0.0ms preprocess, 29.9ms inference, 0.0ms postprocess per image at shape (1, 3, 640, 384)\n",
      "\n",
      "image 1/1 C:\\Users\\user\\PycharmProjects\\spbu_deep_learning1\\homeworks\\rnn_hw\\test\\images\\219.jpg: 640x448 (no detections), 31.3ms\n",
      "Speed: 0.0ms preprocess, 31.3ms inference, 0.0ms postprocess per image at shape (1, 3, 640, 448)\n",
      "\n",
      "image 1/1 C:\\Users\\user\\PycharmProjects\\spbu_deep_learning1\\homeworks\\rnn_hw\\test\\images\\2191.jpg: 448x640 (no detections), 20.6ms\n",
      "Speed: 0.0ms preprocess, 20.6ms inference, 0.0ms postprocess per image at shape (1, 3, 448, 640)\n",
      "\n",
      "image 1/1 C:\\Users\\user\\PycharmProjects\\spbu_deep_learning1\\homeworks\\rnn_hw\\test\\images\\2193.jpg: 640x448 9 persons, 27.0ms\n",
      "Speed: 0.0ms preprocess, 27.0ms inference, 0.0ms postprocess per image at shape (1, 3, 640, 448)\n",
      "\n",
      "image 1/1 C:\\Users\\user\\PycharmProjects\\spbu_deep_learning1\\homeworks\\rnn_hw\\test\\images\\2196.jpg: 640x480 (no detections), 16.8ms\n",
      "Speed: 0.0ms preprocess, 16.8ms inference, 0.0ms postprocess per image at shape (1, 3, 640, 480)\n",
      "\n",
      "image 1/1 C:\\Users\\user\\PycharmProjects\\spbu_deep_learning1\\homeworks\\rnn_hw\\test\\images\\2197.jpg: 384x640 3 persons, 15.6ms\n",
      "Speed: 0.0ms preprocess, 15.6ms inference, 0.0ms postprocess per image at shape (1, 3, 384, 640)\n",
      "\n",
      "image 1/1 C:\\Users\\user\\PycharmProjects\\spbu_deep_learning1\\homeworks\\rnn_hw\\test\\images\\2201.jpg: 640x544 2 toilets, 31.6ms\n",
      "Speed: 0.0ms preprocess, 31.6ms inference, 0.0ms postprocess per image at shape (1, 3, 640, 544)\n",
      "\n",
      "image 1/1 C:\\Users\\user\\PycharmProjects\\spbu_deep_learning1\\homeworks\\rnn_hw\\test\\images\\2204.jpg: 640x512 1 sheep, 2 cows, 4 elephants, 15.6ms\n",
      "Speed: 0.0ms preprocess, 15.6ms inference, 0.0ms postprocess per image at shape (1, 3, 640, 512)\n",
      "\n",
      "image 1/1 C:\\Users\\user\\PycharmProjects\\spbu_deep_learning1\\homeworks\\rnn_hw\\test\\images\\2206.jpg: 640x384 1 person, 31.3ms\n",
      "Speed: 0.0ms preprocess, 31.3ms inference, 0.0ms postprocess per image at shape (1, 3, 640, 384)\n",
      "\n",
      "image 1/1 C:\\Users\\user\\PycharmProjects\\spbu_deep_learning1\\homeworks\\rnn_hw\\test\\images\\2208.jpg: 512x640 11 persons, 15.6ms\n",
      "Speed: 0.0ms preprocess, 15.6ms inference, 0.0ms postprocess per image at shape (1, 3, 512, 640)\n",
      "\n",
      "image 1/1 C:\\Users\\user\\PycharmProjects\\spbu_deep_learning1\\homeworks\\rnn_hw\\test\\images\\2210.jpg: 640x608 1 stop sign, 16.6ms\n",
      "Speed: 0.0ms preprocess, 16.6ms inference, 0.0ms postprocess per image at shape (1, 3, 640, 608)\n",
      "\n",
      "image 1/1 C:\\Users\\user\\PycharmProjects\\spbu_deep_learning1\\homeworks\\rnn_hw\\test\\images\\2212.jpg: 512x640 (no detections), 15.0ms\n",
      "Speed: 0.0ms preprocess, 15.0ms inference, 0.0ms postprocess per image at shape (1, 3, 512, 640)\n",
      "\n",
      "image 1/1 C:\\Users\\user\\PycharmProjects\\spbu_deep_learning1\\homeworks\\rnn_hw\\test\\images\\2214.jpg: 640x352 (no detections), 15.6ms\n",
      "Speed: 0.0ms preprocess, 15.6ms inference, 0.0ms postprocess per image at shape (1, 3, 640, 352)\n",
      "\n",
      "image 1/1 C:\\Users\\user\\PycharmProjects\\spbu_deep_learning1\\homeworks\\rnn_hw\\test\\images\\2220.jpg: 480x640 1 bowl, 15.6ms\n",
      "Speed: 0.0ms preprocess, 15.6ms inference, 0.0ms postprocess per image at shape (1, 3, 480, 640)\n",
      "\n",
      "image 1/1 C:\\Users\\user\\PycharmProjects\\spbu_deep_learning1\\homeworks\\rnn_hw\\test\\images\\2222.jpg: 448x640 1 cow, 1 elephant, 22.3ms\n",
      "Speed: 0.0ms preprocess, 22.3ms inference, 0.0ms postprocess per image at shape (1, 3, 448, 640)\n",
      "\n",
      "image 1/1 C:\\Users\\user\\PycharmProjects\\spbu_deep_learning1\\homeworks\\rnn_hw\\test\\images\\2223.jpg: 512x640 3 birds, 14.5ms\n",
      "Speed: 0.0ms preprocess, 14.5ms inference, 0.0ms postprocess per image at shape (1, 3, 512, 640)\n",
      "\n",
      "image 1/1 C:\\Users\\user\\PycharmProjects\\spbu_deep_learning1\\homeworks\\rnn_hw\\test\\images\\2226.jpg: 640x512 1 bird, 15.6ms\n",
      "Speed: 0.0ms preprocess, 15.6ms inference, 0.0ms postprocess per image at shape (1, 3, 640, 512)\n",
      "\n",
      "image 1/1 C:\\Users\\user\\PycharmProjects\\spbu_deep_learning1\\homeworks\\rnn_hw\\test\\images\\2227.jpg: 512x640 1 cup, 1 knife, 8 oranges, 2 dining tables, 15.6ms\n",
      "Speed: 9.4ms preprocess, 15.6ms inference, 0.0ms postprocess per image at shape (1, 3, 512, 640)\n",
      "\n",
      "image 1/1 C:\\Users\\user\\PycharmProjects\\spbu_deep_learning1\\homeworks\\rnn_hw\\test\\images\\2234.jpg: 544x640 1 knife, 1 bowl, 1 vase, 31.6ms\n",
      "Speed: 0.0ms preprocess, 31.6ms inference, 0.0ms postprocess per image at shape (1, 3, 544, 640)\n",
      "\n",
      "image 1/1 C:\\Users\\user\\PycharmProjects\\spbu_deep_learning1\\homeworks\\rnn_hw\\test\\images\\2245.jpg: 640x448 (no detections), 31.3ms\n",
      "Speed: 0.0ms preprocess, 31.3ms inference, 0.0ms postprocess per image at shape (1, 3, 640, 448)\n",
      "\n",
      "image 1/1 C:\\Users\\user\\PycharmProjects\\spbu_deep_learning1\\homeworks\\rnn_hw\\test\\images\\2246.jpg: 640x448 (no detections), 46.9ms\n",
      "Speed: 0.0ms preprocess, 46.9ms inference, 0.0ms postprocess per image at shape (1, 3, 640, 448)\n",
      "\n",
      "image 1/1 C:\\Users\\user\\PycharmProjects\\spbu_deep_learning1\\homeworks\\rnn_hw\\test\\images\\2249.jpg: 448x640 (no detections), 19.6ms\n",
      "Speed: 0.0ms preprocess, 19.6ms inference, 0.0ms postprocess per image at shape (1, 3, 448, 640)\n",
      "\n",
      "image 1/1 C:\\Users\\user\\PycharmProjects\\spbu_deep_learning1\\homeworks\\rnn_hw\\test\\images\\2250.jpg: 640x544 2 chairs, 15.6ms\n",
      "Speed: 12.0ms preprocess, 15.6ms inference, 0.0ms postprocess per image at shape (1, 3, 640, 544)\n",
      "\n",
      "image 1/1 C:\\Users\\user\\PycharmProjects\\spbu_deep_learning1\\homeworks\\rnn_hw\\test\\images\\2253.jpg: 512x640 (no detections), 31.3ms\n",
      "Speed: 0.0ms preprocess, 31.3ms inference, 0.0ms postprocess per image at shape (1, 3, 512, 640)\n",
      "\n",
      "image 1/1 C:\\Users\\user\\PycharmProjects\\spbu_deep_learning1\\homeworks\\rnn_hw\\test\\images\\2259.jpg: 640x512 1 teddy bear, 31.2ms\n",
      "Speed: 0.0ms preprocess, 31.2ms inference, 0.0ms postprocess per image at shape (1, 3, 640, 512)\n",
      "\n",
      "image 1/1 C:\\Users\\user\\PycharmProjects\\spbu_deep_learning1\\homeworks\\rnn_hw\\test\\images\\227.jpg: 640x416 1 cat, 21.6ms\n",
      "Speed: 0.0ms preprocess, 21.6ms inference, 0.0ms postprocess per image at shape (1, 3, 640, 416)\n",
      "\n",
      "image 1/1 C:\\Users\\user\\PycharmProjects\\spbu_deep_learning1\\homeworks\\rnn_hw\\test\\images\\2271.jpg: 512x640 1 person, 3 boats, 16.0ms\n",
      "Speed: 0.0ms preprocess, 16.0ms inference, 0.0ms postprocess per image at shape (1, 3, 512, 640)\n",
      "\n",
      "image 1/1 C:\\Users\\user\\PycharmProjects\\spbu_deep_learning1\\homeworks\\rnn_hw\\test\\images\\2280.jpg: 352x640 2 persons, 15.6ms\n",
      "Speed: 0.0ms preprocess, 15.6ms inference, 0.0ms postprocess per image at shape (1, 3, 352, 640)\n",
      "\n",
      "image 1/1 C:\\Users\\user\\PycharmProjects\\spbu_deep_learning1\\homeworks\\rnn_hw\\test\\images\\2294.jpg: 480x640 (no detections), 15.5ms\n",
      "Speed: 0.0ms preprocess, 15.5ms inference, 0.0ms postprocess per image at shape (1, 3, 480, 640)\n",
      "\n",
      "image 1/1 C:\\Users\\user\\PycharmProjects\\spbu_deep_learning1\\homeworks\\rnn_hw\\test\\images\\2296.jpg: 640x544 2 clocks, 31.3ms\n",
      "Speed: 0.0ms preprocess, 31.3ms inference, 0.0ms postprocess per image at shape (1, 3, 640, 544)\n",
      "\n",
      "image 1/1 C:\\Users\\user\\PycharmProjects\\spbu_deep_learning1\\homeworks\\rnn_hw\\test\\images\\2297.jpg: 448x640 (no detections), 15.6ms\n",
      "Speed: 0.0ms preprocess, 15.6ms inference, 0.0ms postprocess per image at shape (1, 3, 448, 640)\n",
      "\n",
      "image 1/1 C:\\Users\\user\\PycharmProjects\\spbu_deep_learning1\\homeworks\\rnn_hw\\test\\images\\2302.jpg: 640x544 (no detections), 15.6ms\n",
      "Speed: 0.0ms preprocess, 15.6ms inference, 0.0ms postprocess per image at shape (1, 3, 640, 544)\n",
      "\n",
      "image 1/1 C:\\Users\\user\\PycharmProjects\\spbu_deep_learning1\\homeworks\\rnn_hw\\test\\images\\2313.jpg: 448x640 (no detections), 22.1ms\n",
      "Speed: 0.0ms preprocess, 22.1ms inference, 0.0ms postprocess per image at shape (1, 3, 448, 640)\n",
      "\n",
      "image 1/1 C:\\Users\\user\\PycharmProjects\\spbu_deep_learning1\\homeworks\\rnn_hw\\test\\images\\2314.jpg: 640x544 (no detections), 15.6ms\n",
      "Speed: 0.0ms preprocess, 15.6ms inference, 0.0ms postprocess per image at shape (1, 3, 640, 544)\n",
      "\n",
      "image 1/1 C:\\Users\\user\\PycharmProjects\\spbu_deep_learning1\\homeworks\\rnn_hw\\test\\images\\2318.jpg: 544x640 (no detections), 15.6ms\n",
      "Speed: 0.0ms preprocess, 15.6ms inference, 15.6ms postprocess per image at shape (1, 3, 544, 640)\n",
      "\n",
      "image 1/1 C:\\Users\\user\\PycharmProjects\\spbu_deep_learning1\\homeworks\\rnn_hw\\test\\images\\2319.jpg: 640x640 (no detections), 15.6ms\n",
      "Speed: 0.0ms preprocess, 15.6ms inference, 0.0ms postprocess per image at shape (1, 3, 640, 640)\n",
      "\n",
      "image 1/1 C:\\Users\\user\\PycharmProjects\\spbu_deep_learning1\\homeworks\\rnn_hw\\test\\images\\232.jpg: 640x480 1 person, 31.6ms\n",
      "Speed: 0.0ms preprocess, 31.6ms inference, 0.0ms postprocess per image at shape (1, 3, 640, 480)\n",
      "\n",
      "image 1/1 C:\\Users\\user\\PycharmProjects\\spbu_deep_learning1\\homeworks\\rnn_hw\\test\\images\\2320.jpg: 480x640 1 bear, 31.3ms\n",
      "Speed: 0.0ms preprocess, 31.3ms inference, 0.0ms postprocess per image at shape (1, 3, 480, 640)\n",
      "\n",
      "image 1/1 C:\\Users\\user\\PycharmProjects\\spbu_deep_learning1\\homeworks\\rnn_hw\\test\\images\\2328.jpg: 640x512 (no detections), 16.9ms\n",
      "Speed: 0.0ms preprocess, 16.9ms inference, 0.0ms postprocess per image at shape (1, 3, 640, 512)\n",
      "\n",
      "image 1/1 C:\\Users\\user\\PycharmProjects\\spbu_deep_learning1\\homeworks\\rnn_hw\\test\\images\\2330.jpg: 480x640 1 train, 30.1ms\n",
      "Speed: 0.0ms preprocess, 30.1ms inference, 0.0ms postprocess per image at shape (1, 3, 480, 640)\n",
      "\n",
      "image 1/1 C:\\Users\\user\\PycharmProjects\\spbu_deep_learning1\\homeworks\\rnn_hw\\test\\images\\2331.jpg: 480x640 (no detections), 18.3ms\n",
      "Speed: 0.0ms preprocess, 18.3ms inference, 0.0ms postprocess per image at shape (1, 3, 480, 640)\n",
      "\n",
      "image 1/1 C:\\Users\\user\\PycharmProjects\\spbu_deep_learning1\\homeworks\\rnn_hw\\test\\images\\2334.jpg: 448x640 (no detections), 28.6ms\n",
      "Speed: 0.0ms preprocess, 28.6ms inference, 0.0ms postprocess per image at shape (1, 3, 448, 640)\n",
      "\n",
      "image 1/1 C:\\Users\\user\\PycharmProjects\\spbu_deep_learning1\\homeworks\\rnn_hw\\test\\images\\2337.jpg: 544x640 (no detections), 15.6ms\n",
      "Speed: 0.0ms preprocess, 15.6ms inference, 0.0ms postprocess per image at shape (1, 3, 544, 640)\n",
      "\n",
      "image 1/1 C:\\Users\\user\\PycharmProjects\\spbu_deep_learning1\\homeworks\\rnn_hw\\test\\images\\2338.jpg: 544x640 (no detections), 31.2ms\n",
      "Speed: 0.0ms preprocess, 31.2ms inference, 0.0ms postprocess per image at shape (1, 3, 544, 640)\n",
      "\n",
      "image 1/1 C:\\Users\\user\\PycharmProjects\\spbu_deep_learning1\\homeworks\\rnn_hw\\test\\images\\2342.jpg: 640x448 1 person, 31.6ms\n",
      "Speed: 0.0ms preprocess, 31.6ms inference, 0.0ms postprocess per image at shape (1, 3, 640, 448)\n",
      "\n",
      "image 1/1 C:\\Users\\user\\PycharmProjects\\spbu_deep_learning1\\homeworks\\rnn_hw\\test\\images\\2346.jpg: 640x640 (no detections), 15.6ms\n",
      "Speed: 0.0ms preprocess, 15.6ms inference, 0.0ms postprocess per image at shape (1, 3, 640, 640)\n",
      "\n",
      "image 1/1 C:\\Users\\user\\PycharmProjects\\spbu_deep_learning1\\homeworks\\rnn_hw\\test\\images\\2350.jpg: 640x480 1 person, 1 remote, 15.6ms\n",
      "Speed: 15.6ms preprocess, 15.6ms inference, 0.0ms postprocess per image at shape (1, 3, 640, 480)\n",
      "\n",
      "image 1/1 C:\\Users\\user\\PycharmProjects\\spbu_deep_learning1\\homeworks\\rnn_hw\\test\\images\\2351.jpg: 640x640 (no detections), 31.2ms\n",
      "Speed: 0.0ms preprocess, 31.2ms inference, 0.0ms postprocess per image at shape (1, 3, 640, 640)\n",
      "\n",
      "image 1/1 C:\\Users\\user\\PycharmProjects\\spbu_deep_learning1\\homeworks\\rnn_hw\\test\\images\\2356.jpg: 448x640 1 sink, 17.2ms\n",
      "Speed: 0.0ms preprocess, 17.2ms inference, 0.0ms postprocess per image at shape (1, 3, 448, 640)\n",
      "\n",
      "image 1/1 C:\\Users\\user\\PycharmProjects\\spbu_deep_learning1\\homeworks\\rnn_hw\\test\\images\\2362.jpg: 480x640 (no detections), 30.1ms\n",
      "Speed: 0.0ms preprocess, 30.1ms inference, 0.0ms postprocess per image at shape (1, 3, 480, 640)\n",
      "\n",
      "image 1/1 C:\\Users\\user\\PycharmProjects\\spbu_deep_learning1\\homeworks\\rnn_hw\\test\\images\\2363.jpg: 480x640 1 bird, 15.6ms\n",
      "Speed: 0.0ms preprocess, 15.6ms inference, 0.0ms postprocess per image at shape (1, 3, 480, 640)\n",
      "\n",
      "image 1/1 C:\\Users\\user\\PycharmProjects\\spbu_deep_learning1\\homeworks\\rnn_hw\\test\\images\\2365.jpg: 480x640 (no detections), 15.6ms\n",
      "Speed: 0.0ms preprocess, 15.6ms inference, 0.0ms postprocess per image at shape (1, 3, 480, 640)\n",
      "\n",
      "image 1/1 C:\\Users\\user\\PycharmProjects\\spbu_deep_learning1\\homeworks\\rnn_hw\\test\\images\\2367.jpg: 640x480 (no detections), 21.1ms\n",
      "Speed: 0.0ms preprocess, 21.1ms inference, 0.0ms postprocess per image at shape (1, 3, 640, 480)\n",
      "\n",
      "image 1/1 C:\\Users\\user\\PycharmProjects\\spbu_deep_learning1\\homeworks\\rnn_hw\\test\\images\\2368.jpg: 640x544 1 scissors, 26.1ms\n",
      "Speed: 0.0ms preprocess, 26.1ms inference, 0.0ms postprocess per image at shape (1, 3, 640, 544)\n",
      "\n",
      "image 1/1 C:\\Users\\user\\PycharmProjects\\spbu_deep_learning1\\homeworks\\rnn_hw\\test\\images\\238.jpg: 448x640 (no detections), 15.6ms\n",
      "Speed: 0.0ms preprocess, 15.6ms inference, 0.0ms postprocess per image at shape (1, 3, 448, 640)\n",
      "\n",
      "image 1/1 C:\\Users\\user\\PycharmProjects\\spbu_deep_learning1\\homeworks\\rnn_hw\\test\\images\\2389.jpg: 544x640 (no detections), 31.2ms\n",
      "Speed: 0.0ms preprocess, 31.2ms inference, 0.0ms postprocess per image at shape (1, 3, 544, 640)\n",
      "\n",
      "image 1/1 C:\\Users\\user\\PycharmProjects\\spbu_deep_learning1\\homeworks\\rnn_hw\\test\\images\\2398.jpg: 640x640 3 persons, 1 dog, 27.1ms\n",
      "Speed: 0.0ms preprocess, 27.1ms inference, 0.0ms postprocess per image at shape (1, 3, 640, 640)\n",
      "\n",
      "image 1/1 C:\\Users\\user\\PycharmProjects\\spbu_deep_learning1\\homeworks\\rnn_hw\\test\\images\\2399.jpg: 640x640 1 person, 15.6ms\n",
      "Speed: 0.0ms preprocess, 15.6ms inference, 0.0ms postprocess per image at shape (1, 3, 640, 640)\n",
      "\n",
      "image 1/1 C:\\Users\\user\\PycharmProjects\\spbu_deep_learning1\\homeworks\\rnn_hw\\test\\images\\24.jpg: 480x640 2 boats, 31.3ms\n",
      "Speed: 0.0ms preprocess, 31.3ms inference, 0.0ms postprocess per image at shape (1, 3, 480, 640)\n",
      "\n",
      "image 1/1 C:\\Users\\user\\PycharmProjects\\spbu_deep_learning1\\homeworks\\rnn_hw\\test\\images\\240.jpg: 640x416 1 person, 40.3ms\n",
      "Speed: 0.0ms preprocess, 40.3ms inference, 0.0ms postprocess per image at shape (1, 3, 640, 416)\n",
      "\n",
      "image 1/1 C:\\Users\\user\\PycharmProjects\\spbu_deep_learning1\\homeworks\\rnn_hw\\test\\images\\2400.jpg: 640x512 1 vase, 15.6ms\n",
      "Speed: 7.0ms preprocess, 15.6ms inference, 0.0ms postprocess per image at shape (1, 3, 640, 512)\n",
      "\n",
      "image 1/1 C:\\Users\\user\\PycharmProjects\\spbu_deep_learning1\\homeworks\\rnn_hw\\test\\images\\2401.jpg: 640x480 1 book, 31.3ms\n",
      "Speed: 0.0ms preprocess, 31.3ms inference, 0.0ms postprocess per image at shape (1, 3, 640, 480)\n",
      "\n",
      "image 1/1 C:\\Users\\user\\PycharmProjects\\spbu_deep_learning1\\homeworks\\rnn_hw\\test\\images\\2402.jpg: 640x416 1 scissors, 15.6ms\n",
      "Speed: 0.0ms preprocess, 15.6ms inference, 0.0ms postprocess per image at shape (1, 3, 640, 416)\n",
      "\n",
      "image 1/1 C:\\Users\\user\\PycharmProjects\\spbu_deep_learning1\\homeworks\\rnn_hw\\test\\images\\2403.jpg: 640x384 (no detections), 31.6ms\n",
      "Speed: 0.0ms preprocess, 31.6ms inference, 0.0ms postprocess per image at shape (1, 3, 640, 384)\n",
      "\n",
      "image 1/1 C:\\Users\\user\\PycharmProjects\\spbu_deep_learning1\\homeworks\\rnn_hw\\test\\images\\2406.jpg: 640x544 1 potted plant, 1 vase, 15.6ms\n",
      "Speed: 0.0ms preprocess, 15.6ms inference, 0.0ms postprocess per image at shape (1, 3, 640, 544)\n",
      "\n",
      "image 1/1 C:\\Users\\user\\PycharmProjects\\spbu_deep_learning1\\homeworks\\rnn_hw\\test\\images\\2407.jpg: 640x544 (no detections), 23.3ms\n",
      "Speed: 0.0ms preprocess, 23.3ms inference, 0.0ms postprocess per image at shape (1, 3, 640, 544)\n",
      "\n",
      "image 1/1 C:\\Users\\user\\PycharmProjects\\spbu_deep_learning1\\homeworks\\rnn_hw\\test\\images\\2409.jpg: 640x384 1 scissors, 23.6ms\n",
      "Speed: 0.0ms preprocess, 23.6ms inference, 0.0ms postprocess per image at shape (1, 3, 640, 384)\n",
      "\n",
      "image 1/1 C:\\Users\\user\\PycharmProjects\\spbu_deep_learning1\\homeworks\\rnn_hw\\test\\images\\241.jpg: 640x416 5 persons, 1 bowl, 21.1ms\n",
      "Speed: 0.0ms preprocess, 21.1ms inference, 0.0ms postprocess per image at shape (1, 3, 640, 416)\n",
      "\n",
      "image 1/1 C:\\Users\\user\\PycharmProjects\\spbu_deep_learning1\\homeworks\\rnn_hw\\test\\images\\2411.jpg: 640x512 1 tie, 15.6ms\n",
      "Speed: 0.0ms preprocess, 15.6ms inference, 0.0ms postprocess per image at shape (1, 3, 640, 512)\n",
      "\n",
      "image 1/1 C:\\Users\\user\\PycharmProjects\\spbu_deep_learning1\\homeworks\\rnn_hw\\test\\images\\2415.jpg: 480x640 1 scissors, 15.6ms\n",
      "Speed: 0.0ms preprocess, 15.6ms inference, 0.0ms postprocess per image at shape (1, 3, 480, 640)\n",
      "\n",
      "image 1/1 C:\\Users\\user\\PycharmProjects\\spbu_deep_learning1\\homeworks\\rnn_hw\\test\\images\\2417.jpg: 544x640 1 bed, 15.6ms\n",
      "Speed: 0.0ms preprocess, 15.6ms inference, 0.0ms postprocess per image at shape (1, 3, 544, 640)\n",
      "\n",
      "image 1/1 C:\\Users\\user\\PycharmProjects\\spbu_deep_learning1\\homeworks\\rnn_hw\\test\\images\\2420.jpg: 544x640 1 book, 31.6ms\n",
      "Speed: 0.0ms preprocess, 31.6ms inference, 0.0ms postprocess per image at shape (1, 3, 544, 640)\n",
      "\n",
      "image 1/1 C:\\Users\\user\\PycharmProjects\\spbu_deep_learning1\\homeworks\\rnn_hw\\test\\images\\2421.jpg: 640x544 1 vase, 15.6ms\n",
      "Speed: 0.0ms preprocess, 15.6ms inference, 0.0ms postprocess per image at shape (1, 3, 640, 544)\n",
      "\n",
      "image 1/1 C:\\Users\\user\\PycharmProjects\\spbu_deep_learning1\\homeworks\\rnn_hw\\test\\images\\2429.jpg: 640x480 1 person, 15.6ms\n",
      "Speed: 0.0ms preprocess, 15.6ms inference, 0.0ms postprocess per image at shape (1, 3, 640, 480)\n",
      "\n",
      "image 1/1 C:\\Users\\user\\PycharmProjects\\spbu_deep_learning1\\homeworks\\rnn_hw\\test\\images\\243.jpg: 512x640 (no detections), 31.2ms\n",
      "Speed: 0.0ms preprocess, 31.2ms inference, 0.0ms postprocess per image at shape (1, 3, 512, 640)\n",
      "\n",
      "image 1/1 C:\\Users\\user\\PycharmProjects\\spbu_deep_learning1\\homeworks\\rnn_hw\\test\\images\\2430.jpg: 544x640 1 boat, 17.6ms\n",
      "Speed: 0.0ms preprocess, 17.6ms inference, 0.0ms postprocess per image at shape (1, 3, 544, 640)\n",
      "\n",
      "image 1/1 C:\\Users\\user\\PycharmProjects\\spbu_deep_learning1\\homeworks\\rnn_hw\\test\\images\\2450.jpg: 512x640 (no detections), 15.6ms\n",
      "Speed: 0.0ms preprocess, 15.6ms inference, 0.0ms postprocess per image at shape (1, 3, 512, 640)\n",
      "\n",
      "image 1/1 C:\\Users\\user\\PycharmProjects\\spbu_deep_learning1\\homeworks\\rnn_hw\\test\\images\\2452.jpg: 640x512 (no detections), 32.4ms\n",
      "Speed: 0.0ms preprocess, 32.4ms inference, 0.0ms postprocess per image at shape (1, 3, 640, 512)\n",
      "\n",
      "image 1/1 C:\\Users\\user\\PycharmProjects\\spbu_deep_learning1\\homeworks\\rnn_hw\\test\\images\\2457.jpg: 640x640 1 person, 1 umbrella, 15.0ms\n",
      "Speed: 0.0ms preprocess, 15.0ms inference, 0.0ms postprocess per image at shape (1, 3, 640, 640)\n",
      "\n",
      "image 1/1 C:\\Users\\user\\PycharmProjects\\spbu_deep_learning1\\homeworks\\rnn_hw\\test\\images\\246.jpg: 640x448 (no detections), 16.0ms\n",
      "Speed: 0.0ms preprocess, 16.0ms inference, 0.0ms postprocess per image at shape (1, 3, 640, 448)\n",
      "\n",
      "image 1/1 C:\\Users\\user\\PycharmProjects\\spbu_deep_learning1\\homeworks\\rnn_hw\\test\\images\\2462.jpg: 480x640 1 bird, 15.6ms\n",
      "Speed: 0.0ms preprocess, 15.6ms inference, 0.0ms postprocess per image at shape (1, 3, 480, 640)\n",
      "\n",
      "image 1/1 C:\\Users\\user\\PycharmProjects\\spbu_deep_learning1\\homeworks\\rnn_hw\\test\\images\\2463.jpg: 512x640 (no detections), 31.2ms\n",
      "Speed: 0.0ms preprocess, 31.2ms inference, 0.0ms postprocess per image at shape (1, 3, 512, 640)\n",
      "\n",
      "image 1/1 C:\\Users\\user\\PycharmProjects\\spbu_deep_learning1\\homeworks\\rnn_hw\\test\\images\\2464.jpg: 480x640 (no detections), 15.6ms\n",
      "Speed: 0.0ms preprocess, 15.6ms inference, 0.0ms postprocess per image at shape (1, 3, 480, 640)\n",
      "\n",
      "image 1/1 C:\\Users\\user\\PycharmProjects\\spbu_deep_learning1\\homeworks\\rnn_hw\\test\\images\\2465.jpg: 640x576 (no detections), 18.1ms\n",
      "Speed: 13.5ms preprocess, 18.1ms inference, 0.0ms postprocess per image at shape (1, 3, 640, 576)\n",
      "\n",
      "image 1/1 C:\\Users\\user\\PycharmProjects\\spbu_deep_learning1\\homeworks\\rnn_hw\\test\\images\\2466.jpg: 640x576 1 suitcase, 1 snowboard, 15.6ms\n",
      "Speed: 0.0ms preprocess, 15.6ms inference, 0.0ms postprocess per image at shape (1, 3, 640, 576)\n",
      "\n",
      "image 1/1 C:\\Users\\user\\PycharmProjects\\spbu_deep_learning1\\homeworks\\rnn_hw\\test\\images\\2468.jpg: 480x640 1 person, 15.6ms\n",
      "Speed: 15.6ms preprocess, 15.6ms inference, 0.0ms postprocess per image at shape (1, 3, 480, 640)\n",
      "\n",
      "image 1/1 C:\\Users\\user\\PycharmProjects\\spbu_deep_learning1\\homeworks\\rnn_hw\\test\\images\\2469.jpg: 448x640 (no detections), 15.6ms\n",
      "Speed: 0.0ms preprocess, 15.6ms inference, 0.0ms postprocess per image at shape (1, 3, 448, 640)\n",
      "\n",
      "image 1/1 C:\\Users\\user\\PycharmProjects\\spbu_deep_learning1\\homeworks\\rnn_hw\\test\\images\\2474.jpg: 512x640 1 bird, 16.0ms\n",
      "Speed: 0.0ms preprocess, 16.0ms inference, 0.0ms postprocess per image at shape (1, 3, 512, 640)\n",
      "\n",
      "image 1/1 C:\\Users\\user\\PycharmProjects\\spbu_deep_learning1\\homeworks\\rnn_hw\\test\\images\\2475.jpg: 480x640 (no detections), 15.7ms\n",
      "Speed: 0.0ms preprocess, 15.7ms inference, 0.0ms postprocess per image at shape (1, 3, 480, 640)\n",
      "\n",
      "image 1/1 C:\\Users\\user\\PycharmProjects\\spbu_deep_learning1\\homeworks\\rnn_hw\\test\\images\\2480.jpg: 640x448 (no detections), 15.6ms\n",
      "Speed: 0.0ms preprocess, 15.6ms inference, 0.0ms postprocess per image at shape (1, 3, 640, 448)\n",
      "\n",
      "image 1/1 C:\\Users\\user\\PycharmProjects\\spbu_deep_learning1\\homeworks\\rnn_hw\\test\\images\\2481.jpg: 544x640 1 bird, 33.3ms\n",
      "Speed: 0.0ms preprocess, 33.3ms inference, 0.0ms postprocess per image at shape (1, 3, 544, 640)\n",
      "\n",
      "image 1/1 C:\\Users\\user\\PycharmProjects\\spbu_deep_learning1\\homeworks\\rnn_hw\\test\\images\\2488.jpg: 448x640 1 potted plant, 29.6ms\n",
      "Speed: 0.0ms preprocess, 29.6ms inference, 0.0ms postprocess per image at shape (1, 3, 448, 640)\n",
      "\n",
      "image 1/1 C:\\Users\\user\\PycharmProjects\\spbu_deep_learning1\\homeworks\\rnn_hw\\test\\images\\2499.jpg: 480x640 1 bird, 32.5ms\n",
      "Speed: 0.0ms preprocess, 32.5ms inference, 0.0ms postprocess per image at shape (1, 3, 480, 640)\n",
      "\n",
      "image 1/1 C:\\Users\\user\\PycharmProjects\\spbu_deep_learning1\\homeworks\\rnn_hw\\test\\images\\2501.jpg: 448x640 1 bird, 1 clock, 30.1ms\n",
      "Speed: 0.0ms preprocess, 30.1ms inference, 0.0ms postprocess per image at shape (1, 3, 448, 640)\n",
      "\n",
      "image 1/1 C:\\Users\\user\\PycharmProjects\\spbu_deep_learning1\\homeworks\\rnn_hw\\test\\images\\2502.jpg: 448x640 1 airplane, 23.6ms\n",
      "Speed: 0.0ms preprocess, 23.6ms inference, 0.0ms postprocess per image at shape (1, 3, 448, 640)\n",
      "\n",
      "image 1/1 C:\\Users\\user\\PycharmProjects\\spbu_deep_learning1\\homeworks\\rnn_hw\\test\\images\\2503.jpg: 448x640 5 boats, 15.6ms\n",
      "Speed: 0.0ms preprocess, 15.6ms inference, 0.0ms postprocess per image at shape (1, 3, 448, 640)\n",
      "\n",
      "image 1/1 C:\\Users\\user\\PycharmProjects\\spbu_deep_learning1\\homeworks\\rnn_hw\\test\\images\\2509.jpg: 608x640 (no detections), 15.6ms\n",
      "Speed: 0.0ms preprocess, 15.6ms inference, 0.0ms postprocess per image at shape (1, 3, 608, 640)\n",
      "\n",
      "image 1/1 C:\\Users\\user\\PycharmProjects\\spbu_deep_learning1\\homeworks\\rnn_hw\\test\\images\\2511.jpg: 640x192 1 person, 29.6ms\n",
      "Speed: 0.0ms preprocess, 29.6ms inference, 0.0ms postprocess per image at shape (1, 3, 640, 192)\n",
      "\n",
      "image 1/1 C:\\Users\\user\\PycharmProjects\\spbu_deep_learning1\\homeworks\\rnn_hw\\test\\images\\2515.jpg: 640x512 (no detections), 15.6ms\n",
      "Speed: 0.0ms preprocess, 15.6ms inference, 0.0ms postprocess per image at shape (1, 3, 640, 512)\n",
      "\n",
      "image 1/1 C:\\Users\\user\\PycharmProjects\\spbu_deep_learning1\\homeworks\\rnn_hw\\test\\images\\2516.jpg: 640x416 (no detections), 15.6ms\n",
      "Speed: 15.6ms preprocess, 15.6ms inference, 0.0ms postprocess per image at shape (1, 3, 640, 416)\n",
      "\n",
      "image 1/1 C:\\Users\\user\\PycharmProjects\\spbu_deep_learning1\\homeworks\\rnn_hw\\test\\images\\2520.jpg: 640x640 (no detections), 31.3ms\n",
      "Speed: 0.0ms preprocess, 31.3ms inference, 0.0ms postprocess per image at shape (1, 3, 640, 640)\n",
      "\n",
      "image 1/1 C:\\Users\\user\\PycharmProjects\\spbu_deep_learning1\\homeworks\\rnn_hw\\test\\images\\2522.jpg: 640x640 1 toilet, 20.1ms\n",
      "Speed: 0.0ms preprocess, 20.1ms inference, 0.0ms postprocess per image at shape (1, 3, 640, 640)\n",
      "\n",
      "image 1/1 C:\\Users\\user\\PycharmProjects\\spbu_deep_learning1\\homeworks\\rnn_hw\\test\\images\\2527.jpg: 640x416 1 kite, 15.6ms\n",
      "Speed: 0.0ms preprocess, 15.6ms inference, 0.0ms postprocess per image at shape (1, 3, 640, 416)\n",
      "\n",
      "image 1/1 C:\\Users\\user\\PycharmProjects\\spbu_deep_learning1\\homeworks\\rnn_hw\\test\\images\\2529.jpg: 640x448 (no detections), 31.3ms\n",
      "Speed: 0.0ms preprocess, 31.3ms inference, 0.0ms postprocess per image at shape (1, 3, 640, 448)\n",
      "\n",
      "image 1/1 C:\\Users\\user\\PycharmProjects\\spbu_deep_learning1\\homeworks\\rnn_hw\\test\\images\\2531.jpg: 480x640 (no detections), 31.2ms\n",
      "Speed: 0.0ms preprocess, 31.2ms inference, 0.0ms postprocess per image at shape (1, 3, 480, 640)\n",
      "\n",
      "image 1/1 C:\\Users\\user\\PycharmProjects\\spbu_deep_learning1\\homeworks\\rnn_hw\\test\\images\\2542.jpg: 640x480 1 chair, 16.0ms\n",
      "Speed: 0.0ms preprocess, 16.0ms inference, 0.0ms postprocess per image at shape (1, 3, 640, 480)\n",
      "\n",
      "image 1/1 C:\\Users\\user\\PycharmProjects\\spbu_deep_learning1\\homeworks\\rnn_hw\\test\\images\\2546.jpg: 480x640 2 scissorss, 15.6ms\n",
      "Speed: 0.0ms preprocess, 15.6ms inference, 0.0ms postprocess per image at shape (1, 3, 480, 640)\n",
      "\n",
      "image 1/1 C:\\Users\\user\\PycharmProjects\\spbu_deep_learning1\\homeworks\\rnn_hw\\test\\images\\2547.jpg: 640x640 (no detections), 17.6ms\n",
      "Speed: 15.6ms preprocess, 17.6ms inference, 0.0ms postprocess per image at shape (1, 3, 640, 640)\n",
      "\n",
      "image 1/1 C:\\Users\\user\\PycharmProjects\\spbu_deep_learning1\\homeworks\\rnn_hw\\test\\images\\255.jpg: 448x640 (no detections), 30.1ms\n",
      "Speed: 0.0ms preprocess, 30.1ms inference, 0.0ms postprocess per image at shape (1, 3, 448, 640)\n",
      "\n",
      "image 1/1 C:\\Users\\user\\PycharmProjects\\spbu_deep_learning1\\homeworks\\rnn_hw\\test\\images\\2550.jpg: 640x416 1 person, 31.1ms\n",
      "Speed: 0.0ms preprocess, 31.1ms inference, 0.0ms postprocess per image at shape (1, 3, 640, 416)\n",
      "\n",
      "image 1/1 C:\\Users\\user\\PycharmProjects\\spbu_deep_learning1\\homeworks\\rnn_hw\\test\\images\\2553.jpg: 640x448 5 persons, 15.6ms\n",
      "Speed: 0.0ms preprocess, 15.6ms inference, 0.0ms postprocess per image at shape (1, 3, 640, 448)\n",
      "\n",
      "image 1/1 C:\\Users\\user\\PycharmProjects\\spbu_deep_learning1\\homeworks\\rnn_hw\\test\\images\\2558.jpg: 640x544 1 person, 15.6ms\n",
      "Speed: 15.6ms preprocess, 15.6ms inference, 0.0ms postprocess per image at shape (1, 3, 640, 544)\n",
      "\n",
      "image 1/1 C:\\Users\\user\\PycharmProjects\\spbu_deep_learning1\\homeworks\\rnn_hw\\test\\images\\256.jpg: 448x640 1 broccoli, 22.1ms\n",
      "Speed: 0.0ms preprocess, 22.1ms inference, 0.0ms postprocess per image at shape (1, 3, 448, 640)\n",
      "\n",
      "image 1/1 C:\\Users\\user\\PycharmProjects\\spbu_deep_learning1\\homeworks\\rnn_hw\\test\\images\\2561.jpg: 640x576 (no detections), 20.6ms\n",
      "Speed: 0.0ms preprocess, 20.6ms inference, 0.0ms postprocess per image at shape (1, 3, 640, 576)\n",
      "\n",
      "image 1/1 C:\\Users\\user\\PycharmProjects\\spbu_deep_learning1\\homeworks\\rnn_hw\\test\\images\\2565.jpg: 640x448 (no detections), 15.6ms\n",
      "Speed: 0.0ms preprocess, 15.6ms inference, 0.0ms postprocess per image at shape (1, 3, 640, 448)\n",
      "\n",
      "image 1/1 C:\\Users\\user\\PycharmProjects\\spbu_deep_learning1\\homeworks\\rnn_hw\\test\\images\\257.jpg: 640x640 (no detections), 15.6ms\n",
      "Speed: 15.6ms preprocess, 15.6ms inference, 0.0ms postprocess per image at shape (1, 3, 640, 640)\n",
      "\n",
      "image 1/1 C:\\Users\\user\\PycharmProjects\\spbu_deep_learning1\\homeworks\\rnn_hw\\test\\images\\2573.jpg: 640x480 1 umbrella, 22.9ms\n",
      "Speed: 0.0ms preprocess, 22.9ms inference, 0.0ms postprocess per image at shape (1, 3, 640, 480)\n",
      "\n",
      "image 1/1 C:\\Users\\user\\PycharmProjects\\spbu_deep_learning1\\homeworks\\rnn_hw\\test\\images\\2574.jpg: 640x448 1 person, 1 bird, 1 surfboard, 15.6ms\n",
      "Speed: 0.0ms preprocess, 15.6ms inference, 0.0ms postprocess per image at shape (1, 3, 640, 448)\n",
      "\n",
      "image 1/1 C:\\Users\\user\\PycharmProjects\\spbu_deep_learning1\\homeworks\\rnn_hw\\test\\images\\2575.jpg: 640x480 (no detections), 15.6ms\n",
      "Speed: 0.0ms preprocess, 15.6ms inference, 0.0ms postprocess per image at shape (1, 3, 640, 480)\n",
      "\n",
      "image 1/1 C:\\Users\\user\\PycharmProjects\\spbu_deep_learning1\\homeworks\\rnn_hw\\test\\images\\2578.jpg: 640x640 1 umbrella, 1 vase, 15.6ms\n",
      "Speed: 0.0ms preprocess, 15.6ms inference, 0.0ms postprocess per image at shape (1, 3, 640, 640)\n",
      "\n",
      "image 1/1 C:\\Users\\user\\PycharmProjects\\spbu_deep_learning1\\homeworks\\rnn_hw\\test\\images\\2579.jpg: 608x640 (no detections), 31.6ms\n",
      "Speed: 0.0ms preprocess, 31.6ms inference, 0.0ms postprocess per image at shape (1, 3, 608, 640)\n",
      "\n",
      "image 1/1 C:\\Users\\user\\PycharmProjects\\spbu_deep_learning1\\homeworks\\rnn_hw\\test\\images\\2585.jpg: 640x608 1 airplane, 1 umbrella, 15.6ms\n",
      "Speed: 0.0ms preprocess, 15.6ms inference, 0.0ms postprocess per image at shape (1, 3, 640, 608)\n",
      "\n",
      "image 1/1 C:\\Users\\user\\PycharmProjects\\spbu_deep_learning1\\homeworks\\rnn_hw\\test\\images\\2586.jpg: 640x512 1 umbrella, 31.3ms\n",
      "Speed: 0.0ms preprocess, 31.3ms inference, 0.0ms postprocess per image at shape (1, 3, 640, 512)\n",
      "\n",
      "image 1/1 C:\\Users\\user\\PycharmProjects\\spbu_deep_learning1\\homeworks\\rnn_hw\\test\\images\\2590.jpg: 640x480 1 person, 15.6ms\n",
      "Speed: 0.0ms preprocess, 15.6ms inference, 0.0ms postprocess per image at shape (1, 3, 640, 480)\n",
      "\n",
      "image 1/1 C:\\Users\\user\\PycharmProjects\\spbu_deep_learning1\\homeworks\\rnn_hw\\test\\images\\2593.jpg: 640x448 1 clock, 19.6ms\n",
      "Speed: 0.0ms preprocess, 19.6ms inference, 0.0ms postprocess per image at shape (1, 3, 640, 448)\n",
      "\n",
      "image 1/1 C:\\Users\\user\\PycharmProjects\\spbu_deep_learning1\\homeworks\\rnn_hw\\test\\images\\2598.jpg: 640x576 (no detections), 12.0ms\n",
      "Speed: 0.0ms preprocess, 12.0ms inference, 0.0ms postprocess per image at shape (1, 3, 640, 576)\n",
      "\n",
      "image 1/1 C:\\Users\\user\\PycharmProjects\\spbu_deep_learning1\\homeworks\\rnn_hw\\test\\images\\2602.jpg: 640x416 (no detections), 15.6ms\n",
      "Speed: 0.0ms preprocess, 15.6ms inference, 0.0ms postprocess per image at shape (1, 3, 640, 416)\n",
      "\n",
      "image 1/1 C:\\Users\\user\\PycharmProjects\\spbu_deep_learning1\\homeworks\\rnn_hw\\test\\images\\2604.jpg: 640x352 (no detections), 15.6ms\n",
      "Speed: 0.0ms preprocess, 15.6ms inference, 0.0ms postprocess per image at shape (1, 3, 640, 352)\n",
      "\n",
      "image 1/1 C:\\Users\\user\\PycharmProjects\\spbu_deep_learning1\\homeworks\\rnn_hw\\test\\images\\261.jpg: 640x512 1 tie, 15.6ms\n",
      "Speed: 0.0ms preprocess, 15.6ms inference, 0.0ms postprocess per image at shape (1, 3, 640, 512)\n",
      "\n",
      "image 1/1 C:\\Users\\user\\PycharmProjects\\spbu_deep_learning1\\homeworks\\rnn_hw\\test\\images\\2610.jpg: 640x608 (no detections), 21.6ms\n",
      "Speed: 0.0ms preprocess, 21.6ms inference, 0.0ms postprocess per image at shape (1, 3, 640, 608)\n",
      "\n",
      "image 1/1 C:\\Users\\user\\PycharmProjects\\spbu_deep_learning1\\homeworks\\rnn_hw\\test\\images\\2611.jpg: 640x640 (no detections), 15.6ms\n",
      "Speed: 0.0ms preprocess, 15.6ms inference, 0.0ms postprocess per image at shape (1, 3, 640, 640)\n",
      "\n",
      "image 1/1 C:\\Users\\user\\PycharmProjects\\spbu_deep_learning1\\homeworks\\rnn_hw\\test\\images\\2612.jpg: 640x448 (no detections), 31.2ms\n",
      "Speed: 0.0ms preprocess, 31.2ms inference, 0.0ms postprocess per image at shape (1, 3, 640, 448)\n",
      "\n",
      "image 1/1 C:\\Users\\user\\PycharmProjects\\spbu_deep_learning1\\homeworks\\rnn_hw\\test\\images\\2614.jpg: 640x480 2 clocks, 15.6ms\n",
      "Speed: 0.0ms preprocess, 15.6ms inference, 0.0ms postprocess per image at shape (1, 3, 640, 480)\n",
      "\n",
      "image 1/1 C:\\Users\\user\\PycharmProjects\\spbu_deep_learning1\\homeworks\\rnn_hw\\test\\images\\2615.jpg: 640x640 (no detections), 31.6ms\n",
      "Speed: 0.0ms preprocess, 31.6ms inference, 0.0ms postprocess per image at shape (1, 3, 640, 640)\n",
      "\n",
      "image 1/1 C:\\Users\\user\\PycharmProjects\\spbu_deep_learning1\\homeworks\\rnn_hw\\test\\images\\2616.jpg: 640x608 1 book, 17.0ms\n",
      "Speed: 0.0ms preprocess, 17.0ms inference, 0.0ms postprocess per image at shape (1, 3, 640, 608)\n",
      "\n",
      "image 1/1 C:\\Users\\user\\PycharmProjects\\spbu_deep_learning1\\homeworks\\rnn_hw\\test\\images\\2617.jpg: 640x576 1 book, 31.3ms\n",
      "Speed: 0.0ms preprocess, 31.3ms inference, 0.0ms postprocess per image at shape (1, 3, 640, 576)\n",
      "\n",
      "image 1/1 C:\\Users\\user\\PycharmProjects\\spbu_deep_learning1\\homeworks\\rnn_hw\\test\\images\\2620.jpg: 640x640 (no detections), 31.2ms\n",
      "Speed: 0.0ms preprocess, 31.2ms inference, 0.0ms postprocess per image at shape (1, 3, 640, 640)\n",
      "\n",
      "image 1/1 C:\\Users\\user\\PycharmProjects\\spbu_deep_learning1\\homeworks\\rnn_hw\\test\\images\\2621.jpg: 640x544 (no detections), 11.0ms\n",
      "Speed: 5.0ms preprocess, 11.0ms inference, 0.0ms postprocess per image at shape (1, 3, 640, 544)\n",
      "\n",
      "image 1/1 C:\\Users\\user\\PycharmProjects\\spbu_deep_learning1\\homeworks\\rnn_hw\\test\\images\\2622.jpg: 640x416 (no detections), 15.6ms\n",
      "Speed: 0.0ms preprocess, 15.6ms inference, 0.0ms postprocess per image at shape (1, 3, 640, 416)\n",
      "\n",
      "image 1/1 C:\\Users\\user\\PycharmProjects\\spbu_deep_learning1\\homeworks\\rnn_hw\\test\\images\\2623.jpg: 640x448 (no detections), 15.6ms\n",
      "Speed: 0.0ms preprocess, 15.6ms inference, 0.0ms postprocess per image at shape (1, 3, 640, 448)\n",
      "\n",
      "image 1/1 C:\\Users\\user\\PycharmProjects\\spbu_deep_learning1\\homeworks\\rnn_hw\\test\\images\\2626.jpg: 640x512 (no detections), 15.6ms\n",
      "Speed: 0.0ms preprocess, 15.6ms inference, 0.0ms postprocess per image at shape (1, 3, 640, 512)\n",
      "\n",
      "image 1/1 C:\\Users\\user\\PycharmProjects\\spbu_deep_learning1\\homeworks\\rnn_hw\\test\\images\\2627.jpg: 640x640 1 book, 16.0ms\n",
      "Speed: 0.0ms preprocess, 16.0ms inference, 0.0ms postprocess per image at shape (1, 3, 640, 640)\n",
      "\n",
      "image 1/1 C:\\Users\\user\\PycharmProjects\\spbu_deep_learning1\\homeworks\\rnn_hw\\test\\images\\2628.jpg: 640x640 (no detections), 15.6ms\n",
      "Speed: 15.6ms preprocess, 15.6ms inference, 0.0ms postprocess per image at shape (1, 3, 640, 640)\n",
      "\n",
      "image 1/1 C:\\Users\\user\\PycharmProjects\\spbu_deep_learning1\\homeworks\\rnn_hw\\test\\images\\263.jpg: 640x512 (no detections), 15.6ms\n",
      "Speed: 0.0ms preprocess, 15.6ms inference, 0.0ms postprocess per image at shape (1, 3, 640, 512)\n",
      "\n",
      "image 1/1 C:\\Users\\user\\PycharmProjects\\spbu_deep_learning1\\homeworks\\rnn_hw\\test\\images\\2631.jpg: 640x576 (no detections), 16.0ms\n",
      "Speed: 0.0ms preprocess, 16.0ms inference, 0.0ms postprocess per image at shape (1, 3, 640, 576)\n",
      "\n",
      "image 1/1 C:\\Users\\user\\PycharmProjects\\spbu_deep_learning1\\homeworks\\rnn_hw\\test\\images\\2632.jpg: 640x448 1 clock, 16.6ms\n",
      "Speed: 0.0ms preprocess, 16.6ms inference, 15.0ms postprocess per image at shape (1, 3, 640, 448)\n",
      "\n",
      "image 1/1 C:\\Users\\user\\PycharmProjects\\spbu_deep_learning1\\homeworks\\rnn_hw\\test\\images\\2633.jpg: 640x576 1 clock, 15.6ms\n",
      "Speed: 0.0ms preprocess, 15.6ms inference, 0.0ms postprocess per image at shape (1, 3, 640, 576)\n",
      "\n",
      "image 1/1 C:\\Users\\user\\PycharmProjects\\spbu_deep_learning1\\homeworks\\rnn_hw\\test\\images\\2637.jpg: 640x640 (no detections), 31.2ms\n",
      "Speed: 0.0ms preprocess, 31.2ms inference, 0.0ms postprocess per image at shape (1, 3, 640, 640)\n",
      "\n",
      "image 1/1 C:\\Users\\user\\PycharmProjects\\spbu_deep_learning1\\homeworks\\rnn_hw\\test\\images\\2638.jpg: 640x512 (no detections), 15.6ms\n",
      "Speed: 0.0ms preprocess, 15.6ms inference, 0.0ms postprocess per image at shape (1, 3, 640, 512)\n",
      "\n",
      "image 1/1 C:\\Users\\user\\PycharmProjects\\spbu_deep_learning1\\homeworks\\rnn_hw\\test\\images\\2641.jpg: 640x512 (no detections), 16.0ms\n",
      "Speed: 15.6ms preprocess, 16.0ms inference, 0.0ms postprocess per image at shape (1, 3, 640, 512)\n",
      "\n",
      "image 1/1 C:\\Users\\user\\PycharmProjects\\spbu_deep_learning1\\homeworks\\rnn_hw\\test\\images\\2643.jpg: 640x576 1 clock, 15.6ms\n",
      "Speed: 0.0ms preprocess, 15.6ms inference, 0.0ms postprocess per image at shape (1, 3, 640, 576)\n",
      "\n",
      "image 1/1 C:\\Users\\user\\PycharmProjects\\spbu_deep_learning1\\homeworks\\rnn_hw\\test\\images\\2644.jpg: 640x512 (no detections), 15.6ms\n",
      "Speed: 0.0ms preprocess, 15.6ms inference, 0.0ms postprocess per image at shape (1, 3, 640, 512)\n",
      "\n",
      "image 1/1 C:\\Users\\user\\PycharmProjects\\spbu_deep_learning1\\homeworks\\rnn_hw\\test\\images\\2650.jpg: 640x448 (no detections), 15.6ms\n",
      "Speed: 0.0ms preprocess, 15.6ms inference, 0.0ms postprocess per image at shape (1, 3, 640, 448)\n",
      "\n",
      "image 1/1 C:\\Users\\user\\PycharmProjects\\spbu_deep_learning1\\homeworks\\rnn_hw\\test\\images\\2654.jpg: 640x448 (no detections), 16.0ms\n",
      "Speed: 0.0ms preprocess, 16.0ms inference, 0.0ms postprocess per image at shape (1, 3, 640, 448)\n",
      "\n",
      "image 1/1 C:\\Users\\user\\PycharmProjects\\spbu_deep_learning1\\homeworks\\rnn_hw\\test\\images\\2659.jpg: 640x480 (no detections), 15.6ms\n",
      "Speed: 0.0ms preprocess, 15.6ms inference, 0.0ms postprocess per image at shape (1, 3, 640, 480)\n",
      "\n",
      "image 1/1 C:\\Users\\user\\PycharmProjects\\spbu_deep_learning1\\homeworks\\rnn_hw\\test\\images\\2664.jpg: 512x640 (no detections), 15.6ms\n",
      "Speed: 0.0ms preprocess, 15.6ms inference, 0.0ms postprocess per image at shape (1, 3, 512, 640)\n",
      "\n",
      "image 1/1 C:\\Users\\user\\PycharmProjects\\spbu_deep_learning1\\homeworks\\rnn_hw\\test\\images\\2670.jpg: 544x640 2 persons, 1 surfboard, 15.6ms\n",
      "Speed: 0.0ms preprocess, 15.6ms inference, 0.0ms postprocess per image at shape (1, 3, 544, 640)\n",
      "\n",
      "image 1/1 C:\\Users\\user\\PycharmProjects\\spbu_deep_learning1\\homeworks\\rnn_hw\\test\\images\\2671.jpg: 640x512 2 persons, 1 bed, 31.7ms\n",
      "Speed: 0.0ms preprocess, 31.7ms inference, 0.0ms postprocess per image at shape (1, 3, 640, 512)\n",
      "\n",
      "image 1/1 C:\\Users\\user\\PycharmProjects\\spbu_deep_learning1\\homeworks\\rnn_hw\\test\\images\\2674.jpg: 640x480 (no detections), 15.6ms\n",
      "Speed: 0.0ms preprocess, 15.6ms inference, 0.0ms postprocess per image at shape (1, 3, 640, 480)\n",
      "\n",
      "image 1/1 C:\\Users\\user\\PycharmProjects\\spbu_deep_learning1\\homeworks\\rnn_hw\\test\\images\\2675.jpg: 640x640 1 book, 15.6ms\n",
      "Speed: 15.6ms preprocess, 15.6ms inference, 0.0ms postprocess per image at shape (1, 3, 640, 640)\n",
      "\n",
      "image 1/1 C:\\Users\\user\\PycharmProjects\\spbu_deep_learning1\\homeworks\\rnn_hw\\test\\images\\2676.jpg: 576x640 1 person, 1 bed, 15.6ms\n",
      "Speed: 0.0ms preprocess, 15.6ms inference, 0.0ms postprocess per image at shape (1, 3, 576, 640)\n",
      "\n",
      "image 1/1 C:\\Users\\user\\PycharmProjects\\spbu_deep_learning1\\homeworks\\rnn_hw\\test\\images\\2677.jpg: 512x640 (no detections), 19.7ms\n",
      "Speed: 0.0ms preprocess, 19.7ms inference, 0.0ms postprocess per image at shape (1, 3, 512, 640)\n",
      "\n",
      "image 1/1 C:\\Users\\user\\PycharmProjects\\spbu_deep_learning1\\homeworks\\rnn_hw\\test\\images\\2678.jpg: 448x640 1 bed, 15.6ms\n",
      "Speed: 0.0ms preprocess, 15.6ms inference, 0.0ms postprocess per image at shape (1, 3, 448, 640)\n",
      "\n",
      "image 1/1 C:\\Users\\user\\PycharmProjects\\spbu_deep_learning1\\homeworks\\rnn_hw\\test\\images\\2681.jpg: 640x608 1 potted plant, 1 book, 1 vase, 15.6ms\n",
      "Speed: 0.0ms preprocess, 15.6ms inference, 0.0ms postprocess per image at shape (1, 3, 640, 608)\n",
      "\n",
      "image 1/1 C:\\Users\\user\\PycharmProjects\\spbu_deep_learning1\\homeworks\\rnn_hw\\test\\images\\2682.jpg: 640x608 1 potted plant, 1 vase, 15.6ms\n",
      "Speed: 0.0ms preprocess, 15.6ms inference, 0.0ms postprocess per image at shape (1, 3, 640, 608)\n",
      "\n",
      "image 1/1 C:\\Users\\user\\PycharmProjects\\spbu_deep_learning1\\homeworks\\rnn_hw\\test\\images\\2686.jpg: 640x448 1 couch, 31.6ms\n",
      "Speed: 0.0ms preprocess, 31.6ms inference, 0.0ms postprocess per image at shape (1, 3, 640, 448)\n",
      "\n",
      "image 1/1 C:\\Users\\user\\PycharmProjects\\spbu_deep_learning1\\homeworks\\rnn_hw\\test\\images\\2687.jpg: 480x640 1 bird, 1 bed, 15.6ms\n",
      "Speed: 0.0ms preprocess, 15.6ms inference, 0.0ms postprocess per image at shape (1, 3, 480, 640)\n",
      "\n",
      "image 1/1 C:\\Users\\user\\PycharmProjects\\spbu_deep_learning1\\homeworks\\rnn_hw\\test\\images\\2692.jpg: 416x640 4 persons, 1 horse, 15.6ms\n",
      "Speed: 0.0ms preprocess, 15.6ms inference, 0.0ms postprocess per image at shape (1, 3, 416, 640)\n",
      "\n",
      "image 1/1 C:\\Users\\user\\PycharmProjects\\spbu_deep_learning1\\homeworks\\rnn_hw\\test\\images\\2695.jpg: 640x544 1 bird, 15.6ms\n",
      "Speed: 0.0ms preprocess, 15.6ms inference, 0.0ms postprocess per image at shape (1, 3, 640, 544)\n",
      "\n",
      "image 1/1 C:\\Users\\user\\PycharmProjects\\spbu_deep_learning1\\homeworks\\rnn_hw\\test\\images\\2698.jpg: 640x544 1 cake, 20.6ms\n",
      "Speed: 0.0ms preprocess, 20.6ms inference, 0.0ms postprocess per image at shape (1, 3, 640, 544)\n",
      "\n",
      "image 1/1 C:\\Users\\user\\PycharmProjects\\spbu_deep_learning1\\homeworks\\rnn_hw\\test\\images\\27.jpg: 480x640 7 cars, 11.0ms\n",
      "Speed: 0.0ms preprocess, 11.0ms inference, 0.0ms postprocess per image at shape (1, 3, 480, 640)\n",
      "\n",
      "image 1/1 C:\\Users\\user\\PycharmProjects\\spbu_deep_learning1\\homeworks\\rnn_hw\\test\\images\\2700.jpg: 448x640 1 person, 4 cars, 1 truck, 4 kites, 15.6ms\n",
      "Speed: 0.0ms preprocess, 15.6ms inference, 0.0ms postprocess per image at shape (1, 3, 448, 640)\n",
      "\n",
      "image 1/1 C:\\Users\\user\\PycharmProjects\\spbu_deep_learning1\\homeworks\\rnn_hw\\test\\images\\2702.jpg: 608x640 2 dogs, 1 apple, 31.3ms\n",
      "Speed: 0.0ms preprocess, 31.3ms inference, 0.0ms postprocess per image at shape (1, 3, 608, 640)\n",
      "\n",
      "image 1/1 C:\\Users\\user\\PycharmProjects\\spbu_deep_learning1\\homeworks\\rnn_hw\\test\\images\\2709.jpg: 640x448 (no detections), 15.6ms\n",
      "Speed: 0.0ms preprocess, 15.6ms inference, 0.0ms postprocess per image at shape (1, 3, 640, 448)\n",
      "\n",
      "image 1/1 C:\\Users\\user\\PycharmProjects\\spbu_deep_learning1\\homeworks\\rnn_hw\\test\\images\\2712.jpg: 608x640 (no detections), 20.6ms\n",
      "Speed: 0.0ms preprocess, 20.6ms inference, 0.0ms postprocess per image at shape (1, 3, 608, 640)\n",
      "\n",
      "image 1/1 C:\\Users\\user\\PycharmProjects\\spbu_deep_learning1\\homeworks\\rnn_hw\\test\\images\\2714.jpg: 640x448 (no detections), 15.6ms\n",
      "Speed: 0.0ms preprocess, 15.6ms inference, 0.0ms postprocess per image at shape (1, 3, 640, 448)\n",
      "\n",
      "image 1/1 C:\\Users\\user\\PycharmProjects\\spbu_deep_learning1\\homeworks\\rnn_hw\\test\\images\\2724.jpg: 640x448 (no detections), 31.3ms\n",
      "Speed: 0.0ms preprocess, 31.3ms inference, 0.0ms postprocess per image at shape (1, 3, 640, 448)\n",
      "\n",
      "image 1/1 C:\\Users\\user\\PycharmProjects\\spbu_deep_learning1\\homeworks\\rnn_hw\\test\\images\\2725.jpg: 640x448 1 person, 15.6ms\n",
      "Speed: 0.0ms preprocess, 15.6ms inference, 0.0ms postprocess per image at shape (1, 3, 640, 448)\n",
      "\n",
      "image 1/1 C:\\Users\\user\\PycharmProjects\\spbu_deep_learning1\\homeworks\\rnn_hw\\test\\images\\2726.jpg: 640x448 1 person, 1 cup, 1 bowl, 31.6ms\n",
      "Speed: 0.0ms preprocess, 31.6ms inference, 0.0ms postprocess per image at shape (1, 3, 640, 448)\n",
      "\n",
      "image 1/1 C:\\Users\\user\\PycharmProjects\\spbu_deep_learning1\\homeworks\\rnn_hw\\test\\images\\2728.jpg: 640x448 1 person, 1 cell phone, 15.6ms\n",
      "Speed: 0.0ms preprocess, 15.6ms inference, 0.0ms postprocess per image at shape (1, 3, 640, 448)\n",
      "\n",
      "image 1/1 C:\\Users\\user\\PycharmProjects\\spbu_deep_learning1\\homeworks\\rnn_hw\\test\\images\\2729.jpg: 640x480 2 persons, 15.6ms\n",
      "Speed: 0.0ms preprocess, 15.6ms inference, 0.0ms postprocess per image at shape (1, 3, 640, 480)\n",
      "\n",
      "image 1/1 C:\\Users\\user\\PycharmProjects\\spbu_deep_learning1\\homeworks\\rnn_hw\\test\\images\\273.jpg: 544x640 1 person, 31.2ms\n",
      "Speed: 0.0ms preprocess, 31.2ms inference, 0.0ms postprocess per image at shape (1, 3, 544, 640)\n",
      "\n",
      "image 1/1 C:\\Users\\user\\PycharmProjects\\spbu_deep_learning1\\homeworks\\rnn_hw\\test\\images\\2730.jpg: 480x640 2 persons, 1 kite, 16.0ms\n",
      "Speed: 0.0ms preprocess, 16.0ms inference, 0.0ms postprocess per image at shape (1, 3, 480, 640)\n",
      "\n",
      "image 1/1 C:\\Users\\user\\PycharmProjects\\spbu_deep_learning1\\homeworks\\rnn_hw\\test\\images\\2731.jpg: 640x448 1 person, 15.6ms\n",
      "Speed: 0.0ms preprocess, 15.6ms inference, 0.0ms postprocess per image at shape (1, 3, 640, 448)\n",
      "\n",
      "image 1/1 C:\\Users\\user\\PycharmProjects\\spbu_deep_learning1\\homeworks\\rnn_hw\\test\\images\\2732.jpg: 640x576 1 person, 15.6ms\n",
      "Speed: 0.0ms preprocess, 15.6ms inference, 15.6ms postprocess per image at shape (1, 3, 640, 576)\n",
      "\n",
      "image 1/1 C:\\Users\\user\\PycharmProjects\\spbu_deep_learning1\\homeworks\\rnn_hw\\test\\images\\2736.jpg: 640x640 (no detections), 16.0ms\n",
      "Speed: 0.0ms preprocess, 16.0ms inference, 0.0ms postprocess per image at shape (1, 3, 640, 640)\n",
      "\n",
      "image 1/1 C:\\Users\\user\\PycharmProjects\\spbu_deep_learning1\\homeworks\\rnn_hw\\test\\images\\2739.jpg: 640x384 (no detections), 21.5ms\n",
      "Speed: 0.0ms preprocess, 21.5ms inference, 0.0ms postprocess per image at shape (1, 3, 640, 384)\n",
      "\n",
      "image 1/1 C:\\Users\\user\\PycharmProjects\\spbu_deep_learning1\\homeworks\\rnn_hw\\test\\images\\2740.jpg: 192x640 (no detections), 15.6ms\n",
      "Speed: 0.0ms preprocess, 15.6ms inference, 0.0ms postprocess per image at shape (1, 3, 192, 640)\n",
      "\n",
      "image 1/1 C:\\Users\\user\\PycharmProjects\\spbu_deep_learning1\\homeworks\\rnn_hw\\test\\images\\2741.jpg: 640x448 (no detections), 31.3ms\n",
      "Speed: 0.0ms preprocess, 31.3ms inference, 0.0ms postprocess per image at shape (1, 3, 640, 448)\n",
      "\n",
      "image 1/1 C:\\Users\\user\\PycharmProjects\\spbu_deep_learning1\\homeworks\\rnn_hw\\test\\images\\2743.jpg: 448x640 4 chairs, 1 bed, 1 clock, 15.6ms\n",
      "Speed: 0.0ms preprocess, 15.6ms inference, 0.0ms postprocess per image at shape (1, 3, 448, 640)\n",
      "\n",
      "image 1/1 C:\\Users\\user\\PycharmProjects\\spbu_deep_learning1\\homeworks\\rnn_hw\\test\\images\\2752.jpg: 544x640 1 person, 3 boats, 15.5ms\n",
      "Speed: 0.0ms preprocess, 15.5ms inference, 0.0ms postprocess per image at shape (1, 3, 544, 640)\n",
      "\n",
      "image 1/1 C:\\Users\\user\\PycharmProjects\\spbu_deep_learning1\\homeworks\\rnn_hw\\test\\images\\2753.jpg: 448x640 (no detections), 31.3ms\n",
      "Speed: 0.0ms preprocess, 31.3ms inference, 0.0ms postprocess per image at shape (1, 3, 448, 640)\n",
      "\n",
      "image 1/1 C:\\Users\\user\\PycharmProjects\\spbu_deep_learning1\\homeworks\\rnn_hw\\test\\images\\2757.jpg: 384x640 (no detections), 15.6ms\n",
      "Speed: 0.0ms preprocess, 15.6ms inference, 0.0ms postprocess per image at shape (1, 3, 384, 640)\n",
      "\n",
      "image 1/1 C:\\Users\\user\\PycharmProjects\\spbu_deep_learning1\\homeworks\\rnn_hw\\test\\images\\2758.jpg: 480x640 1 bed, 15.6ms\n",
      "Speed: 15.6ms preprocess, 15.6ms inference, 0.0ms postprocess per image at shape (1, 3, 480, 640)\n",
      "\n",
      "image 1/1 C:\\Users\\user\\PycharmProjects\\spbu_deep_learning1\\homeworks\\rnn_hw\\test\\images\\2759.jpg: 416x640 2 boats, 7 cows, 1 skis, 9.5ms\n",
      "Speed: 0.0ms preprocess, 9.5ms inference, 0.0ms postprocess per image at shape (1, 3, 416, 640)\n",
      "\n",
      "image 1/1 C:\\Users\\user\\PycharmProjects\\spbu_deep_learning1\\homeworks\\rnn_hw\\test\\images\\2761.jpg: 512x640 (no detections), 15.6ms\n",
      "Speed: 0.0ms preprocess, 15.6ms inference, 0.0ms postprocess per image at shape (1, 3, 512, 640)\n",
      "\n",
      "image 1/1 C:\\Users\\user\\PycharmProjects\\spbu_deep_learning1\\homeworks\\rnn_hw\\test\\images\\2762.jpg: 448x640 (no detections), 15.6ms\n",
      "Speed: 0.0ms preprocess, 15.6ms inference, 0.0ms postprocess per image at shape (1, 3, 448, 640)\n",
      "\n",
      "image 1/1 C:\\Users\\user\\PycharmProjects\\spbu_deep_learning1\\homeworks\\rnn_hw\\test\\images\\2763.jpg: 480x640 (no detections), 15.6ms\n",
      "Speed: 0.0ms preprocess, 15.6ms inference, 0.0ms postprocess per image at shape (1, 3, 480, 640)\n",
      "\n",
      "image 1/1 C:\\Users\\user\\PycharmProjects\\spbu_deep_learning1\\homeworks\\rnn_hw\\test\\images\\277.jpg: 640x544 (no detections), 31.6ms\n",
      "Speed: 0.0ms preprocess, 31.6ms inference, 0.0ms postprocess per image at shape (1, 3, 640, 544)\n",
      "\n",
      "image 1/1 C:\\Users\\user\\PycharmProjects\\spbu_deep_learning1\\homeworks\\rnn_hw\\test\\images\\2774.jpg: 640x512 1 person, 22.1ms\n",
      "Speed: 0.0ms preprocess, 22.1ms inference, 0.0ms postprocess per image at shape (1, 3, 640, 512)\n",
      "\n",
      "image 1/1 C:\\Users\\user\\PycharmProjects\\spbu_deep_learning1\\homeworks\\rnn_hw\\test\\images\\2777.jpg: 544x640 (no detections), 16.7ms\n",
      "Speed: 0.0ms preprocess, 16.7ms inference, 0.0ms postprocess per image at shape (1, 3, 544, 640)\n",
      "\n",
      "image 1/1 C:\\Users\\user\\PycharmProjects\\spbu_deep_learning1\\homeworks\\rnn_hw\\test\\images\\2778.jpg: 576x640 1 person, 1 bear, 15.6ms\n",
      "Speed: 0.0ms preprocess, 15.6ms inference, 0.0ms postprocess per image at shape (1, 3, 576, 640)\n",
      "\n",
      "image 1/1 C:\\Users\\user\\PycharmProjects\\spbu_deep_learning1\\homeworks\\rnn_hw\\test\\images\\278.jpg: 416x640 (no detections), 16.0ms\n",
      "Speed: 0.0ms preprocess, 16.0ms inference, 0.0ms postprocess per image at shape (1, 3, 416, 640)\n",
      "\n",
      "image 1/1 C:\\Users\\user\\PycharmProjects\\spbu_deep_learning1\\homeworks\\rnn_hw\\test\\images\\2783.jpg: 640x512 1 person, 15.6ms\n",
      "Speed: 0.0ms preprocess, 15.6ms inference, 0.0ms postprocess per image at shape (1, 3, 640, 512)\n",
      "\n",
      "image 1/1 C:\\Users\\user\\PycharmProjects\\spbu_deep_learning1\\homeworks\\rnn_hw\\test\\images\\2785.jpg: 416x640 (no detections), 15.6ms\n",
      "Speed: 0.0ms preprocess, 15.6ms inference, 0.0ms postprocess per image at shape (1, 3, 416, 640)\n",
      "\n",
      "image 1/1 C:\\Users\\user\\PycharmProjects\\spbu_deep_learning1\\homeworks\\rnn_hw\\test\\images\\2789.jpg: 640x480 1 bird, 15.6ms\n",
      "Speed: 0.0ms preprocess, 15.6ms inference, 0.0ms postprocess per image at shape (1, 3, 640, 480)\n",
      "\n",
      "image 1/1 C:\\Users\\user\\PycharmProjects\\spbu_deep_learning1\\homeworks\\rnn_hw\\test\\images\\279.jpg: 640x416 (no detections), 17.6ms\n",
      "Speed: 0.0ms preprocess, 17.6ms inference, 0.0ms postprocess per image at shape (1, 3, 640, 416)\n",
      "\n",
      "image 1/1 C:\\Users\\user\\PycharmProjects\\spbu_deep_learning1\\homeworks\\rnn_hw\\test\\images\\2792.jpg: 416x640 1 person, 15.6ms\n",
      "Speed: 0.0ms preprocess, 15.6ms inference, 0.0ms postprocess per image at shape (1, 3, 416, 640)\n",
      "\n",
      "image 1/1 C:\\Users\\user\\PycharmProjects\\spbu_deep_learning1\\homeworks\\rnn_hw\\test\\images\\2796.jpg: 640x544 1 tie, 15.6ms\n",
      "Speed: 0.0ms preprocess, 15.6ms inference, 15.6ms postprocess per image at shape (1, 3, 640, 544)\n",
      "\n",
      "image 1/1 C:\\Users\\user\\PycharmProjects\\spbu_deep_learning1\\homeworks\\rnn_hw\\test\\images\\2797.jpg: 640x384 (no detections), 15.6ms\n",
      "Speed: 0.0ms preprocess, 15.6ms inference, 0.0ms postprocess per image at shape (1, 3, 640, 384)\n",
      "\n",
      "image 1/1 C:\\Users\\user\\PycharmProjects\\spbu_deep_learning1\\homeworks\\rnn_hw\\test\\images\\28.jpg: 480x640 1 cat, 1 handbag, 4 couchs, 31.6ms\n",
      "Speed: 0.0ms preprocess, 31.6ms inference, 0.0ms postprocess per image at shape (1, 3, 480, 640)\n",
      "\n",
      "image 1/1 C:\\Users\\user\\PycharmProjects\\spbu_deep_learning1\\homeworks\\rnn_hw\\test\\images\\2801.jpg: 640x480 3 birds, 15.6ms\n",
      "Speed: 0.0ms preprocess, 15.6ms inference, 0.0ms postprocess per image at shape (1, 3, 640, 480)\n",
      "\n",
      "image 1/1 C:\\Users\\user\\PycharmProjects\\spbu_deep_learning1\\homeworks\\rnn_hw\\test\\images\\2802.jpg: 640x448 1 person, 1 tie, 31.3ms\n",
      "Speed: 0.0ms preprocess, 31.3ms inference, 0.0ms postprocess per image at shape (1, 3, 640, 448)\n",
      "\n",
      "image 1/1 C:\\Users\\user\\PycharmProjects\\spbu_deep_learning1\\homeworks\\rnn_hw\\test\\images\\2803.jpg: 512x640 1 person, 31.2ms\n",
      "Speed: 0.0ms preprocess, 31.2ms inference, 0.0ms postprocess per image at shape (1, 3, 512, 640)\n",
      "\n",
      "image 1/1 C:\\Users\\user\\PycharmProjects\\spbu_deep_learning1\\homeworks\\rnn_hw\\test\\images\\2807.jpg: 640x320 (no detections), 16.0ms\n",
      "Speed: 0.0ms preprocess, 16.0ms inference, 0.0ms postprocess per image at shape (1, 3, 640, 320)\n",
      "\n",
      "image 1/1 C:\\Users\\user\\PycharmProjects\\spbu_deep_learning1\\homeworks\\rnn_hw\\test\\images\\2808.jpg: 640x480 1 person, 1 frisbee, 31.3ms\n",
      "Speed: 0.0ms preprocess, 31.3ms inference, 0.0ms postprocess per image at shape (1, 3, 640, 480)\n",
      "\n",
      "image 1/1 C:\\Users\\user\\PycharmProjects\\spbu_deep_learning1\\homeworks\\rnn_hw\\test\\images\\2810.jpg: 640x480 (no detections), 15.6ms\n",
      "Speed: 0.0ms preprocess, 15.6ms inference, 0.0ms postprocess per image at shape (1, 3, 640, 480)\n",
      "\n",
      "image 1/1 C:\\Users\\user\\PycharmProjects\\spbu_deep_learning1\\homeworks\\rnn_hw\\test\\images\\2812.jpg: 640x480 1 bird, 1 clock, 31.2ms\n",
      "Speed: 0.0ms preprocess, 31.2ms inference, 0.0ms postprocess per image at shape (1, 3, 640, 480)\n",
      "\n",
      "image 1/1 C:\\Users\\user\\PycharmProjects\\spbu_deep_learning1\\homeworks\\rnn_hw\\test\\images\\2813.jpg: 640x544 1 bird, 2 kites, 20.1ms\n",
      "Speed: 0.0ms preprocess, 20.1ms inference, 0.0ms postprocess per image at shape (1, 3, 640, 544)\n",
      "\n",
      "image 1/1 C:\\Users\\user\\PycharmProjects\\spbu_deep_learning1\\homeworks\\rnn_hw\\test\\images\\2816.jpg: 640x544 1 book, 27.1ms\n",
      "Speed: 0.0ms preprocess, 27.1ms inference, 0.0ms postprocess per image at shape (1, 3, 640, 544)\n",
      "\n",
      "image 1/1 C:\\Users\\user\\PycharmProjects\\spbu_deep_learning1\\homeworks\\rnn_hw\\test\\images\\2818.jpg: 640x608 2 persons, 15.6ms\n",
      "Speed: 0.0ms preprocess, 15.6ms inference, 0.0ms postprocess per image at shape (1, 3, 640, 608)\n",
      "\n",
      "image 1/1 C:\\Users\\user\\PycharmProjects\\spbu_deep_learning1\\homeworks\\rnn_hw\\test\\images\\2820.jpg: 512x640 (no detections), 15.6ms\n",
      "Speed: 0.0ms preprocess, 15.6ms inference, 0.0ms postprocess per image at shape (1, 3, 512, 640)\n",
      "\n",
      "image 1/1 C:\\Users\\user\\PycharmProjects\\spbu_deep_learning1\\homeworks\\rnn_hw\\test\\images\\2823.jpg: 640x352 (no detections), 26.1ms\n",
      "Speed: 0.0ms preprocess, 26.1ms inference, 0.0ms postprocess per image at shape (1, 3, 640, 352)\n",
      "\n",
      "image 1/1 C:\\Users\\user\\PycharmProjects\\spbu_deep_learning1\\homeworks\\rnn_hw\\test\\images\\2824.jpg: 640x544 1 person, 1 tie, 15.6ms\n",
      "Speed: 5.5ms preprocess, 15.6ms inference, 0.0ms postprocess per image at shape (1, 3, 640, 544)\n",
      "\n",
      "image 1/1 C:\\Users\\user\\PycharmProjects\\spbu_deep_learning1\\homeworks\\rnn_hw\\test\\images\\2825.jpg: 640x480 2 persons, 1 baseball glove, 31.3ms\n",
      "Speed: 0.0ms preprocess, 31.3ms inference, 0.0ms postprocess per image at shape (1, 3, 640, 480)\n",
      "\n",
      "image 1/1 C:\\Users\\user\\PycharmProjects\\spbu_deep_learning1\\homeworks\\rnn_hw\\test\\images\\2827.jpg: 640x448 1 kite, 1 book, 15.6ms\n",
      "Speed: 0.0ms preprocess, 15.6ms inference, 0.0ms postprocess per image at shape (1, 3, 640, 448)\n",
      "\n",
      "image 1/1 C:\\Users\\user\\PycharmProjects\\spbu_deep_learning1\\homeworks\\rnn_hw\\test\\images\\2829.jpg: 640x416 (no detections), 32.1ms\n",
      "Speed: 0.0ms preprocess, 32.1ms inference, 0.0ms postprocess per image at shape (1, 3, 640, 416)\n",
      "\n",
      "image 1/1 C:\\Users\\user\\PycharmProjects\\spbu_deep_learning1\\homeworks\\rnn_hw\\test\\images\\2830.jpg: 640x416 1 dog, 15.5ms\n",
      "Speed: 0.0ms preprocess, 15.5ms inference, 0.0ms postprocess per image at shape (1, 3, 640, 416)\n",
      "\n",
      "image 1/1 C:\\Users\\user\\PycharmProjects\\spbu_deep_learning1\\homeworks\\rnn_hw\\test\\images\\2832.jpg: 480x640 1 person, 1 dog, 1 couch, 15.6ms\n",
      "Speed: 0.0ms preprocess, 15.6ms inference, 0.0ms postprocess per image at shape (1, 3, 480, 640)\n",
      "\n",
      "image 1/1 C:\\Users\\user\\PycharmProjects\\spbu_deep_learning1\\homeworks\\rnn_hw\\test\\images\\2835.jpg: 640x512 (no detections), 15.6ms\n",
      "Speed: 0.0ms preprocess, 15.6ms inference, 15.6ms postprocess per image at shape (1, 3, 640, 512)\n",
      "\n",
      "image 1/1 C:\\Users\\user\\PycharmProjects\\spbu_deep_learning1\\homeworks\\rnn_hw\\test\\images\\2838.jpg: 640x480 1 boat, 22.1ms\n",
      "Speed: 0.0ms preprocess, 22.1ms inference, 0.0ms postprocess per image at shape (1, 3, 640, 480)\n",
      "\n",
      "image 1/1 C:\\Users\\user\\PycharmProjects\\spbu_deep_learning1\\homeworks\\rnn_hw\\test\\images\\284.jpg: 640x608 2 persons, 25.1ms\n",
      "Speed: 0.0ms preprocess, 25.1ms inference, 0.0ms postprocess per image at shape (1, 3, 640, 608)\n",
      "\n",
      "image 1/1 C:\\Users\\user\\PycharmProjects\\spbu_deep_learning1\\homeworks\\rnn_hw\\test\\images\\2842.jpg: 640x512 (no detections), 31.3ms\n",
      "Speed: 0.0ms preprocess, 31.3ms inference, 0.0ms postprocess per image at shape (1, 3, 640, 512)\n",
      "\n",
      "image 1/1 C:\\Users\\user\\PycharmProjects\\spbu_deep_learning1\\homeworks\\rnn_hw\\test\\images\\2848.jpg: 640x544 1 laptop, 15.6ms\n",
      "Speed: 0.0ms preprocess, 15.6ms inference, 0.0ms postprocess per image at shape (1, 3, 640, 544)\n",
      "\n",
      "image 1/1 C:\\Users\\user\\PycharmProjects\\spbu_deep_learning1\\homeworks\\rnn_hw\\test\\images\\285.jpg: 640x512 (no detections), 16.0ms\n",
      "Speed: 15.6ms preprocess, 16.0ms inference, 0.0ms postprocess per image at shape (1, 3, 640, 512)\n",
      "\n",
      "image 1/1 C:\\Users\\user\\PycharmProjects\\spbu_deep_learning1\\homeworks\\rnn_hw\\test\\images\\2851.jpg: 640x544 (no detections), 15.6ms\n",
      "Speed: 0.0ms preprocess, 15.6ms inference, 0.0ms postprocess per image at shape (1, 3, 640, 544)\n",
      "\n",
      "image 1/1 C:\\Users\\user\\PycharmProjects\\spbu_deep_learning1\\homeworks\\rnn_hw\\test\\images\\2855.jpg: 544x640 (no detections), 15.6ms\n",
      "Speed: 0.0ms preprocess, 15.6ms inference, 0.0ms postprocess per image at shape (1, 3, 544, 640)\n",
      "\n",
      "image 1/1 C:\\Users\\user\\PycharmProjects\\spbu_deep_learning1\\homeworks\\rnn_hw\\test\\images\\2858.jpg: 576x640 (no detections), 15.6ms\n",
      "Speed: 0.0ms preprocess, 15.6ms inference, 0.0ms postprocess per image at shape (1, 3, 576, 640)\n",
      "\n",
      "image 1/1 C:\\Users\\user\\PycharmProjects\\spbu_deep_learning1\\homeworks\\rnn_hw\\test\\images\\287.jpg: 384x640 (no detections), 18.3ms\n",
      "Speed: 0.0ms preprocess, 18.3ms inference, 0.0ms postprocess per image at shape (1, 3, 384, 640)\n",
      "\n",
      "image 1/1 C:\\Users\\user\\PycharmProjects\\spbu_deep_learning1\\homeworks\\rnn_hw\\test\\images\\2871.jpg: 640x480 2 persons, 1 teddy bear, 13.0ms\n",
      "Speed: 0.0ms preprocess, 13.0ms inference, 15.6ms postprocess per image at shape (1, 3, 640, 480)\n",
      "\n",
      "image 1/1 C:\\Users\\user\\PycharmProjects\\spbu_deep_learning1\\homeworks\\rnn_hw\\test\\images\\2874.jpg: 640x416 (no detections), 15.6ms\n",
      "Speed: 0.0ms preprocess, 15.6ms inference, 0.0ms postprocess per image at shape (1, 3, 640, 416)\n",
      "\n",
      "image 1/1 C:\\Users\\user\\PycharmProjects\\spbu_deep_learning1\\homeworks\\rnn_hw\\test\\images\\2876.jpg: 640x640 (no detections), 31.3ms\n",
      "Speed: 0.0ms preprocess, 31.3ms inference, 0.0ms postprocess per image at shape (1, 3, 640, 640)\n",
      "\n",
      "image 1/1 C:\\Users\\user\\PycharmProjects\\spbu_deep_learning1\\homeworks\\rnn_hw\\test\\images\\2888.jpg: 512x640 2 persons, 2 boats, 20.1ms\n",
      "Speed: 0.0ms preprocess, 20.1ms inference, 0.0ms postprocess per image at shape (1, 3, 512, 640)\n",
      "\n",
      "image 1/1 C:\\Users\\user\\PycharmProjects\\spbu_deep_learning1\\homeworks\\rnn_hw\\test\\images\\2890.jpg: 576x640 (no detections), 17.0ms\n",
      "Speed: 0.0ms preprocess, 17.0ms inference, 0.0ms postprocess per image at shape (1, 3, 576, 640)\n",
      "\n",
      "image 1/1 C:\\Users\\user\\PycharmProjects\\spbu_deep_learning1\\homeworks\\rnn_hw\\test\\images\\2895.jpg: 480x640 (no detections), 15.6ms\n",
      "Speed: 0.0ms preprocess, 15.6ms inference, 0.0ms postprocess per image at shape (1, 3, 480, 640)\n",
      "\n",
      "image 1/1 C:\\Users\\user\\PycharmProjects\\spbu_deep_learning1\\homeworks\\rnn_hw\\test\\images\\2902.jpg: 640x512 (no detections), 21.4ms\n",
      "Speed: 0.0ms preprocess, 21.4ms inference, 0.0ms postprocess per image at shape (1, 3, 640, 512)\n",
      "\n",
      "image 1/1 C:\\Users\\user\\PycharmProjects\\spbu_deep_learning1\\homeworks\\rnn_hw\\test\\images\\2909.jpg: 544x640 (no detections), 15.6ms\n",
      "Speed: 0.0ms preprocess, 15.6ms inference, 0.0ms postprocess per image at shape (1, 3, 544, 640)\n",
      "\n",
      "image 1/1 C:\\Users\\user\\PycharmProjects\\spbu_deep_learning1\\homeworks\\rnn_hw\\test\\images\\2910.jpg: 512x640 (no detections), 12.0ms\n",
      "Speed: 4.0ms preprocess, 12.0ms inference, 0.0ms postprocess per image at shape (1, 3, 512, 640)\n",
      "\n",
      "image 1/1 C:\\Users\\user\\PycharmProjects\\spbu_deep_learning1\\homeworks\\rnn_hw\\test\\images\\2916.jpg: 640x352 1 person, 15.6ms\n",
      "Speed: 0.0ms preprocess, 15.6ms inference, 0.0ms postprocess per image at shape (1, 3, 640, 352)\n",
      "\n",
      "image 1/1 C:\\Users\\user\\PycharmProjects\\spbu_deep_learning1\\homeworks\\rnn_hw\\test\\images\\292.jpg: 640x448 (no detections), 15.7ms\n",
      "Speed: 0.0ms preprocess, 15.7ms inference, 0.0ms postprocess per image at shape (1, 3, 640, 448)\n",
      "\n",
      "image 1/1 C:\\Users\\user\\PycharmProjects\\spbu_deep_learning1\\homeworks\\rnn_hw\\test\\images\\2920.jpg: 640x448 (no detections), 31.3ms\n",
      "Speed: 0.0ms preprocess, 31.3ms inference, 0.0ms postprocess per image at shape (1, 3, 640, 448)\n",
      "\n",
      "image 1/1 C:\\Users\\user\\PycharmProjects\\spbu_deep_learning1\\homeworks\\rnn_hw\\test\\images\\2923.jpg: 608x640 1 person, 1 bed, 16.0ms\n",
      "Speed: 0.0ms preprocess, 16.0ms inference, 0.0ms postprocess per image at shape (1, 3, 608, 640)\n",
      "\n",
      "image 1/1 C:\\Users\\user\\PycharmProjects\\spbu_deep_learning1\\homeworks\\rnn_hw\\test\\images\\2924.jpg: 544x640 1 person, 15.6ms\n",
      "Speed: 0.0ms preprocess, 15.6ms inference, 0.0ms postprocess per image at shape (1, 3, 544, 640)\n",
      "\n",
      "image 1/1 C:\\Users\\user\\PycharmProjects\\spbu_deep_learning1\\homeworks\\rnn_hw\\test\\images\\2929.jpg: 512x640 (no detections), 15.6ms\n",
      "Speed: 0.0ms preprocess, 15.6ms inference, 0.0ms postprocess per image at shape (1, 3, 512, 640)\n",
      "\n",
      "image 1/1 C:\\Users\\user\\PycharmProjects\\spbu_deep_learning1\\homeworks\\rnn_hw\\test\\images\\2935.jpg: 576x640 2 persons, 15.6ms\n",
      "Speed: 0.0ms preprocess, 15.6ms inference, 0.0ms postprocess per image at shape (1, 3, 576, 640)\n",
      "\n",
      "image 1/1 C:\\Users\\user\\PycharmProjects\\spbu_deep_learning1\\homeworks\\rnn_hw\\test\\images\\2937.jpg: 640x512 1 person, 15.5ms\n",
      "Speed: 0.0ms preprocess, 15.5ms inference, 0.0ms postprocess per image at shape (1, 3, 640, 512)\n",
      "\n",
      "image 1/1 C:\\Users\\user\\PycharmProjects\\spbu_deep_learning1\\homeworks\\rnn_hw\\test\\images\\294.jpg: 640x480 (no detections), 15.6ms\n",
      "Speed: 0.0ms preprocess, 15.6ms inference, 0.0ms postprocess per image at shape (1, 3, 640, 480)\n",
      "\n",
      "image 1/1 C:\\Users\\user\\PycharmProjects\\spbu_deep_learning1\\homeworks\\rnn_hw\\test\\images\\2944.jpg: 640x416 5 persons, 2 tennis rackets, 15.6ms\n",
      "Speed: 0.0ms preprocess, 15.6ms inference, 0.0ms postprocess per image at shape (1, 3, 640, 416)\n",
      "\n",
      "image 1/1 C:\\Users\\user\\PycharmProjects\\spbu_deep_learning1\\homeworks\\rnn_hw\\test\\images\\2948.jpg: 640x544 3 persons, 2 dogs, 1 sheep, 1 potted plant, 16.9ms\n",
      "Speed: 0.0ms preprocess, 16.9ms inference, 14.5ms postprocess per image at shape (1, 3, 640, 544)\n",
      "\n",
      "image 1/1 C:\\Users\\user\\PycharmProjects\\spbu_deep_learning1\\homeworks\\rnn_hw\\test\\images\\2950.jpg: 640x576 2 persons, 16.0ms\n",
      "Speed: 0.0ms preprocess, 16.0ms inference, 0.0ms postprocess per image at shape (1, 3, 640, 576)\n",
      "\n",
      "image 1/1 C:\\Users\\user\\PycharmProjects\\spbu_deep_learning1\\homeworks\\rnn_hw\\test\\images\\2952.jpg: 576x640 1 person, 15.6ms\n",
      "Speed: 0.0ms preprocess, 15.6ms inference, 0.0ms postprocess per image at shape (1, 3, 576, 640)\n",
      "\n",
      "image 1/1 C:\\Users\\user\\PycharmProjects\\spbu_deep_learning1\\homeworks\\rnn_hw\\test\\images\\2953.jpg: 640x448 11 persons, 31.2ms\n",
      "Speed: 0.0ms preprocess, 31.2ms inference, 0.0ms postprocess per image at shape (1, 3, 640, 448)\n",
      "\n",
      "image 1/1 C:\\Users\\user\\PycharmProjects\\spbu_deep_learning1\\homeworks\\rnn_hw\\test\\images\\2955.jpg: 640x512 (no detections), 15.6ms\n",
      "Speed: 0.0ms preprocess, 15.6ms inference, 0.0ms postprocess per image at shape (1, 3, 640, 512)\n",
      "\n",
      "image 1/1 C:\\Users\\user\\PycharmProjects\\spbu_deep_learning1\\homeworks\\rnn_hw\\test\\images\\2956.jpg: 640x416 9 persons, 11.4ms\n",
      "Speed: 0.0ms preprocess, 11.4ms inference, 0.0ms postprocess per image at shape (1, 3, 640, 416)\n",
      "\n",
      "image 1/1 C:\\Users\\user\\PycharmProjects\\spbu_deep_learning1\\homeworks\\rnn_hw\\test\\images\\2965.jpg: 608x640 (no detections), 15.6ms\n",
      "Speed: 0.0ms preprocess, 15.6ms inference, 0.0ms postprocess per image at shape (1, 3, 608, 640)\n",
      "\n",
      "image 1/1 C:\\Users\\user\\PycharmProjects\\spbu_deep_learning1\\homeworks\\rnn_hw\\test\\images\\2967.jpg: 640x544 1 person, 31.2ms\n",
      "Speed: 0.0ms preprocess, 31.2ms inference, 0.0ms postprocess per image at shape (1, 3, 640, 544)\n",
      "\n",
      "image 1/1 C:\\Users\\user\\PycharmProjects\\spbu_deep_learning1\\homeworks\\rnn_hw\\test\\images\\2972.jpg: 512x640 (no detections), 26.1ms\n",
      "Speed: 0.0ms preprocess, 26.1ms inference, 0.0ms postprocess per image at shape (1, 3, 512, 640)\n",
      "\n",
      "image 1/1 C:\\Users\\user\\PycharmProjects\\spbu_deep_learning1\\homeworks\\rnn_hw\\test\\images\\2976.jpg: 640x480 1 knife, 15.6ms\n",
      "Speed: 5.5ms preprocess, 15.6ms inference, 0.0ms postprocess per image at shape (1, 3, 640, 480)\n",
      "\n",
      "image 1/1 C:\\Users\\user\\PycharmProjects\\spbu_deep_learning1\\homeworks\\rnn_hw\\test\\images\\2977.jpg: 640x576 (no detections), 31.2ms\n",
      "Speed: 0.0ms preprocess, 31.2ms inference, 0.0ms postprocess per image at shape (1, 3, 640, 576)\n",
      "\n",
      "image 1/1 C:\\Users\\user\\PycharmProjects\\spbu_deep_learning1\\homeworks\\rnn_hw\\test\\images\\298.jpg: 544x640 2 chairs, 1 bed, 23.2ms\n",
      "Speed: 0.0ms preprocess, 23.2ms inference, 0.0ms postprocess per image at shape (1, 3, 544, 640)\n",
      "\n",
      "image 1/1 C:\\Users\\user\\PycharmProjects\\spbu_deep_learning1\\homeworks\\rnn_hw\\test\\images\\2984.jpg: 448x640 (no detections), 8.5ms\n",
      "Speed: 0.0ms preprocess, 8.5ms inference, 15.6ms postprocess per image at shape (1, 3, 448, 640)\n",
      "\n",
      "image 1/1 C:\\Users\\user\\PycharmProjects\\spbu_deep_learning1\\homeworks\\rnn_hw\\test\\images\\2987.jpg: 544x640 1 person, 1 dog, 15.5ms\n",
      "Speed: 0.0ms preprocess, 15.5ms inference, 0.0ms postprocess per image at shape (1, 3, 544, 640)\n",
      "\n",
      "image 1/1 C:\\Users\\user\\PycharmProjects\\spbu_deep_learning1\\homeworks\\rnn_hw\\test\\images\\2989.jpg: 640x640 4 persons, 31.3ms\n",
      "Speed: 0.0ms preprocess, 31.3ms inference, 0.0ms postprocess per image at shape (1, 3, 640, 640)\n",
      "\n",
      "image 1/1 C:\\Users\\user\\PycharmProjects\\spbu_deep_learning1\\homeworks\\rnn_hw\\test\\images\\299.jpg: 448x640 7 persons, 15.6ms\n",
      "Speed: 0.0ms preprocess, 15.6ms inference, 0.0ms postprocess per image at shape (1, 3, 448, 640)\n",
      "\n",
      "image 1/1 C:\\Users\\user\\PycharmProjects\\spbu_deep_learning1\\homeworks\\rnn_hw\\test\\images\\2993.jpg: 640x480 1 person, 22.1ms\n",
      "Speed: 0.0ms preprocess, 22.1ms inference, 0.0ms postprocess per image at shape (1, 3, 640, 480)\n",
      "\n",
      "image 1/1 C:\\Users\\user\\PycharmProjects\\spbu_deep_learning1\\homeworks\\rnn_hw\\test\\images\\2996.jpg: 512x640 1 person, 1 skis, 25.1ms\n",
      "Speed: 0.0ms preprocess, 25.1ms inference, 0.0ms postprocess per image at shape (1, 3, 512, 640)\n",
      "\n",
      "image 1/1 C:\\Users\\user\\PycharmProjects\\spbu_deep_learning1\\homeworks\\rnn_hw\\test\\images\\2999.jpg: 608x640 1 bird, 1 vase, 15.6ms\n",
      "Speed: 0.0ms preprocess, 15.6ms inference, 0.0ms postprocess per image at shape (1, 3, 608, 640)\n",
      "\n",
      "image 1/1 C:\\Users\\user\\PycharmProjects\\spbu_deep_learning1\\homeworks\\rnn_hw\\test\\images\\300.jpg: 416x640 (no detections), 15.6ms\n",
      "Speed: 15.6ms preprocess, 15.6ms inference, 0.0ms postprocess per image at shape (1, 3, 416, 640)\n",
      "\n",
      "image 1/1 C:\\Users\\user\\PycharmProjects\\spbu_deep_learning1\\homeworks\\rnn_hw\\test\\images\\3004.jpg: 448x640 2 beds, 15.6ms\n",
      "Speed: 0.0ms preprocess, 15.6ms inference, 0.0ms postprocess per image at shape (1, 3, 448, 640)\n",
      "\n",
      "image 1/1 C:\\Users\\user\\PycharmProjects\\spbu_deep_learning1\\homeworks\\rnn_hw\\test\\images\\3005.jpg: 640x544 1 teddy bear, 19.2ms\n",
      "Speed: 0.0ms preprocess, 19.2ms inference, 0.0ms postprocess per image at shape (1, 3, 640, 544)\n",
      "\n",
      "image 1/1 C:\\Users\\user\\PycharmProjects\\spbu_deep_learning1\\homeworks\\rnn_hw\\test\\images\\3009.jpg: 640x544 (no detections), 15.6ms\n",
      "Speed: 0.0ms preprocess, 15.6ms inference, 0.0ms postprocess per image at shape (1, 3, 640, 544)\n",
      "\n",
      "image 1/1 C:\\Users\\user\\PycharmProjects\\spbu_deep_learning1\\homeworks\\rnn_hw\\test\\images\\3011.jpg: 640x640 1 person, 15.6ms\n",
      "Speed: 0.0ms preprocess, 15.6ms inference, 0.0ms postprocess per image at shape (1, 3, 640, 640)\n",
      "\n",
      "image 1/1 C:\\Users\\user\\PycharmProjects\\spbu_deep_learning1\\homeworks\\rnn_hw\\test\\images\\3021.jpg: 640x608 (no detections), 31.2ms\n",
      "Speed: 0.0ms preprocess, 31.2ms inference, 3.0ms postprocess per image at shape (1, 3, 640, 608)\n",
      "\n",
      "image 1/1 C:\\Users\\user\\PycharmProjects\\spbu_deep_learning1\\homeworks\\rnn_hw\\test\\images\\3025.jpg: 416x640 1 airplane, 4 traffic lights, 1 kite, 13.0ms\n",
      "Speed: 0.0ms preprocess, 13.0ms inference, 0.0ms postprocess per image at shape (1, 3, 416, 640)\n",
      "\n",
      "image 1/1 C:\\Users\\user\\PycharmProjects\\spbu_deep_learning1\\homeworks\\rnn_hw\\test\\images\\3028.jpg: 512x640 (no detections), 15.6ms\n",
      "Speed: 15.6ms preprocess, 15.6ms inference, 0.0ms postprocess per image at shape (1, 3, 512, 640)\n",
      "\n",
      "image 1/1 C:\\Users\\user\\PycharmProjects\\spbu_deep_learning1\\homeworks\\rnn_hw\\test\\images\\3029.jpg: 640x512 (no detections), 15.6ms\n",
      "Speed: 0.0ms preprocess, 15.6ms inference, 0.0ms postprocess per image at shape (1, 3, 640, 512)\n",
      "\n",
      "image 1/1 C:\\Users\\user\\PycharmProjects\\spbu_deep_learning1\\homeworks\\rnn_hw\\test\\images\\3031.jpg: 640x384 (no detections), 15.6ms\n",
      "Speed: 15.6ms preprocess, 15.6ms inference, 0.0ms postprocess per image at shape (1, 3, 640, 384)\n",
      "\n",
      "image 1/1 C:\\Users\\user\\PycharmProjects\\spbu_deep_learning1\\homeworks\\rnn_hw\\test\\images\\3033.jpg: 512x640 1 knife, 16.0ms\n",
      "Speed: 0.0ms preprocess, 16.0ms inference, 0.0ms postprocess per image at shape (1, 3, 512, 640)\n",
      "\n",
      "image 1/1 C:\\Users\\user\\PycharmProjects\\spbu_deep_learning1\\homeworks\\rnn_hw\\test\\images\\3034.jpg: 640x448 2 cups, 1 chair, 1 dining table, 15.6ms\n",
      "Speed: 15.6ms preprocess, 15.6ms inference, 0.0ms postprocess per image at shape (1, 3, 640, 448)\n",
      "\n",
      "image 1/1 C:\\Users\\user\\PycharmProjects\\spbu_deep_learning1\\homeworks\\rnn_hw\\test\\images\\3036.jpg: 640x480 1 person, 1 tie, 15.6ms\n",
      "Speed: 0.0ms preprocess, 15.6ms inference, 0.0ms postprocess per image at shape (1, 3, 640, 480)\n",
      "\n",
      "image 1/1 C:\\Users\\user\\PycharmProjects\\spbu_deep_learning1\\homeworks\\rnn_hw\\test\\images\\3037.jpg: 640x608 (no detections), 15.6ms\n",
      "Speed: 0.0ms preprocess, 15.6ms inference, 0.0ms postprocess per image at shape (1, 3, 640, 608)\n",
      "\n",
      "image 1/1 C:\\Users\\user\\PycharmProjects\\spbu_deep_learning1\\homeworks\\rnn_hw\\test\\images\\3040.jpg: 640x640 1 suitcase, 31.6ms\n",
      "Speed: 0.0ms preprocess, 31.6ms inference, 0.0ms postprocess per image at shape (1, 3, 640, 640)\n",
      "\n",
      "image 1/1 C:\\Users\\user\\PycharmProjects\\spbu_deep_learning1\\homeworks\\rnn_hw\\test\\images\\3041.jpg: 448x640 3 apples, 15.6ms\n",
      "Speed: 0.0ms preprocess, 15.6ms inference, 0.0ms postprocess per image at shape (1, 3, 448, 640)\n",
      "\n",
      "image 1/1 C:\\Users\\user\\PycharmProjects\\spbu_deep_learning1\\homeworks\\rnn_hw\\test\\images\\3046.jpg: 640x544 1 person, 31.3ms\n",
      "Speed: 0.0ms preprocess, 31.3ms inference, 0.0ms postprocess per image at shape (1, 3, 640, 544)\n",
      "\n",
      "image 1/1 C:\\Users\\user\\PycharmProjects\\spbu_deep_learning1\\homeworks\\rnn_hw\\test\\images\\3047.jpg: 640x480 (no detections), 15.6ms\n",
      "Speed: 0.0ms preprocess, 15.6ms inference, 0.0ms postprocess per image at shape (1, 3, 640, 480)\n",
      "\n",
      "image 1/1 C:\\Users\\user\\PycharmProjects\\spbu_deep_learning1\\homeworks\\rnn_hw\\test\\images\\3048.jpg: 640x480 (no detections), 21.1ms\n",
      "Speed: 0.0ms preprocess, 21.1ms inference, 0.0ms postprocess per image at shape (1, 3, 640, 480)\n",
      "\n",
      "image 1/1 C:\\Users\\user\\PycharmProjects\\spbu_deep_learning1\\homeworks\\rnn_hw\\test\\images\\3049.jpg: 640x480 1 suitcase, 15.6ms\n",
      "Speed: 0.0ms preprocess, 15.6ms inference, 0.0ms postprocess per image at shape (1, 3, 640, 480)\n",
      "\n",
      "image 1/1 C:\\Users\\user\\PycharmProjects\\spbu_deep_learning1\\homeworks\\rnn_hw\\test\\images\\3050.jpg: 640x480 (no detections), 15.6ms\n",
      "Speed: 0.0ms preprocess, 15.6ms inference, 0.0ms postprocess per image at shape (1, 3, 640, 480)\n",
      "\n",
      "image 1/1 C:\\Users\\user\\PycharmProjects\\spbu_deep_learning1\\homeworks\\rnn_hw\\test\\images\\3051.jpg: 640x480 (no detections), 15.6ms\n",
      "Speed: 0.0ms preprocess, 15.6ms inference, 0.0ms postprocess per image at shape (1, 3, 640, 480)\n",
      "\n",
      "image 1/1 C:\\Users\\user\\PycharmProjects\\spbu_deep_learning1\\homeworks\\rnn_hw\\test\\images\\3053.jpg: 416x640 (no detections), 31.6ms\n",
      "Speed: 0.0ms preprocess, 31.6ms inference, 0.0ms postprocess per image at shape (1, 3, 416, 640)\n",
      "\n",
      "image 1/1 C:\\Users\\user\\PycharmProjects\\spbu_deep_learning1\\homeworks\\rnn_hw\\test\\images\\3054.jpg: 544x640 1 person, 4 books, 15.6ms\n",
      "Speed: 0.0ms preprocess, 15.6ms inference, 0.0ms postprocess per image at shape (1, 3, 544, 640)\n",
      "\n",
      "image 1/1 C:\\Users\\user\\PycharmProjects\\spbu_deep_learning1\\homeworks\\rnn_hw\\test\\images\\3055.jpg: 480x640 1 person, 31.3ms\n",
      "Speed: 0.0ms preprocess, 31.3ms inference, 0.0ms postprocess per image at shape (1, 3, 480, 640)\n",
      "\n",
      "image 1/1 C:\\Users\\user\\PycharmProjects\\spbu_deep_learning1\\homeworks\\rnn_hw\\test\\images\\3059.jpg: 640x640 (no detections), 15.6ms\n",
      "Speed: 0.0ms preprocess, 15.6ms inference, 0.0ms postprocess per image at shape (1, 3, 640, 640)\n",
      "\n",
      "image 1/1 C:\\Users\\user\\PycharmProjects\\spbu_deep_learning1\\homeworks\\rnn_hw\\test\\images\\3067.jpg: 608x640 (no detections), 17.6ms\n",
      "Speed: 15.6ms preprocess, 17.6ms inference, 0.0ms postprocess per image at shape (1, 3, 608, 640)\n",
      "\n",
      "image 1/1 C:\\Users\\user\\PycharmProjects\\spbu_deep_learning1\\homeworks\\rnn_hw\\test\\images\\3072.jpg: 640x480 1 person, 14.0ms\n",
      "Speed: 0.0ms preprocess, 14.0ms inference, 0.0ms postprocess per image at shape (1, 3, 640, 480)\n",
      "\n",
      "image 1/1 C:\\Users\\user\\PycharmProjects\\spbu_deep_learning1\\homeworks\\rnn_hw\\test\\images\\3075.jpg: 544x640 (no detections), 15.6ms\n",
      "Speed: 0.0ms preprocess, 15.6ms inference, 0.0ms postprocess per image at shape (1, 3, 544, 640)\n",
      "\n",
      "image 1/1 C:\\Users\\user\\PycharmProjects\\spbu_deep_learning1\\homeworks\\rnn_hw\\test\\images\\3079.jpg: 640x640 1 teddy bear, 31.2ms\n",
      "Speed: 0.0ms preprocess, 31.2ms inference, 0.0ms postprocess per image at shape (1, 3, 640, 640)\n",
      "\n",
      "image 1/1 C:\\Users\\user\\PycharmProjects\\spbu_deep_learning1\\homeworks\\rnn_hw\\test\\images\\3084.jpg: 640x512 1 teddy bear, 23.6ms\n",
      "Speed: 0.0ms preprocess, 23.6ms inference, 0.0ms postprocess per image at shape (1, 3, 640, 512)\n",
      "\n",
      "image 1/1 C:\\Users\\user\\PycharmProjects\\spbu_deep_learning1\\homeworks\\rnn_hw\\test\\images\\309.jpg: 448x640 (no detections), 16.1ms\n",
      "Speed: 0.0ms preprocess, 16.1ms inference, 0.0ms postprocess per image at shape (1, 3, 448, 640)\n",
      "\n",
      "image 1/1 C:\\Users\\user\\PycharmProjects\\spbu_deep_learning1\\homeworks\\rnn_hw\\test\\images\\3094.jpg: 640x608 1 knife, 15.6ms\n",
      "Speed: 0.0ms preprocess, 15.6ms inference, 0.0ms postprocess per image at shape (1, 3, 640, 608)\n",
      "\n",
      "image 1/1 C:\\Users\\user\\PycharmProjects\\spbu_deep_learning1\\homeworks\\rnn_hw\\test\\images\\3096.jpg: 640x544 (no detections), 15.6ms\n",
      "Speed: 0.0ms preprocess, 15.6ms inference, 0.0ms postprocess per image at shape (1, 3, 640, 544)\n",
      "\n",
      "image 1/1 C:\\Users\\user\\PycharmProjects\\spbu_deep_learning1\\homeworks\\rnn_hw\\test\\images\\3099.jpg: 640x640 1 vase, 29.1ms\n",
      "Speed: 0.0ms preprocess, 29.1ms inference, 0.0ms postprocess per image at shape (1, 3, 640, 640)\n",
      "\n",
      "image 1/1 C:\\Users\\user\\PycharmProjects\\spbu_deep_learning1\\homeworks\\rnn_hw\\test\\images\\310.jpg: 640x512 1 person, 15.6ms\n",
      "Speed: 0.0ms preprocess, 15.6ms inference, 0.0ms postprocess per image at shape (1, 3, 640, 512)\n",
      "\n",
      "image 1/1 C:\\Users\\user\\PycharmProjects\\spbu_deep_learning1\\homeworks\\rnn_hw\\test\\images\\3103.jpg: 640x416 1 traffic light, 46.9ms\n",
      "Speed: 0.0ms preprocess, 46.9ms inference, 0.0ms postprocess per image at shape (1, 3, 640, 416)\n",
      "\n",
      "image 1/1 C:\\Users\\user\\PycharmProjects\\spbu_deep_learning1\\homeworks\\rnn_hw\\test\\images\\3105.jpg: 352x640 (no detections), 15.6ms\n",
      "Speed: 0.0ms preprocess, 15.6ms inference, 0.0ms postprocess per image at shape (1, 3, 352, 640)\n",
      "\n",
      "image 1/1 C:\\Users\\user\\PycharmProjects\\spbu_deep_learning1\\homeworks\\rnn_hw\\test\\images\\3112.jpg: 640x512 (no detections), 31.6ms\n",
      "Speed: 0.0ms preprocess, 31.6ms inference, 0.0ms postprocess per image at shape (1, 3, 640, 512)\n",
      "\n",
      "image 1/1 C:\\Users\\user\\PycharmProjects\\spbu_deep_learning1\\homeworks\\rnn_hw\\test\\images\\3113.jpg: 640x480 (no detections), 15.6ms\n",
      "Speed: 0.0ms preprocess, 15.6ms inference, 0.0ms postprocess per image at shape (1, 3, 640, 480)\n",
      "\n",
      "image 1/1 C:\\Users\\user\\PycharmProjects\\spbu_deep_learning1\\homeworks\\rnn_hw\\test\\images\\3116.jpg: 640x576 1 bench, 1 toilet, 31.3ms\n",
      "Speed: 0.0ms preprocess, 31.3ms inference, 0.0ms postprocess per image at shape (1, 3, 640, 576)\n",
      "\n",
      "image 1/1 C:\\Users\\user\\PycharmProjects\\spbu_deep_learning1\\homeworks\\rnn_hw\\test\\images\\3118.jpg: 640x352 1 scissors, 15.6ms\n",
      "Speed: 0.0ms preprocess, 15.6ms inference, 0.0ms postprocess per image at shape (1, 3, 640, 352)\n",
      "\n",
      "image 1/1 C:\\Users\\user\\PycharmProjects\\spbu_deep_learning1\\homeworks\\rnn_hw\\test\\images\\3121.jpg: 576x640 2 horses, 32.8ms\n",
      "Speed: 0.0ms preprocess, 32.8ms inference, 0.0ms postprocess per image at shape (1, 3, 576, 640)\n",
      "\n",
      "image 1/1 C:\\Users\\user\\PycharmProjects\\spbu_deep_learning1\\homeworks\\rnn_hw\\test\\images\\3124.jpg: 544x640 13 persons, 1 bus, 14.5ms\n",
      "Speed: 0.0ms preprocess, 14.5ms inference, 0.0ms postprocess per image at shape (1, 3, 544, 640)\n",
      "\n",
      "image 1/1 C:\\Users\\user\\PycharmProjects\\spbu_deep_learning1\\homeworks\\rnn_hw\\test\\images\\3130.jpg: 480x640 1 person, 1 handbag, 2 ties, 15.6ms\n",
      "Speed: 0.0ms preprocess, 15.6ms inference, 0.0ms postprocess per image at shape (1, 3, 480, 640)\n",
      "\n",
      "image 1/1 C:\\Users\\user\\PycharmProjects\\spbu_deep_learning1\\homeworks\\rnn_hw\\test\\images\\3133.jpg: 640x480 1 sports ball, 15.6ms\n",
      "Speed: 0.0ms preprocess, 15.6ms inference, 15.6ms postprocess per image at shape (1, 3, 640, 480)\n",
      "\n",
      "image 1/1 C:\\Users\\user\\PycharmProjects\\spbu_deep_learning1\\homeworks\\rnn_hw\\test\\images\\3135.jpg: 448x640 (no detections), 16.1ms\n",
      "Speed: 0.0ms preprocess, 16.1ms inference, 0.0ms postprocess per image at shape (1, 3, 448, 640)\n",
      "\n",
      "image 1/1 C:\\Users\\user\\PycharmProjects\\spbu_deep_learning1\\homeworks\\rnn_hw\\test\\images\\3147.jpg: 640x480 1 potted plant, 15.6ms\n",
      "Speed: 0.0ms preprocess, 15.6ms inference, 0.0ms postprocess per image at shape (1, 3, 640, 480)\n",
      "\n",
      "image 1/1 C:\\Users\\user\\PycharmProjects\\spbu_deep_learning1\\homeworks\\rnn_hw\\test\\images\\3152.jpg: 192x640 (no detections), 15.6ms\n",
      "Speed: 0.0ms preprocess, 15.6ms inference, 0.0ms postprocess per image at shape (1, 3, 192, 640)\n",
      "\n",
      "image 1/1 C:\\Users\\user\\PycharmProjects\\spbu_deep_learning1\\homeworks\\rnn_hw\\test\\images\\3155.jpg: 512x640 2 persons, 15.6ms\n",
      "Speed: 0.0ms preprocess, 15.6ms inference, 0.0ms postprocess per image at shape (1, 3, 512, 640)\n",
      "\n",
      "image 1/1 C:\\Users\\user\\PycharmProjects\\spbu_deep_learning1\\homeworks\\rnn_hw\\test\\images\\3159.jpg: 640x544 1 potted plant, 22.1ms\n",
      "Speed: 0.0ms preprocess, 22.1ms inference, 9.5ms postprocess per image at shape (1, 3, 640, 544)\n",
      "\n",
      "image 1/1 C:\\Users\\user\\PycharmProjects\\spbu_deep_learning1\\homeworks\\rnn_hw\\test\\images\\3161.jpg: 640x448 (no detections), 15.6ms\n",
      "Speed: 0.0ms preprocess, 15.6ms inference, 0.0ms postprocess per image at shape (1, 3, 640, 448)\n",
      "\n",
      "image 1/1 C:\\Users\\user\\PycharmProjects\\spbu_deep_learning1\\homeworks\\rnn_hw\\test\\images\\3162.jpg: 640x480 (no detections), 15.6ms\n",
      "Speed: 0.0ms preprocess, 15.6ms inference, 0.0ms postprocess per image at shape (1, 3, 640, 480)\n",
      "\n",
      "image 1/1 C:\\Users\\user\\PycharmProjects\\spbu_deep_learning1\\homeworks\\rnn_hw\\test\\images\\3163.jpg: 640x512 1 vase, 15.6ms\n",
      "Speed: 0.0ms preprocess, 15.6ms inference, 0.0ms postprocess per image at shape (1, 3, 640, 512)\n",
      "\n",
      "image 1/1 C:\\Users\\user\\PycharmProjects\\spbu_deep_learning1\\homeworks\\rnn_hw\\test\\images\\3167.jpg: 480x640 1 dining table, 28.1ms\n",
      "Speed: 0.0ms preprocess, 28.1ms inference, 0.0ms postprocess per image at shape (1, 3, 480, 640)\n",
      "\n",
      "image 1/1 C:\\Users\\user\\PycharmProjects\\spbu_deep_learning1\\homeworks\\rnn_hw\\test\\images\\3168.jpg: 640x448 (no detections), 15.6ms\n",
      "Speed: 0.0ms preprocess, 15.6ms inference, 0.0ms postprocess per image at shape (1, 3, 640, 448)\n",
      "\n",
      "image 1/1 C:\\Users\\user\\PycharmProjects\\spbu_deep_learning1\\homeworks\\rnn_hw\\test\\images\\3171.jpg: 640x448 (no detections), 15.6ms\n",
      "Speed: 0.0ms preprocess, 15.6ms inference, 0.0ms postprocess per image at shape (1, 3, 640, 448)\n",
      "\n",
      "image 1/1 C:\\Users\\user\\PycharmProjects\\spbu_deep_learning1\\homeworks\\rnn_hw\\test\\images\\3173.jpg: 480x640 (no detections), 15.6ms\n",
      "Speed: 15.6ms preprocess, 15.6ms inference, 0.0ms postprocess per image at shape (1, 3, 480, 640)\n",
      "\n",
      "image 1/1 C:\\Users\\user\\PycharmProjects\\spbu_deep_learning1\\homeworks\\rnn_hw\\test\\images\\3178.jpg: 640x416 (no detections), 34.3ms\n",
      "Speed: 0.0ms preprocess, 34.3ms inference, 0.0ms postprocess per image at shape (1, 3, 640, 416)\n",
      "\n",
      "image 1/1 C:\\Users\\user\\PycharmProjects\\spbu_deep_learning1\\homeworks\\rnn_hw\\test\\images\\3181.jpg: 608x640 (no detections), 28.6ms\n",
      "Speed: 0.0ms preprocess, 28.6ms inference, 0.0ms postprocess per image at shape (1, 3, 608, 640)\n",
      "\n",
      "image 1/1 C:\\Users\\user\\PycharmProjects\\spbu_deep_learning1\\homeworks\\rnn_hw\\test\\images\\3185.jpg: 480x640 2 apples, 1 dining table, 15.6ms\n",
      "Speed: 0.0ms preprocess, 15.6ms inference, 0.0ms postprocess per image at shape (1, 3, 480, 640)\n",
      "\n",
      "image 1/1 C:\\Users\\user\\PycharmProjects\\spbu_deep_learning1\\homeworks\\rnn_hw\\test\\images\\3186.jpg: 640x448 1 potted plant, 31.2ms\n",
      "Speed: 0.0ms preprocess, 31.2ms inference, 0.0ms postprocess per image at shape (1, 3, 640, 448)\n",
      "\n",
      "image 1/1 C:\\Users\\user\\PycharmProjects\\spbu_deep_learning1\\homeworks\\rnn_hw\\test\\images\\3187.jpg: 640x448 2 birds, 24.5ms\n",
      "Speed: 0.0ms preprocess, 24.5ms inference, 0.0ms postprocess per image at shape (1, 3, 640, 448)\n",
      "\n",
      "image 1/1 C:\\Users\\user\\PycharmProjects\\spbu_deep_learning1\\homeworks\\rnn_hw\\test\\images\\3191.jpg: 480x640 (no detections), 23.1ms\n",
      "Speed: 0.0ms preprocess, 23.1ms inference, 0.0ms postprocess per image at shape (1, 3, 480, 640)\n",
      "\n",
      "image 1/1 C:\\Users\\user\\PycharmProjects\\spbu_deep_learning1\\homeworks\\rnn_hw\\test\\images\\3195.jpg: 640x448 1 potted plant, 15.6ms\n",
      "Speed: 0.0ms preprocess, 15.6ms inference, 0.0ms postprocess per image at shape (1, 3, 640, 448)\n",
      "\n",
      "image 1/1 C:\\Users\\user\\PycharmProjects\\spbu_deep_learning1\\homeworks\\rnn_hw\\test\\images\\3198.jpg: 480x640 1 bird, 1 vase, 15.7ms\n",
      "Speed: 0.0ms preprocess, 15.7ms inference, 0.0ms postprocess per image at shape (1, 3, 480, 640)\n",
      "\n",
      "image 1/1 C:\\Users\\user\\PycharmProjects\\spbu_deep_learning1\\homeworks\\rnn_hw\\test\\images\\3199.jpg: 640x448 1 potted plant, 1 vase, 35.3ms\n",
      "Speed: 0.0ms preprocess, 35.3ms inference, 0.0ms postprocess per image at shape (1, 3, 640, 448)\n",
      "\n",
      "image 1/1 C:\\Users\\user\\PycharmProjects\\spbu_deep_learning1\\homeworks\\rnn_hw\\test\\images\\32.jpg: 480x640 9 persons, 1 tie, 19 wine glasss, 1 cup, 4 forks, 4 knifes, 2 spoons, 1 bowl, 1 carrot, 3 chairs, 3 potted plants, 1 dining table, 1 vase, 15.6ms\n",
      "Speed: 0.0ms preprocess, 15.6ms inference, 0.0ms postprocess per image at shape (1, 3, 480, 640)\n",
      "\n",
      "image 1/1 C:\\Users\\user\\PycharmProjects\\spbu_deep_learning1\\homeworks\\rnn_hw\\test\\images\\3201.jpg: 640x448 1 potted plant, 15.6ms\n",
      "Speed: 0.0ms preprocess, 15.6ms inference, 15.6ms postprocess per image at shape (1, 3, 640, 448)\n",
      "\n",
      "image 1/1 C:\\Users\\user\\PycharmProjects\\spbu_deep_learning1\\homeworks\\rnn_hw\\test\\images\\3204.jpg: 448x640 15 persons, 2 umbrellas, 15.6ms\n",
      "Speed: 0.0ms preprocess, 15.6ms inference, 0.0ms postprocess per image at shape (1, 3, 448, 640)\n",
      "\n",
      "image 1/1 C:\\Users\\user\\PycharmProjects\\spbu_deep_learning1\\homeworks\\rnn_hw\\test\\images\\3207.jpg: 384x640 (no detections), 31.6ms\n",
      "Speed: 0.0ms preprocess, 31.6ms inference, 0.0ms postprocess per image at shape (1, 3, 384, 640)\n",
      "\n",
      "image 1/1 C:\\Users\\user\\PycharmProjects\\spbu_deep_learning1\\homeworks\\rnn_hw\\test\\images\\3209.jpg: 480x640 2 persons, 1 bird, 23.2ms\n",
      "Speed: 0.0ms preprocess, 23.2ms inference, 0.0ms postprocess per image at shape (1, 3, 480, 640)\n",
      "\n",
      "image 1/1 C:\\Users\\user\\PycharmProjects\\spbu_deep_learning1\\homeworks\\rnn_hw\\test\\images\\3211.jpg: 640x480 1 potted plant, 11.0ms\n",
      "Speed: 0.0ms preprocess, 11.0ms inference, 15.6ms postprocess per image at shape (1, 3, 640, 480)\n",
      "\n",
      "image 1/1 C:\\Users\\user\\PycharmProjects\\spbu_deep_learning1\\homeworks\\rnn_hw\\test\\images\\3216.jpg: 384x640 (no detections), 15.6ms\n",
      "Speed: 0.0ms preprocess, 15.6ms inference, 0.0ms postprocess per image at shape (1, 3, 384, 640)\n",
      "\n",
      "image 1/1 C:\\Users\\user\\PycharmProjects\\spbu_deep_learning1\\homeworks\\rnn_hw\\test\\images\\3220.jpg: 640x448 1 potted plant, 1 vase, 16.0ms\n",
      "Speed: 15.6ms preprocess, 16.0ms inference, 0.0ms postprocess per image at shape (1, 3, 640, 448)\n",
      "\n",
      "image 1/1 C:\\Users\\user\\PycharmProjects\\spbu_deep_learning1\\homeworks\\rnn_hw\\test\\images\\3222.jpg: 448x640 (no detections), 15.6ms\n",
      "Speed: 0.0ms preprocess, 15.6ms inference, 0.0ms postprocess per image at shape (1, 3, 448, 640)\n",
      "\n",
      "image 1/1 C:\\Users\\user\\PycharmProjects\\spbu_deep_learning1\\homeworks\\rnn_hw\\test\\images\\3228.jpg: 512x640 1 person, 1 chair, 15.6ms\n",
      "Speed: 0.0ms preprocess, 15.6ms inference, 0.0ms postprocess per image at shape (1, 3, 512, 640)\n",
      "\n",
      "image 1/1 C:\\Users\\user\\PycharmProjects\\spbu_deep_learning1\\homeworks\\rnn_hw\\test\\images\\3232.jpg: 640x480 1 vase, 31.3ms\n",
      "Speed: 0.0ms preprocess, 31.3ms inference, 0.0ms postprocess per image at shape (1, 3, 640, 480)\n",
      "\n",
      "image 1/1 C:\\Users\\user\\PycharmProjects\\spbu_deep_learning1\\homeworks\\rnn_hw\\test\\images\\3235.jpg: 640x640 1 cup, 1 spoon, 19.1ms\n",
      "Speed: 0.0ms preprocess, 19.1ms inference, 0.0ms postprocess per image at shape (1, 3, 640, 640)\n",
      "\n",
      "image 1/1 C:\\Users\\user\\PycharmProjects\\spbu_deep_learning1\\homeworks\\rnn_hw\\test\\images\\3238.jpg: 640x384 1 person, 28.1ms\n",
      "Speed: 0.0ms preprocess, 28.1ms inference, 0.0ms postprocess per image at shape (1, 3, 640, 384)\n",
      "\n",
      "image 1/1 C:\\Users\\user\\PycharmProjects\\spbu_deep_learning1\\homeworks\\rnn_hw\\test\\images\\3241.jpg: 640x320 1 person, 15.6ms\n",
      "Speed: 0.0ms preprocess, 15.6ms inference, 0.0ms postprocess per image at shape (1, 3, 640, 320)\n",
      "\n",
      "image 1/1 C:\\Users\\user\\PycharmProjects\\spbu_deep_learning1\\homeworks\\rnn_hw\\test\\images\\3244.jpg: 544x640 1 horse, 1 elephant, 15.6ms\n",
      "Speed: 15.6ms preprocess, 15.6ms inference, 0.0ms postprocess per image at shape (1, 3, 544, 640)\n",
      "\n",
      "image 1/1 C:\\Users\\user\\PycharmProjects\\spbu_deep_learning1\\homeworks\\rnn_hw\\test\\images\\3245.jpg: 640x512 1 person, 32.8ms\n",
      "Speed: 0.0ms preprocess, 32.8ms inference, 0.0ms postprocess per image at shape (1, 3, 640, 512)\n",
      "\n",
      "image 1/1 C:\\Users\\user\\PycharmProjects\\spbu_deep_learning1\\homeworks\\rnn_hw\\test\\images\\3246.jpg: 640x640 1 bird, 14.5ms\n",
      "Speed: 0.0ms preprocess, 14.5ms inference, 0.0ms postprocess per image at shape (1, 3, 640, 640)\n",
      "\n",
      "image 1/1 C:\\Users\\user\\PycharmProjects\\spbu_deep_learning1\\homeworks\\rnn_hw\\test\\images\\3248.jpg: 480x640 (no detections), 15.6ms\n",
      "Speed: 0.0ms preprocess, 15.6ms inference, 0.0ms postprocess per image at shape (1, 3, 480, 640)\n",
      "\n",
      "image 1/1 C:\\Users\\user\\PycharmProjects\\spbu_deep_learning1\\homeworks\\rnn_hw\\test\\images\\3255.jpg: 448x640 3 potted plants, 3 vases, 15.6ms\n",
      "Speed: 0.0ms preprocess, 15.6ms inference, 0.0ms postprocess per image at shape (1, 3, 448, 640)\n",
      "\n",
      "image 1/1 C:\\Users\\user\\PycharmProjects\\spbu_deep_learning1\\homeworks\\rnn_hw\\test\\images\\3258.jpg: 480x640 1 bed, 15.0ms\n",
      "Speed: 0.0ms preprocess, 15.0ms inference, 0.0ms postprocess per image at shape (1, 3, 480, 640)\n",
      "\n",
      "image 1/1 C:\\Users\\user\\PycharmProjects\\spbu_deep_learning1\\homeworks\\rnn_hw\\test\\images\\3265.jpg: 640x512 1 person, 15.6ms\n",
      "Speed: 0.0ms preprocess, 15.6ms inference, 0.0ms postprocess per image at shape (1, 3, 640, 512)\n",
      "\n",
      "image 1/1 C:\\Users\\user\\PycharmProjects\\spbu_deep_learning1\\homeworks\\rnn_hw\\test\\images\\3267.jpg: 640x448 1 person, 1 chair, 31.2ms\n",
      "Speed: 0.0ms preprocess, 31.2ms inference, 0.0ms postprocess per image at shape (1, 3, 640, 448)\n",
      "\n",
      "image 1/1 C:\\Users\\user\\PycharmProjects\\spbu_deep_learning1\\homeworks\\rnn_hw\\test\\images\\3270.jpg: 480x640 (no detections), 31.3ms\n",
      "Speed: 0.0ms preprocess, 31.3ms inference, 0.0ms postprocess per image at shape (1, 3, 480, 640)\n",
      "\n",
      "image 1/1 C:\\Users\\user\\PycharmProjects\\spbu_deep_learning1\\homeworks\\rnn_hw\\test\\images\\3274.jpg: 512x640 (no detections), 9.5ms\n",
      "Speed: 6.5ms preprocess, 9.5ms inference, 0.0ms postprocess per image at shape (1, 3, 512, 640)\n",
      "\n",
      "image 1/1 C:\\Users\\user\\PycharmProjects\\spbu_deep_learning1\\homeworks\\rnn_hw\\test\\images\\3278.jpg: 512x640 (no detections), 31.3ms\n",
      "Speed: 0.0ms preprocess, 31.3ms inference, 0.0ms postprocess per image at shape (1, 3, 512, 640)\n",
      "\n",
      "image 1/1 C:\\Users\\user\\PycharmProjects\\spbu_deep_learning1\\homeworks\\rnn_hw\\test\\images\\3281.jpg: 640x512 (no detections), 25.7ms\n",
      "Speed: 0.0ms preprocess, 25.7ms inference, 0.0ms postprocess per image at shape (1, 3, 640, 512)\n",
      "\n",
      "image 1/1 C:\\Users\\user\\PycharmProjects\\spbu_deep_learning1\\homeworks\\rnn_hw\\test\\images\\3282.jpg: 640x480 1 person, 1 chair, 15.6ms\n",
      "Speed: 0.0ms preprocess, 15.6ms inference, 0.0ms postprocess per image at shape (1, 3, 640, 480)\n",
      "\n",
      "image 1/1 C:\\Users\\user\\PycharmProjects\\spbu_deep_learning1\\homeworks\\rnn_hw\\test\\images\\3286.jpg: 640x544 1 person, 1 tie, 31.6ms\n",
      "Speed: 0.0ms preprocess, 31.6ms inference, 0.0ms postprocess per image at shape (1, 3, 640, 544)\n",
      "\n",
      "image 1/1 C:\\Users\\user\\PycharmProjects\\spbu_deep_learning1\\homeworks\\rnn_hw\\test\\images\\3287.jpg: 544x640 (no detections), 15.6ms\n",
      "Speed: 0.0ms preprocess, 15.6ms inference, 0.0ms postprocess per image at shape (1, 3, 544, 640)\n",
      "\n",
      "image 1/1 C:\\Users\\user\\PycharmProjects\\spbu_deep_learning1\\homeworks\\rnn_hw\\test\\images\\3291.jpg: 640x640 (no detections), 15.6ms\n",
      "Speed: 15.6ms preprocess, 15.6ms inference, 0.0ms postprocess per image at shape (1, 3, 640, 640)\n",
      "\n",
      "image 1/1 C:\\Users\\user\\PycharmProjects\\spbu_deep_learning1\\homeworks\\rnn_hw\\test\\images\\3293.jpg: 640x544 1 person, 31.3ms\n",
      "Speed: 0.0ms preprocess, 31.3ms inference, 0.0ms postprocess per image at shape (1, 3, 640, 544)\n",
      "\n",
      "image 1/1 C:\\Users\\user\\PycharmProjects\\spbu_deep_learning1\\homeworks\\rnn_hw\\test\\images\\3295.jpg: 640x544 (no detections), 16.0ms\n",
      "Speed: 0.0ms preprocess, 16.0ms inference, 0.0ms postprocess per image at shape (1, 3, 640, 544)\n",
      "\n",
      "image 1/1 C:\\Users\\user\\PycharmProjects\\spbu_deep_learning1\\homeworks\\rnn_hw\\test\\images\\3296.jpg: 544x640 (no detections), 31.3ms\n",
      "Speed: 0.0ms preprocess, 31.3ms inference, 0.0ms postprocess per image at shape (1, 3, 544, 640)\n",
      "\n",
      "image 1/1 C:\\Users\\user\\PycharmProjects\\spbu_deep_learning1\\homeworks\\rnn_hw\\test\\images\\3298.jpg: 640x416 1 person, 15.6ms\n",
      "Speed: 0.0ms preprocess, 15.6ms inference, 0.0ms postprocess per image at shape (1, 3, 640, 416)\n",
      "\n",
      "image 1/1 C:\\Users\\user\\PycharmProjects\\spbu_deep_learning1\\homeworks\\rnn_hw\\test\\images\\3301.jpg: 640x640 2 chairs, 15.6ms\n",
      "Speed: 15.6ms preprocess, 15.6ms inference, 0.0ms postprocess per image at shape (1, 3, 640, 640)\n",
      "\n",
      "image 1/1 C:\\Users\\user\\PycharmProjects\\spbu_deep_learning1\\homeworks\\rnn_hw\\test\\images\\3302.jpg: 640x640 1 bird, 16.0ms\n",
      "Speed: 0.0ms preprocess, 16.0ms inference, 0.0ms postprocess per image at shape (1, 3, 640, 640)\n",
      "\n",
      "image 1/1 C:\\Users\\user\\PycharmProjects\\spbu_deep_learning1\\homeworks\\rnn_hw\\test\\images\\3303.jpg: 640x640 1 person, 15.6ms\n",
      "Speed: 0.0ms preprocess, 15.6ms inference, 0.0ms postprocess per image at shape (1, 3, 640, 640)\n",
      "\n",
      "image 1/1 C:\\Users\\user\\PycharmProjects\\spbu_deep_learning1\\homeworks\\rnn_hw\\test\\images\\3308.jpg: 640x640 1 person, 31.3ms\n",
      "Speed: 0.0ms preprocess, 31.3ms inference, 0.0ms postprocess per image at shape (1, 3, 640, 640)\n",
      "\n",
      "image 1/1 C:\\Users\\user\\PycharmProjects\\spbu_deep_learning1\\homeworks\\rnn_hw\\test\\images\\331.jpg: 480x640 (no detections), 15.6ms\n",
      "Speed: 0.0ms preprocess, 15.6ms inference, 0.0ms postprocess per image at shape (1, 3, 480, 640)\n",
      "\n",
      "image 1/1 C:\\Users\\user\\PycharmProjects\\spbu_deep_learning1\\homeworks\\rnn_hw\\test\\images\\3310.jpg: 640x384 1 person, 20.6ms\n",
      "Speed: 0.0ms preprocess, 20.6ms inference, 11.0ms postprocess per image at shape (1, 3, 640, 384)\n",
      "\n",
      "image 1/1 C:\\Users\\user\\PycharmProjects\\spbu_deep_learning1\\homeworks\\rnn_hw\\test\\images\\3311.jpg: 640x480 1 person, 15.6ms\n",
      "Speed: 0.0ms preprocess, 15.6ms inference, 0.0ms postprocess per image at shape (1, 3, 640, 480)\n",
      "\n",
      "image 1/1 C:\\Users\\user\\PycharmProjects\\spbu_deep_learning1\\homeworks\\rnn_hw\\test\\images\\3313.jpg: 640x640 (no detections), 31.3ms\n",
      "Speed: 0.0ms preprocess, 31.3ms inference, 0.0ms postprocess per image at shape (1, 3, 640, 640)\n",
      "\n",
      "image 1/1 C:\\Users\\user\\PycharmProjects\\spbu_deep_learning1\\homeworks\\rnn_hw\\test\\images\\3317.jpg: 640x512 1 cow, 15.6ms\n",
      "Speed: 0.0ms preprocess, 15.6ms inference, 0.0ms postprocess per image at shape (1, 3, 640, 512)\n",
      "\n",
      "image 1/1 C:\\Users\\user\\PycharmProjects\\spbu_deep_learning1\\homeworks\\rnn_hw\\test\\images\\3318.jpg: 640x576 3 vases, 16.0ms\n",
      "Speed: 15.6ms preprocess, 16.0ms inference, 0.0ms postprocess per image at shape (1, 3, 640, 576)\n",
      "\n",
      "image 1/1 C:\\Users\\user\\PycharmProjects\\spbu_deep_learning1\\homeworks\\rnn_hw\\test\\images\\332.jpg: 640x480 (no detections), 23.2ms\n",
      "Speed: 0.0ms preprocess, 23.2ms inference, 0.0ms postprocess per image at shape (1, 3, 640, 480)\n",
      "\n",
      "image 1/1 C:\\Users\\user\\PycharmProjects\\spbu_deep_learning1\\homeworks\\rnn_hw\\test\\images\\3323.jpg: 640x544 1 airplane, 15.6ms\n",
      "Speed: 0.0ms preprocess, 15.6ms inference, 0.0ms postprocess per image at shape (1, 3, 640, 544)\n",
      "\n",
      "image 1/1 C:\\Users\\user\\PycharmProjects\\spbu_deep_learning1\\homeworks\\rnn_hw\\test\\images\\3324.jpg: 544x640 (no detections), 15.6ms\n",
      "Speed: 0.0ms preprocess, 15.6ms inference, 0.0ms postprocess per image at shape (1, 3, 544, 640)\n",
      "\n",
      "image 1/1 C:\\Users\\user\\PycharmProjects\\spbu_deep_learning1\\homeworks\\rnn_hw\\test\\images\\3329.jpg: 640x544 (no detections), 16.3ms\n",
      "Speed: 0.0ms preprocess, 16.3ms inference, 0.0ms postprocess per image at shape (1, 3, 640, 544)\n",
      "\n",
      "image 1/1 C:\\Users\\user\\PycharmProjects\\spbu_deep_learning1\\homeworks\\rnn_hw\\test\\images\\333.jpg: 480x640 (no detections), 15.6ms\n",
      "Speed: 0.0ms preprocess, 15.6ms inference, 15.6ms postprocess per image at shape (1, 3, 480, 640)\n",
      "\n",
      "image 1/1 C:\\Users\\user\\PycharmProjects\\spbu_deep_learning1\\homeworks\\rnn_hw\\test\\images\\3333.jpg: 448x640 5 persons, 15.6ms\n",
      "Speed: 0.0ms preprocess, 15.6ms inference, 0.0ms postprocess per image at shape (1, 3, 448, 640)\n",
      "\n",
      "image 1/1 C:\\Users\\user\\PycharmProjects\\spbu_deep_learning1\\homeworks\\rnn_hw\\test\\images\\3337.jpg: 416x640 1 airplane, 15.6ms\n",
      "Speed: 0.0ms preprocess, 15.6ms inference, 15.6ms postprocess per image at shape (1, 3, 416, 640)\n",
      "\n",
      "image 1/1 C:\\Users\\user\\PycharmProjects\\spbu_deep_learning1\\homeworks\\rnn_hw\\test\\images\\3338.jpg: 544x640 (no detections), 15.5ms\n",
      "Speed: 0.0ms preprocess, 15.5ms inference, 0.0ms postprocess per image at shape (1, 3, 544, 640)\n",
      "\n",
      "image 1/1 C:\\Users\\user\\PycharmProjects\\spbu_deep_learning1\\homeworks\\rnn_hw\\test\\images\\334.jpg: 480x640 (no detections), 31.3ms\n",
      "Speed: 0.0ms preprocess, 31.3ms inference, 0.0ms postprocess per image at shape (1, 3, 480, 640)\n",
      "\n",
      "image 1/1 C:\\Users\\user\\PycharmProjects\\spbu_deep_learning1\\homeworks\\rnn_hw\\test\\images\\3344.jpg: 640x512 2 kites, 1 spoon, 15.6ms\n",
      "Speed: 0.0ms preprocess, 15.6ms inference, 0.0ms postprocess per image at shape (1, 3, 640, 512)\n",
      "\n",
      "image 1/1 C:\\Users\\user\\PycharmProjects\\spbu_deep_learning1\\homeworks\\rnn_hw\\test\\images\\3349.jpg: 640x576 1 tie, 15.6ms\n",
      "Speed: 0.0ms preprocess, 15.6ms inference, 15.6ms postprocess per image at shape (1, 3, 640, 576)\n",
      "\n",
      "image 1/1 C:\\Users\\user\\PycharmProjects\\spbu_deep_learning1\\homeworks\\rnn_hw\\test\\images\\3351.jpg: 640x640 (no detections), 9.5ms\n",
      "Speed: 6.5ms preprocess, 9.5ms inference, 0.0ms postprocess per image at shape (1, 3, 640, 640)\n",
      "\n",
      "image 1/1 C:\\Users\\user\\PycharmProjects\\spbu_deep_learning1\\homeworks\\rnn_hw\\test\\images\\3353.jpg: 640x512 1 tie, 1 couch, 15.6ms\n",
      "Speed: 15.6ms preprocess, 15.6ms inference, 0.0ms postprocess per image at shape (1, 3, 640, 512)\n",
      "\n",
      "image 1/1 C:\\Users\\user\\PycharmProjects\\spbu_deep_learning1\\homeworks\\rnn_hw\\test\\images\\3355.jpg: 640x512 (no detections), 16.8ms\n",
      "Speed: 0.0ms preprocess, 16.8ms inference, 0.0ms postprocess per image at shape (1, 3, 640, 512)\n",
      "\n",
      "image 1/1 C:\\Users\\user\\PycharmProjects\\spbu_deep_learning1\\homeworks\\rnn_hw\\test\\images\\3363.jpg: 544x640 (no detections), 15.6ms\n",
      "Speed: 0.0ms preprocess, 15.6ms inference, 0.0ms postprocess per image at shape (1, 3, 544, 640)\n",
      "\n",
      "image 1/1 C:\\Users\\user\\PycharmProjects\\spbu_deep_learning1\\homeworks\\rnn_hw\\test\\images\\337.jpg: 640x576 1 bed, 3.5ms\n",
      "Speed: 12.5ms preprocess, 3.5ms inference, 15.6ms postprocess per image at shape (1, 3, 640, 576)\n",
      "\n",
      "image 1/1 C:\\Users\\user\\PycharmProjects\\spbu_deep_learning1\\homeworks\\rnn_hw\\test\\images\\3373.jpg: 480x640 (no detections), 15.6ms\n",
      "Speed: 0.0ms preprocess, 15.6ms inference, 0.0ms postprocess per image at shape (1, 3, 480, 640)\n",
      "\n",
      "image 1/1 C:\\Users\\user\\PycharmProjects\\spbu_deep_learning1\\homeworks\\rnn_hw\\test\\images\\3374.jpg: 512x640 (no detections), 31.3ms\n",
      "Speed: 0.0ms preprocess, 31.3ms inference, 0.0ms postprocess per image at shape (1, 3, 512, 640)\n",
      "\n",
      "image 1/1 C:\\Users\\user\\PycharmProjects\\spbu_deep_learning1\\homeworks\\rnn_hw\\test\\images\\3375.jpg: 416x640 1 bus, 15.6ms\n",
      "Speed: 0.0ms preprocess, 15.6ms inference, 0.0ms postprocess per image at shape (1, 3, 416, 640)\n",
      "\n",
      "image 1/1 C:\\Users\\user\\PycharmProjects\\spbu_deep_learning1\\homeworks\\rnn_hw\\test\\images\\3380.jpg: 640x512 1 vase, 31.6ms\n",
      "Speed: 0.0ms preprocess, 31.6ms inference, 0.0ms postprocess per image at shape (1, 3, 640, 512)\n",
      "\n",
      "image 1/1 C:\\Users\\user\\PycharmProjects\\spbu_deep_learning1\\homeworks\\rnn_hw\\test\\images\\3385.jpg: 640x448 1 person, 15.6ms\n",
      "Speed: 0.0ms preprocess, 15.6ms inference, 0.0ms postprocess per image at shape (1, 3, 640, 448)\n",
      "\n",
      "image 1/1 C:\\Users\\user\\PycharmProjects\\spbu_deep_learning1\\homeworks\\rnn_hw\\test\\images\\3386.jpg: 640x448 1 person, 1 umbrella, 31.2ms\n",
      "Speed: 0.0ms preprocess, 31.2ms inference, 0.0ms postprocess per image at shape (1, 3, 640, 448)\n",
      "\n",
      "image 1/1 C:\\Users\\user\\PycharmProjects\\spbu_deep_learning1\\homeworks\\rnn_hw\\test\\images\\3388.jpg: 640x448 1 person, 15.6ms\n",
      "Speed: 0.0ms preprocess, 15.6ms inference, 0.0ms postprocess per image at shape (1, 3, 640, 448)\n",
      "\n",
      "image 1/1 C:\\Users\\user\\PycharmProjects\\spbu_deep_learning1\\homeworks\\rnn_hw\\test\\images\\3389.jpg: 640x416 1 person, 31.6ms\n",
      "Speed: 0.0ms preprocess, 31.6ms inference, 0.0ms postprocess per image at shape (1, 3, 640, 416)\n",
      "\n",
      "image 1/1 C:\\Users\\user\\PycharmProjects\\spbu_deep_learning1\\homeworks\\rnn_hw\\test\\images\\3391.jpg: 640x416 1 person, 15.6ms\n",
      "Speed: 0.0ms preprocess, 15.6ms inference, 0.0ms postprocess per image at shape (1, 3, 640, 416)\n",
      "\n",
      "image 1/1 C:\\Users\\user\\PycharmProjects\\spbu_deep_learning1\\homeworks\\rnn_hw\\test\\images\\3393.jpg: 480x640 2 persons, 15.6ms\n",
      "Speed: 0.0ms preprocess, 15.6ms inference, 0.0ms postprocess per image at shape (1, 3, 480, 640)\n",
      "\n",
      "image 1/1 C:\\Users\\user\\PycharmProjects\\spbu_deep_learning1\\homeworks\\rnn_hw\\test\\images\\3394.jpg: 640x544 (no detections), 15.6ms\n",
      "Speed: 0.0ms preprocess, 15.6ms inference, 0.0ms postprocess per image at shape (1, 3, 640, 544)\n",
      "\n",
      "image 1/1 C:\\Users\\user\\PycharmProjects\\spbu_deep_learning1\\homeworks\\rnn_hw\\test\\images\\34.jpg: 640x608 1 dog, 31.6ms\n",
      "Speed: 0.0ms preprocess, 31.6ms inference, 0.0ms postprocess per image at shape (1, 3, 640, 608)\n",
      "\n",
      "image 1/1 C:\\Users\\user\\PycharmProjects\\spbu_deep_learning1\\homeworks\\rnn_hw\\test\\images\\3400.jpg: 480x640 (no detections), 15.6ms\n",
      "Speed: 0.0ms preprocess, 15.6ms inference, 0.0ms postprocess per image at shape (1, 3, 480, 640)\n",
      "\n",
      "image 1/1 C:\\Users\\user\\PycharmProjects\\spbu_deep_learning1\\homeworks\\rnn_hw\\test\\images\\3402.jpg: 640x640 (no detections), 15.6ms\n",
      "Speed: 15.6ms preprocess, 15.6ms inference, 0.0ms postprocess per image at shape (1, 3, 640, 640)\n",
      "\n",
      "image 1/1 C:\\Users\\user\\PycharmProjects\\spbu_deep_learning1\\homeworks\\rnn_hw\\test\\images\\3407.jpg: 512x640 1 bed, 15.6ms\n",
      "Speed: 0.0ms preprocess, 15.6ms inference, 0.0ms postprocess per image at shape (1, 3, 512, 640)\n",
      "\n",
      "image 1/1 C:\\Users\\user\\PycharmProjects\\spbu_deep_learning1\\homeworks\\rnn_hw\\test\\images\\3410.jpg: 320x640 1 cat, 18.6ms\n",
      "Speed: 0.0ms preprocess, 18.6ms inference, 0.0ms postprocess per image at shape (1, 3, 320, 640)\n",
      "\n",
      "image 1/1 C:\\Users\\user\\PycharmProjects\\spbu_deep_learning1\\homeworks\\rnn_hw\\test\\images\\3411.jpg: 448x640 1 person, 1 kite, 13.0ms\n",
      "Speed: 0.0ms preprocess, 13.0ms inference, 15.9ms postprocess per image at shape (1, 3, 448, 640)\n",
      "\n",
      "image 1/1 C:\\Users\\user\\PycharmProjects\\spbu_deep_learning1\\homeworks\\rnn_hw\\test\\images\\3418.jpg: 512x640 1 bed, 14.5ms\n",
      "Speed: 0.0ms preprocess, 14.5ms inference, 0.0ms postprocess per image at shape (1, 3, 512, 640)\n",
      "\n",
      "image 1/1 C:\\Users\\user\\PycharmProjects\\spbu_deep_learning1\\homeworks\\rnn_hw\\test\\images\\3421.jpg: 480x640 (no detections), 15.6ms\n",
      "Speed: 0.0ms preprocess, 15.6ms inference, 0.0ms postprocess per image at shape (1, 3, 480, 640)\n",
      "\n",
      "image 1/1 C:\\Users\\user\\PycharmProjects\\spbu_deep_learning1\\homeworks\\rnn_hw\\test\\images\\3424.jpg: 512x640 (no detections), 24.6ms\n",
      "Speed: 0.0ms preprocess, 24.6ms inference, 0.0ms postprocess per image at shape (1, 3, 512, 640)\n",
      "\n",
      "image 1/1 C:\\Users\\user\\PycharmProjects\\spbu_deep_learning1\\homeworks\\rnn_hw\\test\\images\\3426.jpg: 512x640 (no detections), 15.6ms\n",
      "Speed: 0.0ms preprocess, 15.6ms inference, 0.0ms postprocess per image at shape (1, 3, 512, 640)\n",
      "\n",
      "image 1/1 C:\\Users\\user\\PycharmProjects\\spbu_deep_learning1\\homeworks\\rnn_hw\\test\\images\\3428.jpg: 352x640 (no detections), 15.6ms\n",
      "Speed: 0.0ms preprocess, 15.6ms inference, 0.0ms postprocess per image at shape (1, 3, 352, 640)\n",
      "\n",
      "image 1/1 C:\\Users\\user\\PycharmProjects\\spbu_deep_learning1\\homeworks\\rnn_hw\\test\\images\\3430.jpg: 480x640 (no detections), 15.6ms\n",
      "Speed: 0.0ms preprocess, 15.6ms inference, 0.0ms postprocess per image at shape (1, 3, 480, 640)\n",
      "\n",
      "image 1/1 C:\\Users\\user\\PycharmProjects\\spbu_deep_learning1\\homeworks\\rnn_hw\\test\\images\\3431.jpg: 480x640 1 clock, 15.6ms\n",
      "Speed: 0.0ms preprocess, 15.6ms inference, 0.0ms postprocess per image at shape (1, 3, 480, 640)\n",
      "\n",
      "image 1/1 C:\\Users\\user\\PycharmProjects\\spbu_deep_learning1\\homeworks\\rnn_hw\\test\\images\\3432.jpg: 416x640 1 bed, 15.6ms\n",
      "Speed: 0.0ms preprocess, 15.6ms inference, 0.0ms postprocess per image at shape (1, 3, 416, 640)\n",
      "\n",
      "image 1/1 C:\\Users\\user\\PycharmProjects\\spbu_deep_learning1\\homeworks\\rnn_hw\\test\\images\\3433.jpg: 416x640 (no detections), 31.3ms\n",
      "Speed: 0.0ms preprocess, 31.3ms inference, 0.0ms postprocess per image at shape (1, 3, 416, 640)\n",
      "\n",
      "image 1/1 C:\\Users\\user\\PycharmProjects\\spbu_deep_learning1\\homeworks\\rnn_hw\\test\\images\\3434.jpg: 416x640 1 bed, 15.6ms\n",
      "Speed: 0.0ms preprocess, 15.6ms inference, 15.6ms postprocess per image at shape (1, 3, 416, 640)\n",
      "\n",
      "image 1/1 C:\\Users\\user\\PycharmProjects\\spbu_deep_learning1\\homeworks\\rnn_hw\\test\\images\\3435.jpg: 416x640 (no detections), 21.1ms\n",
      "Speed: 0.0ms preprocess, 21.1ms inference, 0.0ms postprocess per image at shape (1, 3, 416, 640)\n",
      "\n",
      "image 1/1 C:\\Users\\user\\PycharmProjects\\spbu_deep_learning1\\homeworks\\rnn_hw\\test\\images\\3436.jpg: 384x640 1 bed, 15.6ms\n",
      "Speed: 0.0ms preprocess, 15.6ms inference, 0.0ms postprocess per image at shape (1, 3, 384, 640)\n",
      "\n",
      "image 1/1 C:\\Users\\user\\PycharmProjects\\spbu_deep_learning1\\homeworks\\rnn_hw\\test\\images\\3437.jpg: 448x640 (no detections), 31.3ms\n",
      "Speed: 0.0ms preprocess, 31.3ms inference, 0.0ms postprocess per image at shape (1, 3, 448, 640)\n",
      "\n",
      "image 1/1 C:\\Users\\user\\PycharmProjects\\spbu_deep_learning1\\homeworks\\rnn_hw\\test\\images\\3439.jpg: 384x640 1 bed, 15.6ms\n",
      "Speed: 0.0ms preprocess, 15.6ms inference, 0.0ms postprocess per image at shape (1, 3, 384, 640)\n",
      "\n",
      "image 1/1 C:\\Users\\user\\PycharmProjects\\spbu_deep_learning1\\homeworks\\rnn_hw\\test\\images\\344.jpg: 640x480 (no detections), 31.6ms\n",
      "Speed: 0.0ms preprocess, 31.6ms inference, 0.0ms postprocess per image at shape (1, 3, 640, 480)\n",
      "\n",
      "image 1/1 C:\\Users\\user\\PycharmProjects\\spbu_deep_learning1\\homeworks\\rnn_hw\\test\\images\\3440.jpg: 384x640 (no detections), 15.6ms\n",
      "Speed: 0.0ms preprocess, 15.6ms inference, 0.0ms postprocess per image at shape (1, 3, 384, 640)\n",
      "\n",
      "image 1/1 C:\\Users\\user\\PycharmProjects\\spbu_deep_learning1\\homeworks\\rnn_hw\\test\\images\\3444.jpg: 448x640 (no detections), 31.3ms\n",
      "Speed: 0.0ms preprocess, 31.3ms inference, 0.0ms postprocess per image at shape (1, 3, 448, 640)\n",
      "\n",
      "image 1/1 C:\\Users\\user\\PycharmProjects\\spbu_deep_learning1\\homeworks\\rnn_hw\\test\\images\\3447.jpg: 448x640 1 bed, 15.6ms\n",
      "Speed: 15.6ms preprocess, 15.6ms inference, 0.0ms postprocess per image at shape (1, 3, 448, 640)\n",
      "\n",
      "image 1/1 C:\\Users\\user\\PycharmProjects\\spbu_deep_learning1\\homeworks\\rnn_hw\\test\\images\\3456.jpg: 384x640 (no detections), 17.6ms\n",
      "Speed: 0.0ms preprocess, 17.6ms inference, 0.0ms postprocess per image at shape (1, 3, 384, 640)\n",
      "\n",
      "image 1/1 C:\\Users\\user\\PycharmProjects\\spbu_deep_learning1\\homeworks\\rnn_hw\\test\\images\\3457.jpg: 448x640 (no detections), 15.0ms\n",
      "Speed: 0.0ms preprocess, 15.0ms inference, 0.0ms postprocess per image at shape (1, 3, 448, 640)\n",
      "\n",
      "image 1/1 C:\\Users\\user\\PycharmProjects\\spbu_deep_learning1\\homeworks\\rnn_hw\\test\\images\\3468.jpg: 544x640 (no detections), 15.6ms\n",
      "Speed: 0.0ms preprocess, 15.6ms inference, 0.0ms postprocess per image at shape (1, 3, 544, 640)\n",
      "\n",
      "image 1/1 C:\\Users\\user\\PycharmProjects\\spbu_deep_learning1\\homeworks\\rnn_hw\\test\\images\\3469.jpg: 512x640 (no detections), 15.6ms\n",
      "Speed: 0.0ms preprocess, 15.6ms inference, 0.0ms postprocess per image at shape (1, 3, 512, 640)\n",
      "\n",
      "image 1/1 C:\\Users\\user\\PycharmProjects\\spbu_deep_learning1\\homeworks\\rnn_hw\\test\\images\\347.jpg: 640x480 (no detections), 23.1ms\n",
      "Speed: 0.0ms preprocess, 23.1ms inference, 0.0ms postprocess per image at shape (1, 3, 640, 480)\n",
      "\n",
      "image 1/1 C:\\Users\\user\\PycharmProjects\\spbu_deep_learning1\\homeworks\\rnn_hw\\test\\images\\3474.jpg: 480x640 (no detections), 15.6ms\n",
      "Speed: 0.0ms preprocess, 15.6ms inference, 0.0ms postprocess per image at shape (1, 3, 480, 640)\n",
      "\n",
      "image 1/1 C:\\Users\\user\\PycharmProjects\\spbu_deep_learning1\\homeworks\\rnn_hw\\test\\images\\3476.jpg: 448x640 1 bed, 15.6ms\n",
      "Speed: 0.0ms preprocess, 15.6ms inference, 0.0ms postprocess per image at shape (1, 3, 448, 640)\n",
      "\n",
      "image 1/1 C:\\Users\\user\\PycharmProjects\\spbu_deep_learning1\\homeworks\\rnn_hw\\test\\images\\3478.jpg: 640x256 (no detections), 15.6ms\n",
      "Speed: 0.0ms preprocess, 15.6ms inference, 0.0ms postprocess per image at shape (1, 3, 640, 256)\n",
      "\n",
      "image 1/1 C:\\Users\\user\\PycharmProjects\\spbu_deep_learning1\\homeworks\\rnn_hw\\test\\images\\348.jpg: 640x640 (no detections), 31.6ms\n",
      "Speed: 0.0ms preprocess, 31.6ms inference, 0.0ms postprocess per image at shape (1, 3, 640, 640)\n",
      "\n",
      "image 1/1 C:\\Users\\user\\PycharmProjects\\spbu_deep_learning1\\homeworks\\rnn_hw\\test\\images\\3483.jpg: 544x640 (no detections), 31.3ms\n",
      "Speed: 0.0ms preprocess, 31.3ms inference, 0.0ms postprocess per image at shape (1, 3, 544, 640)\n",
      "\n",
      "image 1/1 C:\\Users\\user\\PycharmProjects\\spbu_deep_learning1\\homeworks\\rnn_hw\\test\\images\\3484.jpg: 384x640 (no detections), 31.3ms\n",
      "Speed: 0.0ms preprocess, 31.3ms inference, 0.0ms postprocess per image at shape (1, 3, 384, 640)\n",
      "\n",
      "image 1/1 C:\\Users\\user\\PycharmProjects\\spbu_deep_learning1\\homeworks\\rnn_hw\\test\\images\\3486.jpg: 448x640 (no detections), 15.6ms\n",
      "Speed: 0.0ms preprocess, 15.6ms inference, 0.0ms postprocess per image at shape (1, 3, 448, 640)\n",
      "\n",
      "image 1/1 C:\\Users\\user\\PycharmProjects\\spbu_deep_learning1\\homeworks\\rnn_hw\\test\\images\\3490.jpg: 448x640 2 beds, 16.0ms\n",
      "Speed: 0.0ms preprocess, 16.0ms inference, 0.0ms postprocess per image at shape (1, 3, 448, 640)\n",
      "\n",
      "image 1/1 C:\\Users\\user\\PycharmProjects\\spbu_deep_learning1\\homeworks\\rnn_hw\\test\\images\\3491.jpg: 512x640 (no detections), 15.6ms\n",
      "Speed: 0.0ms preprocess, 15.6ms inference, 0.0ms postprocess per image at shape (1, 3, 512, 640)\n",
      "\n",
      "image 1/1 C:\\Users\\user\\PycharmProjects\\spbu_deep_learning1\\homeworks\\rnn_hw\\test\\images\\3496.jpg: 384x640 1 bed, 18.9ms\n",
      "Speed: 0.0ms preprocess, 18.9ms inference, 0.0ms postprocess per image at shape (1, 3, 384, 640)\n",
      "\n",
      "image 1/1 C:\\Users\\user\\PycharmProjects\\spbu_deep_learning1\\homeworks\\rnn_hw\\test\\images\\3497.jpg: 384x640 (no detections), 15.6ms\n",
      "Speed: 0.0ms preprocess, 15.6ms inference, 0.0ms postprocess per image at shape (1, 3, 384, 640)\n",
      "\n",
      "image 1/1 C:\\Users\\user\\PycharmProjects\\spbu_deep_learning1\\homeworks\\rnn_hw\\test\\images\\35.jpg: 480x640 1 chair, 1 couch, 1 tv, 1 book, 2 vases, 31.6ms\n",
      "Speed: 0.0ms preprocess, 31.6ms inference, 0.0ms postprocess per image at shape (1, 3, 480, 640)\n",
      "\n",
      "image 1/1 C:\\Users\\user\\PycharmProjects\\spbu_deep_learning1\\homeworks\\rnn_hw\\test\\images\\3505.jpg: 640x512 (no detections), 15.6ms\n",
      "Speed: 0.0ms preprocess, 15.6ms inference, 0.0ms postprocess per image at shape (1, 3, 640, 512)\n",
      "\n",
      "image 1/1 C:\\Users\\user\\PycharmProjects\\spbu_deep_learning1\\homeworks\\rnn_hw\\test\\images\\3506.jpg: 480x640 (no detections), 31.3ms\n",
      "Speed: 0.0ms preprocess, 31.3ms inference, 0.0ms postprocess per image at shape (1, 3, 480, 640)\n",
      "\n",
      "image 1/1 C:\\Users\\user\\PycharmProjects\\spbu_deep_learning1\\homeworks\\rnn_hw\\test\\images\\3507.jpg: 416x640 (no detections), 15.6ms\n",
      "Speed: 0.0ms preprocess, 15.6ms inference, 0.0ms postprocess per image at shape (1, 3, 416, 640)\n",
      "\n",
      "image 1/1 C:\\Users\\user\\PycharmProjects\\spbu_deep_learning1\\homeworks\\rnn_hw\\test\\images\\3510.jpg: 448x640 1 bed, 6 books, 31.6ms\n",
      "Speed: 0.0ms preprocess, 31.6ms inference, 0.0ms postprocess per image at shape (1, 3, 448, 640)\n",
      "\n",
      "image 1/1 C:\\Users\\user\\PycharmProjects\\spbu_deep_learning1\\homeworks\\rnn_hw\\test\\images\\3513.jpg: 384x640 (no detections), 15.6ms\n",
      "Speed: 0.0ms preprocess, 15.6ms inference, 0.0ms postprocess per image at shape (1, 3, 384, 640)\n",
      "\n",
      "image 1/1 C:\\Users\\user\\PycharmProjects\\spbu_deep_learning1\\homeworks\\rnn_hw\\test\\images\\3516.jpg: 448x640 (no detections), 31.2ms\n",
      "Speed: 0.0ms preprocess, 31.2ms inference, 0.0ms postprocess per image at shape (1, 3, 448, 640)\n",
      "\n",
      "image 1/1 C:\\Users\\user\\PycharmProjects\\spbu_deep_learning1\\homeworks\\rnn_hw\\test\\images\\3520.jpg: 448x640 (no detections), 31.3ms\n",
      "Speed: 0.0ms preprocess, 31.3ms inference, 0.0ms postprocess per image at shape (1, 3, 448, 640)\n",
      "\n",
      "image 1/1 C:\\Users\\user\\PycharmProjects\\spbu_deep_learning1\\homeworks\\rnn_hw\\test\\images\\3525.jpg: 544x640 (no detections), 18.6ms\n",
      "Speed: 0.0ms preprocess, 18.6ms inference, 0.0ms postprocess per image at shape (1, 3, 544, 640)\n",
      "\n",
      "image 1/1 C:\\Users\\user\\PycharmProjects\\spbu_deep_learning1\\homeworks\\rnn_hw\\test\\images\\3526.jpg: 384x640 (no detections), 15.6ms\n",
      "Speed: 0.0ms preprocess, 15.6ms inference, 0.0ms postprocess per image at shape (1, 3, 384, 640)\n",
      "\n",
      "image 1/1 C:\\Users\\user\\PycharmProjects\\spbu_deep_learning1\\homeworks\\rnn_hw\\test\\images\\3528.jpg: 640x640 (no detections), 31.3ms\n",
      "Speed: 0.0ms preprocess, 31.3ms inference, 0.0ms postprocess per image at shape (1, 3, 640, 640)\n",
      "\n",
      "image 1/1 C:\\Users\\user\\PycharmProjects\\spbu_deep_learning1\\homeworks\\rnn_hw\\test\\images\\3531.jpg: 480x640 1 bed, 15.6ms\n",
      "Speed: 0.0ms preprocess, 15.6ms inference, 15.6ms postprocess per image at shape (1, 3, 480, 640)\n",
      "\n",
      "image 1/1 C:\\Users\\user\\PycharmProjects\\spbu_deep_learning1\\homeworks\\rnn_hw\\test\\images\\3532.jpg: 320x640 1 bed, 16.0ms\n",
      "Speed: 0.0ms preprocess, 16.0ms inference, 0.0ms postprocess per image at shape (1, 3, 320, 640)\n",
      "\n",
      "image 1/1 C:\\Users\\user\\PycharmProjects\\spbu_deep_learning1\\homeworks\\rnn_hw\\test\\images\\3533.jpg: 512x640 (no detections), 31.7ms\n",
      "Speed: 0.0ms preprocess, 31.7ms inference, 0.0ms postprocess per image at shape (1, 3, 512, 640)\n",
      "\n",
      "image 1/1 C:\\Users\\user\\PycharmProjects\\spbu_deep_learning1\\homeworks\\rnn_hw\\test\\images\\3536.jpg: 640x640 1 person, 31.3ms\n",
      "Speed: 0.0ms preprocess, 31.3ms inference, 0.0ms postprocess per image at shape (1, 3, 640, 640)\n",
      "\n",
      "image 1/1 C:\\Users\\user\\PycharmProjects\\spbu_deep_learning1\\homeworks\\rnn_hw\\test\\images\\3539.jpg: 416x640 12 persons, 1 dining table, 15.6ms\n",
      "Speed: 0.0ms preprocess, 15.6ms inference, 0.0ms postprocess per image at shape (1, 3, 416, 640)\n",
      "\n",
      "image 1/1 C:\\Users\\user\\PycharmProjects\\spbu_deep_learning1\\homeworks\\rnn_hw\\test\\images\\3542.jpg: 480x640 12 persons, 1 frisbee, 15.6ms\n",
      "Speed: 0.0ms preprocess, 15.6ms inference, 0.0ms postprocess per image at shape (1, 3, 480, 640)\n",
      "\n",
      "image 1/1 C:\\Users\\user\\PycharmProjects\\spbu_deep_learning1\\homeworks\\rnn_hw\\test\\images\\3546.jpg: 640x480 11 persons, 1 wine glass, 31.2ms\n",
      "Speed: 0.0ms preprocess, 31.2ms inference, 0.0ms postprocess per image at shape (1, 3, 640, 480)\n",
      "\n",
      "image 1/1 C:\\Users\\user\\PycharmProjects\\spbu_deep_learning1\\homeworks\\rnn_hw\\test\\images\\3551.jpg: 480x640 8 persons, 15.6ms\n",
      "Speed: 0.0ms preprocess, 15.6ms inference, 0.0ms postprocess per image at shape (1, 3, 480, 640)\n",
      "\n",
      "image 1/1 C:\\Users\\user\\PycharmProjects\\spbu_deep_learning1\\homeworks\\rnn_hw\\test\\images\\3555.jpg: 640x448 1 person, 20.4ms\n",
      "Speed: 0.0ms preprocess, 20.4ms inference, 0.0ms postprocess per image at shape (1, 3, 640, 448)\n",
      "\n",
      "image 1/1 C:\\Users\\user\\PycharmProjects\\spbu_deep_learning1\\homeworks\\rnn_hw\\test\\images\\3556.jpg: 640x480 4 persons, 15.6ms\n",
      "Speed: 0.0ms preprocess, 15.6ms inference, 0.0ms postprocess per image at shape (1, 3, 640, 480)\n",
      "\n",
      "image 1/1 C:\\Users\\user\\PycharmProjects\\spbu_deep_learning1\\homeworks\\rnn_hw\\test\\images\\3558.jpg: 480x640 6 persons, 31.3ms\n",
      "Speed: 0.0ms preprocess, 31.3ms inference, 0.0ms postprocess per image at shape (1, 3, 480, 640)\n",
      "\n",
      "image 1/1 C:\\Users\\user\\PycharmProjects\\spbu_deep_learning1\\homeworks\\rnn_hw\\test\\images\\3565.jpg: 544x640 2 cups, 5 vases, 15.6ms\n",
      "Speed: 0.0ms preprocess, 15.6ms inference, 0.0ms postprocess per image at shape (1, 3, 544, 640)\n",
      "\n",
      "image 1/1 C:\\Users\\user\\PycharmProjects\\spbu_deep_learning1\\homeworks\\rnn_hw\\test\\images\\3569.jpg: 640x288 1 person, 31.3ms\n",
      "Speed: 0.0ms preprocess, 31.3ms inference, 0.0ms postprocess per image at shape (1, 3, 640, 288)\n",
      "\n",
      "image 1/1 C:\\Users\\user\\PycharmProjects\\spbu_deep_learning1\\homeworks\\rnn_hw\\test\\images\\3571.jpg: 480x640 2 cats, 1 bed, 11.0ms\n",
      "Speed: 0.0ms preprocess, 11.0ms inference, 0.0ms postprocess per image at shape (1, 3, 480, 640)\n",
      "\n",
      "image 1/1 C:\\Users\\user\\PycharmProjects\\spbu_deep_learning1\\homeworks\\rnn_hw\\test\\images\\3572.jpg: 544x640 4 persons, 15.0ms\n",
      "Speed: 16.7ms preprocess, 15.0ms inference, 0.0ms postprocess per image at shape (1, 3, 544, 640)\n",
      "\n",
      "image 1/1 C:\\Users\\user\\PycharmProjects\\spbu_deep_learning1\\homeworks\\rnn_hw\\test\\images\\3576.jpg: 512x640 1 dog, 1 bed, 15.6ms\n",
      "Speed: 0.0ms preprocess, 15.6ms inference, 0.0ms postprocess per image at shape (1, 3, 512, 640)\n",
      "\n",
      "image 1/1 C:\\Users\\user\\PycharmProjects\\spbu_deep_learning1\\homeworks\\rnn_hw\\test\\images\\3578.jpg: 640x416 (no detections), 15.6ms\n",
      "Speed: 0.0ms preprocess, 15.6ms inference, 0.0ms postprocess per image at shape (1, 3, 640, 416)\n",
      "\n",
      "image 1/1 C:\\Users\\user\\PycharmProjects\\spbu_deep_learning1\\homeworks\\rnn_hw\\test\\images\\3582.jpg: 640x512 1 horse, 1 elephant, 16.0ms\n",
      "Speed: 0.0ms preprocess, 16.0ms inference, 0.0ms postprocess per image at shape (1, 3, 640, 512)\n",
      "\n",
      "image 1/1 C:\\Users\\user\\PycharmProjects\\spbu_deep_learning1\\homeworks\\rnn_hw\\test\\images\\3587.jpg: 544x640 1 boat, 15.6ms\n",
      "Speed: 0.0ms preprocess, 15.6ms inference, 0.0ms postprocess per image at shape (1, 3, 544, 640)\n",
      "\n",
      "image 1/1 C:\\Users\\user\\PycharmProjects\\spbu_deep_learning1\\homeworks\\rnn_hw\\test\\images\\359.jpg: 640x640 (no detections), 31.2ms\n",
      "Speed: 0.0ms preprocess, 31.2ms inference, 0.0ms postprocess per image at shape (1, 3, 640, 640)\n",
      "\n",
      "image 1/1 C:\\Users\\user\\PycharmProjects\\spbu_deep_learning1\\homeworks\\rnn_hw\\test\\images\\3591.jpg: 640x544 1 vase, 16.6ms\n",
      "Speed: 15.6ms preprocess, 16.6ms inference, 0.0ms postprocess per image at shape (1, 3, 640, 544)\n",
      "\n",
      "image 1/1 C:\\Users\\user\\PycharmProjects\\spbu_deep_learning1\\homeworks\\rnn_hw\\test\\images\\3592.jpg: 640x512 (no detections), 15.0ms\n",
      "Speed: 0.0ms preprocess, 15.0ms inference, 0.0ms postprocess per image at shape (1, 3, 640, 512)\n",
      "\n",
      "image 1/1 C:\\Users\\user\\PycharmProjects\\spbu_deep_learning1\\homeworks\\rnn_hw\\test\\images\\3593.jpg: 640x512 1 bed, 15.6ms\n",
      "Speed: 0.0ms preprocess, 15.6ms inference, 0.0ms postprocess per image at shape (1, 3, 640, 512)\n",
      "\n",
      "image 1/1 C:\\Users\\user\\PycharmProjects\\spbu_deep_learning1\\homeworks\\rnn_hw\\test\\images\\3598.jpg: 640x512 1 dog, 1 horse, 1 donut, 31.2ms\n",
      "Speed: 0.0ms preprocess, 31.2ms inference, 0.0ms postprocess per image at shape (1, 3, 640, 512)\n",
      "\n",
      "image 1/1 C:\\Users\\user\\PycharmProjects\\spbu_deep_learning1\\homeworks\\rnn_hw\\test\\images\\3599.jpg: 640x512 1 person, 22.6ms\n",
      "Speed: 0.0ms preprocess, 22.6ms inference, 0.0ms postprocess per image at shape (1, 3, 640, 512)\n",
      "\n",
      "image 1/1 C:\\Users\\user\\PycharmProjects\\spbu_deep_learning1\\homeworks\\rnn_hw\\test\\images\\3603.jpg: 640x448 1 bird, 24.6ms\n",
      "Speed: 0.0ms preprocess, 24.6ms inference, 0.0ms postprocess per image at shape (1, 3, 640, 448)\n",
      "\n",
      "image 1/1 C:\\Users\\user\\PycharmProjects\\spbu_deep_learning1\\homeworks\\rnn_hw\\test\\images\\3605.jpg: 640x352 (no detections), 15.6ms\n",
      "Speed: 0.0ms preprocess, 15.6ms inference, 0.0ms postprocess per image at shape (1, 3, 640, 352)\n",
      "\n",
      "image 1/1 C:\\Users\\user\\PycharmProjects\\spbu_deep_learning1\\homeworks\\rnn_hw\\test\\images\\3608.jpg: 640x448 1 bird, 31.3ms\n",
      "Speed: 0.0ms preprocess, 31.3ms inference, 0.0ms postprocess per image at shape (1, 3, 640, 448)\n",
      "\n",
      "image 1/1 C:\\Users\\user\\PycharmProjects\\spbu_deep_learning1\\homeworks\\rnn_hw\\test\\images\\361.jpg: 640x480 (no detections), 15.6ms\n",
      "Speed: 0.0ms preprocess, 15.6ms inference, 0.0ms postprocess per image at shape (1, 3, 640, 480)\n",
      "\n",
      "image 1/1 C:\\Users\\user\\PycharmProjects\\spbu_deep_learning1\\homeworks\\rnn_hw\\test\\images\\3613.jpg: 640x352 2 birds, 17.1ms\n",
      "Speed: 0.0ms preprocess, 17.1ms inference, 0.0ms postprocess per image at shape (1, 3, 640, 352)\n",
      "\n",
      "image 1/1 C:\\Users\\user\\PycharmProjects\\spbu_deep_learning1\\homeworks\\rnn_hw\\test\\images\\3614.jpg: 640x448 (no detections), 15.6ms\n",
      "Speed: 0.0ms preprocess, 15.6ms inference, 0.0ms postprocess per image at shape (1, 3, 640, 448)\n",
      "\n",
      "image 1/1 C:\\Users\\user\\PycharmProjects\\spbu_deep_learning1\\homeworks\\rnn_hw\\test\\images\\3617.jpg: 640x352 (no detections), 15.6ms\n",
      "Speed: 0.0ms preprocess, 15.6ms inference, 0.0ms postprocess per image at shape (1, 3, 640, 352)\n",
      "\n",
      "image 1/1 C:\\Users\\user\\PycharmProjects\\spbu_deep_learning1\\homeworks\\rnn_hw\\test\\images\\3636.jpg: 640x352 (no detections), 15.6ms\n",
      "Speed: 0.0ms preprocess, 15.6ms inference, 0.0ms postprocess per image at shape (1, 3, 640, 352)\n",
      "\n",
      "image 1/1 C:\\Users\\user\\PycharmProjects\\spbu_deep_learning1\\homeworks\\rnn_hw\\test\\images\\364.jpg: 480x640 (no detections), 16.0ms\n",
      "Speed: 15.6ms preprocess, 16.0ms inference, 0.0ms postprocess per image at shape (1, 3, 480, 640)\n",
      "\n",
      "image 1/1 C:\\Users\\user\\PycharmProjects\\spbu_deep_learning1\\homeworks\\rnn_hw\\test\\images\\3644.jpg: 640x352 (no detections), 15.6ms\n",
      "Speed: 0.0ms preprocess, 15.6ms inference, 0.0ms postprocess per image at shape (1, 3, 640, 352)\n",
      "\n",
      "image 1/1 C:\\Users\\user\\PycharmProjects\\spbu_deep_learning1\\homeworks\\rnn_hw\\test\\images\\3647.jpg: 640x352 2 birds, 15.6ms\n",
      "Speed: 0.0ms preprocess, 15.6ms inference, 0.0ms postprocess per image at shape (1, 3, 640, 352)\n",
      "\n",
      "image 1/1 C:\\Users\\user\\PycharmProjects\\spbu_deep_learning1\\homeworks\\rnn_hw\\test\\images\\3655.jpg: 640x352 1 person, 15.6ms\n",
      "Speed: 0.0ms preprocess, 15.6ms inference, 0.0ms postprocess per image at shape (1, 3, 640, 352)\n",
      "\n",
      "image 1/1 C:\\Users\\user\\PycharmProjects\\spbu_deep_learning1\\homeworks\\rnn_hw\\test\\images\\3661.jpg: 640x352 1 bird, 16.0ms\n",
      "Speed: 0.0ms preprocess, 16.0ms inference, 0.0ms postprocess per image at shape (1, 3, 640, 352)\n",
      "\n",
      "image 1/1 C:\\Users\\user\\PycharmProjects\\spbu_deep_learning1\\homeworks\\rnn_hw\\test\\images\\3664.jpg: 640x352 (no detections), 15.6ms\n",
      "Speed: 0.0ms preprocess, 15.6ms inference, 0.0ms postprocess per image at shape (1, 3, 640, 352)\n",
      "\n",
      "image 1/1 C:\\Users\\user\\PycharmProjects\\spbu_deep_learning1\\homeworks\\rnn_hw\\test\\images\\3667.jpg: 640x352 1 bird, 1 potted plant, 31.2ms\n",
      "Speed: 0.0ms preprocess, 31.2ms inference, 0.0ms postprocess per image at shape (1, 3, 640, 352)\n",
      "\n",
      "image 1/1 C:\\Users\\user\\PycharmProjects\\spbu_deep_learning1\\homeworks\\rnn_hw\\test\\images\\3668.jpg: 640x352 3 birds, 15.6ms\n",
      "Speed: 0.0ms preprocess, 15.6ms inference, 0.0ms postprocess per image at shape (1, 3, 640, 352)\n",
      "\n",
      "image 1/1 C:\\Users\\user\\PycharmProjects\\spbu_deep_learning1\\homeworks\\rnn_hw\\test\\images\\3669.jpg: 640x352 2 birds, 17.1ms\n",
      "Speed: 15.6ms preprocess, 17.1ms inference, 0.0ms postprocess per image at shape (1, 3, 640, 352)\n",
      "\n",
      "image 1/1 C:\\Users\\user\\PycharmProjects\\spbu_deep_learning1\\homeworks\\rnn_hw\\test\\images\\3674.jpg: 640x352 3 birds, 22.1ms\n",
      "Speed: 0.0ms preprocess, 22.1ms inference, 0.0ms postprocess per image at shape (1, 3, 640, 352)\n",
      "\n",
      "image 1/1 C:\\Users\\user\\PycharmProjects\\spbu_deep_learning1\\homeworks\\rnn_hw\\test\\images\\3677.jpg: 352x640 1 bird, 24.1ms\n",
      "Speed: 0.0ms preprocess, 24.1ms inference, 0.0ms postprocess per image at shape (1, 3, 352, 640)\n",
      "\n",
      "image 1/1 C:\\Users\\user\\PycharmProjects\\spbu_deep_learning1\\homeworks\\rnn_hw\\test\\images\\3679.jpg: 640x352 1 bird, 31.2ms\n",
      "Speed: 0.0ms preprocess, 31.2ms inference, 0.0ms postprocess per image at shape (1, 3, 640, 352)\n",
      "\n",
      "image 1/1 C:\\Users\\user\\PycharmProjects\\spbu_deep_learning1\\homeworks\\rnn_hw\\test\\images\\3683.jpg: 640x352 1 bird, 22.6ms\n",
      "Speed: 0.0ms preprocess, 22.6ms inference, 0.0ms postprocess per image at shape (1, 3, 640, 352)\n",
      "\n",
      "image 1/1 C:\\Users\\user\\PycharmProjects\\spbu_deep_learning1\\homeworks\\rnn_hw\\test\\images\\3687.jpg: 640x352 1 bird, 24.6ms\n",
      "Speed: 0.0ms preprocess, 24.6ms inference, 0.0ms postprocess per image at shape (1, 3, 640, 352)\n",
      "\n",
      "image 1/1 C:\\Users\\user\\PycharmProjects\\spbu_deep_learning1\\homeworks\\rnn_hw\\test\\images\\3688.jpg: 640x352 1 potted plant, 15.6ms\n",
      "Speed: 0.0ms preprocess, 15.6ms inference, 0.0ms postprocess per image at shape (1, 3, 640, 352)\n",
      "\n",
      "image 1/1 C:\\Users\\user\\PycharmProjects\\spbu_deep_learning1\\homeworks\\rnn_hw\\test\\images\\3698.jpg: 640x352 (no detections), 15.6ms\n",
      "Speed: 15.6ms preprocess, 15.6ms inference, 0.0ms postprocess per image at shape (1, 3, 640, 352)\n",
      "\n",
      "image 1/1 C:\\Users\\user\\PycharmProjects\\spbu_deep_learning1\\homeworks\\rnn_hw\\test\\images\\3705.jpg: 352x640 2 birds, 15.6ms\n",
      "Speed: 0.0ms preprocess, 15.6ms inference, 13.0ms postprocess per image at shape (1, 3, 352, 640)\n",
      "\n",
      "image 1/1 C:\\Users\\user\\PycharmProjects\\spbu_deep_learning1\\homeworks\\rnn_hw\\test\\images\\3717.jpg: 640x352 1 potted plant, 15.6ms\n",
      "Speed: 0.0ms preprocess, 15.6ms inference, 0.0ms postprocess per image at shape (1, 3, 640, 352)\n",
      "\n",
      "image 1/1 C:\\Users\\user\\PycharmProjects\\spbu_deep_learning1\\homeworks\\rnn_hw\\test\\images\\3719.jpg: 640x640 3 umbrellas, 25.8ms\n",
      "Speed: 0.0ms preprocess, 25.8ms inference, 0.0ms postprocess per image at shape (1, 3, 640, 640)\n",
      "\n",
      "image 1/1 C:\\Users\\user\\PycharmProjects\\spbu_deep_learning1\\homeworks\\rnn_hw\\test\\images\\372.jpg: 448x640 5 persons, 1 bird, 15.6ms\n",
      "Speed: 0.0ms preprocess, 15.6ms inference, 0.0ms postprocess per image at shape (1, 3, 448, 640)\n",
      "\n",
      "image 1/1 C:\\Users\\user\\PycharmProjects\\spbu_deep_learning1\\homeworks\\rnn_hw\\test\\images\\3722.jpg: 640x576 1 couch, 15.6ms\n",
      "Speed: 0.0ms preprocess, 15.6ms inference, 0.0ms postprocess per image at shape (1, 3, 640, 576)\n",
      "\n",
      "image 1/1 C:\\Users\\user\\PycharmProjects\\spbu_deep_learning1\\homeworks\\rnn_hw\\test\\images\\3726.jpg: 640x640 (no detections), 7.0ms\n",
      "Speed: 0.0ms preprocess, 7.0ms inference, 0.0ms postprocess per image at shape (1, 3, 640, 640)\n",
      "\n",
      "image 1/1 C:\\Users\\user\\PycharmProjects\\spbu_deep_learning1\\homeworks\\rnn_hw\\test\\images\\3727.jpg: 640x544 1 vase, 16.8ms\n",
      "Speed: 0.0ms preprocess, 16.8ms inference, 0.0ms postprocess per image at shape (1, 3, 640, 544)\n",
      "\n",
      "image 1/1 C:\\Users\\user\\PycharmProjects\\spbu_deep_learning1\\homeworks\\rnn_hw\\test\\images\\373.jpg: 448x640 (no detections), 14.5ms\n",
      "Speed: 0.0ms preprocess, 14.5ms inference, 0.0ms postprocess per image at shape (1, 3, 448, 640)\n",
      "\n",
      "image 1/1 C:\\Users\\user\\PycharmProjects\\spbu_deep_learning1\\homeworks\\rnn_hw\\test\\images\\3732.jpg: 640x640 1 scissors, 15.6ms\n",
      "Speed: 0.0ms preprocess, 15.6ms inference, 0.0ms postprocess per image at shape (1, 3, 640, 640)\n",
      "\n",
      "image 1/1 C:\\Users\\user\\PycharmProjects\\spbu_deep_learning1\\homeworks\\rnn_hw\\test\\images\\3734.jpg: 640x608 (no detections), 31.6ms\n",
      "Speed: 0.0ms preprocess, 31.6ms inference, 0.0ms postprocess per image at shape (1, 3, 640, 608)\n",
      "\n",
      "image 1/1 C:\\Users\\user\\PycharmProjects\\spbu_deep_learning1\\homeworks\\rnn_hw\\test\\images\\3737.jpg: 640x640 1 potted plant, 1 vase, 15.6ms\n",
      "Speed: 0.0ms preprocess, 15.6ms inference, 0.0ms postprocess per image at shape (1, 3, 640, 640)\n",
      "\n",
      "image 1/1 C:\\Users\\user\\PycharmProjects\\spbu_deep_learning1\\homeworks\\rnn_hw\\test\\images\\3743.jpg: 640x480 1 person, 31.3ms\n",
      "Speed: 0.0ms preprocess, 31.3ms inference, 0.0ms postprocess per image at shape (1, 3, 640, 480)\n",
      "\n",
      "image 1/1 C:\\Users\\user\\PycharmProjects\\spbu_deep_learning1\\homeworks\\rnn_hw\\test\\images\\3745.jpg: 640x448 (no detections), 15.6ms\n",
      "Speed: 0.0ms preprocess, 15.6ms inference, 0.0ms postprocess per image at shape (1, 3, 640, 448)\n",
      "\n",
      "image 1/1 C:\\Users\\user\\PycharmProjects\\spbu_deep_learning1\\homeworks\\rnn_hw\\test\\images\\3747.jpg: 640x448 (no detections), 31.6ms\n",
      "Speed: 0.0ms preprocess, 31.6ms inference, 0.0ms postprocess per image at shape (1, 3, 640, 448)\n",
      "\n",
      "image 1/1 C:\\Users\\user\\PycharmProjects\\spbu_deep_learning1\\homeworks\\rnn_hw\\test\\images\\3749.jpg: 640x608 1 umbrella, 15.6ms\n",
      "Speed: 0.0ms preprocess, 15.6ms inference, 0.0ms postprocess per image at shape (1, 3, 640, 608)\n",
      "\n",
      "image 1/1 C:\\Users\\user\\PycharmProjects\\spbu_deep_learning1\\homeworks\\rnn_hw\\test\\images\\375.jpg: 640x480 1 person, 14.5ms\n",
      "Speed: 1.0ms preprocess, 14.5ms inference, 0.0ms postprocess per image at shape (1, 3, 640, 480)\n",
      "\n",
      "image 1/1 C:\\Users\\user\\PycharmProjects\\spbu_deep_learning1\\homeworks\\rnn_hw\\test\\images\\3750.jpg: 640x512 1 clock, 15.6ms\n",
      "Speed: 0.0ms preprocess, 15.6ms inference, 0.0ms postprocess per image at shape (1, 3, 640, 512)\n",
      "\n",
      "image 1/1 C:\\Users\\user\\PycharmProjects\\spbu_deep_learning1\\homeworks\\rnn_hw\\test\\images\\3751.jpg: 640x480 1 tie, 20.1ms\n",
      "Speed: 0.0ms preprocess, 20.1ms inference, 0.0ms postprocess per image at shape (1, 3, 640, 480)\n",
      "\n",
      "image 1/1 C:\\Users\\user\\PycharmProjects\\spbu_deep_learning1\\homeworks\\rnn_hw\\test\\images\\3753.jpg: 640x512 (no detections), 15.6ms\n",
      "Speed: 0.0ms preprocess, 15.6ms inference, 15.6ms postprocess per image at shape (1, 3, 640, 512)\n",
      "\n",
      "image 1/1 C:\\Users\\user\\PycharmProjects\\spbu_deep_learning1\\homeworks\\rnn_hw\\test\\images\\3755.jpg: 640x512 (no detections), 15.6ms\n",
      "Speed: 0.0ms preprocess, 15.6ms inference, 0.0ms postprocess per image at shape (1, 3, 640, 512)\n",
      "\n",
      "image 1/1 C:\\Users\\user\\PycharmProjects\\spbu_deep_learning1\\homeworks\\rnn_hw\\test\\images\\3759.jpg: 608x640 (no detections), 33.3ms\n",
      "Speed: 0.0ms preprocess, 33.3ms inference, 0.0ms postprocess per image at shape (1, 3, 608, 640)\n",
      "\n",
      "image 1/1 C:\\Users\\user\\PycharmProjects\\spbu_deep_learning1\\homeworks\\rnn_hw\\test\\images\\3765.jpg: 640x448 (no detections), 14.0ms\n",
      "Speed: 0.0ms preprocess, 14.0ms inference, 0.0ms postprocess per image at shape (1, 3, 640, 448)\n",
      "\n",
      "image 1/1 C:\\Users\\user\\PycharmProjects\\spbu_deep_learning1\\homeworks\\rnn_hw\\test\\images\\3773.jpg: 640x576 (no detections), 16.8ms\n",
      "Speed: 15.6ms preprocess, 16.8ms inference, 0.0ms postprocess per image at shape (1, 3, 640, 576)\n",
      "\n",
      "image 1/1 C:\\Users\\user\\PycharmProjects\\spbu_deep_learning1\\homeworks\\rnn_hw\\test\\images\\3779.jpg: 640x544 1 wine glass, 2 vases, 21.3ms\n",
      "Speed: 0.0ms preprocess, 21.3ms inference, 0.0ms postprocess per image at shape (1, 3, 640, 544)\n",
      "\n",
      "image 1/1 C:\\Users\\user\\PycharmProjects\\spbu_deep_learning1\\homeworks\\rnn_hw\\test\\images\\3783.jpg: 448x640 1 kite, 32.3ms\n",
      "Speed: 0.0ms preprocess, 32.3ms inference, 0.0ms postprocess per image at shape (1, 3, 448, 640)\n",
      "\n",
      "image 1/1 C:\\Users\\user\\PycharmProjects\\spbu_deep_learning1\\homeworks\\rnn_hw\\test\\images\\3786.jpg: 640x480 (no detections), 15.0ms\n",
      "Speed: 0.0ms preprocess, 15.0ms inference, 0.0ms postprocess per image at shape (1, 3, 640, 480)\n",
      "\n",
      "image 1/1 C:\\Users\\user\\PycharmProjects\\spbu_deep_learning1\\homeworks\\rnn_hw\\test\\images\\3787.jpg: 512x640 5 broccolis, 15.6ms\n",
      "Speed: 0.0ms preprocess, 15.6ms inference, 0.0ms postprocess per image at shape (1, 3, 512, 640)\n",
      "\n",
      "image 1/1 C:\\Users\\user\\PycharmProjects\\spbu_deep_learning1\\homeworks\\rnn_hw\\test\\images\\3789.jpg: 640x512 (no detections), 15.6ms\n",
      "Speed: 0.0ms preprocess, 15.6ms inference, 0.0ms postprocess per image at shape (1, 3, 640, 512)\n",
      "\n",
      "image 1/1 C:\\Users\\user\\PycharmProjects\\spbu_deep_learning1\\homeworks\\rnn_hw\\test\\images\\3792.jpg: 640x416 1 vase, 15.6ms\n",
      "Speed: 0.0ms preprocess, 15.6ms inference, 7.0ms postprocess per image at shape (1, 3, 640, 416)\n",
      "\n",
      "image 1/1 C:\\Users\\user\\PycharmProjects\\spbu_deep_learning1\\homeworks\\rnn_hw\\test\\images\\3793.jpg: 640x576 3 chairs, 1 dining table, 24.6ms\n",
      "Speed: 0.0ms preprocess, 24.6ms inference, 0.0ms postprocess per image at shape (1, 3, 640, 576)\n",
      "\n",
      "image 1/1 C:\\Users\\user\\PycharmProjects\\spbu_deep_learning1\\homeworks\\rnn_hw\\test\\images\\3796.jpg: 576x640 1 clock, 15.6ms\n",
      "Speed: 0.0ms preprocess, 15.6ms inference, 0.0ms postprocess per image at shape (1, 3, 576, 640)\n",
      "\n",
      "image 1/1 C:\\Users\\user\\PycharmProjects\\spbu_deep_learning1\\homeworks\\rnn_hw\\test\\images\\3798.jpg: 640x544 1 scissors, 31.3ms\n",
      "Speed: 0.0ms preprocess, 31.3ms inference, 0.0ms postprocess per image at shape (1, 3, 640, 544)\n",
      "\n",
      "image 1/1 C:\\Users\\user\\PycharmProjects\\spbu_deep_learning1\\homeworks\\rnn_hw\\test\\images\\38.jpg: 480x640 2 persons, 1 bottle, 28.6ms\n",
      "Speed: 0.0ms preprocess, 28.6ms inference, 0.0ms postprocess per image at shape (1, 3, 480, 640)\n",
      "\n",
      "image 1/1 C:\\Users\\user\\PycharmProjects\\spbu_deep_learning1\\homeworks\\rnn_hw\\test\\images\\380.jpg: 480x640 14 persons, 2 benchs, 1 chair, 15.6ms\n",
      "Speed: 0.0ms preprocess, 15.6ms inference, 0.0ms postprocess per image at shape (1, 3, 480, 640)\n",
      "\n",
      "image 1/1 C:\\Users\\user\\PycharmProjects\\spbu_deep_learning1\\homeworks\\rnn_hw\\test\\images\\3800.jpg: 640x576 1 cow, 1 cup, 31.7ms\n",
      "Speed: 0.0ms preprocess, 31.7ms inference, 0.0ms postprocess per image at shape (1, 3, 640, 576)\n",
      "\n",
      "image 1/1 C:\\Users\\user\\PycharmProjects\\spbu_deep_learning1\\homeworks\\rnn_hw\\test\\images\\3801.jpg: 640x544 (no detections), 15.6ms\n",
      "Speed: 0.0ms preprocess, 15.6ms inference, 0.0ms postprocess per image at shape (1, 3, 640, 544)\n",
      "\n",
      "image 1/1 C:\\Users\\user\\PycharmProjects\\spbu_deep_learning1\\homeworks\\rnn_hw\\test\\images\\3802.jpg: 640x544 (no detections), 31.2ms\n",
      "Speed: 0.0ms preprocess, 31.2ms inference, 0.0ms postprocess per image at shape (1, 3, 640, 544)\n",
      "\n",
      "image 1/1 C:\\Users\\user\\PycharmProjects\\spbu_deep_learning1\\homeworks\\rnn_hw\\test\\images\\381.jpg: 640x512 1 person, 1 cat, 13.0ms\n",
      "Speed: 0.0ms preprocess, 13.0ms inference, 0.0ms postprocess per image at shape (1, 3, 640, 512)\n",
      "\n",
      "image 1/1 C:\\Users\\user\\PycharmProjects\\spbu_deep_learning1\\homeworks\\rnn_hw\\test\\images\\3810.jpg: 576x640 1 potted plant, 1 vase, 15.6ms\n",
      "Speed: 15.6ms preprocess, 15.6ms inference, 0.0ms postprocess per image at shape (1, 3, 576, 640)\n",
      "\n",
      "image 1/1 C:\\Users\\user\\PycharmProjects\\spbu_deep_learning1\\homeworks\\rnn_hw\\test\\images\\3811.jpg: 384x640 (no detections), 15.6ms\n",
      "Speed: 0.0ms preprocess, 15.6ms inference, 0.0ms postprocess per image at shape (1, 3, 384, 640)\n",
      "\n",
      "image 1/1 C:\\Users\\user\\PycharmProjects\\spbu_deep_learning1\\homeworks\\rnn_hw\\test\\images\\3816.jpg: 416x640 1 person, 1 tie, 24.6ms\n",
      "Speed: 0.0ms preprocess, 24.6ms inference, 0.0ms postprocess per image at shape (1, 3, 416, 640)\n",
      "\n",
      "image 1/1 C:\\Users\\user\\PycharmProjects\\spbu_deep_learning1\\homeworks\\rnn_hw\\test\\images\\3817.jpg: 288x640 1 person, 2 potted plants, 1 vase, 22.6ms\n",
      "Speed: 0.0ms preprocess, 22.6ms inference, 0.0ms postprocess per image at shape (1, 3, 288, 640)\n",
      "\n",
      "image 1/1 C:\\Users\\user\\PycharmProjects\\spbu_deep_learning1\\homeworks\\rnn_hw\\test\\images\\3818.jpg: 544x640 (no detections), 15.6ms\n",
      "Speed: 0.0ms preprocess, 15.6ms inference, 0.0ms postprocess per image at shape (1, 3, 544, 640)\n",
      "\n",
      "image 1/1 C:\\Users\\user\\PycharmProjects\\spbu_deep_learning1\\homeworks\\rnn_hw\\test\\images\\3819.jpg: 544x640 2 persons, 15.6ms\n",
      "Speed: 0.0ms preprocess, 15.6ms inference, 0.0ms postprocess per image at shape (1, 3, 544, 640)\n",
      "\n",
      "image 1/1 C:\\Users\\user\\PycharmProjects\\spbu_deep_learning1\\homeworks\\rnn_hw\\test\\images\\3821.jpg: 640x544 (no detections), 17.6ms\n",
      "Speed: 0.0ms preprocess, 17.6ms inference, 0.0ms postprocess per image at shape (1, 3, 640, 544)\n",
      "\n",
      "image 1/1 C:\\Users\\user\\PycharmProjects\\spbu_deep_learning1\\homeworks\\rnn_hw\\test\\images\\3827.jpg: 448x640 2 bananas, 32.4ms\n",
      "Speed: 0.0ms preprocess, 32.4ms inference, 0.0ms postprocess per image at shape (1, 3, 448, 640)\n",
      "\n",
      "image 1/1 C:\\Users\\user\\PycharmProjects\\spbu_deep_learning1\\homeworks\\rnn_hw\\test\\images\\3829.jpg: 544x640 (no detections), 30.1ms\n",
      "Speed: 0.0ms preprocess, 30.1ms inference, 0.0ms postprocess per image at shape (1, 3, 544, 640)\n",
      "\n",
      "image 1/1 C:\\Users\\user\\PycharmProjects\\spbu_deep_learning1\\homeworks\\rnn_hw\\test\\images\\3835.jpg: 512x640 (no detections), 15.6ms\n",
      "Speed: 0.0ms preprocess, 15.6ms inference, 0.0ms postprocess per image at shape (1, 3, 512, 640)\n",
      "\n",
      "image 1/1 C:\\Users\\user\\PycharmProjects\\spbu_deep_learning1\\homeworks\\rnn_hw\\test\\images\\3838.jpg: 640x544 2 persons, 16.0ms\n",
      "Speed: 15.6ms preprocess, 16.0ms inference, 0.0ms postprocess per image at shape (1, 3, 640, 544)\n",
      "\n",
      "image 1/1 C:\\Users\\user\\PycharmProjects\\spbu_deep_learning1\\homeworks\\rnn_hw\\test\\images\\3846.jpg: 640x608 (no detections), 15.6ms\n",
      "Speed: 0.0ms preprocess, 15.6ms inference, 0.0ms postprocess per image at shape (1, 3, 640, 608)\n",
      "\n",
      "image 1/1 C:\\Users\\user\\PycharmProjects\\spbu_deep_learning1\\homeworks\\rnn_hw\\test\\images\\3852.jpg: 640x512 4 cows, 15.6ms\n",
      "Speed: 15.6ms preprocess, 15.6ms inference, 0.0ms postprocess per image at shape (1, 3, 640, 512)\n",
      "\n",
      "image 1/1 C:\\Users\\user\\PycharmProjects\\spbu_deep_learning1\\homeworks\\rnn_hw\\test\\images\\3857.jpg: 608x640 1 bottle, 1 bowl, 2 vases, 15.6ms\n",
      "Speed: 0.0ms preprocess, 15.6ms inference, 0.0ms postprocess per image at shape (1, 3, 608, 640)\n",
      "\n",
      "image 1/1 C:\\Users\\user\\PycharmProjects\\spbu_deep_learning1\\homeworks\\rnn_hw\\test\\images\\3858.jpg: 512x640 1 dining table, 1 vase, 16.0ms\n",
      "Speed: 0.0ms preprocess, 16.0ms inference, 0.0ms postprocess per image at shape (1, 3, 512, 640)\n",
      "\n",
      "image 1/1 C:\\Users\\user\\PycharmProjects\\spbu_deep_learning1\\homeworks\\rnn_hw\\test\\images\\3865.jpg: 640x512 5 persons, 1 frisbee, 1 couch, 1 cell phone, 31.3ms\n",
      "Speed: 0.0ms preprocess, 31.3ms inference, 0.0ms postprocess per image at shape (1, 3, 640, 512)\n",
      "\n",
      "image 1/1 C:\\Users\\user\\PycharmProjects\\spbu_deep_learning1\\homeworks\\rnn_hw\\test\\images\\3866.jpg: 640x512 1 kite, 15.6ms\n",
      "Speed: 0.0ms preprocess, 15.6ms inference, 0.0ms postprocess per image at shape (1, 3, 640, 512)\n",
      "\n",
      "image 1/1 C:\\Users\\user\\PycharmProjects\\spbu_deep_learning1\\homeworks\\rnn_hw\\test\\images\\3867.jpg: 480x640 2 birds, 15.6ms\n",
      "Speed: 15.6ms preprocess, 15.6ms inference, 0.0ms postprocess per image at shape (1, 3, 480, 640)\n",
      "\n",
      "image 1/1 C:\\Users\\user\\PycharmProjects\\spbu_deep_learning1\\homeworks\\rnn_hw\\test\\images\\387.jpg: 640x480 1 bird, 16.1ms\n",
      "Speed: 0.0ms preprocess, 16.1ms inference, 0.0ms postprocess per image at shape (1, 3, 640, 480)\n",
      "\n",
      "image 1/1 C:\\Users\\user\\PycharmProjects\\spbu_deep_learning1\\homeworks\\rnn_hw\\test\\images\\3873.jpg: 640x512 (no detections), 15.6ms\n",
      "Speed: 0.0ms preprocess, 15.6ms inference, 0.0ms postprocess per image at shape (1, 3, 640, 512)\n",
      "\n",
      "image 1/1 C:\\Users\\user\\PycharmProjects\\spbu_deep_learning1\\homeworks\\rnn_hw\\test\\images\\3877.jpg: 640x416 12 persons, 15.6ms\n",
      "Speed: 0.0ms preprocess, 15.6ms inference, 15.6ms postprocess per image at shape (1, 3, 640, 416)\n",
      "\n",
      "image 1/1 C:\\Users\\user\\PycharmProjects\\spbu_deep_learning1\\homeworks\\rnn_hw\\test\\images\\388.jpg: 544x640 1 bird, 15.6ms\n",
      "Speed: 0.0ms preprocess, 15.6ms inference, 0.0ms postprocess per image at shape (1, 3, 544, 640)\n",
      "\n",
      "image 1/1 C:\\Users\\user\\PycharmProjects\\spbu_deep_learning1\\homeworks\\rnn_hw\\test\\images\\3886.jpg: 640x512 2 persons, 1 couch, 31.6ms\n",
      "Speed: 0.0ms preprocess, 31.6ms inference, 0.0ms postprocess per image at shape (1, 3, 640, 512)\n",
      "\n",
      "image 1/1 C:\\Users\\user\\PycharmProjects\\spbu_deep_learning1\\homeworks\\rnn_hw\\test\\images\\3898.jpg: 640x512 2 persons, 15.6ms\n",
      "Speed: 0.0ms preprocess, 15.6ms inference, 0.0ms postprocess per image at shape (1, 3, 640, 512)\n",
      "\n",
      "image 1/1 C:\\Users\\user\\PycharmProjects\\spbu_deep_learning1\\homeworks\\rnn_hw\\test\\images\\3899.jpg: 544x640 1 person, 15.6ms\n",
      "Speed: 0.0ms preprocess, 15.6ms inference, 0.0ms postprocess per image at shape (1, 3, 544, 640)\n",
      "\n",
      "image 1/1 C:\\Users\\user\\PycharmProjects\\spbu_deep_learning1\\homeworks\\rnn_hw\\test\\images\\39.jpg: 480x640 1 potted plant, 1 vase, 31.2ms\n",
      "Speed: 0.0ms preprocess, 31.2ms inference, 0.0ms postprocess per image at shape (1, 3, 480, 640)\n",
      "\n",
      "image 1/1 C:\\Users\\user\\PycharmProjects\\spbu_deep_learning1\\homeworks\\rnn_hw\\test\\images\\3901.jpg: 640x512 (no detections), 16.0ms\n",
      "Speed: 0.0ms preprocess, 16.0ms inference, 0.0ms postprocess per image at shape (1, 3, 640, 512)\n",
      "\n",
      "image 1/1 C:\\Users\\user\\PycharmProjects\\spbu_deep_learning1\\homeworks\\rnn_hw\\test\\images\\3902.jpg: 544x640 2 persons, 12.1ms\n",
      "Speed: 0.0ms preprocess, 12.1ms inference, 0.0ms postprocess per image at shape (1, 3, 544, 640)\n",
      "\n",
      "image 1/1 C:\\Users\\user\\PycharmProjects\\spbu_deep_learning1\\homeworks\\rnn_hw\\test\\images\\3904.jpg: 512x640 1 cow, 15.6ms\n",
      "Speed: 0.0ms preprocess, 15.6ms inference, 0.0ms postprocess per image at shape (1, 3, 512, 640)\n",
      "\n",
      "image 1/1 C:\\Users\\user\\PycharmProjects\\spbu_deep_learning1\\homeworks\\rnn_hw\\test\\images\\3905.jpg: 640x544 1 cat, 15.6ms\n",
      "Speed: 15.6ms preprocess, 15.6ms inference, 0.0ms postprocess per image at shape (1, 3, 640, 544)\n",
      "\n",
      "image 1/1 C:\\Users\\user\\PycharmProjects\\spbu_deep_learning1\\homeworks\\rnn_hw\\test\\images\\391.jpg: 640x480 2 birds, 10.7ms\n",
      "Speed: 0.0ms preprocess, 10.7ms inference, 0.0ms postprocess per image at shape (1, 3, 640, 480)\n",
      "\n",
      "image 1/1 C:\\Users\\user\\PycharmProjects\\spbu_deep_learning1\\homeworks\\rnn_hw\\test\\images\\3912.jpg: 448x640 2 persons, 1 sports ball, 15.6ms\n",
      "Speed: 0.0ms preprocess, 15.6ms inference, 0.0ms postprocess per image at shape (1, 3, 448, 640)\n",
      "\n",
      "image 1/1 C:\\Users\\user\\PycharmProjects\\spbu_deep_learning1\\homeworks\\rnn_hw\\test\\images\\3914.jpg: 512x640 1 person, 15.6ms\n",
      "Speed: 0.0ms preprocess, 15.6ms inference, 15.6ms postprocess per image at shape (1, 3, 512, 640)\n",
      "\n",
      "image 1/1 C:\\Users\\user\\PycharmProjects\\spbu_deep_learning1\\homeworks\\rnn_hw\\test\\images\\3915.jpg: 640x576 1 person, 1 chair, 1 couch, 15.6ms\n",
      "Speed: 0.0ms preprocess, 15.6ms inference, 0.0ms postprocess per image at shape (1, 3, 640, 576)\n",
      "\n",
      "image 1/1 C:\\Users\\user\\PycharmProjects\\spbu_deep_learning1\\homeworks\\rnn_hw\\test\\images\\3916.jpg: 640x640 4 persons, 1 tie, 1 bed, 1 dining table, 1 vase, 15.6ms\n",
      "Speed: 3.5ms preprocess, 15.6ms inference, 0.0ms postprocess per image at shape (1, 3, 640, 640)\n",
      "\n",
      "image 1/1 C:\\Users\\user\\PycharmProjects\\spbu_deep_learning1\\homeworks\\rnn_hw\\test\\images\\3919.jpg: 640x576 1 person, 31.3ms\n",
      "Speed: 0.0ms preprocess, 31.3ms inference, 0.0ms postprocess per image at shape (1, 3, 640, 576)\n",
      "\n",
      "image 1/1 C:\\Users\\user\\PycharmProjects\\spbu_deep_learning1\\homeworks\\rnn_hw\\test\\images\\392.jpg: 480x640 2 birds, 31.3ms\n",
      "Speed: 0.0ms preprocess, 31.3ms inference, 0.0ms postprocess per image at shape (1, 3, 480, 640)\n",
      "\n",
      "image 1/1 C:\\Users\\user\\PycharmProjects\\spbu_deep_learning1\\homeworks\\rnn_hw\\test\\images\\3922.jpg: 640x512 (no detections), 18.6ms\n",
      "Speed: 0.0ms preprocess, 18.6ms inference, 0.0ms postprocess per image at shape (1, 3, 640, 512)\n",
      "\n",
      "image 1/1 C:\\Users\\user\\PycharmProjects\\spbu_deep_learning1\\homeworks\\rnn_hw\\test\\images\\3933.jpg: 544x640 4 persons, 8 horses, 15.6ms\n",
      "Speed: 0.0ms preprocess, 15.6ms inference, 0.0ms postprocess per image at shape (1, 3, 544, 640)\n",
      "\n",
      "image 1/1 C:\\Users\\user\\PycharmProjects\\spbu_deep_learning1\\homeworks\\rnn_hw\\test\\images\\3936.jpg: 640x608 2 kites, 31.3ms\n",
      "Speed: 0.0ms preprocess, 31.3ms inference, 0.0ms postprocess per image at shape (1, 3, 640, 608)\n",
      "\n",
      "image 1/1 C:\\Users\\user\\PycharmProjects\\spbu_deep_learning1\\homeworks\\rnn_hw\\test\\images\\394.jpg: 480x640 1 bird, 15.6ms\n",
      "Speed: 0.0ms preprocess, 15.6ms inference, 0.0ms postprocess per image at shape (1, 3, 480, 640)\n",
      "\n",
      "image 1/1 C:\\Users\\user\\PycharmProjects\\spbu_deep_learning1\\homeworks\\rnn_hw\\test\\images\\3941.jpg: 640x512 (no detections), 16.0ms\n",
      "Speed: 15.6ms preprocess, 16.0ms inference, 0.0ms postprocess per image at shape (1, 3, 640, 512)\n",
      "\n",
      "image 1/1 C:\\Users\\user\\PycharmProjects\\spbu_deep_learning1\\homeworks\\rnn_hw\\test\\images\\3942.jpg: 576x640 (no detections), 15.6ms\n",
      "Speed: 0.0ms preprocess, 15.6ms inference, 0.0ms postprocess per image at shape (1, 3, 576, 640)\n",
      "\n",
      "image 1/1 C:\\Users\\user\\PycharmProjects\\spbu_deep_learning1\\homeworks\\rnn_hw\\test\\images\\3943.jpg: 640x416 (no detections), 15.6ms\n",
      "Speed: 0.0ms preprocess, 15.6ms inference, 0.0ms postprocess per image at shape (1, 3, 640, 416)\n",
      "\n",
      "image 1/1 C:\\Users\\user\\PycharmProjects\\spbu_deep_learning1\\homeworks\\rnn_hw\\test\\images\\3944.jpg: 576x640 1 clock, 15.6ms\n",
      "Speed: 0.0ms preprocess, 15.6ms inference, 15.6ms postprocess per image at shape (1, 3, 576, 640)\n",
      "\n",
      "image 1/1 C:\\Users\\user\\PycharmProjects\\spbu_deep_learning1\\homeworks\\rnn_hw\\test\\images\\3945.jpg: 640x480 (no detections), 16.0ms\n",
      "Speed: 0.0ms preprocess, 16.0ms inference, 0.0ms postprocess per image at shape (1, 3, 640, 480)\n",
      "\n",
      "image 1/1 C:\\Users\\user\\PycharmProjects\\spbu_deep_learning1\\homeworks\\rnn_hw\\test\\images\\3954.jpg: 640x640 (no detections), 31.3ms\n",
      "Speed: 0.0ms preprocess, 31.3ms inference, 0.0ms postprocess per image at shape (1, 3, 640, 640)\n",
      "\n",
      "image 1/1 C:\\Users\\user\\PycharmProjects\\spbu_deep_learning1\\homeworks\\rnn_hw\\test\\images\\3955.jpg: 640x640 (no detections), 15.6ms\n",
      "Speed: 0.0ms preprocess, 15.6ms inference, 0.0ms postprocess per image at shape (1, 3, 640, 640)\n",
      "\n",
      "image 1/1 C:\\Users\\user\\PycharmProjects\\spbu_deep_learning1\\homeworks\\rnn_hw\\test\\images\\3956.jpg: 480x640 1 person, 1 bird, 25.2ms\n",
      "Speed: 0.0ms preprocess, 25.2ms inference, 0.0ms postprocess per image at shape (1, 3, 480, 640)\n",
      "\n",
      "image 1/1 C:\\Users\\user\\PycharmProjects\\spbu_deep_learning1\\homeworks\\rnn_hw\\test\\images\\3961.jpg: 640x448 (no detections), 31.7ms\n",
      "Speed: 0.0ms preprocess, 31.7ms inference, 0.0ms postprocess per image at shape (1, 3, 640, 448)\n",
      "\n",
      "image 1/1 C:\\Users\\user\\PycharmProjects\\spbu_deep_learning1\\homeworks\\rnn_hw\\test\\images\\3963.jpg: 544x640 (no detections), 15.6ms\n",
      "Speed: 0.0ms preprocess, 15.6ms inference, 0.0ms postprocess per image at shape (1, 3, 544, 640)\n",
      "\n",
      "image 1/1 C:\\Users\\user\\PycharmProjects\\spbu_deep_learning1\\homeworks\\rnn_hw\\test\\images\\3964.jpg: 640x480 (no detections), 15.6ms\n",
      "Speed: 0.0ms preprocess, 15.6ms inference, 0.0ms postprocess per image at shape (1, 3, 640, 480)\n",
      "\n",
      "image 1/1 C:\\Users\\user\\PycharmProjects\\spbu_deep_learning1\\homeworks\\rnn_hw\\test\\images\\3965.jpg: 544x640 2 persons, 1 horse, 15.6ms\n",
      "Speed: 0.0ms preprocess, 15.6ms inference, 0.0ms postprocess per image at shape (1, 3, 544, 640)\n",
      "\n",
      "image 1/1 C:\\Users\\user\\PycharmProjects\\spbu_deep_learning1\\homeworks\\rnn_hw\\test\\images\\3967.jpg: 576x640 1 cat, 1 dog, 1 couch, 33.3ms\n",
      "Speed: 0.0ms preprocess, 33.3ms inference, 0.0ms postprocess per image at shape (1, 3, 576, 640)\n",
      "\n",
      "image 1/1 C:\\Users\\user\\PycharmProjects\\spbu_deep_learning1\\homeworks\\rnn_hw\\test\\images\\3971.jpg: 640x608 (no detections), 14.0ms\n",
      "Speed: 0.0ms preprocess, 14.0ms inference, 0.0ms postprocess per image at shape (1, 3, 640, 608)\n",
      "\n",
      "image 1/1 C:\\Users\\user\\PycharmProjects\\spbu_deep_learning1\\homeworks\\rnn_hw\\test\\images\\3975.jpg: 480x640 (no detections), 15.6ms\n",
      "Speed: 15.6ms preprocess, 15.6ms inference, 0.0ms postprocess per image at shape (1, 3, 480, 640)\n",
      "\n",
      "image 1/1 C:\\Users\\user\\PycharmProjects\\spbu_deep_learning1\\homeworks\\rnn_hw\\test\\images\\398.jpg: 480x640 2 birds, 15.6ms\n",
      "Speed: 0.0ms preprocess, 15.6ms inference, 0.0ms postprocess per image at shape (1, 3, 480, 640)\n",
      "\n",
      "image 1/1 C:\\Users\\user\\PycharmProjects\\spbu_deep_learning1\\homeworks\\rnn_hw\\test\\images\\3989.jpg: 512x640 1 boat, 31.3ms\n",
      "Speed: 0.0ms preprocess, 31.3ms inference, 0.0ms postprocess per image at shape (1, 3, 512, 640)\n",
      "\n",
      "image 1/1 C:\\Users\\user\\PycharmProjects\\spbu_deep_learning1\\homeworks\\rnn_hw\\test\\images\\399.jpg: 640x512 3 birds, 16.0ms\n",
      "Speed: 0.0ms preprocess, 16.0ms inference, 0.0ms postprocess per image at shape (1, 3, 640, 512)\n",
      "\n",
      "image 1/1 C:\\Users\\user\\PycharmProjects\\spbu_deep_learning1\\homeworks\\rnn_hw\\test\\images\\3992.jpg: 544x640 (no detections), 31.3ms\n",
      "Speed: 0.0ms preprocess, 31.3ms inference, 0.0ms postprocess per image at shape (1, 3, 544, 640)\n",
      "\n",
      "image 1/1 C:\\Users\\user\\PycharmProjects\\spbu_deep_learning1\\homeworks\\rnn_hw\\test\\images\\3995.jpg: 640x640 1 person, 15.6ms\n",
      "Speed: 0.0ms preprocess, 15.6ms inference, 0.0ms postprocess per image at shape (1, 3, 640, 640)\n",
      "\n",
      "image 1/1 C:\\Users\\user\\PycharmProjects\\spbu_deep_learning1\\homeworks\\rnn_hw\\test\\images\\3996.jpg: 544x640 (no detections), 15.6ms\n",
      "Speed: 0.0ms preprocess, 15.6ms inference, 0.0ms postprocess per image at shape (1, 3, 544, 640)\n",
      "\n",
      "image 1/1 C:\\Users\\user\\PycharmProjects\\spbu_deep_learning1\\homeworks\\rnn_hw\\test\\images\\3998.jpg: 640x480 (no detections), 17.6ms\n",
      "Speed: 14.0ms preprocess, 17.6ms inference, 0.0ms postprocess per image at shape (1, 3, 640, 480)\n",
      "\n",
      "image 1/1 C:\\Users\\user\\PycharmProjects\\spbu_deep_learning1\\homeworks\\rnn_hw\\test\\images\\4.jpg: 448x640 3 cars, 1 bus, 1 truck, 15.6ms\n",
      "Speed: 0.0ms preprocess, 15.6ms inference, 0.0ms postprocess per image at shape (1, 3, 448, 640)\n",
      "\n",
      "image 1/1 C:\\Users\\user\\PycharmProjects\\spbu_deep_learning1\\homeworks\\rnn_hw\\test\\images\\40.jpg: 480x640 1 car, 15.6ms\n",
      "Speed: 0.0ms preprocess, 15.6ms inference, 0.0ms postprocess per image at shape (1, 3, 480, 640)\n",
      "\n",
      "image 1/1 C:\\Users\\user\\PycharmProjects\\spbu_deep_learning1\\homeworks\\rnn_hw\\test\\images\\4002.jpg: 640x640 (no detections), 31.2ms\n",
      "Speed: 0.0ms preprocess, 31.2ms inference, 0.0ms postprocess per image at shape (1, 3, 640, 640)\n",
      "\n",
      "image 1/1 C:\\Users\\user\\PycharmProjects\\spbu_deep_learning1\\homeworks\\rnn_hw\\test\\images\\4008.jpg: 448x640 (no detections), 11.5ms\n",
      "Speed: 0.0ms preprocess, 11.5ms inference, 0.0ms postprocess per image at shape (1, 3, 448, 640)\n",
      "\n",
      "image 1/1 C:\\Users\\user\\PycharmProjects\\spbu_deep_learning1\\homeworks\\rnn_hw\\test\\images\\4021.jpg: 640x192 1 person, 15.6ms\n",
      "Speed: 0.0ms preprocess, 15.6ms inference, 0.0ms postprocess per image at shape (1, 3, 640, 192)\n",
      "\n",
      "image 1/1 C:\\Users\\user\\PycharmProjects\\spbu_deep_learning1\\homeworks\\rnn_hw\\test\\images\\4022.jpg: 640x256 1 potted plant, 15.6ms\n",
      "Speed: 0.0ms preprocess, 15.6ms inference, 0.0ms postprocess per image at shape (1, 3, 640, 256)\n",
      "\n",
      "image 1/1 C:\\Users\\user\\PycharmProjects\\spbu_deep_learning1\\homeworks\\rnn_hw\\test\\images\\4025.jpg: 640x192 1 person, 15.6ms\n",
      "Speed: 0.0ms preprocess, 15.6ms inference, 15.6ms postprocess per image at shape (1, 3, 640, 192)\n",
      "\n",
      "image 1/1 C:\\Users\\user\\PycharmProjects\\spbu_deep_learning1\\homeworks\\rnn_hw\\test\\images\\4028.jpg: 512x640 1 boat, 16.0ms\n",
      "Speed: 0.0ms preprocess, 16.0ms inference, 0.0ms postprocess per image at shape (1, 3, 512, 640)\n",
      "\n",
      "image 1/1 C:\\Users\\user\\PycharmProjects\\spbu_deep_learning1\\homeworks\\rnn_hw\\test\\images\\4029.jpg: 480x640 16 persons, 3 horses, 1 elephant, 15.6ms\n",
      "Speed: 0.0ms preprocess, 15.6ms inference, 15.6ms postprocess per image at shape (1, 3, 480, 640)\n",
      "\n",
      "image 1/1 C:\\Users\\user\\PycharmProjects\\spbu_deep_learning1\\homeworks\\rnn_hw\\test\\images\\4032.jpg: 640x544 11 persons, 15.6ms\n",
      "Speed: 0.0ms preprocess, 15.6ms inference, 0.0ms postprocess per image at shape (1, 3, 640, 544)\n",
      "\n",
      "image 1/1 C:\\Users\\user\\PycharmProjects\\spbu_deep_learning1\\homeworks\\rnn_hw\\test\\images\\4034.jpg: 640x512 8 persons, 1 dog, 15.6ms\n",
      "Speed: 15.6ms preprocess, 15.6ms inference, 0.0ms postprocess per image at shape (1, 3, 640, 512)\n",
      "\n",
      "image 1/1 C:\\Users\\user\\PycharmProjects\\spbu_deep_learning1\\homeworks\\rnn_hw\\test\\images\\4035.jpg: 640x544 4 persons, 31.6ms\n",
      "Speed: 0.0ms preprocess, 31.6ms inference, 0.0ms postprocess per image at shape (1, 3, 640, 544)\n",
      "\n",
      "image 1/1 C:\\Users\\user\\PycharmProjects\\spbu_deep_learning1\\homeworks\\rnn_hw\\test\\images\\4036.jpg: 640x544 1 person, 23.2ms\n",
      "Speed: 0.0ms preprocess, 23.2ms inference, 0.0ms postprocess per image at shape (1, 3, 640, 544)\n",
      "\n",
      "image 1/1 C:\\Users\\user\\PycharmProjects\\spbu_deep_learning1\\homeworks\\rnn_hw\\test\\images\\4037.jpg: 640x512 2 persons, 15.6ms\n",
      "Speed: 0.0ms preprocess, 15.6ms inference, 0.0ms postprocess per image at shape (1, 3, 640, 512)\n",
      "\n",
      "image 1/1 C:\\Users\\user\\PycharmProjects\\spbu_deep_learning1\\homeworks\\rnn_hw\\test\\images\\4038.jpg: 640x480 1 person, 1 baseball bat, 1 book, 31.2ms\n",
      "Speed: 0.0ms preprocess, 31.2ms inference, 0.0ms postprocess per image at shape (1, 3, 640, 480)\n",
      "\n",
      "image 1/1 C:\\Users\\user\\PycharmProjects\\spbu_deep_learning1\\homeworks\\rnn_hw\\test\\images\\4044.jpg: 480x640 1 vase, 12.0ms\n",
      "Speed: 0.0ms preprocess, 12.0ms inference, 0.0ms postprocess per image at shape (1, 3, 480, 640)\n",
      "\n",
      "image 1/1 C:\\Users\\user\\PycharmProjects\\spbu_deep_learning1\\homeworks\\rnn_hw\\test\\images\\4053.jpg: 640x544 2 persons, 15.6ms\n",
      "Speed: 15.6ms preprocess, 15.6ms inference, 0.0ms postprocess per image at shape (1, 3, 640, 544)\n",
      "\n",
      "image 1/1 C:\\Users\\user\\PycharmProjects\\spbu_deep_learning1\\homeworks\\rnn_hw\\test\\images\\4056.jpg: 512x640 1 wine glass, 1 knife, 1 vase, 15.6ms\n",
      "Speed: 0.0ms preprocess, 15.6ms inference, 15.6ms postprocess per image at shape (1, 3, 512, 640)\n",
      "\n",
      "image 1/1 C:\\Users\\user\\PycharmProjects\\spbu_deep_learning1\\homeworks\\rnn_hw\\test\\images\\4057.jpg: 640x480 (no detections), 15.6ms\n",
      "Speed: 0.0ms preprocess, 15.6ms inference, 0.0ms postprocess per image at shape (1, 3, 640, 480)\n",
      "\n",
      "image 1/1 C:\\Users\\user\\PycharmProjects\\spbu_deep_learning1\\homeworks\\rnn_hw\\test\\images\\4059.jpg: 640x544 1 vase, 21.6ms\n",
      "Speed: 0.0ms preprocess, 21.6ms inference, 0.0ms postprocess per image at shape (1, 3, 640, 544)\n",
      "\n",
      "image 1/1 C:\\Users\\user\\PycharmProjects\\spbu_deep_learning1\\homeworks\\rnn_hw\\test\\images\\4063.jpg: 544x640 (no detections), 15.6ms\n",
      "Speed: 0.0ms preprocess, 15.6ms inference, 0.0ms postprocess per image at shape (1, 3, 544, 640)\n",
      "\n",
      "image 1/1 C:\\Users\\user\\PycharmProjects\\spbu_deep_learning1\\homeworks\\rnn_hw\\test\\images\\4065.jpg: 448x640 (no detections), 15.6ms\n",
      "Speed: 15.6ms preprocess, 15.6ms inference, 0.0ms postprocess per image at shape (1, 3, 448, 640)\n",
      "\n",
      "image 1/1 C:\\Users\\user\\PycharmProjects\\spbu_deep_learning1\\homeworks\\rnn_hw\\test\\images\\4068.jpg: 480x640 1 hot dog, 1 donut, 31.2ms\n",
      "Speed: 0.0ms preprocess, 31.2ms inference, 0.5ms postprocess per image at shape (1, 3, 480, 640)\n",
      "\n",
      "image 1/1 C:\\Users\\user\\PycharmProjects\\spbu_deep_learning1\\homeworks\\rnn_hw\\test\\images\\4070.jpg: 512x640 1 cup, 1 spoon, 1 donut, 1 dining table, 15.5ms\n",
      "Speed: 0.0ms preprocess, 15.5ms inference, 0.0ms postprocess per image at shape (1, 3, 512, 640)\n",
      "\n",
      "image 1/1 C:\\Users\\user\\PycharmProjects\\spbu_deep_learning1\\homeworks\\rnn_hw\\test\\images\\4075.jpg: 512x640 3 donuts, 1 dining table, 31.7ms\n",
      "Speed: 0.0ms preprocess, 31.7ms inference, 0.0ms postprocess per image at shape (1, 3, 512, 640)\n",
      "\n",
      "image 1/1 C:\\Users\\user\\PycharmProjects\\spbu_deep_learning1\\homeworks\\rnn_hw\\test\\images\\408.jpg: 448x640 3 birds, 15.6ms\n",
      "Speed: 0.0ms preprocess, 15.6ms inference, 0.0ms postprocess per image at shape (1, 3, 448, 640)\n",
      "\n",
      "image 1/1 C:\\Users\\user\\PycharmProjects\\spbu_deep_learning1\\homeworks\\rnn_hw\\test\\images\\4085.jpg: 512x640 4 bottles, 1 cup, 1 bowl, 1 dining table, 1 oven, 31.2ms\n",
      "Speed: 0.0ms preprocess, 31.2ms inference, 0.0ms postprocess per image at shape (1, 3, 512, 640)\n",
      "\n",
      "image 1/1 C:\\Users\\user\\PycharmProjects\\spbu_deep_learning1\\homeworks\\rnn_hw\\test\\images\\4087.jpg: 640x416 (no detections), 10.0ms\n",
      "Speed: 0.0ms preprocess, 10.0ms inference, 0.0ms postprocess per image at shape (1, 3, 640, 416)\n",
      "\n",
      "image 1/1 C:\\Users\\user\\PycharmProjects\\spbu_deep_learning1\\homeworks\\rnn_hw\\test\\images\\4088.jpg: 512x640 2 bottles, 1 dining table, 15.6ms\n",
      "Speed: 15.6ms preprocess, 15.6ms inference, 0.0ms postprocess per image at shape (1, 3, 512, 640)\n",
      "\n",
      "image 1/1 C:\\Users\\user\\PycharmProjects\\spbu_deep_learning1\\homeworks\\rnn_hw\\test\\images\\4089.jpg: 512x640 3 donuts, 1 dining table, 15.6ms\n",
      "Speed: 0.0ms preprocess, 15.6ms inference, 0.0ms postprocess per image at shape (1, 3, 512, 640)\n",
      "\n",
      "image 1/1 C:\\Users\\user\\PycharmProjects\\spbu_deep_learning1\\homeworks\\rnn_hw\\test\\images\\4090.jpg: 448x640 2 bottles, 20.6ms\n",
      "Speed: 0.0ms preprocess, 20.6ms inference, 0.0ms postprocess per image at shape (1, 3, 448, 640)\n",
      "\n",
      "image 1/1 C:\\Users\\user\\PycharmProjects\\spbu_deep_learning1\\homeworks\\rnn_hw\\test\\images\\4095.jpg: 544x640 5 boats, 4.0ms\n",
      "Speed: 7.0ms preprocess, 4.0ms inference, 15.6ms postprocess per image at shape (1, 3, 544, 640)\n",
      "\n",
      "image 1/1 C:\\Users\\user\\PycharmProjects\\spbu_deep_learning1\\homeworks\\rnn_hw\\test\\images\\4098.jpg: 480x640 4 persons, 15.6ms\n",
      "Speed: 0.0ms preprocess, 15.6ms inference, 0.0ms postprocess per image at shape (1, 3, 480, 640)\n",
      "\n",
      "image 1/1 C:\\Users\\user\\PycharmProjects\\spbu_deep_learning1\\homeworks\\rnn_hw\\test\\images\\41.jpg: 480x640 1 person, 2 boats, 1 dog, 2 umbrellas, 1 apple, 1 chair, 1 couch, 1 dining table, 31.2ms\n",
      "Speed: 0.0ms preprocess, 31.2ms inference, 0.0ms postprocess per image at shape (1, 3, 480, 640)\n",
      "\n",
      "image 1/1 C:\\Users\\user\\PycharmProjects\\spbu_deep_learning1\\homeworks\\rnn_hw\\test\\images\\4105.jpg: 640x480 1 person, 15.6ms\n",
      "Speed: 0.0ms preprocess, 15.6ms inference, 0.0ms postprocess per image at shape (1, 3, 640, 480)\n",
      "\n",
      "image 1/1 C:\\Users\\user\\PycharmProjects\\spbu_deep_learning1\\homeworks\\rnn_hw\\test\\images\\4108.jpg: 640x416 6 persons, 31.6ms\n",
      "Speed: 0.0ms preprocess, 31.6ms inference, 0.0ms postprocess per image at shape (1, 3, 640, 416)\n",
      "\n",
      "image 1/1 C:\\Users\\user\\PycharmProjects\\spbu_deep_learning1\\homeworks\\rnn_hw\\test\\images\\411.jpg: 416x640 4 birds, 15.6ms\n",
      "Speed: 0.0ms preprocess, 15.6ms inference, 0.0ms postprocess per image at shape (1, 3, 416, 640)\n",
      "\n",
      "image 1/1 C:\\Users\\user\\PycharmProjects\\spbu_deep_learning1\\homeworks\\rnn_hw\\test\\images\\4112.jpg: 640x416 1 person, 15.6ms\n",
      "Speed: 0.0ms preprocess, 15.6ms inference, 0.0ms postprocess per image at shape (1, 3, 640, 416)\n",
      "\n",
      "image 1/1 C:\\Users\\user\\PycharmProjects\\spbu_deep_learning1\\homeworks\\rnn_hw\\test\\images\\4113.jpg: 640x448 1 person, 15.6ms\n",
      "Speed: 0.0ms preprocess, 15.6ms inference, 0.0ms postprocess per image at shape (1, 3, 640, 448)\n",
      "\n",
      "image 1/1 C:\\Users\\user\\PycharmProjects\\spbu_deep_learning1\\homeworks\\rnn_hw\\test\\images\\4115.jpg: 640x544 4 persons, 1 clock, 1 vase, 16.0ms\n",
      "Speed: 0.0ms preprocess, 16.0ms inference, 0.0ms postprocess per image at shape (1, 3, 640, 544)\n",
      "\n",
      "image 1/1 C:\\Users\\user\\PycharmProjects\\spbu_deep_learning1\\homeworks\\rnn_hw\\test\\images\\4116.jpg: 512x640 10 persons, 1 dog, 2 frisbees, 31.3ms\n",
      "Speed: 0.0ms preprocess, 31.3ms inference, 0.0ms postprocess per image at shape (1, 3, 512, 640)\n",
      "\n",
      "image 1/1 C:\\Users\\user\\PycharmProjects\\spbu_deep_learning1\\homeworks\\rnn_hw\\test\\images\\4117.jpg: 640x448 1 person, 1 baseball glove, 15.6ms\n",
      "Speed: 0.0ms preprocess, 15.6ms inference, 0.0ms postprocess per image at shape (1, 3, 640, 448)\n",
      "\n",
      "image 1/1 C:\\Users\\user\\PycharmProjects\\spbu_deep_learning1\\homeworks\\rnn_hw\\test\\images\\412.jpg: 480x640 6 birds, 15.6ms\n",
      "Speed: 0.0ms preprocess, 15.6ms inference, 0.0ms postprocess per image at shape (1, 3, 480, 640)\n",
      "\n",
      "image 1/1 C:\\Users\\user\\PycharmProjects\\spbu_deep_learning1\\homeworks\\rnn_hw\\test\\images\\4131.jpg: 640x256 (no detections), 16.0ms\n",
      "Speed: 0.0ms preprocess, 16.0ms inference, 0.0ms postprocess per image at shape (1, 3, 640, 256)\n",
      "\n",
      "image 1/1 C:\\Users\\user\\PycharmProjects\\spbu_deep_learning1\\homeworks\\rnn_hw\\test\\images\\4134.jpg: 640x576 (no detections), 15.6ms\n",
      "Speed: 0.0ms preprocess, 15.6ms inference, 0.0ms postprocess per image at shape (1, 3, 640, 576)\n",
      "\n",
      "image 1/1 C:\\Users\\user\\PycharmProjects\\spbu_deep_learning1\\homeworks\\rnn_hw\\test\\images\\4137.jpg: 640x544 (no detections), 15.6ms\n",
      "Speed: 0.0ms preprocess, 15.6ms inference, 0.0ms postprocess per image at shape (1, 3, 640, 544)\n",
      "\n",
      "image 1/1 C:\\Users\\user\\PycharmProjects\\spbu_deep_learning1\\homeworks\\rnn_hw\\test\\images\\414.jpg: 640x480 2 birds, 15.6ms\n",
      "Speed: 0.0ms preprocess, 15.6ms inference, 0.0ms postprocess per image at shape (1, 3, 640, 480)\n",
      "\n",
      "image 1/1 C:\\Users\\user\\PycharmProjects\\spbu_deep_learning1\\homeworks\\rnn_hw\\test\\images\\4143.jpg: 640x576 1 person, 1 handbag, 31.6ms\n",
      "Speed: 0.0ms preprocess, 31.6ms inference, 0.0ms postprocess per image at shape (1, 3, 640, 576)\n",
      "\n",
      "image 1/1 C:\\Users\\user\\PycharmProjects\\spbu_deep_learning1\\homeworks\\rnn_hw\\test\\images\\4147.jpg: 640x544 1 person, 1 tie, 15.6ms\n",
      "Speed: 0.0ms preprocess, 15.6ms inference, 0.0ms postprocess per image at shape (1, 3, 640, 544)\n",
      "\n",
      "image 1/1 C:\\Users\\user\\PycharmProjects\\spbu_deep_learning1\\homeworks\\rnn_hw\\test\\images\\4150.jpg: 640x576 1 person, 31.3ms\n",
      "Speed: 0.0ms preprocess, 31.3ms inference, 0.0ms postprocess per image at shape (1, 3, 640, 576)\n",
      "\n",
      "image 1/1 C:\\Users\\user\\PycharmProjects\\spbu_deep_learning1\\homeworks\\rnn_hw\\test\\images\\4152.jpg: 640x576 1 person, 23.7ms\n",
      "Speed: 0.0ms preprocess, 23.7ms inference, 0.0ms postprocess per image at shape (1, 3, 640, 576)\n",
      "\n",
      "image 1/1 C:\\Users\\user\\PycharmProjects\\spbu_deep_learning1\\homeworks\\rnn_hw\\test\\images\\4153.jpg: 640x416 1 person, 18.6ms\n",
      "Speed: 0.0ms preprocess, 18.6ms inference, 0.0ms postprocess per image at shape (1, 3, 640, 416)\n",
      "\n",
      "image 1/1 C:\\Users\\user\\PycharmProjects\\spbu_deep_learning1\\homeworks\\rnn_hw\\test\\images\\4156.jpg: 608x640 1 person, 22.3ms\n",
      "Speed: 0.0ms preprocess, 22.3ms inference, 0.0ms postprocess per image at shape (1, 3, 608, 640)\n",
      "\n",
      "image 1/1 C:\\Users\\user\\PycharmProjects\\spbu_deep_learning1\\homeworks\\rnn_hw\\test\\images\\4158.jpg: 640x544 3 persons, 1 cell phone, 8.0ms\n",
      "Speed: 0.0ms preprocess, 8.0ms inference, 15.6ms postprocess per image at shape (1, 3, 640, 544)\n",
      "\n",
      "image 1/1 C:\\Users\\user\\PycharmProjects\\spbu_deep_learning1\\homeworks\\rnn_hw\\test\\images\\416.jpg: 640x512 11 birds, 15.6ms\n",
      "Speed: 0.0ms preprocess, 15.6ms inference, 0.0ms postprocess per image at shape (1, 3, 640, 512)\n",
      "\n",
      "image 1/1 C:\\Users\\user\\PycharmProjects\\spbu_deep_learning1\\homeworks\\rnn_hw\\test\\images\\4165.jpg: 640x576 1 person, 1 clock, 31.6ms\n",
      "Speed: 0.0ms preprocess, 31.6ms inference, 0.0ms postprocess per image at shape (1, 3, 640, 576)\n",
      "\n",
      "image 1/1 C:\\Users\\user\\PycharmProjects\\spbu_deep_learning1\\homeworks\\rnn_hw\\test\\images\\4166.jpg: 640x512 1 person, 1 sports ball, 15.6ms\n",
      "Speed: 0.0ms preprocess, 15.6ms inference, 0.0ms postprocess per image at shape (1, 3, 640, 512)\n",
      "\n",
      "image 1/1 C:\\Users\\user\\PycharmProjects\\spbu_deep_learning1\\homeworks\\rnn_hw\\test\\images\\4167.jpg: 544x640 9 persons, 1 cat, 1 tie, 1 chair, 15.6ms\n",
      "Speed: 0.0ms preprocess, 15.6ms inference, 0.0ms postprocess per image at shape (1, 3, 544, 640)\n",
      "\n",
      "image 1/1 C:\\Users\\user\\PycharmProjects\\spbu_deep_learning1\\homeworks\\rnn_hw\\test\\images\\4169.jpg: 640x512 3 persons, 15.6ms\n",
      "Speed: 0.0ms preprocess, 15.6ms inference, 0.0ms postprocess per image at shape (1, 3, 640, 512)\n",
      "\n",
      "image 1/1 C:\\Users\\user\\PycharmProjects\\spbu_deep_learning1\\homeworks\\rnn_hw\\test\\images\\417.jpg: 448x640 5 birds, 16.0ms\n",
      "Speed: 0.0ms preprocess, 16.0ms inference, 0.0ms postprocess per image at shape (1, 3, 448, 640)\n",
      "\n",
      "image 1/1 C:\\Users\\user\\PycharmProjects\\spbu_deep_learning1\\homeworks\\rnn_hw\\test\\images\\4174.jpg: 640x544 3 persons, 1 teddy bear, 15.6ms\n",
      "Speed: 0.0ms preprocess, 15.6ms inference, 15.6ms postprocess per image at shape (1, 3, 640, 544)\n",
      "\n",
      "image 1/1 C:\\Users\\user\\PycharmProjects\\spbu_deep_learning1\\homeworks\\rnn_hw\\test\\images\\4176.jpg: 640x416 1 person, 1 dog, 15.6ms\n",
      "Speed: 0.0ms preprocess, 15.6ms inference, 0.0ms postprocess per image at shape (1, 3, 640, 416)\n",
      "\n",
      "image 1/1 C:\\Users\\user\\PycharmProjects\\spbu_deep_learning1\\homeworks\\rnn_hw\\test\\images\\4178.jpg: 640x448 1 person, 15.6ms\n",
      "Speed: 0.0ms preprocess, 15.6ms inference, 0.0ms postprocess per image at shape (1, 3, 640, 448)\n",
      "\n",
      "image 1/1 C:\\Users\\user\\PycharmProjects\\spbu_deep_learning1\\homeworks\\rnn_hw\\test\\images\\4183.jpg: 224x640 1 traffic light, 15.6ms\n",
      "Speed: 0.0ms preprocess, 15.6ms inference, 5.5ms postprocess per image at shape (1, 3, 224, 640)\n",
      "\n",
      "image 1/1 C:\\Users\\user\\PycharmProjects\\spbu_deep_learning1\\homeworks\\rnn_hw\\test\\images\\4184.jpg: 640x640 (no detections), 10.5ms\n",
      "Speed: 0.0ms preprocess, 10.5ms inference, 0.0ms postprocess per image at shape (1, 3, 640, 640)\n",
      "\n",
      "image 1/1 C:\\Users\\user\\PycharmProjects\\spbu_deep_learning1\\homeworks\\rnn_hw\\test\\images\\4186.jpg: 640x640 (no detections), 16.8ms\n",
      "Speed: 0.0ms preprocess, 16.8ms inference, 0.0ms postprocess per image at shape (1, 3, 640, 640)\n",
      "\n",
      "image 1/1 C:\\Users\\user\\PycharmProjects\\spbu_deep_learning1\\homeworks\\rnn_hw\\test\\images\\4187.jpg: 640x640 1 clock, 14.5ms\n",
      "Speed: 0.0ms preprocess, 14.5ms inference, 15.6ms postprocess per image at shape (1, 3, 640, 640)\n",
      "\n",
      "image 1/1 C:\\Users\\user\\PycharmProjects\\spbu_deep_learning1\\homeworks\\rnn_hw\\test\\images\\4188.jpg: 448x640 (no detections), 15.6ms\n",
      "Speed: 0.0ms preprocess, 15.6ms inference, 0.0ms postprocess per image at shape (1, 3, 448, 640)\n",
      "\n",
      "image 1/1 C:\\Users\\user\\PycharmProjects\\spbu_deep_learning1\\homeworks\\rnn_hw\\test\\images\\4192.jpg: 640x640 (no detections), 20.1ms\n",
      "Speed: 0.0ms preprocess, 20.1ms inference, 0.0ms postprocess per image at shape (1, 3, 640, 640)\n",
      "\n",
      "image 1/1 C:\\Users\\user\\PycharmProjects\\spbu_deep_learning1\\homeworks\\rnn_hw\\test\\images\\4193.jpg: 448x640 (no detections), 15.6ms\n",
      "Speed: 0.0ms preprocess, 15.6ms inference, 0.0ms postprocess per image at shape (1, 3, 448, 640)\n",
      "\n",
      "image 1/1 C:\\Users\\user\\PycharmProjects\\spbu_deep_learning1\\homeworks\\rnn_hw\\test\\images\\4194.jpg: 512x640 1 traffic light, 31.3ms\n",
      "Speed: 0.0ms preprocess, 31.3ms inference, 0.0ms postprocess per image at shape (1, 3, 512, 640)\n",
      "\n",
      "image 1/1 C:\\Users\\user\\PycharmProjects\\spbu_deep_learning1\\homeworks\\rnn_hw\\test\\images\\42.jpg: 480x640 1 bicycle, 1 motorcycle, 1 umbrella, 15.6ms\n",
      "Speed: 0.0ms preprocess, 15.6ms inference, 0.0ms postprocess per image at shape (1, 3, 480, 640)\n",
      "\n",
      "image 1/1 C:\\Users\\user\\PycharmProjects\\spbu_deep_learning1\\homeworks\\rnn_hw\\test\\images\\4200.jpg: 448x640 2 persons, 2 ties, 1 couch, 31.6ms\n",
      "Speed: 0.0ms preprocess, 31.6ms inference, 0.0ms postprocess per image at shape (1, 3, 448, 640)\n",
      "\n",
      "image 1/1 C:\\Users\\user\\PycharmProjects\\spbu_deep_learning1\\homeworks\\rnn_hw\\test\\images\\4201.jpg: 640x512 1 person, 1 laptop, 15.6ms\n",
      "Speed: 0.0ms preprocess, 15.6ms inference, 0.0ms postprocess per image at shape (1, 3, 640, 512)\n",
      "\n",
      "image 1/1 C:\\Users\\user\\PycharmProjects\\spbu_deep_learning1\\homeworks\\rnn_hw\\test\\images\\4202.jpg: 640x544 1 person, 15.6ms\n",
      "Speed: 15.6ms preprocess, 15.6ms inference, 0.0ms postprocess per image at shape (1, 3, 640, 544)\n",
      "\n",
      "image 1/1 C:\\Users\\user\\PycharmProjects\\spbu_deep_learning1\\homeworks\\rnn_hw\\test\\images\\4203.jpg: 640x640 2 persons, 15.6ms\n",
      "Speed: 0.0ms preprocess, 15.6ms inference, 0.0ms postprocess per image at shape (1, 3, 640, 640)\n",
      "\n",
      "image 1/1 C:\\Users\\user\\PycharmProjects\\spbu_deep_learning1\\homeworks\\rnn_hw\\test\\images\\4207.jpg: 480x640 2 persons, 1 tie, 1 cake, 16.0ms\n",
      "Speed: 0.0ms preprocess, 16.0ms inference, 0.0ms postprocess per image at shape (1, 3, 480, 640)\n",
      "\n",
      "image 1/1 C:\\Users\\user\\PycharmProjects\\spbu_deep_learning1\\homeworks\\rnn_hw\\test\\images\\4208.jpg: 384x640 1 person, 1 dog, 31.3ms\n",
      "Speed: 0.0ms preprocess, 31.3ms inference, 0.0ms postprocess per image at shape (1, 3, 384, 640)\n",
      "\n",
      "image 1/1 C:\\Users\\user\\PycharmProjects\\spbu_deep_learning1\\homeworks\\rnn_hw\\test\\images\\4209.jpg: 640x608 1 person, 1 cell phone, 15.6ms\n",
      "Speed: 0.0ms preprocess, 15.6ms inference, 0.0ms postprocess per image at shape (1, 3, 640, 608)\n",
      "\n",
      "image 1/1 C:\\Users\\user\\PycharmProjects\\spbu_deep_learning1\\homeworks\\rnn_hw\\test\\images\\4210.jpg: 640x480 2 persons, 1 handbag, 1 chair, 1 dining table, 1 cell phone, 15.6ms\n",
      "Speed: 0.0ms preprocess, 15.6ms inference, 0.0ms postprocess per image at shape (1, 3, 640, 480)\n",
      "\n",
      "image 1/1 C:\\Users\\user\\PycharmProjects\\spbu_deep_learning1\\homeworks\\rnn_hw\\test\\images\\4212.jpg: 640x640 (no detections), 31.6ms\n",
      "Speed: 0.0ms preprocess, 31.6ms inference, 0.0ms postprocess per image at shape (1, 3, 640, 640)\n",
      "\n",
      "image 1/1 C:\\Users\\user\\PycharmProjects\\spbu_deep_learning1\\homeworks\\rnn_hw\\test\\images\\4213.jpg: 640x512 (no detections), 15.6ms\n",
      "Speed: 0.0ms preprocess, 15.6ms inference, 0.0ms postprocess per image at shape (1, 3, 640, 512)\n",
      "\n",
      "image 1/1 C:\\Users\\user\\PycharmProjects\\spbu_deep_learning1\\homeworks\\rnn_hw\\test\\images\\4214.jpg: 640x640 (no detections), 31.3ms\n",
      "Speed: 0.0ms preprocess, 31.3ms inference, 0.0ms postprocess per image at shape (1, 3, 640, 640)\n",
      "\n",
      "image 1/1 C:\\Users\\user\\PycharmProjects\\spbu_deep_learning1\\homeworks\\rnn_hw\\test\\images\\422.jpg: 576x640 (no detections), 15.6ms\n",
      "Speed: 0.0ms preprocess, 15.6ms inference, 0.0ms postprocess per image at shape (1, 3, 576, 640)\n",
      "\n",
      "image 1/1 C:\\Users\\user\\PycharmProjects\\spbu_deep_learning1\\homeworks\\rnn_hw\\test\\images\\4227.jpg: 544x640 1 dog, 31.6ms\n",
      "Speed: 0.0ms preprocess, 31.6ms inference, 0.0ms postprocess per image at shape (1, 3, 544, 640)\n",
      "\n",
      "image 1/1 C:\\Users\\user\\PycharmProjects\\spbu_deep_learning1\\homeworks\\rnn_hw\\test\\images\\4228.jpg: 640x512 4 persons, 16.9ms\n",
      "Speed: 0.0ms preprocess, 16.9ms inference, 0.0ms postprocess per image at shape (1, 3, 640, 512)\n",
      "\n",
      "image 1/1 C:\\Users\\user\\PycharmProjects\\spbu_deep_learning1\\homeworks\\rnn_hw\\test\\images\\4239.jpg: 480x640 3 persons, 15.6ms\n",
      "Speed: 0.0ms preprocess, 15.6ms inference, 0.0ms postprocess per image at shape (1, 3, 480, 640)\n",
      "\n",
      "image 1/1 C:\\Users\\user\\PycharmProjects\\spbu_deep_learning1\\homeworks\\rnn_hw\\test\\images\\4240.jpg: 448x640 1 person, 1 teddy bear, 15.6ms\n",
      "Speed: 0.0ms preprocess, 15.6ms inference, 0.0ms postprocess per image at shape (1, 3, 448, 640)\n",
      "\n",
      "image 1/1 C:\\Users\\user\\PycharmProjects\\spbu_deep_learning1\\homeworks\\rnn_hw\\test\\images\\4244.jpg: 480x640 (no detections), 16.0ms\n",
      "Speed: 0.0ms preprocess, 16.0ms inference, 0.0ms postprocess per image at shape (1, 3, 480, 640)\n",
      "\n",
      "image 1/1 C:\\Users\\user\\PycharmProjects\\spbu_deep_learning1\\homeworks\\rnn_hw\\test\\images\\425.jpg: 608x640 2 beds, 15.6ms\n",
      "Speed: 0.0ms preprocess, 15.6ms inference, 0.0ms postprocess per image at shape (1, 3, 608, 640)\n",
      "\n",
      "image 1/1 C:\\Users\\user\\PycharmProjects\\spbu_deep_learning1\\homeworks\\rnn_hw\\test\\images\\4253.jpg: 640x480 1 person, 15.6ms\n",
      "Speed: 0.0ms preprocess, 15.6ms inference, 0.0ms postprocess per image at shape (1, 3, 640, 480)\n",
      "\n",
      "image 1/1 C:\\Users\\user\\PycharmProjects\\spbu_deep_learning1\\homeworks\\rnn_hw\\test\\images\\4255.jpg: 640x512 1 person, 1 bottle, 1 cup, 31.3ms\n",
      "Speed: 0.0ms preprocess, 31.3ms inference, 0.0ms postprocess per image at shape (1, 3, 640, 512)\n",
      "\n",
      "image 1/1 C:\\Users\\user\\PycharmProjects\\spbu_deep_learning1\\homeworks\\rnn_hw\\test\\images\\4258.jpg: 640x416 1 person, 1 bed, 16.1ms\n",
      "Speed: 0.0ms preprocess, 16.1ms inference, 0.0ms postprocess per image at shape (1, 3, 640, 416)\n",
      "\n",
      "image 1/1 C:\\Users\\user\\PycharmProjects\\spbu_deep_learning1\\homeworks\\rnn_hw\\test\\images\\4260.jpg: 640x544 1 person, 31.1ms\n",
      "Speed: 0.0ms preprocess, 31.1ms inference, 0.0ms postprocess per image at shape (1, 3, 640, 544)\n",
      "\n",
      "image 1/1 C:\\Users\\user\\PycharmProjects\\spbu_deep_learning1\\homeworks\\rnn_hw\\test\\images\\4265.jpg: 640x512 1 person, 23.2ms\n",
      "Speed: 0.0ms preprocess, 23.2ms inference, 0.0ms postprocess per image at shape (1, 3, 640, 512)\n",
      "\n",
      "image 1/1 C:\\Users\\user\\PycharmProjects\\spbu_deep_learning1\\homeworks\\rnn_hw\\test\\images\\4269.jpg: 448x640 2 persons, 15.6ms\n",
      "Speed: 0.0ms preprocess, 15.6ms inference, 0.0ms postprocess per image at shape (1, 3, 448, 640)\n",
      "\n",
      "image 1/1 C:\\Users\\user\\PycharmProjects\\spbu_deep_learning1\\homeworks\\rnn_hw\\test\\images\\4277.jpg: 480x640 (no detections), 23.1ms\n",
      "Speed: 0.0ms preprocess, 23.1ms inference, 0.0ms postprocess per image at shape (1, 3, 480, 640)\n",
      "\n",
      "image 1/1 C:\\Users\\user\\PycharmProjects\\spbu_deep_learning1\\homeworks\\rnn_hw\\test\\images\\4285.jpg: 544x640 (no detections), 15.6ms\n",
      "Speed: 0.0ms preprocess, 15.6ms inference, 0.0ms postprocess per image at shape (1, 3, 544, 640)\n",
      "\n",
      "image 1/1 C:\\Users\\user\\PycharmProjects\\spbu_deep_learning1\\homeworks\\rnn_hw\\test\\images\\4287.jpg: 512x640 1 potted plant, 1 clock, 1 vase, 15.6ms\n",
      "Speed: 0.0ms preprocess, 15.6ms inference, 0.0ms postprocess per image at shape (1, 3, 512, 640)\n",
      "\n",
      "image 1/1 C:\\Users\\user\\PycharmProjects\\spbu_deep_learning1\\homeworks\\rnn_hw\\test\\images\\4301.jpg: 640x480 (no detections), 15.6ms\n",
      "Speed: 0.0ms preprocess, 15.6ms inference, 0.0ms postprocess per image at shape (1, 3, 640, 480)\n",
      "\n",
      "image 1/1 C:\\Users\\user\\PycharmProjects\\spbu_deep_learning1\\homeworks\\rnn_hw\\test\\images\\4305.jpg: 640x448 (no detections), 15.6ms\n",
      "Speed: 0.0ms preprocess, 15.6ms inference, 13.5ms postprocess per image at shape (1, 3, 640, 448)\n",
      "\n",
      "image 1/1 C:\\Users\\user\\PycharmProjects\\spbu_deep_learning1\\homeworks\\rnn_hw\\test\\images\\4309.jpg: 640x480 (no detections), 31.3ms\n",
      "Speed: 0.0ms preprocess, 31.3ms inference, 0.0ms postprocess per image at shape (1, 3, 640, 480)\n",
      "\n",
      "image 1/1 C:\\Users\\user\\PycharmProjects\\spbu_deep_learning1\\homeworks\\rnn_hw\\test\\images\\4314.jpg: 512x640 1 bird, 15.6ms\n",
      "Speed: 0.0ms preprocess, 15.6ms inference, 0.0ms postprocess per image at shape (1, 3, 512, 640)\n",
      "\n",
      "image 1/1 C:\\Users\\user\\PycharmProjects\\spbu_deep_learning1\\homeworks\\rnn_hw\\test\\images\\4315.jpg: 480x640 1 dining table, 3 books, 1 vase, 15.6ms\n",
      "Speed: 0.0ms preprocess, 15.6ms inference, 0.0ms postprocess per image at shape (1, 3, 480, 640)\n",
      "\n",
      "image 1/1 C:\\Users\\user\\PycharmProjects\\spbu_deep_learning1\\homeworks\\rnn_hw\\test\\images\\4320.jpg: 640x544 1 person, 31.6ms\n",
      "Speed: 0.0ms preprocess, 31.6ms inference, 0.0ms postprocess per image at shape (1, 3, 640, 544)\n",
      "\n",
      "image 1/1 C:\\Users\\user\\PycharmProjects\\spbu_deep_learning1\\homeworks\\rnn_hw\\test\\images\\4326.jpg: 640x448 2 dogs, 15.6ms\n",
      "Speed: 0.0ms preprocess, 15.6ms inference, 0.0ms postprocess per image at shape (1, 3, 640, 448)\n",
      "\n",
      "image 1/1 C:\\Users\\user\\PycharmProjects\\spbu_deep_learning1\\homeworks\\rnn_hw\\test\\images\\4328.jpg: 448x640 2 cats, 15.0ms\n",
      "Speed: 0.0ms preprocess, 15.0ms inference, 0.0ms postprocess per image at shape (1, 3, 448, 640)\n",
      "\n",
      "image 1/1 C:\\Users\\user\\PycharmProjects\\spbu_deep_learning1\\homeworks\\rnn_hw\\test\\images\\433.jpg: 640x576 (no detections), 15.6ms\n",
      "Speed: 0.0ms preprocess, 15.6ms inference, 0.0ms postprocess per image at shape (1, 3, 640, 576)\n",
      "\n",
      "image 1/1 C:\\Users\\user\\PycharmProjects\\spbu_deep_learning1\\homeworks\\rnn_hw\\test\\images\\4340.jpg: 448x640 2 birds, 16.0ms\n",
      "Speed: 0.0ms preprocess, 16.0ms inference, 0.0ms postprocess per image at shape (1, 3, 448, 640)\n",
      "\n",
      "image 1/1 C:\\Users\\user\\PycharmProjects\\spbu_deep_learning1\\homeworks\\rnn_hw\\test\\images\\4342.jpg: 448x640 2 persons, 1 dog, 31.3ms\n",
      "Speed: 0.0ms preprocess, 31.3ms inference, 0.0ms postprocess per image at shape (1, 3, 448, 640)\n",
      "\n",
      "image 1/1 C:\\Users\\user\\PycharmProjects\\spbu_deep_learning1\\homeworks\\rnn_hw\\test\\images\\4343.jpg: 640x448 3 persons, 15.6ms\n",
      "Speed: 0.0ms preprocess, 15.6ms inference, 0.0ms postprocess per image at shape (1, 3, 640, 448)\n",
      "\n",
      "image 1/1 C:\\Users\\user\\PycharmProjects\\spbu_deep_learning1\\homeworks\\rnn_hw\\test\\images\\4346.jpg: 640x416 1 person, 1 cat, 31.3ms\n",
      "Speed: 0.0ms preprocess, 31.3ms inference, 0.0ms postprocess per image at shape (1, 3, 640, 416)\n",
      "\n",
      "image 1/1 C:\\Users\\user\\PycharmProjects\\spbu_deep_learning1\\homeworks\\rnn_hw\\test\\images\\4347.jpg: 640x480 3 persons, 1 bench, 15.5ms\n",
      "Speed: 0.0ms preprocess, 15.5ms inference, 0.0ms postprocess per image at shape (1, 3, 640, 480)\n",
      "\n",
      "image 1/1 C:\\Users\\user\\PycharmProjects\\spbu_deep_learning1\\homeworks\\rnn_hw\\test\\images\\4348.jpg: 480x640 (no detections), 15.6ms\n",
      "Speed: 0.0ms preprocess, 15.6ms inference, 0.0ms postprocess per image at shape (1, 3, 480, 640)\n",
      "\n",
      "image 1/1 C:\\Users\\user\\PycharmProjects\\spbu_deep_learning1\\homeworks\\rnn_hw\\test\\images\\435.jpg: 640x608 (no detections), 31.3ms\n",
      "Speed: 0.0ms preprocess, 31.3ms inference, 0.0ms postprocess per image at shape (1, 3, 640, 608)\n",
      "\n",
      "image 1/1 C:\\Users\\user\\PycharmProjects\\spbu_deep_learning1\\homeworks\\rnn_hw\\test\\images\\4352.jpg: 640x544 1 umbrella, 25.8ms\n",
      "Speed: 0.0ms preprocess, 25.8ms inference, 0.0ms postprocess per image at shape (1, 3, 640, 544)\n",
      "\n",
      "image 1/1 C:\\Users\\user\\PycharmProjects\\spbu_deep_learning1\\homeworks\\rnn_hw\\test\\images\\4355.jpg: 640x448 1 person, 15.5ms\n",
      "Speed: 0.0ms preprocess, 15.5ms inference, 0.0ms postprocess per image at shape (1, 3, 640, 448)\n",
      "\n",
      "image 1/1 C:\\Users\\user\\PycharmProjects\\spbu_deep_learning1\\homeworks\\rnn_hw\\test\\images\\4363.jpg: 384x640 1 bed, 31.3ms\n",
      "Speed: 0.0ms preprocess, 31.3ms inference, 15.6ms postprocess per image at shape (1, 3, 384, 640)\n",
      "\n",
      "image 1/1 C:\\Users\\user\\PycharmProjects\\spbu_deep_learning1\\homeworks\\rnn_hw\\test\\images\\4365.jpg: 640x512 1 stop sign, 15.6ms\n",
      "Speed: 0.0ms preprocess, 15.6ms inference, 0.0ms postprocess per image at shape (1, 3, 640, 512)\n",
      "\n",
      "image 1/1 C:\\Users\\user\\PycharmProjects\\spbu_deep_learning1\\homeworks\\rnn_hw\\test\\images\\4369.jpg: 640x512 (no detections), 18.6ms\n",
      "Speed: 0.0ms preprocess, 18.6ms inference, 0.0ms postprocess per image at shape (1, 3, 640, 512)\n",
      "\n",
      "image 1/1 C:\\Users\\user\\PycharmProjects\\spbu_deep_learning1\\homeworks\\rnn_hw\\test\\images\\437.jpg: 416x640 2 persons, 15.6ms\n",
      "Speed: 0.0ms preprocess, 15.6ms inference, 0.0ms postprocess per image at shape (1, 3, 416, 640)\n",
      "\n",
      "image 1/1 C:\\Users\\user\\PycharmProjects\\spbu_deep_learning1\\homeworks\\rnn_hw\\test\\images\\4375.jpg: 416x640 (no detections), 15.6ms\n",
      "Speed: 0.0ms preprocess, 15.6ms inference, 0.0ms postprocess per image at shape (1, 3, 416, 640)\n",
      "\n",
      "image 1/1 C:\\Users\\user\\PycharmProjects\\spbu_deep_learning1\\homeworks\\rnn_hw\\test\\images\\4377.jpg: 512x640 3 persons, 1 bus, 1 baseball bat, 15.6ms\n",
      "Speed: 0.0ms preprocess, 15.6ms inference, 0.0ms postprocess per image at shape (1, 3, 512, 640)\n",
      "\n",
      "image 1/1 C:\\Users\\user\\PycharmProjects\\spbu_deep_learning1\\homeworks\\rnn_hw\\test\\images\\4380.jpg: 640x640 (no detections), 31.6ms\n",
      "Speed: 0.0ms preprocess, 31.6ms inference, 0.0ms postprocess per image at shape (1, 3, 640, 640)\n",
      "\n",
      "image 1/1 C:\\Users\\user\\PycharmProjects\\spbu_deep_learning1\\homeworks\\rnn_hw\\test\\images\\4385.jpg: 512x640 1 bird, 1 kite, 15.6ms\n",
      "Speed: 0.0ms preprocess, 15.6ms inference, 0.0ms postprocess per image at shape (1, 3, 512, 640)\n",
      "\n",
      "image 1/1 C:\\Users\\user\\PycharmProjects\\spbu_deep_learning1\\homeworks\\rnn_hw\\test\\images\\4388.jpg: 640x640 (no detections), 15.6ms\n",
      "Speed: 15.6ms preprocess, 15.6ms inference, 0.0ms postprocess per image at shape (1, 3, 640, 640)\n",
      "\n",
      "image 1/1 C:\\Users\\user\\PycharmProjects\\spbu_deep_learning1\\homeworks\\rnn_hw\\test\\images\\4391.jpg: 512x640 1 car, 15.6ms\n",
      "Speed: 0.0ms preprocess, 15.6ms inference, 0.0ms postprocess per image at shape (1, 3, 512, 640)\n",
      "\n",
      "image 1/1 C:\\Users\\user\\PycharmProjects\\spbu_deep_learning1\\homeworks\\rnn_hw\\test\\images\\4394.jpg: 448x640 1 book, 16.0ms\n",
      "Speed: 0.0ms preprocess, 16.0ms inference, 0.0ms postprocess per image at shape (1, 3, 448, 640)\n",
      "\n",
      "image 1/1 C:\\Users\\user\\PycharmProjects\\spbu_deep_learning1\\homeworks\\rnn_hw\\test\\images\\4396.jpg: 640x480 1 cat, 1 chair, 15.6ms\n",
      "Speed: 0.0ms preprocess, 15.6ms inference, 0.0ms postprocess per image at shape (1, 3, 640, 480)\n",
      "\n",
      "image 1/1 C:\\Users\\user\\PycharmProjects\\spbu_deep_learning1\\homeworks\\rnn_hw\\test\\images\\4401.jpg: 480x640 2 bowls, 1 vase, 15.6ms\n",
      "Speed: 0.0ms preprocess, 15.6ms inference, 0.0ms postprocess per image at shape (1, 3, 480, 640)\n",
      "\n",
      "image 1/1 C:\\Users\\user\\PycharmProjects\\spbu_deep_learning1\\homeworks\\rnn_hw\\test\\images\\4403.jpg: 640x480 1 person, 1 tie, 1 chair, 16.9ms\n",
      "Speed: 0.0ms preprocess, 16.9ms inference, 0.0ms postprocess per image at shape (1, 3, 640, 480)\n",
      "\n",
      "image 1/1 C:\\Users\\user\\PycharmProjects\\spbu_deep_learning1\\homeworks\\rnn_hw\\test\\images\\4405.jpg: 288x640 (no detections), 19.5ms\n",
      "Speed: 0.0ms preprocess, 19.5ms inference, 0.0ms postprocess per image at shape (1, 3, 288, 640)\n",
      "\n",
      "image 1/1 C:\\Users\\user\\PycharmProjects\\spbu_deep_learning1\\homeworks\\rnn_hw\\test\\images\\4407.jpg: 544x640 1 clock, 15.6ms\n",
      "Speed: 0.0ms preprocess, 15.6ms inference, 0.0ms postprocess per image at shape (1, 3, 544, 640)\n",
      "\n",
      "image 1/1 C:\\Users\\user\\PycharmProjects\\spbu_deep_learning1\\homeworks\\rnn_hw\\test\\images\\4408.jpg: 640x640 2 umbrellas, 31.3ms\n",
      "Speed: 0.0ms preprocess, 31.3ms inference, 0.0ms postprocess per image at shape (1, 3, 640, 640)\n",
      "\n",
      "image 1/1 C:\\Users\\user\\PycharmProjects\\spbu_deep_learning1\\homeworks\\rnn_hw\\test\\images\\4417.jpg: 640x320 (no detections), 15.6ms\n",
      "Speed: 0.0ms preprocess, 15.6ms inference, 0.0ms postprocess per image at shape (1, 3, 640, 320)\n",
      "\n",
      "image 1/1 C:\\Users\\user\\PycharmProjects\\spbu_deep_learning1\\homeworks\\rnn_hw\\test\\images\\4419.jpg: 640x544 (no detections), 31.6ms\n",
      "Speed: 0.0ms preprocess, 31.6ms inference, 0.0ms postprocess per image at shape (1, 3, 640, 544)\n",
      "\n",
      "image 1/1 C:\\Users\\user\\PycharmProjects\\spbu_deep_learning1\\homeworks\\rnn_hw\\test\\images\\4422.jpg: 640x480 (no detections), 15.6ms\n",
      "Speed: 0.0ms preprocess, 15.6ms inference, 0.0ms postprocess per image at shape (1, 3, 640, 480)\n",
      "\n",
      "image 1/1 C:\\Users\\user\\PycharmProjects\\spbu_deep_learning1\\homeworks\\rnn_hw\\test\\images\\4423.jpg: 640x480 (no detections), 15.6ms\n",
      "Speed: 0.0ms preprocess, 15.6ms inference, 0.0ms postprocess per image at shape (1, 3, 640, 480)\n",
      "\n",
      "image 1/1 C:\\Users\\user\\PycharmProjects\\spbu_deep_learning1\\homeworks\\rnn_hw\\test\\images\\4425.jpg: 256x640 (no detections), 31.3ms\n",
      "Speed: 0.0ms preprocess, 31.3ms inference, 0.0ms postprocess per image at shape (1, 3, 256, 640)\n",
      "\n",
      "image 1/1 C:\\Users\\user\\PycharmProjects\\spbu_deep_learning1\\homeworks\\rnn_hw\\test\\images\\4426.jpg: 512x640 1 bench, 1 book, 26.1ms\n",
      "Speed: 0.0ms preprocess, 26.1ms inference, 0.0ms postprocess per image at shape (1, 3, 512, 640)\n",
      "\n",
      "image 1/1 C:\\Users\\user\\PycharmProjects\\spbu_deep_learning1\\homeworks\\rnn_hw\\test\\images\\4432.jpg: 416x640 (no detections), 15.6ms\n",
      "Speed: 0.0ms preprocess, 15.6ms inference, 0.0ms postprocess per image at shape (1, 3, 416, 640)\n",
      "\n",
      "image 1/1 C:\\Users\\user\\PycharmProjects\\spbu_deep_learning1\\homeworks\\rnn_hw\\test\\images\\444.jpg: 640x448 (no detections), 31.3ms\n",
      "Speed: 0.0ms preprocess, 31.3ms inference, 0.0ms postprocess per image at shape (1, 3, 640, 448)\n",
      "\n",
      "image 1/1 C:\\Users\\user\\PycharmProjects\\spbu_deep_learning1\\homeworks\\rnn_hw\\test\\images\\4440.jpg: 640x512 1 umbrella, 15.6ms\n",
      "Speed: 0.0ms preprocess, 15.6ms inference, 0.0ms postprocess per image at shape (1, 3, 640, 512)\n",
      "\n",
      "image 1/1 C:\\Users\\user\\PycharmProjects\\spbu_deep_learning1\\homeworks\\rnn_hw\\test\\images\\4443.jpg: 640x640 3 birds, 32.3ms\n",
      "Speed: 0.0ms preprocess, 32.3ms inference, 0.0ms postprocess per image at shape (1, 3, 640, 640)\n",
      "\n",
      "image 1/1 C:\\Users\\user\\PycharmProjects\\spbu_deep_learning1\\homeworks\\rnn_hw\\test\\images\\4449.jpg: 480x640 (no detections), 15.0ms\n",
      "Speed: 0.0ms preprocess, 15.0ms inference, 0.0ms postprocess per image at shape (1, 3, 480, 640)\n",
      "\n",
      "image 1/1 C:\\Users\\user\\PycharmProjects\\spbu_deep_learning1\\homeworks\\rnn_hw\\test\\images\\4450.jpg: 448x640 5 cows, 16.8ms\n",
      "Speed: 15.6ms preprocess, 16.8ms inference, 0.0ms postprocess per image at shape (1, 3, 448, 640)\n",
      "\n",
      "image 1/1 C:\\Users\\user\\PycharmProjects\\spbu_deep_learning1\\homeworks\\rnn_hw\\test\\images\\4465.jpg: 640x544 1 person, 1 tie, 14.5ms\n",
      "Speed: 0.0ms preprocess, 14.5ms inference, 0.0ms postprocess per image at shape (1, 3, 640, 544)\n",
      "\n",
      "image 1/1 C:\\Users\\user\\PycharmProjects\\spbu_deep_learning1\\homeworks\\rnn_hw\\test\\images\\4467.jpg: 640x640 2 persons, 22.6ms\n",
      "Speed: 0.0ms preprocess, 22.6ms inference, 0.0ms postprocess per image at shape (1, 3, 640, 640)\n",
      "\n",
      "image 1/1 C:\\Users\\user\\PycharmProjects\\spbu_deep_learning1\\homeworks\\rnn_hw\\test\\images\\4468.jpg: 640x512 1 person, 1 book, 40.3ms\n",
      "Speed: 0.0ms preprocess, 40.3ms inference, 0.0ms postprocess per image at shape (1, 3, 640, 512)\n",
      "\n",
      "image 1/1 C:\\Users\\user\\PycharmProjects\\spbu_deep_learning1\\homeworks\\rnn_hw\\test\\images\\4473.jpg: 352x640 1 person, 9 cows, 16.6ms\n",
      "Speed: 0.0ms preprocess, 16.6ms inference, 0.0ms postprocess per image at shape (1, 3, 352, 640)\n",
      "\n",
      "image 1/1 C:\\Users\\user\\PycharmProjects\\spbu_deep_learning1\\homeworks\\rnn_hw\\test\\images\\4478.jpg: 640x576 1 cat, 15.6ms\n",
      "Speed: 0.0ms preprocess, 15.6ms inference, 0.0ms postprocess per image at shape (1, 3, 640, 576)\n",
      "\n",
      "image 1/1 C:\\Users\\user\\PycharmProjects\\spbu_deep_learning1\\homeworks\\rnn_hw\\test\\images\\4480.jpg: 640x480 1 person, 5 birds, 1 handbag, 16.0ms\n",
      "Speed: 0.0ms preprocess, 16.0ms inference, 0.0ms postprocess per image at shape (1, 3, 640, 480)\n",
      "\n",
      "image 1/1 C:\\Users\\user\\PycharmProjects\\spbu_deep_learning1\\homeworks\\rnn_hw\\test\\images\\4482.jpg: 640x480 7 persons, 15.6ms\n",
      "Speed: 0.0ms preprocess, 15.6ms inference, 0.0ms postprocess per image at shape (1, 3, 640, 480)\n",
      "\n",
      "image 1/1 C:\\Users\\user\\PycharmProjects\\spbu_deep_learning1\\homeworks\\rnn_hw\\test\\images\\4483.jpg: 640x544 1 potted plant, 1 vase, 15.6ms\n",
      "Speed: 0.0ms preprocess, 15.6ms inference, 15.6ms postprocess per image at shape (1, 3, 640, 544)\n",
      "\n",
      "image 1/1 C:\\Users\\user\\PycharmProjects\\spbu_deep_learning1\\homeworks\\rnn_hw\\test\\images\\4485.jpg: 640x416 1 person, 15.6ms\n",
      "Speed: 0.0ms preprocess, 15.6ms inference, 0.0ms postprocess per image at shape (1, 3, 640, 416)\n",
      "\n",
      "image 1/1 C:\\Users\\user\\PycharmProjects\\spbu_deep_learning1\\homeworks\\rnn_hw\\test\\images\\4486.jpg: 640x448 1 person, 31.6ms\n",
      "Speed: 0.0ms preprocess, 31.6ms inference, 0.0ms postprocess per image at shape (1, 3, 640, 448)\n",
      "\n",
      "image 1/1 C:\\Users\\user\\PycharmProjects\\spbu_deep_learning1\\homeworks\\rnn_hw\\test\\images\\4487.jpg: 416x640 (no detections), 15.6ms\n",
      "Speed: 0.0ms preprocess, 15.6ms inference, 0.0ms postprocess per image at shape (1, 3, 416, 640)\n",
      "\n",
      "image 1/1 C:\\Users\\user\\PycharmProjects\\spbu_deep_learning1\\homeworks\\rnn_hw\\test\\images\\449.jpg: 448x640 2 persons, 1 umbrella, 31.3ms\n",
      "Speed: 0.0ms preprocess, 31.3ms inference, 0.0ms postprocess per image at shape (1, 3, 448, 640)\n",
      "\n",
      "image 1/1 C:\\Users\\user\\PycharmProjects\\spbu_deep_learning1\\homeworks\\rnn_hw\\test\\images\\4491.jpg: 640x448 1 person, 15.6ms\n",
      "Speed: 0.0ms preprocess, 15.6ms inference, 15.6ms postprocess per image at shape (1, 3, 640, 448)\n",
      "\n",
      "image 1/1 C:\\Users\\user\\PycharmProjects\\spbu_deep_learning1\\homeworks\\rnn_hw\\test\\images\\4497.jpg: 512x640 (no detections), 16.0ms\n",
      "Speed: 0.0ms preprocess, 16.0ms inference, 0.0ms postprocess per image at shape (1, 3, 512, 640)\n",
      "\n",
      "image 1/1 C:\\Users\\user\\PycharmProjects\\spbu_deep_learning1\\homeworks\\rnn_hw\\test\\images\\4498.jpg: 640x448 1 book, 15.6ms\n",
      "Speed: 0.0ms preprocess, 15.6ms inference, 15.6ms postprocess per image at shape (1, 3, 640, 448)\n",
      "\n",
      "image 1/1 C:\\Users\\user\\PycharmProjects\\spbu_deep_learning1\\homeworks\\rnn_hw\\test\\images\\4500.jpg: 640x416 2 persons, 1 bed, 15.6ms\n",
      "Speed: 0.0ms preprocess, 15.6ms inference, 0.0ms postprocess per image at shape (1, 3, 640, 416)\n",
      "\n",
      "image 1/1 C:\\Users\\user\\PycharmProjects\\spbu_deep_learning1\\homeworks\\rnn_hw\\test\\images\\4501.jpg: 640x640 (no detections), 31.3ms\n",
      "Speed: 0.0ms preprocess, 31.3ms inference, 0.0ms postprocess per image at shape (1, 3, 640, 640)\n",
      "\n",
      "image 1/1 C:\\Users\\user\\PycharmProjects\\spbu_deep_learning1\\homeworks\\rnn_hw\\test\\images\\4502.jpg: 448x640 2 boats, 15.6ms\n",
      "Speed: 1.0ms preprocess, 15.6ms inference, 0.0ms postprocess per image at shape (1, 3, 448, 640)\n",
      "\n",
      "image 1/1 C:\\Users\\user\\PycharmProjects\\spbu_deep_learning1\\homeworks\\rnn_hw\\test\\images\\4508.jpg: 608x640 1 person, 15.6ms\n",
      "Speed: 0.0ms preprocess, 15.6ms inference, 0.0ms postprocess per image at shape (1, 3, 608, 640)\n",
      "\n",
      "image 1/1 C:\\Users\\user\\PycharmProjects\\spbu_deep_learning1\\homeworks\\rnn_hw\\test\\images\\4512.jpg: 480x640 (no detections), 15.6ms\n",
      "Speed: 0.0ms preprocess, 15.6ms inference, 0.0ms postprocess per image at shape (1, 3, 480, 640)\n",
      "\n",
      "image 1/1 C:\\Users\\user\\PycharmProjects\\spbu_deep_learning1\\homeworks\\rnn_hw\\test\\images\\4514.jpg: 640x640 4 boats, 31.2ms\n",
      "Speed: 0.0ms preprocess, 31.2ms inference, 0.0ms postprocess per image at shape (1, 3, 640, 640)\n",
      "\n",
      "image 1/1 C:\\Users\\user\\PycharmProjects\\spbu_deep_learning1\\homeworks\\rnn_hw\\test\\images\\4517.jpg: 448x640 3 persons, 10.5ms\n",
      "Speed: 0.0ms preprocess, 10.5ms inference, 0.0ms postprocess per image at shape (1, 3, 448, 640)\n",
      "\n",
      "image 1/1 C:\\Users\\user\\PycharmProjects\\spbu_deep_learning1\\homeworks\\rnn_hw\\test\\images\\4523.jpg: 640x448 (no detections), 31.3ms\n",
      "Speed: 0.0ms preprocess, 31.3ms inference, 0.0ms postprocess per image at shape (1, 3, 640, 448)\n",
      "\n",
      "image 1/1 C:\\Users\\user\\PycharmProjects\\spbu_deep_learning1\\homeworks\\rnn_hw\\test\\images\\4526.jpg: 640x448 (no detections), 15.6ms\n",
      "Speed: 0.0ms preprocess, 15.6ms inference, 0.0ms postprocess per image at shape (1, 3, 640, 448)\n",
      "\n",
      "image 1/1 C:\\Users\\user\\PycharmProjects\\spbu_deep_learning1\\homeworks\\rnn_hw\\test\\images\\4527.jpg: 640x224 (no detections), 15.6ms\n",
      "Speed: 0.0ms preprocess, 15.6ms inference, 0.0ms postprocess per image at shape (1, 3, 640, 224)\n",
      "\n",
      "image 1/1 C:\\Users\\user\\PycharmProjects\\spbu_deep_learning1\\homeworks\\rnn_hw\\test\\images\\4533.jpg: 640x480 1 person, 16.0ms\n",
      "Speed: 0.0ms preprocess, 16.0ms inference, 0.0ms postprocess per image at shape (1, 3, 640, 480)\n",
      "\n",
      "image 1/1 C:\\Users\\user\\PycharmProjects\\spbu_deep_learning1\\homeworks\\rnn_hw\\test\\images\\4537.jpg: 640x224 (no detections), 15.6ms\n",
      "Speed: 0.0ms preprocess, 15.6ms inference, 0.0ms postprocess per image at shape (1, 3, 640, 224)\n",
      "\n",
      "image 1/1 C:\\Users\\user\\PycharmProjects\\spbu_deep_learning1\\homeworks\\rnn_hw\\test\\images\\4547.jpg: 640x448 1 person, 31.2ms\n",
      "Speed: 0.0ms preprocess, 31.2ms inference, 0.0ms postprocess per image at shape (1, 3, 640, 448)\n",
      "\n",
      "image 1/1 C:\\Users\\user\\PycharmProjects\\spbu_deep_learning1\\homeworks\\rnn_hw\\test\\images\\4557.jpg: 288x640 2 boats, 8.5ms\n",
      "Speed: 0.0ms preprocess, 8.5ms inference, 0.0ms postprocess per image at shape (1, 3, 288, 640)\n",
      "\n",
      "image 1/1 C:\\Users\\user\\PycharmProjects\\spbu_deep_learning1\\homeworks\\rnn_hw\\test\\images\\4558.jpg: 640x544 (no detections), 14.5ms\n",
      "Speed: 0.0ms preprocess, 14.5ms inference, 0.0ms postprocess per image at shape (1, 3, 640, 544)\n",
      "\n",
      "image 1/1 C:\\Users\\user\\PycharmProjects\\spbu_deep_learning1\\homeworks\\rnn_hw\\test\\images\\4560.jpg: 448x640 1 bench, 15.6ms\n",
      "Speed: 0.0ms preprocess, 15.6ms inference, 15.6ms postprocess per image at shape (1, 3, 448, 640)\n",
      "\n",
      "image 1/1 C:\\Users\\user\\PycharmProjects\\spbu_deep_learning1\\homeworks\\rnn_hw\\test\\images\\4562.jpg: 416x640 (no detections), 25.3ms\n",
      "Speed: 0.0ms preprocess, 25.3ms inference, 0.0ms postprocess per image at shape (1, 3, 416, 640)\n",
      "\n",
      "image 1/1 C:\\Users\\user\\PycharmProjects\\spbu_deep_learning1\\homeworks\\rnn_hw\\test\\images\\4568.jpg: 480x640 (no detections), 31.6ms\n",
      "Speed: 0.0ms preprocess, 31.6ms inference, 0.0ms postprocess per image at shape (1, 3, 480, 640)\n",
      "\n",
      "image 1/1 C:\\Users\\user\\PycharmProjects\\spbu_deep_learning1\\homeworks\\rnn_hw\\test\\images\\4569.jpg: 448x640 1 person, 1 umbrella, 1 kite, 15.6ms\n",
      "Speed: 0.0ms preprocess, 15.6ms inference, 0.0ms postprocess per image at shape (1, 3, 448, 640)\n",
      "\n",
      "image 1/1 C:\\Users\\user\\PycharmProjects\\spbu_deep_learning1\\homeworks\\rnn_hw\\test\\images\\457.jpg: 640x512 1 surfboard, 15.6ms\n",
      "Speed: 0.0ms preprocess, 15.6ms inference, 0.0ms postprocess per image at shape (1, 3, 640, 512)\n",
      "\n",
      "image 1/1 C:\\Users\\user\\PycharmProjects\\spbu_deep_learning1\\homeworks\\rnn_hw\\test\\images\\4570.jpg: 640x448 (no detections), 31.3ms\n",
      "Speed: 0.0ms preprocess, 31.3ms inference, 0.0ms postprocess per image at shape (1, 3, 640, 448)\n",
      "\n",
      "image 1/1 C:\\Users\\user\\PycharmProjects\\spbu_deep_learning1\\homeworks\\rnn_hw\\test\\images\\4577.jpg: 544x640 2 persons, 1 truck, 19.6ms\n",
      "Speed: 0.0ms preprocess, 19.6ms inference, 12.0ms postprocess per image at shape (1, 3, 544, 640)\n",
      "\n",
      "image 1/1 C:\\Users\\user\\PycharmProjects\\spbu_deep_learning1\\homeworks\\rnn_hw\\test\\images\\4579.jpg: 640x640 1 person, 1 bed, 15.6ms\n",
      "Speed: 0.0ms preprocess, 15.6ms inference, 0.0ms postprocess per image at shape (1, 3, 640, 640)\n",
      "\n",
      "image 1/1 C:\\Users\\user\\PycharmProjects\\spbu_deep_learning1\\homeworks\\rnn_hw\\test\\images\\458.jpg: 640x480 (no detections), 31.3ms\n",
      "Speed: 0.0ms preprocess, 31.3ms inference, 0.0ms postprocess per image at shape (1, 3, 640, 480)\n",
      "\n",
      "image 1/1 C:\\Users\\user\\PycharmProjects\\spbu_deep_learning1\\homeworks\\rnn_hw\\test\\images\\4580.jpg: 480x640 (no detections), 15.6ms\n",
      "Speed: 0.0ms preprocess, 15.6ms inference, 0.0ms postprocess per image at shape (1, 3, 480, 640)\n",
      "\n",
      "image 1/1 C:\\Users\\user\\PycharmProjects\\spbu_deep_learning1\\homeworks\\rnn_hw\\test\\images\\4581.jpg: 512x640 (no detections), 16.0ms\n",
      "Speed: 0.0ms preprocess, 16.0ms inference, 0.0ms postprocess per image at shape (1, 3, 512, 640)\n",
      "\n",
      "image 1/1 C:\\Users\\user\\PycharmProjects\\spbu_deep_learning1\\homeworks\\rnn_hw\\test\\images\\4582.jpg: 640x544 (no detections), 15.6ms\n",
      "Speed: 0.0ms preprocess, 15.6ms inference, 0.0ms postprocess per image at shape (1, 3, 640, 544)\n",
      "\n",
      "image 1/1 C:\\Users\\user\\PycharmProjects\\spbu_deep_learning1\\homeworks\\rnn_hw\\test\\images\\4586.jpg: 448x640 (no detections), 15.0ms\n",
      "Speed: 1.0ms preprocess, 15.0ms inference, 0.0ms postprocess per image at shape (1, 3, 448, 640)\n",
      "\n",
      "image 1/1 C:\\Users\\user\\PycharmProjects\\spbu_deep_learning1\\homeworks\\rnn_hw\\test\\images\\4588.jpg: 224x640 (no detections), 15.6ms\n",
      "Speed: 0.0ms preprocess, 15.6ms inference, 0.0ms postprocess per image at shape (1, 3, 224, 640)\n",
      "\n",
      "image 1/1 C:\\Users\\user\\PycharmProjects\\spbu_deep_learning1\\homeworks\\rnn_hw\\test\\images\\459.jpg: 640x544 6 persons, 31.1ms\n",
      "Speed: 0.0ms preprocess, 31.1ms inference, 0.0ms postprocess per image at shape (1, 3, 640, 544)\n",
      "\n",
      "image 1/1 C:\\Users\\user\\PycharmProjects\\spbu_deep_learning1\\homeworks\\rnn_hw\\test\\images\\4593.jpg: 640x640 (no detections), 31.3ms\n",
      "Speed: 0.0ms preprocess, 31.3ms inference, 0.0ms postprocess per image at shape (1, 3, 640, 640)\n",
      "\n",
      "image 1/1 C:\\Users\\user\\PycharmProjects\\spbu_deep_learning1\\homeworks\\rnn_hw\\test\\images\\4598.jpg: 480x640 (no detections), 15.6ms\n",
      "Speed: 0.0ms preprocess, 15.6ms inference, 0.0ms postprocess per image at shape (1, 3, 480, 640)\n",
      "\n",
      "image 1/1 C:\\Users\\user\\PycharmProjects\\spbu_deep_learning1\\homeworks\\rnn_hw\\test\\images\\460.jpg: 448x640 6 bottles, 4 apples, 3 vases, 15.6ms\n",
      "Speed: 0.0ms preprocess, 15.6ms inference, 0.0ms postprocess per image at shape (1, 3, 448, 640)\n",
      "\n",
      "image 1/1 C:\\Users\\user\\PycharmProjects\\spbu_deep_learning1\\homeworks\\rnn_hw\\test\\images\\4605.jpg: 640x480 (no detections), 31.6ms\n",
      "Speed: 0.0ms preprocess, 31.6ms inference, 0.0ms postprocess per image at shape (1, 3, 640, 480)\n",
      "\n",
      "image 1/1 C:\\Users\\user\\PycharmProjects\\spbu_deep_learning1\\homeworks\\rnn_hw\\test\\images\\4609.jpg: 512x640 (no detections), 31.3ms\n",
      "Speed: 0.0ms preprocess, 31.3ms inference, 0.0ms postprocess per image at shape (1, 3, 512, 640)\n",
      "\n",
      "image 1/1 C:\\Users\\user\\PycharmProjects\\spbu_deep_learning1\\homeworks\\rnn_hw\\test\\images\\4610.jpg: 640x512 1 person, 1 tie, 15.6ms\n",
      "Speed: 0.0ms preprocess, 15.6ms inference, 0.0ms postprocess per image at shape (1, 3, 640, 512)\n",
      "\n",
      "image 1/1 C:\\Users\\user\\PycharmProjects\\spbu_deep_learning1\\homeworks\\rnn_hw\\test\\images\\4611.jpg: 544x640 1 bowl, 1 dining table, 31.2ms\n",
      "Speed: 0.0ms preprocess, 31.2ms inference, 0.0ms postprocess per image at shape (1, 3, 544, 640)\n",
      "\n",
      "image 1/1 C:\\Users\\user\\PycharmProjects\\spbu_deep_learning1\\homeworks\\rnn_hw\\test\\images\\4615.jpg: 640x640 1 person, 31.6ms\n",
      "Speed: 0.0ms preprocess, 31.6ms inference, 0.0ms postprocess per image at shape (1, 3, 640, 640)\n",
      "\n",
      "image 1/1 C:\\Users\\user\\PycharmProjects\\spbu_deep_learning1\\homeworks\\rnn_hw\\test\\images\\4616.jpg: 512x640 2 persons, 2 boats, 12.0ms\n",
      "Speed: 0.0ms preprocess, 12.0ms inference, 0.0ms postprocess per image at shape (1, 3, 512, 640)\n",
      "\n",
      "image 1/1 C:\\Users\\user\\PycharmProjects\\spbu_deep_learning1\\homeworks\\rnn_hw\\test\\images\\4622.jpg: 640x416 1 vase, 15.6ms\n",
      "Speed: 0.0ms preprocess, 15.6ms inference, 0.0ms postprocess per image at shape (1, 3, 640, 416)\n",
      "\n",
      "image 1/1 C:\\Users\\user\\PycharmProjects\\spbu_deep_learning1\\homeworks\\rnn_hw\\test\\images\\4623.jpg: 640x544 1 potted plant, 1 vase, 18.1ms\n",
      "Speed: 0.0ms preprocess, 18.1ms inference, 0.0ms postprocess per image at shape (1, 3, 640, 544)\n",
      "\n",
      "image 1/1 C:\\Users\\user\\PycharmProjects\\spbu_deep_learning1\\homeworks\\rnn_hw\\test\\images\\4626.jpg: 480x640 (no detections), 29.1ms\n",
      "Speed: 0.0ms preprocess, 29.1ms inference, 0.0ms postprocess per image at shape (1, 3, 480, 640)\n",
      "\n",
      "image 1/1 C:\\Users\\user\\PycharmProjects\\spbu_deep_learning1\\homeworks\\rnn_hw\\test\\images\\4627.jpg: 512x640 1 horse, 15.6ms\n",
      "Speed: 0.0ms preprocess, 15.6ms inference, 0.0ms postprocess per image at shape (1, 3, 512, 640)\n",
      "\n",
      "image 1/1 C:\\Users\\user\\PycharmProjects\\spbu_deep_learning1\\homeworks\\rnn_hw\\test\\images\\4629.jpg: 640x480 2 birds, 15.6ms\n",
      "Speed: 0.0ms preprocess, 15.6ms inference, 0.0ms postprocess per image at shape (1, 3, 640, 480)\n",
      "\n",
      "image 1/1 C:\\Users\\user\\PycharmProjects\\spbu_deep_learning1\\homeworks\\rnn_hw\\test\\images\\463.jpg: 416x640 4 persons, 1 tie, 31.6ms\n",
      "Speed: 0.0ms preprocess, 31.6ms inference, 3.7ms postprocess per image at shape (1, 3, 416, 640)\n",
      "\n",
      "image 1/1 C:\\Users\\user\\PycharmProjects\\spbu_deep_learning1\\homeworks\\rnn_hw\\test\\images\\4630.jpg: 640x416 1 person, 1 handbag, 15.6ms\n",
      "Speed: 0.0ms preprocess, 15.6ms inference, 0.0ms postprocess per image at shape (1, 3, 640, 416)\n",
      "\n",
      "image 1/1 C:\\Users\\user\\PycharmProjects\\spbu_deep_learning1\\homeworks\\rnn_hw\\test\\images\\4636.jpg: 608x640 (no detections), 15.6ms\n",
      "Speed: 0.0ms preprocess, 15.6ms inference, 0.0ms postprocess per image at shape (1, 3, 608, 640)\n",
      "\n",
      "image 1/1 C:\\Users\\user\\PycharmProjects\\spbu_deep_learning1\\homeworks\\rnn_hw\\test\\images\\4642.jpg: 480x640 1 traffic light, 31.2ms\n",
      "Speed: 0.0ms preprocess, 31.2ms inference, 0.0ms postprocess per image at shape (1, 3, 480, 640)\n",
      "\n",
      "image 1/1 C:\\Users\\user\\PycharmProjects\\spbu_deep_learning1\\homeworks\\rnn_hw\\test\\images\\4647.jpg: 448x640 2 bananas, 16.0ms\n",
      "Speed: 0.0ms preprocess, 16.0ms inference, 0.0ms postprocess per image at shape (1, 3, 448, 640)\n",
      "\n",
      "image 1/1 C:\\Users\\user\\PycharmProjects\\spbu_deep_learning1\\homeworks\\rnn_hw\\test\\images\\4664.jpg: 416x640 1 person, 15.6ms\n",
      "Speed: 0.0ms preprocess, 15.6ms inference, 0.0ms postprocess per image at shape (1, 3, 416, 640)\n",
      "\n",
      "image 1/1 C:\\Users\\user\\PycharmProjects\\spbu_deep_learning1\\homeworks\\rnn_hw\\test\\images\\4668.jpg: 288x640 1 bus, 31.2ms\n",
      "Speed: 0.0ms preprocess, 31.2ms inference, 0.0ms postprocess per image at shape (1, 3, 288, 640)\n",
      "\n",
      "image 1/1 C:\\Users\\user\\PycharmProjects\\spbu_deep_learning1\\homeworks\\rnn_hw\\test\\images\\4669.jpg: 640x512 4 trains, 15.6ms\n",
      "Speed: 0.0ms preprocess, 15.6ms inference, 0.0ms postprocess per image at shape (1, 3, 640, 512)\n",
      "\n",
      "image 1/1 C:\\Users\\user\\PycharmProjects\\spbu_deep_learning1\\homeworks\\rnn_hw\\test\\images\\467.jpg: 480x640 6 bottles, 1 cup, 31.6ms\n",
      "Speed: 0.0ms preprocess, 31.6ms inference, 0.0ms postprocess per image at shape (1, 3, 480, 640)\n",
      "\n",
      "image 1/1 C:\\Users\\user\\PycharmProjects\\spbu_deep_learning1\\homeworks\\rnn_hw\\test\\images\\4671.jpg: 640x544 (no detections), 31.3ms\n",
      "Speed: 0.0ms preprocess, 31.3ms inference, 0.0ms postprocess per image at shape (1, 3, 640, 544)\n",
      "\n",
      "image 1/1 C:\\Users\\user\\PycharmProjects\\spbu_deep_learning1\\homeworks\\rnn_hw\\test\\images\\4675.jpg: 544x640 (no detections), 31.3ms\n",
      "Speed: 0.0ms preprocess, 31.3ms inference, 0.0ms postprocess per image at shape (1, 3, 544, 640)\n",
      "\n",
      "image 1/1 C:\\Users\\user\\PycharmProjects\\spbu_deep_learning1\\homeworks\\rnn_hw\\test\\images\\4679.jpg: 640x480 1 person, 1 tie, 16.0ms\n",
      "Speed: 0.0ms preprocess, 16.0ms inference, 0.0ms postprocess per image at shape (1, 3, 640, 480)\n",
      "\n",
      "image 1/1 C:\\Users\\user\\PycharmProjects\\spbu_deep_learning1\\homeworks\\rnn_hw\\test\\images\\4680.jpg: 544x640 7 persons, 2 boats, 1 horse, 8.8ms\n",
      "Speed: 15.6ms preprocess, 8.8ms inference, 0.0ms postprocess per image at shape (1, 3, 544, 640)\n",
      "\n",
      "image 1/1 C:\\Users\\user\\PycharmProjects\\spbu_deep_learning1\\homeworks\\rnn_hw\\test\\images\\4688.jpg: 640x320 1 person, 1 book, 15.6ms\n",
      "Speed: 15.6ms preprocess, 15.6ms inference, 0.0ms postprocess per image at shape (1, 3, 640, 320)\n",
      "\n",
      "image 1/1 C:\\Users\\user\\PycharmProjects\\spbu_deep_learning1\\homeworks\\rnn_hw\\test\\images\\4689.jpg: 640x544 1 person, 15.6ms\n",
      "Speed: 0.0ms preprocess, 15.6ms inference, 0.0ms postprocess per image at shape (1, 3, 640, 544)\n",
      "\n",
      "image 1/1 C:\\Users\\user\\PycharmProjects\\spbu_deep_learning1\\homeworks\\rnn_hw\\test\\images\\4697.jpg: 640x480 (no detections), 16.0ms\n",
      "Speed: 0.0ms preprocess, 16.0ms inference, 0.0ms postprocess per image at shape (1, 3, 640, 480)\n",
      "\n",
      "image 1/1 C:\\Users\\user\\PycharmProjects\\spbu_deep_learning1\\homeworks\\rnn_hw\\test\\images\\4705.jpg: 640x480 1 horse, 46.9ms\n",
      "Speed: 0.0ms preprocess, 46.9ms inference, 0.0ms postprocess per image at shape (1, 3, 640, 480)\n",
      "\n",
      "image 1/1 C:\\Users\\user\\PycharmProjects\\spbu_deep_learning1\\homeworks\\rnn_hw\\test\\images\\471.jpg: 640x640 1 orange, 15.6ms\n",
      "Speed: 0.0ms preprocess, 15.6ms inference, 0.0ms postprocess per image at shape (1, 3, 640, 640)\n",
      "\n",
      "image 1/1 C:\\Users\\user\\PycharmProjects\\spbu_deep_learning1\\homeworks\\rnn_hw\\test\\images\\4716.jpg: 640x640 1 bed, 15.0ms\n",
      "Speed: 0.0ms preprocess, 15.0ms inference, 0.0ms postprocess per image at shape (1, 3, 640, 640)\n",
      "\n",
      "image 1/1 C:\\Users\\user\\PycharmProjects\\spbu_deep_learning1\\homeworks\\rnn_hw\\test\\images\\472.jpg: 544x640 1 traffic light, 31.3ms\n",
      "Speed: 0.0ms preprocess, 31.3ms inference, 0.0ms postprocess per image at shape (1, 3, 544, 640)\n",
      "\n",
      "image 1/1 C:\\Users\\user\\PycharmProjects\\spbu_deep_learning1\\homeworks\\rnn_hw\\test\\images\\4723.jpg: 640x448 1 clock, 31.2ms\n",
      "Speed: 0.0ms preprocess, 31.2ms inference, 0.0ms postprocess per image at shape (1, 3, 640, 448)\n",
      "\n",
      "image 1/1 C:\\Users\\user\\PycharmProjects\\spbu_deep_learning1\\homeworks\\rnn_hw\\test\\images\\4724.jpg: 640x512 1 person, 31.8ms\n",
      "Speed: 0.0ms preprocess, 31.8ms inference, 0.0ms postprocess per image at shape (1, 3, 640, 512)\n",
      "\n",
      "image 1/1 C:\\Users\\user\\PycharmProjects\\spbu_deep_learning1\\homeworks\\rnn_hw\\test\\images\\4726.jpg: 640x512 1 person, 15.5ms\n",
      "Speed: 0.0ms preprocess, 15.5ms inference, 0.0ms postprocess per image at shape (1, 3, 640, 512)\n",
      "\n",
      "image 1/1 C:\\Users\\user\\PycharmProjects\\spbu_deep_learning1\\homeworks\\rnn_hw\\test\\images\\4728.jpg: 640x512 (no detections), 31.3ms\n",
      "Speed: 0.0ms preprocess, 31.3ms inference, 0.0ms postprocess per image at shape (1, 3, 640, 512)\n",
      "\n",
      "image 1/1 C:\\Users\\user\\PycharmProjects\\spbu_deep_learning1\\homeworks\\rnn_hw\\test\\images\\4731.jpg: 640x576 (no detections), 15.6ms\n",
      "Speed: 0.0ms preprocess, 15.6ms inference, 0.0ms postprocess per image at shape (1, 3, 640, 576)\n",
      "\n",
      "image 1/1 C:\\Users\\user\\PycharmProjects\\spbu_deep_learning1\\homeworks\\rnn_hw\\test\\images\\4737.jpg: 640x512 (no detections), 31.2ms\n",
      "Speed: 0.0ms preprocess, 31.2ms inference, 0.0ms postprocess per image at shape (1, 3, 640, 512)\n",
      "\n",
      "image 1/1 C:\\Users\\user\\PycharmProjects\\spbu_deep_learning1\\homeworks\\rnn_hw\\test\\images\\4740.jpg: 640x480 1 person, 9.5ms\n",
      "Speed: 6.5ms preprocess, 9.5ms inference, 0.0ms postprocess per image at shape (1, 3, 640, 480)\n",
      "\n",
      "image 1/1 C:\\Users\\user\\PycharmProjects\\spbu_deep_learning1\\homeworks\\rnn_hw\\test\\images\\4741.jpg: 640x480 (no detections), 31.3ms\n",
      "Speed: 0.0ms preprocess, 31.3ms inference, 0.0ms postprocess per image at shape (1, 3, 640, 480)\n",
      "\n",
      "image 1/1 C:\\Users\\user\\PycharmProjects\\spbu_deep_learning1\\homeworks\\rnn_hw\\test\\images\\4742.jpg: 640x480 1 person, 15.6ms\n",
      "Speed: 0.0ms preprocess, 15.6ms inference, 15.6ms postprocess per image at shape (1, 3, 640, 480)\n",
      "\n",
      "image 1/1 C:\\Users\\user\\PycharmProjects\\spbu_deep_learning1\\homeworks\\rnn_hw\\test\\images\\4743.jpg: 640x512 (no detections), 15.6ms\n",
      "Speed: 0.0ms preprocess, 15.6ms inference, 0.0ms postprocess per image at shape (1, 3, 640, 512)\n",
      "\n",
      "image 1/1 C:\\Users\\user\\PycharmProjects\\spbu_deep_learning1\\homeworks\\rnn_hw\\test\\images\\4745.jpg: 640x544 1 cow, 19.2ms\n",
      "Speed: 12.5ms preprocess, 19.2ms inference, 0.0ms postprocess per image at shape (1, 3, 640, 544)\n",
      "\n",
      "image 1/1 C:\\Users\\user\\PycharmProjects\\spbu_deep_learning1\\homeworks\\rnn_hw\\test\\images\\475.jpg: 640x512 1 person, 2 chairs, 15.6ms\n",
      "Speed: 0.0ms preprocess, 15.6ms inference, 0.0ms postprocess per image at shape (1, 3, 640, 512)\n",
      "\n",
      "image 1/1 C:\\Users\\user\\PycharmProjects\\spbu_deep_learning1\\homeworks\\rnn_hw\\test\\images\\4754.jpg: 640x640 2 persons, 1 bed, 15.6ms\n",
      "Speed: 15.6ms preprocess, 15.6ms inference, 0.0ms postprocess per image at shape (1, 3, 640, 640)\n",
      "\n",
      "image 1/1 C:\\Users\\user\\PycharmProjects\\spbu_deep_learning1\\homeworks\\rnn_hw\\test\\images\\4755.jpg: 640x512 1 vase, 15.6ms\n",
      "Speed: 0.0ms preprocess, 15.6ms inference, 0.0ms postprocess per image at shape (1, 3, 640, 512)\n",
      "\n",
      "image 1/1 C:\\Users\\user\\PycharmProjects\\spbu_deep_learning1\\homeworks\\rnn_hw\\test\\images\\4767.jpg: 640x544 1 dog, 21.1ms\n",
      "Speed: 0.0ms preprocess, 21.1ms inference, 0.0ms postprocess per image at shape (1, 3, 640, 544)\n",
      "\n",
      "image 1/1 C:\\Users\\user\\PycharmProjects\\spbu_deep_learning1\\homeworks\\rnn_hw\\test\\images\\4768.jpg: 640x448 (no detections), 15.6ms\n",
      "Speed: 0.0ms preprocess, 15.6ms inference, 0.0ms postprocess per image at shape (1, 3, 640, 448)\n",
      "\n",
      "image 1/1 C:\\Users\\user\\PycharmProjects\\spbu_deep_learning1\\homeworks\\rnn_hw\\test\\images\\4769.jpg: 544x640 10 apples, 2 oranges, 15.6ms\n",
      "Speed: 15.6ms preprocess, 15.6ms inference, 0.0ms postprocess per image at shape (1, 3, 544, 640)\n",
      "\n",
      "image 1/1 C:\\Users\\user\\PycharmProjects\\spbu_deep_learning1\\homeworks\\rnn_hw\\test\\images\\4776.jpg: 544x640 4 apples, 1 dining table, 15.6ms\n",
      "Speed: 0.0ms preprocess, 15.6ms inference, 0.0ms postprocess per image at shape (1, 3, 544, 640)\n",
      "\n",
      "image 1/1 C:\\Users\\user\\PycharmProjects\\spbu_deep_learning1\\homeworks\\rnn_hw\\test\\images\\4777.jpg: 544x640 1 bowl, 1 dining table, 1 vase, 16.1ms\n",
      "Speed: 1.0ms preprocess, 16.1ms inference, 0.0ms postprocess per image at shape (1, 3, 544, 640)\n",
      "\n",
      "image 1/1 C:\\Users\\user\\PycharmProjects\\spbu_deep_learning1\\homeworks\\rnn_hw\\test\\images\\479.jpg: 640x512 (no detections), 14.5ms\n",
      "Speed: 0.0ms preprocess, 14.5ms inference, 0.0ms postprocess per image at shape (1, 3, 640, 512)\n",
      "\n",
      "image 1/1 C:\\Users\\user\\PycharmProjects\\spbu_deep_learning1\\homeworks\\rnn_hw\\test\\images\\485.jpg: 416x640 1 potted plant, 15.6ms\n",
      "Speed: 15.6ms preprocess, 15.6ms inference, 0.0ms postprocess per image at shape (1, 3, 416, 640)\n",
      "\n",
      "image 1/1 C:\\Users\\user\\PycharmProjects\\spbu_deep_learning1\\homeworks\\rnn_hw\\test\\images\\487.jpg: 640x512 1 potted plant, 1 vase, 15.6ms\n",
      "Speed: 0.0ms preprocess, 15.6ms inference, 0.0ms postprocess per image at shape (1, 3, 640, 512)\n",
      "\n",
      "image 1/1 C:\\Users\\user\\PycharmProjects\\spbu_deep_learning1\\homeworks\\rnn_hw\\test\\images\\488.jpg: 640x512 (no detections), 16.0ms\n",
      "Speed: 0.0ms preprocess, 16.0ms inference, 0.0ms postprocess per image at shape (1, 3, 640, 512)\n",
      "\n",
      "image 1/1 C:\\Users\\user\\PycharmProjects\\spbu_deep_learning1\\homeworks\\rnn_hw\\test\\images\\489.jpg: 512x640 (no detections), 31.3ms\n",
      "Speed: 0.0ms preprocess, 31.3ms inference, 0.0ms postprocess per image at shape (1, 3, 512, 640)\n",
      "\n",
      "image 1/1 C:\\Users\\user\\PycharmProjects\\spbu_deep_learning1\\homeworks\\rnn_hw\\test\\images\\490.jpg: 640x448 1 potted plant, 16.1ms\n",
      "Speed: 15.6ms preprocess, 16.1ms inference, 0.0ms postprocess per image at shape (1, 3, 640, 448)\n",
      "\n",
      "image 1/1 C:\\Users\\user\\PycharmProjects\\spbu_deep_learning1\\homeworks\\rnn_hw\\test\\images\\496.jpg: 640x512 1 vase, 31.6ms\n",
      "Speed: 0.0ms preprocess, 31.6ms inference, 0.0ms postprocess per image at shape (1, 3, 640, 512)\n",
      "\n",
      "image 1/1 C:\\Users\\user\\PycharmProjects\\spbu_deep_learning1\\homeworks\\rnn_hw\\test\\images\\499.jpg: 640x480 (no detections), 15.6ms\n",
      "Speed: 0.0ms preprocess, 15.6ms inference, 0.0ms postprocess per image at shape (1, 3, 640, 480)\n",
      "\n",
      "image 1/1 C:\\Users\\user\\PycharmProjects\\spbu_deep_learning1\\homeworks\\rnn_hw\\test\\images\\5.jpg: 480x640 12 persons, 1 motorcycle, 31.2ms\n",
      "Speed: 0.0ms preprocess, 31.2ms inference, 0.0ms postprocess per image at shape (1, 3, 480, 640)\n",
      "\n",
      "image 1/1 C:\\Users\\user\\PycharmProjects\\spbu_deep_learning1\\homeworks\\rnn_hw\\test\\images\\50.jpg: 480x640 5 persons, 15.6ms\n",
      "Speed: 0.0ms preprocess, 15.6ms inference, 0.0ms postprocess per image at shape (1, 3, 480, 640)\n",
      "\n",
      "image 1/1 C:\\Users\\user\\PycharmProjects\\spbu_deep_learning1\\homeworks\\rnn_hw\\test\\images\\501.jpg: 640x480 1 vase, 18.6ms\n",
      "Speed: 0.0ms preprocess, 18.6ms inference, 0.0ms postprocess per image at shape (1, 3, 640, 480)\n",
      "\n",
      "image 1/1 C:\\Users\\user\\PycharmProjects\\spbu_deep_learning1\\homeworks\\rnn_hw\\test\\images\\507.jpg: 480x640 (no detections), 13.0ms\n",
      "Speed: 0.0ms preprocess, 13.0ms inference, 0.0ms postprocess per image at shape (1, 3, 480, 640)\n",
      "\n",
      "image 1/1 C:\\Users\\user\\PycharmProjects\\spbu_deep_learning1\\homeworks\\rnn_hw\\test\\images\\51.jpg: 480x640 2 persons, 15.6ms\n",
      "Speed: 0.0ms preprocess, 15.6ms inference, 0.0ms postprocess per image at shape (1, 3, 480, 640)\n",
      "\n",
      "image 1/1 C:\\Users\\user\\PycharmProjects\\spbu_deep_learning1\\homeworks\\rnn_hw\\test\\images\\512.jpg: 448x640 1 person, 1 bed, 15.6ms\n",
      "Speed: 0.0ms preprocess, 15.6ms inference, 0.0ms postprocess per image at shape (1, 3, 448, 640)\n",
      "\n",
      "image 1/1 C:\\Users\\user\\PycharmProjects\\spbu_deep_learning1\\homeworks\\rnn_hw\\test\\images\\513.jpg: 448x640 (no detections), 15.6ms\n",
      "Speed: 0.0ms preprocess, 15.6ms inference, 0.0ms postprocess per image at shape (1, 3, 448, 640)\n",
      "\n",
      "image 1/1 C:\\Users\\user\\PycharmProjects\\spbu_deep_learning1\\homeworks\\rnn_hw\\test\\images\\517.jpg: 384x640 (no detections), 7.0ms\n",
      "Speed: 0.0ms preprocess, 7.0ms inference, 0.0ms postprocess per image at shape (1, 3, 384, 640)\n",
      "\n",
      "image 1/1 C:\\Users\\user\\PycharmProjects\\spbu_deep_learning1\\homeworks\\rnn_hw\\test\\images\\52.jpg: 480x640 1 person, 2 bicycles, 2 bottles, 15.6ms\n",
      "Speed: 0.0ms preprocess, 15.6ms inference, 0.0ms postprocess per image at shape (1, 3, 480, 640)\n",
      "\n",
      "image 1/1 C:\\Users\\user\\PycharmProjects\\spbu_deep_learning1\\homeworks\\rnn_hw\\test\\images\\53.jpg: 640x608 1 boat, 47.4ms\n",
      "Speed: 0.0ms preprocess, 47.4ms inference, 0.0ms postprocess per image at shape (1, 3, 640, 608)\n",
      "\n",
      "image 1/1 C:\\Users\\user\\PycharmProjects\\spbu_deep_learning1\\homeworks\\rnn_hw\\test\\images\\531.jpg: 512x640 1 person, 5 horses, 31.6ms\n",
      "Speed: 0.0ms preprocess, 31.6ms inference, 0.0ms postprocess per image at shape (1, 3, 512, 640)\n",
      "\n",
      "image 1/1 C:\\Users\\user\\PycharmProjects\\spbu_deep_learning1\\homeworks\\rnn_hw\\test\\images\\536.jpg: 608x640 (no detections), 15.6ms\n",
      "Speed: 0.0ms preprocess, 15.6ms inference, 0.0ms postprocess per image at shape (1, 3, 608, 640)\n",
      "\n",
      "image 1/1 C:\\Users\\user\\PycharmProjects\\spbu_deep_learning1\\homeworks\\rnn_hw\\test\\images\\541.jpg: 640x480 (no detections), 31.2ms\n",
      "Speed: 0.0ms preprocess, 31.2ms inference, 0.0ms postprocess per image at shape (1, 3, 640, 480)\n",
      "\n",
      "image 1/1 C:\\Users\\user\\PycharmProjects\\spbu_deep_learning1\\homeworks\\rnn_hw\\test\\images\\544.jpg: 640x512 1 person, 15.6ms\n",
      "Speed: 0.0ms preprocess, 15.6ms inference, 0.0ms postprocess per image at shape (1, 3, 640, 512)\n",
      "\n",
      "image 1/1 C:\\Users\\user\\PycharmProjects\\spbu_deep_learning1\\homeworks\\rnn_hw\\test\\images\\546.jpg: 576x640 (no detections), 16.0ms\n",
      "Speed: 15.6ms preprocess, 16.0ms inference, 0.0ms postprocess per image at shape (1, 3, 576, 640)\n",
      "\n",
      "image 1/1 C:\\Users\\user\\PycharmProjects\\spbu_deep_learning1\\homeworks\\rnn_hw\\test\\images\\550.jpg: 640x480 (no detections), 15.6ms\n",
      "Speed: 0.0ms preprocess, 15.6ms inference, 0.0ms postprocess per image at shape (1, 3, 640, 480)\n",
      "\n",
      "image 1/1 C:\\Users\\user\\PycharmProjects\\spbu_deep_learning1\\homeworks\\rnn_hw\\test\\images\\552.jpg: 640x448 (no detections), 15.6ms\n",
      "Speed: 0.0ms preprocess, 15.6ms inference, 0.0ms postprocess per image at shape (1, 3, 640, 448)\n",
      "\n",
      "image 1/1 C:\\Users\\user\\PycharmProjects\\spbu_deep_learning1\\homeworks\\rnn_hw\\test\\images\\553.jpg: 640x448 (no detections), 15.6ms\n",
      "Speed: 0.0ms preprocess, 15.6ms inference, 0.0ms postprocess per image at shape (1, 3, 640, 448)\n",
      "\n",
      "image 1/1 C:\\Users\\user\\PycharmProjects\\spbu_deep_learning1\\homeworks\\rnn_hw\\test\\images\\555.jpg: 512x640 1 cat, 1 chair, 1 vase, 1 teddy bear, 16.0ms\n",
      "Speed: 15.6ms preprocess, 16.0ms inference, 0.0ms postprocess per image at shape (1, 3, 512, 640)\n",
      "\n",
      "image 1/1 C:\\Users\\user\\PycharmProjects\\spbu_deep_learning1\\homeworks\\rnn_hw\\test\\images\\556.jpg: 640x480 1 bed, 1 book, 31.3ms\n",
      "Speed: 0.0ms preprocess, 31.3ms inference, 0.0ms postprocess per image at shape (1, 3, 640, 480)\n",
      "\n",
      "image 1/1 C:\\Users\\user\\PycharmProjects\\spbu_deep_learning1\\homeworks\\rnn_hw\\test\\images\\559.jpg: 608x640 1 book, 31.3ms\n",
      "Speed: 0.0ms preprocess, 31.3ms inference, 0.0ms postprocess per image at shape (1, 3, 608, 640)\n",
      "\n",
      "image 1/1 C:\\Users\\user\\PycharmProjects\\spbu_deep_learning1\\homeworks\\rnn_hw\\test\\images\\560.jpg: 480x640 (no detections), 15.6ms\n",
      "Speed: 0.0ms preprocess, 15.6ms inference, 0.0ms postprocess per image at shape (1, 3, 480, 640)\n",
      "\n",
      "image 1/1 C:\\Users\\user\\PycharmProjects\\spbu_deep_learning1\\homeworks\\rnn_hw\\test\\images\\564.jpg: 640x512 (no detections), 31.6ms\n",
      "Speed: 0.0ms preprocess, 31.6ms inference, 0.0ms postprocess per image at shape (1, 3, 640, 512)\n",
      "\n",
      "image 1/1 C:\\Users\\user\\PycharmProjects\\spbu_deep_learning1\\homeworks\\rnn_hw\\test\\images\\566.jpg: 544x640 1 kite, 15.6ms\n",
      "Speed: 0.0ms preprocess, 15.6ms inference, 0.0ms postprocess per image at shape (1, 3, 544, 640)\n",
      "\n",
      "image 1/1 C:\\Users\\user\\PycharmProjects\\spbu_deep_learning1\\homeworks\\rnn_hw\\test\\images\\568.jpg: 640x480 1 umbrella, 1 kite, 31.2ms\n",
      "Speed: 0.0ms preprocess, 31.2ms inference, 0.0ms postprocess per image at shape (1, 3, 640, 480)\n",
      "\n",
      "image 1/1 C:\\Users\\user\\PycharmProjects\\spbu_deep_learning1\\homeworks\\rnn_hw\\test\\images\\569.jpg: 640x480 (no detections), 15.6ms\n",
      "Speed: 0.0ms preprocess, 15.6ms inference, 0.0ms postprocess per image at shape (1, 3, 640, 480)\n",
      "\n",
      "image 1/1 C:\\Users\\user\\PycharmProjects\\spbu_deep_learning1\\homeworks\\rnn_hw\\test\\images\\576.jpg: 512x640 (no detections), 16.0ms\n",
      "Speed: 15.6ms preprocess, 16.0ms inference, 0.0ms postprocess per image at shape (1, 3, 512, 640)\n",
      "\n",
      "image 1/1 C:\\Users\\user\\PycharmProjects\\spbu_deep_learning1\\homeworks\\rnn_hw\\test\\images\\577.jpg: 416x640 (no detections), 15.6ms\n",
      "Speed: 0.0ms preprocess, 15.6ms inference, 0.0ms postprocess per image at shape (1, 3, 416, 640)\n",
      "\n",
      "image 1/1 C:\\Users\\user\\PycharmProjects\\spbu_deep_learning1\\homeworks\\rnn_hw\\test\\images\\578.jpg: 576x640 (no detections), 31.2ms\n",
      "Speed: 0.0ms preprocess, 31.2ms inference, 0.0ms postprocess per image at shape (1, 3, 576, 640)\n",
      "\n",
      "image 1/1 C:\\Users\\user\\PycharmProjects\\spbu_deep_learning1\\homeworks\\rnn_hw\\test\\images\\579.jpg: 640x544 4 persons, 1 horse, 1 clock, 15.6ms\n",
      "Speed: 0.0ms preprocess, 15.6ms inference, 0.0ms postprocess per image at shape (1, 3, 640, 544)\n",
      "\n",
      "image 1/1 C:\\Users\\user\\PycharmProjects\\spbu_deep_learning1\\homeworks\\rnn_hw\\test\\images\\583.jpg: 640x544 4 persons, 16.0ms\n",
      "Speed: 15.6ms preprocess, 16.0ms inference, 0.0ms postprocess per image at shape (1, 3, 640, 544)\n",
      "\n",
      "image 1/1 C:\\Users\\user\\PycharmProjects\\spbu_deep_learning1\\homeworks\\rnn_hw\\test\\images\\585.jpg: 512x640 1 horse, 15.6ms\n",
      "Speed: 0.0ms preprocess, 15.6ms inference, 0.0ms postprocess per image at shape (1, 3, 512, 640)\n",
      "\n",
      "image 1/1 C:\\Users\\user\\PycharmProjects\\spbu_deep_learning1\\homeworks\\rnn_hw\\test\\images\\587.jpg: 480x640 (no detections), 15.6ms\n",
      "Speed: 0.0ms preprocess, 15.6ms inference, 0.0ms postprocess per image at shape (1, 3, 480, 640)\n",
      "\n",
      "image 1/1 C:\\Users\\user\\PycharmProjects\\spbu_deep_learning1\\homeworks\\rnn_hw\\test\\images\\589.jpg: 352x640 6 boats, 15.6ms\n",
      "Speed: 0.0ms preprocess, 15.6ms inference, 0.0ms postprocess per image at shape (1, 3, 352, 640)\n",
      "\n",
      "image 1/1 C:\\Users\\user\\PycharmProjects\\spbu_deep_learning1\\homeworks\\rnn_hw\\test\\images\\591.jpg: 480x640 9 boats, 19.6ms\n",
      "Speed: 0.0ms preprocess, 19.6ms inference, 0.0ms postprocess per image at shape (1, 3, 480, 640)\n",
      "\n",
      "image 1/1 C:\\Users\\user\\PycharmProjects\\spbu_deep_learning1\\homeworks\\rnn_hw\\test\\images\\598.jpg: 480x640 1 bench, 1 dog, 16.0ms\n",
      "Speed: 0.0ms preprocess, 16.0ms inference, 0.0ms postprocess per image at shape (1, 3, 480, 640)\n",
      "\n",
      "image 1/1 C:\\Users\\user\\PycharmProjects\\spbu_deep_learning1\\homeworks\\rnn_hw\\test\\images\\599.jpg: 640x512 1 person, 15.6ms\n",
      "Speed: 0.0ms preprocess, 15.6ms inference, 0.0ms postprocess per image at shape (1, 3, 640, 512)\n",
      "\n",
      "image 1/1 C:\\Users\\user\\PycharmProjects\\spbu_deep_learning1\\homeworks\\rnn_hw\\test\\images\\6.jpg: 640x480 7 persons, 1 car, 1 bench, 1 handbag, 15.6ms\n",
      "Speed: 0.0ms preprocess, 15.6ms inference, 15.6ms postprocess per image at shape (1, 3, 640, 480)\n",
      "\n",
      "image 1/1 C:\\Users\\user\\PycharmProjects\\spbu_deep_learning1\\homeworks\\rnn_hw\\test\\images\\601.jpg: 640x544 1 person, 16.0ms\n",
      "Speed: 0.0ms preprocess, 16.0ms inference, 9.0ms postprocess per image at shape (1, 3, 640, 544)\n",
      "\n",
      "image 1/1 C:\\Users\\user\\PycharmProjects\\spbu_deep_learning1\\homeworks\\rnn_hw\\test\\images\\608.jpg: 640x416 1 person, 1 bench, 22.6ms\n",
      "Speed: 0.0ms preprocess, 22.6ms inference, 0.0ms postprocess per image at shape (1, 3, 640, 416)\n",
      "\n",
      "image 1/1 C:\\Users\\user\\PycharmProjects\\spbu_deep_learning1\\homeworks\\rnn_hw\\test\\images\\61.jpg: 480x640 1 person, 1 motorcycle, 15.6ms\n",
      "Speed: 0.0ms preprocess, 15.6ms inference, 0.0ms postprocess per image at shape (1, 3, 480, 640)\n",
      "\n",
      "image 1/1 C:\\Users\\user\\PycharmProjects\\spbu_deep_learning1\\homeworks\\rnn_hw\\test\\images\\610.jpg: 640x512 1 person, 1 umbrella, 15.6ms\n",
      "Speed: 0.0ms preprocess, 15.6ms inference, 0.0ms postprocess per image at shape (1, 3, 640, 512)\n",
      "\n",
      "image 1/1 C:\\Users\\user\\PycharmProjects\\spbu_deep_learning1\\homeworks\\rnn_hw\\test\\images\\612.jpg: 512x640 1 person, 1 umbrella, 1 bowl, 4 books, 15.6ms\n",
      "Speed: 0.0ms preprocess, 15.6ms inference, 0.0ms postprocess per image at shape (1, 3, 512, 640)\n",
      "\n",
      "image 1/1 C:\\Users\\user\\PycharmProjects\\spbu_deep_learning1\\homeworks\\rnn_hw\\test\\images\\613.jpg: 352x640 3 persons, 1 potted plant, 15.6ms\n",
      "Speed: 0.0ms preprocess, 15.6ms inference, 0.0ms postprocess per image at shape (1, 3, 352, 640)\n",
      "\n",
      "image 1/1 C:\\Users\\user\\PycharmProjects\\spbu_deep_learning1\\homeworks\\rnn_hw\\test\\images\\618.jpg: 640x384 1 person, 1 bench, 15.6ms\n",
      "Speed: 0.0ms preprocess, 15.6ms inference, 15.6ms postprocess per image at shape (1, 3, 640, 384)\n",
      "\n",
      "image 1/1 C:\\Users\\user\\PycharmProjects\\spbu_deep_learning1\\homeworks\\rnn_hw\\test\\images\\625.jpg: 640x544 1 person, 15.6ms\n",
      "Speed: 0.0ms preprocess, 15.6ms inference, 0.0ms postprocess per image at shape (1, 3, 640, 544)\n",
      "\n",
      "image 1/1 C:\\Users\\user\\PycharmProjects\\spbu_deep_learning1\\homeworks\\rnn_hw\\test\\images\\629.jpg: 640x576 1 person, 1 cat, 31.3ms\n",
      "Speed: 0.0ms preprocess, 31.3ms inference, 0.0ms postprocess per image at shape (1, 3, 640, 576)\n",
      "\n",
      "image 1/1 C:\\Users\\user\\PycharmProjects\\spbu_deep_learning1\\homeworks\\rnn_hw\\test\\images\\635.jpg: 384x640 7 umbrellas, 10.5ms\n",
      "Speed: 0.0ms preprocess, 10.5ms inference, 0.0ms postprocess per image at shape (1, 3, 384, 640)\n",
      "\n",
      "image 1/1 C:\\Users\\user\\PycharmProjects\\spbu_deep_learning1\\homeworks\\rnn_hw\\test\\images\\636.jpg: 512x640 1 kite, 1 teddy bear, 15.6ms\n",
      "Speed: 15.6ms preprocess, 15.6ms inference, 0.0ms postprocess per image at shape (1, 3, 512, 640)\n",
      "\n",
      "image 1/1 C:\\Users\\user\\PycharmProjects\\spbu_deep_learning1\\homeworks\\rnn_hw\\test\\images\\640.jpg: 448x640 2 persons, 2 motorcycles, 15.6ms\n",
      "Speed: 0.0ms preprocess, 15.6ms inference, 0.0ms postprocess per image at shape (1, 3, 448, 640)\n",
      "\n",
      "image 1/1 C:\\Users\\user\\PycharmProjects\\spbu_deep_learning1\\homeworks\\rnn_hw\\test\\images\\650.jpg: 512x640 1 bottle, 15.6ms\n",
      "Speed: 0.0ms preprocess, 15.6ms inference, 0.0ms postprocess per image at shape (1, 3, 512, 640)\n",
      "\n",
      "image 1/1 C:\\Users\\user\\PycharmProjects\\spbu_deep_learning1\\homeworks\\rnn_hw\\test\\images\\651.jpg: 640x416 1 bottle, 16.0ms\n",
      "Speed: 0.0ms preprocess, 16.0ms inference, 0.0ms postprocess per image at shape (1, 3, 640, 416)\n",
      "\n",
      "image 1/1 C:\\Users\\user\\PycharmProjects\\spbu_deep_learning1\\homeworks\\rnn_hw\\test\\images\\652.jpg: 480x640 2 microwaves, 1 oven, 15.6ms\n",
      "Speed: 0.0ms preprocess, 15.6ms inference, 0.0ms postprocess per image at shape (1, 3, 480, 640)\n",
      "\n",
      "image 1/1 C:\\Users\\user\\PycharmProjects\\spbu_deep_learning1\\homeworks\\rnn_hw\\test\\images\\657.jpg: 640x512 1 teddy bear, 15.6ms\n",
      "Speed: 0.0ms preprocess, 15.6ms inference, 0.0ms postprocess per image at shape (1, 3, 640, 512)\n",
      "\n",
      "image 1/1 C:\\Users\\user\\PycharmProjects\\spbu_deep_learning1\\homeworks\\rnn_hw\\test\\images\\658.jpg: 512x640 1 orange, 15.6ms\n",
      "Speed: 0.0ms preprocess, 15.6ms inference, 0.0ms postprocess per image at shape (1, 3, 512, 640)\n",
      "\n",
      "image 1/1 C:\\Users\\user\\PycharmProjects\\spbu_deep_learning1\\homeworks\\rnn_hw\\test\\images\\662.jpg: 480x640 1 dining table, 31.8ms\n",
      "Speed: 0.0ms preprocess, 31.8ms inference, 1.0ms postprocess per image at shape (1, 3, 480, 640)\n",
      "\n",
      "image 1/1 C:\\Users\\user\\PycharmProjects\\spbu_deep_learning1\\homeworks\\rnn_hw\\test\\images\\664.jpg: 448x640 (no detections), 14.5ms\n",
      "Speed: 0.0ms preprocess, 14.5ms inference, 0.0ms postprocess per image at shape (1, 3, 448, 640)\n",
      "\n",
      "image 1/1 C:\\Users\\user\\PycharmProjects\\spbu_deep_learning1\\homeworks\\rnn_hw\\test\\images\\666.jpg: 384x640 7 persons, 2 dogs, 31.3ms\n",
      "Speed: 0.0ms preprocess, 31.3ms inference, 0.0ms postprocess per image at shape (1, 3, 384, 640)\n",
      "\n",
      "image 1/1 C:\\Users\\user\\PycharmProjects\\spbu_deep_learning1\\homeworks\\rnn_hw\\test\\images\\67.jpg: 448x640 2 airplanes, 15.6ms\n",
      "Speed: 0.0ms preprocess, 15.6ms inference, 0.0ms postprocess per image at shape (1, 3, 448, 640)\n",
      "\n",
      "image 1/1 C:\\Users\\user\\PycharmProjects\\spbu_deep_learning1\\homeworks\\rnn_hw\\test\\images\\671.jpg: 640x544 2 boats, 31.6ms\n",
      "Speed: 0.0ms preprocess, 31.6ms inference, 0.0ms postprocess per image at shape (1, 3, 640, 544)\n",
      "\n",
      "image 1/1 C:\\Users\\user\\PycharmProjects\\spbu_deep_learning1\\homeworks\\rnn_hw\\test\\images\\672.jpg: 352x640 1 cow, 15.6ms\n",
      "Speed: 0.0ms preprocess, 15.6ms inference, 0.0ms postprocess per image at shape (1, 3, 352, 640)\n",
      "\n",
      "image 1/1 C:\\Users\\user\\PycharmProjects\\spbu_deep_learning1\\homeworks\\rnn_hw\\test\\images\\674.jpg: 640x512 (no detections), 15.6ms\n",
      "Speed: 0.0ms preprocess, 15.6ms inference, 0.0ms postprocess per image at shape (1, 3, 640, 512)\n",
      "\n",
      "image 1/1 C:\\Users\\user\\PycharmProjects\\spbu_deep_learning1\\homeworks\\rnn_hw\\test\\images\\675.jpg: 640x480 1 kite, 15.6ms\n",
      "Speed: 0.0ms preprocess, 15.6ms inference, 0.0ms postprocess per image at shape (1, 3, 640, 480)\n",
      "\n",
      "image 1/1 C:\\Users\\user\\PycharmProjects\\spbu_deep_learning1\\homeworks\\rnn_hw\\test\\images\\676.jpg: 544x640 1 bench, 16.0ms\n",
      "Speed: 0.0ms preprocess, 16.0ms inference, 0.0ms postprocess per image at shape (1, 3, 544, 640)\n",
      "\n",
      "image 1/1 C:\\Users\\user\\PycharmProjects\\spbu_deep_learning1\\homeworks\\rnn_hw\\test\\images\\684.jpg: 640x352 3 birds, 15.6ms\n",
      "Speed: 0.0ms preprocess, 15.6ms inference, 0.0ms postprocess per image at shape (1, 3, 640, 352)\n",
      "\n",
      "image 1/1 C:\\Users\\user\\PycharmProjects\\spbu_deep_learning1\\homeworks\\rnn_hw\\test\\images\\686.jpg: 640x352 1 bird, 15.6ms\n",
      "Speed: 0.0ms preprocess, 15.6ms inference, 0.0ms postprocess per image at shape (1, 3, 640, 352)\n",
      "\n",
      "image 1/1 C:\\Users\\user\\PycharmProjects\\spbu_deep_learning1\\homeworks\\rnn_hw\\test\\images\\694.jpg: 352x640 17 birds, 15.6ms\n",
      "Speed: 0.0ms preprocess, 15.6ms inference, 0.0ms postprocess per image at shape (1, 3, 352, 640)\n",
      "\n",
      "image 1/1 C:\\Users\\user\\PycharmProjects\\spbu_deep_learning1\\homeworks\\rnn_hw\\test\\images\\696.jpg: 640x352 1 bird, 20.1ms\n",
      "Speed: 0.0ms preprocess, 20.1ms inference, 0.0ms postprocess per image at shape (1, 3, 640, 352)\n",
      "\n",
      "image 1/1 C:\\Users\\user\\PycharmProjects\\spbu_deep_learning1\\homeworks\\rnn_hw\\test\\images\\70.jpg: 480x640 1 airplane, 11.5ms\n",
      "Speed: 0.0ms preprocess, 11.5ms inference, 0.0ms postprocess per image at shape (1, 3, 480, 640)\n",
      "\n",
      "image 1/1 C:\\Users\\user\\PycharmProjects\\spbu_deep_learning1\\homeworks\\rnn_hw\\test\\images\\703.jpg: 544x640 4 birds, 15.6ms\n",
      "Speed: 0.0ms preprocess, 15.6ms inference, 0.0ms postprocess per image at shape (1, 3, 544, 640)\n",
      "\n",
      "image 1/1 C:\\Users\\user\\PycharmProjects\\spbu_deep_learning1\\homeworks\\rnn_hw\\test\\images\\704.jpg: 480x640 1 bird, 15.6ms\n",
      "Speed: 0.0ms preprocess, 15.6ms inference, 0.0ms postprocess per image at shape (1, 3, 480, 640)\n",
      "\n",
      "image 1/1 C:\\Users\\user\\PycharmProjects\\spbu_deep_learning1\\homeworks\\rnn_hw\\test\\images\\708.jpg: 448x640 14 birds, 26.1ms\n",
      "Speed: 0.0ms preprocess, 26.1ms inference, 0.0ms postprocess per image at shape (1, 3, 448, 640)\n",
      "\n",
      "image 1/1 C:\\Users\\user\\PycharmProjects\\spbu_deep_learning1\\homeworks\\rnn_hw\\test\\images\\716.jpg: 512x640 13 birds, 15.6ms\n",
      "Speed: 0.0ms preprocess, 15.6ms inference, 0.0ms postprocess per image at shape (1, 3, 512, 640)\n",
      "\n",
      "image 1/1 C:\\Users\\user\\PycharmProjects\\spbu_deep_learning1\\homeworks\\rnn_hw\\test\\images\\718.jpg: 384x640 3 birds, 15.6ms\n",
      "Speed: 0.0ms preprocess, 15.6ms inference, 15.6ms postprocess per image at shape (1, 3, 384, 640)\n",
      "\n",
      "image 1/1 C:\\Users\\user\\PycharmProjects\\spbu_deep_learning1\\homeworks\\rnn_hw\\test\\images\\719.jpg: 448x640 11 birds, 15.6ms\n",
      "Speed: 0.0ms preprocess, 15.6ms inference, 0.0ms postprocess per image at shape (1, 3, 448, 640)\n",
      "\n",
      "image 1/1 C:\\Users\\user\\PycharmProjects\\spbu_deep_learning1\\homeworks\\rnn_hw\\test\\images\\720.jpg: 448x640 5 birds, 16.6ms\n",
      "Speed: 15.6ms preprocess, 16.6ms inference, 0.0ms postprocess per image at shape (1, 3, 448, 640)\n",
      "\n",
      "image 1/1 C:\\Users\\user\\PycharmProjects\\spbu_deep_learning1\\homeworks\\rnn_hw\\test\\images\\728.jpg: 256x640 7 birds, 15.0ms\n",
      "Speed: 0.0ms preprocess, 15.0ms inference, 0.0ms postprocess per image at shape (1, 3, 256, 640)\n",
      "\n",
      "image 1/1 C:\\Users\\user\\PycharmProjects\\spbu_deep_learning1\\homeworks\\rnn_hw\\test\\images\\73.jpg: 480x640 1 airplane, 15.6ms\n",
      "Speed: 0.0ms preprocess, 15.6ms inference, 0.0ms postprocess per image at shape (1, 3, 480, 640)\n",
      "\n",
      "image 1/1 C:\\Users\\user\\PycharmProjects\\spbu_deep_learning1\\homeworks\\rnn_hw\\test\\images\\734.jpg: 640x384 1 person, 31.2ms\n",
      "Speed: 0.0ms preprocess, 31.2ms inference, 0.0ms postprocess per image at shape (1, 3, 640, 384)\n",
      "\n",
      "image 1/1 C:\\Users\\user\\PycharmProjects\\spbu_deep_learning1\\homeworks\\rnn_hw\\test\\images\\741.jpg: 448x640 1 kite, 25.5ms\n",
      "Speed: 6.5ms preprocess, 25.5ms inference, 0.0ms postprocess per image at shape (1, 3, 448, 640)\n",
      "\n",
      "image 1/1 C:\\Users\\user\\PycharmProjects\\spbu_deep_learning1\\homeworks\\rnn_hw\\test\\images\\743.jpg: 640x576 1 surfboard, 15.6ms\n",
      "Speed: 0.0ms preprocess, 15.6ms inference, 0.0ms postprocess per image at shape (1, 3, 640, 576)\n",
      "\n",
      "image 1/1 C:\\Users\\user\\PycharmProjects\\spbu_deep_learning1\\homeworks\\rnn_hw\\test\\images\\744.jpg: 640x416 1 potted plant, 1 vase, 31.2ms\n",
      "Speed: 0.0ms preprocess, 31.2ms inference, 0.0ms postprocess per image at shape (1, 3, 640, 416)\n",
      "\n",
      "image 1/1 C:\\Users\\user\\PycharmProjects\\spbu_deep_learning1\\homeworks\\rnn_hw\\test\\images\\747.jpg: 640x640 1 spoon, 1 cake, 15.6ms\n",
      "Speed: 0.0ms preprocess, 15.6ms inference, 0.0ms postprocess per image at shape (1, 3, 640, 640)\n",
      "\n",
      "image 1/1 C:\\Users\\user\\PycharmProjects\\spbu_deep_learning1\\homeworks\\rnn_hw\\test\\images\\751.jpg: 512x640 2 persons, 16.0ms\n",
      "Speed: 0.0ms preprocess, 16.0ms inference, 0.0ms postprocess per image at shape (1, 3, 512, 640)\n",
      "\n",
      "image 1/1 C:\\Users\\user\\PycharmProjects\\spbu_deep_learning1\\homeworks\\rnn_hw\\test\\images\\756.jpg: 512x640 15 persons, 31.3ms\n",
      "Speed: 0.0ms preprocess, 31.3ms inference, 0.0ms postprocess per image at shape (1, 3, 512, 640)\n",
      "\n",
      "image 1/1 C:\\Users\\user\\PycharmProjects\\spbu_deep_learning1\\homeworks\\rnn_hw\\test\\images\\759.jpg: 480x640 2 persons, 1 sheep, 15.6ms\n",
      "Speed: 0.0ms preprocess, 15.6ms inference, 0.0ms postprocess per image at shape (1, 3, 480, 640)\n",
      "\n",
      "image 1/1 C:\\Users\\user\\PycharmProjects\\spbu_deep_learning1\\homeworks\\rnn_hw\\test\\images\\765.jpg: 640x480 1 potted plant, 1 vase, 31.3ms\n",
      "Speed: 0.0ms preprocess, 31.3ms inference, 0.0ms postprocess per image at shape (1, 3, 640, 480)\n",
      "\n",
      "image 1/1 C:\\Users\\user\\PycharmProjects\\spbu_deep_learning1\\homeworks\\rnn_hw\\test\\images\\769.jpg: 480x640 (no detections), 18.6ms\n",
      "Speed: 0.0ms preprocess, 18.6ms inference, 0.0ms postprocess per image at shape (1, 3, 480, 640)\n",
      "\n",
      "image 1/1 C:\\Users\\user\\PycharmProjects\\spbu_deep_learning1\\homeworks\\rnn_hw\\test\\images\\775.jpg: 640x640 (no detections), 15.6ms\n",
      "Speed: 0.0ms preprocess, 15.6ms inference, 15.6ms postprocess per image at shape (1, 3, 640, 640)\n",
      "\n",
      "image 1/1 C:\\Users\\user\\PycharmProjects\\spbu_deep_learning1\\homeworks\\rnn_hw\\test\\images\\776.jpg: 544x640 1 person, 1 boat, 16.8ms\n",
      "Speed: 0.0ms preprocess, 16.8ms inference, 0.0ms postprocess per image at shape (1, 3, 544, 640)\n",
      "\n",
      "image 1/1 C:\\Users\\user\\PycharmProjects\\spbu_deep_learning1\\homeworks\\rnn_hw\\test\\images\\778.jpg: 512x640 (no detections), 30.1ms\n",
      "Speed: 0.0ms preprocess, 30.1ms inference, 0.0ms postprocess per image at shape (1, 3, 512, 640)\n",
      "\n",
      "image 1/1 C:\\Users\\user\\PycharmProjects\\spbu_deep_learning1\\homeworks\\rnn_hw\\test\\images\\779.jpg: 640x512 (no detections), 16.0ms\n",
      "Speed: 0.0ms preprocess, 16.0ms inference, 0.0ms postprocess per image at shape (1, 3, 640, 512)\n",
      "\n",
      "image 1/1 C:\\Users\\user\\PycharmProjects\\spbu_deep_learning1\\homeworks\\rnn_hw\\test\\images\\782.jpg: 544x640 3 persons, 31.3ms\n",
      "Speed: 0.0ms preprocess, 31.3ms inference, 0.0ms postprocess per image at shape (1, 3, 544, 640)\n",
      "\n",
      "image 1/1 C:\\Users\\user\\PycharmProjects\\spbu_deep_learning1\\homeworks\\rnn_hw\\test\\images\\784.jpg: 544x640 (no detections), 15.6ms\n",
      "Speed: 0.0ms preprocess, 15.6ms inference, 0.0ms postprocess per image at shape (1, 3, 544, 640)\n",
      "\n",
      "image 1/1 C:\\Users\\user\\PycharmProjects\\spbu_deep_learning1\\homeworks\\rnn_hw\\test\\images\\785.jpg: 512x640 (no detections), 31.3ms\n",
      "Speed: 0.0ms preprocess, 31.3ms inference, 0.0ms postprocess per image at shape (1, 3, 512, 640)\n",
      "\n",
      "image 1/1 C:\\Users\\user\\PycharmProjects\\spbu_deep_learning1\\homeworks\\rnn_hw\\test\\images\\793.jpg: 352x640 13 persons, 1 wine glass, 1 cup, 1 dining table, 16.0ms\n",
      "Speed: 0.0ms preprocess, 16.0ms inference, 0.0ms postprocess per image at shape (1, 3, 352, 640)\n",
      "\n",
      "image 1/1 C:\\Users\\user\\PycharmProjects\\spbu_deep_learning1\\homeworks\\rnn_hw\\test\\images\\801.jpg: 448x640 1 kite, 15.6ms\n",
      "Speed: 0.0ms preprocess, 15.6ms inference, 0.0ms postprocess per image at shape (1, 3, 448, 640)\n",
      "\n",
      "image 1/1 C:\\Users\\user\\PycharmProjects\\spbu_deep_learning1\\homeworks\\rnn_hw\\test\\images\\802.jpg: 640x448 (no detections), 15.6ms\n",
      "Speed: 0.0ms preprocess, 15.6ms inference, 0.0ms postprocess per image at shape (1, 3, 640, 448)\n",
      "\n",
      "image 1/1 C:\\Users\\user\\PycharmProjects\\spbu_deep_learning1\\homeworks\\rnn_hw\\test\\images\\804.jpg: 640x640 (no detections), 15.6ms\n",
      "Speed: 0.0ms preprocess, 15.6ms inference, 0.0ms postprocess per image at shape (1, 3, 640, 640)\n",
      "\n",
      "image 1/1 C:\\Users\\user\\PycharmProjects\\spbu_deep_learning1\\homeworks\\rnn_hw\\test\\images\\809.jpg: 640x544 1 person, 1 book, 21.1ms\n",
      "Speed: 0.0ms preprocess, 21.1ms inference, 0.0ms postprocess per image at shape (1, 3, 640, 544)\n",
      "\n",
      "image 1/1 C:\\Users\\user\\PycharmProjects\\spbu_deep_learning1\\homeworks\\rnn_hw\\test\\images\\81.jpg: 480x640 2 cats, 2 beds, 15.6ms\n",
      "Speed: 0.0ms preprocess, 15.6ms inference, 0.0ms postprocess per image at shape (1, 3, 480, 640)\n",
      "\n",
      "image 1/1 C:\\Users\\user\\PycharmProjects\\spbu_deep_learning1\\homeworks\\rnn_hw\\test\\images\\810.jpg: 608x640 1 person, 15.6ms\n",
      "Speed: 0.0ms preprocess, 15.6ms inference, 0.0ms postprocess per image at shape (1, 3, 608, 640)\n",
      "\n",
      "image 1/1 C:\\Users\\user\\PycharmProjects\\spbu_deep_learning1\\homeworks\\rnn_hw\\test\\images\\811.jpg: 608x640 1 cat, 15.6ms\n",
      "Speed: 0.0ms preprocess, 15.6ms inference, 0.0ms postprocess per image at shape (1, 3, 608, 640)\n",
      "\n",
      "image 1/1 C:\\Users\\user\\PycharmProjects\\spbu_deep_learning1\\homeworks\\rnn_hw\\test\\images\\815.jpg: 640x416 1 baseball glove, 16.0ms\n",
      "Speed: 0.0ms preprocess, 16.0ms inference, 0.0ms postprocess per image at shape (1, 3, 640, 416)\n",
      "\n",
      "image 1/1 C:\\Users\\user\\PycharmProjects\\spbu_deep_learning1\\homeworks\\rnn_hw\\test\\images\\820.jpg: 448x640 (no detections), 15.6ms\n",
      "Speed: 0.0ms preprocess, 15.6ms inference, 0.0ms postprocess per image at shape (1, 3, 448, 640)\n",
      "\n",
      "image 1/1 C:\\Users\\user\\PycharmProjects\\spbu_deep_learning1\\homeworks\\rnn_hw\\test\\images\\824.jpg: 640x640 (no detections), 15.6ms\n",
      "Speed: 0.0ms preprocess, 15.6ms inference, 0.0ms postprocess per image at shape (1, 3, 640, 640)\n",
      "\n",
      "image 1/1 C:\\Users\\user\\PycharmProjects\\spbu_deep_learning1\\homeworks\\rnn_hw\\test\\images\\834.jpg: 416x640 1 person, 1 bed, 31.2ms\n",
      "Speed: 0.0ms preprocess, 31.2ms inference, 0.0ms postprocess per image at shape (1, 3, 416, 640)\n",
      "\n",
      "image 1/1 C:\\Users\\user\\PycharmProjects\\spbu_deep_learning1\\homeworks\\rnn_hw\\test\\images\\836.jpg: 512x640 (no detections), 17.6ms\n",
      "Speed: 0.0ms preprocess, 17.6ms inference, 0.0ms postprocess per image at shape (1, 3, 512, 640)\n",
      "\n",
      "image 1/1 C:\\Users\\user\\PycharmProjects\\spbu_deep_learning1\\homeworks\\rnn_hw\\test\\images\\837.jpg: 608x640 3 horses, 15.6ms\n",
      "Speed: 14.0ms preprocess, 15.6ms inference, 0.0ms postprocess per image at shape (1, 3, 608, 640)\n",
      "\n",
      "image 1/1 C:\\Users\\user\\PycharmProjects\\spbu_deep_learning1\\homeworks\\rnn_hw\\test\\images\\84.jpg: 480x640 1 car, 15.6ms\n",
      "Speed: 0.0ms preprocess, 15.6ms inference, 0.0ms postprocess per image at shape (1, 3, 480, 640)\n",
      "\n",
      "image 1/1 C:\\Users\\user\\PycharmProjects\\spbu_deep_learning1\\homeworks\\rnn_hw\\test\\images\\841.jpg: 640x416 (no detections), 15.6ms\n",
      "Speed: 0.0ms preprocess, 15.6ms inference, 0.0ms postprocess per image at shape (1, 3, 640, 416)\n",
      "\n",
      "image 1/1 C:\\Users\\user\\PycharmProjects\\spbu_deep_learning1\\homeworks\\rnn_hw\\test\\images\\843.jpg: 512x640 1 apple, 23.6ms\n",
      "Speed: 0.0ms preprocess, 23.6ms inference, 0.0ms postprocess per image at shape (1, 3, 512, 640)\n",
      "\n",
      "image 1/1 C:\\Users\\user\\PycharmProjects\\spbu_deep_learning1\\homeworks\\rnn_hw\\test\\images\\849.jpg: 640x640 (no detections), 15.6ms\n",
      "Speed: 0.0ms preprocess, 15.6ms inference, 0.0ms postprocess per image at shape (1, 3, 640, 640)\n",
      "\n",
      "image 1/1 C:\\Users\\user\\PycharmProjects\\spbu_deep_learning1\\homeworks\\rnn_hw\\test\\images\\853.jpg: 608x640 (no detections), 15.6ms\n",
      "Speed: 0.0ms preprocess, 15.6ms inference, 0.0ms postprocess per image at shape (1, 3, 608, 640)\n",
      "\n",
      "image 1/1 C:\\Users\\user\\PycharmProjects\\spbu_deep_learning1\\homeworks\\rnn_hw\\test\\images\\854.jpg: 448x640 1 airplane, 15.6ms\n",
      "Speed: 0.0ms preprocess, 15.6ms inference, 0.0ms postprocess per image at shape (1, 3, 448, 640)\n",
      "\n",
      "image 1/1 C:\\Users\\user\\PycharmProjects\\spbu_deep_learning1\\homeworks\\rnn_hw\\test\\images\\860.jpg: 640x352 1 teddy bear, 15.6ms\n",
      "Speed: 0.0ms preprocess, 15.6ms inference, 14.0ms postprocess per image at shape (1, 3, 640, 352)\n",
      "\n",
      "image 1/1 C:\\Users\\user\\PycharmProjects\\spbu_deep_learning1\\homeworks\\rnn_hw\\test\\images\\862.jpg: 640x320 8 persons, 15.6ms\n",
      "Speed: 0.0ms preprocess, 15.6ms inference, 0.0ms postprocess per image at shape (1, 3, 640, 320)\n",
      "\n",
      "image 1/1 C:\\Users\\user\\PycharmProjects\\spbu_deep_learning1\\homeworks\\rnn_hw\\test\\images\\863.jpg: 416x640 (no detections), 15.6ms\n",
      "Speed: 0.0ms preprocess, 15.6ms inference, 0.0ms postprocess per image at shape (1, 3, 416, 640)\n",
      "\n",
      "image 1/1 C:\\Users\\user\\PycharmProjects\\spbu_deep_learning1\\homeworks\\rnn_hw\\test\\images\\865.jpg: 480x640 (no detections), 15.6ms\n",
      "Speed: 0.0ms preprocess, 15.6ms inference, 0.0ms postprocess per image at shape (1, 3, 480, 640)\n",
      "\n",
      "image 1/1 C:\\Users\\user\\PycharmProjects\\spbu_deep_learning1\\homeworks\\rnn_hw\\test\\images\\866.jpg: 640x544 6 persons, 1 bench, 23.3ms\n",
      "Speed: 0.0ms preprocess, 23.3ms inference, 8.0ms postprocess per image at shape (1, 3, 640, 544)\n",
      "\n",
      "image 1/1 C:\\Users\\user\\PycharmProjects\\spbu_deep_learning1\\homeworks\\rnn_hw\\test\\images\\867.jpg: 640x512 6 persons, 11.5ms\n",
      "Speed: 4.5ms preprocess, 11.5ms inference, 0.0ms postprocess per image at shape (1, 3, 640, 512)\n",
      "\n",
      "image 1/1 C:\\Users\\user\\PycharmProjects\\spbu_deep_learning1\\homeworks\\rnn_hw\\test\\images\\869.jpg: 512x640 3 persons, 1 horse, 31.3ms\n",
      "Speed: 0.0ms preprocess, 31.3ms inference, 0.0ms postprocess per image at shape (1, 3, 512, 640)\n",
      "\n",
      "image 1/1 C:\\Users\\user\\PycharmProjects\\spbu_deep_learning1\\homeworks\\rnn_hw\\test\\images\\870.jpg: 352x640 2 persons, 1 bed, 15.6ms\n",
      "Speed: 0.0ms preprocess, 15.6ms inference, 0.0ms postprocess per image at shape (1, 3, 352, 640)\n",
      "\n",
      "image 1/1 C:\\Users\\user\\PycharmProjects\\spbu_deep_learning1\\homeworks\\rnn_hw\\test\\images\\873.jpg: 480x640 (no detections), 31.3ms\n",
      "Speed: 0.0ms preprocess, 31.3ms inference, 0.0ms postprocess per image at shape (1, 3, 480, 640)\n",
      "\n",
      "image 1/1 C:\\Users\\user\\PycharmProjects\\spbu_deep_learning1\\homeworks\\rnn_hw\\test\\images\\88.jpg: 480x640 4 cars, 1 truck, 16.0ms\n",
      "Speed: 0.0ms preprocess, 16.0ms inference, 0.0ms postprocess per image at shape (1, 3, 480, 640)\n",
      "\n",
      "image 1/1 C:\\Users\\user\\PycharmProjects\\spbu_deep_learning1\\homeworks\\rnn_hw\\test\\images\\880.jpg: 640x512 6 persons, 1 dog, 15.6ms\n",
      "Speed: 15.6ms preprocess, 15.6ms inference, 0.0ms postprocess per image at shape (1, 3, 640, 512)\n",
      "\n",
      "image 1/1 C:\\Users\\user\\PycharmProjects\\spbu_deep_learning1\\homeworks\\rnn_hw\\test\\images\\886.jpg: 640x512 1 person, 1 tie, 15.6ms\n",
      "Speed: 0.0ms preprocess, 15.6ms inference, 0.0ms postprocess per image at shape (1, 3, 640, 512)\n",
      "\n",
      "image 1/1 C:\\Users\\user\\PycharmProjects\\spbu_deep_learning1\\homeworks\\rnn_hw\\test\\images\\887.jpg: 640x512 1 person, 15.6ms\n",
      "Speed: 0.0ms preprocess, 15.6ms inference, 0.0ms postprocess per image at shape (1, 3, 640, 512)\n",
      "\n",
      "image 1/1 C:\\Users\\user\\PycharmProjects\\spbu_deep_learning1\\homeworks\\rnn_hw\\test\\images\\89.jpg: 480x640 1 train, 16.6ms\n",
      "Speed: 0.0ms preprocess, 16.6ms inference, 0.0ms postprocess per image at shape (1, 3, 480, 640)\n",
      "\n",
      "image 1/1 C:\\Users\\user\\PycharmProjects\\spbu_deep_learning1\\homeworks\\rnn_hw\\test\\images\\891.jpg: 640x416 1 person, 1 bird, 15.6ms\n",
      "Speed: 0.0ms preprocess, 15.6ms inference, 0.0ms postprocess per image at shape (1, 3, 640, 416)\n",
      "\n",
      "image 1/1 C:\\Users\\user\\PycharmProjects\\spbu_deep_learning1\\homeworks\\rnn_hw\\test\\images\\894.jpg: 448x640 14 persons, 1 boat, 15.6ms\n",
      "Speed: 0.0ms preprocess, 15.6ms inference, 0.0ms postprocess per image at shape (1, 3, 448, 640)\n",
      "\n",
      "image 1/1 C:\\Users\\user\\PycharmProjects\\spbu_deep_learning1\\homeworks\\rnn_hw\\test\\images\\9.jpg: 448x640 1 horse, 15.0ms\n",
      "Speed: 0.0ms preprocess, 15.0ms inference, 0.0ms postprocess per image at shape (1, 3, 448, 640)\n",
      "\n",
      "image 1/1 C:\\Users\\user\\PycharmProjects\\spbu_deep_learning1\\homeworks\\rnn_hw\\test\\images\\900.jpg: 608x640 14 persons, 1 kite, 22.1ms\n",
      "Speed: 0.0ms preprocess, 22.1ms inference, 0.0ms postprocess per image at shape (1, 3, 608, 640)\n",
      "\n",
      "image 1/1 C:\\Users\\user\\PycharmProjects\\spbu_deep_learning1\\homeworks\\rnn_hw\\test\\images\\906.jpg: 640x576 1 person, 1 horse, 15.6ms\n",
      "Speed: 0.0ms preprocess, 15.6ms inference, 0.0ms postprocess per image at shape (1, 3, 640, 576)\n",
      "\n",
      "image 1/1 C:\\Users\\user\\PycharmProjects\\spbu_deep_learning1\\homeworks\\rnn_hw\\test\\images\\91.jpg: 480x640 1 cat, 15.6ms\n",
      "Speed: 0.0ms preprocess, 15.6ms inference, 0.0ms postprocess per image at shape (1, 3, 480, 640)\n",
      "\n",
      "image 1/1 C:\\Users\\user\\PycharmProjects\\spbu_deep_learning1\\homeworks\\rnn_hw\\test\\images\\92.jpg: 320x640 2 buss, 31.3ms\n",
      "Speed: 0.0ms preprocess, 31.3ms inference, 0.0ms postprocess per image at shape (1, 3, 320, 640)\n",
      "\n",
      "image 1/1 C:\\Users\\user\\PycharmProjects\\spbu_deep_learning1\\homeworks\\rnn_hw\\test\\images\\926.jpg: 544x640 5 persons, 1 chair, 16.0ms\n",
      "Speed: 0.0ms preprocess, 16.0ms inference, 0.0ms postprocess per image at shape (1, 3, 544, 640)\n",
      "\n",
      "image 1/1 C:\\Users\\user\\PycharmProjects\\spbu_deep_learning1\\homeworks\\rnn_hw\\test\\images\\928.jpg: 640x512 1 vase, 15.6ms\n",
      "Speed: 0.0ms preprocess, 15.6ms inference, 0.0ms postprocess per image at shape (1, 3, 640, 512)\n",
      "\n",
      "image 1/1 C:\\Users\\user\\PycharmProjects\\spbu_deep_learning1\\homeworks\\rnn_hw\\test\\images\\932.jpg: 640x608 (no detections), 31.2ms\n",
      "Speed: 0.0ms preprocess, 31.2ms inference, 0.0ms postprocess per image at shape (1, 3, 640, 608)\n",
      "\n",
      "image 1/1 C:\\Users\\user\\PycharmProjects\\spbu_deep_learning1\\homeworks\\rnn_hw\\test\\images\\934.jpg: 576x640 1 carrot, 15.6ms\n",
      "Speed: 0.0ms preprocess, 15.6ms inference, 0.0ms postprocess per image at shape (1, 3, 576, 640)\n",
      "\n",
      "image 1/1 C:\\Users\\user\\PycharmProjects\\spbu_deep_learning1\\homeworks\\rnn_hw\\test\\images\\935.jpg: 544x640 1 stop sign, 31.6ms\n",
      "Speed: 0.0ms preprocess, 31.6ms inference, 0.0ms postprocess per image at shape (1, 3, 544, 640)\n",
      "\n",
      "image 1/1 C:\\Users\\user\\PycharmProjects\\spbu_deep_learning1\\homeworks\\rnn_hw\\test\\images\\936.jpg: 640x608 (no detections), 15.6ms\n",
      "Speed: 0.0ms preprocess, 15.6ms inference, 0.0ms postprocess per image at shape (1, 3, 640, 608)\n",
      "\n",
      "image 1/1 C:\\Users\\user\\PycharmProjects\\spbu_deep_learning1\\homeworks\\rnn_hw\\test\\images\\94.jpg: 640x640 1 person, 1 bottle, 1 knife, 1 spoon, 2 chairs, 1 dining table, 31.2ms\n",
      "Speed: 0.0ms preprocess, 31.2ms inference, 0.0ms postprocess per image at shape (1, 3, 640, 640)\n",
      "\n",
      "image 1/1 C:\\Users\\user\\PycharmProjects\\spbu_deep_learning1\\homeworks\\rnn_hw\\test\\images\\940.jpg: 512x640 (no detections), 31.3ms\n",
      "Speed: 0.0ms preprocess, 31.3ms inference, 0.0ms postprocess per image at shape (1, 3, 512, 640)\n",
      "\n",
      "image 1/1 C:\\Users\\user\\PycharmProjects\\spbu_deep_learning1\\homeworks\\rnn_hw\\test\\images\\945.jpg: 640x544 (no detections), 16.0ms\n",
      "Speed: 0.0ms preprocess, 16.0ms inference, 0.0ms postprocess per image at shape (1, 3, 640, 544)\n",
      "\n",
      "image 1/1 C:\\Users\\user\\PycharmProjects\\spbu_deep_learning1\\homeworks\\rnn_hw\\test\\images\\952.jpg: 640x480 (no detections), 31.3ms\n",
      "Speed: 0.0ms preprocess, 31.3ms inference, 0.0ms postprocess per image at shape (1, 3, 640, 480)\n",
      "\n",
      "image 1/1 C:\\Users\\user\\PycharmProjects\\spbu_deep_learning1\\homeworks\\rnn_hw\\test\\images\\954.jpg: 640x480 (no detections), 15.6ms\n",
      "Speed: 0.0ms preprocess, 15.6ms inference, 0.0ms postprocess per image at shape (1, 3, 640, 480)\n",
      "\n",
      "image 1/1 C:\\Users\\user\\PycharmProjects\\spbu_deep_learning1\\homeworks\\rnn_hw\\test\\images\\955.jpg: 640x480 (no detections), 15.6ms\n",
      "Speed: 0.0ms preprocess, 15.6ms inference, 0.0ms postprocess per image at shape (1, 3, 640, 480)\n",
      "\n",
      "image 1/1 C:\\Users\\user\\PycharmProjects\\spbu_deep_learning1\\homeworks\\rnn_hw\\test\\images\\957.jpg: 640x512 (no detections), 16.0ms\n",
      "Speed: 0.0ms preprocess, 16.0ms inference, 0.0ms postprocess per image at shape (1, 3, 640, 512)\n",
      "\n",
      "image 1/1 C:\\Users\\user\\PycharmProjects\\spbu_deep_learning1\\homeworks\\rnn_hw\\test\\images\\959.jpg: 640x480 (no detections), 15.6ms\n",
      "Speed: 0.0ms preprocess, 15.6ms inference, 0.0ms postprocess per image at shape (1, 3, 640, 480)\n",
      "\n",
      "image 1/1 C:\\Users\\user\\PycharmProjects\\spbu_deep_learning1\\homeworks\\rnn_hw\\test\\images\\964.jpg: 512x640 1 book, 15.6ms\n",
      "Speed: 0.0ms preprocess, 15.6ms inference, 0.0ms postprocess per image at shape (1, 3, 512, 640)\n",
      "\n",
      "image 1/1 C:\\Users\\user\\PycharmProjects\\spbu_deep_learning1\\homeworks\\rnn_hw\\test\\images\\968.jpg: 512x640 1 clock, 15.6ms\n",
      "Speed: 0.0ms preprocess, 15.6ms inference, 0.0ms postprocess per image at shape (1, 3, 512, 640)\n",
      "\n",
      "image 1/1 C:\\Users\\user\\PycharmProjects\\spbu_deep_learning1\\homeworks\\rnn_hw\\test\\images\\972.jpg: 480x640 1 book, 1 clock, 21.1ms\n",
      "Speed: 0.0ms preprocess, 21.1ms inference, 0.0ms postprocess per image at shape (1, 3, 480, 640)\n",
      "\n",
      "image 1/1 C:\\Users\\user\\PycharmProjects\\spbu_deep_learning1\\homeworks\\rnn_hw\\test\\images\\975.jpg: 640x512 (no detections), 10.5ms\n",
      "Speed: 0.0ms preprocess, 10.5ms inference, 0.0ms postprocess per image at shape (1, 3, 640, 512)\n",
      "\n",
      "image 1/1 C:\\Users\\user\\PycharmProjects\\spbu_deep_learning1\\homeworks\\rnn_hw\\test\\images\\98.jpg: 512x640 5 persons, 1 bottle, 3 cups, 8 chairs, 15.6ms\n",
      "Speed: 0.0ms preprocess, 15.6ms inference, 0.0ms postprocess per image at shape (1, 3, 512, 640)\n",
      "\n",
      "image 1/1 C:\\Users\\user\\PycharmProjects\\spbu_deep_learning1\\homeworks\\rnn_hw\\test\\images\\981.jpg: 640x480 (no detections), 15.6ms\n",
      "Speed: 0.0ms preprocess, 15.6ms inference, 0.0ms postprocess per image at shape (1, 3, 640, 480)\n",
      "\n",
      "image 1/1 C:\\Users\\user\\PycharmProjects\\spbu_deep_learning1\\homeworks\\rnn_hw\\test\\images\\982.jpg: 384x640 (no detections), 15.6ms\n",
      "Speed: 0.0ms preprocess, 15.6ms inference, 0.0ms postprocess per image at shape (1, 3, 384, 640)\n",
      "\n",
      "image 1/1 C:\\Users\\user\\PycharmProjects\\spbu_deep_learning1\\homeworks\\rnn_hw\\test\\images\\985.jpg: 640x512 2 clocks, 31.6ms\n",
      "Speed: 0.0ms preprocess, 31.6ms inference, 0.0ms postprocess per image at shape (1, 3, 640, 512)\n",
      "\n",
      "image 1/1 C:\\Users\\user\\PycharmProjects\\spbu_deep_learning1\\homeworks\\rnn_hw\\test\\images\\986.jpg: 640x640 (no detections), 15.6ms\n",
      "Speed: 0.0ms preprocess, 15.6ms inference, 0.0ms postprocess per image at shape (1, 3, 640, 640)\n",
      "\n",
      "image 1/1 C:\\Users\\user\\PycharmProjects\\spbu_deep_learning1\\homeworks\\rnn_hw\\test\\images\\989.jpg: 640x512 (no detections), 15.6ms\n",
      "Speed: 0.0ms preprocess, 15.6ms inference, 0.0ms postprocess per image at shape (1, 3, 640, 512)\n",
      "\n",
      "image 1/1 C:\\Users\\user\\PycharmProjects\\spbu_deep_learning1\\homeworks\\rnn_hw\\test\\images\\99.jpg: 448x640 1 person, 1 horse, 15.6ms\n",
      "Speed: 0.0ms preprocess, 15.6ms inference, 0.0ms postprocess per image at shape (1, 3, 448, 640)\n",
      "\n",
      "image 1/1 C:\\Users\\user\\PycharmProjects\\spbu_deep_learning1\\homeworks\\rnn_hw\\test\\images\\990.jpg: 544x640 (no detections), 14.0ms\n",
      "Speed: 2.0ms preprocess, 14.0ms inference, 0.0ms postprocess per image at shape (1, 3, 544, 640)\n",
      "\n",
      "image 1/1 C:\\Users\\user\\PycharmProjects\\spbu_deep_learning1\\homeworks\\rnn_hw\\test\\images\\994.jpg: 640x640 (no detections), 15.6ms\n",
      "Speed: 0.0ms preprocess, 15.6ms inference, 0.0ms postprocess per image at shape (1, 3, 640, 640)\n",
      "\n",
      "image 1/1 C:\\Users\\user\\PycharmProjects\\spbu_deep_learning1\\homeworks\\rnn_hw\\test\\images\\997.jpg: 640x480 (no detections), 16.0ms\n",
      "Speed: 0.0ms preprocess, 16.0ms inference, 0.0ms postprocess per image at shape (1, 3, 640, 480)\n"
     ]
    },
    {
     "ename": "PermissionError",
     "evalue": "[Errno 13] Permission denied: 'submission1.csv'",
     "output_type": "error",
     "traceback": [
      "\u001B[1;31m---------------------------------------------------------------------------\u001B[0m",
      "\u001B[1;31mPermissionError\u001B[0m                           Traceback (most recent call last)",
      "Cell \u001B[1;32mIn[8], line 18\u001B[0m\n\u001B[0;32m     16\u001B[0m df \u001B[38;5;241m=\u001B[39m pd\u001B[38;5;241m.\u001B[39mDataFrame(submission_data)\n\u001B[0;32m     17\u001B[0m df[\u001B[38;5;124m\"\u001B[39m\u001B[38;5;124mbboxes\u001B[39m\u001B[38;5;124m\"\u001B[39m] \u001B[38;5;241m=\u001B[39m df[\u001B[38;5;124m\"\u001B[39m\u001B[38;5;124mbboxes\u001B[39m\u001B[38;5;124m\"\u001B[39m]\u001B[38;5;241m.\u001B[39mapply(\u001B[38;5;28;01mlambda\u001B[39;00m x: \u001B[38;5;28mstr\u001B[39m(x))  \u001B[38;5;66;03m# Преобразуем список в строку\u001B[39;00m\n\u001B[1;32m---> 18\u001B[0m \u001B[43mdf\u001B[49m\u001B[38;5;241;43m.\u001B[39;49m\u001B[43mto_csv\u001B[49m\u001B[43m(\u001B[49m\u001B[38;5;124;43m\"\u001B[39;49m\u001B[38;5;124;43msubmission1.csv\u001B[39;49m\u001B[38;5;124;43m\"\u001B[39;49m\u001B[43m,\u001B[49m\u001B[43m \u001B[49m\u001B[43mindex\u001B[49m\u001B[38;5;241;43m=\u001B[39;49m\u001B[38;5;28;43;01mFalse\u001B[39;49;00m\u001B[43m)\u001B[49m\n\u001B[0;32m     19\u001B[0m \u001B[38;5;28mprint\u001B[39m(\u001B[38;5;124mf\u001B[39m\u001B[38;5;124m\"\u001B[39m\u001B[38;5;124mSubmission file saved to submission1.csv\u001B[39m\u001B[38;5;124m\"\u001B[39m)\n",
      "File \u001B[1;32m~\\PycharmProjects\\spbu_deep_learning1\\.venv\\lib\\site-packages\\pandas\\util\\_decorators.py:333\u001B[0m, in \u001B[0;36mdeprecate_nonkeyword_arguments.<locals>.decorate.<locals>.wrapper\u001B[1;34m(*args, **kwargs)\u001B[0m\n\u001B[0;32m    327\u001B[0m \u001B[38;5;28;01mif\u001B[39;00m \u001B[38;5;28mlen\u001B[39m(args) \u001B[38;5;241m>\u001B[39m num_allow_args:\n\u001B[0;32m    328\u001B[0m     warnings\u001B[38;5;241m.\u001B[39mwarn(\n\u001B[0;32m    329\u001B[0m         msg\u001B[38;5;241m.\u001B[39mformat(arguments\u001B[38;5;241m=\u001B[39m_format_argument_list(allow_args)),\n\u001B[0;32m    330\u001B[0m         \u001B[38;5;167;01mFutureWarning\u001B[39;00m,\n\u001B[0;32m    331\u001B[0m         stacklevel\u001B[38;5;241m=\u001B[39mfind_stack_level(),\n\u001B[0;32m    332\u001B[0m     )\n\u001B[1;32m--> 333\u001B[0m \u001B[38;5;28;01mreturn\u001B[39;00m func(\u001B[38;5;241m*\u001B[39margs, \u001B[38;5;241m*\u001B[39m\u001B[38;5;241m*\u001B[39mkwargs)\n",
      "File \u001B[1;32m~\\PycharmProjects\\spbu_deep_learning1\\.venv\\lib\\site-packages\\pandas\\core\\generic.py:3967\u001B[0m, in \u001B[0;36mNDFrame.to_csv\u001B[1;34m(self, path_or_buf, sep, na_rep, float_format, columns, header, index, index_label, mode, encoding, compression, quoting, quotechar, lineterminator, chunksize, date_format, doublequote, escapechar, decimal, errors, storage_options)\u001B[0m\n\u001B[0;32m   3956\u001B[0m df \u001B[38;5;241m=\u001B[39m \u001B[38;5;28mself\u001B[39m \u001B[38;5;28;01mif\u001B[39;00m \u001B[38;5;28misinstance\u001B[39m(\u001B[38;5;28mself\u001B[39m, ABCDataFrame) \u001B[38;5;28;01melse\u001B[39;00m \u001B[38;5;28mself\u001B[39m\u001B[38;5;241m.\u001B[39mto_frame()\n\u001B[0;32m   3958\u001B[0m formatter \u001B[38;5;241m=\u001B[39m DataFrameFormatter(\n\u001B[0;32m   3959\u001B[0m     frame\u001B[38;5;241m=\u001B[39mdf,\n\u001B[0;32m   3960\u001B[0m     header\u001B[38;5;241m=\u001B[39mheader,\n\u001B[1;32m   (...)\u001B[0m\n\u001B[0;32m   3964\u001B[0m     decimal\u001B[38;5;241m=\u001B[39mdecimal,\n\u001B[0;32m   3965\u001B[0m )\n\u001B[1;32m-> 3967\u001B[0m \u001B[38;5;28;01mreturn\u001B[39;00m \u001B[43mDataFrameRenderer\u001B[49m\u001B[43m(\u001B[49m\u001B[43mformatter\u001B[49m\u001B[43m)\u001B[49m\u001B[38;5;241;43m.\u001B[39;49m\u001B[43mto_csv\u001B[49m\u001B[43m(\u001B[49m\n\u001B[0;32m   3968\u001B[0m \u001B[43m    \u001B[49m\u001B[43mpath_or_buf\u001B[49m\u001B[43m,\u001B[49m\n\u001B[0;32m   3969\u001B[0m \u001B[43m    \u001B[49m\u001B[43mlineterminator\u001B[49m\u001B[38;5;241;43m=\u001B[39;49m\u001B[43mlineterminator\u001B[49m\u001B[43m,\u001B[49m\n\u001B[0;32m   3970\u001B[0m \u001B[43m    \u001B[49m\u001B[43msep\u001B[49m\u001B[38;5;241;43m=\u001B[39;49m\u001B[43msep\u001B[49m\u001B[43m,\u001B[49m\n\u001B[0;32m   3971\u001B[0m \u001B[43m    \u001B[49m\u001B[43mencoding\u001B[49m\u001B[38;5;241;43m=\u001B[39;49m\u001B[43mencoding\u001B[49m\u001B[43m,\u001B[49m\n\u001B[0;32m   3972\u001B[0m \u001B[43m    \u001B[49m\u001B[43merrors\u001B[49m\u001B[38;5;241;43m=\u001B[39;49m\u001B[43merrors\u001B[49m\u001B[43m,\u001B[49m\n\u001B[0;32m   3973\u001B[0m \u001B[43m    \u001B[49m\u001B[43mcompression\u001B[49m\u001B[38;5;241;43m=\u001B[39;49m\u001B[43mcompression\u001B[49m\u001B[43m,\u001B[49m\n\u001B[0;32m   3974\u001B[0m \u001B[43m    \u001B[49m\u001B[43mquoting\u001B[49m\u001B[38;5;241;43m=\u001B[39;49m\u001B[43mquoting\u001B[49m\u001B[43m,\u001B[49m\n\u001B[0;32m   3975\u001B[0m \u001B[43m    \u001B[49m\u001B[43mcolumns\u001B[49m\u001B[38;5;241;43m=\u001B[39;49m\u001B[43mcolumns\u001B[49m\u001B[43m,\u001B[49m\n\u001B[0;32m   3976\u001B[0m \u001B[43m    \u001B[49m\u001B[43mindex_label\u001B[49m\u001B[38;5;241;43m=\u001B[39;49m\u001B[43mindex_label\u001B[49m\u001B[43m,\u001B[49m\n\u001B[0;32m   3977\u001B[0m \u001B[43m    \u001B[49m\u001B[43mmode\u001B[49m\u001B[38;5;241;43m=\u001B[39;49m\u001B[43mmode\u001B[49m\u001B[43m,\u001B[49m\n\u001B[0;32m   3978\u001B[0m \u001B[43m    \u001B[49m\u001B[43mchunksize\u001B[49m\u001B[38;5;241;43m=\u001B[39;49m\u001B[43mchunksize\u001B[49m\u001B[43m,\u001B[49m\n\u001B[0;32m   3979\u001B[0m \u001B[43m    \u001B[49m\u001B[43mquotechar\u001B[49m\u001B[38;5;241;43m=\u001B[39;49m\u001B[43mquotechar\u001B[49m\u001B[43m,\u001B[49m\n\u001B[0;32m   3980\u001B[0m \u001B[43m    \u001B[49m\u001B[43mdate_format\u001B[49m\u001B[38;5;241;43m=\u001B[39;49m\u001B[43mdate_format\u001B[49m\u001B[43m,\u001B[49m\n\u001B[0;32m   3981\u001B[0m \u001B[43m    \u001B[49m\u001B[43mdoublequote\u001B[49m\u001B[38;5;241;43m=\u001B[39;49m\u001B[43mdoublequote\u001B[49m\u001B[43m,\u001B[49m\n\u001B[0;32m   3982\u001B[0m \u001B[43m    \u001B[49m\u001B[43mescapechar\u001B[49m\u001B[38;5;241;43m=\u001B[39;49m\u001B[43mescapechar\u001B[49m\u001B[43m,\u001B[49m\n\u001B[0;32m   3983\u001B[0m \u001B[43m    \u001B[49m\u001B[43mstorage_options\u001B[49m\u001B[38;5;241;43m=\u001B[39;49m\u001B[43mstorage_options\u001B[49m\u001B[43m,\u001B[49m\n\u001B[0;32m   3984\u001B[0m \u001B[43m\u001B[49m\u001B[43m)\u001B[49m\n",
      "File \u001B[1;32m~\\PycharmProjects\\spbu_deep_learning1\\.venv\\lib\\site-packages\\pandas\\io\\formats\\format.py:1014\u001B[0m, in \u001B[0;36mDataFrameRenderer.to_csv\u001B[1;34m(self, path_or_buf, encoding, sep, columns, index_label, mode, compression, quoting, quotechar, lineterminator, chunksize, date_format, doublequote, escapechar, errors, storage_options)\u001B[0m\n\u001B[0;32m    993\u001B[0m     created_buffer \u001B[38;5;241m=\u001B[39m \u001B[38;5;28;01mFalse\u001B[39;00m\n\u001B[0;32m    995\u001B[0m csv_formatter \u001B[38;5;241m=\u001B[39m CSVFormatter(\n\u001B[0;32m    996\u001B[0m     path_or_buf\u001B[38;5;241m=\u001B[39mpath_or_buf,\n\u001B[0;32m    997\u001B[0m     lineterminator\u001B[38;5;241m=\u001B[39mlineterminator,\n\u001B[1;32m   (...)\u001B[0m\n\u001B[0;32m   1012\u001B[0m     formatter\u001B[38;5;241m=\u001B[39m\u001B[38;5;28mself\u001B[39m\u001B[38;5;241m.\u001B[39mfmt,\n\u001B[0;32m   1013\u001B[0m )\n\u001B[1;32m-> 1014\u001B[0m \u001B[43mcsv_formatter\u001B[49m\u001B[38;5;241;43m.\u001B[39;49m\u001B[43msave\u001B[49m\u001B[43m(\u001B[49m\u001B[43m)\u001B[49m\n\u001B[0;32m   1016\u001B[0m \u001B[38;5;28;01mif\u001B[39;00m created_buffer:\n\u001B[0;32m   1017\u001B[0m     \u001B[38;5;28;01massert\u001B[39;00m \u001B[38;5;28misinstance\u001B[39m(path_or_buf, StringIO)\n",
      "File \u001B[1;32m~\\PycharmProjects\\spbu_deep_learning1\\.venv\\lib\\site-packages\\pandas\\io\\formats\\csvs.py:251\u001B[0m, in \u001B[0;36mCSVFormatter.save\u001B[1;34m(self)\u001B[0m\n\u001B[0;32m    247\u001B[0m \u001B[38;5;250m\u001B[39m\u001B[38;5;124;03m\"\"\"\u001B[39;00m\n\u001B[0;32m    248\u001B[0m \u001B[38;5;124;03mCreate the writer & save.\u001B[39;00m\n\u001B[0;32m    249\u001B[0m \u001B[38;5;124;03m\"\"\"\u001B[39;00m\n\u001B[0;32m    250\u001B[0m \u001B[38;5;66;03m# apply compression and byte/text conversion\u001B[39;00m\n\u001B[1;32m--> 251\u001B[0m \u001B[38;5;28;01mwith\u001B[39;00m \u001B[43mget_handle\u001B[49m\u001B[43m(\u001B[49m\n\u001B[0;32m    252\u001B[0m \u001B[43m    \u001B[49m\u001B[38;5;28;43mself\u001B[39;49m\u001B[38;5;241;43m.\u001B[39;49m\u001B[43mfilepath_or_buffer\u001B[49m\u001B[43m,\u001B[49m\n\u001B[0;32m    253\u001B[0m \u001B[43m    \u001B[49m\u001B[38;5;28;43mself\u001B[39;49m\u001B[38;5;241;43m.\u001B[39;49m\u001B[43mmode\u001B[49m\u001B[43m,\u001B[49m\n\u001B[0;32m    254\u001B[0m \u001B[43m    \u001B[49m\u001B[43mencoding\u001B[49m\u001B[38;5;241;43m=\u001B[39;49m\u001B[38;5;28;43mself\u001B[39;49m\u001B[38;5;241;43m.\u001B[39;49m\u001B[43mencoding\u001B[49m\u001B[43m,\u001B[49m\n\u001B[0;32m    255\u001B[0m \u001B[43m    \u001B[49m\u001B[43merrors\u001B[49m\u001B[38;5;241;43m=\u001B[39;49m\u001B[38;5;28;43mself\u001B[39;49m\u001B[38;5;241;43m.\u001B[39;49m\u001B[43merrors\u001B[49m\u001B[43m,\u001B[49m\n\u001B[0;32m    256\u001B[0m \u001B[43m    \u001B[49m\u001B[43mcompression\u001B[49m\u001B[38;5;241;43m=\u001B[39;49m\u001B[38;5;28;43mself\u001B[39;49m\u001B[38;5;241;43m.\u001B[39;49m\u001B[43mcompression\u001B[49m\u001B[43m,\u001B[49m\n\u001B[0;32m    257\u001B[0m \u001B[43m    \u001B[49m\u001B[43mstorage_options\u001B[49m\u001B[38;5;241;43m=\u001B[39;49m\u001B[38;5;28;43mself\u001B[39;49m\u001B[38;5;241;43m.\u001B[39;49m\u001B[43mstorage_options\u001B[49m\u001B[43m,\u001B[49m\n\u001B[0;32m    258\u001B[0m \u001B[43m\u001B[49m\u001B[43m)\u001B[49m \u001B[38;5;28;01mas\u001B[39;00m handles:\n\u001B[0;32m    259\u001B[0m     \u001B[38;5;66;03m# Note: self.encoding is irrelevant here\u001B[39;00m\n\u001B[0;32m    260\u001B[0m     \u001B[38;5;28mself\u001B[39m\u001B[38;5;241m.\u001B[39mwriter \u001B[38;5;241m=\u001B[39m csvlib\u001B[38;5;241m.\u001B[39mwriter(\n\u001B[0;32m    261\u001B[0m         handles\u001B[38;5;241m.\u001B[39mhandle,\n\u001B[0;32m    262\u001B[0m         lineterminator\u001B[38;5;241m=\u001B[39m\u001B[38;5;28mself\u001B[39m\u001B[38;5;241m.\u001B[39mlineterminator,\n\u001B[1;32m   (...)\u001B[0m\n\u001B[0;32m    267\u001B[0m         quotechar\u001B[38;5;241m=\u001B[39m\u001B[38;5;28mself\u001B[39m\u001B[38;5;241m.\u001B[39mquotechar,\n\u001B[0;32m    268\u001B[0m     )\n\u001B[0;32m    270\u001B[0m     \u001B[38;5;28mself\u001B[39m\u001B[38;5;241m.\u001B[39m_save()\n",
      "File \u001B[1;32m~\\PycharmProjects\\spbu_deep_learning1\\.venv\\lib\\site-packages\\pandas\\io\\common.py:873\u001B[0m, in \u001B[0;36mget_handle\u001B[1;34m(path_or_buf, mode, encoding, compression, memory_map, is_text, errors, storage_options)\u001B[0m\n\u001B[0;32m    868\u001B[0m \u001B[38;5;28;01melif\u001B[39;00m \u001B[38;5;28misinstance\u001B[39m(handle, \u001B[38;5;28mstr\u001B[39m):\n\u001B[0;32m    869\u001B[0m     \u001B[38;5;66;03m# Check whether the filename is to be opened in binary mode.\u001B[39;00m\n\u001B[0;32m    870\u001B[0m     \u001B[38;5;66;03m# Binary mode does not support 'encoding' and 'newline'.\u001B[39;00m\n\u001B[0;32m    871\u001B[0m     \u001B[38;5;28;01mif\u001B[39;00m ioargs\u001B[38;5;241m.\u001B[39mencoding \u001B[38;5;129;01mand\u001B[39;00m \u001B[38;5;124m\"\u001B[39m\u001B[38;5;124mb\u001B[39m\u001B[38;5;124m\"\u001B[39m \u001B[38;5;129;01mnot\u001B[39;00m \u001B[38;5;129;01min\u001B[39;00m ioargs\u001B[38;5;241m.\u001B[39mmode:\n\u001B[0;32m    872\u001B[0m         \u001B[38;5;66;03m# Encoding\u001B[39;00m\n\u001B[1;32m--> 873\u001B[0m         handle \u001B[38;5;241m=\u001B[39m \u001B[38;5;28;43mopen\u001B[39;49m\u001B[43m(\u001B[49m\n\u001B[0;32m    874\u001B[0m \u001B[43m            \u001B[49m\u001B[43mhandle\u001B[49m\u001B[43m,\u001B[49m\n\u001B[0;32m    875\u001B[0m \u001B[43m            \u001B[49m\u001B[43mioargs\u001B[49m\u001B[38;5;241;43m.\u001B[39;49m\u001B[43mmode\u001B[49m\u001B[43m,\u001B[49m\n\u001B[0;32m    876\u001B[0m \u001B[43m            \u001B[49m\u001B[43mencoding\u001B[49m\u001B[38;5;241;43m=\u001B[39;49m\u001B[43mioargs\u001B[49m\u001B[38;5;241;43m.\u001B[39;49m\u001B[43mencoding\u001B[49m\u001B[43m,\u001B[49m\n\u001B[0;32m    877\u001B[0m \u001B[43m            \u001B[49m\u001B[43merrors\u001B[49m\u001B[38;5;241;43m=\u001B[39;49m\u001B[43merrors\u001B[49m\u001B[43m,\u001B[49m\n\u001B[0;32m    878\u001B[0m \u001B[43m            \u001B[49m\u001B[43mnewline\u001B[49m\u001B[38;5;241;43m=\u001B[39;49m\u001B[38;5;124;43m\"\u001B[39;49m\u001B[38;5;124;43m\"\u001B[39;49m\u001B[43m,\u001B[49m\n\u001B[0;32m    879\u001B[0m \u001B[43m        \u001B[49m\u001B[43m)\u001B[49m\n\u001B[0;32m    880\u001B[0m     \u001B[38;5;28;01melse\u001B[39;00m:\n\u001B[0;32m    881\u001B[0m         \u001B[38;5;66;03m# Binary mode\u001B[39;00m\n\u001B[0;32m    882\u001B[0m         handle \u001B[38;5;241m=\u001B[39m \u001B[38;5;28mopen\u001B[39m(handle, ioargs\u001B[38;5;241m.\u001B[39mmode)\n",
      "\u001B[1;31mPermissionError\u001B[0m: [Errno 13] Permission denied: 'submission1.csv'"
     ]
    }
   ],
   "execution_count": 8
  },
  {
   "metadata": {
    "ExecuteTime": {
     "end_time": "2024-12-02T16:45:16.979066Z",
     "start_time": "2024-12-02T16:45:16.963443Z"
    }
   },
   "cell_type": "code",
   "source": [
    "df.to_csv(\"submission2.csv\", index=False)\n",
    "print(f\"Submission file saved to submission1.csv\")"
   ],
   "id": "8724634ca7ca828b",
   "outputs": [
    {
     "name": "stdout",
     "output_type": "stream",
     "text": [
      "Submission file saved to submission1.csv\n"
     ]
    }
   ],
   "execution_count": 10
  },
  {
   "metadata": {
    "ExecuteTime": {
     "end_time": "2024-12-02T21:00:55.189266Z",
     "start_time": "2024-12-02T21:00:20.806309Z"
    }
   },
   "cell_type": "code",
   "source": [
    "import os\n",
    "from PIL import Image\n",
    "\n",
    "# Параметры\n",
    "images_path = \"train/images_all\"  # Папка с изображениями\n",
    "labels_path = \"train/labels_all\"  # Папка с аннотациями\n",
    "output_images_path = \"train/images\"  # Папка для сохранения изображений\n",
    "output_labels_path = \"train/labels\"  # Папка для сохранения аннотаций\n",
    "\n",
    "# Убедимся, что выходные папки существуют\n",
    "os.makedirs(output_images_path, exist_ok=True)\n",
    "os.makedirs(output_labels_path, exist_ok=True)\n",
    "\n",
    "# Целевой размер изображений\n",
    "target_size = (640, 640)\n",
    "\n",
    "def process_annotation(label_path, original_size, new_size):\n",
    "    \"\"\"\n",
    "    Конвертирует аннотации из абсолютных координат в относительные (YOLO формат).\n",
    "    \"\"\"\n",
    "    old_width, old_height = original_size\n",
    "    new_width, new_height = new_size\n",
    "    new_annotations = []\n",
    "\n",
    "    with open(label_path, \"r\") as file:\n",
    "        for line in file:\n",
    "            parts = line.strip().split(',')\n",
    "            x_min, y_min, x_max, y_max = map(float, parts)\n",
    "\n",
    "            # Перевод координат в новый масштаб\n",
    "            x_min = x_min / old_width\n",
    "            y_min = y_min / old_height\n",
    "            x_max = x_max / old_width\n",
    "            y_max = y_max / old_height\n",
    "\n",
    "            # Вычисление координат центра и размеров в YOLO формате\n",
    "            x_center = (x_min + x_max) / 2\n",
    "            y_center = (y_min + y_max) / 2\n",
    "            width = x_max - x_min\n",
    "            height = y_max - y_min\n",
    "\n",
    "            # Формируем новую строку\n",
    "            new_annotations.append(f\"{int(0)} {x_center:.6f} {y_center:.6f} {width:.6f} {height:.6f}\")\n",
    "\n",
    "    return new_annotations\n",
    "\n",
    "# Проходим по всем изображениям и аннотациям\n",
    "for image_file in os.listdir(images_path):\n",
    "    if image_file.endswith(('.jpg', '.png', '.jpeg')):\n",
    "        # Пути к изображению и аннотации\n",
    "        image_path = os.path.join(images_path, image_file)\n",
    "        label_path = os.path.join(labels_path, os.path.splitext(image_file)[0] + \".txt\")\n",
    "        output_image_path = os.path.join(output_images_path, image_file)\n",
    "        output_label_path = os.path.join(output_labels_path, os.path.splitext(image_file)[0] + \".txt\")\n",
    "\n",
    "        # Открытие изображения и его ресайз\n",
    "        with Image.open(image_path) as img:\n",
    "            original_size = img.size\n",
    "            img_resized = img.resize(target_size)\n",
    "            img_resized.save(output_image_path)\n",
    "\n",
    "        # Обработка аннотации\n",
    "        if os.path.exists(label_path):\n",
    "            new_annotations = process_annotation(label_path, original_size, target_size)\n",
    "            with open(output_label_path, \"w\") as output_file:\n",
    "                output_file.write(\"\\n\".join(new_annotations))\n",
    "\n",
    "print(\"Все изображения и аннотации успешно обработаны.\")\n"
   ],
   "id": "b53397a8741bb489",
   "outputs": [
    {
     "name": "stdout",
     "output_type": "stream",
     "text": [
      "Все изображения и аннотации успешно обработаны.\n"
     ]
    }
   ],
   "execution_count": 5
  },
  {
   "metadata": {
    "ExecuteTime": {
     "end_time": "2024-12-03T00:46:42.262166Z",
     "start_time": "2024-12-02T21:26:32.224649Z"
    }
   },
   "cell_type": "code",
   "source": [
    "# Fine-tuning\n",
    "model.train(data='data.yaml', epochs=100, imgsz=640, batch=0.9)\n",
    "\n",
    "# 5. Сохранение дообученной модели\n",
    "model.save('yolov9e_person_finetuned.pt')"
   ],
   "id": "5d5c489d43b46480",
   "outputs": [
    {
     "name": "stdout",
     "output_type": "stream",
     "text": [
      "Ultralytics 8.3.40  Python-3.10.11 torch-2.3.1+cu121 CUDA:0 (NVIDIA GeForce RTX 4070 Ti SUPER, 16376MiB)\n",
      "\u001B[34m\u001B[1mengine\\trainer: \u001B[0mtask=detect, mode=train, model=yolov9e.pt, data=data.yaml, epochs=100, time=None, patience=100, batch=0.9, imgsz=640, save=True, save_period=-1, cache=False, device=None, workers=8, project=None, name=train142, exist_ok=False, pretrained=True, optimizer=auto, verbose=True, seed=0, deterministic=True, single_cls=False, rect=False, cos_lr=False, close_mosaic=10, resume=False, amp=True, fraction=1.0, profile=False, freeze=None, multi_scale=False, overlap_mask=True, mask_ratio=4, dropout=0.0, val=True, split=val, save_json=False, save_hybrid=False, conf=None, iou=0.7, max_det=300, half=False, dnn=False, plots=True, source=None, vid_stride=1, stream_buffer=False, visualize=False, augment=False, agnostic_nms=False, classes=None, retina_masks=False, embed=None, show=False, save_frames=False, save_txt=False, save_conf=False, save_crop=False, show_labels=True, show_conf=True, show_boxes=True, line_width=None, format=torchscript, keras=False, optimize=False, int8=False, dynamic=False, simplify=True, opset=None, workspace=None, nms=False, lr0=0.01, lrf=0.01, momentum=0.937, weight_decay=0.0005, warmup_epochs=3.0, warmup_momentum=0.8, warmup_bias_lr=0.0, box=7.5, cls=0.5, dfl=1.5, pose=12.0, kobj=1.0, nbs=64, hsv_h=0.015, hsv_s=0.7, hsv_v=0.4, degrees=0.0, translate=0.1, scale=0.5, shear=0.0, perspective=0.0, flipud=0.0, fliplr=0.5, bgr=0.0, mosaic=1.0, mixup=0.0, copy_paste=0.0, copy_paste_mode=flip, auto_augment=randaugment, erasing=0.4, crop_fraction=1.0, cfg=None, tracker=botsort.yaml, save_dir=C:\\Users\\user\\PycharmProjects\\spbu_deep_learning1\\runs\\detect\\train142\n",
      "\n",
      "                   from  n    params  module                                       arguments                     \n",
      "  0                  -1  1         0  torch.nn.modules.linear.Identity             []                            \n",
      "  1                  -1  1      1856  ultralytics.nn.modules.conv.Conv             [3, 64, 3, 2]                 \n",
      "  2                  -1  1     73984  ultralytics.nn.modules.conv.Conv             [64, 128, 3, 2]               \n",
      "  3                  -1  1    252160  ultralytics.nn.modules.block.RepNCSPELAN4    [128, 256, 128, 64, 2]        \n",
      "  4                  -1  1    164352  ultralytics.nn.modules.block.ADown           [256, 256]                    \n",
      "  5                  -1  1   1004032  ultralytics.nn.modules.block.RepNCSPELAN4    [256, 512, 256, 128, 2]       \n",
      "  6                  -1  1    656384  ultralytics.nn.modules.block.ADown           [512, 512]                    \n",
      "  7                  -1  1   4006912  ultralytics.nn.modules.block.RepNCSPELAN4    [512, 1024, 512, 256, 2]      \n",
      "  8                  -1  1   2623488  ultralytics.nn.modules.block.ADown           [1024, 1024]                  \n",
      "  9                  -1  1   4269056  ultralytics.nn.modules.block.RepNCSPELAN4    [1024, 1024, 512, 256, 2]     \n",
      " 10                   1  1      4160  ultralytics.nn.modules.block.CBLinear        [64, [64]]                    \n",
      " 11                   3  1     49344  ultralytics.nn.modules.block.CBLinear        [256, [64, 128]]              \n",
      " 12                   5  1    229824  ultralytics.nn.modules.block.CBLinear        [512, [64, 128, 256]]         \n",
      " 13                   7  1    984000  ultralytics.nn.modules.block.CBLinear        [1024, [64, 128, 256, 512]]   \n",
      " 14                   9  1   2033600  ultralytics.nn.modules.block.CBLinear        [1024, [64, 128, 256, 512, 1024]]\n",
      " 15                   0  1      1856  ultralytics.nn.modules.conv.Conv             [3, 64, 3, 2]                 \n",
      " 16[10, 11, 12, 13, 14, -1]  1         0  ultralytics.nn.modules.block.CBFuse          [[0, 0, 0, 0, 0]]             \n",
      " 17                  -1  1     73984  ultralytics.nn.modules.conv.Conv             [64, 128, 3, 2]               \n",
      " 18[11, 12, 13, 14, -1]  1         0  ultralytics.nn.modules.block.CBFuse          [[1, 1, 1, 1]]                \n",
      " 19                  -1  1    252160  ultralytics.nn.modules.block.RepNCSPELAN4    [128, 256, 128, 64, 2]        \n",
      " 20                  -1  1    164352  ultralytics.nn.modules.block.ADown           [256, 256]                    \n",
      " 21    [12, 13, 14, -1]  1         0  ultralytics.nn.modules.block.CBFuse          [[2, 2, 2]]                   \n",
      " 22                  -1  1   1004032  ultralytics.nn.modules.block.RepNCSPELAN4    [256, 512, 256, 128, 2]       \n",
      " 23                  -1  1    656384  ultralytics.nn.modules.block.ADown           [512, 512]                    \n",
      " 24        [13, 14, -1]  1         0  ultralytics.nn.modules.block.CBFuse          [[3, 3]]                      \n",
      " 25                  -1  1   4006912  ultralytics.nn.modules.block.RepNCSPELAN4    [512, 1024, 512, 256, 2]      \n",
      " 26                  -1  1   2623488  ultralytics.nn.modules.block.ADown           [1024, 1024]                  \n",
      " 27            [14, -1]  1         0  ultralytics.nn.modules.block.CBFuse          [[4]]                         \n",
      " 28                  -1  1   4269056  ultralytics.nn.modules.block.RepNCSPELAN4    [1024, 1024, 512, 256, 2]     \n",
      " 29                  -1  1    787968  ultralytics.nn.modules.block.SPPELAN         [1024, 512, 256]              \n",
      " 30                  -1  1         0  torch.nn.modules.upsampling.Upsample         [None, 2, 'nearest']          \n",
      " 31            [-1, 25]  1         0  ultralytics.nn.modules.conv.Concat           [1]                           \n",
      " 32                  -1  1   4005888  ultralytics.nn.modules.block.RepNCSPELAN4    [1536, 512, 512, 256, 2]      \n",
      " 33                  -1  1         0  torch.nn.modules.upsampling.Upsample         [None, 2, 'nearest']          \n",
      " 34            [-1, 22]  1         0  ultralytics.nn.modules.conv.Concat           [1]                           \n",
      " 35                  -1  1   1069056  ultralytics.nn.modules.block.RepNCSPELAN4    [1024, 256, 256, 128, 2]      \n",
      " 36                  -1  1    164352  ultralytics.nn.modules.block.ADown           [256, 256]                    \n",
      " 37            [-1, 32]  1         0  ultralytics.nn.modules.conv.Concat           [1]                           \n",
      " 38                  -1  1   3612672  ultralytics.nn.modules.block.RepNCSPELAN4    [768, 512, 512, 256, 2]       \n",
      " 39                  -1  1    656384  ultralytics.nn.modules.block.ADown           [512, 512]                    \n",
      " 40            [-1, 29]  1         0  ultralytics.nn.modules.conv.Concat           [1]                           \n",
      " 41                  -1  1  12860416  ultralytics.nn.modules.block.RepNCSPELAN4    [1024, 512, 1024, 512, 2]     \n",
      " 42        [35, 38, 41]  1   5583571  ultralytics.nn.modules.head.Detect           [1, [256, 512, 512]]          \n",
      "YOLOv9e summary: 1,225 layers, 58,145,683 parameters, 58,145,667 gradients, 192.7 GFLOPs\n",
      "\n",
      "Transferred 1811/1811 items from pretrained weights\n",
      "Freezing layer 'model.42.dfl.conv.weight'\n",
      "\u001B[34m\u001B[1mAMP: \u001B[0mrunning Automatic Mixed Precision (AMP) checks...\n",
      "\u001B[34m\u001B[1mAMP: \u001B[0mchecks passed \n"
     ]
    },
    {
     "name": "stderr",
     "output_type": "stream",
     "text": [
      "\u001B[34m\u001B[1mtrain: \u001B[0mScanning C:\\Users\\user\\PycharmProjects\\spbu_deep_learning1\\homeworks\\rnn_hw\\train\\labels.cache... 3321 images, 2526 backgrounds, 0 corrupt: 100%|██████████| 3321/3321 [00:00<?, ?it/s]"
     ]
    },
    {
     "name": "stdout",
     "output_type": "stream",
     "text": [
      "\u001B[34m\u001B[1malbumentations: \u001B[0mBlur(p=0.01, blur_limit=(3, 7)), MedianBlur(p=0.01, blur_limit=(3, 7)), ToGray(p=0.01, num_output_channels=3, method='weighted_average'), CLAHE(p=0.01, clip_limit=(1.0, 4.0), tile_grid_size=(8, 8))\n",
      "\u001B[34m\u001B[1mAutoBatch: \u001B[0mComputing optimal batch size for imgsz=640 at 90.0% CUDA memory utilization.\n",
      "\u001B[34m\u001B[1mAutoBatch: \u001B[0mCUDA:0 (NVIDIA GeForce RTX 4070 Ti SUPER) 15.99G total, 5.53G reserved, 1.58G allocated, 8.88G free\n",
      "      Params      GFLOPs  GPU_mem (GB)  forward (ms) backward (ms)                   input                  output\n"
     ]
    },
    {
     "name": "stderr",
     "output_type": "stream",
     "text": [
      "\n"
     ]
    },
    {
     "name": "stdout",
     "output_type": "stream",
     "text": [
      "    58145683       192.7         1.892          62.9         46.87        (1, 3, 640, 640)                    list\n",
      "    58145683       385.4         3.160         78.12          62.5        (2, 3, 640, 640)                    list\n",
      "    58145683       770.7         5.390         109.4          62.5        (4, 3, 640, 640)                    list\n",
      "    58145683        1541        10.066         156.2         93.75        (8, 3, 640, 640)                    list\n",
      "    58145683        3083        19.390          1454         969.6       (16, 3, 640, 640)                    list\n",
      "\u001B[34m\u001B[1mAutoBatch: \u001B[0mUsing batch-size 6 for CUDA:0 14.86G/15.99G (93%) \n"
     ]
    },
    {
     "name": "stderr",
     "output_type": "stream",
     "text": [
      "\u001B[34m\u001B[1mtrain: \u001B[0mScanning C:\\Users\\user\\PycharmProjects\\spbu_deep_learning1\\homeworks\\rnn_hw\\train\\labels.cache... 3321 images, 2526 backgrounds, 0 corrupt: 100%|██████████| 3321/3321 [00:00<?, ?it/s]"
     ]
    },
    {
     "name": "stdout",
     "output_type": "stream",
     "text": [
      "\u001B[34m\u001B[1malbumentations: \u001B[0mBlur(p=0.01, blur_limit=(3, 7)), MedianBlur(p=0.01, blur_limit=(3, 7)), ToGray(p=0.01, num_output_channels=3, method='weighted_average'), CLAHE(p=0.01, clip_limit=(1.0, 4.0), tile_grid_size=(8, 8))\n"
     ]
    },
    {
     "name": "stderr",
     "output_type": "stream",
     "text": [
      "\n",
      "\u001B[34m\u001B[1mval: \u001B[0mScanning C:\\Users\\user\\PycharmProjects\\spbu_deep_learning1\\homeworks\\rnn_hw\\val\\labels.cache... 23 images, 19 backgrounds, 0 corrupt: 100%|██████████| 23/23 [00:00<?, ?it/s]\n"
     ]
    },
    {
     "name": "stdout",
     "output_type": "stream",
     "text": [
      "Plotting labels to C:\\Users\\user\\PycharmProjects\\spbu_deep_learning1\\runs\\detect\\train142\\labels.jpg... \n",
      "\u001B[34m\u001B[1moptimizer:\u001B[0m 'optimizer=auto' found, ignoring 'lr0=0.01' and 'momentum=0.937' and determining best 'optimizer', 'lr0' and 'momentum' automatically... \n",
      "\u001B[34m\u001B[1moptimizer:\u001B[0m AdamW(lr=0.002, momentum=0.9) with parameter groups 298 weight(decay=0.0), 310 weight(decay=0.000515625), 309 bias(decay=0.0)\n",
      "Image sizes 640 train, 640 val\n",
      "Using 8 dataloader workers\n",
      "Logging results to \u001B[1mC:\\Users\\user\\PycharmProjects\\spbu_deep_learning1\\runs\\detect\\train142\u001B[0m\n",
      "Starting training for 100 epochs...\n",
      "\n",
      "      Epoch    GPU_mem   box_loss   cls_loss   dfl_loss  Instances       Size\n"
     ]
    },
    {
     "name": "stderr",
     "output_type": "stream",
     "text": [
      "      1/100      8.32G      3.253      4.346      3.343          2        640: 100%|██████████| 554/554 [02:18<00:00,  3.99it/s]\n",
      "                 Class     Images  Instances      Box(P          R      mAP50  mAP50-95): 100%|██████████| 2/2 [00:00<00:00,  5.29it/s]"
     ]
    },
    {
     "name": "stdout",
     "output_type": "stream",
     "text": [
      "                   all         23         10          0          0          0          0\n"
     ]
    },
    {
     "name": "stderr",
     "output_type": "stream",
     "text": [
      "\n"
     ]
    },
    {
     "name": "stdout",
     "output_type": "stream",
     "text": [
      "\n",
      "      Epoch    GPU_mem   box_loss   cls_loss   dfl_loss  Instances       Size\n"
     ]
    },
    {
     "name": "stderr",
     "output_type": "stream",
     "text": [
      "      2/100      8.86G      3.084      4.138      3.155          2        640: 100%|██████████| 554/554 [02:01<00:00,  4.54it/s]\n",
      "                 Class     Images  Instances      Box(P          R      mAP50  mAP50-95): 100%|██████████| 2/2 [00:00<00:00,  7.10it/s]"
     ]
    },
    {
     "name": "stdout",
     "output_type": "stream",
     "text": [
      "                   all         23         10    0.00157        0.2    0.00586    0.00173\n"
     ]
    },
    {
     "name": "stderr",
     "output_type": "stream",
     "text": [
      "\n"
     ]
    },
    {
     "name": "stdout",
     "output_type": "stream",
     "text": [
      "\n",
      "      Epoch    GPU_mem   box_loss   cls_loss   dfl_loss  Instances       Size\n"
     ]
    },
    {
     "name": "stderr",
     "output_type": "stream",
     "text": [
      "      3/100      8.83G      2.965      4.103      2.992          2        640: 100%|██████████| 554/554 [01:59<00:00,  4.63it/s]\n",
      "                 Class     Images  Instances      Box(P          R      mAP50  mAP50-95): 100%|██████████| 2/2 [00:00<00:00,  6.88it/s]"
     ]
    },
    {
     "name": "stdout",
     "output_type": "stream",
     "text": [
      "                   all         23         10    0.00163        0.5     0.0112    0.00256\n"
     ]
    },
    {
     "name": "stderr",
     "output_type": "stream",
     "text": [
      "\n"
     ]
    },
    {
     "name": "stdout",
     "output_type": "stream",
     "text": [
      "\n",
      "      Epoch    GPU_mem   box_loss   cls_loss   dfl_loss  Instances       Size\n"
     ]
    },
    {
     "name": "stderr",
     "output_type": "stream",
     "text": [
      "      4/100      8.81G      2.954      4.083      3.014          5        640: 100%|██████████| 554/554 [01:58<00:00,  4.68it/s]\n",
      "                 Class     Images  Instances      Box(P          R      mAP50  mAP50-95): 100%|██████████| 2/2 [00:00<00:00,  7.03it/s]"
     ]
    },
    {
     "name": "stdout",
     "output_type": "stream",
     "text": [
      "                   all         23         10    0.00236        0.6    0.00629    0.00257\n"
     ]
    },
    {
     "name": "stderr",
     "output_type": "stream",
     "text": [
      "\n"
     ]
    },
    {
     "name": "stdout",
     "output_type": "stream",
     "text": [
      "\n",
      "      Epoch    GPU_mem   box_loss   cls_loss   dfl_loss  Instances       Size\n"
     ]
    },
    {
     "name": "stderr",
     "output_type": "stream",
     "text": [
      "      5/100      8.82G      2.876      4.084      2.956          3        640: 100%|██████████| 554/554 [01:57<00:00,  4.70it/s]\n",
      "                 Class     Images  Instances      Box(P          R      mAP50  mAP50-95): 100%|██████████| 2/2 [00:00<00:00,  7.53it/s]"
     ]
    },
    {
     "name": "stdout",
     "output_type": "stream",
     "text": [
      "                   all         23         10    0.00183        0.4    0.00189    0.00058\n"
     ]
    },
    {
     "name": "stderr",
     "output_type": "stream",
     "text": [
      "\n"
     ]
    },
    {
     "name": "stdout",
     "output_type": "stream",
     "text": [
      "\n",
      "      Epoch    GPU_mem   box_loss   cls_loss   dfl_loss  Instances       Size\n"
     ]
    },
    {
     "name": "stderr",
     "output_type": "stream",
     "text": [
      "      6/100       8.8G      2.792       4.08      2.914          1        640: 100%|██████████| 554/554 [01:58<00:00,  4.69it/s]\n",
      "                 Class     Images  Instances      Box(P          R      mAP50  mAP50-95): 100%|██████████| 2/2 [00:00<00:00,  7.46it/s]"
     ]
    },
    {
     "name": "stdout",
     "output_type": "stream",
     "text": [
      "                   all         23         10    0.00192        0.6    0.00331    0.00081\n"
     ]
    },
    {
     "name": "stderr",
     "output_type": "stream",
     "text": [
      "\n"
     ]
    },
    {
     "name": "stdout",
     "output_type": "stream",
     "text": [
      "\n",
      "      Epoch    GPU_mem   box_loss   cls_loss   dfl_loss  Instances       Size\n"
     ]
    },
    {
     "name": "stderr",
     "output_type": "stream",
     "text": [
      "      7/100      8.87G       2.75      4.043      2.922          6        640: 100%|██████████| 554/554 [01:58<00:00,  4.69it/s]\n",
      "                 Class     Images  Instances      Box(P          R      mAP50  mAP50-95): 100%|██████████| 2/2 [00:00<00:00,  7.11it/s]"
     ]
    },
    {
     "name": "stdout",
     "output_type": "stream",
     "text": [
      "                   all         23         10    0.00168        0.3    0.00396    0.00155\n"
     ]
    },
    {
     "name": "stderr",
     "output_type": "stream",
     "text": [
      "\n"
     ]
    },
    {
     "name": "stdout",
     "output_type": "stream",
     "text": [
      "\n",
      "      Epoch    GPU_mem   box_loss   cls_loss   dfl_loss  Instances       Size\n"
     ]
    },
    {
     "name": "stderr",
     "output_type": "stream",
     "text": [
      "      8/100      8.84G       2.68      4.107      2.887          3        640: 100%|██████████| 554/554 [01:57<00:00,  4.71it/s]\n",
      "                 Class     Images  Instances      Box(P          R      mAP50  mAP50-95): 100%|██████████| 2/2 [00:00<00:00,  7.10it/s]"
     ]
    },
    {
     "name": "stdout",
     "output_type": "stream",
     "text": [
      "                   all         23         10     0.0028        0.5    0.00287   0.000868\n"
     ]
    },
    {
     "name": "stderr",
     "output_type": "stream",
     "text": [
      "\n"
     ]
    },
    {
     "name": "stdout",
     "output_type": "stream",
     "text": [
      "\n",
      "      Epoch    GPU_mem   box_loss   cls_loss   dfl_loss  Instances       Size\n"
     ]
    },
    {
     "name": "stderr",
     "output_type": "stream",
     "text": [
      "      9/100       8.8G      2.633      4.023      2.847          4        640: 100%|██████████| 554/554 [01:57<00:00,  4.71it/s]\n",
      "                 Class     Images  Instances      Box(P          R      mAP50  mAP50-95): 100%|██████████| 2/2 [00:00<00:00,  7.32it/s]"
     ]
    },
    {
     "name": "stdout",
     "output_type": "stream",
     "text": [
      "                   all         23         10    0.00142        0.5    0.00331   0.000977\n"
     ]
    },
    {
     "name": "stderr",
     "output_type": "stream",
     "text": [
      "\n"
     ]
    },
    {
     "name": "stdout",
     "output_type": "stream",
     "text": [
      "\n",
      "      Epoch    GPU_mem   box_loss   cls_loss   dfl_loss  Instances       Size\n"
     ]
    },
    {
     "name": "stderr",
     "output_type": "stream",
     "text": [
      "     10/100      8.86G      2.671      4.047       2.85          1        640: 100%|██████████| 554/554 [01:57<00:00,  4.71it/s]\n",
      "                 Class     Images  Instances      Box(P          R      mAP50  mAP50-95): 100%|██████████| 2/2 [00:00<00:00,  7.11it/s]"
     ]
    },
    {
     "name": "stdout",
     "output_type": "stream",
     "text": [
      "                   all         23         10    0.00175        0.4    0.00413   0.000783\n"
     ]
    },
    {
     "name": "stderr",
     "output_type": "stream",
     "text": [
      "\n"
     ]
    },
    {
     "name": "stdout",
     "output_type": "stream",
     "text": [
      "\n",
      "      Epoch    GPU_mem   box_loss   cls_loss   dfl_loss  Instances       Size\n"
     ]
    },
    {
     "name": "stderr",
     "output_type": "stream",
     "text": [
      "     11/100      8.85G      2.561       4.02      2.767         10        640: 100%|██████████| 554/554 [01:57<00:00,  4.71it/s]\n",
      "                 Class     Images  Instances      Box(P          R      mAP50  mAP50-95): 100%|██████████| 2/2 [00:00<00:00,  6.98it/s]"
     ]
    },
    {
     "name": "stdout",
     "output_type": "stream",
     "text": [
      "                   all         23         10    0.00157        0.9     0.0215    0.00375\n"
     ]
    },
    {
     "name": "stderr",
     "output_type": "stream",
     "text": [
      "\n"
     ]
    },
    {
     "name": "stdout",
     "output_type": "stream",
     "text": [
      "\n",
      "      Epoch    GPU_mem   box_loss   cls_loss   dfl_loss  Instances       Size\n"
     ]
    },
    {
     "name": "stderr",
     "output_type": "stream",
     "text": [
      "     12/100      8.84G      2.549      4.056      2.759         11        640: 100%|██████████| 554/554 [01:57<00:00,  4.71it/s]\n",
      "                 Class     Images  Instances      Box(P          R      mAP50  mAP50-95): 100%|██████████| 2/2 [00:00<00:00,  7.52it/s]"
     ]
    },
    {
     "name": "stdout",
     "output_type": "stream",
     "text": [
      "                   all         23         10    0.00185        0.4     0.0107    0.00282\n"
     ]
    },
    {
     "name": "stderr",
     "output_type": "stream",
     "text": [
      "\n"
     ]
    },
    {
     "name": "stdout",
     "output_type": "stream",
     "text": [
      "\n",
      "      Epoch    GPU_mem   box_loss   cls_loss   dfl_loss  Instances       Size\n"
     ]
    },
    {
     "name": "stderr",
     "output_type": "stream",
     "text": [
      "     13/100      8.83G      2.508       4.07      2.728          2        640: 100%|██████████| 554/554 [01:57<00:00,  4.71it/s]\n",
      "                 Class     Images  Instances      Box(P          R      mAP50  mAP50-95): 100%|██████████| 2/2 [00:00<00:00,  7.51it/s]"
     ]
    },
    {
     "name": "stdout",
     "output_type": "stream",
     "text": [
      "                   all         23         10    0.00219        0.5    0.00258   0.000936\n"
     ]
    },
    {
     "name": "stderr",
     "output_type": "stream",
     "text": [
      "\n"
     ]
    },
    {
     "name": "stdout",
     "output_type": "stream",
     "text": [
      "\n",
      "      Epoch    GPU_mem   box_loss   cls_loss   dfl_loss  Instances       Size\n"
     ]
    },
    {
     "name": "stderr",
     "output_type": "stream",
     "text": [
      "     14/100      8.82G      2.498      4.027      2.726          8        640: 100%|██████████| 554/554 [01:57<00:00,  4.71it/s]\n",
      "                 Class     Images  Instances      Box(P          R      mAP50  mAP50-95): 100%|██████████| 2/2 [00:00<00:00,  7.09it/s]"
     ]
    },
    {
     "name": "stdout",
     "output_type": "stream",
     "text": [
      "                   all         23         10    0.00153        0.5     0.0019   0.000592\n"
     ]
    },
    {
     "name": "stderr",
     "output_type": "stream",
     "text": [
      "\n"
     ]
    },
    {
     "name": "stdout",
     "output_type": "stream",
     "text": [
      "\n",
      "      Epoch    GPU_mem   box_loss   cls_loss   dfl_loss  Instances       Size\n"
     ]
    },
    {
     "name": "stderr",
     "output_type": "stream",
     "text": [
      "     15/100      8.81G      2.491      4.022      2.699          0        640: 100%|██████████| 554/554 [01:57<00:00,  4.71it/s]\n",
      "                 Class     Images  Instances      Box(P          R      mAP50  mAP50-95): 100%|██████████| 2/2 [00:00<00:00,  7.41it/s]"
     ]
    },
    {
     "name": "stdout",
     "output_type": "stream",
     "text": [
      "                   all         23         10    0.00172        0.4    0.00336    0.00152\n"
     ]
    },
    {
     "name": "stderr",
     "output_type": "stream",
     "text": [
      "\n"
     ]
    },
    {
     "name": "stdout",
     "output_type": "stream",
     "text": [
      "\n",
      "      Epoch    GPU_mem   box_loss   cls_loss   dfl_loss  Instances       Size\n"
     ]
    },
    {
     "name": "stderr",
     "output_type": "stream",
     "text": [
      "     16/100      8.77G      2.443      3.985      2.703          5        640: 100%|██████████| 554/554 [01:57<00:00,  4.71it/s]\n",
      "                 Class     Images  Instances      Box(P          R      mAP50  mAP50-95): 100%|██████████| 2/2 [00:00<00:00,  7.45it/s]"
     ]
    },
    {
     "name": "stdout",
     "output_type": "stream",
     "text": [
      "                   all         23         10    0.00176        0.9    0.00846    0.00428\n"
     ]
    },
    {
     "name": "stderr",
     "output_type": "stream",
     "text": [
      "\n"
     ]
    },
    {
     "name": "stdout",
     "output_type": "stream",
     "text": [
      "\n",
      "      Epoch    GPU_mem   box_loss   cls_loss   dfl_loss  Instances       Size\n"
     ]
    },
    {
     "name": "stderr",
     "output_type": "stream",
     "text": [
      "     17/100       8.3G        nan        nan        nan          4        640: 100%|██████████| 554/554 [01:57<00:00,  4.71it/s]\n",
      "                 Class     Images  Instances      Box(P          R      mAP50  mAP50-95): 100%|██████████| 2/2 [00:00<00:00,  7.51it/s]"
     ]
    },
    {
     "name": "stdout",
     "output_type": "stream",
     "text": [
      "                   all         23         10    0.00176        0.9    0.00846    0.00428\n"
     ]
    },
    {
     "name": "stderr",
     "output_type": "stream",
     "text": [
      "\n"
     ]
    },
    {
     "name": "stdout",
     "output_type": "stream",
     "text": [
      "\n",
      "      Epoch    GPU_mem   box_loss   cls_loss   dfl_loss  Instances       Size\n"
     ]
    },
    {
     "name": "stderr",
     "output_type": "stream",
     "text": [
      "     18/100      8.87G      2.405      4.081      2.656          2        640: 100%|██████████| 554/554 [01:57<00:00,  4.71it/s]\n",
      "                 Class     Images  Instances      Box(P          R      mAP50  mAP50-95): 100%|██████████| 2/2 [00:00<00:00,  7.53it/s]"
     ]
    },
    {
     "name": "stdout",
     "output_type": "stream",
     "text": [
      "                   all         23         10    0.00176        0.9    0.00846    0.00428\n"
     ]
    },
    {
     "name": "stderr",
     "output_type": "stream",
     "text": [
      "\n"
     ]
    },
    {
     "name": "stdout",
     "output_type": "stream",
     "text": [
      "\n",
      "      Epoch    GPU_mem   box_loss   cls_loss   dfl_loss  Instances       Size\n"
     ]
    },
    {
     "name": "stderr",
     "output_type": "stream",
     "text": [
      "     19/100      8.84G       2.44      4.026      2.645          4        640: 100%|██████████| 554/554 [01:57<00:00,  4.71it/s]\n",
      "                 Class     Images  Instances      Box(P          R      mAP50  mAP50-95): 100%|██████████| 2/2 [00:00<00:00,  7.52it/s]"
     ]
    },
    {
     "name": "stdout",
     "output_type": "stream",
     "text": [
      "                   all         23         10    0.00176        0.9    0.00846    0.00428\n"
     ]
    },
    {
     "name": "stderr",
     "output_type": "stream",
     "text": [
      "\n"
     ]
    },
    {
     "name": "stdout",
     "output_type": "stream",
     "text": [
      "\n",
      "      Epoch    GPU_mem   box_loss   cls_loss   dfl_loss  Instances       Size\n"
     ]
    },
    {
     "name": "stderr",
     "output_type": "stream",
     "text": [
      "     20/100       8.8G        nan        nan        nan          3        640: 100%|██████████| 554/554 [01:57<00:00,  4.72it/s]\n",
      "                 Class     Images  Instances      Box(P          R      mAP50  mAP50-95): 100%|██████████| 2/2 [00:00<00:00,  7.91it/s]"
     ]
    },
    {
     "name": "stdout",
     "output_type": "stream",
     "text": [
      "                   all         23         10    0.00176        0.9    0.00846    0.00428\n"
     ]
    },
    {
     "name": "stderr",
     "output_type": "stream",
     "text": [
      "\n"
     ]
    },
    {
     "name": "stdout",
     "output_type": "stream",
     "text": [
      "\n",
      "      Epoch    GPU_mem   box_loss   cls_loss   dfl_loss  Instances       Size\n"
     ]
    },
    {
     "name": "stderr",
     "output_type": "stream",
     "text": [
      "     21/100      8.88G        nan        nan        nan          2        640: 100%|██████████| 554/554 [01:56<00:00,  4.74it/s]\n",
      "                 Class     Images  Instances      Box(P          R      mAP50  mAP50-95): 100%|██████████| 2/2 [00:00<00:00,  7.43it/s]"
     ]
    },
    {
     "name": "stdout",
     "output_type": "stream",
     "text": [
      "                   all         23         10    0.00176        0.9    0.00846    0.00428\n"
     ]
    },
    {
     "name": "stderr",
     "output_type": "stream",
     "text": [
      "\n"
     ]
    },
    {
     "name": "stdout",
     "output_type": "stream",
     "text": [
      "\n",
      "      Epoch    GPU_mem   box_loss   cls_loss   dfl_loss  Instances       Size\n"
     ]
    },
    {
     "name": "stderr",
     "output_type": "stream",
     "text": [
      "     22/100      8.84G        nan        nan        nan          6        640: 100%|██████████| 554/554 [01:56<00:00,  4.74it/s]\n",
      "                 Class     Images  Instances      Box(P          R      mAP50  mAP50-95): 100%|██████████| 2/2 [00:00<00:00,  7.84it/s]"
     ]
    },
    {
     "name": "stdout",
     "output_type": "stream",
     "text": [
      "                   all         23         10    0.00176        0.9    0.00846    0.00428\n"
     ]
    },
    {
     "name": "stderr",
     "output_type": "stream",
     "text": [
      "\n"
     ]
    },
    {
     "name": "stdout",
     "output_type": "stream",
     "text": [
      "\n",
      "      Epoch    GPU_mem   box_loss   cls_loss   dfl_loss  Instances       Size\n"
     ]
    },
    {
     "name": "stderr",
     "output_type": "stream",
     "text": [
      "     23/100      8.82G        nan        nan        nan          0        640: 100%|██████████| 554/554 [01:57<00:00,  4.73it/s]\n",
      "                 Class     Images  Instances      Box(P          R      mAP50  mAP50-95): 100%|██████████| 2/2 [00:00<00:00,  7.47it/s]"
     ]
    },
    {
     "name": "stdout",
     "output_type": "stream",
     "text": [
      "                   all         23         10    0.00176        0.9    0.00846    0.00428\n"
     ]
    },
    {
     "name": "stderr",
     "output_type": "stream",
     "text": [
      "\n"
     ]
    },
    {
     "name": "stdout",
     "output_type": "stream",
     "text": [
      "\n",
      "      Epoch    GPU_mem   box_loss   cls_loss   dfl_loss  Instances       Size\n"
     ]
    },
    {
     "name": "stderr",
     "output_type": "stream",
     "text": [
      "     24/100      8.82G        nan        nan        nan          5        640: 100%|██████████| 554/554 [01:56<00:00,  4.74it/s]\n",
      "                 Class     Images  Instances      Box(P          R      mAP50  mAP50-95): 100%|██████████| 2/2 [00:00<00:00,  7.53it/s]"
     ]
    },
    {
     "name": "stdout",
     "output_type": "stream",
     "text": [
      "                   all         23         10    0.00176        0.9    0.00846    0.00428\n"
     ]
    },
    {
     "name": "stderr",
     "output_type": "stream",
     "text": [
      "\n"
     ]
    },
    {
     "name": "stdout",
     "output_type": "stream",
     "text": [
      "\n",
      "      Epoch    GPU_mem   box_loss   cls_loss   dfl_loss  Instances       Size\n"
     ]
    },
    {
     "name": "stderr",
     "output_type": "stream",
     "text": [
      "     25/100      8.78G        nan        nan        nan          4        640: 100%|██████████| 554/554 [01:56<00:00,  4.74it/s]\n",
      "                 Class     Images  Instances      Box(P          R      mAP50  mAP50-95): 100%|██████████| 2/2 [00:00<00:00,  8.00it/s]"
     ]
    },
    {
     "name": "stdout",
     "output_type": "stream",
     "text": [
      "                   all         23         10    0.00176        0.9    0.00846    0.00428\n"
     ]
    },
    {
     "name": "stderr",
     "output_type": "stream",
     "text": [
      "\n"
     ]
    },
    {
     "name": "stdout",
     "output_type": "stream",
     "text": [
      "\n",
      "      Epoch    GPU_mem   box_loss   cls_loss   dfl_loss  Instances       Size\n"
     ]
    },
    {
     "name": "stderr",
     "output_type": "stream",
     "text": [
      "     26/100      8.77G        nan        nan        nan         10        640: 100%|██████████| 554/554 [01:56<00:00,  4.74it/s]\n",
      "                 Class     Images  Instances      Box(P          R      mAP50  mAP50-95): 100%|██████████| 2/2 [00:00<00:00,  7.87it/s]"
     ]
    },
    {
     "name": "stdout",
     "output_type": "stream",
     "text": [
      "                   all         23         10    0.00176        0.9    0.00846    0.00428\n"
     ]
    },
    {
     "name": "stderr",
     "output_type": "stream",
     "text": [
      "\n"
     ]
    },
    {
     "name": "stdout",
     "output_type": "stream",
     "text": [
      "\n",
      "      Epoch    GPU_mem   box_loss   cls_loss   dfl_loss  Instances       Size\n"
     ]
    },
    {
     "name": "stderr",
     "output_type": "stream",
     "text": [
      "     27/100      8.81G        nan        nan        nan          5        640: 100%|██████████| 554/554 [01:56<00:00,  4.74it/s]\n",
      "                 Class     Images  Instances      Box(P          R      mAP50  mAP50-95): 100%|██████████| 2/2 [00:00<00:00,  7.98it/s]"
     ]
    },
    {
     "name": "stdout",
     "output_type": "stream",
     "text": [
      "                   all         23         10    0.00176        0.9    0.00846    0.00428\n"
     ]
    },
    {
     "name": "stderr",
     "output_type": "stream",
     "text": [
      "\n"
     ]
    },
    {
     "name": "stdout",
     "output_type": "stream",
     "text": [
      "\n",
      "      Epoch    GPU_mem   box_loss   cls_loss   dfl_loss  Instances       Size\n"
     ]
    },
    {
     "name": "stderr",
     "output_type": "stream",
     "text": [
      "     28/100      8.79G        nan        nan        nan          0        640: 100%|██████████| 554/554 [01:56<00:00,  4.75it/s]\n",
      "                 Class     Images  Instances      Box(P          R      mAP50  mAP50-95): 100%|██████████| 2/2 [00:00<00:00,  8.00it/s]"
     ]
    },
    {
     "name": "stdout",
     "output_type": "stream",
     "text": [
      "                   all         23         10    0.00176        0.9    0.00846    0.00428\n"
     ]
    },
    {
     "name": "stderr",
     "output_type": "stream",
     "text": [
      "\n"
     ]
    },
    {
     "name": "stdout",
     "output_type": "stream",
     "text": [
      "\n",
      "      Epoch    GPU_mem   box_loss   cls_loss   dfl_loss  Instances       Size\n"
     ]
    },
    {
     "name": "stderr",
     "output_type": "stream",
     "text": [
      "     29/100      8.85G        nan        nan        nan          2        640: 100%|██████████| 554/554 [01:56<00:00,  4.74it/s]\n",
      "                 Class     Images  Instances      Box(P          R      mAP50  mAP50-95): 100%|██████████| 2/2 [00:00<00:00,  7.80it/s]"
     ]
    },
    {
     "name": "stdout",
     "output_type": "stream",
     "text": [
      "                   all         23         10    0.00176        0.9    0.00846    0.00428\n"
     ]
    },
    {
     "name": "stderr",
     "output_type": "stream",
     "text": [
      "\n"
     ]
    },
    {
     "name": "stdout",
     "output_type": "stream",
     "text": [
      "\n",
      "      Epoch    GPU_mem   box_loss   cls_loss   dfl_loss  Instances       Size\n"
     ]
    },
    {
     "name": "stderr",
     "output_type": "stream",
     "text": [
      "     30/100      8.85G        nan        nan        nan          0        640: 100%|██████████| 554/554 [01:56<00:00,  4.74it/s]\n",
      "                 Class     Images  Instances      Box(P          R      mAP50  mAP50-95): 100%|██████████| 2/2 [00:00<00:00,  7.53it/s]"
     ]
    },
    {
     "name": "stdout",
     "output_type": "stream",
     "text": [
      "                   all         23         10    0.00176        0.9    0.00846    0.00428\n"
     ]
    },
    {
     "name": "stderr",
     "output_type": "stream",
     "text": [
      "\n"
     ]
    },
    {
     "name": "stdout",
     "output_type": "stream",
     "text": [
      "\n",
      "      Epoch    GPU_mem   box_loss   cls_loss   dfl_loss  Instances       Size\n"
     ]
    },
    {
     "name": "stderr",
     "output_type": "stream",
     "text": [
      "     31/100      8.77G        nan        nan        nan          0        640: 100%|██████████| 554/554 [01:57<00:00,  4.73it/s]\n",
      "                 Class     Images  Instances      Box(P          R      mAP50  mAP50-95): 100%|██████████| 2/2 [00:00<00:00,  7.52it/s]"
     ]
    },
    {
     "name": "stdout",
     "output_type": "stream",
     "text": [
      "                   all         23         10    0.00176        0.9    0.00846    0.00428\n"
     ]
    },
    {
     "name": "stderr",
     "output_type": "stream",
     "text": [
      "\n"
     ]
    },
    {
     "name": "stdout",
     "output_type": "stream",
     "text": [
      "\n",
      "      Epoch    GPU_mem   box_loss   cls_loss   dfl_loss  Instances       Size\n"
     ]
    },
    {
     "name": "stderr",
     "output_type": "stream",
     "text": [
      "     32/100      8.87G        nan        nan        nan          0        640: 100%|██████████| 554/554 [01:56<00:00,  4.74it/s]\n",
      "                 Class     Images  Instances      Box(P          R      mAP50  mAP50-95): 100%|██████████| 2/2 [00:00<00:00,  7.87it/s]"
     ]
    },
    {
     "name": "stdout",
     "output_type": "stream",
     "text": [
      "                   all         23         10    0.00176        0.9    0.00846    0.00428\n"
     ]
    },
    {
     "name": "stderr",
     "output_type": "stream",
     "text": [
      "\n"
     ]
    },
    {
     "name": "stdout",
     "output_type": "stream",
     "text": [
      "\n",
      "      Epoch    GPU_mem   box_loss   cls_loss   dfl_loss  Instances       Size\n"
     ]
    },
    {
     "name": "stderr",
     "output_type": "stream",
     "text": [
      "     33/100      8.84G        nan        nan        nan          2        640: 100%|██████████| 554/554 [01:56<00:00,  4.74it/s]\n",
      "                 Class     Images  Instances      Box(P          R      mAP50  mAP50-95): 100%|██████████| 2/2 [00:00<00:00,  7.44it/s]"
     ]
    },
    {
     "name": "stdout",
     "output_type": "stream",
     "text": [
      "                   all         23         10    0.00176        0.9    0.00846    0.00428\n"
     ]
    },
    {
     "name": "stderr",
     "output_type": "stream",
     "text": [
      "\n"
     ]
    },
    {
     "name": "stdout",
     "output_type": "stream",
     "text": [
      "\n",
      "      Epoch    GPU_mem   box_loss   cls_loss   dfl_loss  Instances       Size\n"
     ]
    },
    {
     "name": "stderr",
     "output_type": "stream",
     "text": [
      "     34/100      8.82G        nan        nan        nan          4        640: 100%|██████████| 554/554 [01:57<00:00,  4.73it/s]\n",
      "                 Class     Images  Instances      Box(P          R      mAP50  mAP50-95): 100%|██████████| 2/2 [00:00<00:00,  7.86it/s]"
     ]
    },
    {
     "name": "stdout",
     "output_type": "stream",
     "text": [
      "                   all         23         10    0.00176        0.9    0.00846    0.00428\n"
     ]
    },
    {
     "name": "stderr",
     "output_type": "stream",
     "text": [
      "\n"
     ]
    },
    {
     "name": "stdout",
     "output_type": "stream",
     "text": [
      "\n",
      "      Epoch    GPU_mem   box_loss   cls_loss   dfl_loss  Instances       Size\n"
     ]
    },
    {
     "name": "stderr",
     "output_type": "stream",
     "text": [
      "     35/100      8.79G        nan        nan        nan          1        640: 100%|██████████| 554/554 [01:57<00:00,  4.73it/s]\n",
      "                 Class     Images  Instances      Box(P          R      mAP50  mAP50-95): 100%|██████████| 2/2 [00:00<00:00,  7.06it/s]"
     ]
    },
    {
     "name": "stdout",
     "output_type": "stream",
     "text": [
      "                   all         23         10    0.00176        0.9    0.00846    0.00428\n"
     ]
    },
    {
     "name": "stderr",
     "output_type": "stream",
     "text": [
      "\n"
     ]
    },
    {
     "name": "stdout",
     "output_type": "stream",
     "text": [
      "\n",
      "      Epoch    GPU_mem   box_loss   cls_loss   dfl_loss  Instances       Size\n"
     ]
    },
    {
     "name": "stderr",
     "output_type": "stream",
     "text": [
      "     36/100      8.79G        nan        nan        nan          0        640: 100%|██████████| 554/554 [01:56<00:00,  4.74it/s]\n",
      "                 Class     Images  Instances      Box(P          R      mAP50  mAP50-95): 100%|██████████| 2/2 [00:00<00:00,  7.90it/s]"
     ]
    },
    {
     "name": "stdout",
     "output_type": "stream",
     "text": [
      "                   all         23         10    0.00176        0.9    0.00846    0.00428\n"
     ]
    },
    {
     "name": "stderr",
     "output_type": "stream",
     "text": [
      "\n"
     ]
    },
    {
     "name": "stdout",
     "output_type": "stream",
     "text": [
      "\n",
      "      Epoch    GPU_mem   box_loss   cls_loss   dfl_loss  Instances       Size\n"
     ]
    },
    {
     "name": "stderr",
     "output_type": "stream",
     "text": [
      "     37/100      8.32G        nan        nan        nan          3        640: 100%|██████████| 554/554 [01:56<00:00,  4.74it/s]\n",
      "                 Class     Images  Instances      Box(P          R      mAP50  mAP50-95): 100%|██████████| 2/2 [00:00<00:00,  8.00it/s]"
     ]
    },
    {
     "name": "stdout",
     "output_type": "stream",
     "text": [
      "                   all         23         10    0.00176        0.9    0.00846    0.00428\n"
     ]
    },
    {
     "name": "stderr",
     "output_type": "stream",
     "text": [
      "\n"
     ]
    },
    {
     "name": "stdout",
     "output_type": "stream",
     "text": [
      "\n",
      "      Epoch    GPU_mem   box_loss   cls_loss   dfl_loss  Instances       Size\n"
     ]
    },
    {
     "name": "stderr",
     "output_type": "stream",
     "text": [
      "     38/100      8.77G        nan        nan        nan          0        640: 100%|██████████| 554/554 [01:56<00:00,  4.74it/s]\n",
      "                 Class     Images  Instances      Box(P          R      mAP50  mAP50-95): 100%|██████████| 2/2 [00:00<00:00,  7.99it/s]"
     ]
    },
    {
     "name": "stdout",
     "output_type": "stream",
     "text": [
      "                   all         23         10    0.00176        0.9    0.00846    0.00428\n"
     ]
    },
    {
     "name": "stderr",
     "output_type": "stream",
     "text": [
      "\n"
     ]
    },
    {
     "name": "stdout",
     "output_type": "stream",
     "text": [
      "\n",
      "      Epoch    GPU_mem   box_loss   cls_loss   dfl_loss  Instances       Size\n"
     ]
    },
    {
     "name": "stderr",
     "output_type": "stream",
     "text": [
      "     39/100      8.81G        nan        nan        nan         11        640: 100%|██████████| 554/554 [01:57<00:00,  4.73it/s]\n",
      "                 Class     Images  Instances      Box(P          R      mAP50  mAP50-95): 100%|██████████| 2/2 [00:00<00:00,  7.98it/s]"
     ]
    },
    {
     "name": "stdout",
     "output_type": "stream",
     "text": [
      "                   all         23         10    0.00176        0.9    0.00846    0.00428\n"
     ]
    },
    {
     "name": "stderr",
     "output_type": "stream",
     "text": [
      "\n"
     ]
    },
    {
     "name": "stdout",
     "output_type": "stream",
     "text": [
      "\n",
      "      Epoch    GPU_mem   box_loss   cls_loss   dfl_loss  Instances       Size\n"
     ]
    },
    {
     "name": "stderr",
     "output_type": "stream",
     "text": [
      "     40/100      8.85G        nan        nan        nan          7        640: 100%|██████████| 554/554 [01:57<00:00,  4.73it/s]\n",
      "                 Class     Images  Instances      Box(P          R      mAP50  mAP50-95): 100%|██████████| 2/2 [00:00<00:00,  7.41it/s]"
     ]
    },
    {
     "name": "stdout",
     "output_type": "stream",
     "text": [
      "                   all         23         10    0.00176        0.9    0.00846    0.00428\n"
     ]
    },
    {
     "name": "stderr",
     "output_type": "stream",
     "text": [
      "\n"
     ]
    },
    {
     "name": "stdout",
     "output_type": "stream",
     "text": [
      "\n",
      "      Epoch    GPU_mem   box_loss   cls_loss   dfl_loss  Instances       Size\n"
     ]
    },
    {
     "name": "stderr",
     "output_type": "stream",
     "text": [
      "     41/100      8.83G        nan        nan        nan          5        640: 100%|██████████| 554/554 [01:57<00:00,  4.73it/s]\n",
      "                 Class     Images  Instances      Box(P          R      mAP50  mAP50-95): 100%|██████████| 2/2 [00:00<00:00,  7.91it/s]"
     ]
    },
    {
     "name": "stdout",
     "output_type": "stream",
     "text": [
      "                   all         23         10    0.00176        0.9    0.00846    0.00428\n"
     ]
    },
    {
     "name": "stderr",
     "output_type": "stream",
     "text": [
      "\n"
     ]
    },
    {
     "name": "stdout",
     "output_type": "stream",
     "text": [
      "\n",
      "      Epoch    GPU_mem   box_loss   cls_loss   dfl_loss  Instances       Size\n"
     ]
    },
    {
     "name": "stderr",
     "output_type": "stream",
     "text": [
      "     42/100      8.78G        nan        nan        nan          5        640: 100%|██████████| 554/554 [01:57<00:00,  4.73it/s]\n",
      "                 Class     Images  Instances      Box(P          R      mAP50  mAP50-95): 100%|██████████| 2/2 [00:00<00:00,  7.98it/s]"
     ]
    },
    {
     "name": "stdout",
     "output_type": "stream",
     "text": [
      "                   all         23         10    0.00176        0.9    0.00846    0.00428\n"
     ]
    },
    {
     "name": "stderr",
     "output_type": "stream",
     "text": [
      "\n"
     ]
    },
    {
     "name": "stdout",
     "output_type": "stream",
     "text": [
      "\n",
      "      Epoch    GPU_mem   box_loss   cls_loss   dfl_loss  Instances       Size\n"
     ]
    },
    {
     "name": "stderr",
     "output_type": "stream",
     "text": [
      "     43/100      8.85G        nan        nan        nan         10        640: 100%|██████████| 554/554 [01:56<00:00,  4.74it/s]\n",
      "                 Class     Images  Instances      Box(P          R      mAP50  mAP50-95): 100%|██████████| 2/2 [00:00<00:00,  7.38it/s]"
     ]
    },
    {
     "name": "stdout",
     "output_type": "stream",
     "text": [
      "                   all         23         10    0.00176        0.9    0.00846    0.00428\n"
     ]
    },
    {
     "name": "stderr",
     "output_type": "stream",
     "text": [
      "\n"
     ]
    },
    {
     "name": "stdout",
     "output_type": "stream",
     "text": [
      "\n",
      "      Epoch    GPU_mem   box_loss   cls_loss   dfl_loss  Instances       Size\n"
     ]
    },
    {
     "name": "stderr",
     "output_type": "stream",
     "text": [
      "     44/100      8.84G        nan        nan        nan          2        640: 100%|██████████| 554/554 [01:56<00:00,  4.74it/s]\n",
      "                 Class     Images  Instances      Box(P          R      mAP50  mAP50-95): 100%|██████████| 2/2 [00:00<00:00,  8.00it/s]"
     ]
    },
    {
     "name": "stdout",
     "output_type": "stream",
     "text": [
      "                   all         23         10    0.00176        0.9    0.00846    0.00428\n"
     ]
    },
    {
     "name": "stderr",
     "output_type": "stream",
     "text": [
      "\n"
     ]
    },
    {
     "name": "stdout",
     "output_type": "stream",
     "text": [
      "\n",
      "      Epoch    GPU_mem   box_loss   cls_loss   dfl_loss  Instances       Size\n"
     ]
    },
    {
     "name": "stderr",
     "output_type": "stream",
     "text": [
      "     45/100      8.84G        nan        nan        nan          0        640: 100%|██████████| 554/554 [01:57<00:00,  4.73it/s]\n",
      "                 Class     Images  Instances      Box(P          R      mAP50  mAP50-95): 100%|██████████| 2/2 [00:00<00:00,  7.51it/s]"
     ]
    },
    {
     "name": "stdout",
     "output_type": "stream",
     "text": [
      "                   all         23         10    0.00176        0.9    0.00846    0.00428\n"
     ]
    },
    {
     "name": "stderr",
     "output_type": "stream",
     "text": [
      "\n"
     ]
    },
    {
     "name": "stdout",
     "output_type": "stream",
     "text": [
      "\n",
      "      Epoch    GPU_mem   box_loss   cls_loss   dfl_loss  Instances       Size\n"
     ]
    },
    {
     "name": "stderr",
     "output_type": "stream",
     "text": [
      "     46/100      8.81G        nan        nan        nan          2        640: 100%|██████████| 554/554 [01:56<00:00,  4.74it/s]\n",
      "                 Class     Images  Instances      Box(P          R      mAP50  mAP50-95): 100%|██████████| 2/2 [00:00<00:00,  7.90it/s]"
     ]
    },
    {
     "name": "stdout",
     "output_type": "stream",
     "text": [
      "                   all         23         10    0.00176        0.9    0.00846    0.00428\n"
     ]
    },
    {
     "name": "stderr",
     "output_type": "stream",
     "text": [
      "\n"
     ]
    },
    {
     "name": "stdout",
     "output_type": "stream",
     "text": [
      "\n",
      "      Epoch    GPU_mem   box_loss   cls_loss   dfl_loss  Instances       Size\n"
     ]
    },
    {
     "name": "stderr",
     "output_type": "stream",
     "text": [
      "     47/100      8.78G        nan        nan        nan          7        640: 100%|██████████| 554/554 [01:56<00:00,  4.74it/s]\n",
      "                 Class     Images  Instances      Box(P          R      mAP50  mAP50-95): 100%|██████████| 2/2 [00:00<00:00,  7.35it/s]"
     ]
    },
    {
     "name": "stdout",
     "output_type": "stream",
     "text": [
      "                   all         23         10    0.00176        0.9    0.00846    0.00428\n"
     ]
    },
    {
     "name": "stderr",
     "output_type": "stream",
     "text": [
      "\n"
     ]
    },
    {
     "name": "stdout",
     "output_type": "stream",
     "text": [
      "\n",
      "      Epoch    GPU_mem   box_loss   cls_loss   dfl_loss  Instances       Size\n"
     ]
    },
    {
     "name": "stderr",
     "output_type": "stream",
     "text": [
      "     48/100      8.77G        nan        nan        nan          1        640: 100%|██████████| 554/554 [01:57<00:00,  4.73it/s]\n",
      "                 Class     Images  Instances      Box(P          R      mAP50  mAP50-95): 100%|██████████| 2/2 [00:00<00:00,  7.45it/s]"
     ]
    },
    {
     "name": "stdout",
     "output_type": "stream",
     "text": [
      "                   all         23         10    0.00176        0.9    0.00846    0.00428\n"
     ]
    },
    {
     "name": "stderr",
     "output_type": "stream",
     "text": [
      "\n"
     ]
    },
    {
     "name": "stdout",
     "output_type": "stream",
     "text": [
      "\n",
      "      Epoch    GPU_mem   box_loss   cls_loss   dfl_loss  Instances       Size\n"
     ]
    },
    {
     "name": "stderr",
     "output_type": "stream",
     "text": [
      "     49/100      8.33G        nan        nan        nan          3        640: 100%|██████████| 554/554 [01:56<00:00,  4.74it/s]\n",
      "                 Class     Images  Instances      Box(P          R      mAP50  mAP50-95): 100%|██████████| 2/2 [00:00<00:00,  7.44it/s]"
     ]
    },
    {
     "name": "stdout",
     "output_type": "stream",
     "text": [
      "                   all         23         10    0.00176        0.9    0.00846    0.00428\n"
     ]
    },
    {
     "name": "stderr",
     "output_type": "stream",
     "text": [
      "\n"
     ]
    },
    {
     "name": "stdout",
     "output_type": "stream",
     "text": [
      "\n",
      "      Epoch    GPU_mem   box_loss   cls_loss   dfl_loss  Instances       Size\n"
     ]
    },
    {
     "name": "stderr",
     "output_type": "stream",
     "text": [
      "     50/100      8.81G        nan        nan        nan          1        640: 100%|██████████| 554/554 [01:57<00:00,  4.73it/s]\n",
      "                 Class     Images  Instances      Box(P          R      mAP50  mAP50-95): 100%|██████████| 2/2 [00:00<00:00,  7.88it/s]"
     ]
    },
    {
     "name": "stdout",
     "output_type": "stream",
     "text": [
      "                   all         23         10    0.00176        0.9    0.00846    0.00428\n"
     ]
    },
    {
     "name": "stderr",
     "output_type": "stream",
     "text": [
      "\n"
     ]
    },
    {
     "name": "stdout",
     "output_type": "stream",
     "text": [
      "\n",
      "      Epoch    GPU_mem   box_loss   cls_loss   dfl_loss  Instances       Size\n"
     ]
    },
    {
     "name": "stderr",
     "output_type": "stream",
     "text": [
      "     51/100      8.87G        nan        nan        nan         12        640: 100%|██████████| 554/554 [01:57<00:00,  4.73it/s]\n",
      "                 Class     Images  Instances      Box(P          R      mAP50  mAP50-95): 100%|██████████| 2/2 [00:00<00:00,  7.53it/s]"
     ]
    },
    {
     "name": "stdout",
     "output_type": "stream",
     "text": [
      "                   all         23         10    0.00176        0.9    0.00846    0.00428\n"
     ]
    },
    {
     "name": "stderr",
     "output_type": "stream",
     "text": [
      "\n"
     ]
    },
    {
     "name": "stdout",
     "output_type": "stream",
     "text": [
      "\n",
      "      Epoch    GPU_mem   box_loss   cls_loss   dfl_loss  Instances       Size\n"
     ]
    },
    {
     "name": "stderr",
     "output_type": "stream",
     "text": [
      "     52/100      8.84G        nan        nan        nan          4        640: 100%|██████████| 554/554 [01:56<00:00,  4.74it/s]\n",
      "                 Class     Images  Instances      Box(P          R      mAP50  mAP50-95): 100%|██████████| 2/2 [00:00<00:00,  7.90it/s]"
     ]
    },
    {
     "name": "stdout",
     "output_type": "stream",
     "text": [
      "                   all         23         10    0.00176        0.9    0.00846    0.00428\n"
     ]
    },
    {
     "name": "stderr",
     "output_type": "stream",
     "text": [
      "\n"
     ]
    },
    {
     "name": "stdout",
     "output_type": "stream",
     "text": [
      "\n",
      "      Epoch    GPU_mem   box_loss   cls_loss   dfl_loss  Instances       Size\n"
     ]
    },
    {
     "name": "stderr",
     "output_type": "stream",
     "text": [
      "     53/100       8.8G        nan        nan        nan          0        640: 100%|██████████| 554/554 [01:57<00:00,  4.73it/s]\n",
      "                 Class     Images  Instances      Box(P          R      mAP50  mAP50-95): 100%|██████████| 2/2 [00:00<00:00,  7.89it/s]"
     ]
    },
    {
     "name": "stdout",
     "output_type": "stream",
     "text": [
      "                   all         23         10    0.00176        0.9    0.00846    0.00428\n"
     ]
    },
    {
     "name": "stderr",
     "output_type": "stream",
     "text": [
      "\n"
     ]
    },
    {
     "name": "stdout",
     "output_type": "stream",
     "text": [
      "\n",
      "      Epoch    GPU_mem   box_loss   cls_loss   dfl_loss  Instances       Size\n"
     ]
    },
    {
     "name": "stderr",
     "output_type": "stream",
     "text": [
      "     54/100      8.87G        nan        nan        nan          1        640: 100%|██████████| 554/554 [01:57<00:00,  4.73it/s]\n",
      "                 Class     Images  Instances      Box(P          R      mAP50  mAP50-95): 100%|██████████| 2/2 [00:00<00:00,  7.45it/s]"
     ]
    },
    {
     "name": "stdout",
     "output_type": "stream",
     "text": [
      "                   all         23         10    0.00176        0.9    0.00846    0.00428\n"
     ]
    },
    {
     "name": "stderr",
     "output_type": "stream",
     "text": [
      "\n"
     ]
    },
    {
     "name": "stdout",
     "output_type": "stream",
     "text": [
      "\n",
      "      Epoch    GPU_mem   box_loss   cls_loss   dfl_loss  Instances       Size\n"
     ]
    },
    {
     "name": "stderr",
     "output_type": "stream",
     "text": [
      "     55/100      8.84G        nan        nan        nan          0        640: 100%|██████████| 554/554 [01:56<00:00,  4.74it/s]\n",
      "                 Class     Images  Instances      Box(P          R      mAP50  mAP50-95): 100%|██████████| 2/2 [00:00<00:00,  7.74it/s]"
     ]
    },
    {
     "name": "stdout",
     "output_type": "stream",
     "text": [
      "                   all         23         10    0.00176        0.9    0.00846    0.00428\n"
     ]
    },
    {
     "name": "stderr",
     "output_type": "stream",
     "text": [
      "\n"
     ]
    },
    {
     "name": "stdout",
     "output_type": "stream",
     "text": [
      "\n",
      "      Epoch    GPU_mem   box_loss   cls_loss   dfl_loss  Instances       Size\n"
     ]
    },
    {
     "name": "stderr",
     "output_type": "stream",
     "text": [
      "     56/100      8.81G        nan        nan        nan          0        640: 100%|██████████| 554/554 [01:57<00:00,  4.73it/s]\n",
      "                 Class     Images  Instances      Box(P          R      mAP50  mAP50-95): 100%|██████████| 2/2 [00:00<00:00,  7.53it/s]"
     ]
    },
    {
     "name": "stdout",
     "output_type": "stream",
     "text": [
      "                   all         23         10    0.00176        0.9    0.00846    0.00428\n"
     ]
    },
    {
     "name": "stderr",
     "output_type": "stream",
     "text": [
      "\n"
     ]
    },
    {
     "name": "stdout",
     "output_type": "stream",
     "text": [
      "\n",
      "      Epoch    GPU_mem   box_loss   cls_loss   dfl_loss  Instances       Size\n"
     ]
    },
    {
     "name": "stderr",
     "output_type": "stream",
     "text": [
      "     57/100       8.8G        nan        nan        nan          1        640: 100%|██████████| 554/554 [01:57<00:00,  4.73it/s]\n",
      "                 Class     Images  Instances      Box(P          R      mAP50  mAP50-95): 100%|██████████| 2/2 [00:00<00:00,  7.84it/s]"
     ]
    },
    {
     "name": "stdout",
     "output_type": "stream",
     "text": [
      "                   all         23         10    0.00176        0.9    0.00846    0.00428\n"
     ]
    },
    {
     "name": "stderr",
     "output_type": "stream",
     "text": [
      "\n"
     ]
    },
    {
     "name": "stdout",
     "output_type": "stream",
     "text": [
      "\n",
      "      Epoch    GPU_mem   box_loss   cls_loss   dfl_loss  Instances       Size\n"
     ]
    },
    {
     "name": "stderr",
     "output_type": "stream",
     "text": [
      "     58/100      8.81G        nan        nan        nan          1        640: 100%|██████████| 554/554 [01:56<00:00,  4.74it/s]\n",
      "                 Class     Images  Instances      Box(P          R      mAP50  mAP50-95): 100%|██████████| 2/2 [00:00<00:00,  8.00it/s]"
     ]
    },
    {
     "name": "stdout",
     "output_type": "stream",
     "text": [
      "                   all         23         10    0.00176        0.9    0.00846    0.00428\n"
     ]
    },
    {
     "name": "stderr",
     "output_type": "stream",
     "text": [
      "\n"
     ]
    },
    {
     "name": "stdout",
     "output_type": "stream",
     "text": [
      "\n",
      "      Epoch    GPU_mem   box_loss   cls_loss   dfl_loss  Instances       Size\n"
     ]
    },
    {
     "name": "stderr",
     "output_type": "stream",
     "text": [
      "     59/100      8.77G        nan        nan        nan          1        640: 100%|██████████| 554/554 [01:57<00:00,  4.73it/s]\n",
      "                 Class     Images  Instances      Box(P          R      mAP50  mAP50-95): 100%|██████████| 2/2 [00:00<00:00,  7.92it/s]"
     ]
    },
    {
     "name": "stdout",
     "output_type": "stream",
     "text": [
      "                   all         23         10    0.00176        0.9    0.00846    0.00428\n"
     ]
    },
    {
     "name": "stderr",
     "output_type": "stream",
     "text": [
      "\n"
     ]
    },
    {
     "name": "stdout",
     "output_type": "stream",
     "text": [
      "\n",
      "      Epoch    GPU_mem   box_loss   cls_loss   dfl_loss  Instances       Size\n"
     ]
    },
    {
     "name": "stderr",
     "output_type": "stream",
     "text": [
      "     60/100      8.78G        nan        nan        nan          0        640: 100%|██████████| 554/554 [01:57<00:00,  4.73it/s]\n",
      "                 Class     Images  Instances      Box(P          R      mAP50  mAP50-95): 100%|██████████| 2/2 [00:00<00:00,  7.99it/s]"
     ]
    },
    {
     "name": "stdout",
     "output_type": "stream",
     "text": [
      "                   all         23         10    0.00176        0.9    0.00846    0.00428\n"
     ]
    },
    {
     "name": "stderr",
     "output_type": "stream",
     "text": [
      "\n"
     ]
    },
    {
     "name": "stdout",
     "output_type": "stream",
     "text": [
      "\n",
      "      Epoch    GPU_mem   box_loss   cls_loss   dfl_loss  Instances       Size\n"
     ]
    },
    {
     "name": "stderr",
     "output_type": "stream",
     "text": [
      "     61/100      8.75G        nan        nan        nan          2        640: 100%|██████████| 554/554 [01:56<00:00,  4.74it/s]\n",
      "                 Class     Images  Instances      Box(P          R      mAP50  mAP50-95): 100%|██████████| 2/2 [00:00<00:00,  7.90it/s]"
     ]
    },
    {
     "name": "stdout",
     "output_type": "stream",
     "text": [
      "                   all         23         10    0.00176        0.9    0.00846    0.00428\n"
     ]
    },
    {
     "name": "stderr",
     "output_type": "stream",
     "text": [
      "\n"
     ]
    },
    {
     "name": "stdout",
     "output_type": "stream",
     "text": [
      "\n",
      "      Epoch    GPU_mem   box_loss   cls_loss   dfl_loss  Instances       Size\n"
     ]
    },
    {
     "name": "stderr",
     "output_type": "stream",
     "text": [
      "     62/100      8.88G        nan        nan        nan          9        640: 100%|██████████| 554/554 [01:57<00:00,  4.73it/s]\n",
      "                 Class     Images  Instances      Box(P          R      mAP50  mAP50-95): 100%|██████████| 2/2 [00:00<00:00,  7.53it/s]"
     ]
    },
    {
     "name": "stdout",
     "output_type": "stream",
     "text": [
      "                   all         23         10    0.00176        0.9    0.00846    0.00428\n"
     ]
    },
    {
     "name": "stderr",
     "output_type": "stream",
     "text": [
      "\n"
     ]
    },
    {
     "name": "stdout",
     "output_type": "stream",
     "text": [
      "\n",
      "      Epoch    GPU_mem   box_loss   cls_loss   dfl_loss  Instances       Size\n"
     ]
    },
    {
     "name": "stderr",
     "output_type": "stream",
     "text": [
      "     63/100      8.86G        nan        nan        nan          5        640: 100%|██████████| 554/554 [01:57<00:00,  4.73it/s]\n",
      "                 Class     Images  Instances      Box(P          R      mAP50  mAP50-95): 100%|██████████| 2/2 [00:00<00:00,  7.92it/s]"
     ]
    },
    {
     "name": "stdout",
     "output_type": "stream",
     "text": [
      "                   all         23         10    0.00176        0.9    0.00846    0.00428\n"
     ]
    },
    {
     "name": "stderr",
     "output_type": "stream",
     "text": [
      "\n"
     ]
    },
    {
     "name": "stdout",
     "output_type": "stream",
     "text": [
      "\n",
      "      Epoch    GPU_mem   box_loss   cls_loss   dfl_loss  Instances       Size\n"
     ]
    },
    {
     "name": "stderr",
     "output_type": "stream",
     "text": [
      "     64/100      8.82G        nan        nan        nan          3        640: 100%|██████████| 554/554 [01:57<00:00,  4.73it/s]\n",
      "                 Class     Images  Instances      Box(P          R      mAP50  mAP50-95): 100%|██████████| 2/2 [00:00<00:00,  7.91it/s]"
     ]
    },
    {
     "name": "stdout",
     "output_type": "stream",
     "text": [
      "                   all         23         10    0.00176        0.9    0.00846    0.00428\n"
     ]
    },
    {
     "name": "stderr",
     "output_type": "stream",
     "text": [
      "\n"
     ]
    },
    {
     "name": "stdout",
     "output_type": "stream",
     "text": [
      "\n",
      "      Epoch    GPU_mem   box_loss   cls_loss   dfl_loss  Instances       Size\n"
     ]
    },
    {
     "name": "stderr",
     "output_type": "stream",
     "text": [
      "     65/100      8.87G        nan        nan        nan          4        640: 100%|██████████| 554/554 [01:56<00:00,  4.74it/s]\n",
      "                 Class     Images  Instances      Box(P          R      mAP50  mAP50-95): 100%|██████████| 2/2 [00:00<00:00,  7.44it/s]"
     ]
    },
    {
     "name": "stdout",
     "output_type": "stream",
     "text": [
      "                   all         23         10    0.00176        0.9    0.00846    0.00428\n"
     ]
    },
    {
     "name": "stderr",
     "output_type": "stream",
     "text": [
      "\n"
     ]
    },
    {
     "name": "stdout",
     "output_type": "stream",
     "text": [
      "\n",
      "      Epoch    GPU_mem   box_loss   cls_loss   dfl_loss  Instances       Size\n"
     ]
    },
    {
     "name": "stderr",
     "output_type": "stream",
     "text": [
      "     66/100      8.83G        nan        nan        nan          8        640: 100%|██████████| 554/554 [01:56<00:00,  4.74it/s]\n",
      "                 Class     Images  Instances      Box(P          R      mAP50  mAP50-95): 100%|██████████| 2/2 [00:00<00:00,  7.53it/s]"
     ]
    },
    {
     "name": "stdout",
     "output_type": "stream",
     "text": [
      "                   all         23         10    0.00176        0.9    0.00846    0.00428\n"
     ]
    },
    {
     "name": "stderr",
     "output_type": "stream",
     "text": [
      "\n"
     ]
    },
    {
     "name": "stdout",
     "output_type": "stream",
     "text": [
      "\n",
      "      Epoch    GPU_mem   box_loss   cls_loss   dfl_loss  Instances       Size\n"
     ]
    },
    {
     "name": "stderr",
     "output_type": "stream",
     "text": [
      "     67/100      8.82G        nan        nan        nan          1        640: 100%|██████████| 554/554 [01:57<00:00,  4.72it/s]\n",
      "                 Class     Images  Instances      Box(P          R      mAP50  mAP50-95): 100%|██████████| 2/2 [00:00<00:00,  7.72it/s]"
     ]
    },
    {
     "name": "stdout",
     "output_type": "stream",
     "text": [
      "                   all         23         10    0.00176        0.9    0.00846    0.00428\n"
     ]
    },
    {
     "name": "stderr",
     "output_type": "stream",
     "text": [
      "\n"
     ]
    },
    {
     "name": "stdout",
     "output_type": "stream",
     "text": [
      "\n",
      "      Epoch    GPU_mem   box_loss   cls_loss   dfl_loss  Instances       Size\n"
     ]
    },
    {
     "name": "stderr",
     "output_type": "stream",
     "text": [
      "     68/100      8.84G        nan        nan        nan          8        640: 100%|██████████| 554/554 [01:56<00:00,  4.74it/s]\n",
      "                 Class     Images  Instances      Box(P          R      mAP50  mAP50-95): 100%|██████████| 2/2 [00:00<00:00,  7.44it/s]"
     ]
    },
    {
     "name": "stdout",
     "output_type": "stream",
     "text": [
      "                   all         23         10    0.00176        0.9    0.00846    0.00428\n"
     ]
    },
    {
     "name": "stderr",
     "output_type": "stream",
     "text": [
      "\n"
     ]
    },
    {
     "name": "stdout",
     "output_type": "stream",
     "text": [
      "\n",
      "      Epoch    GPU_mem   box_loss   cls_loss   dfl_loss  Instances       Size\n"
     ]
    },
    {
     "name": "stderr",
     "output_type": "stream",
     "text": [
      "     69/100      8.81G        nan        nan        nan          0        640: 100%|██████████| 554/554 [01:56<00:00,  4.74it/s]\n",
      "                 Class     Images  Instances      Box(P          R      mAP50  mAP50-95): 100%|██████████| 2/2 [00:00<00:00,  7.53it/s]"
     ]
    },
    {
     "name": "stdout",
     "output_type": "stream",
     "text": [
      "                   all         23         10    0.00176        0.9    0.00846    0.00428\n"
     ]
    },
    {
     "name": "stderr",
     "output_type": "stream",
     "text": [
      "\n"
     ]
    },
    {
     "name": "stdout",
     "output_type": "stream",
     "text": [
      "\n",
      "      Epoch    GPU_mem   box_loss   cls_loss   dfl_loss  Instances       Size\n"
     ]
    },
    {
     "name": "stderr",
     "output_type": "stream",
     "text": [
      "     70/100      8.79G        nan        nan        nan          3        640: 100%|██████████| 554/554 [01:57<00:00,  4.73it/s]\n",
      "                 Class     Images  Instances      Box(P          R      mAP50  mAP50-95): 100%|██████████| 2/2 [00:00<00:00,  7.92it/s]"
     ]
    },
    {
     "name": "stdout",
     "output_type": "stream",
     "text": [
      "                   all         23         10    0.00176        0.9    0.00846    0.00428\n"
     ]
    },
    {
     "name": "stderr",
     "output_type": "stream",
     "text": [
      "\n"
     ]
    },
    {
     "name": "stdout",
     "output_type": "stream",
     "text": [
      "\n",
      "      Epoch    GPU_mem   box_loss   cls_loss   dfl_loss  Instances       Size\n"
     ]
    },
    {
     "name": "stderr",
     "output_type": "stream",
     "text": [
      "     71/100       8.8G        nan        nan        nan          9        640: 100%|██████████| 554/554 [01:56<00:00,  4.74it/s]\n",
      "                 Class     Images  Instances      Box(P          R      mAP50  mAP50-95): 100%|██████████| 2/2 [00:00<00:00,  7.53it/s]"
     ]
    },
    {
     "name": "stdout",
     "output_type": "stream",
     "text": [
      "                   all         23         10    0.00176        0.9    0.00846    0.00428\n"
     ]
    },
    {
     "name": "stderr",
     "output_type": "stream",
     "text": [
      "\n"
     ]
    },
    {
     "name": "stdout",
     "output_type": "stream",
     "text": [
      "\n",
      "      Epoch    GPU_mem   box_loss   cls_loss   dfl_loss  Instances       Size\n"
     ]
    },
    {
     "name": "stderr",
     "output_type": "stream",
     "text": [
      "     72/100      8.79G        nan        nan        nan          0        640: 100%|██████████| 554/554 [01:57<00:00,  4.72it/s]\n",
      "                 Class     Images  Instances      Box(P          R      mAP50  mAP50-95): 100%|██████████| 2/2 [00:00<00:00,  7.53it/s]"
     ]
    },
    {
     "name": "stdout",
     "output_type": "stream",
     "text": [
      "                   all         23         10    0.00176        0.9    0.00846    0.00428\n"
     ]
    },
    {
     "name": "stderr",
     "output_type": "stream",
     "text": [
      "\n"
     ]
    },
    {
     "name": "stdout",
     "output_type": "stream",
     "text": [
      "\n",
      "      Epoch    GPU_mem   box_loss   cls_loss   dfl_loss  Instances       Size\n"
     ]
    },
    {
     "name": "stderr",
     "output_type": "stream",
     "text": [
      "     73/100      8.87G        nan        nan        nan          2        640: 100%|██████████| 554/554 [01:56<00:00,  4.74it/s]\n",
      "                 Class     Images  Instances      Box(P          R      mAP50  mAP50-95): 100%|██████████| 2/2 [00:00<00:00,  7.93it/s]"
     ]
    },
    {
     "name": "stdout",
     "output_type": "stream",
     "text": [
      "                   all         23         10    0.00176        0.9    0.00846    0.00428\n"
     ]
    },
    {
     "name": "stderr",
     "output_type": "stream",
     "text": [
      "\n"
     ]
    },
    {
     "name": "stdout",
     "output_type": "stream",
     "text": [
      "\n",
      "      Epoch    GPU_mem   box_loss   cls_loss   dfl_loss  Instances       Size\n"
     ]
    },
    {
     "name": "stderr",
     "output_type": "stream",
     "text": [
      "     74/100      8.86G        nan        nan        nan          8        640: 100%|██████████| 554/554 [01:56<00:00,  4.74it/s]\n",
      "                 Class     Images  Instances      Box(P          R      mAP50  mAP50-95): 100%|██████████| 2/2 [00:00<00:00,  7.42it/s]"
     ]
    },
    {
     "name": "stdout",
     "output_type": "stream",
     "text": [
      "                   all         23         10    0.00176        0.9    0.00846    0.00428\n"
     ]
    },
    {
     "name": "stderr",
     "output_type": "stream",
     "text": [
      "\n"
     ]
    },
    {
     "name": "stdout",
     "output_type": "stream",
     "text": [
      "\n",
      "      Epoch    GPU_mem   box_loss   cls_loss   dfl_loss  Instances       Size\n"
     ]
    },
    {
     "name": "stderr",
     "output_type": "stream",
     "text": [
      "     75/100      8.78G        nan        nan        nan          3        640: 100%|██████████| 554/554 [01:57<00:00,  4.73it/s]\n",
      "                 Class     Images  Instances      Box(P          R      mAP50  mAP50-95): 100%|██████████| 2/2 [00:00<00:00,  7.99it/s]"
     ]
    },
    {
     "name": "stdout",
     "output_type": "stream",
     "text": [
      "                   all         23         10    0.00176        0.9    0.00846    0.00428\n"
     ]
    },
    {
     "name": "stderr",
     "output_type": "stream",
     "text": [
      "\n"
     ]
    },
    {
     "name": "stdout",
     "output_type": "stream",
     "text": [
      "\n",
      "      Epoch    GPU_mem   box_loss   cls_loss   dfl_loss  Instances       Size\n"
     ]
    },
    {
     "name": "stderr",
     "output_type": "stream",
     "text": [
      "     76/100      8.88G        nan        nan        nan          2        640: 100%|██████████| 554/554 [01:57<00:00,  4.72it/s]\n",
      "                 Class     Images  Instances      Box(P          R      mAP50  mAP50-95): 100%|██████████| 2/2 [00:00<00:00,  7.52it/s]"
     ]
    },
    {
     "name": "stdout",
     "output_type": "stream",
     "text": [
      "                   all         23         10    0.00176        0.9    0.00846    0.00428\n"
     ]
    },
    {
     "name": "stderr",
     "output_type": "stream",
     "text": [
      "\n"
     ]
    },
    {
     "name": "stdout",
     "output_type": "stream",
     "text": [
      "\n",
      "      Epoch    GPU_mem   box_loss   cls_loss   dfl_loss  Instances       Size\n"
     ]
    },
    {
     "name": "stderr",
     "output_type": "stream",
     "text": [
      "     77/100      8.85G        nan        nan        nan          1        640: 100%|██████████| 554/554 [01:57<00:00,  4.73it/s]\n",
      "                 Class     Images  Instances      Box(P          R      mAP50  mAP50-95): 100%|██████████| 2/2 [00:00<00:00,  7.92it/s]"
     ]
    },
    {
     "name": "stdout",
     "output_type": "stream",
     "text": [
      "                   all         23         10    0.00176        0.9    0.00846    0.00428\n"
     ]
    },
    {
     "name": "stderr",
     "output_type": "stream",
     "text": [
      "\n"
     ]
    },
    {
     "name": "stdout",
     "output_type": "stream",
     "text": [
      "\n",
      "      Epoch    GPU_mem   box_loss   cls_loss   dfl_loss  Instances       Size\n"
     ]
    },
    {
     "name": "stderr",
     "output_type": "stream",
     "text": [
      "     78/100      8.82G        nan        nan        nan         13        640: 100%|██████████| 554/554 [01:57<00:00,  4.73it/s]\n",
      "                 Class     Images  Instances      Box(P          R      mAP50  mAP50-95): 100%|██████████| 2/2 [00:00<00:00,  7.50it/s]"
     ]
    },
    {
     "name": "stdout",
     "output_type": "stream",
     "text": [
      "                   all         23         10    0.00176        0.9    0.00846    0.00428\n"
     ]
    },
    {
     "name": "stderr",
     "output_type": "stream",
     "text": [
      "\n"
     ]
    },
    {
     "name": "stdout",
     "output_type": "stream",
     "text": [
      "\n",
      "      Epoch    GPU_mem   box_loss   cls_loss   dfl_loss  Instances       Size\n"
     ]
    },
    {
     "name": "stderr",
     "output_type": "stream",
     "text": [
      "     79/100       8.8G        nan        nan        nan          5        640: 100%|██████████| 554/554 [01:57<00:00,  4.72it/s]\n",
      "                 Class     Images  Instances      Box(P          R      mAP50  mAP50-95): 100%|██████████| 2/2 [00:00<00:00,  7.50it/s]"
     ]
    },
    {
     "name": "stdout",
     "output_type": "stream",
     "text": [
      "                   all         23         10    0.00176        0.9    0.00846    0.00428\n"
     ]
    },
    {
     "name": "stderr",
     "output_type": "stream",
     "text": [
      "\n"
     ]
    },
    {
     "name": "stdout",
     "output_type": "stream",
     "text": [
      "\n",
      "      Epoch    GPU_mem   box_loss   cls_loss   dfl_loss  Instances       Size\n"
     ]
    },
    {
     "name": "stderr",
     "output_type": "stream",
     "text": [
      "     80/100      8.81G        nan        nan        nan          0        640: 100%|██████████| 554/554 [01:57<00:00,  4.73it/s]\n",
      "                 Class     Images  Instances      Box(P          R      mAP50  mAP50-95): 100%|██████████| 2/2 [00:00<00:00,  7.69it/s]"
     ]
    },
    {
     "name": "stdout",
     "output_type": "stream",
     "text": [
      "                   all         23         10    0.00176        0.9    0.00846    0.00428\n"
     ]
    },
    {
     "name": "stderr",
     "output_type": "stream",
     "text": [
      "\n"
     ]
    },
    {
     "name": "stdout",
     "output_type": "stream",
     "text": [
      "\n",
      "      Epoch    GPU_mem   box_loss   cls_loss   dfl_loss  Instances       Size\n"
     ]
    },
    {
     "name": "stderr",
     "output_type": "stream",
     "text": [
      "     81/100      8.77G        nan        nan        nan          4        640: 100%|██████████| 554/554 [01:57<00:00,  4.73it/s]\n",
      "                 Class     Images  Instances      Box(P          R      mAP50  mAP50-95): 100%|██████████| 2/2 [00:00<00:00,  7.52it/s]"
     ]
    },
    {
     "name": "stdout",
     "output_type": "stream",
     "text": [
      "                   all         23         10    0.00176        0.9    0.00846    0.00428\n"
     ]
    },
    {
     "name": "stderr",
     "output_type": "stream",
     "text": [
      "\n"
     ]
    },
    {
     "name": "stdout",
     "output_type": "stream",
     "text": [
      "\n",
      "      Epoch    GPU_mem   box_loss   cls_loss   dfl_loss  Instances       Size\n"
     ]
    },
    {
     "name": "stderr",
     "output_type": "stream",
     "text": [
      "     82/100       8.8G        nan        nan        nan          2        640: 100%|██████████| 554/554 [01:57<00:00,  4.73it/s]\n",
      "                 Class     Images  Instances      Box(P          R      mAP50  mAP50-95): 100%|██████████| 2/2 [00:00<00:00,  7.91it/s]"
     ]
    },
    {
     "name": "stdout",
     "output_type": "stream",
     "text": [
      "                   all         23         10    0.00176        0.9    0.00846    0.00428\n"
     ]
    },
    {
     "name": "stderr",
     "output_type": "stream",
     "text": [
      "\n"
     ]
    },
    {
     "name": "stdout",
     "output_type": "stream",
     "text": [
      "\n",
      "      Epoch    GPU_mem   box_loss   cls_loss   dfl_loss  Instances       Size\n"
     ]
    },
    {
     "name": "stderr",
     "output_type": "stream",
     "text": [
      "     83/100      8.78G        nan        nan        nan          5        640: 100%|██████████| 554/554 [01:57<00:00,  4.72it/s]\n",
      "                 Class     Images  Instances      Box(P          R      mAP50  mAP50-95): 100%|██████████| 2/2 [00:00<00:00,  7.93it/s]"
     ]
    },
    {
     "name": "stdout",
     "output_type": "stream",
     "text": [
      "                   all         23         10    0.00176        0.9    0.00846    0.00428\n"
     ]
    },
    {
     "name": "stderr",
     "output_type": "stream",
     "text": [
      "\n"
     ]
    },
    {
     "name": "stdout",
     "output_type": "stream",
     "text": [
      "\n",
      "      Epoch    GPU_mem   box_loss   cls_loss   dfl_loss  Instances       Size\n"
     ]
    },
    {
     "name": "stderr",
     "output_type": "stream",
     "text": [
      "     84/100      8.86G        nan        nan        nan          3        640: 100%|██████████| 554/554 [01:57<00:00,  4.73it/s]\n",
      "                 Class     Images  Instances      Box(P          R      mAP50  mAP50-95): 100%|██████████| 2/2 [00:00<00:00,  7.91it/s]"
     ]
    },
    {
     "name": "stdout",
     "output_type": "stream",
     "text": [
      "                   all         23         10    0.00176        0.9    0.00846    0.00428\n"
     ]
    },
    {
     "name": "stderr",
     "output_type": "stream",
     "text": [
      "\n"
     ]
    },
    {
     "name": "stdout",
     "output_type": "stream",
     "text": [
      "\n",
      "      Epoch    GPU_mem   box_loss   cls_loss   dfl_loss  Instances       Size\n"
     ]
    },
    {
     "name": "stderr",
     "output_type": "stream",
     "text": [
      "     85/100      8.85G        nan        nan        nan          7        640: 100%|██████████| 554/554 [01:57<00:00,  4.73it/s]\n",
      "                 Class     Images  Instances      Box(P          R      mAP50  mAP50-95): 100%|██████████| 2/2 [00:00<00:00,  7.53it/s]"
     ]
    },
    {
     "name": "stdout",
     "output_type": "stream",
     "text": [
      "                   all         23         10    0.00176        0.9    0.00846    0.00428\n"
     ]
    },
    {
     "name": "stderr",
     "output_type": "stream",
     "text": [
      "\n"
     ]
    },
    {
     "name": "stdout",
     "output_type": "stream",
     "text": [
      "\n",
      "      Epoch    GPU_mem   box_loss   cls_loss   dfl_loss  Instances       Size\n"
     ]
    },
    {
     "name": "stderr",
     "output_type": "stream",
     "text": [
      "     86/100       8.8G        nan        nan        nan          4        640: 100%|██████████| 554/554 [01:57<00:00,  4.72it/s]\n",
      "                 Class     Images  Instances      Box(P          R      mAP50  mAP50-95): 100%|██████████| 2/2 [00:00<00:00,  7.53it/s]"
     ]
    },
    {
     "name": "stdout",
     "output_type": "stream",
     "text": [
      "                   all         23         10    0.00176        0.9    0.00846    0.00428\n"
     ]
    },
    {
     "name": "stderr",
     "output_type": "stream",
     "text": [
      "\n"
     ]
    },
    {
     "name": "stdout",
     "output_type": "stream",
     "text": [
      "\n",
      "      Epoch    GPU_mem   box_loss   cls_loss   dfl_loss  Instances       Size\n"
     ]
    },
    {
     "name": "stderr",
     "output_type": "stream",
     "text": [
      "     87/100      8.83G        nan        nan        nan         14        640: 100%|██████████| 554/554 [01:57<00:00,  4.73it/s]\n",
      "                 Class     Images  Instances      Box(P          R      mAP50  mAP50-95): 100%|██████████| 2/2 [00:00<00:00,  7.89it/s]"
     ]
    },
    {
     "name": "stdout",
     "output_type": "stream",
     "text": [
      "                   all         23         10    0.00176        0.9    0.00846    0.00428\n"
     ]
    },
    {
     "name": "stderr",
     "output_type": "stream",
     "text": [
      "\n"
     ]
    },
    {
     "name": "stdout",
     "output_type": "stream",
     "text": [
      "\n",
      "      Epoch    GPU_mem   box_loss   cls_loss   dfl_loss  Instances       Size\n"
     ]
    },
    {
     "name": "stderr",
     "output_type": "stream",
     "text": [
      "     88/100      8.84G        nan        nan        nan         22        640: 100%|██████████| 554/554 [01:57<00:00,  4.73it/s]\n",
      "                 Class     Images  Instances      Box(P          R      mAP50  mAP50-95): 100%|██████████| 2/2 [00:00<00:00,  8.00it/s]"
     ]
    },
    {
     "name": "stdout",
     "output_type": "stream",
     "text": [
      "                   all         23         10    0.00176        0.9    0.00846    0.00428\n"
     ]
    },
    {
     "name": "stderr",
     "output_type": "stream",
     "text": [
      "\n"
     ]
    },
    {
     "name": "stdout",
     "output_type": "stream",
     "text": [
      "\n",
      "      Epoch    GPU_mem   box_loss   cls_loss   dfl_loss  Instances       Size\n"
     ]
    },
    {
     "name": "stderr",
     "output_type": "stream",
     "text": [
      "     89/100      8.82G        nan        nan        nan          4        640: 100%|██████████| 554/554 [01:57<00:00,  4.73it/s]\n",
      "                 Class     Images  Instances      Box(P          R      mAP50  mAP50-95): 100%|██████████| 2/2 [00:00<00:00,  7.67it/s]"
     ]
    },
    {
     "name": "stdout",
     "output_type": "stream",
     "text": [
      "                   all         23         10    0.00176        0.9    0.00846    0.00428\n"
     ]
    },
    {
     "name": "stderr",
     "output_type": "stream",
     "text": [
      "\n"
     ]
    },
    {
     "name": "stdout",
     "output_type": "stream",
     "text": [
      "\n",
      "      Epoch    GPU_mem   box_loss   cls_loss   dfl_loss  Instances       Size\n"
     ]
    },
    {
     "name": "stderr",
     "output_type": "stream",
     "text": [
      "     90/100      8.82G        nan        nan        nan          9        640: 100%|██████████| 554/554 [01:57<00:00,  4.73it/s]\n",
      "                 Class     Images  Instances      Box(P          R      mAP50  mAP50-95): 100%|██████████| 2/2 [00:00<00:00,  8.00it/s]"
     ]
    },
    {
     "name": "stdout",
     "output_type": "stream",
     "text": [
      "                   all         23         10    0.00176        0.9    0.00846    0.00428\n"
     ]
    },
    {
     "name": "stderr",
     "output_type": "stream",
     "text": [
      "\n"
     ]
    },
    {
     "name": "stdout",
     "output_type": "stream",
     "text": [
      "Closing dataloader mosaic\n",
      "\u001B[34m\u001B[1malbumentations: \u001B[0mBlur(p=0.01, blur_limit=(3, 7)), MedianBlur(p=0.01, blur_limit=(3, 7)), ToGray(p=0.01, num_output_channels=3, method='weighted_average'), CLAHE(p=0.01, clip_limit=(1.0, 4.0), tile_grid_size=(8, 8))\n",
      "\n",
      "      Epoch    GPU_mem   box_loss   cls_loss   dfl_loss  Instances       Size\n"
     ]
    },
    {
     "name": "stderr",
     "output_type": "stream",
     "text": [
      "     91/100      8.78G        nan        nan        nan          0        640: 100%|██████████| 554/554 [01:56<00:00,  4.75it/s]\n",
      "                 Class     Images  Instances      Box(P          R      mAP50  mAP50-95): 100%|██████████| 2/2 [00:00<00:00,  7.75it/s]"
     ]
    },
    {
     "name": "stdout",
     "output_type": "stream",
     "text": [
      "                   all         23         10    0.00176        0.9    0.00846    0.00428\n"
     ]
    },
    {
     "name": "stderr",
     "output_type": "stream",
     "text": [
      "\n"
     ]
    },
    {
     "name": "stdout",
     "output_type": "stream",
     "text": [
      "\n",
      "      Epoch    GPU_mem   box_loss   cls_loss   dfl_loss  Instances       Size\n"
     ]
    },
    {
     "name": "stderr",
     "output_type": "stream",
     "text": [
      "     92/100       8.8G        nan        nan        nan          9        640: 100%|██████████| 554/554 [01:55<00:00,  4.78it/s]\n",
      "                 Class     Images  Instances      Box(P          R      mAP50  mAP50-95): 100%|██████████| 2/2 [00:00<00:00,  7.84it/s]"
     ]
    },
    {
     "name": "stdout",
     "output_type": "stream",
     "text": [
      "                   all         23         10    0.00176        0.9    0.00846    0.00428\n"
     ]
    },
    {
     "name": "stderr",
     "output_type": "stream",
     "text": [
      "\n"
     ]
    },
    {
     "name": "stdout",
     "output_type": "stream",
     "text": [
      "\n",
      "      Epoch    GPU_mem   box_loss   cls_loss   dfl_loss  Instances       Size\n"
     ]
    },
    {
     "name": "stderr",
     "output_type": "stream",
     "text": [
      "     93/100       8.8G        nan        nan        nan          0        640: 100%|██████████| 554/554 [01:55<00:00,  4.78it/s]\n",
      "                 Class     Images  Instances      Box(P          R      mAP50  mAP50-95): 100%|██████████| 2/2 [00:00<00:00,  7.91it/s]"
     ]
    },
    {
     "name": "stdout",
     "output_type": "stream",
     "text": [
      "                   all         23         10    0.00176        0.9    0.00846    0.00428\n"
     ]
    },
    {
     "name": "stderr",
     "output_type": "stream",
     "text": [
      "\n"
     ]
    },
    {
     "name": "stdout",
     "output_type": "stream",
     "text": [
      "\n",
      "      Epoch    GPU_mem   box_loss   cls_loss   dfl_loss  Instances       Size\n"
     ]
    },
    {
     "name": "stderr",
     "output_type": "stream",
     "text": [
      "     94/100      8.79G        nan        nan        nan          5        640: 100%|██████████| 554/554 [01:55<00:00,  4.78it/s]\n",
      "                 Class     Images  Instances      Box(P          R      mAP50  mAP50-95): 100%|██████████| 2/2 [00:00<00:00,  7.89it/s]"
     ]
    },
    {
     "name": "stdout",
     "output_type": "stream",
     "text": [
      "                   all         23         10    0.00176        0.9    0.00846    0.00428\n"
     ]
    },
    {
     "name": "stderr",
     "output_type": "stream",
     "text": [
      "\n"
     ]
    },
    {
     "name": "stdout",
     "output_type": "stream",
     "text": [
      "\n",
      "      Epoch    GPU_mem   box_loss   cls_loss   dfl_loss  Instances       Size\n"
     ]
    },
    {
     "name": "stderr",
     "output_type": "stream",
     "text": [
      "     95/100      8.87G        nan        nan        nan          0        640: 100%|██████████| 554/554 [01:56<00:00,  4.76it/s]\n",
      "                 Class     Images  Instances      Box(P          R      mAP50  mAP50-95): 100%|██████████| 2/2 [00:00<00:00,  8.00it/s]"
     ]
    },
    {
     "name": "stdout",
     "output_type": "stream",
     "text": [
      "                   all         23         10    0.00176        0.9    0.00846    0.00428\n"
     ]
    },
    {
     "name": "stderr",
     "output_type": "stream",
     "text": [
      "\n"
     ]
    },
    {
     "name": "stdout",
     "output_type": "stream",
     "text": [
      "\n",
      "      Epoch    GPU_mem   box_loss   cls_loss   dfl_loss  Instances       Size\n"
     ]
    },
    {
     "name": "stderr",
     "output_type": "stream",
     "text": [
      "     96/100      8.84G        nan        nan        nan          0        640: 100%|██████████| 554/554 [01:56<00:00,  4.76it/s]\n",
      "                 Class     Images  Instances      Box(P          R      mAP50  mAP50-95): 100%|██████████| 2/2 [00:00<00:00,  7.44it/s]"
     ]
    },
    {
     "name": "stdout",
     "output_type": "stream",
     "text": [
      "                   all         23         10    0.00176        0.9    0.00846    0.00428\n"
     ]
    },
    {
     "name": "stderr",
     "output_type": "stream",
     "text": [
      "\n"
     ]
    },
    {
     "name": "stdout",
     "output_type": "stream",
     "text": [
      "\n",
      "      Epoch    GPU_mem   box_loss   cls_loss   dfl_loss  Instances       Size\n"
     ]
    },
    {
     "name": "stderr",
     "output_type": "stream",
     "text": [
      "     97/100      8.78G        nan        nan        nan          0        640: 100%|██████████| 554/554 [01:56<00:00,  4.77it/s]\n",
      "                 Class     Images  Instances      Box(P          R      mAP50  mAP50-95): 100%|██████████| 2/2 [00:00<00:00,  8.00it/s]"
     ]
    },
    {
     "name": "stdout",
     "output_type": "stream",
     "text": [
      "                   all         23         10    0.00176        0.9    0.00846    0.00428\n"
     ]
    },
    {
     "name": "stderr",
     "output_type": "stream",
     "text": [
      "\n"
     ]
    },
    {
     "name": "stdout",
     "output_type": "stream",
     "text": [
      "\n",
      "      Epoch    GPU_mem   box_loss   cls_loss   dfl_loss  Instances       Size\n"
     ]
    },
    {
     "name": "stderr",
     "output_type": "stream",
     "text": [
      "     98/100      8.86G        nan        nan        nan          0        640: 100%|██████████| 554/554 [01:56<00:00,  4.76it/s]\n",
      "                 Class     Images  Instances      Box(P          R      mAP50  mAP50-95): 100%|██████████| 2/2 [00:00<00:00,  7.43it/s]"
     ]
    },
    {
     "name": "stdout",
     "output_type": "stream",
     "text": [
      "                   all         23         10    0.00176        0.9    0.00846    0.00428\n"
     ]
    },
    {
     "name": "stderr",
     "output_type": "stream",
     "text": [
      "\n"
     ]
    },
    {
     "name": "stdout",
     "output_type": "stream",
     "text": [
      "\n",
      "      Epoch    GPU_mem   box_loss   cls_loss   dfl_loss  Instances       Size\n"
     ]
    },
    {
     "name": "stderr",
     "output_type": "stream",
     "text": [
      "     99/100      8.85G        nan        nan        nan          0        640: 100%|██████████| 554/554 [01:56<00:00,  4.76it/s]\n",
      "                 Class     Images  Instances      Box(P          R      mAP50  mAP50-95): 100%|██████████| 2/2 [00:00<00:00,  7.49it/s]"
     ]
    },
    {
     "name": "stdout",
     "output_type": "stream",
     "text": [
      "                   all         23         10    0.00176        0.9    0.00846    0.00428\n"
     ]
    },
    {
     "name": "stderr",
     "output_type": "stream",
     "text": [
      "\n"
     ]
    },
    {
     "name": "stdout",
     "output_type": "stream",
     "text": [
      "\n",
      "      Epoch    GPU_mem   box_loss   cls_loss   dfl_loss  Instances       Size\n"
     ]
    },
    {
     "name": "stderr",
     "output_type": "stream",
     "text": [
      "    100/100      8.81G        nan        nan        nan          5        640: 100%|██████████| 554/554 [01:56<00:00,  4.77it/s]\n",
      "                 Class     Images  Instances      Box(P          R      mAP50  mAP50-95): 100%|██████████| 2/2 [00:00<00:00,  7.89it/s]"
     ]
    },
    {
     "name": "stdout",
     "output_type": "stream",
     "text": [
      "                   all         23         10    0.00176        0.9    0.00846    0.00428\n"
     ]
    },
    {
     "name": "stderr",
     "output_type": "stream",
     "text": [
      "\n"
     ]
    },
    {
     "name": "stdout",
     "output_type": "stream",
     "text": [
      "\n",
      "100 epochs completed in 3.315 hours.\n",
      "Optimizer stripped from C:\\Users\\user\\PycharmProjects\\spbu_deep_learning1\\runs\\detect\\train142\\weights\\last.pt, 117.3MB\n",
      "Optimizer stripped from C:\\Users\\user\\PycharmProjects\\spbu_deep_learning1\\runs\\detect\\train142\\weights\\best.pt, 117.3MB\n",
      "\n",
      "Validating C:\\Users\\user\\PycharmProjects\\spbu_deep_learning1\\runs\\detect\\train142\\weights\\best.pt...\n",
      "Ultralytics 8.3.40  Python-3.10.11 torch-2.3.1+cu121 CUDA:0 (NVIDIA GeForce RTX 4070 Ti SUPER, 16376MiB)\n",
      "YOLOv9e summary (fused): 687 layers, 57,377,171 parameters, 0 gradients, 189.1 GFLOPs\n"
     ]
    },
    {
     "name": "stderr",
     "output_type": "stream",
     "text": [
      "                 Class     Images  Instances      Box(P          R      mAP50  mAP50-95): 100%|██████████| 2/2 [00:00<00:00,  6.33it/s]\n"
     ]
    },
    {
     "name": "stdout",
     "output_type": "stream",
     "text": [
      "                   all         23         10    0.00158        0.9     0.0215    0.00375\n",
      "Speed: 0.7ms preprocess, 11.7ms inference, 0.0ms loss, 0.7ms postprocess per image\n",
      "Results saved to \u001B[1mC:\\Users\\user\\PycharmProjects\\spbu_deep_learning1\\runs\\detect\\train142\u001B[0m\n"
     ]
    }
   ],
   "execution_count": 4
  },
  {
   "metadata": {
    "ExecuteTime": {
     "end_time": "2024-12-02T19:54:00.107937Z",
     "start_time": "2024-12-02T19:54:00.092305Z"
    }
   },
   "cell_type": "code",
   "source": "",
   "id": "b31551650000af6f",
   "outputs": [],
   "execution_count": null
  },
  {
   "metadata": {},
   "cell_type": "code",
   "outputs": [],
   "execution_count": null,
   "source": "",
   "id": "2d518c8aeb75a420"
  }
 ],
 "metadata": {
  "kernelspec": {
   "display_name": "Python 3",
   "language": "python",
   "name": "python3"
  },
  "language_info": {
   "codemirror_mode": {
    "name": "ipython",
    "version": 2
   },
   "file_extension": ".py",
   "mimetype": "text/x-python",
   "name": "python",
   "nbconvert_exporter": "python",
   "pygments_lexer": "ipython2",
   "version": "2.7.6"
  }
 },
 "nbformat": 4,
 "nbformat_minor": 5
}
